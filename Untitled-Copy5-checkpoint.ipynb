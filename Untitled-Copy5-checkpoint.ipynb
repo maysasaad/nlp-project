{
 "cells": [
  {
   "cell_type": "markdown",
   "metadata": {},
   "source": [
    "# Final Project Submission\n",
    "Please fill out:\n",
    "\n",
    "1-Student name: Mays Alkhwitar\n",
    "\n",
    "2-Student pace: flex\n",
    "\n",
    "3-Scheduled project review date/time: /\n",
    "\n",
    "4-Instructor name: Mark Barbour\n",
    "\n",
    "5-Blog post URL:https:\n",
    "\n"
   ]
  },
  {
   "cell_type": "markdown",
   "metadata": {},
   "source": [
    "# Brands and Product Emotions\n"
   ]
  },
  {
   "cell_type": "markdown",
   "metadata": {},
   "source": [
    "![image.jpg](Images/image.jpg)\n"
   ]
  },
  {
   "cell_type": "markdown",
   "metadata": {},
   "source": [
    "## Overview"
   ]
  },
  {
   "cell_type": "markdown",
   "metadata": {},
   "source": [
    "Through this project, We will build an NLP model to analyze Twitter sentiment about Apple and Google products,The model can rate the sentiment of a Tweet based on its content. created a predictive classification model that makes it possible to understand the business problem and solve it and report the findings of the final model, including predictions and performance metrics."
   ]
  },
  {
   "cell_type": "markdown",
   "metadata": {},
   "source": [
    "## Business Understanding"
   ]
  },
  {
   "cell_type": "markdown",
   "metadata": {},
   "source": [
    "The goal of this project is to develop  a model that will predict if a tweet was negative, positive or neutral on google and apple products.\n",
    "\n",
    "\n",
    "\n",
    "@@@@@@@@@@@to identify the category where a post was published, based on the text content of the post."
   ]
  },
  {
   "cell_type": "markdown",
   "metadata": {},
   "source": [
    "## Data Understanding"
   ]
  },
  {
   "cell_type": "markdown",
   "metadata": {},
   "source": [
    "This project uses Brands and Product Emotions dataset from CrowdFlower via data.world\n",
    "Which consists of information about customer raters rated the sentiment in  9,093 Tweets The tweets are are about either Apple or Google or any of their respective products and services.as positive, negative, or no emmotion."
   ]
  },
  {
   "cell_type": "markdown",
   "metadata": {},
   "source": [
    "## Data Preparation"
   ]
  },
  {
   "cell_type": "markdown",
   "metadata": {},
   "source": [
    "### Import the necessary libraries"
   ]
  },
  {
   "cell_type": "code",
   "execution_count": 153,
   "metadata": {},
   "outputs": [],
   "source": [
    "import pandas as pd\n"
   ]
  },
  {
   "cell_type": "markdown",
   "metadata": {},
   "source": [
    "After imported all the necessary libraries and functions , we'll need to get the dataset."
   ]
  },
  {
   "cell_type": "markdown",
   "metadata": {},
   "source": [
    "### Importing the dataset¶\n",
    "Let's start by importing the dataset from csv file into a pandas dataframe using pandas read_csv()."
   ]
  },
  {
   "cell_type": "code",
   "execution_count": 154,
   "metadata": {
    "scrolled": false
   },
   "outputs": [
    {
     "data": {
      "text/html": [
       "<div>\n",
       "<style scoped>\n",
       "    .dataframe tbody tr th:only-of-type {\n",
       "        vertical-align: middle;\n",
       "    }\n",
       "\n",
       "    .dataframe tbody tr th {\n",
       "        vertical-align: top;\n",
       "    }\n",
       "\n",
       "    .dataframe thead th {\n",
       "        text-align: right;\n",
       "    }\n",
       "</style>\n",
       "<table border=\"1\" class=\"dataframe\">\n",
       "  <thead>\n",
       "    <tr style=\"text-align: right;\">\n",
       "      <th></th>\n",
       "      <th>tweet_text</th>\n",
       "      <th>emotion_in_tweet_is_directed_at</th>\n",
       "      <th>is_there_an_emotion_directed_at_a_brand_or_product</th>\n",
       "    </tr>\n",
       "  </thead>\n",
       "  <tbody>\n",
       "    <tr>\n",
       "      <th>0</th>\n",
       "      <td>.@wesley83 I have a 3G iPhone. After 3 hrs tweeting at #RISE_Austin, it was dead!  I need to upgrade. Plugin stations at #SXSW.</td>\n",
       "      <td>iPhone</td>\n",
       "      <td>Negative emotion</td>\n",
       "    </tr>\n",
       "    <tr>\n",
       "      <th>1</th>\n",
       "      <td>@jessedee Know about @fludapp ? Awesome iPad/iPhone app that you'll likely appreciate for its design. Also, they're giving free Ts at #SXSW</td>\n",
       "      <td>iPad or iPhone App</td>\n",
       "      <td>Positive emotion</td>\n",
       "    </tr>\n",
       "    <tr>\n",
       "      <th>2</th>\n",
       "      <td>@swonderlin Can not wait for #iPad 2 also. They should sale them down at #SXSW.</td>\n",
       "      <td>iPad</td>\n",
       "      <td>Positive emotion</td>\n",
       "    </tr>\n",
       "    <tr>\n",
       "      <th>3</th>\n",
       "      <td>@sxsw I hope this year's festival isn't as crashy as this year's iPhone app. #sxsw</td>\n",
       "      <td>iPad or iPhone App</td>\n",
       "      <td>Negative emotion</td>\n",
       "    </tr>\n",
       "    <tr>\n",
       "      <th>4</th>\n",
       "      <td>@sxtxstate great stuff on Fri #SXSW: Marissa Mayer (Google), Tim O'Reilly (tech books/conferences) &amp;amp; Matt Mullenweg (Wordpress)</td>\n",
       "      <td>Google</td>\n",
       "      <td>Positive emotion</td>\n",
       "    </tr>\n",
       "  </tbody>\n",
       "</table>\n",
       "</div>"
      ],
      "text/plain": [
       "                                                                                                                                    tweet_text  \\\n",
       "0              .@wesley83 I have a 3G iPhone. After 3 hrs tweeting at #RISE_Austin, it was dead!  I need to upgrade. Plugin stations at #SXSW.   \n",
       "1  @jessedee Know about @fludapp ? Awesome iPad/iPhone app that you'll likely appreciate for its design. Also, they're giving free Ts at #SXSW   \n",
       "2                                                              @swonderlin Can not wait for #iPad 2 also. They should sale them down at #SXSW.   \n",
       "3                                                           @sxsw I hope this year's festival isn't as crashy as this year's iPhone app. #sxsw   \n",
       "4          @sxtxstate great stuff on Fri #SXSW: Marissa Mayer (Google), Tim O'Reilly (tech books/conferences) &amp; Matt Mullenweg (Wordpress)   \n",
       "\n",
       "  emotion_in_tweet_is_directed_at  \\\n",
       "0                          iPhone   \n",
       "1              iPad or iPhone App   \n",
       "2                            iPad   \n",
       "3              iPad or iPhone App   \n",
       "4                          Google   \n",
       "\n",
       "  is_there_an_emotion_directed_at_a_brand_or_product  \n",
       "0                                   Negative emotion  \n",
       "1                                   Positive emotion  \n",
       "2                                   Positive emotion  \n",
       "3                                   Negative emotion  \n",
       "4                                   Positive emotion  "
      ]
     },
     "execution_count": 154,
     "metadata": {},
     "output_type": "execute_result"
    }
   ],
   "source": [
    "# Loading data from csv file  to a data frame\n",
    "# Display the top five rows of the data frame by using .head() method\n",
    "\n",
    "tweets= pd.read_csv(r\"C:/Users/mays8/Downloads/judge-1377884607_tweet_product_company.csv\",encoding = \"ISO-8859-1\")\n",
    "tweets.head()"
   ]
  },
  {
   "cell_type": "code",
   "execution_count": 155,
   "metadata": {
    "scrolled": true
   },
   "outputs": [
    {
     "data": {
      "text/plain": [
       "(9093, 3)"
      ]
     },
     "execution_count": 155,
     "metadata": {},
     "output_type": "execute_result"
    }
   ],
   "source": [
    "tweets.shape"
   ]
  },
  {
   "cell_type": "markdown",
   "metadata": {},
   "source": [
    "### Preprocessing data\n",
    "Now, we'll perform any necessary preprocessing on our dataset before training our model."
   ]
  },
  {
   "cell_type": "markdown",
   "metadata": {},
   "source": [
    "target"
   ]
  },
  {
   "cell_type": "code",
   "execution_count": 156,
   "metadata": {
    "scrolled": false
   },
   "outputs": [
    {
     "data": {
      "text/plain": [
       "No emotion toward brand or product    5389\n",
       "Positive emotion                      2978\n",
       "Negative emotion                       570\n",
       "I can't tell                           156\n",
       "Name: is_there_an_emotion_directed_at_a_brand_or_product, dtype: int64"
      ]
     },
     "execution_count": 156,
     "metadata": {},
     "output_type": "execute_result"
    }
   ],
   "source": [
    "tweets.is_there_an_emotion_directed_at_a_brand_or_product.value_counts()"
   ]
  },
  {
   "cell_type": "markdown",
   "metadata": {},
   "source": [
    "#### Handle Missing Values\n",
    "In this step, we will assess the presence of NaN values in our subset of data."
   ]
  },
  {
   "cell_type": "code",
   "execution_count": 157,
   "metadata": {
    "scrolled": true
   },
   "outputs": [
    {
     "data": {
      "text/plain": [
       "tweet_text                                               1\n",
       "emotion_in_tweet_is_directed_at                       5802\n",
       "is_there_an_emotion_directed_at_a_brand_or_product       0\n",
       "dtype: int64"
      ]
     },
     "execution_count": 157,
     "metadata": {},
     "output_type": "execute_result"
    }
   ],
   "source": [
    "#Checking for missing values\n",
    "tweets.isna().sum()"
   ]
  },
  {
   "cell_type": "code",
   "execution_count": 158,
   "metadata": {
    "scrolled": true
   },
   "outputs": [
    {
     "data": {
      "text/plain": [
       "iPad                               946\n",
       "Apple                              661\n",
       "iPad or iPhone App                 470\n",
       "Google                             430\n",
       "iPhone                             297\n",
       "Other Google product or service    293\n",
       "Android App                         81\n",
       "Android                             78\n",
       "Other Apple product or service      35\n",
       "Name: emotion_in_tweet_is_directed_at, dtype: int64"
      ]
     },
     "execution_count": 158,
     "metadata": {},
     "output_type": "execute_result"
    }
   ],
   "source": [
    "tweets.emotion_in_tweet_is_directed_at.value_counts()"
   ]
  },
  {
   "cell_type": "code",
   "execution_count": 159,
   "metadata": {},
   "outputs": [],
   "source": [
    "tweets[\"emotion_in_tweet_is_directed_at\"].fillna(\"No product\", inplace = True)\n",
    " "
   ]
  },
  {
   "cell_type": "code",
   "execution_count": 160,
   "metadata": {
    "scrolled": true
   },
   "outputs": [
    {
     "data": {
      "text/html": [
       "<div>\n",
       "<style scoped>\n",
       "    .dataframe tbody tr th:only-of-type {\n",
       "        vertical-align: middle;\n",
       "    }\n",
       "\n",
       "    .dataframe tbody tr th {\n",
       "        vertical-align: top;\n",
       "    }\n",
       "\n",
       "    .dataframe thead th {\n",
       "        text-align: right;\n",
       "    }\n",
       "</style>\n",
       "<table border=\"1\" class=\"dataframe\">\n",
       "  <thead>\n",
       "    <tr style=\"text-align: right;\">\n",
       "      <th></th>\n",
       "      <th>tweet_text</th>\n",
       "      <th>emotion_in_tweet_is_directed_at</th>\n",
       "      <th>is_there_an_emotion_directed_at_a_brand_or_product</th>\n",
       "    </tr>\n",
       "  </thead>\n",
       "  <tbody>\n",
       "    <tr>\n",
       "      <th>0</th>\n",
       "      <td>.@wesley83 I have a 3G iPhone. After 3 hrs tweeting at #RISE_Austin, it was dead!  I need to upgrade. Plugin stations at #SXSW.</td>\n",
       "      <td>iPhone</td>\n",
       "      <td>Negative emotion</td>\n",
       "    </tr>\n",
       "    <tr>\n",
       "      <th>1</th>\n",
       "      <td>@jessedee Know about @fludapp ? Awesome iPad/iPhone app that you'll likely appreciate for its design. Also, they're giving free Ts at #SXSW</td>\n",
       "      <td>iPad or iPhone App</td>\n",
       "      <td>Positive emotion</td>\n",
       "    </tr>\n",
       "    <tr>\n",
       "      <th>2</th>\n",
       "      <td>@swonderlin Can not wait for #iPad 2 also. They should sale them down at #SXSW.</td>\n",
       "      <td>iPad</td>\n",
       "      <td>Positive emotion</td>\n",
       "    </tr>\n",
       "    <tr>\n",
       "      <th>3</th>\n",
       "      <td>@sxsw I hope this year's festival isn't as crashy as this year's iPhone app. #sxsw</td>\n",
       "      <td>iPad or iPhone App</td>\n",
       "      <td>Negative emotion</td>\n",
       "    </tr>\n",
       "    <tr>\n",
       "      <th>4</th>\n",
       "      <td>@sxtxstate great stuff on Fri #SXSW: Marissa Mayer (Google), Tim O'Reilly (tech books/conferences) &amp;amp; Matt Mullenweg (Wordpress)</td>\n",
       "      <td>Google</td>\n",
       "      <td>Positive emotion</td>\n",
       "    </tr>\n",
       "    <tr>\n",
       "      <th>...</th>\n",
       "      <td>...</td>\n",
       "      <td>...</td>\n",
       "      <td>...</td>\n",
       "    </tr>\n",
       "    <tr>\n",
       "      <th>9088</th>\n",
       "      <td>Ipad everywhere. #SXSW {link}</td>\n",
       "      <td>iPad</td>\n",
       "      <td>Positive emotion</td>\n",
       "    </tr>\n",
       "    <tr>\n",
       "      <th>9089</th>\n",
       "      <td>Wave, buzz... RT @mention We interrupt your regularly scheduled #sxsw geek programming with big news {link}  #google #circles</td>\n",
       "      <td>No product</td>\n",
       "      <td>No emotion toward brand or product</td>\n",
       "    </tr>\n",
       "    <tr>\n",
       "      <th>9090</th>\n",
       "      <td>Google's Zeiger, a physician never reported potential AE. Yet FDA relies on physicians. &amp;quot;We're operating w/out data.&amp;quot; #sxsw #health2dev</td>\n",
       "      <td>No product</td>\n",
       "      <td>No emotion toward brand or product</td>\n",
       "    </tr>\n",
       "    <tr>\n",
       "      <th>9091</th>\n",
       "      <td>Some Verizon iPhone customers complained their time fell back an hour this weekend.  Of course they were the New Yorkers who attended #SXSW.</td>\n",
       "      <td>No product</td>\n",
       "      <td>No emotion toward brand or product</td>\n",
       "    </tr>\n",
       "    <tr>\n",
       "      <th>9092</th>\n",
       "      <td>Ï¡Ïàü_ÊÎÒ£Áââ_£â_ÛâRT @mention Google Tests ÛÏCheck-in OffersÛ At #SXSW {link}</td>\n",
       "      <td>No product</td>\n",
       "      <td>No emotion toward brand or product</td>\n",
       "    </tr>\n",
       "  </tbody>\n",
       "</table>\n",
       "<p>9092 rows × 3 columns</p>\n",
       "</div>"
      ],
      "text/plain": [
       "                                                                                                                                             tweet_text  \\\n",
       "0                       .@wesley83 I have a 3G iPhone. After 3 hrs tweeting at #RISE_Austin, it was dead!  I need to upgrade. Plugin stations at #SXSW.   \n",
       "1           @jessedee Know about @fludapp ? Awesome iPad/iPhone app that you'll likely appreciate for its design. Also, they're giving free Ts at #SXSW   \n",
       "2                                                                       @swonderlin Can not wait for #iPad 2 also. They should sale them down at #SXSW.   \n",
       "3                                                                    @sxsw I hope this year's festival isn't as crashy as this year's iPhone app. #sxsw   \n",
       "4                   @sxtxstate great stuff on Fri #SXSW: Marissa Mayer (Google), Tim O'Reilly (tech books/conferences) &amp; Matt Mullenweg (Wordpress)   \n",
       "...                                                                                                                                                 ...   \n",
       "9088                                                                                                                      Ipad everywhere. #SXSW {link}   \n",
       "9089                      Wave, buzz... RT @mention We interrupt your regularly scheduled #sxsw geek programming with big news {link}  #google #circles   \n",
       "9090  Google's Zeiger, a physician never reported potential AE. Yet FDA relies on physicians. &quot;We're operating w/out data.&quot; #sxsw #health2dev   \n",
       "9091       Some Verizon iPhone customers complained their time fell back an hour this weekend.  Of course they were the New Yorkers who attended #SXSW.   \n",
       "9092                                           Ï¡Ïàü_ÊÎÒ£Áââ_£â_ÛâRT @mention Google Tests ÛÏCheck-in OffersÛ At #SXSW {link}   \n",
       "\n",
       "     emotion_in_tweet_is_directed_at  \\\n",
       "0                             iPhone   \n",
       "1                 iPad or iPhone App   \n",
       "2                               iPad   \n",
       "3                 iPad or iPhone App   \n",
       "4                             Google   \n",
       "...                              ...   \n",
       "9088                            iPad   \n",
       "9089                      No product   \n",
       "9090                      No product   \n",
       "9091                      No product   \n",
       "9092                      No product   \n",
       "\n",
       "     is_there_an_emotion_directed_at_a_brand_or_product  \n",
       "0                                      Negative emotion  \n",
       "1                                      Positive emotion  \n",
       "2                                      Positive emotion  \n",
       "3                                      Negative emotion  \n",
       "4                                      Positive emotion  \n",
       "...                                                 ...  \n",
       "9088                                   Positive emotion  \n",
       "9089                 No emotion toward brand or product  \n",
       "9090                 No emotion toward brand or product  \n",
       "9091                 No emotion toward brand or product  \n",
       "9092                 No emotion toward brand or product  \n",
       "\n",
       "[9092 rows x 3 columns]"
      ]
     },
     "execution_count": 160,
     "metadata": {},
     "output_type": "execute_result"
    }
   ],
   "source": [
    "tweets.dropna()"
   ]
  },
  {
   "cell_type": "code",
   "execution_count": 161,
   "metadata": {
    "scrolled": false
   },
   "outputs": [
    {
     "data": {
      "text/html": [
       "<div>\n",
       "<style scoped>\n",
       "    .dataframe tbody tr th:only-of-type {\n",
       "        vertical-align: middle;\n",
       "    }\n",
       "\n",
       "    .dataframe tbody tr th {\n",
       "        vertical-align: top;\n",
       "    }\n",
       "\n",
       "    .dataframe thead th {\n",
       "        text-align: right;\n",
       "    }\n",
       "</style>\n",
       "<table border=\"1\" class=\"dataframe\">\n",
       "  <thead>\n",
       "    <tr style=\"text-align: right;\">\n",
       "      <th></th>\n",
       "      <th>tweet_text</th>\n",
       "      <th>product</th>\n",
       "      <th>catogory</th>\n",
       "    </tr>\n",
       "  </thead>\n",
       "  <tbody>\n",
       "    <tr>\n",
       "      <th>0</th>\n",
       "      <td>.@wesley83 I have a 3G iPhone. After 3 hrs tweeting at #RISE_Austin, it was dead!  I need to upgrade. Plugin stations at #SXSW.</td>\n",
       "      <td>iPhone</td>\n",
       "      <td>Negative emotion</td>\n",
       "    </tr>\n",
       "    <tr>\n",
       "      <th>1</th>\n",
       "      <td>@jessedee Know about @fludapp ? Awesome iPad/iPhone app that you'll likely appreciate for its design. Also, they're giving free Ts at #SXSW</td>\n",
       "      <td>iPad or iPhone App</td>\n",
       "      <td>Positive emotion</td>\n",
       "    </tr>\n",
       "    <tr>\n",
       "      <th>2</th>\n",
       "      <td>@swonderlin Can not wait for #iPad 2 also. They should sale them down at #SXSW.</td>\n",
       "      <td>iPad</td>\n",
       "      <td>Positive emotion</td>\n",
       "    </tr>\n",
       "    <tr>\n",
       "      <th>3</th>\n",
       "      <td>@sxsw I hope this year's festival isn't as crashy as this year's iPhone app. #sxsw</td>\n",
       "      <td>iPad or iPhone App</td>\n",
       "      <td>Negative emotion</td>\n",
       "    </tr>\n",
       "    <tr>\n",
       "      <th>4</th>\n",
       "      <td>@sxtxstate great stuff on Fri #SXSW: Marissa Mayer (Google), Tim O'Reilly (tech books/conferences) &amp;amp; Matt Mullenweg (Wordpress)</td>\n",
       "      <td>Google</td>\n",
       "      <td>Positive emotion</td>\n",
       "    </tr>\n",
       "    <tr>\n",
       "      <th>...</th>\n",
       "      <td>...</td>\n",
       "      <td>...</td>\n",
       "      <td>...</td>\n",
       "    </tr>\n",
       "    <tr>\n",
       "      <th>9088</th>\n",
       "      <td>Ipad everywhere. #SXSW {link}</td>\n",
       "      <td>iPad</td>\n",
       "      <td>Positive emotion</td>\n",
       "    </tr>\n",
       "    <tr>\n",
       "      <th>9089</th>\n",
       "      <td>Wave, buzz... RT @mention We interrupt your regularly scheduled #sxsw geek programming with big news {link}  #google #circles</td>\n",
       "      <td>No product</td>\n",
       "      <td>No emotion toward brand or product</td>\n",
       "    </tr>\n",
       "    <tr>\n",
       "      <th>9090</th>\n",
       "      <td>Google's Zeiger, a physician never reported potential AE. Yet FDA relies on physicians. &amp;quot;We're operating w/out data.&amp;quot; #sxsw #health2dev</td>\n",
       "      <td>No product</td>\n",
       "      <td>No emotion toward brand or product</td>\n",
       "    </tr>\n",
       "    <tr>\n",
       "      <th>9091</th>\n",
       "      <td>Some Verizon iPhone customers complained their time fell back an hour this weekend.  Of course they were the New Yorkers who attended #SXSW.</td>\n",
       "      <td>No product</td>\n",
       "      <td>No emotion toward brand or product</td>\n",
       "    </tr>\n",
       "    <tr>\n",
       "      <th>9092</th>\n",
       "      <td>Ï¡Ïàü_ÊÎÒ£Áââ_£â_ÛâRT @mention Google Tests ÛÏCheck-in OffersÛ At #SXSW {link}</td>\n",
       "      <td>No product</td>\n",
       "      <td>No emotion toward brand or product</td>\n",
       "    </tr>\n",
       "  </tbody>\n",
       "</table>\n",
       "<p>9093 rows × 3 columns</p>\n",
       "</div>"
      ],
      "text/plain": [
       "                                                                                                                                             tweet_text  \\\n",
       "0                       .@wesley83 I have a 3G iPhone. After 3 hrs tweeting at #RISE_Austin, it was dead!  I need to upgrade. Plugin stations at #SXSW.   \n",
       "1           @jessedee Know about @fludapp ? Awesome iPad/iPhone app that you'll likely appreciate for its design. Also, they're giving free Ts at #SXSW   \n",
       "2                                                                       @swonderlin Can not wait for #iPad 2 also. They should sale them down at #SXSW.   \n",
       "3                                                                    @sxsw I hope this year's festival isn't as crashy as this year's iPhone app. #sxsw   \n",
       "4                   @sxtxstate great stuff on Fri #SXSW: Marissa Mayer (Google), Tim O'Reilly (tech books/conferences) &amp; Matt Mullenweg (Wordpress)   \n",
       "...                                                                                                                                                 ...   \n",
       "9088                                                                                                                      Ipad everywhere. #SXSW {link}   \n",
       "9089                      Wave, buzz... RT @mention We interrupt your regularly scheduled #sxsw geek programming with big news {link}  #google #circles   \n",
       "9090  Google's Zeiger, a physician never reported potential AE. Yet FDA relies on physicians. &quot;We're operating w/out data.&quot; #sxsw #health2dev   \n",
       "9091       Some Verizon iPhone customers complained their time fell back an hour this weekend.  Of course they were the New Yorkers who attended #SXSW.   \n",
       "9092                                           Ï¡Ïàü_ÊÎÒ£Áââ_£â_ÛâRT @mention Google Tests ÛÏCheck-in OffersÛ At #SXSW {link}   \n",
       "\n",
       "                 product                            catogory  \n",
       "0                 iPhone                    Negative emotion  \n",
       "1     iPad or iPhone App                    Positive emotion  \n",
       "2                   iPad                    Positive emotion  \n",
       "3     iPad or iPhone App                    Negative emotion  \n",
       "4                 Google                    Positive emotion  \n",
       "...                  ...                                 ...  \n",
       "9088                iPad                    Positive emotion  \n",
       "9089          No product  No emotion toward brand or product  \n",
       "9090          No product  No emotion toward brand or product  \n",
       "9091          No product  No emotion toward brand or product  \n",
       "9092          No product  No emotion toward brand or product  \n",
       "\n",
       "[9093 rows x 3 columns]"
      ]
     },
     "execution_count": 161,
     "metadata": {},
     "output_type": "execute_result"
    }
   ],
   "source": [
    "tweets.rename(columns = {'emotion_in_tweet_is_directed_at':'product', 'is_there_an_emotion_directed_at_a_brand_or_product':'catogory'}, inplace = True)\n",
    "tweets"
   ]
  },
  {
   "cell_type": "code",
   "execution_count": null,
   "metadata": {},
   "outputs": [],
   "source": []
  },
  {
   "cell_type": "code",
   "execution_count": 162,
   "metadata": {
    "scrolled": false
   },
   "outputs": [
    {
     "data": {
      "text/html": [
       "<div>\n",
       "<style scoped>\n",
       "    .dataframe tbody tr th:only-of-type {\n",
       "        vertical-align: middle;\n",
       "    }\n",
       "\n",
       "    .dataframe tbody tr th {\n",
       "        vertical-align: top;\n",
       "    }\n",
       "\n",
       "    .dataframe thead th {\n",
       "        text-align: right;\n",
       "    }\n",
       "</style>\n",
       "<table border=\"1\" class=\"dataframe\">\n",
       "  <thead>\n",
       "    <tr style=\"text-align: right;\">\n",
       "      <th></th>\n",
       "      <th>tweet_text</th>\n",
       "      <th>product</th>\n",
       "      <th>catogory</th>\n",
       "    </tr>\n",
       "  </thead>\n",
       "  <tbody>\n",
       "    <tr>\n",
       "      <th>90</th>\n",
       "      <td>Thanks to @mention for publishing the news of @mention new medical Apps at the #sxswi conf. blog {link} #sxsw #sxswh</td>\n",
       "      <td>No product</td>\n",
       "      <td>I can't tell</td>\n",
       "    </tr>\n",
       "    <tr>\n",
       "      <th>102</th>\n",
       "      <td>ÛÏ@mention &amp;quot;Apple has opened a pop-up store in Austin so the nerds in town for #SXSW can get their new iPads. {link} #wow</td>\n",
       "      <td>No product</td>\n",
       "      <td>I can't tell</td>\n",
       "    </tr>\n",
       "    <tr>\n",
       "      <th>237</th>\n",
       "      <td>Just what America needs. RT @mention Google to Launch Major New Social Network Called Circles, Possibly Today {link} #sxsw</td>\n",
       "      <td>No product</td>\n",
       "      <td>I can't tell</td>\n",
       "    </tr>\n",
       "    <tr>\n",
       "      <th>341</th>\n",
       "      <td>The queue at the Apple Store in Austin is FOUR blocks long. Crazy stuff! #sxsw</td>\n",
       "      <td>No product</td>\n",
       "      <td>I can't tell</td>\n",
       "    </tr>\n",
       "    <tr>\n",
       "      <th>368</th>\n",
       "      <td>Hope it's better than wave RT @mention Buzz is: Google's previewing a social networking platform at #SXSW: {link}</td>\n",
       "      <td>No product</td>\n",
       "      <td>I can't tell</td>\n",
       "    </tr>\n",
       "    <tr>\n",
       "      <th>...</th>\n",
       "      <td>...</td>\n",
       "      <td>...</td>\n",
       "      <td>...</td>\n",
       "    </tr>\n",
       "    <tr>\n",
       "      <th>9020</th>\n",
       "      <td>It's funny watching a room full of people hold their iPad in the air to take a photo. Like a room full of tablets staring you down. #SXSW</td>\n",
       "      <td>No product</td>\n",
       "      <td>I can't tell</td>\n",
       "    </tr>\n",
       "    <tr>\n",
       "      <th>9032</th>\n",
       "      <td>@mention yeah, we have @mention , Google has nothing on us :) #SXSW</td>\n",
       "      <td>No product</td>\n",
       "      <td>I can't tell</td>\n",
       "    </tr>\n",
       "    <tr>\n",
       "      <th>9037</th>\n",
       "      <td>@mention Yes, the Google presentation was not exactly what I was expecting. #sxsw</td>\n",
       "      <td>No product</td>\n",
       "      <td>I can't tell</td>\n",
       "    </tr>\n",
       "    <tr>\n",
       "      <th>9058</th>\n",
       "      <td>&amp;quot;Do you know what Apple is really good at? Making you feel bad about your Xmas present!&amp;quot; - Seth Meyers on iPad2 #sxsw #doyoureallyneedthat?</td>\n",
       "      <td>No product</td>\n",
       "      <td>I can't tell</td>\n",
       "    </tr>\n",
       "    <tr>\n",
       "      <th>9066</th>\n",
       "      <td>How much you want to bet Apple is disproportionately stocking the #SXSW pop-up store with iPad 2? The influencer/hipsters thank you</td>\n",
       "      <td>Apple</td>\n",
       "      <td>I can't tell</td>\n",
       "    </tr>\n",
       "  </tbody>\n",
       "</table>\n",
       "<p>156 rows × 3 columns</p>\n",
       "</div>"
      ],
      "text/plain": [
       "                                                                                                                                                 tweet_text  \\\n",
       "90                                     Thanks to @mention for publishing the news of @mention new medical Apps at the #sxswi conf. blog {link} #sxsw #sxswh   \n",
       "102                         ÛÏ@mention &quot;Apple has opened a pop-up store in Austin so the nerds in town for #SXSW can get their new iPads. {link} #wow   \n",
       "237                              Just what America needs. RT @mention Google to Launch Major New Social Network Called Circles, Possibly Today {link} #sxsw   \n",
       "341                                                                          The queue at the Apple Store in Austin is FOUR blocks long. Crazy stuff! #sxsw   \n",
       "368                                       Hope it's better than wave RT @mention Buzz is: Google's previewing a social networking platform at #SXSW: {link}   \n",
       "...                                                                                                                                                     ...   \n",
       "9020              It's funny watching a room full of people hold their iPad in the air to take a photo. Like a room full of tablets staring you down. #SXSW   \n",
       "9032                                                                                    @mention yeah, we have @mention , Google has nothing on us :) #SXSW   \n",
       "9037                                                                      @mention Yes, the Google presentation was not exactly what I was expecting. #sxsw   \n",
       "9058  &quot;Do you know what Apple is really good at? Making you feel bad about your Xmas present!&quot; - Seth Meyers on iPad2 #sxsw #doyoureallyneedthat?   \n",
       "9066                    How much you want to bet Apple is disproportionately stocking the #SXSW pop-up store with iPad 2? The influencer/hipsters thank you   \n",
       "\n",
       "         product      catogory  \n",
       "90    No product  I can't tell  \n",
       "102   No product  I can't tell  \n",
       "237   No product  I can't tell  \n",
       "341   No product  I can't tell  \n",
       "368   No product  I can't tell  \n",
       "...          ...           ...  \n",
       "9020  No product  I can't tell  \n",
       "9032  No product  I can't tell  \n",
       "9037  No product  I can't tell  \n",
       "9058  No product  I can't tell  \n",
       "9066       Apple  I can't tell  \n",
       "\n",
       "[156 rows x 3 columns]"
      ]
     },
     "execution_count": 162,
     "metadata": {},
     "output_type": "execute_result"
    }
   ],
   "source": [
    "pd.set_option(\"display.max_colwidth\", 300)\n",
    "tweets[tweets['catogory']==\"I can't tell\"]"
   ]
  },
  {
   "cell_type": "code",
   "execution_count": 163,
   "metadata": {
    "scrolled": true
   },
   "outputs": [
    {
     "data": {
      "text/plain": [
       "No emotion toward brand or product    5389\n",
       "Positive emotion                      2978\n",
       "Negative emotion                       570\n",
       "Name: catogory, dtype: int64"
      ]
     },
     "execution_count": 163,
     "metadata": {},
     "output_type": "execute_result"
    }
   ],
   "source": [
    "tweets = tweets[tweets['catogory']!=\"I can't tell\"]\n",
    "tweets['catogory'].value_counts()"
   ]
  },
  {
   "cell_type": "markdown",
   "metadata": {},
   "source": [
    "Checking for Duplicates"
   ]
  },
  {
   "cell_type": "code",
   "execution_count": 164,
   "metadata": {
    "scrolled": true
   },
   "outputs": [
    {
     "data": {
      "text/plain": [
       "22"
      ]
     },
     "execution_count": 164,
     "metadata": {},
     "output_type": "execute_result"
    }
   ],
   "source": [
    "len(tweets[tweets.duplicated()])"
   ]
  },
  {
   "cell_type": "code",
   "execution_count": 165,
   "metadata": {
    "scrolled": true
   },
   "outputs": [
    {
     "data": {
      "text/html": [
       "<div>\n",
       "<style scoped>\n",
       "    .dataframe tbody tr th:only-of-type {\n",
       "        vertical-align: middle;\n",
       "    }\n",
       "\n",
       "    .dataframe tbody tr th {\n",
       "        vertical-align: top;\n",
       "    }\n",
       "\n",
       "    .dataframe thead th {\n",
       "        text-align: right;\n",
       "    }\n",
       "</style>\n",
       "<table border=\"1\" class=\"dataframe\">\n",
       "  <thead>\n",
       "    <tr style=\"text-align: right;\">\n",
       "      <th></th>\n",
       "      <th>tweet_text</th>\n",
       "      <th>product</th>\n",
       "      <th>catogory</th>\n",
       "    </tr>\n",
       "  </thead>\n",
       "  <tbody>\n",
       "    <tr>\n",
       "      <th>468</th>\n",
       "      <td>Before It Even Begins, Apple Wins #SXSW {link}</td>\n",
       "      <td>Apple</td>\n",
       "      <td>Positive emotion</td>\n",
       "    </tr>\n",
       "    <tr>\n",
       "      <th>776</th>\n",
       "      <td>Google to Launch Major New Social Network Called Circles, Possibly Today {link} #sxsw</td>\n",
       "      <td>No product</td>\n",
       "      <td>No emotion toward brand or product</td>\n",
       "    </tr>\n",
       "    <tr>\n",
       "      <th>2232</th>\n",
       "      <td>Marissa Mayer: Google Will Connect the Digital &amp;amp; Physical Worlds Through Mobile - {link} #sxsw</td>\n",
       "      <td>No product</td>\n",
       "      <td>No emotion toward brand or product</td>\n",
       "    </tr>\n",
       "    <tr>\n",
       "      <th>2559</th>\n",
       "      <td>Counting down the days to #sxsw plus strong Canadian dollar means stock up on Apple gear</td>\n",
       "      <td>Apple</td>\n",
       "      <td>Positive emotion</td>\n",
       "    </tr>\n",
       "    <tr>\n",
       "      <th>3950</th>\n",
       "      <td>Really enjoying the changes in Gowalla 3.0 for Android! Looking forward to seeing what else they &amp;amp; Foursquare have up their sleeves at #SXSW</td>\n",
       "      <td>Android App</td>\n",
       "      <td>Positive emotion</td>\n",
       "    </tr>\n",
       "    <tr>\n",
       "      <th>3962</th>\n",
       "      <td>#SXSW is just starting, #CTIA is around the corner and #googleio is only a hop skip and a jump from there, good time to be an #android fan</td>\n",
       "      <td>Android</td>\n",
       "      <td>Positive emotion</td>\n",
       "    </tr>\n",
       "    <tr>\n",
       "      <th>4897</th>\n",
       "      <td>Oh. My. God. The #SXSW app for iPad is pure, unadulterated awesome. It's easier to browse events on iPad than on the website!!!</td>\n",
       "      <td>iPad or iPhone App</td>\n",
       "      <td>Positive emotion</td>\n",
       "    </tr>\n",
       "    <tr>\n",
       "      <th>5338</th>\n",
       "      <td>RT @mention ÷¼ GO BEYOND BORDERS! ÷_ {link} ã_ #edchat #musedchat #sxsw #sxswi #classical #newTwitter</td>\n",
       "      <td>No product</td>\n",
       "      <td>No emotion toward brand or product</td>\n",
       "    </tr>\n",
       "    <tr>\n",
       "      <th>5341</th>\n",
       "      <td>RT @mention ÷¼ Happy Woman's Day! Make love, not fuss! ÷_ {link} ã_ #edchat #musedchat #sxsw #sxswi #classical #newTwitter</td>\n",
       "      <td>No product</td>\n",
       "      <td>No emotion toward brand or product</td>\n",
       "    </tr>\n",
       "    <tr>\n",
       "      <th>5881</th>\n",
       "      <td>RT @mention Google to Launch Major New Social Network Called Circles, Possibly Today {link} #sxsw</td>\n",
       "      <td>No product</td>\n",
       "      <td>No emotion toward brand or product</td>\n",
       "    </tr>\n",
       "    <tr>\n",
       "      <th>5882</th>\n",
       "      <td>RT @mention Google to Launch Major New Social Network Called Circles, Possibly Today {link} #SXSW</td>\n",
       "      <td>No product</td>\n",
       "      <td>No emotion toward brand or product</td>\n",
       "    </tr>\n",
       "    <tr>\n",
       "      <th>5883</th>\n",
       "      <td>RT @mention Google to Launch Major New Social Network Called Circles, Possibly Today {link} #sxsw</td>\n",
       "      <td>No product</td>\n",
       "      <td>No emotion toward brand or product</td>\n",
       "    </tr>\n",
       "    <tr>\n",
       "      <th>5884</th>\n",
       "      <td>RT @mention Google to Launch Major New Social Network Called Circles, Possibly Today {link} #SXSW</td>\n",
       "      <td>No product</td>\n",
       "      <td>No emotion toward brand or product</td>\n",
       "    </tr>\n",
       "    <tr>\n",
       "      <th>5885</th>\n",
       "      <td>RT @mention Google to Launch Major New Social Network Called Circles, Possibly Today {link} #sxsw</td>\n",
       "      <td>No product</td>\n",
       "      <td>No emotion toward brand or product</td>\n",
       "    </tr>\n",
       "    <tr>\n",
       "      <th>6296</th>\n",
       "      <td>RT @mention Marissa Mayer: Google Will Connect the Digital &amp;amp; Physical Worlds Through Mobile - {link} #sxsw</td>\n",
       "      <td>Google</td>\n",
       "      <td>Positive emotion</td>\n",
       "    </tr>\n",
       "    <tr>\n",
       "      <th>6297</th>\n",
       "      <td>RT @mention Marissa Mayer: Google Will Connect the Digital &amp;amp; Physical Worlds Through Mobile - {link} #SXSW</td>\n",
       "      <td>No product</td>\n",
       "      <td>No emotion toward brand or product</td>\n",
       "    </tr>\n",
       "    <tr>\n",
       "      <th>6298</th>\n",
       "      <td>RT @mention Marissa Mayer: Google Will Connect the Digital &amp;amp; Physical Worlds Through Mobile - {link} #sxsw</td>\n",
       "      <td>Google</td>\n",
       "      <td>Positive emotion</td>\n",
       "    </tr>\n",
       "    <tr>\n",
       "      <th>6299</th>\n",
       "      <td>RT @mention Marissa Mayer: Google Will Connect the Digital &amp;amp; Physical Worlds Through Mobile - {link} #SXSW</td>\n",
       "      <td>No product</td>\n",
       "      <td>No emotion toward brand or product</td>\n",
       "    </tr>\n",
       "    <tr>\n",
       "      <th>6300</th>\n",
       "      <td>RT @mention Marissa Mayer: Google Will Connect the Digital &amp;amp; Physical Worlds Through Mobile - {link} #sxsw</td>\n",
       "      <td>No product</td>\n",
       "      <td>No emotion toward brand or product</td>\n",
       "    </tr>\n",
       "    <tr>\n",
       "      <th>6546</th>\n",
       "      <td>RT @mention RT @mention Google to Launch Major New Social Network Called Circles, Possibly Today {link} #sxsw</td>\n",
       "      <td>No product</td>\n",
       "      <td>No emotion toward brand or product</td>\n",
       "    </tr>\n",
       "    <tr>\n",
       "      <th>8483</th>\n",
       "      <td>I just noticed DST is coming this weekend. How many iPhone users will be an hour late at SXSW come Sunday morning? #SXSW #iPhone</td>\n",
       "      <td>iPhone</td>\n",
       "      <td>Negative emotion</td>\n",
       "    </tr>\n",
       "    <tr>\n",
       "      <th>8747</th>\n",
       "      <td>Need to buy an iPad2 while I'm in Austin at #sxsw. Not sure if I'll need to Q up at an Austin Apple store?</td>\n",
       "      <td>iPad</td>\n",
       "      <td>Positive emotion</td>\n",
       "    </tr>\n",
       "  </tbody>\n",
       "</table>\n",
       "</div>"
      ],
      "text/plain": [
       "                                                                                                                                            tweet_text  \\\n",
       "468                                                                                                     Before It Even Begins, Apple Wins #SXSW {link}   \n",
       "776                                                              Google to Launch Major New Social Network Called Circles, Possibly Today {link} #sxsw   \n",
       "2232                                                Marissa Mayer: Google Will Connect the Digital &amp; Physical Worlds Through Mobile - {link} #sxsw   \n",
       "2559                                                          Counting down the days to #sxsw plus strong Canadian dollar means stock up on Apple gear   \n",
       "3950  Really enjoying the changes in Gowalla 3.0 for Android! Looking forward to seeing what else they &amp; Foursquare have up their sleeves at #SXSW   \n",
       "3962        #SXSW is just starting, #CTIA is around the corner and #googleio is only a hop skip and a jump from there, good time to be an #android fan   \n",
       "4897                   Oh. My. God. The #SXSW app for iPad is pure, unadulterated awesome. It's easier to browse events on iPad than on the website!!!   \n",
       "5338                                          RT @mention ÷¼ GO BEYOND BORDERS! ÷_ {link} ã_ #edchat #musedchat #sxsw #sxswi #classical #newTwitter   \n",
       "5341                     RT @mention ÷¼ Happy Woman's Day! Make love, not fuss! ÷_ {link} ã_ #edchat #musedchat #sxsw #sxswi #classical #newTwitter   \n",
       "5881                                                 RT @mention Google to Launch Major New Social Network Called Circles, Possibly Today {link} #sxsw   \n",
       "5882                                                 RT @mention Google to Launch Major New Social Network Called Circles, Possibly Today {link} #SXSW   \n",
       "5883                                                 RT @mention Google to Launch Major New Social Network Called Circles, Possibly Today {link} #sxsw   \n",
       "5884                                                 RT @mention Google to Launch Major New Social Network Called Circles, Possibly Today {link} #SXSW   \n",
       "5885                                                 RT @mention Google to Launch Major New Social Network Called Circles, Possibly Today {link} #sxsw   \n",
       "6296                                    RT @mention Marissa Mayer: Google Will Connect the Digital &amp; Physical Worlds Through Mobile - {link} #sxsw   \n",
       "6297                                    RT @mention Marissa Mayer: Google Will Connect the Digital &amp; Physical Worlds Through Mobile - {link} #SXSW   \n",
       "6298                                    RT @mention Marissa Mayer: Google Will Connect the Digital &amp; Physical Worlds Through Mobile - {link} #sxsw   \n",
       "6299                                    RT @mention Marissa Mayer: Google Will Connect the Digital &amp; Physical Worlds Through Mobile - {link} #SXSW   \n",
       "6300                                    RT @mention Marissa Mayer: Google Will Connect the Digital &amp; Physical Worlds Through Mobile - {link} #sxsw   \n",
       "6546                                     RT @mention RT @mention Google to Launch Major New Social Network Called Circles, Possibly Today {link} #sxsw   \n",
       "8483                  I just noticed DST is coming this weekend. How many iPhone users will be an hour late at SXSW come Sunday morning? #SXSW #iPhone   \n",
       "8747                                        Need to buy an iPad2 while I'm in Austin at #sxsw. Not sure if I'll need to Q up at an Austin Apple store?   \n",
       "\n",
       "                 product                            catogory  \n",
       "468                Apple                    Positive emotion  \n",
       "776           No product  No emotion toward brand or product  \n",
       "2232          No product  No emotion toward brand or product  \n",
       "2559               Apple                    Positive emotion  \n",
       "3950         Android App                    Positive emotion  \n",
       "3962             Android                    Positive emotion  \n",
       "4897  iPad or iPhone App                    Positive emotion  \n",
       "5338          No product  No emotion toward brand or product  \n",
       "5341          No product  No emotion toward brand or product  \n",
       "5881          No product  No emotion toward brand or product  \n",
       "5882          No product  No emotion toward brand or product  \n",
       "5883          No product  No emotion toward brand or product  \n",
       "5884          No product  No emotion toward brand or product  \n",
       "5885          No product  No emotion toward brand or product  \n",
       "6296              Google                    Positive emotion  \n",
       "6297          No product  No emotion toward brand or product  \n",
       "6298              Google                    Positive emotion  \n",
       "6299          No product  No emotion toward brand or product  \n",
       "6300          No product  No emotion toward brand or product  \n",
       "6546          No product  No emotion toward brand or product  \n",
       "8483              iPhone                    Negative emotion  \n",
       "8747                iPad                    Positive emotion  "
      ]
     },
     "execution_count": 165,
     "metadata": {},
     "output_type": "execute_result"
    }
   ],
   "source": [
    "tweets[tweets.duplicated()]"
   ]
  },
  {
   "cell_type": "code",
   "execution_count": 166,
   "metadata": {
    "scrolled": true
   },
   "outputs": [
    {
     "name": "stderr",
     "output_type": "stream",
     "text": [
      "<ipython-input-166-d772b0d68179>:1: SettingWithCopyWarning: \n",
      "A value is trying to be set on a copy of a slice from a DataFrame\n",
      "\n",
      "See the caveats in the documentation: https://pandas.pydata.org/pandas-docs/stable/user_guide/indexing.html#returning-a-view-versus-a-copy\n",
      "  tweets.drop_duplicates(keep='first', inplace=True)\n"
     ]
    },
    {
     "data": {
      "text/html": [
       "<div>\n",
       "<style scoped>\n",
       "    .dataframe tbody tr th:only-of-type {\n",
       "        vertical-align: middle;\n",
       "    }\n",
       "\n",
       "    .dataframe tbody tr th {\n",
       "        vertical-align: top;\n",
       "    }\n",
       "\n",
       "    .dataframe thead th {\n",
       "        text-align: right;\n",
       "    }\n",
       "</style>\n",
       "<table border=\"1\" class=\"dataframe\">\n",
       "  <thead>\n",
       "    <tr style=\"text-align: right;\">\n",
       "      <th></th>\n",
       "      <th>tweet_text</th>\n",
       "      <th>product</th>\n",
       "      <th>catogory</th>\n",
       "    </tr>\n",
       "  </thead>\n",
       "  <tbody>\n",
       "    <tr>\n",
       "      <th>0</th>\n",
       "      <td>.@wesley83 I have a 3G iPhone. After 3 hrs tweeting at #RISE_Austin, it was dead!  I need to upgrade. Plugin stations at #SXSW.</td>\n",
       "      <td>iPhone</td>\n",
       "      <td>Negative emotion</td>\n",
       "    </tr>\n",
       "    <tr>\n",
       "      <th>1</th>\n",
       "      <td>@jessedee Know about @fludapp ? Awesome iPad/iPhone app that you'll likely appreciate for its design. Also, they're giving free Ts at #SXSW</td>\n",
       "      <td>iPad or iPhone App</td>\n",
       "      <td>Positive emotion</td>\n",
       "    </tr>\n",
       "    <tr>\n",
       "      <th>2</th>\n",
       "      <td>@swonderlin Can not wait for #iPad 2 also. They should sale them down at #SXSW.</td>\n",
       "      <td>iPad</td>\n",
       "      <td>Positive emotion</td>\n",
       "    </tr>\n",
       "    <tr>\n",
       "      <th>3</th>\n",
       "      <td>@sxsw I hope this year's festival isn't as crashy as this year's iPhone app. #sxsw</td>\n",
       "      <td>iPad or iPhone App</td>\n",
       "      <td>Negative emotion</td>\n",
       "    </tr>\n",
       "    <tr>\n",
       "      <th>4</th>\n",
       "      <td>@sxtxstate great stuff on Fri #SXSW: Marissa Mayer (Google), Tim O'Reilly (tech books/conferences) &amp;amp; Matt Mullenweg (Wordpress)</td>\n",
       "      <td>Google</td>\n",
       "      <td>Positive emotion</td>\n",
       "    </tr>\n",
       "    <tr>\n",
       "      <th>...</th>\n",
       "      <td>...</td>\n",
       "      <td>...</td>\n",
       "      <td>...</td>\n",
       "    </tr>\n",
       "    <tr>\n",
       "      <th>9088</th>\n",
       "      <td>Ipad everywhere. #SXSW {link}</td>\n",
       "      <td>iPad</td>\n",
       "      <td>Positive emotion</td>\n",
       "    </tr>\n",
       "    <tr>\n",
       "      <th>9089</th>\n",
       "      <td>Wave, buzz... RT @mention We interrupt your regularly scheduled #sxsw geek programming with big news {link}  #google #circles</td>\n",
       "      <td>No product</td>\n",
       "      <td>No emotion toward brand or product</td>\n",
       "    </tr>\n",
       "    <tr>\n",
       "      <th>9090</th>\n",
       "      <td>Google's Zeiger, a physician never reported potential AE. Yet FDA relies on physicians. &amp;quot;We're operating w/out data.&amp;quot; #sxsw #health2dev</td>\n",
       "      <td>No product</td>\n",
       "      <td>No emotion toward brand or product</td>\n",
       "    </tr>\n",
       "    <tr>\n",
       "      <th>9091</th>\n",
       "      <td>Some Verizon iPhone customers complained their time fell back an hour this weekend.  Of course they were the New Yorkers who attended #SXSW.</td>\n",
       "      <td>No product</td>\n",
       "      <td>No emotion toward brand or product</td>\n",
       "    </tr>\n",
       "    <tr>\n",
       "      <th>9092</th>\n",
       "      <td>Ï¡Ïàü_ÊÎÒ£Áââ_£â_ÛâRT @mention Google Tests ÛÏCheck-in OffersÛ At #SXSW {link}</td>\n",
       "      <td>No product</td>\n",
       "      <td>No emotion toward brand or product</td>\n",
       "    </tr>\n",
       "  </tbody>\n",
       "</table>\n",
       "<p>8915 rows × 3 columns</p>\n",
       "</div>"
      ],
      "text/plain": [
       "                                                                                                                                             tweet_text  \\\n",
       "0                       .@wesley83 I have a 3G iPhone. After 3 hrs tweeting at #RISE_Austin, it was dead!  I need to upgrade. Plugin stations at #SXSW.   \n",
       "1           @jessedee Know about @fludapp ? Awesome iPad/iPhone app that you'll likely appreciate for its design. Also, they're giving free Ts at #SXSW   \n",
       "2                                                                       @swonderlin Can not wait for #iPad 2 also. They should sale them down at #SXSW.   \n",
       "3                                                                    @sxsw I hope this year's festival isn't as crashy as this year's iPhone app. #sxsw   \n",
       "4                   @sxtxstate great stuff on Fri #SXSW: Marissa Mayer (Google), Tim O'Reilly (tech books/conferences) &amp; Matt Mullenweg (Wordpress)   \n",
       "...                                                                                                                                                 ...   \n",
       "9088                                                                                                                      Ipad everywhere. #SXSW {link}   \n",
       "9089                      Wave, buzz... RT @mention We interrupt your regularly scheduled #sxsw geek programming with big news {link}  #google #circles   \n",
       "9090  Google's Zeiger, a physician never reported potential AE. Yet FDA relies on physicians. &quot;We're operating w/out data.&quot; #sxsw #health2dev   \n",
       "9091       Some Verizon iPhone customers complained their time fell back an hour this weekend.  Of course they were the New Yorkers who attended #SXSW.   \n",
       "9092                                           Ï¡Ïàü_ÊÎÒ£Áââ_£â_ÛâRT @mention Google Tests ÛÏCheck-in OffersÛ At #SXSW {link}   \n",
       "\n",
       "                 product                            catogory  \n",
       "0                 iPhone                    Negative emotion  \n",
       "1     iPad or iPhone App                    Positive emotion  \n",
       "2                   iPad                    Positive emotion  \n",
       "3     iPad or iPhone App                    Negative emotion  \n",
       "4                 Google                    Positive emotion  \n",
       "...                  ...                                 ...  \n",
       "9088                iPad                    Positive emotion  \n",
       "9089          No product  No emotion toward brand or product  \n",
       "9090          No product  No emotion toward brand or product  \n",
       "9091          No product  No emotion toward brand or product  \n",
       "9092          No product  No emotion toward brand or product  \n",
       "\n",
       "[8915 rows x 3 columns]"
      ]
     },
     "execution_count": 166,
     "metadata": {},
     "output_type": "execute_result"
    }
   ],
   "source": [
    "tweets.drop_duplicates(keep='first', inplace=True)\n",
    "tweets"
   ]
  },
  {
   "cell_type": "code",
   "execution_count": 167,
   "metadata": {},
   "outputs": [
    {
     "name": "stderr",
     "output_type": "stream",
     "text": [
      "<ipython-input-167-b53b58ba2405>:4: SettingWithCopyWarning: \n",
      "A value is trying to be set on a copy of a slice from a DataFrame.\n",
      "Try using .loc[row_indexer,col_indexer] = value instead\n",
      "\n",
      "See the caveats in the documentation: https://pandas.pydata.org/pandas-docs/stable/user_guide/indexing.html#returning-a-view-versus-a-copy\n",
      "  tweets[\"catogory\"] = labelencoder.fit_transform(tweets[\"catogory\"])\n"
     ]
    }
   ],
   "source": [
    "from sklearn.preprocessing import LabelEncoder\n",
    "# creating instance of labelencoder\n",
    "labelencoder = LabelEncoder()\n",
    "tweets[\"catogory\"] = labelencoder.fit_transform(tweets[\"catogory\"])"
   ]
  },
  {
   "cell_type": "code",
   "execution_count": 168,
   "metadata": {
    "scrolled": true
   },
   "outputs": [
    {
     "data": {
      "text/html": [
       "<div>\n",
       "<style scoped>\n",
       "    .dataframe tbody tr th:only-of-type {\n",
       "        vertical-align: middle;\n",
       "    }\n",
       "\n",
       "    .dataframe tbody tr th {\n",
       "        vertical-align: top;\n",
       "    }\n",
       "\n",
       "    .dataframe thead th {\n",
       "        text-align: right;\n",
       "    }\n",
       "</style>\n",
       "<table border=\"1\" class=\"dataframe\">\n",
       "  <thead>\n",
       "    <tr style=\"text-align: right;\">\n",
       "      <th></th>\n",
       "      <th>tweet_text</th>\n",
       "      <th>product</th>\n",
       "      <th>catogory</th>\n",
       "    </tr>\n",
       "  </thead>\n",
       "  <tbody>\n",
       "    <tr>\n",
       "      <th>0</th>\n",
       "      <td>.@wesley83 I have a 3G iPhone. After 3 hrs tweeting at #RISE_Austin, it was dead!  I need to upgrade. Plugin stations at #SXSW.</td>\n",
       "      <td>iPhone</td>\n",
       "      <td>0</td>\n",
       "    </tr>\n",
       "    <tr>\n",
       "      <th>1</th>\n",
       "      <td>@jessedee Know about @fludapp ? Awesome iPad/iPhone app that you'll likely appreciate for its design. Also, they're giving free Ts at #SXSW</td>\n",
       "      <td>iPad or iPhone App</td>\n",
       "      <td>2</td>\n",
       "    </tr>\n",
       "    <tr>\n",
       "      <th>2</th>\n",
       "      <td>@swonderlin Can not wait for #iPad 2 also. They should sale them down at #SXSW.</td>\n",
       "      <td>iPad</td>\n",
       "      <td>2</td>\n",
       "    </tr>\n",
       "    <tr>\n",
       "      <th>3</th>\n",
       "      <td>@sxsw I hope this year's festival isn't as crashy as this year's iPhone app. #sxsw</td>\n",
       "      <td>iPad or iPhone App</td>\n",
       "      <td>0</td>\n",
       "    </tr>\n",
       "    <tr>\n",
       "      <th>4</th>\n",
       "      <td>@sxtxstate great stuff on Fri #SXSW: Marissa Mayer (Google), Tim O'Reilly (tech books/conferences) &amp;amp; Matt Mullenweg (Wordpress)</td>\n",
       "      <td>Google</td>\n",
       "      <td>2</td>\n",
       "    </tr>\n",
       "  </tbody>\n",
       "</table>\n",
       "</div>"
      ],
      "text/plain": [
       "                                                                                                                                    tweet_text  \\\n",
       "0              .@wesley83 I have a 3G iPhone. After 3 hrs tweeting at #RISE_Austin, it was dead!  I need to upgrade. Plugin stations at #SXSW.   \n",
       "1  @jessedee Know about @fludapp ? Awesome iPad/iPhone app that you'll likely appreciate for its design. Also, they're giving free Ts at #SXSW   \n",
       "2                                                              @swonderlin Can not wait for #iPad 2 also. They should sale them down at #SXSW.   \n",
       "3                                                           @sxsw I hope this year's festival isn't as crashy as this year's iPhone app. #sxsw   \n",
       "4          @sxtxstate great stuff on Fri #SXSW: Marissa Mayer (Google), Tim O'Reilly (tech books/conferences) &amp; Matt Mullenweg (Wordpress)   \n",
       "\n",
       "              product  catogory  \n",
       "0              iPhone         0  \n",
       "1  iPad or iPhone App         2  \n",
       "2                iPad         2  \n",
       "3  iPad or iPhone App         0  \n",
       "4              Google         2  "
      ]
     },
     "execution_count": 168,
     "metadata": {},
     "output_type": "execute_result"
    }
   ],
   "source": [
    "tweets.head()"
   ]
  },
  {
   "cell_type": "code",
   "execution_count": 169,
   "metadata": {
    "scrolled": true
   },
   "outputs": [
    {
     "data": {
      "text/plain": [
       "1    5376\n",
       "2    2970\n",
       "0     569\n",
       "Name: catogory, dtype: int64"
      ]
     },
     "execution_count": 169,
     "metadata": {},
     "output_type": "execute_result"
    }
   ],
   "source": [
    "tweets[\"catogory\"].value_counts()"
   ]
  },
  {
   "cell_type": "markdown",
   "metadata": {},
   "source": [
    "Features:every row in the dataset only contains one feature: a string containing the full text "
   ]
  },
  {
   "cell_type": "code",
   "execution_count": 170,
   "metadata": {},
   "outputs": [],
   "source": [
    "X=tweets[\"tweet_text\"]"
   ]
  },
  {
   "cell_type": "markdown",
   "metadata": {},
   "source": [
    "Target:3 catogories"
   ]
  },
  {
   "cell_type": "code",
   "execution_count": 171,
   "metadata": {},
   "outputs": [],
   "source": [
    "y=tweets[\"catogory\"]"
   ]
  },
  {
   "cell_type": "markdown",
   "metadata": {},
   "source": [
    "train and test"
   ]
  },
  {
   "cell_type": "code",
   "execution_count": 172,
   "metadata": {},
   "outputs": [],
   "source": [
    "from sklearn.model_selection import train_test_split"
   ]
  },
  {
   "cell_type": "code",
   "execution_count": 173,
   "metadata": {},
   "outputs": [],
   "source": [
    "X_train,X_test,y_train,y_test = train_test_split(X,y,test_size=0.25,random_state =42)"
   ]
  },
  {
   "cell_type": "code",
   "execution_count": 174,
   "metadata": {
    "scrolled": true
   },
   "outputs": [
    {
     "data": {
      "text/html": [
       "<div>\n",
       "<style scoped>\n",
       "    .dataframe tbody tr th:only-of-type {\n",
       "        vertical-align: middle;\n",
       "    }\n",
       "\n",
       "    .dataframe tbody tr th {\n",
       "        vertical-align: top;\n",
       "    }\n",
       "\n",
       "    .dataframe thead th {\n",
       "        text-align: right;\n",
       "    }\n",
       "</style>\n",
       "<table border=\"1\" class=\"dataframe\">\n",
       "  <thead>\n",
       "    <tr style=\"text-align: right;\">\n",
       "      <th></th>\n",
       "      <th>tweet_text</th>\n",
       "    </tr>\n",
       "  </thead>\n",
       "  <tbody>\n",
       "    <tr>\n",
       "      <th>9055</th>\n",
       "      <td>@mention you give away that iPad yet.... ? #sxsw</td>\n",
       "    </tr>\n",
       "    <tr>\n",
       "      <th>4203</th>\n",
       "      <td>{link} Killer shot I got last night of @mention at the #nokiaconnects concert for #SXSW</td>\n",
       "    </tr>\n",
       "    <tr>\n",
       "      <th>1277</th>\n",
       "      <td>Please if u were able to [...] attend #sxsw or buy an iPad today, consider saving a few $$ for Japan earthquake relief (via @mention</td>\n",
       "    </tr>\n",
       "    <tr>\n",
       "      <th>6334</th>\n",
       "      <td>RT @mention My informal unscientific observation is that #Apple is by far the computer of choice at #SXSW. Hands ... {link}</td>\n",
       "    </tr>\n",
       "    <tr>\n",
       "      <th>5515</th>\n",
       "      <td>RT @mention At #SXSW? Get the SoundCloud iPhone app {link} and start recording. Use 4sq geotagging to be on the map: {link}</td>\n",
       "    </tr>\n",
       "    <tr>\n",
       "      <th>...</th>\n",
       "      <td>...</td>\n",
       "    </tr>\n",
       "    <tr>\n",
       "      <th>5845</th>\n",
       "      <td>RT @mention Google maps for mobile 5.2 looks awesome.#sxsw</td>\n",
       "    </tr>\n",
       "    <tr>\n",
       "      <th>5291</th>\n",
       "      <td>RT @mention #SXSW Go 1.1 for Android is LIVE in the Android Marketplace! New features, including SD card storage and more.  {link} via @mention</td>\n",
       "    </tr>\n",
       "    <tr>\n",
       "      <th>5496</th>\n",
       "      <td>RT @mention At #sxsw &amp;amp; want to drink free? Get the Ask Around IPhone App to find out where we are &amp;amp; join us for drinks in #Austin.</td>\n",
       "    </tr>\n",
       "    <tr>\n",
       "      <th>874</th>\n",
       "      <td>It amazes me how many people don't tuck the flap in on their apple iPad case #sxsw</td>\n",
       "    </tr>\n",
       "    <tr>\n",
       "      <th>7415</th>\n",
       "      <td>Pop-up Apple Store for #SXSW. (@mention Apple Store, SXSW w/ 86 others) [pic]: {link}</td>\n",
       "    </tr>\n",
       "  </tbody>\n",
       "</table>\n",
       "<p>6686 rows × 1 columns</p>\n",
       "</div>"
      ],
      "text/plain": [
       "                                                                                                                                           tweet_text\n",
       "9055                                                                                                 @mention you give away that iPad yet.... ? #sxsw\n",
       "4203                                                          {link} Killer shot I got last night of @mention at the #nokiaconnects concert for #SXSW\n",
       "1277             Please if u were able to [...] attend #sxsw or buy an iPad today, consider saving a few $$ for Japan earthquake relief (via @mention\n",
       "6334                      RT @mention My informal unscientific observation is that #Apple is by far the computer of choice at #SXSW. Hands ... {link}\n",
       "5515                      RT @mention At #SXSW? Get the SoundCloud iPhone app {link} and start recording. Use 4sq geotagging to be on the map: {link}\n",
       "...                                                                                                                                               ...\n",
       "5845                                                                                       RT @mention Google maps for mobile 5.2 looks awesome.#sxsw\n",
       "5291  RT @mention #SXSW Go 1.1 for Android is LIVE in the Android Marketplace! New features, including SD card storage and more.  {link} via @mention\n",
       "5496       RT @mention At #sxsw &amp; want to drink free? Get the Ask Around IPhone App to find out where we are &amp; join us for drinks in #Austin.\n",
       "874                                                                It amazes me how many people don't tuck the flap in on their apple iPad case #sxsw\n",
       "7415                                                            Pop-up Apple Store for #SXSW. (@mention Apple Store, SXSW w/ 86 others) [pic]: {link}\n",
       "\n",
       "[6686 rows x 1 columns]"
      ]
     },
     "execution_count": 174,
     "metadata": {},
     "output_type": "execute_result"
    }
   ],
   "source": [
    "X_train = pd.DataFrame(X_train)\n",
    "X_train"
   ]
  },
  {
   "cell_type": "code",
   "execution_count": 175,
   "metadata": {
    "scrolled": true
   },
   "outputs": [
    {
     "data": {
      "text/html": [
       "<div>\n",
       "<style scoped>\n",
       "    .dataframe tbody tr th:only-of-type {\n",
       "        vertical-align: middle;\n",
       "    }\n",
       "\n",
       "    .dataframe tbody tr th {\n",
       "        vertical-align: top;\n",
       "    }\n",
       "\n",
       "    .dataframe thead th {\n",
       "        text-align: right;\n",
       "    }\n",
       "</style>\n",
       "<table border=\"1\" class=\"dataframe\">\n",
       "  <thead>\n",
       "    <tr style=\"text-align: right;\">\n",
       "      <th></th>\n",
       "      <th>catogory</th>\n",
       "    </tr>\n",
       "  </thead>\n",
       "  <tbody>\n",
       "    <tr>\n",
       "      <th>9055</th>\n",
       "      <td>1</td>\n",
       "    </tr>\n",
       "    <tr>\n",
       "      <th>4203</th>\n",
       "      <td>1</td>\n",
       "    </tr>\n",
       "    <tr>\n",
       "      <th>1277</th>\n",
       "      <td>1</td>\n",
       "    </tr>\n",
       "    <tr>\n",
       "      <th>6334</th>\n",
       "      <td>2</td>\n",
       "    </tr>\n",
       "    <tr>\n",
       "      <th>5515</th>\n",
       "      <td>1</td>\n",
       "    </tr>\n",
       "    <tr>\n",
       "      <th>...</th>\n",
       "      <td>...</td>\n",
       "    </tr>\n",
       "    <tr>\n",
       "      <th>5845</th>\n",
       "      <td>2</td>\n",
       "    </tr>\n",
       "    <tr>\n",
       "      <th>5291</th>\n",
       "      <td>2</td>\n",
       "    </tr>\n",
       "    <tr>\n",
       "      <th>5496</th>\n",
       "      <td>2</td>\n",
       "    </tr>\n",
       "    <tr>\n",
       "      <th>874</th>\n",
       "      <td>1</td>\n",
       "    </tr>\n",
       "    <tr>\n",
       "      <th>7415</th>\n",
       "      <td>1</td>\n",
       "    </tr>\n",
       "  </tbody>\n",
       "</table>\n",
       "<p>6686 rows × 1 columns</p>\n",
       "</div>"
      ],
      "text/plain": [
       "      catogory\n",
       "9055         1\n",
       "4203         1\n",
       "1277         1\n",
       "6334         2\n",
       "5515         1\n",
       "...        ...\n",
       "5845         2\n",
       "5291         2\n",
       "5496         2\n",
       "874          1\n",
       "7415         1\n",
       "\n",
       "[6686 rows x 1 columns]"
      ]
     },
     "execution_count": 175,
     "metadata": {},
     "output_type": "execute_result"
    }
   ],
   "source": [
    "y_train = pd.DataFrame(y_train)\n",
    "y_train"
   ]
  },
  {
   "cell_type": "code",
   "execution_count": 176,
   "metadata": {
    "scrolled": true
   },
   "outputs": [
    {
     "data": {
      "text/html": [
       "<div>\n",
       "<style scoped>\n",
       "    .dataframe tbody tr th:only-of-type {\n",
       "        vertical-align: middle;\n",
       "    }\n",
       "\n",
       "    .dataframe tbody tr th {\n",
       "        vertical-align: top;\n",
       "    }\n",
       "\n",
       "    .dataframe thead th {\n",
       "        text-align: right;\n",
       "    }\n",
       "</style>\n",
       "<table border=\"1\" class=\"dataframe\">\n",
       "  <thead>\n",
       "    <tr style=\"text-align: right;\">\n",
       "      <th></th>\n",
       "      <th>tweet_text</th>\n",
       "    </tr>\n",
       "  </thead>\n",
       "  <tbody>\n",
       "    <tr>\n",
       "      <th>1715</th>\n",
       "      <td>All this #sxsw gadget lust is rubbing off on me, I think I want an iPad 2... must escape soon!</td>\n",
       "    </tr>\n",
       "    <tr>\n",
       "      <th>8922</th>\n",
       "      <td>Walkin down the street @mention is navigating via Google, I'm tweeting and random guy is yelping!! Welcome to #SXSW!!</td>\n",
       "    </tr>\n",
       "    <tr>\n",
       "      <th>4672</th>\n",
       "      <td>I'm listening to 'Get By' by Talib Kweli via the Discovr app on my iPhone while I'm on a plane to #sxsw. Love Gogo.  {link}</td>\n",
       "    </tr>\n",
       "    <tr>\n",
       "      <th>7371</th>\n",
       "      <td>Awesome iPhone cases for @mention here at #sxsw!</td>\n",
       "    </tr>\n",
       "    <tr>\n",
       "      <th>8069</th>\n",
       "      <td>A Google Spreadsheet of over 270 parties at #SXSW this year O_O {link}</td>\n",
       "    </tr>\n",
       "    <tr>\n",
       "      <th>...</th>\n",
       "      <td>...</td>\n",
       "    </tr>\n",
       "    <tr>\n",
       "      <th>2096</th>\n",
       "      <td>Rachael Harris! That's who I saw. That was driving me nuts. Thank you, Google. #sxsw</td>\n",
       "    </tr>\n",
       "    <tr>\n",
       "      <th>558</th>\n",
       "      <td>haha. the google &amp;quot;Party like it's 1986&amp;quot; Party {link} #SXSW</td>\n",
       "    </tr>\n",
       "    <tr>\n",
       "      <th>8971</th>\n",
       "      <td>BEST newly added iPhone app goes to @mention awesome!! #SXSW 2011 here I come for one day and one amazing day it will be!!</td>\n",
       "    </tr>\n",
       "    <tr>\n",
       "      <th>7613</th>\n",
       "      <td>Groups were challenged with coming up with an iPhone app to solve their parenting/start-up issues #sxsw</td>\n",
       "    </tr>\n",
       "    <tr>\n",
       "      <th>7969</th>\n",
       "      <td>Anyone else having issues with gmail and using google services? #SXSW.</td>\n",
       "    </tr>\n",
       "  </tbody>\n",
       "</table>\n",
       "<p>2229 rows × 1 columns</p>\n",
       "</div>"
      ],
      "text/plain": [
       "                                                                                                                       tweet_text\n",
       "1715                               All this #sxsw gadget lust is rubbing off on me, I think I want an iPad 2... must escape soon!\n",
       "8922        Walkin down the street @mention is navigating via Google, I'm tweeting and random guy is yelping!! Welcome to #SXSW!!\n",
       "4672  I'm listening to 'Get By' by Talib Kweli via the Discovr app on my iPhone while I'm on a plane to #sxsw. Love Gogo.  {link}\n",
       "7371                                                                             Awesome iPhone cases for @mention here at #sxsw!\n",
       "8069                                                       A Google Spreadsheet of over 270 parties at #SXSW this year O_O {link}\n",
       "...                                                                                                                           ...\n",
       "2096                                         Rachael Harris! That's who I saw. That was driving me nuts. Thank you, Google. #sxsw\n",
       "558                                                          haha. the google &quot;Party like it's 1986&quot; Party {link} #SXSW\n",
       "8971   BEST newly added iPhone app goes to @mention awesome!! #SXSW 2011 here I come for one day and one amazing day it will be!!\n",
       "7613                      Groups were challenged with coming up with an iPhone app to solve their parenting/start-up issues #sxsw\n",
       "7969                                                       Anyone else having issues with gmail and using google services? #SXSW.\n",
       "\n",
       "[2229 rows x 1 columns]"
      ]
     },
     "execution_count": 176,
     "metadata": {},
     "output_type": "execute_result"
    }
   ],
   "source": [
    "X_test = pd.DataFrame(X_test)\n",
    "X_test"
   ]
  },
  {
   "cell_type": "code",
   "execution_count": 177,
   "metadata": {},
   "outputs": [
    {
     "data": {
      "text/html": [
       "<div>\n",
       "<style scoped>\n",
       "    .dataframe tbody tr th:only-of-type {\n",
       "        vertical-align: middle;\n",
       "    }\n",
       "\n",
       "    .dataframe tbody tr th {\n",
       "        vertical-align: top;\n",
       "    }\n",
       "\n",
       "    .dataframe thead th {\n",
       "        text-align: right;\n",
       "    }\n",
       "</style>\n",
       "<table border=\"1\" class=\"dataframe\">\n",
       "  <thead>\n",
       "    <tr style=\"text-align: right;\">\n",
       "      <th></th>\n",
       "      <th>catogory</th>\n",
       "    </tr>\n",
       "  </thead>\n",
       "  <tbody>\n",
       "    <tr>\n",
       "      <th>1715</th>\n",
       "      <td>2</td>\n",
       "    </tr>\n",
       "    <tr>\n",
       "      <th>8922</th>\n",
       "      <td>2</td>\n",
       "    </tr>\n",
       "    <tr>\n",
       "      <th>4672</th>\n",
       "      <td>2</td>\n",
       "    </tr>\n",
       "    <tr>\n",
       "      <th>7371</th>\n",
       "      <td>2</td>\n",
       "    </tr>\n",
       "    <tr>\n",
       "      <th>8069</th>\n",
       "      <td>1</td>\n",
       "    </tr>\n",
       "    <tr>\n",
       "      <th>...</th>\n",
       "      <td>...</td>\n",
       "    </tr>\n",
       "    <tr>\n",
       "      <th>2096</th>\n",
       "      <td>2</td>\n",
       "    </tr>\n",
       "    <tr>\n",
       "      <th>558</th>\n",
       "      <td>1</td>\n",
       "    </tr>\n",
       "    <tr>\n",
       "      <th>8971</th>\n",
       "      <td>2</td>\n",
       "    </tr>\n",
       "    <tr>\n",
       "      <th>7613</th>\n",
       "      <td>1</td>\n",
       "    </tr>\n",
       "    <tr>\n",
       "      <th>7969</th>\n",
       "      <td>0</td>\n",
       "    </tr>\n",
       "  </tbody>\n",
       "</table>\n",
       "<p>2229 rows × 1 columns</p>\n",
       "</div>"
      ],
      "text/plain": [
       "      catogory\n",
       "1715         2\n",
       "8922         2\n",
       "4672         2\n",
       "7371         2\n",
       "8069         1\n",
       "...        ...\n",
       "2096         2\n",
       "558          1\n",
       "8971         2\n",
       "7613         1\n",
       "7969         0\n",
       "\n",
       "[2229 rows x 1 columns]"
      ]
     },
     "execution_count": 177,
     "metadata": {},
     "output_type": "execute_result"
    }
   ],
   "source": [
    "y_test = pd.DataFrame(y_test)\n",
    "y_test"
   ]
  },
  {
   "cell_type": "markdown",
   "metadata": {},
   "source": [
    "look on the tweets"
   ]
  },
  {
   "cell_type": "code",
   "execution_count": 178,
   "metadata": {},
   "outputs": [
    {
     "data": {
      "text/plain": [
       "'RT @mention Google will launch major new social network called Circles. #SXSW'"
      ]
     },
     "execution_count": 178,
     "metadata": {},
     "output_type": "execute_result"
    }
   ],
   "source": [
    "X_train.iloc[150][\"tweet_text\"]"
   ]
  },
  {
   "cell_type": "code",
   "execution_count": 179,
   "metadata": {},
   "outputs": [
    {
     "data": {
      "text/plain": [
       "\"\\x89ÛÏ@mention Buying 2 new iPad's with @mention #geekdate #apple #sxsw #ipad2\\x89Û\\x9d :)\""
      ]
     },
     "execution_count": 179,
     "metadata": {},
     "output_type": "execute_result"
    }
   ],
   "source": [
    "X_train.iloc[500][\"tweet_text\"]"
   ]
  },
  {
   "cell_type": "markdown",
   "metadata": {},
   "source": [
    "### Data Cleaning and Exploratory Data Analysis with nltk"
   ]
  },
  {
   "cell_type": "markdown",
   "metadata": {},
   "source": [
    "Standardizing Case:remove captalize"
   ]
  },
  {
   "cell_type": "code",
   "execution_count": 180,
   "metadata": {
    "scrolled": false
   },
   "outputs": [
    {
     "data": {
      "text/html": [
       "<div>\n",
       "<style scoped>\n",
       "    .dataframe tbody tr th:only-of-type {\n",
       "        vertical-align: middle;\n",
       "    }\n",
       "\n",
       "    .dataframe tbody tr th {\n",
       "        vertical-align: top;\n",
       "    }\n",
       "\n",
       "    .dataframe thead th {\n",
       "        text-align: right;\n",
       "    }\n",
       "</style>\n",
       "<table border=\"1\" class=\"dataframe\">\n",
       "  <thead>\n",
       "    <tr style=\"text-align: right;\">\n",
       "      <th></th>\n",
       "      <th>tweet_text</th>\n",
       "    </tr>\n",
       "  </thead>\n",
       "  <tbody>\n",
       "    <tr>\n",
       "      <th>9055</th>\n",
       "      <td>@mention you give away that ipad yet.... ? #sxsw</td>\n",
       "    </tr>\n",
       "    <tr>\n",
       "      <th>4203</th>\n",
       "      <td>{link} killer shot i got last night of @mention at the #nokiaconnects concert for #sxsw</td>\n",
       "    </tr>\n",
       "    <tr>\n",
       "      <th>1277</th>\n",
       "      <td>please if u were able to [...] attend #sxsw or buy an ipad today, consider saving a few $$ for japan earthquake relief (via @mention</td>\n",
       "    </tr>\n",
       "    <tr>\n",
       "      <th>6334</th>\n",
       "      <td>rt @mention my informal unscientific observation is that #apple is by far the computer of choice at #sxsw. hands ... {link}</td>\n",
       "    </tr>\n",
       "    <tr>\n",
       "      <th>5515</th>\n",
       "      <td>rt @mention at #sxsw? get the soundcloud iphone app {link} and start recording. use 4sq geotagging to be on the map: {link}</td>\n",
       "    </tr>\n",
       "  </tbody>\n",
       "</table>\n",
       "</div>"
      ],
      "text/plain": [
       "                                                                                                                                tweet_text\n",
       "9055                                                                                      @mention you give away that ipad yet.... ? #sxsw\n",
       "4203                                               {link} killer shot i got last night of @mention at the #nokiaconnects concert for #sxsw\n",
       "1277  please if u were able to [...] attend #sxsw or buy an ipad today, consider saving a few $$ for japan earthquake relief (via @mention\n",
       "6334           rt @mention my informal unscientific observation is that #apple is by far the computer of choice at #sxsw. hands ... {link}\n",
       "5515           rt @mention at #sxsw? get the soundcloud iphone app {link} and start recording. use 4sq geotagging to be on the map: {link}"
      ]
     },
     "execution_count": 180,
     "metadata": {},
     "output_type": "execute_result"
    }
   ],
   "source": [
    "X_train[\"tweet_text\"]=X_train['tweet_text'].str.lower()\n",
    "X_train.head()"
   ]
  },
  {
   "cell_type": "code",
   "execution_count": 181,
   "metadata": {
    "scrolled": true
   },
   "outputs": [
    {
     "data": {
      "text/plain": [
       "\"by the way, we're looking for a spanish-speaking trend scout based in austin -&gt; {link} #sxsw\""
      ]
     },
     "execution_count": 181,
     "metadata": {},
     "output_type": "execute_result"
    }
   ],
   "source": [
    "X_train.iloc[22][\"tweet_text\"]"
   ]
  },
  {
   "cell_type": "markdown",
   "metadata": {},
   "source": [
    "#### Tokenizing"
   ]
  },
  {
   "cell_type": "markdown",
   "metadata": {},
   "source": [
    "convert string into a set of tokens."
   ]
  },
  {
   "cell_type": "code",
   "execution_count": 182,
   "metadata": {},
   "outputs": [],
   "source": [
    "from nltk.tokenize import RegexpTokenizer\n",
    "\n",
    "basic_token_pattern = r\"(?u)\\b\\w\\w+\\b\"\n",
    "\n",
    "tokenizer = RegexpTokenizer(basic_token_pattern)\n",
    "token=tokenizer.tokenize(\"text\")"
   ]
  },
  {
   "cell_type": "code",
   "execution_count": 183,
   "metadata": {
    "scrolled": true
   },
   "outputs": [
    {
     "data": {
      "text/html": [
       "<div>\n",
       "<style scoped>\n",
       "    .dataframe tbody tr th:only-of-type {\n",
       "        vertical-align: middle;\n",
       "    }\n",
       "\n",
       "    .dataframe tbody tr th {\n",
       "        vertical-align: top;\n",
       "    }\n",
       "\n",
       "    .dataframe thead th {\n",
       "        text-align: right;\n",
       "    }\n",
       "</style>\n",
       "<table border=\"1\" class=\"dataframe\">\n",
       "  <thead>\n",
       "    <tr style=\"text-align: right;\">\n",
       "      <th></th>\n",
       "      <th>tweet_text</th>\n",
       "      <th>text_tokenized</th>\n",
       "    </tr>\n",
       "  </thead>\n",
       "  <tbody>\n",
       "    <tr>\n",
       "      <th>9055</th>\n",
       "      <td>@mention you give away that ipad yet.... ? #sxsw</td>\n",
       "      <td>[mention, you, give, away, that, ipad, yet, sxsw]</td>\n",
       "    </tr>\n",
       "    <tr>\n",
       "      <th>4203</th>\n",
       "      <td>{link} killer shot i got last night of @mention at the #nokiaconnects concert for #sxsw</td>\n",
       "      <td>[link, killer, shot, got, last, night, of, mention, at, the, nokiaconnects, concert, for, sxsw]</td>\n",
       "    </tr>\n",
       "    <tr>\n",
       "      <th>1277</th>\n",
       "      <td>please if u were able to [...] attend #sxsw or buy an ipad today, consider saving a few $$ for japan earthquake relief (via @mention</td>\n",
       "      <td>[please, if, were, able, to, attend, sxsw, or, buy, an, ipad, today, consider, saving, few, for, japan, earthquake, relief, via, mention]</td>\n",
       "    </tr>\n",
       "    <tr>\n",
       "      <th>6334</th>\n",
       "      <td>rt @mention my informal unscientific observation is that #apple is by far the computer of choice at #sxsw. hands ... {link}</td>\n",
       "      <td>[rt, mention, my, informal, unscientific, observation, is, that, apple, is, by, far, the, computer, of, choice, at, sxsw, hands, link]</td>\n",
       "    </tr>\n",
       "    <tr>\n",
       "      <th>5515</th>\n",
       "      <td>rt @mention at #sxsw? get the soundcloud iphone app {link} and start recording. use 4sq geotagging to be on the map: {link}</td>\n",
       "      <td>[rt, mention, at, sxsw, get, the, soundcloud, iphone, app, link, and, start, recording, use, 4sq, geotagging, to, be, on, the, map, link]</td>\n",
       "    </tr>\n",
       "    <tr>\n",
       "      <th>...</th>\n",
       "      <td>...</td>\n",
       "      <td>...</td>\n",
       "    </tr>\n",
       "    <tr>\n",
       "      <th>5845</th>\n",
       "      <td>rt @mention google maps for mobile 5.2 looks awesome.#sxsw</td>\n",
       "      <td>[rt, mention, google, maps, for, mobile, looks, awesome, sxsw]</td>\n",
       "    </tr>\n",
       "    <tr>\n",
       "      <th>5291</th>\n",
       "      <td>rt @mention #sxsw go 1.1 for android is live in the android marketplace! new features, including sd card storage and more.  {link} via @mention</td>\n",
       "      <td>[rt, mention, sxsw, go, for, android, is, live, in, the, android, marketplace, new, features, including, sd, card, storage, and, more, link, via, mention]</td>\n",
       "    </tr>\n",
       "    <tr>\n",
       "      <th>5496</th>\n",
       "      <td>rt @mention at #sxsw &amp;amp; want to drink free? get the ask around iphone app to find out where we are &amp;amp; join us for drinks in #austin.</td>\n",
       "      <td>[rt, mention, at, sxsw, amp, want, to, drink, free, get, the, ask, around, iphone, app, to, find, out, where, we, are, amp, join, us, for, drinks, in, austin]</td>\n",
       "    </tr>\n",
       "    <tr>\n",
       "      <th>874</th>\n",
       "      <td>it amazes me how many people don't tuck the flap in on their apple ipad case #sxsw</td>\n",
       "      <td>[it, amazes, me, how, many, people, don, tuck, the, flap, in, on, their, apple, ipad, case, sxsw]</td>\n",
       "    </tr>\n",
       "    <tr>\n",
       "      <th>7415</th>\n",
       "      <td>pop-up apple store for #sxsw. (@mention apple store, sxsw w/ 86 others) [pic]: {link}</td>\n",
       "      <td>[pop, up, apple, store, for, sxsw, mention, apple, store, sxsw, 86, others, pic, link]</td>\n",
       "    </tr>\n",
       "  </tbody>\n",
       "</table>\n",
       "<p>6686 rows × 2 columns</p>\n",
       "</div>"
      ],
      "text/plain": [
       "                                                                                                                                           tweet_text  \\\n",
       "9055                                                                                                 @mention you give away that ipad yet.... ? #sxsw   \n",
       "4203                                                          {link} killer shot i got last night of @mention at the #nokiaconnects concert for #sxsw   \n",
       "1277             please if u were able to [...] attend #sxsw or buy an ipad today, consider saving a few $$ for japan earthquake relief (via @mention   \n",
       "6334                      rt @mention my informal unscientific observation is that #apple is by far the computer of choice at #sxsw. hands ... {link}   \n",
       "5515                      rt @mention at #sxsw? get the soundcloud iphone app {link} and start recording. use 4sq geotagging to be on the map: {link}   \n",
       "...                                                                                                                                               ...   \n",
       "5845                                                                                       rt @mention google maps for mobile 5.2 looks awesome.#sxsw   \n",
       "5291  rt @mention #sxsw go 1.1 for android is live in the android marketplace! new features, including sd card storage and more.  {link} via @mention   \n",
       "5496       rt @mention at #sxsw &amp; want to drink free? get the ask around iphone app to find out where we are &amp; join us for drinks in #austin.   \n",
       "874                                                                it amazes me how many people don't tuck the flap in on their apple ipad case #sxsw   \n",
       "7415                                                            pop-up apple store for #sxsw. (@mention apple store, sxsw w/ 86 others) [pic]: {link}   \n",
       "\n",
       "                                                                                                                                                      text_tokenized  \n",
       "9055                                                                                                               [mention, you, give, away, that, ipad, yet, sxsw]  \n",
       "4203                                                                 [link, killer, shot, got, last, night, of, mention, at, the, nokiaconnects, concert, for, sxsw]  \n",
       "1277                       [please, if, were, able, to, attend, sxsw, or, buy, an, ipad, today, consider, saving, few, for, japan, earthquake, relief, via, mention]  \n",
       "6334                          [rt, mention, my, informal, unscientific, observation, is, that, apple, is, by, far, the, computer, of, choice, at, sxsw, hands, link]  \n",
       "5515                       [rt, mention, at, sxsw, get, the, soundcloud, iphone, app, link, and, start, recording, use, 4sq, geotagging, to, be, on, the, map, link]  \n",
       "...                                                                                                                                                              ...  \n",
       "5845                                                                                                  [rt, mention, google, maps, for, mobile, looks, awesome, sxsw]  \n",
       "5291      [rt, mention, sxsw, go, for, android, is, live, in, the, android, marketplace, new, features, including, sd, card, storage, and, more, link, via, mention]  \n",
       "5496  [rt, mention, at, sxsw, amp, want, to, drink, free, get, the, ask, around, iphone, app, to, find, out, where, we, are, amp, join, us, for, drinks, in, austin]  \n",
       "874                                                                [it, amazes, me, how, many, people, don, tuck, the, flap, in, on, their, apple, ipad, case, sxsw]  \n",
       "7415                                                                          [pop, up, apple, store, for, sxsw, mention, apple, store, sxsw, 86, others, pic, link]  \n",
       "\n",
       "[6686 rows x 2 columns]"
      ]
     },
     "execution_count": 183,
     "metadata": {},
     "output_type": "execute_result"
    }
   ],
   "source": [
    "X_train[\"text_tokenized\"]=[(tokenizer.tokenize(str(text)))for text in X_train[\"tweet_text\"]]\n",
    "X_train"
   ]
  },
  {
   "cell_type": "markdown",
   "metadata": {},
   "source": [
    "#### Exploratory Data Analysis: Frequency Distributions"
   ]
  },
  {
   "cell_type": "markdown",
   "metadata": {},
   "source": [
    "@@@@@@@@@@@@@@@@@@@@@@@@pass in a single list of words, and it produces a dictionary-like output of those words and their frequencies."
   ]
  },
  {
   "cell_type": "code",
   "execution_count": 184,
   "metadata": {},
   "outputs": [
    {
     "data": {
      "text/plain": [
       "FreqDist({'sxsw': 7072, 'mention': 5209, 'the': 3279, 'link': 3152, 'to': 2651, 'at': 2306, 'rt': 2139, 'google': 1977, 'for': 1895, 'ipad': 1838, ...})"
      ]
     },
     "execution_count": 184,
     "metadata": {},
     "output_type": "execute_result"
    }
   ],
   "source": [
    "from  nltk import FreqDist\n",
    "X_train_freqdist = FreqDist(X_train[\"text_tokenized\"].explode())\n",
    "X_train_freqdist"
   ]
  },
  {
   "cell_type": "code",
   "execution_count": 185,
   "metadata": {
    "scrolled": true
   },
   "outputs": [
    {
     "data": {
      "image/png": "[encoded data removed]",
      "text/plain": [
       "<Figure size 432x288 with 1 Axes>"
      ]
     },
     "metadata": {
      "needs_background": "light"
     },
     "output_type": "display_data"
    }
   ],
   "source": [
    "import matplotlib.pyplot as plt\n",
    "from matplotlib.ticker import MaxNLocator\n",
    "\n",
    "def visualize_top_25(freq_dist, title):\n",
    "\n",
    "    # Extract data for plotting\n",
    "    top_25 = list(zip(*freq_dist.most_common(25)))\n",
    "    stop_words = top_25[0]\n",
    "    counts = top_25[1]\n",
    "\n",
    "    # Set up plot and plot data\n",
    "    fig, ax = plt.subplots()\n",
    "    ax.bar(stop_words, counts)\n",
    "\n",
    "    # Customize plot appearance\n",
    "    ax.set_title(title)\n",
    "    ax.set_ylabel(\"Count\")\n",
    "    ax.yaxis.set_major_locator(MaxNLocator(integer=True))\n",
    "    ax.tick_params(axis=\"x\", rotation=90)\n",
    "    \n",
    "visualize_top_25(X_train_freqdist, \"Top 25 Word Frequency for xtrain dataframe\")"
   ]
  },
  {
   "cell_type": "markdown",
   "metadata": {},
   "source": [
    "subdivide this by category"
   ]
  },
  {
   "cell_type": "code",
   "execution_count": 186,
   "metadata": {
    "scrolled": true
   },
   "outputs": [
    {
     "data": {
      "text/html": [
       "<div>\n",
       "<style scoped>\n",
       "    .dataframe tbody tr th:only-of-type {\n",
       "        vertical-align: middle;\n",
       "    }\n",
       "\n",
       "    .dataframe tbody tr th {\n",
       "        vertical-align: top;\n",
       "    }\n",
       "\n",
       "    .dataframe thead th {\n",
       "        text-align: right;\n",
       "    }\n",
       "</style>\n",
       "<table border=\"1\" class=\"dataframe\">\n",
       "  <thead>\n",
       "    <tr style=\"text-align: right;\">\n",
       "      <th></th>\n",
       "      <th>tweet_text</th>\n",
       "      <th>text_tokenized</th>\n",
       "      <th>catogory</th>\n",
       "    </tr>\n",
       "  </thead>\n",
       "  <tbody>\n",
       "    <tr>\n",
       "      <th>9055</th>\n",
       "      <td>@mention you give away that ipad yet.... ? #sxsw</td>\n",
       "      <td>[mention, you, give, away, that, ipad, yet, sxsw]</td>\n",
       "      <td>1</td>\n",
       "    </tr>\n",
       "    <tr>\n",
       "      <th>4203</th>\n",
       "      <td>{link} killer shot i got last night of @mention at the #nokiaconnects concert for #sxsw</td>\n",
       "      <td>[link, killer, shot, got, last, night, of, mention, at, the, nokiaconnects, concert, for, sxsw]</td>\n",
       "      <td>1</td>\n",
       "    </tr>\n",
       "    <tr>\n",
       "      <th>1277</th>\n",
       "      <td>please if u were able to [...] attend #sxsw or buy an ipad today, consider saving a few $$ for japan earthquake relief (via @mention</td>\n",
       "      <td>[please, if, were, able, to, attend, sxsw, or, buy, an, ipad, today, consider, saving, few, for, japan, earthquake, relief, via, mention]</td>\n",
       "      <td>1</td>\n",
       "    </tr>\n",
       "    <tr>\n",
       "      <th>6334</th>\n",
       "      <td>rt @mention my informal unscientific observation is that #apple is by far the computer of choice at #sxsw. hands ... {link}</td>\n",
       "      <td>[rt, mention, my, informal, unscientific, observation, is, that, apple, is, by, far, the, computer, of, choice, at, sxsw, hands, link]</td>\n",
       "      <td>2</td>\n",
       "    </tr>\n",
       "    <tr>\n",
       "      <th>5515</th>\n",
       "      <td>rt @mention at #sxsw? get the soundcloud iphone app {link} and start recording. use 4sq geotagging to be on the map: {link}</td>\n",
       "      <td>[rt, mention, at, sxsw, get, the, soundcloud, iphone, app, link, and, start, recording, use, 4sq, geotagging, to, be, on, the, map, link]</td>\n",
       "      <td>1</td>\n",
       "    </tr>\n",
       "    <tr>\n",
       "      <th>...</th>\n",
       "      <td>...</td>\n",
       "      <td>...</td>\n",
       "      <td>...</td>\n",
       "    </tr>\n",
       "    <tr>\n",
       "      <th>5845</th>\n",
       "      <td>rt @mention google maps for mobile 5.2 looks awesome.#sxsw</td>\n",
       "      <td>[rt, mention, google, maps, for, mobile, looks, awesome, sxsw]</td>\n",
       "      <td>2</td>\n",
       "    </tr>\n",
       "    <tr>\n",
       "      <th>5291</th>\n",
       "      <td>rt @mention #sxsw go 1.1 for android is live in the android marketplace! new features, including sd card storage and more.  {link} via @mention</td>\n",
       "      <td>[rt, mention, sxsw, go, for, android, is, live, in, the, android, marketplace, new, features, including, sd, card, storage, and, more, link, via, mention]</td>\n",
       "      <td>2</td>\n",
       "    </tr>\n",
       "    <tr>\n",
       "      <th>5496</th>\n",
       "      <td>rt @mention at #sxsw &amp;amp; want to drink free? get the ask around iphone app to find out where we are &amp;amp; join us for drinks in #austin.</td>\n",
       "      <td>[rt, mention, at, sxsw, amp, want, to, drink, free, get, the, ask, around, iphone, app, to, find, out, where, we, are, amp, join, us, for, drinks, in, austin]</td>\n",
       "      <td>2</td>\n",
       "    </tr>\n",
       "    <tr>\n",
       "      <th>874</th>\n",
       "      <td>it amazes me how many people don't tuck the flap in on their apple ipad case #sxsw</td>\n",
       "      <td>[it, amazes, me, how, many, people, don, tuck, the, flap, in, on, their, apple, ipad, case, sxsw]</td>\n",
       "      <td>1</td>\n",
       "    </tr>\n",
       "    <tr>\n",
       "      <th>7415</th>\n",
       "      <td>pop-up apple store for #sxsw. (@mention apple store, sxsw w/ 86 others) [pic]: {link}</td>\n",
       "      <td>[pop, up, apple, store, for, sxsw, mention, apple, store, sxsw, 86, others, pic, link]</td>\n",
       "      <td>1</td>\n",
       "    </tr>\n",
       "  </tbody>\n",
       "</table>\n",
       "<p>6686 rows × 3 columns</p>\n",
       "</div>"
      ],
      "text/plain": [
       "                                                                                                                                           tweet_text  \\\n",
       "9055                                                                                                 @mention you give away that ipad yet.... ? #sxsw   \n",
       "4203                                                          {link} killer shot i got last night of @mention at the #nokiaconnects concert for #sxsw   \n",
       "1277             please if u were able to [...] attend #sxsw or buy an ipad today, consider saving a few $$ for japan earthquake relief (via @mention   \n",
       "6334                      rt @mention my informal unscientific observation is that #apple is by far the computer of choice at #sxsw. hands ... {link}   \n",
       "5515                      rt @mention at #sxsw? get the soundcloud iphone app {link} and start recording. use 4sq geotagging to be on the map: {link}   \n",
       "...                                                                                                                                               ...   \n",
       "5845                                                                                       rt @mention google maps for mobile 5.2 looks awesome.#sxsw   \n",
       "5291  rt @mention #sxsw go 1.1 for android is live in the android marketplace! new features, including sd card storage and more.  {link} via @mention   \n",
       "5496       rt @mention at #sxsw &amp; want to drink free? get the ask around iphone app to find out where we are &amp; join us for drinks in #austin.   \n",
       "874                                                                it amazes me how many people don't tuck the flap in on their apple ipad case #sxsw   \n",
       "7415                                                            pop-up apple store for #sxsw. (@mention apple store, sxsw w/ 86 others) [pic]: {link}   \n",
       "\n",
       "                                                                                                                                                      text_tokenized  \\\n",
       "9055                                                                                                               [mention, you, give, away, that, ipad, yet, sxsw]   \n",
       "4203                                                                 [link, killer, shot, got, last, night, of, mention, at, the, nokiaconnects, concert, for, sxsw]   \n",
       "1277                       [please, if, were, able, to, attend, sxsw, or, buy, an, ipad, today, consider, saving, few, for, japan, earthquake, relief, via, mention]   \n",
       "6334                          [rt, mention, my, informal, unscientific, observation, is, that, apple, is, by, far, the, computer, of, choice, at, sxsw, hands, link]   \n",
       "5515                       [rt, mention, at, sxsw, get, the, soundcloud, iphone, app, link, and, start, recording, use, 4sq, geotagging, to, be, on, the, map, link]   \n",
       "...                                                                                                                                                              ...   \n",
       "5845                                                                                                  [rt, mention, google, maps, for, mobile, looks, awesome, sxsw]   \n",
       "5291      [rt, mention, sxsw, go, for, android, is, live, in, the, android, marketplace, new, features, including, sd, card, storage, and, more, link, via, mention]   \n",
       "5496  [rt, mention, at, sxsw, amp, want, to, drink, free, get, the, ask, around, iphone, app, to, find, out, where, we, are, amp, join, us, for, drinks, in, austin]   \n",
       "874                                                                [it, amazes, me, how, many, people, don, tuck, the, flap, in, on, their, apple, ipad, case, sxsw]   \n",
       "7415                                                                          [pop, up, apple, store, for, sxsw, mention, apple, store, sxsw, 86, others, pic, link]   \n",
       "\n",
       "      catogory  \n",
       "9055         1  \n",
       "4203         1  \n",
       "1277         1  \n",
       "6334         2  \n",
       "5515         1  \n",
       "...        ...  \n",
       "5845         2  \n",
       "5291         2  \n",
       "5496         2  \n",
       "874          1  \n",
       "7415         1  \n",
       "\n",
       "[6686 rows x 3 columns]"
      ]
     },
     "execution_count": 186,
     "metadata": {},
     "output_type": "execute_result"
    }
   ],
   "source": [
    "train_set = pd.concat([X_train,y_train],axis =1)\n",
    "train_set"
   ]
  },
  {
   "cell_type": "markdown",
   "metadata": {},
   "source": [
    "###### posative"
   ]
  },
  {
   "cell_type": "code",
   "execution_count": 187,
   "metadata": {
    "scrolled": true
   },
   "outputs": [
    {
     "data": {
      "text/html": [
       "<div>\n",
       "<style scoped>\n",
       "    .dataframe tbody tr th:only-of-type {\n",
       "        vertical-align: middle;\n",
       "    }\n",
       "\n",
       "    .dataframe tbody tr th {\n",
       "        vertical-align: top;\n",
       "    }\n",
       "\n",
       "    .dataframe thead th {\n",
       "        text-align: right;\n",
       "    }\n",
       "</style>\n",
       "<table border=\"1\" class=\"dataframe\">\n",
       "  <thead>\n",
       "    <tr style=\"text-align: right;\">\n",
       "      <th></th>\n",
       "      <th>tweet_text</th>\n",
       "      <th>text_tokenized</th>\n",
       "      <th>catogory</th>\n",
       "    </tr>\n",
       "  </thead>\n",
       "  <tbody>\n",
       "    <tr>\n",
       "      <th>6334</th>\n",
       "      <td>rt @mention my informal unscientific observation is that #apple is by far the computer of choice at #sxsw. hands ... {link}</td>\n",
       "      <td>[rt, mention, my, informal, unscientific, observation, is, that, apple, is, by, far, the, computer, of, choice, at, sxsw, hands, link]</td>\n",
       "      <td>2</td>\n",
       "    </tr>\n",
       "    <tr>\n",
       "      <th>1533</th>\n",
       "      <td>get (down)loaded hoot! - rt #hootsuite mobile for #sxsw ~ updates for iphone, blackberry &amp;amp; android {link}</td>\n",
       "      <td>[get, down, loaded, hoot, rt, hootsuite, mobile, for, sxsw, updates, for, iphone, blackberry, amp, android, link]</td>\n",
       "      <td>2</td>\n",
       "    </tr>\n",
       "    <tr>\n",
       "      <th>3610</th>\n",
       "      <td>google tries to give doodles a whimsical, fun spirit. #sxsw #googledoodles</td>\n",
       "      <td>[google, tries, to, give, doodles, whimsical, fun, spirit, sxsw, googledoodles]</td>\n",
       "      <td>2</td>\n",
       "    </tr>\n",
       "    <tr>\n",
       "      <th>712</th>\n",
       "      <td>flipboard is developing an iphone version, not android, says @mention #sxsw</td>\n",
       "      <td>[flipboard, is, developing, an, iphone, version, not, android, says, mention, sxsw]</td>\n",
       "      <td>2</td>\n",
       "    </tr>\n",
       "    <tr>\n",
       "      <th>420</th>\n",
       "      <td>four more days! #ipad #sxsw #weekend #battlela</td>\n",
       "      <td>[four, more, days, ipad, sxsw, weekend, battlela]</td>\n",
       "      <td>2</td>\n",
       "    </tr>\n",
       "    <tr>\n",
       "      <th>...</th>\n",
       "      <td>...</td>\n",
       "      <td>...</td>\n",
       "      <td>...</td>\n",
       "    </tr>\n",
       "    <tr>\n",
       "      <th>4512</th>\n",
       "      <td>google handing out free pi for pi day! #sxsw #win</td>\n",
       "      <td>[google, handing, out, free, pi, for, pi, day, sxsw, win]</td>\n",
       "      <td>2</td>\n",
       "    </tr>\n",
       "    <tr>\n",
       "      <th>474</th>\n",
       "      <td>before it even begins, apple wins sxsw - techcrunch {link} #sxsw</td>\n",
       "      <td>[before, it, even, begins, apple, wins, sxsw, techcrunch, link, sxsw]</td>\n",
       "      <td>2</td>\n",
       "    </tr>\n",
       "    <tr>\n",
       "      <th>5845</th>\n",
       "      <td>rt @mention google maps for mobile 5.2 looks awesome.#sxsw</td>\n",
       "      <td>[rt, mention, google, maps, for, mobile, looks, awesome, sxsw]</td>\n",
       "      <td>2</td>\n",
       "    </tr>\n",
       "    <tr>\n",
       "      <th>5291</th>\n",
       "      <td>rt @mention #sxsw go 1.1 for android is live in the android marketplace! new features, including sd card storage and more.  {link} via @mention</td>\n",
       "      <td>[rt, mention, sxsw, go, for, android, is, live, in, the, android, marketplace, new, features, including, sd, card, storage, and, more, link, via, mention]</td>\n",
       "      <td>2</td>\n",
       "    </tr>\n",
       "    <tr>\n",
       "      <th>5496</th>\n",
       "      <td>rt @mention at #sxsw &amp;amp; want to drink free? get the ask around iphone app to find out where we are &amp;amp; join us for drinks in #austin.</td>\n",
       "      <td>[rt, mention, at, sxsw, amp, want, to, drink, free, get, the, ask, around, iphone, app, to, find, out, where, we, are, amp, join, us, for, drinks, in, austin]</td>\n",
       "      <td>2</td>\n",
       "    </tr>\n",
       "  </tbody>\n",
       "</table>\n",
       "<p>2229 rows × 3 columns</p>\n",
       "</div>"
      ],
      "text/plain": [
       "                                                                                                                                           tweet_text  \\\n",
       "6334                      rt @mention my informal unscientific observation is that #apple is by far the computer of choice at #sxsw. hands ... {link}   \n",
       "1533                                    get (down)loaded hoot! - rt #hootsuite mobile for #sxsw ~ updates for iphone, blackberry &amp; android {link}   \n",
       "3610                                                                       google tries to give doodles a whimsical, fun spirit. #sxsw #googledoodles   \n",
       "712                                                                       flipboard is developing an iphone version, not android, says @mention #sxsw   \n",
       "420                                                                                                    four more days! #ipad #sxsw #weekend #battlela   \n",
       "...                                                                                                                                               ...   \n",
       "4512                                                                                                google handing out free pi for pi day! #sxsw #win   \n",
       "474                                                                                  before it even begins, apple wins sxsw - techcrunch {link} #sxsw   \n",
       "5845                                                                                       rt @mention google maps for mobile 5.2 looks awesome.#sxsw   \n",
       "5291  rt @mention #sxsw go 1.1 for android is live in the android marketplace! new features, including sd card storage and more.  {link} via @mention   \n",
       "5496       rt @mention at #sxsw &amp; want to drink free? get the ask around iphone app to find out where we are &amp; join us for drinks in #austin.   \n",
       "\n",
       "                                                                                                                                                      text_tokenized  \\\n",
       "6334                          [rt, mention, my, informal, unscientific, observation, is, that, apple, is, by, far, the, computer, of, choice, at, sxsw, hands, link]   \n",
       "1533                                               [get, down, loaded, hoot, rt, hootsuite, mobile, for, sxsw, updates, for, iphone, blackberry, amp, android, link]   \n",
       "3610                                                                                 [google, tries, to, give, doodles, whimsical, fun, spirit, sxsw, googledoodles]   \n",
       "712                                                                              [flipboard, is, developing, an, iphone, version, not, android, says, mention, sxsw]   \n",
       "420                                                                                                                [four, more, days, ipad, sxsw, weekend, battlela]   \n",
       "...                                                                                                                                                              ...   \n",
       "4512                                                                                                       [google, handing, out, free, pi, for, pi, day, sxsw, win]   \n",
       "474                                                                                            [before, it, even, begins, apple, wins, sxsw, techcrunch, link, sxsw]   \n",
       "5845                                                                                                  [rt, mention, google, maps, for, mobile, looks, awesome, sxsw]   \n",
       "5291      [rt, mention, sxsw, go, for, android, is, live, in, the, android, marketplace, new, features, including, sd, card, storage, and, more, link, via, mention]   \n",
       "5496  [rt, mention, at, sxsw, amp, want, to, drink, free, get, the, ask, around, iphone, app, to, find, out, where, we, are, amp, join, us, for, drinks, in, austin]   \n",
       "\n",
       "      catogory  \n",
       "6334         2  \n",
       "1533         2  \n",
       "3610         2  \n",
       "712          2  \n",
       "420          2  \n",
       "...        ...  \n",
       "4512         2  \n",
       "474          2  \n",
       "5845         2  \n",
       "5291         2  \n",
       "5496         2  \n",
       "\n",
       "[2229 rows x 3 columns]"
      ]
     },
     "execution_count": 187,
     "metadata": {},
     "output_type": "execute_result"
    }
   ],
   "source": [
    "train_set_posative=train_set[train_set[\"catogory\"]==2]\n",
    "train_set_posative"
   ]
  },
  {
   "cell_type": "code",
   "execution_count": 188,
   "metadata": {
    "scrolled": true
   },
   "outputs": [
    {
     "data": {
      "text/plain": [
       "FreqDist({'sxsw': 2345, 'mention': 1610, 'the': 1223, 'link': 918, 'to': 848, 'at': 769, 'ipad': 767, 'apple': 703, 'for': 700, 'rt': 675, ...})"
      ]
     },
     "execution_count": 188,
     "metadata": {},
     "output_type": "execute_result"
    }
   ],
   "source": [
    "from  nltk import FreqDist\n",
    "train_set_posative_freqdist =FreqDist(train_set_posative[\"text_tokenized\"].explode())\n",
    "train_set_posative_freqdist"
   ]
  },
  {
   "cell_type": "code",
   "execution_count": 189,
   "metadata": {},
   "outputs": [
    {
     "data": {
      "image/png": "[encoded data removed]",
      "text/plain": [
       "<Figure size 432x288 with 1 Axes>"
      ]
     },
     "metadata": {
      "needs_background": "light"
     },
     "output_type": "display_data"
    }
   ],
   "source": [
    "visualize_top_25(train_set_posative_freqdist, \"Top 25 Word Frequency for posative subset\")"
   ]
  },
  {
   "cell_type": "markdown",
   "metadata": {},
   "source": [
    "###### Negative"
   ]
  },
  {
   "cell_type": "code",
   "execution_count": 190,
   "metadata": {
    "scrolled": true
   },
   "outputs": [
    {
     "data": {
      "text/html": [
       "<div>\n",
       "<style scoped>\n",
       "    .dataframe tbody tr th:only-of-type {\n",
       "        vertical-align: middle;\n",
       "    }\n",
       "\n",
       "    .dataframe tbody tr th {\n",
       "        vertical-align: top;\n",
       "    }\n",
       "\n",
       "    .dataframe thead th {\n",
       "        text-align: right;\n",
       "    }\n",
       "</style>\n",
       "<table border=\"1\" class=\"dataframe\">\n",
       "  <thead>\n",
       "    <tr style=\"text-align: right;\">\n",
       "      <th></th>\n",
       "      <th>tweet_text</th>\n",
       "      <th>text_tokenized</th>\n",
       "      <th>catogory</th>\n",
       "    </tr>\n",
       "  </thead>\n",
       "  <tbody>\n",
       "    <tr>\n",
       "      <th>1062</th>\n",
       "      <td>new #sxsw rule: no more ooing and ahing over your new ipad. we get it. its not a big deal. everybody has one now... :-)</td>\n",
       "      <td>[new, sxsw, rule, no, more, ooing, and, ahing, over, your, new, ipad, we, get, it, its, not, big, deal, everybody, has, one, now]</td>\n",
       "      <td>0</td>\n",
       "    </tr>\n",
       "    <tr>\n",
       "      <th>3448</th>\n",
       "      <td>data is the new oil. (companies like google and facebook have monopoly and terms of service to be wary of) - @mention #sxsw</td>\n",
       "      <td>[data, is, the, new, oil, companies, like, google, and, facebook, have, monopoly, and, terms, of, service, to, be, wary, of, mention, sxsw]</td>\n",
       "      <td>0</td>\n",
       "    </tr>\n",
       "    <tr>\n",
       "      <th>7809</th>\n",
       "      <td>will i survive #sxsw will only 1.6 gigs of space left on my iphone? we shall see.</td>\n",
       "      <td>[will, survive, sxsw, will, only, gigs, of, space, left, on, my, iphone, we, shall, see]</td>\n",
       "      <td>0</td>\n",
       "    </tr>\n",
       "    <tr>\n",
       "      <th>913</th>\n",
       "      <td>hm? do we need another 1? rt @mention google to launch major new social network called circles, possibly today {link} #sxsw</td>\n",
       "      <td>[hm, do, we, need, another, rt, mention, google, to, launch, major, new, social, network, called, circles, possibly, today, link, sxsw]</td>\n",
       "      <td>0</td>\n",
       "    </tr>\n",
       "    <tr>\n",
       "      <th>233</th>\n",
       "      <td>if iphone alarms botch the timechange, how many #sxsw'ers freak? late to flights, missed panels, behind on bloody marys...</td>\n",
       "      <td>[if, iphone, alarms, botch, the, timechange, how, many, sxsw, ers, freak, late, to, flights, missed, panels, behind, on, bloody, marys]</td>\n",
       "      <td>0</td>\n",
       "    </tr>\n",
       "    <tr>\n",
       "      <th>...</th>\n",
       "      <td>...</td>\n",
       "      <td>...</td>\n",
       "      <td>...</td>\n",
       "    </tr>\n",
       "    <tr>\n",
       "      <th>3214</th>\n",
       "      <td>navigating a crowded party sucks. but its way worse when everyone walks around with their face in their iphone. #sxsw #adpeopleproblems</td>\n",
       "      <td>[navigating, crowded, party, sucks, but, its, way, worse, when, everyone, walks, around, with, their, face, in, their, iphone, sxsw, adpeopleproblems]</td>\n",
       "      <td>0</td>\n",
       "    </tr>\n",
       "    <tr>\n",
       "      <th>6360</th>\n",
       "      <td>rt @mention new iphone autocorrect already tried to change &amp;quot;coworkers&amp;quot; to &amp;quot;visigoths.&amp;quot; its going to be a long five days of #sxsw</td>\n",
       "      <td>[rt, mention, new, iphone, autocorrect, already, tried, to, change, quot, coworkers, quot, to, quot, visigoths, quot, its, going, to, be, long, five, days, of, sxsw]</td>\n",
       "      <td>0</td>\n",
       "    </tr>\n",
       "    <tr>\n",
       "      <th>1285</th>\n",
       "      <td>def could use an ipad for  #sxsw today. tweeting via iphone sorta pretty much sux.</td>\n",
       "      <td>[def, could, use, an, ipad, for, sxsw, today, tweeting, via, iphone, sorta, pretty, much, sux]</td>\n",
       "      <td>0</td>\n",
       "    </tr>\n",
       "    <tr>\n",
       "      <th>4749</th>\n",
       "      <td>i fully anticipate that every geek-douche will be toting an ipad 2 at #sxsw. these people are also why it's not worth going.</td>\n",
       "      <td>[fully, anticipate, that, every, geek, douche, will, be, toting, an, ipad, at, sxsw, these, people, are, also, why, it, not, worth, going]</td>\n",
       "      <td>0</td>\n",
       "    </tr>\n",
       "    <tr>\n",
       "      <th>5416</th>\n",
       "      <td>rt @mention apple autocorrect is so weird. ogilvy autocorrects to idiocy. #ogilvynotes #sxsw :)</td>\n",
       "      <td>[rt, mention, apple, autocorrect, is, so, weird, ogilvy, autocorrects, to, idiocy, ogilvynotes, sxsw]</td>\n",
       "      <td>0</td>\n",
       "    </tr>\n",
       "  </tbody>\n",
       "</table>\n",
       "<p>407 rows × 3 columns</p>\n",
       "</div>"
      ],
      "text/plain": [
       "                                                                                                                                                tweet_text  \\\n",
       "1062                               new #sxsw rule: no more ooing and ahing over your new ipad. we get it. its not a big deal. everybody has one now... :-)   \n",
       "3448                           data is the new oil. (companies like google and facebook have monopoly and terms of service to be wary of) - @mention #sxsw   \n",
       "7809                                                                     will i survive #sxsw will only 1.6 gigs of space left on my iphone? we shall see.   \n",
       "913                            hm? do we need another 1? rt @mention google to launch major new social network called circles, possibly today {link} #sxsw   \n",
       "233                             if iphone alarms botch the timechange, how many #sxsw'ers freak? late to flights, missed panels, behind on bloody marys...   \n",
       "...                                                                                                                                                    ...   \n",
       "3214               navigating a crowded party sucks. but its way worse when everyone walks around with their face in their iphone. #sxsw #adpeopleproblems   \n",
       "6360  rt @mention new iphone autocorrect already tried to change &quot;coworkers&quot; to &quot;visigoths.&quot; its going to be a long five days of #sxsw   \n",
       "1285                                                                    def could use an ipad for  #sxsw today. tweeting via iphone sorta pretty much sux.   \n",
       "4749                          i fully anticipate that every geek-douche will be toting an ipad 2 at #sxsw. these people are also why it's not worth going.   \n",
       "5416                                                       rt @mention apple autocorrect is so weird. ogilvy autocorrects to idiocy. #ogilvynotes #sxsw :)   \n",
       "\n",
       "                                                                                                                                                             text_tokenized  \\\n",
       "1062                                      [new, sxsw, rule, no, more, ooing, and, ahing, over, your, new, ipad, we, get, it, its, not, big, deal, everybody, has, one, now]   \n",
       "3448                            [data, is, the, new, oil, companies, like, google, and, facebook, have, monopoly, and, terms, of, service, to, be, wary, of, mention, sxsw]   \n",
       "7809                                                                               [will, survive, sxsw, will, only, gigs, of, space, left, on, my, iphone, we, shall, see]   \n",
       "913                                 [hm, do, we, need, another, rt, mention, google, to, launch, major, new, social, network, called, circles, possibly, today, link, sxsw]   \n",
       "233                                 [if, iphone, alarms, botch, the, timechange, how, many, sxsw, ers, freak, late, to, flights, missed, panels, behind, on, bloody, marys]   \n",
       "...                                                                                                                                                                     ...   \n",
       "3214                 [navigating, crowded, party, sucks, but, its, way, worse, when, everyone, walks, around, with, their, face, in, their, iphone, sxsw, adpeopleproblems]   \n",
       "6360  [rt, mention, new, iphone, autocorrect, already, tried, to, change, quot, coworkers, quot, to, quot, visigoths, quot, its, going, to, be, long, five, days, of, sxsw]   \n",
       "1285                                                                         [def, could, use, an, ipad, for, sxsw, today, tweeting, via, iphone, sorta, pretty, much, sux]   \n",
       "4749                             [fully, anticipate, that, every, geek, douche, will, be, toting, an, ipad, at, sxsw, these, people, are, also, why, it, not, worth, going]   \n",
       "5416                                                                  [rt, mention, apple, autocorrect, is, so, weird, ogilvy, autocorrects, to, idiocy, ogilvynotes, sxsw]   \n",
       "\n",
       "      catogory  \n",
       "1062         0  \n",
       "3448         0  \n",
       "7809         0  \n",
       "913          0  \n",
       "233          0  \n",
       "...        ...  \n",
       "3214         0  \n",
       "6360         0  \n",
       "1285         0  \n",
       "4749         0  \n",
       "5416         0  \n",
       "\n",
       "[407 rows x 3 columns]"
      ]
     },
     "execution_count": 190,
     "metadata": {},
     "output_type": "execute_result"
    }
   ],
   "source": [
    "train_set_Negative=train_set[train_set[\"catogory\"]==0]\n",
    "train_set_Negative"
   ]
  },
  {
   "cell_type": "code",
   "execution_count": 191,
   "metadata": {
    "scrolled": true
   },
   "outputs": [
    {
     "data": {
      "text/plain": [
       "FreqDist({'sxsw': 420, 'the': 221, 'mention': 209, 'to': 199, 'ipad': 133, 'quot': 128, 'google': 120, 'iphone': 117, 'is': 113, 'at': 104, ...})"
      ]
     },
     "execution_count": 191,
     "metadata": {},
     "output_type": "execute_result"
    }
   ],
   "source": [
    "train_set_Negative_freqdist =FreqDist(train_set_Negative[\"text_tokenized\"].explode())\n",
    "train_set_Negative_freqdist"
   ]
  },
  {
   "cell_type": "code",
   "execution_count": 192,
   "metadata": {
    "scrolled": true
   },
   "outputs": [
    {
     "data": {
      "image/png": "[encoded data removed]",
      "text/plain": [
       "<Figure size 432x288 with 1 Axes>"
      ]
     },
     "metadata": {
      "needs_background": "light"
     },
     "output_type": "display_data"
    }
   ],
   "source": [
    "visualize_top_25(train_set_Negative_freqdist, \"Top 25 Word Frequency for negative subset\")"
   ]
  },
  {
   "cell_type": "markdown",
   "metadata": {},
   "source": [
    "###### No_emotion(nutral)"
   ]
  },
  {
   "cell_type": "code",
   "execution_count": 193,
   "metadata": {
    "scrolled": true
   },
   "outputs": [
    {
     "data": {
      "text/html": [
       "<div>\n",
       "<style scoped>\n",
       "    .dataframe tbody tr th:only-of-type {\n",
       "        vertical-align: middle;\n",
       "    }\n",
       "\n",
       "    .dataframe tbody tr th {\n",
       "        vertical-align: top;\n",
       "    }\n",
       "\n",
       "    .dataframe thead th {\n",
       "        text-align: right;\n",
       "    }\n",
       "</style>\n",
       "<table border=\"1\" class=\"dataframe\">\n",
       "  <thead>\n",
       "    <tr style=\"text-align: right;\">\n",
       "      <th></th>\n",
       "      <th>tweet_text</th>\n",
       "      <th>text_tokenized</th>\n",
       "      <th>catogory</th>\n",
       "    </tr>\n",
       "  </thead>\n",
       "  <tbody>\n",
       "    <tr>\n",
       "      <th>9055</th>\n",
       "      <td>@mention you give away that ipad yet.... ? #sxsw</td>\n",
       "      <td>[mention, you, give, away, that, ipad, yet, sxsw]</td>\n",
       "      <td>1</td>\n",
       "    </tr>\n",
       "    <tr>\n",
       "      <th>4203</th>\n",
       "      <td>{link} killer shot i got last night of @mention at the #nokiaconnects concert for #sxsw</td>\n",
       "      <td>[link, killer, shot, got, last, night, of, mention, at, the, nokiaconnects, concert, for, sxsw]</td>\n",
       "      <td>1</td>\n",
       "    </tr>\n",
       "    <tr>\n",
       "      <th>1277</th>\n",
       "      <td>please if u were able to [...] attend #sxsw or buy an ipad today, consider saving a few $$ for japan earthquake relief (via @mention</td>\n",
       "      <td>[please, if, were, able, to, attend, sxsw, or, buy, an, ipad, today, consider, saving, few, for, japan, earthquake, relief, via, mention]</td>\n",
       "      <td>1</td>\n",
       "    </tr>\n",
       "    <tr>\n",
       "      <th>5515</th>\n",
       "      <td>rt @mention at #sxsw? get the soundcloud iphone app {link} and start recording. use 4sq geotagging to be on the map: {link}</td>\n",
       "      <td>[rt, mention, at, sxsw, get, the, soundcloud, iphone, app, link, and, start, recording, use, 4sq, geotagging, to, be, on, the, map, link]</td>\n",
       "      <td>1</td>\n",
       "    </tr>\n",
       "    <tr>\n",
       "      <th>6369</th>\n",
       "      <td>rt @mention next #sxsw we're heading to is about designing ipad apps for baby boomers. what do you wish apps did that they don't yet? ^tg</td>\n",
       "      <td>[rt, mention, next, sxsw, we, re, heading, to, is, about, designing, ipad, apps, for, baby, boomers, what, do, you, wish, apps, did, that, they, don, yet, tg]</td>\n",
       "      <td>1</td>\n",
       "    </tr>\n",
       "    <tr>\n",
       "      <th>...</th>\n",
       "      <td>...</td>\n",
       "      <td>...</td>\n",
       "      <td>...</td>\n",
       "    </tr>\n",
       "    <tr>\n",
       "      <th>2477</th>\n",
       "      <td>don't need to charge at #sxsw if you're talking in the sun with your iphone: {link} boom!</td>\n",
       "      <td>[don, need, to, charge, at, sxsw, if, you, re, talking, in, the, sun, with, your, iphone, link, boom]</td>\n",
       "      <td>1</td>\n",
       "    </tr>\n",
       "    <tr>\n",
       "      <th>7086</th>\n",
       "      <td>apple is opening a new store in downtown austin friday to make sure everyone at #sxsw can buy a new ipad 2: {link}</td>\n",
       "      <td>[apple, is, opening, new, store, in, downtown, austin, friday, to, make, sure, everyone, at, sxsw, can, buy, new, ipad, link]</td>\n",
       "      <td>1</td>\n",
       "    </tr>\n",
       "    <tr>\n",
       "      <th>6390</th>\n",
       "      <td>rt @mention now discussing pubsubhubbub: {link} #fsw #sxsw</td>\n",
       "      <td>[rt, mention, now, discussing, pubsubhubbub, link, fsw, sxsw]</td>\n",
       "      <td>1</td>\n",
       "    </tr>\n",
       "    <tr>\n",
       "      <th>874</th>\n",
       "      <td>it amazes me how many people don't tuck the flap in on their apple ipad case #sxsw</td>\n",
       "      <td>[it, amazes, me, how, many, people, don, tuck, the, flap, in, on, their, apple, ipad, case, sxsw]</td>\n",
       "      <td>1</td>\n",
       "    </tr>\n",
       "    <tr>\n",
       "      <th>7415</th>\n",
       "      <td>pop-up apple store for #sxsw. (@mention apple store, sxsw w/ 86 others) [pic]: {link}</td>\n",
       "      <td>[pop, up, apple, store, for, sxsw, mention, apple, store, sxsw, 86, others, pic, link]</td>\n",
       "      <td>1</td>\n",
       "    </tr>\n",
       "  </tbody>\n",
       "</table>\n",
       "<p>4050 rows × 3 columns</p>\n",
       "</div>"
      ],
      "text/plain": [
       "                                                                                                                                     tweet_text  \\\n",
       "9055                                                                                           @mention you give away that ipad yet.... ? #sxsw   \n",
       "4203                                                    {link} killer shot i got last night of @mention at the #nokiaconnects concert for #sxsw   \n",
       "1277       please if u were able to [...] attend #sxsw or buy an ipad today, consider saving a few $$ for japan earthquake relief (via @mention   \n",
       "5515                rt @mention at #sxsw? get the soundcloud iphone app {link} and start recording. use 4sq geotagging to be on the map: {link}   \n",
       "6369  rt @mention next #sxsw we're heading to is about designing ipad apps for baby boomers. what do you wish apps did that they don't yet? ^tg   \n",
       "...                                                                                                                                         ...   \n",
       "2477                                                  don't need to charge at #sxsw if you're talking in the sun with your iphone: {link} boom!   \n",
       "7086                         apple is opening a new store in downtown austin friday to make sure everyone at #sxsw can buy a new ipad 2: {link}   \n",
       "6390                                                                                 rt @mention now discussing pubsubhubbub: {link} #fsw #sxsw   \n",
       "874                                                          it amazes me how many people don't tuck the flap in on their apple ipad case #sxsw   \n",
       "7415                                                      pop-up apple store for #sxsw. (@mention apple store, sxsw w/ 86 others) [pic]: {link}   \n",
       "\n",
       "                                                                                                                                                      text_tokenized  \\\n",
       "9055                                                                                                               [mention, you, give, away, that, ipad, yet, sxsw]   \n",
       "4203                                                                 [link, killer, shot, got, last, night, of, mention, at, the, nokiaconnects, concert, for, sxsw]   \n",
       "1277                       [please, if, were, able, to, attend, sxsw, or, buy, an, ipad, today, consider, saving, few, for, japan, earthquake, relief, via, mention]   \n",
       "5515                       [rt, mention, at, sxsw, get, the, soundcloud, iphone, app, link, and, start, recording, use, 4sq, geotagging, to, be, on, the, map, link]   \n",
       "6369  [rt, mention, next, sxsw, we, re, heading, to, is, about, designing, ipad, apps, for, baby, boomers, what, do, you, wish, apps, did, that, they, don, yet, tg]   \n",
       "...                                                                                                                                                              ...   \n",
       "2477                                                           [don, need, to, charge, at, sxsw, if, you, re, talking, in, the, sun, with, your, iphone, link, boom]   \n",
       "7086                                   [apple, is, opening, new, store, in, downtown, austin, friday, to, make, sure, everyone, at, sxsw, can, buy, new, ipad, link]   \n",
       "6390                                                                                                   [rt, mention, now, discussing, pubsubhubbub, link, fsw, sxsw]   \n",
       "874                                                                [it, amazes, me, how, many, people, don, tuck, the, flap, in, on, their, apple, ipad, case, sxsw]   \n",
       "7415                                                                          [pop, up, apple, store, for, sxsw, mention, apple, store, sxsw, 86, others, pic, link]   \n",
       "\n",
       "      catogory  \n",
       "9055         1  \n",
       "4203         1  \n",
       "1277         1  \n",
       "5515         1  \n",
       "6369         1  \n",
       "...        ...  \n",
       "2477         1  \n",
       "7086         1  \n",
       "6390         1  \n",
       "874          1  \n",
       "7415         1  \n",
       "\n",
       "[4050 rows x 3 columns]"
      ]
     },
     "execution_count": 193,
     "metadata": {},
     "output_type": "execute_result"
    }
   ],
   "source": [
    "train_set_No_emotion=train_set[train_set[\"catogory\"]==1]\n",
    "train_set_No_emotion"
   ]
  },
  {
   "cell_type": "code",
   "execution_count": 194,
   "metadata": {
    "scrolled": true
   },
   "outputs": [
    {
     "data": {
      "text/plain": [
       "FreqDist({'sxsw': 4307, 'mention': 3390, 'link': 2164, 'the': 1835, 'to': 1604, 'at': 1433, 'rt': 1381, 'google': 1300, 'for': 1106, 'ipad': 938, ...})"
      ]
     },
     "execution_count": 194,
     "metadata": {},
     "output_type": "execute_result"
    }
   ],
   "source": [
    "train_set_No_emotion_freqdist =FreqDist(train_set_No_emotion[\"text_tokenized\"].explode())\n",
    "train_set_No_emotion_freqdist"
   ]
  },
  {
   "cell_type": "code",
   "execution_count": 195,
   "metadata": {
    "scrolled": true
   },
   "outputs": [
    {
     "data": {
      "image/png": "[encoded data removed]",
      "text/plain": [
       "<Figure size 432x288 with 1 Axes>"
      ]
     },
     "metadata": {
      "needs_background": "light"
     },
     "output_type": "display_data"
    }
   ],
   "source": [
    "visualize_top_25(train_set_No_emotion_freqdist, \"Top 25 Word Frequency for neutral\")"
   ]
  },
  {
   "cell_type": "markdown",
   "metadata": {},
   "source": [
    "## 3. Build and Evaluate a Baseline Model with TfidfVectorizer and MultinomialNB"
   ]
  },
  {
   "cell_type": "markdown",
   "metadata": {},
   "source": [
    "convert a collection of raw documents to a matrix of TF-IDF features."
   ]
  },
  {
   "cell_type": "code",
   "execution_count": 196,
   "metadata": {},
   "outputs": [],
   "source": [
    "# Import the relevant vectorizer class\n",
    "from sklearn.feature_extraction.text import TfidfVectorizer\n",
    "\n",
    "# Instantiate a vectorizer with max_features=10\n",
    "# (we are using the default token pattern)\n",
    "tfidf = TfidfVectorizer(max_features=10)\n",
    "\n",
    "# Fit the vectorizer on X_train[\"text\"] and transform it\n",
    "X_train_vectorized = tfidf.fit_transform(X_train[\"tweet_text\"].values.astype('U'))"
   ]
  },
  {
   "cell_type": "markdown",
   "metadata": {},
   "source": [
    "You need to convert the dtype object to unicode string"
   ]
  },
  {
   "cell_type": "code",
   "execution_count": 197,
   "metadata": {
    "scrolled": true
   },
   "outputs": [
    {
     "data": {
      "text/html": [
       "<div>\n",
       "<style scoped>\n",
       "    .dataframe tbody tr th:only-of-type {\n",
       "        vertical-align: middle;\n",
       "    }\n",
       "\n",
       "    .dataframe tbody tr th {\n",
       "        vertical-align: top;\n",
       "    }\n",
       "\n",
       "    .dataframe thead th {\n",
       "        text-align: right;\n",
       "    }\n",
       "</style>\n",
       "<table border=\"1\" class=\"dataframe\">\n",
       "  <thead>\n",
       "    <tr style=\"text-align: right;\">\n",
       "      <th></th>\n",
       "      <th>at</th>\n",
       "      <th>for</th>\n",
       "      <th>google</th>\n",
       "      <th>ipad</th>\n",
       "      <th>link</th>\n",
       "      <th>mention</th>\n",
       "      <th>rt</th>\n",
       "      <th>sxsw</th>\n",
       "      <th>the</th>\n",
       "      <th>to</th>\n",
       "    </tr>\n",
       "  </thead>\n",
       "  <tbody>\n",
       "    <tr>\n",
       "      <th>0</th>\n",
       "      <td>0.000000</td>\n",
       "      <td>0.000000</td>\n",
       "      <td>0.00000</td>\n",
       "      <td>0.774764</td>\n",
       "      <td>0.000000</td>\n",
       "      <td>0.538018</td>\n",
       "      <td>0.000000</td>\n",
       "      <td>0.332080</td>\n",
       "      <td>0.000000</td>\n",
       "      <td>0.000000</td>\n",
       "    </tr>\n",
       "    <tr>\n",
       "      <th>1</th>\n",
       "      <td>0.473866</td>\n",
       "      <td>0.520480</td>\n",
       "      <td>0.00000</td>\n",
       "      <td>0.000000</td>\n",
       "      <td>0.389276</td>\n",
       "      <td>0.354368</td>\n",
       "      <td>0.000000</td>\n",
       "      <td>0.218726</td>\n",
       "      <td>0.423789</td>\n",
       "      <td>0.000000</td>\n",
       "    </tr>\n",
       "    <tr>\n",
       "      <th>2</th>\n",
       "      <td>0.000000</td>\n",
       "      <td>0.543911</td>\n",
       "      <td>0.00000</td>\n",
       "      <td>0.533275</td>\n",
       "      <td>0.000000</td>\n",
       "      <td>0.370321</td>\n",
       "      <td>0.000000</td>\n",
       "      <td>0.228573</td>\n",
       "      <td>0.000000</td>\n",
       "      <td>0.479995</td>\n",
       "    </tr>\n",
       "    <tr>\n",
       "      <th>3</th>\n",
       "      <td>0.481111</td>\n",
       "      <td>0.000000</td>\n",
       "      <td>0.00000</td>\n",
       "      <td>0.000000</td>\n",
       "      <td>0.395228</td>\n",
       "      <td>0.359786</td>\n",
       "      <td>0.498433</td>\n",
       "      <td>0.222070</td>\n",
       "      <td>0.430268</td>\n",
       "      <td>0.000000</td>\n",
       "    </tr>\n",
       "    <tr>\n",
       "      <th>4</th>\n",
       "      <td>0.321350</td>\n",
       "      <td>0.000000</td>\n",
       "      <td>0.00000</td>\n",
       "      <td>0.000000</td>\n",
       "      <td>0.527971</td>\n",
       "      <td>0.240313</td>\n",
       "      <td>0.332919</td>\n",
       "      <td>0.148328</td>\n",
       "      <td>0.574780</td>\n",
       "      <td>0.311484</td>\n",
       "    </tr>\n",
       "    <tr>\n",
       "      <th>...</th>\n",
       "      <td>...</td>\n",
       "      <td>...</td>\n",
       "      <td>...</td>\n",
       "      <td>...</td>\n",
       "      <td>...</td>\n",
       "      <td>...</td>\n",
       "      <td>...</td>\n",
       "      <td>...</td>\n",
       "      <td>...</td>\n",
       "      <td>...</td>\n",
       "    </tr>\n",
       "    <tr>\n",
       "      <th>6681</th>\n",
       "      <td>0.000000</td>\n",
       "      <td>0.537423</td>\n",
       "      <td>0.51897</td>\n",
       "      <td>0.000000</td>\n",
       "      <td>0.000000</td>\n",
       "      <td>0.365904</td>\n",
       "      <td>0.506907</td>\n",
       "      <td>0.225846</td>\n",
       "      <td>0.000000</td>\n",
       "      <td>0.000000</td>\n",
       "    </tr>\n",
       "    <tr>\n",
       "      <th>6682</th>\n",
       "      <td>0.000000</td>\n",
       "      <td>0.440960</td>\n",
       "      <td>0.00000</td>\n",
       "      <td>0.000000</td>\n",
       "      <td>0.329801</td>\n",
       "      <td>0.600454</td>\n",
       "      <td>0.415922</td>\n",
       "      <td>0.185309</td>\n",
       "      <td>0.359041</td>\n",
       "      <td>0.000000</td>\n",
       "    </tr>\n",
       "    <tr>\n",
       "      <th>6683</th>\n",
       "      <td>0.340799</td>\n",
       "      <td>0.374324</td>\n",
       "      <td>0.00000</td>\n",
       "      <td>0.000000</td>\n",
       "      <td>0.000000</td>\n",
       "      <td>0.254858</td>\n",
       "      <td>0.353069</td>\n",
       "      <td>0.157306</td>\n",
       "      <td>0.304785</td>\n",
       "      <td>0.660673</td>\n",
       "    </tr>\n",
       "    <tr>\n",
       "      <th>6684</th>\n",
       "      <td>0.000000</td>\n",
       "      <td>0.000000</td>\n",
       "      <td>0.00000</td>\n",
       "      <td>0.730611</td>\n",
       "      <td>0.000000</td>\n",
       "      <td>0.000000</td>\n",
       "      <td>0.000000</td>\n",
       "      <td>0.313155</td>\n",
       "      <td>0.606747</td>\n",
       "      <td>0.000000</td>\n",
       "    </tr>\n",
       "    <tr>\n",
       "      <th>6685</th>\n",
       "      <td>0.000000</td>\n",
       "      <td>0.605301</td>\n",
       "      <td>0.00000</td>\n",
       "      <td>0.000000</td>\n",
       "      <td>0.452715</td>\n",
       "      <td>0.412118</td>\n",
       "      <td>0.000000</td>\n",
       "      <td>0.508742</td>\n",
       "      <td>0.000000</td>\n",
       "      <td>0.000000</td>\n",
       "    </tr>\n",
       "  </tbody>\n",
       "</table>\n",
       "<p>6686 rows × 10 columns</p>\n",
       "</div>"
      ],
      "text/plain": [
       "            at       for   google      ipad      link   mention        rt  \\\n",
       "0     0.000000  0.000000  0.00000  0.774764  0.000000  0.538018  0.000000   \n",
       "1     0.473866  0.520480  0.00000  0.000000  0.389276  0.354368  0.000000   \n",
       "2     0.000000  0.543911  0.00000  0.533275  0.000000  0.370321  0.000000   \n",
       "3     0.481111  0.000000  0.00000  0.000000  0.395228  0.359786  0.498433   \n",
       "4     0.321350  0.000000  0.00000  0.000000  0.527971  0.240313  0.332919   \n",
       "...        ...       ...      ...       ...       ...       ...       ...   \n",
       "6681  0.000000  0.537423  0.51897  0.000000  0.000000  0.365904  0.506907   \n",
       "6682  0.000000  0.440960  0.00000  0.000000  0.329801  0.600454  0.415922   \n",
       "6683  0.340799  0.374324  0.00000  0.000000  0.000000  0.254858  0.353069   \n",
       "6684  0.000000  0.000000  0.00000  0.730611  0.000000  0.000000  0.000000   \n",
       "6685  0.000000  0.605301  0.00000  0.000000  0.452715  0.412118  0.000000   \n",
       "\n",
       "          sxsw       the        to  \n",
       "0     0.332080  0.000000  0.000000  \n",
       "1     0.218726  0.423789  0.000000  \n",
       "2     0.228573  0.000000  0.479995  \n",
       "3     0.222070  0.430268  0.000000  \n",
       "4     0.148328  0.574780  0.311484  \n",
       "...        ...       ...       ...  \n",
       "6681  0.225846  0.000000  0.000000  \n",
       "6682  0.185309  0.359041  0.000000  \n",
       "6683  0.157306  0.304785  0.660673  \n",
       "6684  0.313155  0.606747  0.000000  \n",
       "6685  0.508742  0.000000  0.000000  \n",
       "\n",
       "[6686 rows x 10 columns]"
      ]
     },
     "execution_count": 197,
     "metadata": {},
     "output_type": "execute_result"
    }
   ],
   "source": [
    "pd.DataFrame.sparse.from_spmatrix(X_train_vectorized, columns=tfidf.get_feature_names())"
   ]
  },
  {
   "cell_type": "markdown",
   "metadata": {},
   "source": [
    "baseline model"
   ]
  },
  {
   "cell_type": "code",
   "execution_count": 198,
   "metadata": {
    "scrolled": true
   },
   "outputs": [
    {
     "name": "stderr",
     "output_type": "stream",
     "text": [
      "C:\\Users\\mays8\\anaconda3\\envs\\learn-env\\lib\\site-packages\\sklearn\\utils\\validation.py:72: DataConversionWarning: A column-vector y was passed when a 1d array was expected. Please change the shape of y to (n_samples, ), for example using ravel().\n",
      "  return f(**kwargs)\n",
      "C:\\Users\\mays8\\anaconda3\\envs\\learn-env\\lib\\site-packages\\sklearn\\utils\\validation.py:72: DataConversionWarning: A column-vector y was passed when a 1d array was expected. Please change the shape of y to (n_samples, ), for example using ravel().\n",
      "  return f(**kwargs)\n",
      "C:\\Users\\mays8\\anaconda3\\envs\\learn-env\\lib\\site-packages\\sklearn\\utils\\validation.py:72: DataConversionWarning: A column-vector y was passed when a 1d array was expected. Please change the shape of y to (n_samples, ), for example using ravel().\n",
      "  return f(**kwargs)\n",
      "C:\\Users\\mays8\\anaconda3\\envs\\learn-env\\lib\\site-packages\\sklearn\\utils\\validation.py:72: DataConversionWarning: A column-vector y was passed when a 1d array was expected. Please change the shape of y to (n_samples, ), for example using ravel().\n",
      "  return f(**kwargs)\n",
      "C:\\Users\\mays8\\anaconda3\\envs\\learn-env\\lib\\site-packages\\sklearn\\utils\\validation.py:72: DataConversionWarning: A column-vector y was passed when a 1d array was expected. Please change the shape of y to (n_samples, ), for example using ravel().\n",
      "  return f(**kwargs)\n"
     ]
    },
    {
     "data": {
      "text/plain": [
       "array([0.60538117, 0.60583396, 0.60583396, 0.60583396, 0.60583396])"
      ]
     },
     "execution_count": 198,
     "metadata": {},
     "output_type": "execute_result"
    }
   ],
   "source": [
    "# Import relevant class and function\n",
    "from sklearn.naive_bayes import MultinomialNB\n",
    "from sklearn.model_selection import cross_val_score\n",
    "\n",
    "# Instantiate a MultinomialNB classifier\n",
    "baseline_model = MultinomialNB()\n",
    "\n",
    "# Evaluate the classifier on X_train_vectorized and y_train\n",
    "baseline_cv = cross_val_score(baseline_model, X_train_vectorized, y_train)\n",
    "baseline_cv"
   ]
  },
  {
   "cell_type": "code",
   "execution_count": 199,
   "metadata": {
    "scrolled": true
   },
   "outputs": [
    {
     "name": "stdout",
     "output_type": "stream",
     "text": [
      "Baseline:          0.605743398479294\n"
     ]
    }
   ],
   "source": [
    "print(\"Baseline:         \", baseline_cv.mean())"
   ]
  },
  {
   "cell_type": "code",
   "execution_count": 200,
   "metadata": {
    "scrolled": false
   },
   "outputs": [
    {
     "data": {
      "text/plain": [
       "catogory\n",
       "1           0.605743\n",
       "2           0.333383\n",
       "0           0.060873\n",
       "dtype: float64"
      ]
     },
     "execution_count": 200,
     "metadata": {},
     "output_type": "execute_result"
    }
   ],
   "source": [
    "y_train.value_counts(normalize=True)"
   ]
  },
  {
   "cell_type": "markdown",
   "metadata": {},
   "source": [
    "(class 1), we would expect about 60% accuracy\n",
    "(class 2), we would expect about 33% accuracy\n",
    "(class 0), we would expect about 6% accuracy"
   ]
  },
  {
   "cell_type": "markdown",
   "metadata": {},
   "source": [
    "we can improve that with more preprocessing"
   ]
  },
  {
   "cell_type": "markdown",
   "metadata": {},
   "source": [
    "Creating a Bag of Words\n",
    "\n",
    " information about all the important words in the text individually, but not in any particular order. It's as if we take every word in a Corpus and throw them into a bag. With a large enough corpus, we'll often see certain patterns start to emerge.\n",
    "  count how many times each unique word is used in a given corpus.\n",
    "  \n",
    "  \n",
    "  \n",
    "  Basic Cleaning:\n",
    "  punctuation and capitalization\n",
    "  how many times a word appears in a text \n",
    "  Stemming removing the ends of words\n",
    "  Lemmatization \n",
    "  remove stop word after tokinization\n",
    "  \n",
    "  \n",
    "  \n",
    " Vectorization Strategies:convert data to vector\n",
    " Count Vectorization:count the number of times each word appears in the corpus\n",
    " TF-IDF Vectorization:used when we have multiple documents."
   ]
  },
  {
   "cell_type": "code",
   "execution_count": null,
   "metadata": {},
   "outputs": [],
   "source": []
  },
  {
   "cell_type": "markdown",
   "metadata": {},
   "source": [
    "### 4. Perform and Evaluate Preprocessing and Feature Engineering Techniques"
   ]
  },
  {
   "cell_type": "markdown",
   "metadata": {},
   "source": [
    "Do we remove stop words or not?\n",
    "Do we stem or lemmatize our text data, or leave the words as is?\n",
    "Is basic tokenization enough, or do we need to support special edge cases through the use of regex?\n",
    "Do we use the entire vocabulary, or just limit the model to a subset of the most frequently used words? If so, how many?\n",
    "Do we engineer other features, such as bigrams, or POS tags, or Mutual Information Scores?\n",
    "What sort of vectorization should we use in our model? Boolean Vectorization? Count Vectorization? TF-IDF? More advanced vectorization strategies such as Word2Vec?\n",
    "These are all questions that we'll need to think about pretty much anytime we begin working with text data."
   ]
  },
  {
   "cell_type": "markdown",
   "metadata": {},
   "source": [
    "##### Removing Stopwords"
   ]
  },
  {
   "cell_type": "code",
   "execution_count": 124,
   "metadata": {},
   "outputs": [],
   "source": [
    "from nltk.corpus import stopwords\n",
    "import string"
   ]
  },
  {
   "cell_type": "code",
   "execution_count": 125,
   "metadata": {},
   "outputs": [],
   "source": [
    "s_w = stopwords.words('english')\n",
    "s_w += list(string.punctuation)\n",
    "s_w += ['0', '1', '2', '3', '4', '5', '6', '7', '8', '9']\n",
    "s_w += list(range(0,10))  \n",
    "s_w += ['sxsw', 'mention',\"link\"]\n",
    "s_w.remove(\"not\")"
   ]
  },
  {
   "cell_type": "code",
   "execution_count": 126,
   "metadata": {},
   "outputs": [
    {
     "data": {
      "text/plain": [
       "['mention',\n",
       " 'you',\n",
       " 'that',\n",
       " 'sxsw',\n",
       " 'of',\n",
       " 'mention',\n",
       " 'at',\n",
       " 'the',\n",
       " 'for',\n",
       " 'sxsw',\n",
       " 'if',\n",
       " 'were',\n",
       " 'to',\n",
       " 'sxsw',\n",
       " 'or',\n",
       " 'an',\n",
       " 'few',\n",
       " 'for',\n",
       " 'mention',\n",
       " 'mention',\n",
       " 'my',\n",
       " 'is',\n",
       " 'that',\n",
       " 'is',\n",
       " 'by',\n",
       " 'the',\n",
       " 'of',\n",
       " 'at',\n",
       " 'sxsw',\n",
       " 'mention',\n",
       " 'at',\n",
       " 'sxsw',\n",
       " 'the',\n",
       " 'and',\n",
       " 'to',\n",
       " 'be',\n",
       " 'on',\n",
       " 'the',\n",
       " 'mention',\n",
       " 'sxsw',\n",
       " 'we',\n",
       " 're',\n",
       " 'to',\n",
       " 'is',\n",
       " 'about',\n",
       " 'for',\n",
       " 'what',\n",
       " 'do',\n",
       " 'you',\n",
       " 'did',\n",
       " 'that',\n",
       " 'they',\n",
       " 'don',\n",
       " 'of',\n",
       " 'up',\n",
       " 'in',\n",
       " 'the',\n",
       " 'sxsw',\n",
       " 'to',\n",
       " 'sxsw',\n",
       " 'mention',\n",
       " 'don',\n",
       " 'your',\n",
       " 'about',\n",
       " 'at',\n",
       " 'during',\n",
       " 'sxsw',\n",
       " 'mention',\n",
       " 'sxsw',\n",
       " 'again',\n",
       " 'mention',\n",
       " 'and',\n",
       " 'mention',\n",
       " 'up',\n",
       " 'and',\n",
       " 'mention',\n",
       " 'mention',\n",
       " 'sxsw',\n",
       " 'was',\n",
       " 'when',\n",
       " 'this',\n",
       " 'of',\n",
       " 'but',\n",
       " 'what',\n",
       " 'is',\n",
       " 'doing',\n",
       " 'to',\n",
       " 'sxsw',\n",
       " 'to',\n",
       " 'to',\n",
       " 'mention',\n",
       " 'sxsw',\n",
       " 'down',\n",
       " 'for',\n",
       " 'sxsw',\n",
       " 'for',\n",
       " 'to',\n",
       " 'sxsw',\n",
       " 'up',\n",
       " 'at',\n",
       " 'at',\n",
       " 'they',\n",
       " 'were',\n",
       " 'at',\n",
       " 'sxsw',\n",
       " 'mention',\n",
       " 'sxsw',\n",
       " 'to',\n",
       " 'mention',\n",
       " 'mention',\n",
       " 'is',\n",
       " 'an',\n",
       " 'not',\n",
       " 'mention',\n",
       " 'sxsw',\n",
       " 'for',\n",
       " 'we',\n",
       " 've',\n",
       " 'to',\n",
       " 'the',\n",
       " 'of',\n",
       " 'sxsw',\n",
       " 'mention',\n",
       " 'to',\n",
       " 'did',\n",
       " 'it',\n",
       " 'sxsw',\n",
       " 'at',\n",
       " 'sxsw',\n",
       " 'your',\n",
       " 'to',\n",
       " 'sxsw',\n",
       " 'through',\n",
       " 'the',\n",
       " 'at',\n",
       " 'sxsw',\n",
       " 'is',\n",
       " 'for',\n",
       " 'to',\n",
       " 'by',\n",
       " 'the',\n",
       " 'we',\n",
       " 're',\n",
       " 'for',\n",
       " 'in',\n",
       " 'sxsw',\n",
       " 'mention',\n",
       " 've',\n",
       " 'for',\n",
       " 'you',\n",
       " 'mention',\n",
       " 'sxsw',\n",
       " 'sxsw',\n",
       " 'mention',\n",
       " 'mention',\n",
       " 'in',\n",
       " 'and',\n",
       " 'now',\n",
       " 'sxsw',\n",
       " 'sxsw',\n",
       " 'no',\n",
       " 'more',\n",
       " 'and',\n",
       " 'over',\n",
       " 'your',\n",
       " 'we',\n",
       " 'it',\n",
       " 'its',\n",
       " 'not',\n",
       " 'has',\n",
       " 'now',\n",
       " 'how',\n",
       " 'and',\n",
       " 'will',\n",
       " 'the',\n",
       " 'of',\n",
       " 'sxsw',\n",
       " 'more',\n",
       " 'sxsw',\n",
       " 'is',\n",
       " 'the',\n",
       " 'and',\n",
       " 'have',\n",
       " 'and',\n",
       " 'of',\n",
       " 'to',\n",
       " 'be',\n",
       " 'of',\n",
       " 'mention',\n",
       " 'sxsw',\n",
       " 'to',\n",
       " 'at',\n",
       " 'sxsw',\n",
       " 'the',\n",
       " 'at',\n",
       " 'the',\n",
       " 'in',\n",
       " 'sxsw',\n",
       " 'mention',\n",
       " 'the',\n",
       " 'over',\n",
       " 'sxsw',\n",
       " 'mention',\n",
       " 'the',\n",
       " 'mention',\n",
       " 'is',\n",
       " 'it',\n",
       " 'on',\n",
       " 'sxsw',\n",
       " 'mention',\n",
       " 'mention',\n",
       " 'it',\n",
       " 'for',\n",
       " 'just',\n",
       " 'sxsw',\n",
       " 'to',\n",
       " 'for',\n",
       " 'the',\n",
       " 'at',\n",
       " 'the',\n",
       " 'sxsw',\n",
       " 'be',\n",
       " 'in',\n",
       " 'the',\n",
       " 'and',\n",
       " 'sxsw',\n",
       " 'we',\n",
       " 'our',\n",
       " 'to',\n",
       " 'ourselves',\n",
       " 'up',\n",
       " 'you',\n",
       " 'more',\n",
       " 'sxsw',\n",
       " 'mention',\n",
       " 'in',\n",
       " 'at',\n",
       " 'sxsw',\n",
       " 'by',\n",
       " 'mention',\n",
       " 'mention',\n",
       " 'sxsw',\n",
       " 'the',\n",
       " 'and',\n",
       " 'in',\n",
       " 'all',\n",
       " 'its',\n",
       " 'sxsw',\n",
       " 'mention',\n",
       " 'up',\n",
       " 'at',\n",
       " 'the',\n",
       " 'sxsw',\n",
       " 'from',\n",
       " 'sxsw',\n",
       " 'mention',\n",
       " 'about',\n",
       " 'about',\n",
       " 'and',\n",
       " 'but',\n",
       " 'what',\n",
       " 'about',\n",
       " 'the',\n",
       " 'other',\n",
       " 'of',\n",
       " 'sxsw',\n",
       " 'how',\n",
       " 'my',\n",
       " 'at',\n",
       " 'sxsw',\n",
       " 'with',\n",
       " 'my',\n",
       " 'over',\n",
       " 'on',\n",
       " 'my',\n",
       " 'at',\n",
       " 'to',\n",
       " 'the',\n",
       " 'who',\n",
       " 'up',\n",
       " 'to',\n",
       " 'me',\n",
       " 'at',\n",
       " 'sxsw',\n",
       " 'and',\n",
       " 'me',\n",
       " 'how',\n",
       " 'is',\n",
       " 'for',\n",
       " 'me',\n",
       " 'mention',\n",
       " 'or',\n",
       " 'who',\n",
       " 'mention',\n",
       " 'your',\n",
       " 'the',\n",
       " 'me',\n",
       " 'so',\n",
       " 'can',\n",
       " 'you',\n",
       " 'with',\n",
       " 'it',\n",
       " 'sxsw',\n",
       " 'the',\n",
       " 'is',\n",
       " 'on',\n",
       " 'for',\n",
       " 'for',\n",
       " 'sxsw',\n",
       " 'just',\n",
       " 'your',\n",
       " 'at',\n",
       " 'sxsw',\n",
       " 'can',\n",
       " 'you',\n",
       " 'some',\n",
       " 'with',\n",
       " 'so',\n",
       " 'there',\n",
       " 'll',\n",
       " 'you',\n",
       " 'the',\n",
       " 'and',\n",
       " 'mention',\n",
       " 'mention',\n",
       " 'are',\n",
       " 'sxsw',\n",
       " 'if',\n",
       " 'an',\n",
       " 'in',\n",
       " 'the',\n",
       " 'of',\n",
       " 'in',\n",
       " 'me',\n",
       " 'up',\n",
       " 'sxsw',\n",
       " 'am',\n",
       " 'the',\n",
       " 'sxsw',\n",
       " 'the',\n",
       " 'up',\n",
       " 'at',\n",
       " 'sxsw',\n",
       " 'with',\n",
       " 'for',\n",
       " 'the',\n",
       " 'to',\n",
       " 'mention',\n",
       " 'in',\n",
       " 'to',\n",
       " 'what',\n",
       " 'are',\n",
       " 'as',\n",
       " 'it',\n",
       " 'with',\n",
       " 'for',\n",
       " 'at',\n",
       " 'sxsw',\n",
       " 'before',\n",
       " 'it',\n",
       " 'sxsw',\n",
       " 'on',\n",
       " 'mention',\n",
       " 'this',\n",
       " 'it',\n",
       " 'to',\n",
       " 'the',\n",
       " 'with',\n",
       " 'mention',\n",
       " 'on',\n",
       " 'sxsw',\n",
       " 'mention',\n",
       " 'sxsw',\n",
       " 'on',\n",
       " 'for',\n",
       " 'for',\n",
       " 'and',\n",
       " 'at',\n",
       " 'sxsw',\n",
       " 'mention',\n",
       " 'to',\n",
       " 'and',\n",
       " 'who',\n",
       " 'will',\n",
       " 'sxsw',\n",
       " 'will',\n",
       " 'sxsw',\n",
       " 'will',\n",
       " 'only',\n",
       " 'of',\n",
       " 'on',\n",
       " 'my',\n",
       " 'we',\n",
       " 'the',\n",
       " 'sxsw',\n",
       " 'on',\n",
       " 'your',\n",
       " 'and',\n",
       " 'do',\n",
       " 'this',\n",
       " 'by',\n",
       " 'mention',\n",
       " 'sxsw',\n",
       " 'mention',\n",
       " 'mention',\n",
       " 'the',\n",
       " 'over',\n",
       " 'sxsw',\n",
       " 'mention',\n",
       " 'its',\n",
       " 'can',\n",
       " 'you',\n",
       " 'for',\n",
       " 'sxsw',\n",
       " 'to',\n",
       " 'in',\n",
       " 'of',\n",
       " 'sxsw',\n",
       " 'sxsw',\n",
       " 'for',\n",
       " 'with',\n",
       " 'and',\n",
       " 'over',\n",
       " 'sxsw',\n",
       " 'sxsw',\n",
       " 'of',\n",
       " 'mention',\n",
       " 'just',\n",
       " 'me',\n",
       " 'an',\n",
       " 'from',\n",
       " 'sxsw',\n",
       " 'you',\n",
       " 'so',\n",
       " 'all',\n",
       " 'the',\n",
       " 'out',\n",
       " 'at',\n",
       " 'sxsw',\n",
       " 'are',\n",
       " 'me',\n",
       " 'my',\n",
       " 'in',\n",
       " 'it',\n",
       " 'not',\n",
       " 'is',\n",
       " 'up',\n",
       " 'in',\n",
       " 'for',\n",
       " 'sxsw',\n",
       " 'and',\n",
       " 'the',\n",
       " 'it',\n",
       " 'sxsw',\n",
       " 'to',\n",
       " 'up',\n",
       " 'sxsw',\n",
       " 'mention',\n",
       " 'into',\n",
       " 'the',\n",
       " 'up',\n",
       " 'is',\n",
       " 'into',\n",
       " 'where',\n",
       " 'the',\n",
       " 'is',\n",
       " 'the',\n",
       " 'only',\n",
       " 'of',\n",
       " 'sxsw',\n",
       " 'mention',\n",
       " 'to',\n",
       " 'the',\n",
       " 'sxsw',\n",
       " 'about',\n",
       " 'the',\n",
       " 'of',\n",
       " 'and',\n",
       " 'sxsw',\n",
       " 'mention',\n",
       " 'the',\n",
       " 'over',\n",
       " 'sxsw',\n",
       " 'of',\n",
       " 'the',\n",
       " 'of',\n",
       " 'sxsw',\n",
       " 'wasn',\n",
       " 'an',\n",
       " 'mention',\n",
       " 'that',\n",
       " 'is',\n",
       " 'being',\n",
       " 'to',\n",
       " 'with',\n",
       " 'and',\n",
       " 'sxsw',\n",
       " 'the',\n",
       " 'mention',\n",
       " 'we',\n",
       " 'your',\n",
       " 'sxsw',\n",
       " 'with',\n",
       " 'is',\n",
       " 'up',\n",
       " 'in',\n",
       " 'for',\n",
       " 'sxsw',\n",
       " 'and',\n",
       " 'the',\n",
       " 'mention',\n",
       " 'not',\n",
       " 'have',\n",
       " 'to',\n",
       " 'all',\n",
       " 'the',\n",
       " 'sxsw',\n",
       " 'but',\n",
       " 'do',\n",
       " 'have',\n",
       " 'in',\n",
       " 'my',\n",
       " 'so',\n",
       " 'you',\n",
       " 'll',\n",
       " 'be',\n",
       " 'to',\n",
       " 'me',\n",
       " 'mention',\n",
       " 'is',\n",
       " 'to',\n",
       " 'sxsw',\n",
       " 'and',\n",
       " 'to',\n",
       " 'we',\n",
       " 'are',\n",
       " 'an',\n",
       " 'out',\n",
       " 'how',\n",
       " 'to',\n",
       " 'here',\n",
       " 'over',\n",
       " 'to',\n",
       " 'by',\n",
       " 'to',\n",
       " 'to',\n",
       " 'my',\n",
       " 'at',\n",
       " 'sxsw',\n",
       " 'with',\n",
       " 'mention',\n",
       " 'you',\n",
       " 'are',\n",
       " 'my',\n",
       " 'for',\n",
       " 'to',\n",
       " 'mention',\n",
       " 'when',\n",
       " 'you',\n",
       " 'an',\n",
       " 'again',\n",
       " 'sxsw',\n",
       " 'do',\n",
       " 'we',\n",
       " 'mention',\n",
       " 'to',\n",
       " 'sxsw',\n",
       " 'to',\n",
       " 'and',\n",
       " 'mention',\n",
       " 'on',\n",
       " 'the',\n",
       " 'of',\n",
       " 'the',\n",
       " 'of',\n",
       " 'sxsw',\n",
       " 'am',\n",
       " 'at',\n",
       " 'the',\n",
       " 'up',\n",
       " 'at',\n",
       " 'sxsw',\n",
       " 'this',\n",
       " 'just',\n",
       " 'just',\n",
       " 'my',\n",
       " 'sxsw',\n",
       " 'to',\n",
       " 'mention',\n",
       " 'on',\n",
       " 'the',\n",
       " 'mention',\n",
       " 'any',\n",
       " 'here',\n",
       " 'for',\n",
       " 'not',\n",
       " 'sxsw',\n",
       " 'mention',\n",
       " 'for',\n",
       " 'sxsw',\n",
       " 'for',\n",
       " 'out',\n",
       " 'at',\n",
       " 'on',\n",
       " 'sxsw',\n",
       " 'mention',\n",
       " 'up',\n",
       " 'for',\n",
       " 'sxsw',\n",
       " 'why',\n",
       " 'not',\n",
       " 'up',\n",
       " 'mention',\n",
       " 'just',\n",
       " 'out',\n",
       " 'has',\n",
       " 'by',\n",
       " 'for',\n",
       " 'to',\n",
       " 'it',\n",
       " 'out',\n",
       " 'and',\n",
       " 'with',\n",
       " 'sxsw',\n",
       " 'mention',\n",
       " 'mention',\n",
       " 'to',\n",
       " 'sxsw',\n",
       " 'on',\n",
       " 'to',\n",
       " 'at',\n",
       " 'sxsw',\n",
       " 'mention',\n",
       " 'this',\n",
       " 'mention',\n",
       " 'to',\n",
       " 'the',\n",
       " 'now',\n",
       " 'sxsw',\n",
       " 'so',\n",
       " 'this',\n",
       " 'is',\n",
       " 'the',\n",
       " 'sxsw',\n",
       " 'mention',\n",
       " 'we',\n",
       " 'are',\n",
       " 'in',\n",
       " 'at',\n",
       " 'the',\n",
       " 'up',\n",
       " 'at',\n",
       " 'sxsw',\n",
       " 'than',\n",
       " 'in',\n",
       " 'at',\n",
       " 'the',\n",
       " 'sxsw',\n",
       " 'mention',\n",
       " 'you',\n",
       " 'can',\n",
       " 'my',\n",
       " 'and',\n",
       " 'll',\n",
       " 'up',\n",
       " 'sxsw',\n",
       " 'if',\n",
       " 'the',\n",
       " 'how',\n",
       " 'sxsw',\n",
       " 'to',\n",
       " 'on',\n",
       " 'where',\n",
       " 'the',\n",
       " 'is',\n",
       " 'at',\n",
       " 'sxsw',\n",
       " 'for',\n",
       " 'for',\n",
       " 'mention',\n",
       " 'they',\n",
       " 'did',\n",
       " 'you',\n",
       " 'are',\n",
       " 'so',\n",
       " 'sxsw',\n",
       " 'as',\n",
       " 'in',\n",
       " 'if',\n",
       " 'you',\n",
       " 're',\n",
       " 'in',\n",
       " 'sxsw',\n",
       " 'for',\n",
       " 'all',\n",
       " 'the',\n",
       " 'on',\n",
       " 'the',\n",
       " 'there',\n",
       " 'after',\n",
       " 'this',\n",
       " 'sxsw',\n",
       " 'don',\n",
       " 'be',\n",
       " 'on',\n",
       " 'your',\n",
       " 'up',\n",
       " 'to',\n",
       " 'to',\n",
       " 'for',\n",
       " 'for',\n",
       " 'before',\n",
       " 'sxsw',\n",
       " 'at',\n",
       " 'sxsw',\n",
       " 'so',\n",
       " 'was',\n",
       " 'out',\n",
       " 'of',\n",
       " 'and',\n",
       " 'me',\n",
       " 'both',\n",
       " 'and',\n",
       " 'are',\n",
       " 'off',\n",
       " 'too',\n",
       " 'mention',\n",
       " 'sxsw',\n",
       " 'mention',\n",
       " 'mention',\n",
       " 'will',\n",
       " 'be',\n",
       " 'their',\n",
       " 'sxsw',\n",
       " 'with',\n",
       " 'sxsw',\n",
       " 'the',\n",
       " 'by',\n",
       " 'was',\n",
       " 'but',\n",
       " 'are',\n",
       " 'not',\n",
       " 'to',\n",
       " 'be',\n",
       " 'sxsw',\n",
       " 'being',\n",
       " 'to',\n",
       " 'just',\n",
       " 'the',\n",
       " 'with',\n",
       " 'out',\n",
       " 'to',\n",
       " 'more',\n",
       " 'to',\n",
       " 'my',\n",
       " 'sxsw',\n",
       " 'me',\n",
       " 'mention',\n",
       " 'just',\n",
       " 'up',\n",
       " 'in',\n",
       " 'to',\n",
       " 'the',\n",
       " 'sxsw',\n",
       " 'for',\n",
       " 'the',\n",
       " 'and',\n",
       " 'in',\n",
       " 'it',\n",
       " 'should',\n",
       " 'have',\n",
       " 'been',\n",
       " 'in',\n",
       " 'of',\n",
       " 'the',\n",
       " 'sxsw',\n",
       " 'from',\n",
       " 'my',\n",
       " 'mention',\n",
       " 'on',\n",
       " 'of',\n",
       " 'them',\n",
       " 'all',\n",
       " 'sxsw',\n",
       " 'mention',\n",
       " 'mention',\n",
       " 'just',\n",
       " 'you',\n",
       " 'at',\n",
       " 'to',\n",
       " 'sxsw',\n",
       " 'if',\n",
       " 'you',\n",
       " 'or',\n",
       " 'your',\n",
       " 'have',\n",
       " 'an',\n",
       " 'or',\n",
       " 'my',\n",
       " 'mention',\n",
       " 'did',\n",
       " 'you',\n",
       " 'sxsw',\n",
       " 'will',\n",
       " 'itself',\n",
       " 'sxsw',\n",
       " 'mention',\n",
       " 'what',\n",
       " 'than',\n",
       " 'just',\n",
       " 'in',\n",
       " 'for',\n",
       " 'sxsw',\n",
       " 'for',\n",
       " 'those',\n",
       " 'at',\n",
       " 'sxsw',\n",
       " 'up',\n",
       " 'at',\n",
       " 'sxsw',\n",
       " 'to',\n",
       " 'to',\n",
       " 'in',\n",
       " 'at',\n",
       " 'sxsw',\n",
       " 'mention',\n",
       " 'mention',\n",
       " 'to',\n",
       " 'for',\n",
       " 'mention',\n",
       " 'sxsw',\n",
       " 'mention',\n",
       " 'to',\n",
       " 'sxsw',\n",
       " 'the',\n",
       " 'that',\n",
       " 'from',\n",
       " 'sxsw',\n",
       " 'isn',\n",
       " 'the',\n",
       " 'to',\n",
       " 'to',\n",
       " 'up',\n",
       " 'an',\n",
       " 'mention',\n",
       " 'what',\n",
       " 'did',\n",
       " 'you',\n",
       " 'did',\n",
       " 'you',\n",
       " 'the',\n",
       " 'they',\n",
       " 'up',\n",
       " 'at',\n",
       " 'sxsw',\n",
       " 'here',\n",
       " 'has',\n",
       " 'is',\n",
       " 'not',\n",
       " 'when',\n",
       " 'you',\n",
       " 'your',\n",
       " 'or',\n",
       " 'to',\n",
       " 'your',\n",
       " 'sxsw',\n",
       " 'mention',\n",
       " 'it',\n",
       " 'how',\n",
       " 'is',\n",
       " 'in',\n",
       " 'sxsw',\n",
       " 'there',\n",
       " 'was',\n",
       " 'in',\n",
       " 'for',\n",
       " 'up',\n",
       " 'on',\n",
       " 'in',\n",
       " 'that',\n",
       " 'he',\n",
       " 'me',\n",
       " 'sxsw',\n",
       " 'for',\n",
       " 'in',\n",
       " 'who',\n",
       " 'to',\n",
       " 'sxsw',\n",
       " 'mention',\n",
       " 'to',\n",
       " 'for',\n",
       " 'sxsw',\n",
       " 'at',\n",
       " 'and',\n",
       " 'at',\n",
       " 'by',\n",
       " 'sxsw',\n",
       " 'mention',\n",
       " 'the',\n",
       " 'that',\n",
       " 'the',\n",
       " 'is',\n",
       " 'its',\n",
       " 'we',\n",
       " 're',\n",
       " 'the',\n",
       " 'sxsw',\n",
       " 'the',\n",
       " 'from',\n",
       " 'mention',\n",
       " 'sxsw',\n",
       " 'out',\n",
       " 'this',\n",
       " 'we',\n",
       " 're',\n",
       " 'it',\n",
       " 'to',\n",
       " 'out',\n",
       " 'sxsw',\n",
       " 'more',\n",
       " 'at',\n",
       " 'sxsw',\n",
       " 'then',\n",
       " 'in',\n",
       " 'the',\n",
       " 'for',\n",
       " 'are',\n",
       " 'with',\n",
       " 'this',\n",
       " 'and',\n",
       " 'sxsw',\n",
       " 'it',\n",
       " 'our',\n",
       " 'here',\n",
       " 'at',\n",
       " 'the',\n",
       " 'by',\n",
       " 'for',\n",
       " 'the',\n",
       " 'of',\n",
       " 'sxsw',\n",
       " 'mention',\n",
       " 'our',\n",
       " 'has',\n",
       " 'for',\n",
       " 'mention',\n",
       " 'in',\n",
       " 'for',\n",
       " 'sxsw',\n",
       " 'for',\n",
       " 'at',\n",
       " 'sxsw',\n",
       " 'we',\n",
       " 'be',\n",
       " 'at',\n",
       " 'to',\n",
       " 'be',\n",
       " 'mention',\n",
       " 'for',\n",
       " 'now',\n",
       " 'in',\n",
       " 'the',\n",
       " 'to',\n",
       " 'sxsw',\n",
       " 'it',\n",
       " 'now',\n",
       " 'about',\n",
       " 'how',\n",
       " 'the',\n",
       " 'was',\n",
       " 'at',\n",
       " 'sxsw',\n",
       " 'and',\n",
       " 'how',\n",
       " 'they',\n",
       " 'are',\n",
       " 'to',\n",
       " 'me',\n",
       " 'an',\n",
       " 'it',\n",
       " 'and',\n",
       " 'the',\n",
       " 'at',\n",
       " 'the',\n",
       " 'is',\n",
       " 'and',\n",
       " 'about',\n",
       " 'only',\n",
       " 'more',\n",
       " 'sxsw',\n",
       " 'to',\n",
       " 'has',\n",
       " 'been',\n",
       " 'sxsw',\n",
       " 'mention',\n",
       " 'sxsw',\n",
       " 'and',\n",
       " 'for',\n",
       " 'mention',\n",
       " 'here',\n",
       " ...]"
      ]
     },
     "execution_count": 126,
     "metadata": {},
     "output_type": "execute_result"
    }
   ],
   "source": [
    "stop_words =[token for token in X_train[\"text_tokenized\"].explode() if token in s_w]\n",
    "stop_words"
   ]
  },
  {
   "cell_type": "code",
   "execution_count": 127,
   "metadata": {},
   "outputs": [],
   "source": [
    "def remove_stopwords(text):\n",
    "    \"\"\"\n",
    "    Given a list of tokens, return a list where the tokens\n",
    "    that are also present in stopwords_list have been\n",
    "    removed\n",
    "    \"\"\"\n",
    "    stopwords_removed = [token for token in text if token not in stop_words]\n",
    "    return stopwords_removed"
   ]
  },
  {
   "cell_type": "code",
   "execution_count": 128,
   "metadata": {},
   "outputs": [],
   "source": [
    "X_train[\"text_without_stopwords\"] = X_train[\"text_tokenized\"].apply(remove_stopwords)"
   ]
  },
  {
   "cell_type": "code",
   "execution_count": 129,
   "metadata": {},
   "outputs": [
    {
     "data": {
      "text/plain": [
       "FreqDist({'link': 3152, 'rt': 2139, 'google': 1977, 'ipad': 1838, 'apple': 1706, 'quot': 1240, 'iphone': 1171, 'store': 1102, 'new': 800, 'austin': 703, ...})"
      ]
     },
     "execution_count": 129,
     "metadata": {},
     "output_type": "execute_result"
    }
   ],
   "source": [
    "X_train_nostopwords_freqdist =FreqDist(X_train[\"text_without_stopwords\"].explode())\n",
    "X_train_nostopwords_freqdist"
   ]
  },
  {
   "cell_type": "code",
   "execution_count": 130,
   "metadata": {
    "scrolled": false
   },
   "outputs": [
    {
     "data": {
      "image/png": "[encoded data removed]",
      "text/plain": [
       "<Figure size 432x288 with 1 Axes>"
      ]
     },
     "metadata": {
      "needs_background": "light"
     },
     "output_type": "display_data"
    }
   ],
   "source": [
    "visualize_top_25(X_train_nostopwords_freqdist, \"Top 25 Word Frequency for Xtrain after stop words removed\")"
   ]
  },
  {
   "cell_type": "code",
   "execution_count": 131,
   "metadata": {},
   "outputs": [],
   "source": [
    "# Instantiate the vectorizer\n",
    "tfidf = TfidfVectorizer(\n",
    "    max_features=10,\n",
    "    stop_words=stop_words,\n",
    "    \n",
    ")\n",
    "\n",
    "# Fit the vectorizer on X_train[\"text\"] and transform it\n",
    "X_train_vectorized = tfidf.fit_transform(X_train[\"tweet_text\"].values.astype('U'))"
   ]
  },
  {
   "cell_type": "code",
   "execution_count": 132,
   "metadata": {
    "scrolled": true
   },
   "outputs": [
    {
     "data": {
      "text/html": [
       "<div>\n",
       "<style scoped>\n",
       "    .dataframe tbody tr th:only-of-type {\n",
       "        vertical-align: middle;\n",
       "    }\n",
       "\n",
       "    .dataframe tbody tr th {\n",
       "        vertical-align: top;\n",
       "    }\n",
       "\n",
       "    .dataframe thead th {\n",
       "        text-align: right;\n",
       "    }\n",
       "</style>\n",
       "<table border=\"1\" class=\"dataframe\">\n",
       "  <thead>\n",
       "    <tr style=\"text-align: right;\">\n",
       "      <th></th>\n",
       "      <th>apple</th>\n",
       "      <th>austin</th>\n",
       "      <th>google</th>\n",
       "      <th>ipad</th>\n",
       "      <th>iphone</th>\n",
       "      <th>link</th>\n",
       "      <th>new</th>\n",
       "      <th>quot</th>\n",
       "      <th>rt</th>\n",
       "      <th>store</th>\n",
       "    </tr>\n",
       "  </thead>\n",
       "  <tbody>\n",
       "    <tr>\n",
       "      <th>0</th>\n",
       "      <td>0.000000</td>\n",
       "      <td>0.000000</td>\n",
       "      <td>0.000000</td>\n",
       "      <td>1.000000</td>\n",
       "      <td>0.000000</td>\n",
       "      <td>0.000000</td>\n",
       "      <td>0.000000</td>\n",
       "      <td>0.0</td>\n",
       "      <td>0.000000</td>\n",
       "      <td>0.000000</td>\n",
       "    </tr>\n",
       "    <tr>\n",
       "      <th>1</th>\n",
       "      <td>0.000000</td>\n",
       "      <td>0.000000</td>\n",
       "      <td>0.000000</td>\n",
       "      <td>0.000000</td>\n",
       "      <td>0.000000</td>\n",
       "      <td>1.000000</td>\n",
       "      <td>0.000000</td>\n",
       "      <td>0.0</td>\n",
       "      <td>0.000000</td>\n",
       "      <td>0.000000</td>\n",
       "    </tr>\n",
       "    <tr>\n",
       "      <th>2</th>\n",
       "      <td>0.000000</td>\n",
       "      <td>0.000000</td>\n",
       "      <td>0.000000</td>\n",
       "      <td>1.000000</td>\n",
       "      <td>0.000000</td>\n",
       "      <td>0.000000</td>\n",
       "      <td>0.000000</td>\n",
       "      <td>0.0</td>\n",
       "      <td>0.000000</td>\n",
       "      <td>0.000000</td>\n",
       "    </tr>\n",
       "    <tr>\n",
       "      <th>3</th>\n",
       "      <td>0.650460</td>\n",
       "      <td>0.000000</td>\n",
       "      <td>0.000000</td>\n",
       "      <td>0.000000</td>\n",
       "      <td>0.000000</td>\n",
       "      <td>0.471915</td>\n",
       "      <td>0.000000</td>\n",
       "      <td>0.0</td>\n",
       "      <td>0.595145</td>\n",
       "      <td>0.000000</td>\n",
       "    </tr>\n",
       "    <tr>\n",
       "      <th>4</th>\n",
       "      <td>0.000000</td>\n",
       "      <td>0.000000</td>\n",
       "      <td>0.000000</td>\n",
       "      <td>0.000000</td>\n",
       "      <td>0.547324</td>\n",
       "      <td>0.707931</td>\n",
       "      <td>0.000000</td>\n",
       "      <td>0.0</td>\n",
       "      <td>0.446396</td>\n",
       "      <td>0.000000</td>\n",
       "    </tr>\n",
       "    <tr>\n",
       "      <th>...</th>\n",
       "      <td>...</td>\n",
       "      <td>...</td>\n",
       "      <td>...</td>\n",
       "      <td>...</td>\n",
       "      <td>...</td>\n",
       "      <td>...</td>\n",
       "      <td>...</td>\n",
       "      <td>...</td>\n",
       "      <td>...</td>\n",
       "      <td>...</td>\n",
       "    </tr>\n",
       "    <tr>\n",
       "      <th>6681</th>\n",
       "      <td>0.000000</td>\n",
       "      <td>0.000000</td>\n",
       "      <td>0.715371</td>\n",
       "      <td>0.000000</td>\n",
       "      <td>0.000000</td>\n",
       "      <td>0.000000</td>\n",
       "      <td>0.000000</td>\n",
       "      <td>0.0</td>\n",
       "      <td>0.698744</td>\n",
       "      <td>0.000000</td>\n",
       "    </tr>\n",
       "    <tr>\n",
       "      <th>6682</th>\n",
       "      <td>0.000000</td>\n",
       "      <td>0.000000</td>\n",
       "      <td>0.000000</td>\n",
       "      <td>0.000000</td>\n",
       "      <td>0.000000</td>\n",
       "      <td>0.418358</td>\n",
       "      <td>0.739332</td>\n",
       "      <td>0.0</td>\n",
       "      <td>0.527603</td>\n",
       "      <td>0.000000</td>\n",
       "    </tr>\n",
       "    <tr>\n",
       "      <th>6683</th>\n",
       "      <td>0.000000</td>\n",
       "      <td>0.678604</td>\n",
       "      <td>0.000000</td>\n",
       "      <td>0.000000</td>\n",
       "      <td>0.569195</td>\n",
       "      <td>0.000000</td>\n",
       "      <td>0.000000</td>\n",
       "      <td>0.0</td>\n",
       "      <td>0.464234</td>\n",
       "      <td>0.000000</td>\n",
       "    </tr>\n",
       "    <tr>\n",
       "      <th>6684</th>\n",
       "      <td>0.724611</td>\n",
       "      <td>0.000000</td>\n",
       "      <td>0.000000</td>\n",
       "      <td>0.689158</td>\n",
       "      <td>0.000000</td>\n",
       "      <td>0.000000</td>\n",
       "      <td>0.000000</td>\n",
       "      <td>0.0</td>\n",
       "      <td>0.000000</td>\n",
       "      <td>0.000000</td>\n",
       "    </tr>\n",
       "    <tr>\n",
       "      <th>6685</th>\n",
       "      <td>0.638144</td>\n",
       "      <td>0.000000</td>\n",
       "      <td>0.000000</td>\n",
       "      <td>0.000000</td>\n",
       "      <td>0.000000</td>\n",
       "      <td>0.231490</td>\n",
       "      <td>0.000000</td>\n",
       "      <td>0.0</td>\n",
       "      <td>0.000000</td>\n",
       "      <td>0.734292</td>\n",
       "    </tr>\n",
       "  </tbody>\n",
       "</table>\n",
       "<p>6686 rows × 10 columns</p>\n",
       "</div>"
      ],
      "text/plain": [
       "         apple    austin    google      ipad    iphone      link       new  \\\n",
       "0     0.000000  0.000000  0.000000  1.000000  0.000000  0.000000  0.000000   \n",
       "1     0.000000  0.000000  0.000000  0.000000  0.000000  1.000000  0.000000   \n",
       "2     0.000000  0.000000  0.000000  1.000000  0.000000  0.000000  0.000000   \n",
       "3     0.650460  0.000000  0.000000  0.000000  0.000000  0.471915  0.000000   \n",
       "4     0.000000  0.000000  0.000000  0.000000  0.547324  0.707931  0.000000   \n",
       "...        ...       ...       ...       ...       ...       ...       ...   \n",
       "6681  0.000000  0.000000  0.715371  0.000000  0.000000  0.000000  0.000000   \n",
       "6682  0.000000  0.000000  0.000000  0.000000  0.000000  0.418358  0.739332   \n",
       "6683  0.000000  0.678604  0.000000  0.000000  0.569195  0.000000  0.000000   \n",
       "6684  0.724611  0.000000  0.000000  0.689158  0.000000  0.000000  0.000000   \n",
       "6685  0.638144  0.000000  0.000000  0.000000  0.000000  0.231490  0.000000   \n",
       "\n",
       "      quot        rt     store  \n",
       "0      0.0  0.000000  0.000000  \n",
       "1      0.0  0.000000  0.000000  \n",
       "2      0.0  0.000000  0.000000  \n",
       "3      0.0  0.595145  0.000000  \n",
       "4      0.0  0.446396  0.000000  \n",
       "...    ...       ...       ...  \n",
       "6681   0.0  0.698744  0.000000  \n",
       "6682   0.0  0.527603  0.000000  \n",
       "6683   0.0  0.464234  0.000000  \n",
       "6684   0.0  0.000000  0.000000  \n",
       "6685   0.0  0.000000  0.734292  \n",
       "\n",
       "[6686 rows x 10 columns]"
      ]
     },
     "execution_count": 132,
     "metadata": {},
     "output_type": "execute_result"
    }
   ],
   "source": [
    "# Visually inspect the vectorized data\n",
    "pd.DataFrame.sparse.from_spmatrix(X_train_vectorized, columns=tfidf.get_feature_names())"
   ]
  },
  {
   "cell_type": "code",
   "execution_count": 133,
   "metadata": {
    "scrolled": true
   },
   "outputs": [
    {
     "name": "stderr",
     "output_type": "stream",
     "text": [
      "C:\\Users\\mays8\\anaconda3\\envs\\learn-env\\lib\\site-packages\\sklearn\\utils\\validation.py:72: DataConversionWarning: A column-vector y was passed when a 1d array was expected. Please change the shape of y to (n_samples, ), for example using ravel().\n",
      "  return f(**kwargs)\n",
      "C:\\Users\\mays8\\anaconda3\\envs\\learn-env\\lib\\site-packages\\sklearn\\utils\\validation.py:72: DataConversionWarning: A column-vector y was passed when a 1d array was expected. Please change the shape of y to (n_samples, ), for example using ravel().\n",
      "  return f(**kwargs)\n",
      "C:\\Users\\mays8\\anaconda3\\envs\\learn-env\\lib\\site-packages\\sklearn\\utils\\validation.py:72: DataConversionWarning: A column-vector y was passed when a 1d array was expected. Please change the shape of y to (n_samples, ), for example using ravel().\n",
      "  return f(**kwargs)\n",
      "C:\\Users\\mays8\\anaconda3\\envs\\learn-env\\lib\\site-packages\\sklearn\\utils\\validation.py:72: DataConversionWarning: A column-vector y was passed when a 1d array was expected. Please change the shape of y to (n_samples, ), for example using ravel().\n",
      "  return f(**kwargs)\n",
      "C:\\Users\\mays8\\anaconda3\\envs\\learn-env\\lib\\site-packages\\sklearn\\utils\\validation.py:72: DataConversionWarning: A column-vector y was passed when a 1d array was expected. Please change the shape of y to (n_samples, ), for example using ravel().\n",
      "  return f(**kwargs)\n"
     ]
    },
    {
     "data": {
      "text/plain": [
       "array([0.60538117, 0.60583396, 0.60583396, 0.60583396, 0.60583396])"
      ]
     },
     "execution_count": 133,
     "metadata": {},
     "output_type": "execute_result"
    }
   ],
   "source": [
    "# Evaluate the classifier on X_train_vectorized and y_train\n",
    "stopwords_removed_cv = cross_val_score(baseline_model, X_train_vectorized, y_train)\n",
    "stopwords_removed_cv"
   ]
  },
  {
   "cell_type": "code",
   "execution_count": 134,
   "metadata": {
    "scrolled": true
   },
   "outputs": [
    {
     "name": "stdout",
     "output_type": "stream",
     "text": [
      "Baseline:          0.605743398479294\n",
      "Stopwords removed: 0.605743398479294\n"
     ]
    }
   ],
   "source": [
    "print(\"Baseline:         \", baseline_cv.mean())\n",
    "print(\"Stopwords removed:\", stopwords_removed_cv.mean())"
   ]
  },
  {
   "cell_type": "markdown",
   "metadata": {},
   "source": [
    "no improvment"
   ]
  },
  {
   "cell_type": "markdown",
   "metadata": {},
   "source": [
    "Steemer"
   ]
  },
  {
   "cell_type": "code",
   "execution_count": 135,
   "metadata": {},
   "outputs": [],
   "source": [
    "from nltk.stem.snowball import SnowballStemmer\n",
    "stemmer = SnowballStemmer(language=\"english\")\n",
    "\n",
    "def stemer_tokenize(document):\n",
    "    tokens = tokenizer.tokenize(document)\n",
    "    return [stemmer.stem(token) for token in tokens]"
   ]
  },
  {
   "cell_type": "code",
   "execution_count": 136,
   "metadata": {
    "scrolled": true
   },
   "outputs": [
    {
     "data": {
      "text/plain": [
       "['thank',\n",
       " 'for',\n",
       " 'all',\n",
       " 'the',\n",
       " 'info',\n",
       " 'on',\n",
       " 'the',\n",
       " 'appl',\n",
       " 'store',\n",
       " 'close',\n",
       " 'time',\n",
       " 'head',\n",
       " 'there',\n",
       " 'after',\n",
       " 'finish',\n",
       " 'this',\n",
       " 'iron',\n",
       " 'work',\n",
       " 'bbq',\n",
       " 'sxsw',\n",
       " 'sxtxstate']"
      ]
     },
     "execution_count": 136,
     "metadata": {},
     "output_type": "execute_result"
    }
   ],
   "source": [
    "stemer_tokenize(X_train.iloc[100][\"tweet_text\"])"
   ]
  },
  {
   "cell_type": "code",
   "execution_count": 137,
   "metadata": {},
   "outputs": [],
   "source": [
    "stemmed_stopwords = [stemmer.stem(word) for word in stop_words]"
   ]
  },
  {
   "cell_type": "code",
   "execution_count": 145,
   "metadata": {},
   "outputs": [],
   "source": [
    "# Instantiate the vectorizer\n",
    "tfidf = TfidfVectorizer(\n",
    "    max_features=10,\n",
    "    stop_words=stemmed_stopwords,\n",
    "    tokenizer=stemer_tokenize\n",
    ")\n",
    "\n",
    "# Fit the vectorizer on X_train[\"text\"] and transform it\n",
    "X_train_vectorized = tfidf.fit_transform(X_train[\"tweet_text\"].values.astype('U'))"
   ]
  },
  {
   "cell_type": "code",
   "execution_count": 146,
   "metadata": {
    "scrolled": true
   },
   "outputs": [
    {
     "data": {
      "text/html": [
       "<div>\n",
       "<style scoped>\n",
       "    .dataframe tbody tr th:only-of-type {\n",
       "        vertical-align: middle;\n",
       "    }\n",
       "\n",
       "    .dataframe tbody tr th {\n",
       "        vertical-align: top;\n",
       "    }\n",
       "\n",
       "    .dataframe thead th {\n",
       "        text-align: right;\n",
       "    }\n",
       "</style>\n",
       "<table border=\"1\" class=\"dataframe\">\n",
       "  <thead>\n",
       "    <tr style=\"text-align: right;\">\n",
       "      <th></th>\n",
       "      <th>app</th>\n",
       "      <th>appl</th>\n",
       "      <th>googl</th>\n",
       "      <th>ipad</th>\n",
       "      <th>iphon</th>\n",
       "      <th>link</th>\n",
       "      <th>new</th>\n",
       "      <th>quot</th>\n",
       "      <th>rt</th>\n",
       "      <th>store</th>\n",
       "    </tr>\n",
       "  </thead>\n",
       "  <tbody>\n",
       "    <tr>\n",
       "      <th>0</th>\n",
       "      <td>0.000000</td>\n",
       "      <td>0.000000</td>\n",
       "      <td>0.000000</td>\n",
       "      <td>1.000000</td>\n",
       "      <td>0.000000</td>\n",
       "      <td>0.000000</td>\n",
       "      <td>0.000000</td>\n",
       "      <td>0.0</td>\n",
       "      <td>0.000000</td>\n",
       "      <td>0.000000</td>\n",
       "    </tr>\n",
       "    <tr>\n",
       "      <th>1</th>\n",
       "      <td>0.000000</td>\n",
       "      <td>0.000000</td>\n",
       "      <td>0.000000</td>\n",
       "      <td>0.000000</td>\n",
       "      <td>0.000000</td>\n",
       "      <td>1.000000</td>\n",
       "      <td>0.000000</td>\n",
       "      <td>0.0</td>\n",
       "      <td>0.000000</td>\n",
       "      <td>0.000000</td>\n",
       "    </tr>\n",
       "    <tr>\n",
       "      <th>2</th>\n",
       "      <td>0.000000</td>\n",
       "      <td>0.000000</td>\n",
       "      <td>0.000000</td>\n",
       "      <td>1.000000</td>\n",
       "      <td>0.000000</td>\n",
       "      <td>0.000000</td>\n",
       "      <td>0.000000</td>\n",
       "      <td>0.0</td>\n",
       "      <td>0.000000</td>\n",
       "      <td>0.000000</td>\n",
       "    </tr>\n",
       "    <tr>\n",
       "      <th>3</th>\n",
       "      <td>0.000000</td>\n",
       "      <td>0.650423</td>\n",
       "      <td>0.000000</td>\n",
       "      <td>0.000000</td>\n",
       "      <td>0.000000</td>\n",
       "      <td>0.471616</td>\n",
       "      <td>0.000000</td>\n",
       "      <td>0.0</td>\n",
       "      <td>0.595423</td>\n",
       "      <td>0.000000</td>\n",
       "    </tr>\n",
       "    <tr>\n",
       "      <th>4</th>\n",
       "      <td>0.537950</td>\n",
       "      <td>0.000000</td>\n",
       "      <td>0.000000</td>\n",
       "      <td>0.000000</td>\n",
       "      <td>0.461331</td>\n",
       "      <td>0.596610</td>\n",
       "      <td>0.000000</td>\n",
       "      <td>0.0</td>\n",
       "      <td>0.376615</td>\n",
       "      <td>0.000000</td>\n",
       "    </tr>\n",
       "    <tr>\n",
       "      <th>...</th>\n",
       "      <td>...</td>\n",
       "      <td>...</td>\n",
       "      <td>...</td>\n",
       "      <td>...</td>\n",
       "      <td>...</td>\n",
       "      <td>...</td>\n",
       "      <td>...</td>\n",
       "      <td>...</td>\n",
       "      <td>...</td>\n",
       "      <td>...</td>\n",
       "    </tr>\n",
       "    <tr>\n",
       "      <th>6681</th>\n",
       "      <td>0.000000</td>\n",
       "      <td>0.000000</td>\n",
       "      <td>0.715205</td>\n",
       "      <td>0.000000</td>\n",
       "      <td>0.000000</td>\n",
       "      <td>0.000000</td>\n",
       "      <td>0.000000</td>\n",
       "      <td>0.0</td>\n",
       "      <td>0.698915</td>\n",
       "      <td>0.000000</td>\n",
       "    </tr>\n",
       "    <tr>\n",
       "      <th>6682</th>\n",
       "      <td>0.000000</td>\n",
       "      <td>0.000000</td>\n",
       "      <td>0.000000</td>\n",
       "      <td>0.000000</td>\n",
       "      <td>0.000000</td>\n",
       "      <td>0.417978</td>\n",
       "      <td>0.739475</td>\n",
       "      <td>0.0</td>\n",
       "      <td>0.527704</td>\n",
       "      <td>0.000000</td>\n",
       "    </tr>\n",
       "    <tr>\n",
       "      <th>6683</th>\n",
       "      <td>0.670317</td>\n",
       "      <td>0.000000</td>\n",
       "      <td>0.000000</td>\n",
       "      <td>0.000000</td>\n",
       "      <td>0.574845</td>\n",
       "      <td>0.000000</td>\n",
       "      <td>0.000000</td>\n",
       "      <td>0.0</td>\n",
       "      <td>0.469284</td>\n",
       "      <td>0.000000</td>\n",
       "    </tr>\n",
       "    <tr>\n",
       "      <th>6684</th>\n",
       "      <td>0.000000</td>\n",
       "      <td>0.729067</td>\n",
       "      <td>0.000000</td>\n",
       "      <td>0.684442</td>\n",
       "      <td>0.000000</td>\n",
       "      <td>0.000000</td>\n",
       "      <td>0.000000</td>\n",
       "      <td>0.0</td>\n",
       "      <td>0.000000</td>\n",
       "      <td>0.000000</td>\n",
       "    </tr>\n",
       "    <tr>\n",
       "      <th>6685</th>\n",
       "      <td>0.000000</td>\n",
       "      <td>0.640343</td>\n",
       "      <td>0.000000</td>\n",
       "      <td>0.000000</td>\n",
       "      <td>0.000000</td>\n",
       "      <td>0.232153</td>\n",
       "      <td>0.000000</td>\n",
       "      <td>0.0</td>\n",
       "      <td>0.000000</td>\n",
       "      <td>0.732165</td>\n",
       "    </tr>\n",
       "  </tbody>\n",
       "</table>\n",
       "<p>6686 rows × 10 columns</p>\n",
       "</div>"
      ],
      "text/plain": [
       "           app      appl     googl      ipad     iphon      link       new  \\\n",
       "0     0.000000  0.000000  0.000000  1.000000  0.000000  0.000000  0.000000   \n",
       "1     0.000000  0.000000  0.000000  0.000000  0.000000  1.000000  0.000000   \n",
       "2     0.000000  0.000000  0.000000  1.000000  0.000000  0.000000  0.000000   \n",
       "3     0.000000  0.650423  0.000000  0.000000  0.000000  0.471616  0.000000   \n",
       "4     0.537950  0.000000  0.000000  0.000000  0.461331  0.596610  0.000000   \n",
       "...        ...       ...       ...       ...       ...       ...       ...   \n",
       "6681  0.000000  0.000000  0.715205  0.000000  0.000000  0.000000  0.000000   \n",
       "6682  0.000000  0.000000  0.000000  0.000000  0.000000  0.417978  0.739475   \n",
       "6683  0.670317  0.000000  0.000000  0.000000  0.574845  0.000000  0.000000   \n",
       "6684  0.000000  0.729067  0.000000  0.684442  0.000000  0.000000  0.000000   \n",
       "6685  0.000000  0.640343  0.000000  0.000000  0.000000  0.232153  0.000000   \n",
       "\n",
       "      quot        rt     store  \n",
       "0      0.0  0.000000  0.000000  \n",
       "1      0.0  0.000000  0.000000  \n",
       "2      0.0  0.000000  0.000000  \n",
       "3      0.0  0.595423  0.000000  \n",
       "4      0.0  0.376615  0.000000  \n",
       "...    ...       ...       ...  \n",
       "6681   0.0  0.698915  0.000000  \n",
       "6682   0.0  0.527704  0.000000  \n",
       "6683   0.0  0.469284  0.000000  \n",
       "6684   0.0  0.000000  0.000000  \n",
       "6685   0.0  0.000000  0.732165  \n",
       "\n",
       "[6686 rows x 10 columns]"
      ]
     },
     "execution_count": 146,
     "metadata": {},
     "output_type": "execute_result"
    }
   ],
   "source": [
    "# Visually inspect the vectorized data\n",
    "pd.DataFrame.sparse.from_spmatrix(X_train_vectorized, columns=tfidf.get_feature_names())"
   ]
  },
  {
   "cell_type": "code",
   "execution_count": 147,
   "metadata": {
    "scrolled": true
   },
   "outputs": [
    {
     "name": "stderr",
     "output_type": "stream",
     "text": [
      "C:\\Users\\mays8\\anaconda3\\envs\\learn-env\\lib\\site-packages\\sklearn\\utils\\validation.py:72: DataConversionWarning: A column-vector y was passed when a 1d array was expected. Please change the shape of y to (n_samples, ), for example using ravel().\n",
      "  return f(**kwargs)\n",
      "C:\\Users\\mays8\\anaconda3\\envs\\learn-env\\lib\\site-packages\\sklearn\\utils\\validation.py:72: DataConversionWarning: A column-vector y was passed when a 1d array was expected. Please change the shape of y to (n_samples, ), for example using ravel().\n",
      "  return f(**kwargs)\n",
      "C:\\Users\\mays8\\anaconda3\\envs\\learn-env\\lib\\site-packages\\sklearn\\utils\\validation.py:72: DataConversionWarning: A column-vector y was passed when a 1d array was expected. Please change the shape of y to (n_samples, ), for example using ravel().\n",
      "  return f(**kwargs)\n",
      "C:\\Users\\mays8\\anaconda3\\envs\\learn-env\\lib\\site-packages\\sklearn\\utils\\validation.py:72: DataConversionWarning: A column-vector y was passed when a 1d array was expected. Please change the shape of y to (n_samples, ), for example using ravel().\n",
      "  return f(**kwargs)\n",
      "C:\\Users\\mays8\\anaconda3\\envs\\learn-env\\lib\\site-packages\\sklearn\\utils\\validation.py:72: DataConversionWarning: A column-vector y was passed when a 1d array was expected. Please change the shape of y to (n_samples, ), for example using ravel().\n",
      "  return f(**kwargs)\n"
     ]
    },
    {
     "data": {
      "text/plain": [
       "array([0.6083707 , 0.6065819 , 0.60583396, 0.6118175 , 0.6065819 ])"
      ]
     },
     "execution_count": 147,
     "metadata": {},
     "output_type": "execute_result"
    }
   ],
   "source": [
    "# Evaluate the classifier on X_train_vectorized and y_train\n",
    "stemmed_cv = cross_val_score(baseline_model, X_train_vectorized, y_train)\n",
    "stemmed_cv"
   ]
  },
  {
   "cell_type": "code",
   "execution_count": 148,
   "metadata": {
    "scrolled": true
   },
   "outputs": [
    {
     "name": "stdout",
     "output_type": "stream",
     "text": [
      "Stopwords removed: 0.605743398479294\n",
      "Stopwords stemed: 0.607837192116299\n"
     ]
    }
   ],
   "source": [
    "print(\"Stopwords removed:\", stopwords_removed_cv.mean())\n",
    "print(\"Stopwords stemed:\", stemmed_cv.mean())\n"
   ]
  },
  {
   "cell_type": "markdown",
   "metadata": {},
   "source": [
    "improved slightly"
   ]
  },
  {
   "cell_type": "markdown",
   "metadata": {},
   "source": [
    "Lemmanize words in tweet text."
   ]
  },
  {
   "cell_type": "code",
   "execution_count": null,
   "metadata": {},
   "outputs": [],
   "source": [
    "from nltk.stem import WordNetLemmatizer\n",
    "wordNetLemmatizer = WordNetLemmatizer()"
   ]
  },
  {
   "cell_type": "code",
   "execution_count": null,
   "metadata": {},
   "outputs": [],
   "source": [
    "def lemmatizer(document):\n",
    "    \n",
    "    return [wordNetLemmatizer.lemmatize(token) for token in tokens]"
   ]
  },
  {
   "cell_type": "code",
   "execution_count": 152,
   "metadata": {},
   "outputs": [
    {
     "ename": "TypeError",
     "evalue": "__init__() got an unexpected keyword argument 'lemmatizer'",
     "output_type": "error",
     "traceback": [
      "\u001b[1;31m---------------------------------------------------------------------------\u001b[0m",
      "\u001b[1;31mTypeError\u001b[0m                                 Traceback (most recent call last)",
      "\u001b[1;32m<ipython-input-152-e3a300b44344>\u001b[0m in \u001b[0;36m<module>\u001b[1;34m\u001b[0m\n\u001b[0;32m      1\u001b[0m \u001b[1;31m# Instantiate the vectorizer\u001b[0m\u001b[1;33m\u001b[0m\u001b[1;33m\u001b[0m\u001b[1;33m\u001b[0m\u001b[0m\n\u001b[1;32m----> 2\u001b[1;33m tfidf = TfidfVectorizer(\n\u001b[0m\u001b[0;32m      3\u001b[0m     \u001b[0mmax_features\u001b[0m\u001b[1;33m=\u001b[0m\u001b[1;36m10\u001b[0m\u001b[1;33m,\u001b[0m\u001b[1;33m\u001b[0m\u001b[1;33m\u001b[0m\u001b[0m\n\u001b[0;32m      4\u001b[0m     \u001b[0mstop_words\u001b[0m\u001b[1;33m=\u001b[0m\u001b[0mstop_words\u001b[0m\u001b[1;33m,\u001b[0m\u001b[1;33m\u001b[0m\u001b[1;33m\u001b[0m\u001b[0m\n\u001b[0;32m      5\u001b[0m     \u001b[0mlemmatizer\u001b[0m\u001b[1;33m=\u001b[0m\u001b[0mapply_lemmatizing\u001b[0m\u001b[1;33m\u001b[0m\u001b[1;33m\u001b[0m\u001b[0m\n",
      "\u001b[1;32m~\\anaconda3\\envs\\learn-env\\lib\\site-packages\\sklearn\\utils\\validation.py\u001b[0m in \u001b[0;36minner_f\u001b[1;34m(*args, **kwargs)\u001b[0m\n\u001b[0;32m     70\u001b[0m                           FutureWarning)\n\u001b[0;32m     71\u001b[0m         \u001b[0mkwargs\u001b[0m\u001b[1;33m.\u001b[0m\u001b[0mupdate\u001b[0m\u001b[1;33m(\u001b[0m\u001b[1;33m{\u001b[0m\u001b[0mk\u001b[0m\u001b[1;33m:\u001b[0m \u001b[0marg\u001b[0m \u001b[1;32mfor\u001b[0m \u001b[0mk\u001b[0m\u001b[1;33m,\u001b[0m \u001b[0marg\u001b[0m \u001b[1;32min\u001b[0m \u001b[0mzip\u001b[0m\u001b[1;33m(\u001b[0m\u001b[0msig\u001b[0m\u001b[1;33m.\u001b[0m\u001b[0mparameters\u001b[0m\u001b[1;33m,\u001b[0m \u001b[0margs\u001b[0m\u001b[1;33m)\u001b[0m\u001b[1;33m}\u001b[0m\u001b[1;33m)\u001b[0m\u001b[1;33m\u001b[0m\u001b[1;33m\u001b[0m\u001b[0m\n\u001b[1;32m---> 72\u001b[1;33m         \u001b[1;32mreturn\u001b[0m \u001b[0mf\u001b[0m\u001b[1;33m(\u001b[0m\u001b[1;33m**\u001b[0m\u001b[0mkwargs\u001b[0m\u001b[1;33m)\u001b[0m\u001b[1;33m\u001b[0m\u001b[1;33m\u001b[0m\u001b[0m\n\u001b[0m\u001b[0;32m     73\u001b[0m     \u001b[1;32mreturn\u001b[0m \u001b[0minner_f\u001b[0m\u001b[1;33m\u001b[0m\u001b[1;33m\u001b[0m\u001b[0m\n\u001b[0;32m     74\u001b[0m \u001b[1;33m\u001b[0m\u001b[0m\n",
      "\u001b[1;31mTypeError\u001b[0m: __init__() got an unexpected keyword argument 'lemmatizer'"
     ]
    }
   ],
   "source": [
    "# Instantiate the vectorizer\n",
    "tfidf = TfidfVectorizer(\n",
    "    max_features=10,\n",
    "    stop_words=stop_words,\n",
    "    \n",
    ")\n",
    "\n",
    "# Fit the vectorizer on X_train[\"text\"] and transform it\n",
    "X_train_vectorized = tfidf.fit_transform(X_train[\"tweet_text\"].values.astype('U'))\n",
    "\n"
   ]
  },
  {
   "cell_type": "code",
   "execution_count": null,
   "metadata": {},
   "outputs": [],
   "source": [
    "# Visually inspect the vectorized data\n",
    "pd.DataFrame.sparse.from_spmatrix(X_train_vectorized, columns=tfidf.get_feature_names())"
   ]
  },
  {
   "cell_type": "code",
   "execution_count": null,
   "metadata": {},
   "outputs": [],
   "source": [
    "# Evaluate the classifier on X_train_vectorized and y_train\n",
    "stopwords_removed_cv = cross_val_score(baseline_model, X_train_vectorized, y_train)\n",
    "stopwords_removed_cv"
   ]
  },
  {
   "cell_type": "code",
   "execution_count": null,
   "metadata": {},
   "outputs": [],
   "source": [
    "print(\"Baseline:         \", baseline_cv.mean())\n",
    "print(\"Stopwords removed:\", stopwords_removed_cv.mean())"
   ]
  },
  {
   "cell_type": "code",
   "execution_count": null,
   "metadata": {},
   "outputs": [],
   "source": [
    "# Instantiate the vectorizer\n",
    "tfidf = TfidfVectorizer(\n",
    "    max_features=10,\n",
    "    stop_words=stemmed_stopwords ,\n",
    "    tokenizer =tokenizer\n",
    ")\n",
    "\n",
    "# Fit the vectorizer on X_train[\"text\"] and transform it\n",
    "X_train_vectorized = tfidf.fit_transform(X_train[\"tweet_text\"].values.astype('U'))\n"
   ]
  },
  {
   "cell_type": "code",
   "execution_count": null,
   "metadata": {},
   "outputs": [],
   "source": [
    "# Visually inspect the vectorized data\n",
    "pd.DataFrame.sparse.from_spmatrix(X_train_vectorized, columns=tfidf.get_feature_names())"
   ]
  },
  {
   "cell_type": "code",
   "execution_count": null,
   "metadata": {},
   "outputs": [],
   "source": [
    "from sklearn.model_selection import train_test_split"
   ]
  },
  {
   "cell_type": "code",
   "execution_count": null,
   "metadata": {},
   "outputs": [],
   "source": [
    "X_train,X_test,y_train,y_test = train_test_split(tweets[\"tweet_text\"],tweets[\"catogory\"],test_size=0.25,random_state =42)"
   ]
  },
  {
   "cell_type": "code",
   "execution_count": null,
   "metadata": {
    "scrolled": true
   },
   "outputs": [],
   "source": [
    "X_train = pd.DataFrame(X_train)\n",
    "X_train"
   ]
  },
  {
   "cell_type": "code",
   "execution_count": null,
   "metadata": {
    "scrolled": true
   },
   "outputs": [],
   "source": [
    "y_train = pd.DataFrame(y_train)\n",
    "y_train"
   ]
  },
  {
   "cell_type": "code",
   "execution_count": null,
   "metadata": {
    "scrolled": true
   },
   "outputs": [],
   "source": [
    "X_test = pd.DataFrame(X_test)\n",
    "X_test"
   ]
  },
  {
   "cell_type": "code",
   "execution_count": null,
   "metadata": {},
   "outputs": [],
   "source": [
    "y_test = pd.DataFrame(y_test)\n",
    "y_test"
   ]
  },
  {
   "cell_type": "markdown",
   "metadata": {},
   "source": [
    "#### Perform Data Cleaning and Exploratory Data Analysis with nltk"
   ]
  },
  {
   "cell_type": "markdown",
   "metadata": {},
   "source": [
    "##### Standardizing Case"
   ]
  },
  {
   "cell_type": "code",
   "execution_count": null,
   "metadata": {},
   "outputs": [],
   "source": []
  },
  {
   "cell_type": "markdown",
   "metadata": {},
   "source": [
    "remove capatalization"
   ]
  },
  {
   "cell_type": "code",
   "execution_count": null,
   "metadata": {},
   "outputs": [],
   "source": [
    "# Transform text in tweets to lowercase\n",
    "X_train[\"tweet_text\"] = X_train[\"tweet_text\"].str.lower()\n",
    "X_train\n"
   ]
  },
  {
   "cell_type": "code",
   "execution_count": null,
   "metadata": {
    "scrolled": true
   },
   "outputs": [],
   "source": [
    "sample = X_train.iloc[10].tweet_text.split(\" \")\n",
    "sample\n"
   ]
  },
  {
   "cell_type": "code",
   "execution_count": null,
   "metadata": {
    "scrolled": true
   },
   "outputs": [],
   "source": [
    "import re\n",
    "sample = X_train.iloc[10].tweet_text\n",
    "sample"
   ]
  },
  {
   "cell_type": "code",
   "execution_count": null,
   "metadata": {
    "scrolled": true
   },
   "outputs": [],
   "source": [
    "sample_2= re.sub(r'^RT[\\s]+', '', sample)\n",
    "sample_2"
   ]
  },
  {
   "cell_type": "code",
   "execution_count": null,
   "metadata": {
    "scrolled": true
   },
   "outputs": [],
   "source": [
    "# it will remove hyperlinks\n",
    "sample_2 = re.sub(r'https?:\\/\\/.*[\\r\\n]*', '', sample_2)\n",
    "sample_2\n"
   ]
  },
  {
   "cell_type": "code",
   "execution_count": null,
   "metadata": {},
   "outputs": [],
   "source": [
    "# it will remove hashtags. We have to be careful here not to remove \n",
    "# the whole hashtag because text of hashtags contains huge information. \n",
    "# only removing the hash # sign from the word\n",
    "sample_2 = re.sub(r'#', '', sample_2)\n",
    "sample_2"
   ]
  },
  {
   "cell_type": "code",
   "execution_count": null,
   "metadata": {},
   "outputs": [],
   "source": [
    "#sample = str(sample)"
   ]
  },
  {
   "cell_type": "markdown",
   "metadata": {},
   "source": [
    "TOKINIZATION"
   ]
  },
  {
   "cell_type": "code",
   "execution_count": null,
   "metadata": {},
   "outputs": [],
   "source": [
    "import nltk"
   ]
  },
  {
   "cell_type": "code",
   "execution_count": null,
   "metadata": {
    "scrolled": true
   },
   "outputs": [],
   "source": [
    "from nltk.tokenize import TweetTokenizer\n",
    "# instantiate the tokenizer class\n",
    "tokenizer = TweetTokenizer(preserve_case=False, \n",
    "                           strip_handles=True,\n",
    "                           reduce_len=True)\n",
    "\n",
    "# tokenize the tweets\n",
    "tweet_tokens = tokenizer.tokenize(sample_2)\n",
    "tweet_tokens"
   ]
  },
  {
   "cell_type": "code",
   "execution_count": null,
   "metadata": {},
   "outputs": [],
   "source": [
    "#from nltk.tokenize import RegexpTokenizer\n",
    "\n",
    "#basic_token_pattern = r\"(?u)\\b\\w\\w+\\b\"\n",
    "\n",
    "#tokenizer = RegexpTokenizer(basic_token_pattern)\n",
    "#tokenizer.tokenize(sample)"
   ]
  },
  {
   "cell_type": "markdown",
   "metadata": {},
   "source": [
    "Tokenizing the Full Dataset"
   ]
  },
  {
   "cell_type": "code",
   "execution_count": null,
   "metadata": {
    "scrolled": true
   },
   "outputs": [],
   "source": [
    "X_train[\"text_tokenized\"]=[(tokenizer.tokenize(str(text)))for text in X_train[\"tweet_text\"]]\n",
    "X_train"
   ]
  },
  {
   "cell_type": "code",
   "execution_count": null,
   "metadata": {
    "scrolled": true
   },
   "outputs": [],
   "source": [
    "train_set = pd.concat([X_train,y_train],axis =1)\n",
    "train_set"
   ]
  },
  {
   "cell_type": "code",
   "execution_count": null,
   "metadata": {},
   "outputs": [],
   "source": []
  },
  {
   "cell_type": "code",
   "execution_count": null,
   "metadata": {},
   "outputs": [],
   "source": [
    "#train_set_grouped=train_set.groupby(by=[\"catogory\"], axis=0,  as_index=True, sort=True).sum()\n",
    "#train_set_grouped"
   ]
  },
  {
   "cell_type": "markdown",
   "metadata": {},
   "source": [
    "Exploratory Data Analysis: Frequency Distributions"
   ]
  },
  {
   "cell_type": "code",
   "execution_count": null,
   "metadata": {
    "scrolled": true
   },
   "outputs": [],
   "source": [
    "from  nltk import FreqDist\n",
    "train_freqdist = FreqDist(X_train[\"text_tokenized\"].explode())\n",
    "train_freqdist"
   ]
  },
  {
   "cell_type": "code",
   "execution_count": null,
   "metadata": {
    "scrolled": true
   },
   "outputs": [],
   "source": [
    "import matplotlib.pyplot as plt\n",
    "from matplotlib.ticker import MaxNLocator\n",
    "\n",
    "def visualize_top_25(freq_dist, title):\n",
    "\n",
    "    # Extract data for plotting\n",
    "    top_25 = list(zip(*freq_dist.most_common(25)))\n",
    "    stop_words = top_25[0]\n",
    "    counts = top_25[1]\n",
    "\n",
    "    # Set up plot and plot data\n",
    "    fig, ax = plt.subplots()\n",
    "    ax.bar(stop_words, counts)\n",
    "\n",
    "    # Customize plot appearance\n",
    "    ax.set_title(title)\n",
    "    ax.set_ylabel(\"Count\")\n",
    "    ax.yaxis.set_major_locator(MaxNLocator(integer=True))\n",
    "    ax.tick_params(axis=\"x\", rotation=90)\n",
    "    \n",
    "visualize_top_25(train_freqdist, \"Top 25 Word Frequency for Example Tokens\")"
   ]
  },
  {
   "cell_type": "markdown",
   "metadata": {},
   "source": [
    "subdivide this by category"
   ]
  },
  {
   "cell_type": "markdown",
   "metadata": {},
   "source": [
    "# posative"
   ]
  },
  {
   "cell_type": "code",
   "execution_count": null,
   "metadata": {
    "scrolled": true
   },
   "outputs": [],
   "source": [
    "train_set_posative=train_set[train_set[\"catogory\"]==2]\n",
    "train_set_posative"
   ]
  },
  {
   "cell_type": "code",
   "execution_count": null,
   "metadata": {
    "scrolled": true
   },
   "outputs": [],
   "source": [
    "from  nltk import FreqDist\n",
    "train_set_posative_freqdist =FreqDist(train_set_posative[\"text_tokenized\"].explode())\n",
    "train_set_posative_freqdist"
   ]
  },
  {
   "cell_type": "code",
   "execution_count": null,
   "metadata": {
    "scrolled": false
   },
   "outputs": [],
   "source": [
    "visualize_top_25(train_set_posative_freqdist, \"Top 25 Word Frequency for Example Tokens\")"
   ]
  },
  {
   "cell_type": "markdown",
   "metadata": {},
   "source": [
    "# Negative"
   ]
  },
  {
   "cell_type": "code",
   "execution_count": null,
   "metadata": {
    "scrolled": true
   },
   "outputs": [],
   "source": [
    "train_set_Negative=train_set[train_set[\"catogory\"]==0]\n",
    "train_set_Negative"
   ]
  },
  {
   "cell_type": "code",
   "execution_count": null,
   "metadata": {
    "scrolled": true
   },
   "outputs": [],
   "source": [
    "train_set_Negative_freqdist =FreqDist(train_set_Negative[\"text_tokenized\"].explode())\n",
    "train_set_Negative_freqdist"
   ]
  },
  {
   "cell_type": "code",
   "execution_count": null,
   "metadata": {
    "scrolled": false
   },
   "outputs": [],
   "source": [
    "visualize_top_25(train_set_Negative_freqdist, \"Top 25 Word Frequency for Example Tokens\")"
   ]
  },
  {
   "cell_type": "markdown",
   "metadata": {},
   "source": [
    "# No_emotion"
   ]
  },
  {
   "cell_type": "code",
   "execution_count": null,
   "metadata": {
    "scrolled": true
   },
   "outputs": [],
   "source": [
    "train_set_No_emotion=train_set[train_set[\"catogory\"]==1]\n",
    "train_set_No_emotion"
   ]
  },
  {
   "cell_type": "code",
   "execution_count": null,
   "metadata": {
    "scrolled": true
   },
   "outputs": [],
   "source": [
    "train_set_No_emotion_freqdist =FreqDist(train_set_No_emotion[\"text_tokenized\"].explode())\n",
    "train_set_No_emotion_freqdist"
   ]
  },
  {
   "cell_type": "code",
   "execution_count": null,
   "metadata": {},
   "outputs": [],
   "source": [
    "visualize_top_25(train_set_No_emotion_freqdist, \"Top 25 Word Frequency for Example Tokens\")"
   ]
  },
  {
   "cell_type": "code",
   "execution_count": null,
   "metadata": {},
   "outputs": [],
   "source": [
    "# Import the relevant vectorizer class\n",
    "from sklearn.feature_extraction.text import TfidfVectorizer\n",
    "\n",
    "# Instantiate a vectorizer with max_features=10\n",
    "# (we are using the default token pattern)\n",
    "tfidf = TfidfVectorizer(max_features=10)\n",
    "\n",
    "# Fit the vectorizer on X_train[\"text\"] and transform it\n",
    "X_train_vectorized = tfidf.fit_transform(X_train[\"tweet_text\"].values.astype('U'))"
   ]
  },
  {
   "cell_type": "markdown",
   "metadata": {},
   "source": [
    "You need to convert the dtype object to unicode string "
   ]
  },
  {
   "cell_type": "code",
   "execution_count": null,
   "metadata": {
    "scrolled": false
   },
   "outputs": [],
   "source": [
    "pd.DataFrame.sparse.from_spmatrix(X_train_vectorized, columns=tfidf.get_feature_names())"
   ]
  },
  {
   "cell_type": "markdown",
   "metadata": {},
   "source": [
    "baseline model"
   ]
  },
  {
   "cell_type": "code",
   "execution_count": null,
   "metadata": {
    "scrolled": true
   },
   "outputs": [],
   "source": [
    "# Import relevant class and function\n",
    "from sklearn.naive_bayes import MultinomialNB\n",
    "from sklearn.model_selection import cross_val_score\n",
    "\n",
    "# Instantiate a MultinomialNB classifier\n",
    "baseline_model = MultinomialNB()\n",
    "\n",
    "# Evaluate the classifier on X_train_vectorized and y_train\n",
    "baseline_cv = cross_val_score(baseline_model, X_train_vectorized, y_train)\n",
    "baseline_cv"
   ]
  },
  {
   "cell_type": "code",
   "execution_count": null,
   "metadata": {
    "scrolled": true
   },
   "outputs": [],
   "source": [
    "y_train.value_counts(normalize=True)"
   ]
  },
  {
   "cell_type": "markdown",
   "metadata": {},
   "source": [
    "we would expect about 60% accuracy for class 1"
   ]
  },
  {
   "cell_type": "markdown",
   "metadata": {},
   "source": [
    "#### Feature Engineering Techniques"
   ]
  },
  {
   "cell_type": "raw",
   "metadata": {},
   "source": [
    "Removing Stopwords"
   ]
  },
  {
   "cell_type": "code",
   "execution_count": null,
   "metadata": {},
   "outputs": [],
   "source": [
    "from nltk.corpus import stopwords\n",
    "import string"
   ]
  },
  {
   "cell_type": "code",
   "execution_count": null,
   "metadata": {
    "scrolled": true
   },
   "outputs": [],
   "source": [
    "s_w = stopwords.words('english')\n",
    "s_w += list(string.punctuation)\n",
    "s_w += ['0', '1', '2', '3', '4', '5', '6', '7', '8', '9']\n",
    "s_w += list(range(0,10))  \n",
    "s_w += ['sxsw', 'mention',\"#sxsw\"]\n"
   ]
  },
  {
   "cell_type": "code",
   "execution_count": null,
   "metadata": {},
   "outputs": [],
   "source": [
    "stop_words =[token for token in X_train[\"text_tokenized\"].explode() if token in s_w]\n",
    "stop_words"
   ]
  },
  {
   "cell_type": "code",
   "execution_count": null,
   "metadata": {},
   "outputs": [],
   "source": [
    "def remove_stopwords(token_list):\n",
    "    \"\"\"\n",
    "    Given a list of tokens, return a list where the tokens\n",
    "    that are also present in stopwords_list have been\n",
    "    removed\n",
    "    \"\"\"\n",
    "    stopwords_removed = [token for token in token_list if token not in stop_words]\n",
    "    return stopwords_removed"
   ]
  },
  {
   "cell_type": "code",
   "execution_count": null,
   "metadata": {},
   "outputs": [],
   "source": [
    "X_train[\"text_without_stopwords\"] = X_train[\"text_tokenized\"].apply(remove_stopwords)"
   ]
  },
  {
   "cell_type": "code",
   "execution_count": null,
   "metadata": {
    "scrolled": true
   },
   "outputs": [],
   "source": [
    "X_train_freqdist =FreqDist(X_train[\"text_without_stopwords\"].explode())\n",
    "X_train_freqdist"
   ]
  },
  {
   "cell_type": "code",
   "execution_count": null,
   "metadata": {
    "scrolled": true
   },
   "outputs": [],
   "source": [
    "visualize_top_25(X_train_freqdist, \"Top 25 Word Frequency for Example Tokens\")"
   ]
  },
  {
   "cell_type": "code",
   "execution_count": null,
   "metadata": {},
   "outputs": [],
   "source": [
    "# Instantiate the vectorizer\n",
    "tfidf = TfidfVectorizer(\n",
    "    max_features=10,\n",
    "    stop_words=stop_words\n",
    ")\n",
    "\n",
    "# Fit the vectorizer on X_train[\"text\"] and transform it\n",
    "X_train_vectorized = tfidf.fit_transform(X_train[\"tweet_text\"].values.astype('U'))\n"
   ]
  },
  {
   "cell_type": "code",
   "execution_count": null,
   "metadata": {
    "scrolled": true
   },
   "outputs": [],
   "source": [
    "# Visually inspect the vectorized data\n",
    "pd.DataFrame.sparse.from_spmatrix(X_train_vectorized, columns=tfidf.get_feature_names())"
   ]
  },
  {
   "cell_type": "code",
   "execution_count": null,
   "metadata": {
    "scrolled": true
   },
   "outputs": [],
   "source": [
    "# Evaluate the classifier on X_train_vectorized and y_train\n",
    "stopwords_removed_cv = cross_val_score(baseline_model, X_train_vectorized, y_train)\n",
    "stopwords_removed_cv"
   ]
  },
  {
   "cell_type": "code",
   "execution_count": null,
   "metadata": {
    "scrolled": false
   },
   "outputs": [],
   "source": [
    "print(\"Baseline:         \", baseline_cv.mean())\n",
    "print(\"Stopwords removed:\", stopwords_removed_cv.mean())"
   ]
  },
  {
   "cell_type": "markdown",
   "metadata": {},
   "source": [
    "Looks like we have no improvement"
   ]
  },
  {
   "cell_type": "markdown",
   "metadata": {},
   "source": [
    "Using Custom Tokens"
   ]
  },
  {
   "cell_type": "code",
   "execution_count": null,
   "metadata": {},
   "outputs": [],
   "source": [
    "jjllfrom nltk.stem.snowball import SnowballStemmer\n",
    "stemmer = SnowballStemmer(language=\"english\")\n",
    "\n",
    "def stem_and_tokenize(document):\n",
    "    tokens = tokenizer.tokenize(document)\n",
    "    return [stemmer.stem(token) for token in tokens]"
   ]
  },
  {
   "cell_type": "code",
   "execution_count": null,
   "metadata": {
    "scrolled": false
   },
   "outputs": [],
   "source": [
    "stopwords_stemed = [stemmer.stem(word) for word in stop_words]\n",
    "stopwords_stemed"
   ]
  },
  {
   "cell_type": "code",
   "execution_count": null,
   "metadata": {},
   "outputs": [],
   "source": [
    "stop_words_Negative =[token for token in train_set_Negative[\"text_tokenized\"].explode() if token in s_w]\n",
    "stop_words_Negative"
   ]
  },
  {
   "cell_type": "code",
   "execution_count": null,
   "metadata": {},
   "outputs": [],
   "source": [
    "# Instantiate the vectorizer\n",
    "tfidf = TfidfVectorizer(\n",
    "    max_features=10,\n",
    "    stop_words=stopwords_stemed,\n",
    "    tokenizer=stem_and_tokenize\n",
    ")\n",
    "\n",
    "# Fit the vectorizer on X_train[\"text\"] and transform it\n",
    "X_train_vectorized = tfidf.fit_transform(X_train[\"tweet_text\"].values.astype('U'))\n"
   ]
  },
  {
   "cell_type": "code",
   "execution_count": null,
   "metadata": {},
   "outputs": [],
   "source": [
    "# Visually inspect the vectorized data\n",
    "pd.DataFrame.sparse.from_spmatrix(X_train_vectorized, columns=tfidf.get_feature_names())"
   ]
  },
  {
   "cell_type": "code",
   "execution_count": null,
   "metadata": {
    "scrolled": true
   },
   "outputs": [],
   "source": [
    "# Evaluate the classifier on X_train_vectorized and y_train\n",
    "stemmed_cv = cross_val_score(baseline_model, X_train_vectorized, y_train)\n",
    "stemmed_cv"
   ]
  },
  {
   "cell_type": "code",
   "execution_count": null,
   "metadata": {
    "scrolled": true
   },
   "outputs": [],
   "source": [
    "print(\"Stopwords removed:\", stopwords_removed_cv.mean())\n",
    "print(\"Stemmed:          \", stemmed_cv.mean())"
   ]
  },
  {
   "cell_type": "markdown",
   "metadata": {},
   "source": [
    "little improve"
   ]
  },
  {
   "cell_type": "markdown",
   "metadata": {},
   "source": [
    "sentences tokinize"
   ]
  },
  {
   "cell_type": "code",
   "execution_count": null,
   "metadata": {},
   "outputs": [],
   "source": [
    "# Define a price as a dollar sign followed by 1-3 numbers,\n",
    "# optional commas or decimals, 1-2 numbers after the decimal\n",
    "# (we're not too worried about accidentally matching malformed prices)\n",
    "price_query = r'\\$(?:\\d{1,3}[,.]?)+(?:\\\\d{1,2})?'\n",
    "\n",
    "X_train[\"contains_price\"] = X_train[\"tweet_text\"].str.contains(price_query)\n"
   ]
  },
  {
   "cell_type": "code",
   "execution_count": null,
   "metadata": {},
   "outputs": [],
   "source": [
    "X_train[\"contains_price\"].value_counts()"
   ]
  },
  {
   "cell_type": "code",
   "execution_count": null,
   "metadata": {},
   "outputs": [],
   "source": [
    "emoticon_query = r'(?:[\\:;X=B][-^]?[)\\]3D([OP/\\\\|])(?:(?=\\s))'\n",
    "\n",
    "X_train[\"contains_emoticon\"] = X_train[\"tweet_text\"].str.contains(emoticon_query)\n"
   ]
  },
  {
   "cell_type": "code",
   "execution_count": null,
   "metadata": {},
   "outputs": [],
   "source": [
    "X_train[\"contains_emoticon\"].value_counts()"
   ]
  },
  {
   "cell_type": "code",
   "execution_count": null,
   "metadata": {},
   "outputs": [],
   "source": [
    "# Instantiate the vectorizer\n",
    "tfidf = TfidfVectorizer(\n",
    "    max_features=10,\n",
    "    stop_words=stopwords_stemed,\n",
    "    tokenizer=stem_and_tokenize\n",
    ")\n",
    "\n",
    "# Fit the vectorizer on X_train[\"text\"] and transform it\n",
    "X_train_vectorized = tfidf.fit_transform(X_train[\"tweet_text\"].values.astype('U'))\n",
    "\n",
    "# Create a full df of vectorized + engineered features\n",
    "X_train_vectorized_df = pd.DataFrame(X_train_vectorized.toarray(), columns=tfidf.get_feature_names())\n",
    "preprocessed_X_train = pd.concat([\n",
    "    X_train_vectorized_df, X_train[ \"contains_price\", \"contains_emoticon\"]]\n",
    ", axis=1)\n",
    "preprocessed_X_train"
   ]
  },
  {
   "cell_type": "code",
   "execution_count": null,
   "metadata": {},
   "outputs": [],
   "source": []
  }
 ],
 "metadata": {
  "kernelspec": {
   "display_name": "Python (learn-env)",
   "language": "python",
   "name": "learn-env"
  },
  "language_info": {
   "codemirror_mode": {
    "name": "ipython",
    "version": 3
   },
   "file_extension": ".py",
   "mimetype": "text/x-python",
   "name": "python",
   "nbconvert_exporter": "python",
   "pygments_lexer": "ipython3",
   "version": "3.8.5"
  }
 },
 "nbformat": 4,
 "nbformat_minor": 4
}
