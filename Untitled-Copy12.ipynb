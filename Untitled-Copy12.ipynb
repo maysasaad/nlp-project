{
 "cells": [
  {
   "cell_type": "markdown",
   "metadata": {},
   "source": [
    "# Final Project Submission\n",
    "Please fill out:\n",
    "\n",
    "1-Student name: Mays Alkhwitar\n",
    "\n",
    "2-Student pace: flex\n",
    "\n",
    "3-Scheduled project review date/time:feb /2/2023 /\n",
    "\n",
    "4-Instructor name: Mark Barbour\n",
    "\n",
    "5-Blog post URL:https://github.com/maysasaad/nlp-project\n",
    "\n"
   ]
  },
  {
   "cell_type": "markdown",
   "metadata": {},
   "source": [
    "# Brands and Product Emotions\n"
   ]
  },
  {
   "cell_type": "markdown",
   "metadata": {},
   "source": [
    "![image.jpg](images/image.jpg)\n"
   ]
  },
  {
   "cell_type": "markdown",
   "metadata": {},
   "source": [
    "## Overview"
   ]
  },
  {
   "cell_type": "markdown",
   "metadata": {},
   "source": [
    "Through this project, We will build an NLP model to analyze Twitter sentiments about Apple products,the model can rate the sentiment of a Tweet based on its content. create a predictive classification model that makes it possible to understand the business problem,solve it and report the findings of the final model,including predictions and performance metrics."
   ]
  },
  {
   "cell_type": "markdown",
   "metadata": {},
   "source": [
    "## Business Understanding"
   ]
  },
  {
   "cell_type": "markdown",
   "metadata": {},
   "source": [
    "Millions of people share their opinions about various topics on Twitter daily, So Baghdad cell company makes Twitter one of the resources for their businesses and conducts a sentiment analysis of tweets from the SXSW Conference.\n",
    "The goal of this project is to develop a model that will classify tweets based on their sentiment either if it was negative, positive, or neutral on  Apple products, the company is interested in selling Apple products and trying to make advertisements for the products based on the positive tweets.\n"
   ]
  },
  {
   "cell_type": "markdown",
   "metadata": {},
   "source": [
    "## Data Understanding"
   ]
  },
  {
   "cell_type": "markdown",
   "metadata": {},
   "source": [
    "This project uses Brands and Product Emotions dataset from CrowdFlower via data world Which consists of information about customer raters rated the sentiment in 9,093 Tweets.\n",
    "The tweets reflect which emotion they convey and what product/service/company this emotion is directed at based on the content."
   ]
  },
  {
   "cell_type": "markdown",
   "metadata": {},
   "source": [
    "## Data Preparation\n",
    "\n",
    "Natural Language Processing (NLP) deals with Text data. Text data is available to a great extent which is used to analyze and solve business problems. But before using the data for analysis or prediction, processing the data is important. Some of the preprocessing steps are: \n",
    "\n",
    "1-Lower casing the text.\n",
    "\n",
    "2-Removing punctuations like . , ! $( ) * % @\n",
    "\n",
    "3-Removing URLs,html,web signs.\n",
    "\n",
    "4-Tokenization.\n",
    "\n",
    "5-Removing Stop words.\n",
    "\n",
    "6-Stemming \n",
    "\n",
    "7-Lemmatization"
   ]
  },
  {
   "cell_type": "markdown",
   "metadata": {},
   "source": [
    "## Data Preparation"
   ]
  },
  {
   "cell_type": "markdown",
   "metadata": {},
   "source": [
    "### Import the necessary libraries"
   ]
  },
  {
   "cell_type": "code",
   "execution_count": 1,
   "metadata": {},
   "outputs": [],
   "source": [
    "import pandas as pd\n",
    "import numpy as np\n",
    "import matplotlib.pyplot as plt\n",
    "from sklearn.model_selection import train_test_split\n",
    "from sklearn.metrics import confusion_matrix\n",
    "from sklearn.metrics import plot_confusion_matrix\n",
    "from sklearn.metrics import classification_report\n",
    "from sklearn.model_selection import cross_val_score\n",
    "from sklearn.preprocessing import LabelEncoder\n",
    "from  nltk import FreqDist\n",
    "import re\n",
    "from sklearn.naive_bayes import MultinomialNB\n",
    "import warnings\n",
    "warnings.filterwarnings(\"ignore\")"
   ]
  },
  {
   "cell_type": "markdown",
   "metadata": {},
   "source": [
    "After imported all the necessary libraries and functions , we'll need to get the dataset."
   ]
  },
  {
   "cell_type": "markdown",
   "metadata": {},
   "source": [
    "### Importing the dataset¶\n",
    "Let's start by importing the dataset from csv file into a pandas dataframe using pandas read_csv()."
   ]
  },
  {
   "cell_type": "code",
   "execution_count": 2,
   "metadata": {
    "scrolled": true
   },
   "outputs": [
    {
     "data": {
      "text/html": [
       "<div>\n",
       "<style scoped>\n",
       "    .dataframe tbody tr th:only-of-type {\n",
       "        vertical-align: middle;\n",
       "    }\n",
       "\n",
       "    .dataframe tbody tr th {\n",
       "        vertical-align: top;\n",
       "    }\n",
       "\n",
       "    .dataframe thead th {\n",
       "        text-align: right;\n",
       "    }\n",
       "</style>\n",
       "<table border=\"1\" class=\"dataframe\">\n",
       "  <thead>\n",
       "    <tr style=\"text-align: right;\">\n",
       "      <th></th>\n",
       "      <th>tweet_text</th>\n",
       "      <th>emotion_in_tweet_is_directed_at</th>\n",
       "      <th>is_there_an_emotion_directed_at_a_brand_or_product</th>\n",
       "    </tr>\n",
       "  </thead>\n",
       "  <tbody>\n",
       "    <tr>\n",
       "      <th>0</th>\n",
       "      <td>.@wesley83 I have a 3G iPhone. After 3 hrs twe...</td>\n",
       "      <td>iPhone</td>\n",
       "      <td>Negative emotion</td>\n",
       "    </tr>\n",
       "    <tr>\n",
       "      <th>1</th>\n",
       "      <td>@jessedee Know about @fludapp ? Awesome iPad/i...</td>\n",
       "      <td>iPad or iPhone App</td>\n",
       "      <td>Positive emotion</td>\n",
       "    </tr>\n",
       "    <tr>\n",
       "      <th>2</th>\n",
       "      <td>@swonderlin Can not wait for #iPad 2 also. The...</td>\n",
       "      <td>iPad</td>\n",
       "      <td>Positive emotion</td>\n",
       "    </tr>\n",
       "    <tr>\n",
       "      <th>3</th>\n",
       "      <td>@sxsw I hope this year's festival isn't as cra...</td>\n",
       "      <td>iPad or iPhone App</td>\n",
       "      <td>Negative emotion</td>\n",
       "    </tr>\n",
       "    <tr>\n",
       "      <th>4</th>\n",
       "      <td>@sxtxstate great stuff on Fri #SXSW: Marissa M...</td>\n",
       "      <td>Google</td>\n",
       "      <td>Positive emotion</td>\n",
       "    </tr>\n",
       "  </tbody>\n",
       "</table>\n",
       "</div>"
      ],
      "text/plain": [
       "                                          tweet_text  \\\n",
       "0  .@wesley83 I have a 3G iPhone. After 3 hrs twe...   \n",
       "1  @jessedee Know about @fludapp ? Awesome iPad/i...   \n",
       "2  @swonderlin Can not wait for #iPad 2 also. The...   \n",
       "3  @sxsw I hope this year's festival isn't as cra...   \n",
       "4  @sxtxstate great stuff on Fri #SXSW: Marissa M...   \n",
       "\n",
       "  emotion_in_tweet_is_directed_at  \\\n",
       "0                          iPhone   \n",
       "1              iPad or iPhone App   \n",
       "2                            iPad   \n",
       "3              iPad or iPhone App   \n",
       "4                          Google   \n",
       "\n",
       "  is_there_an_emotion_directed_at_a_brand_or_product  \n",
       "0                                   Negative emotion  \n",
       "1                                   Positive emotion  \n",
       "2                                   Positive emotion  \n",
       "3                                   Negative emotion  \n",
       "4                                   Positive emotion  "
      ]
     },
     "execution_count": 2,
     "metadata": {},
     "output_type": "execute_result"
    }
   ],
   "source": [
    "# Loading data from csv file  to a data frame\n",
    "# Display the top five rows of the data frame by using .head() method\n",
    "\n",
    "tweets= pd.read_csv(\"data/judge-1377884607_tweet_product_company.csv\",encoding = \"ISO-8859-1\")\n",
    "tweets.head()"
   ]
  },
  {
   "cell_type": "markdown",
   "metadata": {},
   "source": [
    "Let's check the dimensionality of the DataFrame by using the .shape method."
   ]
  },
  {
   "cell_type": "code",
   "execution_count": 3,
   "metadata": {
    "scrolled": false
   },
   "outputs": [
    {
     "data": {
      "text/plain": [
       "(9093, 3)"
      ]
     },
     "execution_count": 3,
     "metadata": {},
     "output_type": "execute_result"
    }
   ],
   "source": [
    "tweets.shape"
   ]
  },
  {
   "cell_type": "markdown",
   "metadata": {},
   "source": [
    "Our data frame consist of 9093 rows and 3 columns."
   ]
  },
  {
   "cell_type": "markdown",
   "metadata": {},
   "source": [
    "### Preprocessing data\n",
    "Now, we'll perform any necessary preprocessing on our dataset before training our model."
   ]
  },
  {
   "cell_type": "code",
   "execution_count": 4,
   "metadata": {
    "scrolled": true
   },
   "outputs": [
    {
     "name": "stdout",
     "output_type": "stream",
     "text": [
      "<class 'pandas.core.frame.DataFrame'>\n",
      "RangeIndex: 9093 entries, 0 to 9092\n",
      "Data columns (total 3 columns):\n",
      " #   Column                                              Non-Null Count  Dtype \n",
      "---  ------                                              --------------  ----- \n",
      " 0   tweet_text                                          9092 non-null   object\n",
      " 1   emotion_in_tweet_is_directed_at                     3291 non-null   object\n",
      " 2   is_there_an_emotion_directed_at_a_brand_or_product  9093 non-null   object\n",
      "dtypes: object(3)\n",
      "memory usage: 213.2+ KB\n"
     ]
    }
   ],
   "source": [
    "# Getting a summary for the data frame \n",
    "tweets.info()"
   ]
  },
  {
   "cell_type": "markdown",
   "metadata": {},
   "source": [
    "We can notice that the columns' data types are objects.\n",
    "We have the target column (is_there_an_emotion_directed_at_a_brand_or_product) that refers to classification information.\n",
    "Let's discover the target column by using the.value_counts() method.\n"
   ]
  },
  {
   "cell_type": "markdown",
   "metadata": {},
   "source": [
    "Let's discover the target column by using the.value_counts() method."
   ]
  },
  {
   "cell_type": "code",
   "execution_count": 5,
   "metadata": {
    "scrolled": false
   },
   "outputs": [
    {
     "data": {
      "text/plain": [
       "No emotion toward brand or product    5389\n",
       "Positive emotion                      2978\n",
       "Negative emotion                       570\n",
       "I can't tell                           156\n",
       "Name: is_there_an_emotion_directed_at_a_brand_or_product, dtype: int64"
      ]
     },
     "execution_count": 5,
     "metadata": {},
     "output_type": "execute_result"
    }
   ],
   "source": [
    "# find the count of unique values in the column.\n",
    "tweets.is_there_an_emotion_directed_at_a_brand_or_product.value_counts()"
   ]
  },
  {
   "cell_type": "markdown",
   "metadata": {},
   "source": [
    "#### Handle Missing Values\n",
    "In this step, we will assess the presence of NaN values in our subset of data by using the.isna() method."
   ]
  },
  {
   "cell_type": "code",
   "execution_count": 6,
   "metadata": {
    "scrolled": true
   },
   "outputs": [
    {
     "data": {
      "text/plain": [
       "tweet_text                                               1\n",
       "emotion_in_tweet_is_directed_at                       5802\n",
       "is_there_an_emotion_directed_at_a_brand_or_product       0\n",
       "dtype: int64"
      ]
     },
     "execution_count": 6,
     "metadata": {},
     "output_type": "execute_result"
    }
   ],
   "source": [
    "#Checking for missing values\n",
    "tweets.isna().sum()"
   ]
  },
  {
   "cell_type": "markdown",
   "metadata": {},
   "source": [
    "We have a huge nummber of missing values in our dataset."
   ]
  },
  {
   "cell_type": "code",
   "execution_count": 7,
   "metadata": {
    "scrolled": false
   },
   "outputs": [
    {
     "data": {
      "text/plain": [
       "iPad                               946\n",
       "Apple                              661\n",
       "iPad or iPhone App                 470\n",
       "Google                             430\n",
       "iPhone                             297\n",
       "Other Google product or service    293\n",
       "Android App                         81\n",
       "Android                             78\n",
       "Other Apple product or service      35\n",
       "Name: emotion_in_tweet_is_directed_at, dtype: int64"
      ]
     },
     "execution_count": 7,
     "metadata": {},
     "output_type": "execute_result"
    }
   ],
   "source": [
    "# find the count of unique values in the column.\n",
    "tweets.emotion_in_tweet_is_directed_at.value_counts()"
   ]
  },
  {
   "cell_type": "markdown",
   "metadata": {},
   "source": [
    "Let's fill NaN values using the .fillna()method on (emotion_in_tweet_is_directed_at) column."
   ]
  },
  {
   "cell_type": "code",
   "execution_count": 8,
   "metadata": {},
   "outputs": [],
   "source": [
    "# fillna() on a column.\n",
    "tweets[\"emotion_in_tweet_is_directed_at\"].fillna(\"No product\", inplace = True)\n",
    " "
   ]
  },
  {
   "cell_type": "code",
   "execution_count": 9,
   "metadata": {
    "scrolled": true
   },
   "outputs": [
    {
     "data": {
      "text/plain": [
       "tweet_text                                            1\n",
       "emotion_in_tweet_is_directed_at                       0\n",
       "is_there_an_emotion_directed_at_a_brand_or_product    0\n",
       "dtype: int64"
      ]
     },
     "execution_count": 9,
     "metadata": {},
     "output_type": "execute_result"
    }
   ],
   "source": [
    "#Checking for missing values\n",
    "tweets.isna().sum()"
   ]
  },
  {
   "cell_type": "markdown",
   "metadata": {},
   "source": [
    "We still have one missing value."
   ]
  },
  {
   "cell_type": "markdown",
   "metadata": {},
   "source": [
    "Let's drop NaN values using the .dropna()method on (tweet_text) column."
   ]
  },
  {
   "cell_type": "code",
   "execution_count": 10,
   "metadata": {
    "scrolled": true
   },
   "outputs": [
    {
     "data": {
      "text/html": [
       "<div>\n",
       "<style scoped>\n",
       "    .dataframe tbody tr th:only-of-type {\n",
       "        vertical-align: middle;\n",
       "    }\n",
       "\n",
       "    .dataframe tbody tr th {\n",
       "        vertical-align: top;\n",
       "    }\n",
       "\n",
       "    .dataframe thead th {\n",
       "        text-align: right;\n",
       "    }\n",
       "</style>\n",
       "<table border=\"1\" class=\"dataframe\">\n",
       "  <thead>\n",
       "    <tr style=\"text-align: right;\">\n",
       "      <th></th>\n",
       "      <th>tweet_text</th>\n",
       "      <th>emotion_in_tweet_is_directed_at</th>\n",
       "      <th>is_there_an_emotion_directed_at_a_brand_or_product</th>\n",
       "    </tr>\n",
       "  </thead>\n",
       "  <tbody>\n",
       "    <tr>\n",
       "      <th>0</th>\n",
       "      <td>.@wesley83 I have a 3G iPhone. After 3 hrs twe...</td>\n",
       "      <td>iPhone</td>\n",
       "      <td>Negative emotion</td>\n",
       "    </tr>\n",
       "    <tr>\n",
       "      <th>1</th>\n",
       "      <td>@jessedee Know about @fludapp ? Awesome iPad/i...</td>\n",
       "      <td>iPad or iPhone App</td>\n",
       "      <td>Positive emotion</td>\n",
       "    </tr>\n",
       "    <tr>\n",
       "      <th>2</th>\n",
       "      <td>@swonderlin Can not wait for #iPad 2 also. The...</td>\n",
       "      <td>iPad</td>\n",
       "      <td>Positive emotion</td>\n",
       "    </tr>\n",
       "    <tr>\n",
       "      <th>3</th>\n",
       "      <td>@sxsw I hope this year's festival isn't as cra...</td>\n",
       "      <td>iPad or iPhone App</td>\n",
       "      <td>Negative emotion</td>\n",
       "    </tr>\n",
       "    <tr>\n",
       "      <th>4</th>\n",
       "      <td>@sxtxstate great stuff on Fri #SXSW: Marissa M...</td>\n",
       "      <td>Google</td>\n",
       "      <td>Positive emotion</td>\n",
       "    </tr>\n",
       "    <tr>\n",
       "      <th>...</th>\n",
       "      <td>...</td>\n",
       "      <td>...</td>\n",
       "      <td>...</td>\n",
       "    </tr>\n",
       "    <tr>\n",
       "      <th>9088</th>\n",
       "      <td>Ipad everywhere. #SXSW {link}</td>\n",
       "      <td>iPad</td>\n",
       "      <td>Positive emotion</td>\n",
       "    </tr>\n",
       "    <tr>\n",
       "      <th>9089</th>\n",
       "      <td>Wave, buzz... RT @mention We interrupt your re...</td>\n",
       "      <td>No product</td>\n",
       "      <td>No emotion toward brand or product</td>\n",
       "    </tr>\n",
       "    <tr>\n",
       "      <th>9090</th>\n",
       "      <td>Google's Zeiger, a physician never reported po...</td>\n",
       "      <td>No product</td>\n",
       "      <td>No emotion toward brand or product</td>\n",
       "    </tr>\n",
       "    <tr>\n",
       "      <th>9091</th>\n",
       "      <td>Some Verizon iPhone customers complained their...</td>\n",
       "      <td>No product</td>\n",
       "      <td>No emotion toward brand or product</td>\n",
       "    </tr>\n",
       "    <tr>\n",
       "      <th>9092</th>\n",
       "      <td>Ï¡Ïàü_ÊÎÒ£Áââ_£â_ÛâRT @...</td>\n",
       "      <td>No product</td>\n",
       "      <td>No emotion toward brand or product</td>\n",
       "    </tr>\n",
       "  </tbody>\n",
       "</table>\n",
       "<p>9092 rows × 3 columns</p>\n",
       "</div>"
      ],
      "text/plain": [
       "                                             tweet_text  \\\n",
       "0     .@wesley83 I have a 3G iPhone. After 3 hrs twe...   \n",
       "1     @jessedee Know about @fludapp ? Awesome iPad/i...   \n",
       "2     @swonderlin Can not wait for #iPad 2 also. The...   \n",
       "3     @sxsw I hope this year's festival isn't as cra...   \n",
       "4     @sxtxstate great stuff on Fri #SXSW: Marissa M...   \n",
       "...                                                 ...   \n",
       "9088                      Ipad everywhere. #SXSW {link}   \n",
       "9089  Wave, buzz... RT @mention We interrupt your re...   \n",
       "9090  Google's Zeiger, a physician never reported po...   \n",
       "9091  Some Verizon iPhone customers complained their...   \n",
       "9092  Ï¡Ïàü_ÊÎÒ£Áââ_£â_ÛâRT @...   \n",
       "\n",
       "     emotion_in_tweet_is_directed_at  \\\n",
       "0                             iPhone   \n",
       "1                 iPad or iPhone App   \n",
       "2                               iPad   \n",
       "3                 iPad or iPhone App   \n",
       "4                             Google   \n",
       "...                              ...   \n",
       "9088                            iPad   \n",
       "9089                      No product   \n",
       "9090                      No product   \n",
       "9091                      No product   \n",
       "9092                      No product   \n",
       "\n",
       "     is_there_an_emotion_directed_at_a_brand_or_product  \n",
       "0                                      Negative emotion  \n",
       "1                                      Positive emotion  \n",
       "2                                      Positive emotion  \n",
       "3                                      Negative emotion  \n",
       "4                                      Positive emotion  \n",
       "...                                                 ...  \n",
       "9088                                   Positive emotion  \n",
       "9089                 No emotion toward brand or product  \n",
       "9090                 No emotion toward brand or product  \n",
       "9091                 No emotion toward brand or product  \n",
       "9092                 No emotion toward brand or product  \n",
       "\n",
       "[9092 rows x 3 columns]"
      ]
     },
     "execution_count": 10,
     "metadata": {},
     "output_type": "execute_result"
    }
   ],
   "source": [
    "# drop NaN value on a column.\n",
    "tweets.dropna()"
   ]
  },
  {
   "cell_type": "markdown",
   "metadata": {},
   "source": [
    "Now we dont have any missing value in our dataset."
   ]
  },
  {
   "cell_type": "markdown",
   "metadata": {},
   "source": [
    "Renaming the columns in a Pandas Dataframe is by using the rename() function."
   ]
  },
  {
   "cell_type": "code",
   "execution_count": 11,
   "metadata": {
    "scrolled": false
   },
   "outputs": [
    {
     "data": {
      "text/html": [
       "<div>\n",
       "<style scoped>\n",
       "    .dataframe tbody tr th:only-of-type {\n",
       "        vertical-align: middle;\n",
       "    }\n",
       "\n",
       "    .dataframe tbody tr th {\n",
       "        vertical-align: top;\n",
       "    }\n",
       "\n",
       "    .dataframe thead th {\n",
       "        text-align: right;\n",
       "    }\n",
       "</style>\n",
       "<table border=\"1\" class=\"dataframe\">\n",
       "  <thead>\n",
       "    <tr style=\"text-align: right;\">\n",
       "      <th></th>\n",
       "      <th>tweet_text</th>\n",
       "      <th>product</th>\n",
       "      <th>catogory</th>\n",
       "    </tr>\n",
       "  </thead>\n",
       "  <tbody>\n",
       "    <tr>\n",
       "      <th>0</th>\n",
       "      <td>.@wesley83 I have a 3G iPhone. After 3 hrs twe...</td>\n",
       "      <td>iPhone</td>\n",
       "      <td>Negative emotion</td>\n",
       "    </tr>\n",
       "    <tr>\n",
       "      <th>1</th>\n",
       "      <td>@jessedee Know about @fludapp ? Awesome iPad/i...</td>\n",
       "      <td>iPad or iPhone App</td>\n",
       "      <td>Positive emotion</td>\n",
       "    </tr>\n",
       "    <tr>\n",
       "      <th>2</th>\n",
       "      <td>@swonderlin Can not wait for #iPad 2 also. The...</td>\n",
       "      <td>iPad</td>\n",
       "      <td>Positive emotion</td>\n",
       "    </tr>\n",
       "    <tr>\n",
       "      <th>3</th>\n",
       "      <td>@sxsw I hope this year's festival isn't as cra...</td>\n",
       "      <td>iPad or iPhone App</td>\n",
       "      <td>Negative emotion</td>\n",
       "    </tr>\n",
       "    <tr>\n",
       "      <th>4</th>\n",
       "      <td>@sxtxstate great stuff on Fri #SXSW: Marissa M...</td>\n",
       "      <td>Google</td>\n",
       "      <td>Positive emotion</td>\n",
       "    </tr>\n",
       "    <tr>\n",
       "      <th>...</th>\n",
       "      <td>...</td>\n",
       "      <td>...</td>\n",
       "      <td>...</td>\n",
       "    </tr>\n",
       "    <tr>\n",
       "      <th>9088</th>\n",
       "      <td>Ipad everywhere. #SXSW {link}</td>\n",
       "      <td>iPad</td>\n",
       "      <td>Positive emotion</td>\n",
       "    </tr>\n",
       "    <tr>\n",
       "      <th>9089</th>\n",
       "      <td>Wave, buzz... RT @mention We interrupt your re...</td>\n",
       "      <td>No product</td>\n",
       "      <td>No emotion toward brand or product</td>\n",
       "    </tr>\n",
       "    <tr>\n",
       "      <th>9090</th>\n",
       "      <td>Google's Zeiger, a physician never reported po...</td>\n",
       "      <td>No product</td>\n",
       "      <td>No emotion toward brand or product</td>\n",
       "    </tr>\n",
       "    <tr>\n",
       "      <th>9091</th>\n",
       "      <td>Some Verizon iPhone customers complained their...</td>\n",
       "      <td>No product</td>\n",
       "      <td>No emotion toward brand or product</td>\n",
       "    </tr>\n",
       "    <tr>\n",
       "      <th>9092</th>\n",
       "      <td>Ï¡Ïàü_ÊÎÒ£Áââ_£â_ÛâRT @...</td>\n",
       "      <td>No product</td>\n",
       "      <td>No emotion toward brand or product</td>\n",
       "    </tr>\n",
       "  </tbody>\n",
       "</table>\n",
       "<p>9093 rows × 3 columns</p>\n",
       "</div>"
      ],
      "text/plain": [
       "                                             tweet_text             product  \\\n",
       "0     .@wesley83 I have a 3G iPhone. After 3 hrs twe...              iPhone   \n",
       "1     @jessedee Know about @fludapp ? Awesome iPad/i...  iPad or iPhone App   \n",
       "2     @swonderlin Can not wait for #iPad 2 also. The...                iPad   \n",
       "3     @sxsw I hope this year's festival isn't as cra...  iPad or iPhone App   \n",
       "4     @sxtxstate great stuff on Fri #SXSW: Marissa M...              Google   \n",
       "...                                                 ...                 ...   \n",
       "9088                      Ipad everywhere. #SXSW {link}                iPad   \n",
       "9089  Wave, buzz... RT @mention We interrupt your re...          No product   \n",
       "9090  Google's Zeiger, a physician never reported po...          No product   \n",
       "9091  Some Verizon iPhone customers complained their...          No product   \n",
       "9092  Ï¡Ïàü_ÊÎÒ£Áââ_£â_ÛâRT @...          No product   \n",
       "\n",
       "                                catogory  \n",
       "0                       Negative emotion  \n",
       "1                       Positive emotion  \n",
       "2                       Positive emotion  \n",
       "3                       Negative emotion  \n",
       "4                       Positive emotion  \n",
       "...                                  ...  \n",
       "9088                    Positive emotion  \n",
       "9089  No emotion toward brand or product  \n",
       "9090  No emotion toward brand or product  \n",
       "9091  No emotion toward brand or product  \n",
       "9092  No emotion toward brand or product  \n",
       "\n",
       "[9093 rows x 3 columns]"
      ]
     },
     "execution_count": 11,
     "metadata": {},
     "output_type": "execute_result"
    }
   ],
   "source": [
    "#Rename the columns\n",
    "tweets.rename(columns = {'emotion_in_tweet_is_directed_at':'product', 'is_there_an_emotion_directed_at_a_brand_or_product':'catogory'}, inplace = True)\n",
    "tweets"
   ]
  },
  {
   "cell_type": "markdown",
   "metadata": {},
   "source": [
    "Pandas has an options API configure and customize global behavior related to DataFrame display, data behavior.\n"
   ]
  },
  {
   "cell_type": "markdown",
   "metadata": {},
   "source": [
    "Now we can take a look at the tweets with \"I can't tell\" emotion values to see if we can notice any patterns or tell easily whether the tweet has a negative, neutral or positive emotion."
   ]
  },
  {
   "cell_type": "code",
   "execution_count": 12,
   "metadata": {
    "scrolled": true
   },
   "outputs": [
    {
     "data": {
      "text/html": [
       "<div>\n",
       "<style scoped>\n",
       "    .dataframe tbody tr th:only-of-type {\n",
       "        vertical-align: middle;\n",
       "    }\n",
       "\n",
       "    .dataframe tbody tr th {\n",
       "        vertical-align: top;\n",
       "    }\n",
       "\n",
       "    .dataframe thead th {\n",
       "        text-align: right;\n",
       "    }\n",
       "</style>\n",
       "<table border=\"1\" class=\"dataframe\">\n",
       "  <thead>\n",
       "    <tr style=\"text-align: right;\">\n",
       "      <th></th>\n",
       "      <th>tweet_text</th>\n",
       "      <th>product</th>\n",
       "      <th>catogory</th>\n",
       "    </tr>\n",
       "  </thead>\n",
       "  <tbody>\n",
       "    <tr>\n",
       "      <th>90</th>\n",
       "      <td>Thanks to @mention for publishing the news of @mention new medical Apps at the #sxswi conf. blog {link} #sxsw #sxswh</td>\n",
       "      <td>No product</td>\n",
       "      <td>I can't tell</td>\n",
       "    </tr>\n",
       "    <tr>\n",
       "      <th>102</th>\n",
       "      <td>ÛÏ@mention &amp;quot;Apple has opened a pop-up store in Austin so the nerds in town for #SXSW can get their new iPads. {link} #wow</td>\n",
       "      <td>No product</td>\n",
       "      <td>I can't tell</td>\n",
       "    </tr>\n",
       "    <tr>\n",
       "      <th>237</th>\n",
       "      <td>Just what America needs. RT @mention Google to Launch Major New Social Network Called Circles, Possibly Today {link} #sxsw</td>\n",
       "      <td>No product</td>\n",
       "      <td>I can't tell</td>\n",
       "    </tr>\n",
       "    <tr>\n",
       "      <th>341</th>\n",
       "      <td>The queue at the Apple Store in Austin is FOUR blocks long. Crazy stuff! #sxsw</td>\n",
       "      <td>No product</td>\n",
       "      <td>I can't tell</td>\n",
       "    </tr>\n",
       "    <tr>\n",
       "      <th>368</th>\n",
       "      <td>Hope it's better than wave RT @mention Buzz is: Google's previewing a social networking platform at #SXSW: {link}</td>\n",
       "      <td>No product</td>\n",
       "      <td>I can't tell</td>\n",
       "    </tr>\n",
       "    <tr>\n",
       "      <th>...</th>\n",
       "      <td>...</td>\n",
       "      <td>...</td>\n",
       "      <td>...</td>\n",
       "    </tr>\n",
       "    <tr>\n",
       "      <th>9020</th>\n",
       "      <td>It's funny watching a room full of people hold their iPad in the air to take a photo. Like a room full of tablets staring you down. #SXSW</td>\n",
       "      <td>No product</td>\n",
       "      <td>I can't tell</td>\n",
       "    </tr>\n",
       "    <tr>\n",
       "      <th>9032</th>\n",
       "      <td>@mention yeah, we have @mention , Google has nothing on us :) #SXSW</td>\n",
       "      <td>No product</td>\n",
       "      <td>I can't tell</td>\n",
       "    </tr>\n",
       "    <tr>\n",
       "      <th>9037</th>\n",
       "      <td>@mention Yes, the Google presentation was not exactly what I was expecting. #sxsw</td>\n",
       "      <td>No product</td>\n",
       "      <td>I can't tell</td>\n",
       "    </tr>\n",
       "    <tr>\n",
       "      <th>9058</th>\n",
       "      <td>&amp;quot;Do you know what Apple is really good at? Making you feel bad about your Xmas present!&amp;quot; - Seth Meyers on iPad2 #sxsw #doyoureallyneedthat?</td>\n",
       "      <td>No product</td>\n",
       "      <td>I can't tell</td>\n",
       "    </tr>\n",
       "    <tr>\n",
       "      <th>9066</th>\n",
       "      <td>How much you want to bet Apple is disproportionately stocking the #SXSW pop-up store with iPad 2? The influencer/hipsters thank you</td>\n",
       "      <td>Apple</td>\n",
       "      <td>I can't tell</td>\n",
       "    </tr>\n",
       "  </tbody>\n",
       "</table>\n",
       "<p>156 rows × 3 columns</p>\n",
       "</div>"
      ],
      "text/plain": [
       "                                                                                                                                                 tweet_text  \\\n",
       "90                                     Thanks to @mention for publishing the news of @mention new medical Apps at the #sxswi conf. blog {link} #sxsw #sxswh   \n",
       "102                         ÛÏ@mention &quot;Apple has opened a pop-up store in Austin so the nerds in town for #SXSW can get their new iPads. {link} #wow   \n",
       "237                              Just what America needs. RT @mention Google to Launch Major New Social Network Called Circles, Possibly Today {link} #sxsw   \n",
       "341                                                                          The queue at the Apple Store in Austin is FOUR blocks long. Crazy stuff! #sxsw   \n",
       "368                                       Hope it's better than wave RT @mention Buzz is: Google's previewing a social networking platform at #SXSW: {link}   \n",
       "...                                                                                                                                                     ...   \n",
       "9020              It's funny watching a room full of people hold their iPad in the air to take a photo. Like a room full of tablets staring you down. #SXSW   \n",
       "9032                                                                                    @mention yeah, we have @mention , Google has nothing on us :) #SXSW   \n",
       "9037                                                                      @mention Yes, the Google presentation was not exactly what I was expecting. #sxsw   \n",
       "9058  &quot;Do you know what Apple is really good at? Making you feel bad about your Xmas present!&quot; - Seth Meyers on iPad2 #sxsw #doyoureallyneedthat?   \n",
       "9066                    How much you want to bet Apple is disproportionately stocking the #SXSW pop-up store with iPad 2? The influencer/hipsters thank you   \n",
       "\n",
       "         product      catogory  \n",
       "90    No product  I can't tell  \n",
       "102   No product  I can't tell  \n",
       "237   No product  I can't tell  \n",
       "341   No product  I can't tell  \n",
       "368   No product  I can't tell  \n",
       "...          ...           ...  \n",
       "9020  No product  I can't tell  \n",
       "9032  No product  I can't tell  \n",
       "9037  No product  I can't tell  \n",
       "9058  No product  I can't tell  \n",
       "9066       Apple  I can't tell  \n",
       "\n",
       "[156 rows x 3 columns]"
      ]
     },
     "execution_count": 12,
     "metadata": {},
     "output_type": "execute_result"
    }
   ],
   "source": [
    "# changing the max_rows value\n",
    "pd.set_option(\"display.max_colwidth\", 300)\n",
    "tweets[tweets['catogory']==\"I can't tell\"]"
   ]
  },
  {
   "cell_type": "markdown",
   "metadata": {},
   "source": [
    "Since we need to have labels for our models, these tweets will not be useful in developing our model.So we can go ahead and drop these rows."
   ]
  },
  {
   "cell_type": "code",
   "execution_count": 13,
   "metadata": {
    "scrolled": true
   },
   "outputs": [
    {
     "data": {
      "text/plain": [
       "No emotion toward brand or product    5389\n",
       "Positive emotion                      2978\n",
       "Negative emotion                       570\n",
       "Name: catogory, dtype: int64"
      ]
     },
     "execution_count": 13,
     "metadata": {},
     "output_type": "execute_result"
    }
   ],
   "source": [
    "# filter the data frame\n",
    "# find the count of unique values in the column.\n",
    "tweets = tweets[tweets['catogory']!=\"I can't tell\"]\n",
    "tweets['catogory'].value_counts()"
   ]
  },
  {
   "cell_type": "markdown",
   "metadata": {},
   "source": [
    "Checking for Duplicates to make sure if we have the same tweets represented multiple times.\n",
    "Pandas duplicated() method helps in analyzing duplicate values only."
   ]
  },
  {
   "cell_type": "code",
   "execution_count": 14,
   "metadata": {
    "scrolled": true
   },
   "outputs": [
    {
     "data": {
      "text/plain": [
       "22"
      ]
     },
     "execution_count": 14,
     "metadata": {},
     "output_type": "execute_result"
    }
   ],
   "source": [
    "#Checking for duplicate values\n",
    "len(tweets[tweets.duplicated()])"
   ]
  },
  {
   "cell_type": "markdown",
   "metadata": {},
   "source": [
    "We have 22 row duplicated on our data frame lets drop them."
   ]
  },
  {
   "cell_type": "code",
   "execution_count": 15,
   "metadata": {
    "scrolled": true
   },
   "outputs": [
    {
     "data": {
      "text/html": [
       "<div>\n",
       "<style scoped>\n",
       "    .dataframe tbody tr th:only-of-type {\n",
       "        vertical-align: middle;\n",
       "    }\n",
       "\n",
       "    .dataframe tbody tr th {\n",
       "        vertical-align: top;\n",
       "    }\n",
       "\n",
       "    .dataframe thead th {\n",
       "        text-align: right;\n",
       "    }\n",
       "</style>\n",
       "<table border=\"1\" class=\"dataframe\">\n",
       "  <thead>\n",
       "    <tr style=\"text-align: right;\">\n",
       "      <th></th>\n",
       "      <th>tweet_text</th>\n",
       "      <th>product</th>\n",
       "      <th>catogory</th>\n",
       "    </tr>\n",
       "  </thead>\n",
       "  <tbody>\n",
       "    <tr>\n",
       "      <th>468</th>\n",
       "      <td>Before It Even Begins, Apple Wins #SXSW {link}</td>\n",
       "      <td>Apple</td>\n",
       "      <td>Positive emotion</td>\n",
       "    </tr>\n",
       "    <tr>\n",
       "      <th>776</th>\n",
       "      <td>Google to Launch Major New Social Network Called Circles, Possibly Today {link} #sxsw</td>\n",
       "      <td>No product</td>\n",
       "      <td>No emotion toward brand or product</td>\n",
       "    </tr>\n",
       "    <tr>\n",
       "      <th>2232</th>\n",
       "      <td>Marissa Mayer: Google Will Connect the Digital &amp;amp; Physical Worlds Through Mobile - {link} #sxsw</td>\n",
       "      <td>No product</td>\n",
       "      <td>No emotion toward brand or product</td>\n",
       "    </tr>\n",
       "    <tr>\n",
       "      <th>2559</th>\n",
       "      <td>Counting down the days to #sxsw plus strong Canadian dollar means stock up on Apple gear</td>\n",
       "      <td>Apple</td>\n",
       "      <td>Positive emotion</td>\n",
       "    </tr>\n",
       "    <tr>\n",
       "      <th>3950</th>\n",
       "      <td>Really enjoying the changes in Gowalla 3.0 for Android! Looking forward to seeing what else they &amp;amp; Foursquare have up their sleeves at #SXSW</td>\n",
       "      <td>Android App</td>\n",
       "      <td>Positive emotion</td>\n",
       "    </tr>\n",
       "    <tr>\n",
       "      <th>3962</th>\n",
       "      <td>#SXSW is just starting, #CTIA is around the corner and #googleio is only a hop skip and a jump from there, good time to be an #android fan</td>\n",
       "      <td>Android</td>\n",
       "      <td>Positive emotion</td>\n",
       "    </tr>\n",
       "    <tr>\n",
       "      <th>4897</th>\n",
       "      <td>Oh. My. God. The #SXSW app for iPad is pure, unadulterated awesome. It's easier to browse events on iPad than on the website!!!</td>\n",
       "      <td>iPad or iPhone App</td>\n",
       "      <td>Positive emotion</td>\n",
       "    </tr>\n",
       "    <tr>\n",
       "      <th>5338</th>\n",
       "      <td>RT @mention ÷¼ GO BEYOND BORDERS! ÷_ {link} ã_ #edchat #musedchat #sxsw #sxswi #classical #newTwitter</td>\n",
       "      <td>No product</td>\n",
       "      <td>No emotion toward brand or product</td>\n",
       "    </tr>\n",
       "    <tr>\n",
       "      <th>5341</th>\n",
       "      <td>RT @mention ÷¼ Happy Woman's Day! Make love, not fuss! ÷_ {link} ã_ #edchat #musedchat #sxsw #sxswi #classical #newTwitter</td>\n",
       "      <td>No product</td>\n",
       "      <td>No emotion toward brand or product</td>\n",
       "    </tr>\n",
       "    <tr>\n",
       "      <th>5881</th>\n",
       "      <td>RT @mention Google to Launch Major New Social Network Called Circles, Possibly Today {link} #sxsw</td>\n",
       "      <td>No product</td>\n",
       "      <td>No emotion toward brand or product</td>\n",
       "    </tr>\n",
       "    <tr>\n",
       "      <th>5882</th>\n",
       "      <td>RT @mention Google to Launch Major New Social Network Called Circles, Possibly Today {link} #SXSW</td>\n",
       "      <td>No product</td>\n",
       "      <td>No emotion toward brand or product</td>\n",
       "    </tr>\n",
       "    <tr>\n",
       "      <th>5883</th>\n",
       "      <td>RT @mention Google to Launch Major New Social Network Called Circles, Possibly Today {link} #sxsw</td>\n",
       "      <td>No product</td>\n",
       "      <td>No emotion toward brand or product</td>\n",
       "    </tr>\n",
       "    <tr>\n",
       "      <th>5884</th>\n",
       "      <td>RT @mention Google to Launch Major New Social Network Called Circles, Possibly Today {link} #SXSW</td>\n",
       "      <td>No product</td>\n",
       "      <td>No emotion toward brand or product</td>\n",
       "    </tr>\n",
       "    <tr>\n",
       "      <th>5885</th>\n",
       "      <td>RT @mention Google to Launch Major New Social Network Called Circles, Possibly Today {link} #sxsw</td>\n",
       "      <td>No product</td>\n",
       "      <td>No emotion toward brand or product</td>\n",
       "    </tr>\n",
       "    <tr>\n",
       "      <th>6296</th>\n",
       "      <td>RT @mention Marissa Mayer: Google Will Connect the Digital &amp;amp; Physical Worlds Through Mobile - {link} #sxsw</td>\n",
       "      <td>Google</td>\n",
       "      <td>Positive emotion</td>\n",
       "    </tr>\n",
       "    <tr>\n",
       "      <th>6297</th>\n",
       "      <td>RT @mention Marissa Mayer: Google Will Connect the Digital &amp;amp; Physical Worlds Through Mobile - {link} #SXSW</td>\n",
       "      <td>No product</td>\n",
       "      <td>No emotion toward brand or product</td>\n",
       "    </tr>\n",
       "    <tr>\n",
       "      <th>6298</th>\n",
       "      <td>RT @mention Marissa Mayer: Google Will Connect the Digital &amp;amp; Physical Worlds Through Mobile - {link} #sxsw</td>\n",
       "      <td>Google</td>\n",
       "      <td>Positive emotion</td>\n",
       "    </tr>\n",
       "    <tr>\n",
       "      <th>6299</th>\n",
       "      <td>RT @mention Marissa Mayer: Google Will Connect the Digital &amp;amp; Physical Worlds Through Mobile - {link} #SXSW</td>\n",
       "      <td>No product</td>\n",
       "      <td>No emotion toward brand or product</td>\n",
       "    </tr>\n",
       "    <tr>\n",
       "      <th>6300</th>\n",
       "      <td>RT @mention Marissa Mayer: Google Will Connect the Digital &amp;amp; Physical Worlds Through Mobile - {link} #sxsw</td>\n",
       "      <td>No product</td>\n",
       "      <td>No emotion toward brand or product</td>\n",
       "    </tr>\n",
       "    <tr>\n",
       "      <th>6546</th>\n",
       "      <td>RT @mention RT @mention Google to Launch Major New Social Network Called Circles, Possibly Today {link} #sxsw</td>\n",
       "      <td>No product</td>\n",
       "      <td>No emotion toward brand or product</td>\n",
       "    </tr>\n",
       "    <tr>\n",
       "      <th>8483</th>\n",
       "      <td>I just noticed DST is coming this weekend. How many iPhone users will be an hour late at SXSW come Sunday morning? #SXSW #iPhone</td>\n",
       "      <td>iPhone</td>\n",
       "      <td>Negative emotion</td>\n",
       "    </tr>\n",
       "    <tr>\n",
       "      <th>8747</th>\n",
       "      <td>Need to buy an iPad2 while I'm in Austin at #sxsw. Not sure if I'll need to Q up at an Austin Apple store?</td>\n",
       "      <td>iPad</td>\n",
       "      <td>Positive emotion</td>\n",
       "    </tr>\n",
       "  </tbody>\n",
       "</table>\n",
       "</div>"
      ],
      "text/plain": [
       "                                                                                                                                            tweet_text  \\\n",
       "468                                                                                                     Before It Even Begins, Apple Wins #SXSW {link}   \n",
       "776                                                              Google to Launch Major New Social Network Called Circles, Possibly Today {link} #sxsw   \n",
       "2232                                                Marissa Mayer: Google Will Connect the Digital &amp; Physical Worlds Through Mobile - {link} #sxsw   \n",
       "2559                                                          Counting down the days to #sxsw plus strong Canadian dollar means stock up on Apple gear   \n",
       "3950  Really enjoying the changes in Gowalla 3.0 for Android! Looking forward to seeing what else they &amp; Foursquare have up their sleeves at #SXSW   \n",
       "3962        #SXSW is just starting, #CTIA is around the corner and #googleio is only a hop skip and a jump from there, good time to be an #android fan   \n",
       "4897                   Oh. My. God. The #SXSW app for iPad is pure, unadulterated awesome. It's easier to browse events on iPad than on the website!!!   \n",
       "5338                                          RT @mention ÷¼ GO BEYOND BORDERS! ÷_ {link} ã_ #edchat #musedchat #sxsw #sxswi #classical #newTwitter   \n",
       "5341                     RT @mention ÷¼ Happy Woman's Day! Make love, not fuss! ÷_ {link} ã_ #edchat #musedchat #sxsw #sxswi #classical #newTwitter   \n",
       "5881                                                 RT @mention Google to Launch Major New Social Network Called Circles, Possibly Today {link} #sxsw   \n",
       "5882                                                 RT @mention Google to Launch Major New Social Network Called Circles, Possibly Today {link} #SXSW   \n",
       "5883                                                 RT @mention Google to Launch Major New Social Network Called Circles, Possibly Today {link} #sxsw   \n",
       "5884                                                 RT @mention Google to Launch Major New Social Network Called Circles, Possibly Today {link} #SXSW   \n",
       "5885                                                 RT @mention Google to Launch Major New Social Network Called Circles, Possibly Today {link} #sxsw   \n",
       "6296                                    RT @mention Marissa Mayer: Google Will Connect the Digital &amp; Physical Worlds Through Mobile - {link} #sxsw   \n",
       "6297                                    RT @mention Marissa Mayer: Google Will Connect the Digital &amp; Physical Worlds Through Mobile - {link} #SXSW   \n",
       "6298                                    RT @mention Marissa Mayer: Google Will Connect the Digital &amp; Physical Worlds Through Mobile - {link} #sxsw   \n",
       "6299                                    RT @mention Marissa Mayer: Google Will Connect the Digital &amp; Physical Worlds Through Mobile - {link} #SXSW   \n",
       "6300                                    RT @mention Marissa Mayer: Google Will Connect the Digital &amp; Physical Worlds Through Mobile - {link} #sxsw   \n",
       "6546                                     RT @mention RT @mention Google to Launch Major New Social Network Called Circles, Possibly Today {link} #sxsw   \n",
       "8483                  I just noticed DST is coming this weekend. How many iPhone users will be an hour late at SXSW come Sunday morning? #SXSW #iPhone   \n",
       "8747                                        Need to buy an iPad2 while I'm in Austin at #sxsw. Not sure if I'll need to Q up at an Austin Apple store?   \n",
       "\n",
       "                 product                            catogory  \n",
       "468                Apple                    Positive emotion  \n",
       "776           No product  No emotion toward brand or product  \n",
       "2232          No product  No emotion toward brand or product  \n",
       "2559               Apple                    Positive emotion  \n",
       "3950         Android App                    Positive emotion  \n",
       "3962             Android                    Positive emotion  \n",
       "4897  iPad or iPhone App                    Positive emotion  \n",
       "5338          No product  No emotion toward brand or product  \n",
       "5341          No product  No emotion toward brand or product  \n",
       "5881          No product  No emotion toward brand or product  \n",
       "5882          No product  No emotion toward brand or product  \n",
       "5883          No product  No emotion toward brand or product  \n",
       "5884          No product  No emotion toward brand or product  \n",
       "5885          No product  No emotion toward brand or product  \n",
       "6296              Google                    Positive emotion  \n",
       "6297          No product  No emotion toward brand or product  \n",
       "6298              Google                    Positive emotion  \n",
       "6299          No product  No emotion toward brand or product  \n",
       "6300          No product  No emotion toward brand or product  \n",
       "6546          No product  No emotion toward brand or product  \n",
       "8483              iPhone                    Negative emotion  \n",
       "8747                iPad                    Positive emotion  "
      ]
     },
     "execution_count": 15,
     "metadata": {},
     "output_type": "execute_result"
    }
   ],
   "source": [
    "#Let's take a look at the duplicates\n",
    "tweets[tweets.duplicated()]"
   ]
  },
  {
   "cell_type": "code",
   "execution_count": 16,
   "metadata": {
    "scrolled": true
   },
   "outputs": [
    {
     "data": {
      "text/html": [
       "<div>\n",
       "<style scoped>\n",
       "    .dataframe tbody tr th:only-of-type {\n",
       "        vertical-align: middle;\n",
       "    }\n",
       "\n",
       "    .dataframe tbody tr th {\n",
       "        vertical-align: top;\n",
       "    }\n",
       "\n",
       "    .dataframe thead th {\n",
       "        text-align: right;\n",
       "    }\n",
       "</style>\n",
       "<table border=\"1\" class=\"dataframe\">\n",
       "  <thead>\n",
       "    <tr style=\"text-align: right;\">\n",
       "      <th></th>\n",
       "      <th>tweet_text</th>\n",
       "      <th>product</th>\n",
       "      <th>catogory</th>\n",
       "    </tr>\n",
       "  </thead>\n",
       "  <tbody>\n",
       "    <tr>\n",
       "      <th>0</th>\n",
       "      <td>.@wesley83 I have a 3G iPhone. After 3 hrs tweeting at #RISE_Austin, it was dead!  I need to upgrade. Plugin stations at #SXSW.</td>\n",
       "      <td>iPhone</td>\n",
       "      <td>Negative emotion</td>\n",
       "    </tr>\n",
       "    <tr>\n",
       "      <th>1</th>\n",
       "      <td>@jessedee Know about @fludapp ? Awesome iPad/iPhone app that you'll likely appreciate for its design. Also, they're giving free Ts at #SXSW</td>\n",
       "      <td>iPad or iPhone App</td>\n",
       "      <td>Positive emotion</td>\n",
       "    </tr>\n",
       "    <tr>\n",
       "      <th>2</th>\n",
       "      <td>@swonderlin Can not wait for #iPad 2 also. They should sale them down at #SXSW.</td>\n",
       "      <td>iPad</td>\n",
       "      <td>Positive emotion</td>\n",
       "    </tr>\n",
       "    <tr>\n",
       "      <th>3</th>\n",
       "      <td>@sxsw I hope this year's festival isn't as crashy as this year's iPhone app. #sxsw</td>\n",
       "      <td>iPad or iPhone App</td>\n",
       "      <td>Negative emotion</td>\n",
       "    </tr>\n",
       "    <tr>\n",
       "      <th>4</th>\n",
       "      <td>@sxtxstate great stuff on Fri #SXSW: Marissa Mayer (Google), Tim O'Reilly (tech books/conferences) &amp;amp; Matt Mullenweg (Wordpress)</td>\n",
       "      <td>Google</td>\n",
       "      <td>Positive emotion</td>\n",
       "    </tr>\n",
       "    <tr>\n",
       "      <th>...</th>\n",
       "      <td>...</td>\n",
       "      <td>...</td>\n",
       "      <td>...</td>\n",
       "    </tr>\n",
       "    <tr>\n",
       "      <th>9088</th>\n",
       "      <td>Ipad everywhere. #SXSW {link}</td>\n",
       "      <td>iPad</td>\n",
       "      <td>Positive emotion</td>\n",
       "    </tr>\n",
       "    <tr>\n",
       "      <th>9089</th>\n",
       "      <td>Wave, buzz... RT @mention We interrupt your regularly scheduled #sxsw geek programming with big news {link}  #google #circles</td>\n",
       "      <td>No product</td>\n",
       "      <td>No emotion toward brand or product</td>\n",
       "    </tr>\n",
       "    <tr>\n",
       "      <th>9090</th>\n",
       "      <td>Google's Zeiger, a physician never reported potential AE. Yet FDA relies on physicians. &amp;quot;We're operating w/out data.&amp;quot; #sxsw #health2dev</td>\n",
       "      <td>No product</td>\n",
       "      <td>No emotion toward brand or product</td>\n",
       "    </tr>\n",
       "    <tr>\n",
       "      <th>9091</th>\n",
       "      <td>Some Verizon iPhone customers complained their time fell back an hour this weekend.  Of course they were the New Yorkers who attended #SXSW.</td>\n",
       "      <td>No product</td>\n",
       "      <td>No emotion toward brand or product</td>\n",
       "    </tr>\n",
       "    <tr>\n",
       "      <th>9092</th>\n",
       "      <td>Ï¡Ïàü_ÊÎÒ£Áââ_£â_ÛâRT @mention Google Tests ÛÏCheck-in OffersÛ At #SXSW {link}</td>\n",
       "      <td>No product</td>\n",
       "      <td>No emotion toward brand or product</td>\n",
       "    </tr>\n",
       "  </tbody>\n",
       "</table>\n",
       "<p>8915 rows × 3 columns</p>\n",
       "</div>"
      ],
      "text/plain": [
       "                                                                                                                                             tweet_text  \\\n",
       "0                       .@wesley83 I have a 3G iPhone. After 3 hrs tweeting at #RISE_Austin, it was dead!  I need to upgrade. Plugin stations at #SXSW.   \n",
       "1           @jessedee Know about @fludapp ? Awesome iPad/iPhone app that you'll likely appreciate for its design. Also, they're giving free Ts at #SXSW   \n",
       "2                                                                       @swonderlin Can not wait for #iPad 2 also. They should sale them down at #SXSW.   \n",
       "3                                                                    @sxsw I hope this year's festival isn't as crashy as this year's iPhone app. #sxsw   \n",
       "4                   @sxtxstate great stuff on Fri #SXSW: Marissa Mayer (Google), Tim O'Reilly (tech books/conferences) &amp; Matt Mullenweg (Wordpress)   \n",
       "...                                                                                                                                                 ...   \n",
       "9088                                                                                                                      Ipad everywhere. #SXSW {link}   \n",
       "9089                      Wave, buzz... RT @mention We interrupt your regularly scheduled #sxsw geek programming with big news {link}  #google #circles   \n",
       "9090  Google's Zeiger, a physician never reported potential AE. Yet FDA relies on physicians. &quot;We're operating w/out data.&quot; #sxsw #health2dev   \n",
       "9091       Some Verizon iPhone customers complained their time fell back an hour this weekend.  Of course they were the New Yorkers who attended #SXSW.   \n",
       "9092                                           Ï¡Ïàü_ÊÎÒ£Áââ_£â_ÛâRT @mention Google Tests ÛÏCheck-in OffersÛ At #SXSW {link}   \n",
       "\n",
       "                 product                            catogory  \n",
       "0                 iPhone                    Negative emotion  \n",
       "1     iPad or iPhone App                    Positive emotion  \n",
       "2                   iPad                    Positive emotion  \n",
       "3     iPad or iPhone App                    Negative emotion  \n",
       "4                 Google                    Positive emotion  \n",
       "...                  ...                                 ...  \n",
       "9088                iPad                    Positive emotion  \n",
       "9089          No product  No emotion toward brand or product  \n",
       "9090          No product  No emotion toward brand or product  \n",
       "9091          No product  No emotion toward brand or product  \n",
       "9092          No product  No emotion toward brand or product  \n",
       "\n",
       "[8915 rows x 3 columns]"
      ]
     },
     "execution_count": 16,
     "metadata": {},
     "output_type": "execute_result"
    }
   ],
   "source": [
    "# Drop the duplicates rows\n",
    "tweets.drop_duplicates(keep='first', inplace=True)\n",
    "tweets"
   ]
  },
  {
   "cell_type": "markdown",
   "metadata": {},
   "source": [
    "Let's take a look on our target"
   ]
  },
  {
   "cell_type": "markdown",
   "metadata": {},
   "source": [
    "#### Check for Imbalance\n",
    "Class imbalance is generally normal in classification problems. Sometimes when the records of a certain class are much more than the other class, our classifier may get biased towards the prediction."
   ]
  },
  {
   "cell_type": "code",
   "execution_count": 17,
   "metadata": {},
   "outputs": [
    {
     "data": {
      "text/plain": [
       "No emotion toward brand or product    0.603029\n",
       "Positive emotion                      0.333146\n",
       "Negative emotion                      0.063825\n",
       "Name: catogory, dtype: float64"
      ]
     },
     "execution_count": 17,
     "metadata": {},
     "output_type": "execute_result"
    }
   ],
   "source": [
    "# find the count of unique values in the column.\n",
    "tweets['catogory'].value_counts(normalize=True)"
   ]
  },
  {
   "cell_type": "code",
   "execution_count": null,
   "metadata": {},
   "outputs": [],
   "source": []
  },
  {
   "cell_type": "code",
   "execution_count": 18,
   "metadata": {
    "scrolled": true
   },
   "outputs": [
    {
     "data": {
      "image/png": "[encoded data removed]",
      "text/plain": [
       "<Figure size 432x288 with 1 Axes>"
      ]
     },
     "metadata": {
      "needs_background": "light"
     },
     "output_type": "display_data"
    }
   ],
   "source": [
    "# visualize the target values\n",
    "tweets[\"catogory\"].value_counts().plot(kind='bar')\n",
    "plt.title('Emotion on products')\n",
    "plt.xlabel('Emotion')\n",
    "plt.ylabel('Number of tweets')\n",
    "plt.show()"
   ]
  },
  {
   "cell_type": "markdown",
   "metadata": {},
   "source": [
    "In machine learning, we usually deal with datasets that contain multiple labels in one or more than one columns. These labels can be in the form of words or numbers. To make the data understandable or in human-readable form, the training data is often labelled in words."
   ]
  },
  {
   "cell_type": "markdown",
   "metadata": {},
   "source": [
    "We will use Label Encoding refers to converting the labels into a numeric form so as to convert them into the machine-readable form."
   ]
  },
  {
   "cell_type": "code",
   "execution_count": 19,
   "metadata": {},
   "outputs": [],
   "source": [
    "#import LabelEncoder\n",
    "from sklearn.preprocessing import LabelEncoder\n",
    "# creating instance of labelencoder\n",
    "labelencoder = LabelEncoder()\n",
    "tweets[\"catogory\"] = labelencoder.fit_transform(tweets[\"catogory\"])"
   ]
  },
  {
   "cell_type": "code",
   "execution_count": 20,
   "metadata": {
    "scrolled": true
   },
   "outputs": [
    {
     "data": {
      "text/html": [
       "<div>\n",
       "<style scoped>\n",
       "    .dataframe tbody tr th:only-of-type {\n",
       "        vertical-align: middle;\n",
       "    }\n",
       "\n",
       "    .dataframe tbody tr th {\n",
       "        vertical-align: top;\n",
       "    }\n",
       "\n",
       "    .dataframe thead th {\n",
       "        text-align: right;\n",
       "    }\n",
       "</style>\n",
       "<table border=\"1\" class=\"dataframe\">\n",
       "  <thead>\n",
       "    <tr style=\"text-align: right;\">\n",
       "      <th></th>\n",
       "      <th>tweet_text</th>\n",
       "      <th>product</th>\n",
       "      <th>catogory</th>\n",
       "    </tr>\n",
       "  </thead>\n",
       "  <tbody>\n",
       "    <tr>\n",
       "      <th>0</th>\n",
       "      <td>.@wesley83 I have a 3G iPhone. After 3 hrs tweeting at #RISE_Austin, it was dead!  I need to upgrade. Plugin stations at #SXSW.</td>\n",
       "      <td>iPhone</td>\n",
       "      <td>0</td>\n",
       "    </tr>\n",
       "    <tr>\n",
       "      <th>1</th>\n",
       "      <td>@jessedee Know about @fludapp ? Awesome iPad/iPhone app that you'll likely appreciate for its design. Also, they're giving free Ts at #SXSW</td>\n",
       "      <td>iPad or iPhone App</td>\n",
       "      <td>2</td>\n",
       "    </tr>\n",
       "    <tr>\n",
       "      <th>2</th>\n",
       "      <td>@swonderlin Can not wait for #iPad 2 also. They should sale them down at #SXSW.</td>\n",
       "      <td>iPad</td>\n",
       "      <td>2</td>\n",
       "    </tr>\n",
       "    <tr>\n",
       "      <th>3</th>\n",
       "      <td>@sxsw I hope this year's festival isn't as crashy as this year's iPhone app. #sxsw</td>\n",
       "      <td>iPad or iPhone App</td>\n",
       "      <td>0</td>\n",
       "    </tr>\n",
       "    <tr>\n",
       "      <th>4</th>\n",
       "      <td>@sxtxstate great stuff on Fri #SXSW: Marissa Mayer (Google), Tim O'Reilly (tech books/conferences) &amp;amp; Matt Mullenweg (Wordpress)</td>\n",
       "      <td>Google</td>\n",
       "      <td>2</td>\n",
       "    </tr>\n",
       "  </tbody>\n",
       "</table>\n",
       "</div>"
      ],
      "text/plain": [
       "                                                                                                                                    tweet_text  \\\n",
       "0              .@wesley83 I have a 3G iPhone. After 3 hrs tweeting at #RISE_Austin, it was dead!  I need to upgrade. Plugin stations at #SXSW.   \n",
       "1  @jessedee Know about @fludapp ? Awesome iPad/iPhone app that you'll likely appreciate for its design. Also, they're giving free Ts at #SXSW   \n",
       "2                                                              @swonderlin Can not wait for #iPad 2 also. They should sale them down at #SXSW.   \n",
       "3                                                           @sxsw I hope this year's festival isn't as crashy as this year's iPhone app. #sxsw   \n",
       "4          @sxtxstate great stuff on Fri #SXSW: Marissa Mayer (Google), Tim O'Reilly (tech books/conferences) &amp; Matt Mullenweg (Wordpress)   \n",
       "\n",
       "              product  catogory  \n",
       "0              iPhone         0  \n",
       "1  iPad or iPhone App         2  \n",
       "2                iPad         2  \n",
       "3  iPad or iPhone App         0  \n",
       "4              Google         2  "
      ]
     },
     "execution_count": 20,
     "metadata": {},
     "output_type": "execute_result"
    }
   ],
   "source": [
    "# Display the top five rows of the data frame by using .head() method\n",
    "tweets.head()"
   ]
  },
  {
   "cell_type": "markdown",
   "metadata": {},
   "source": [
    "Based on our business problem we are trying to analize the tweets related to Apple products.\n",
    "\n",
    "\n"
   ]
  },
  {
   "cell_type": "code",
   "execution_count": 21,
   "metadata": {},
   "outputs": [
    {
     "data": {
      "text/plain": [
       "array(['iPhone', 'iPad or iPhone App', 'iPad', 'Google', 'No product',\n",
       "       'Android', 'Apple', 'Android App',\n",
       "       'Other Google product or service',\n",
       "       'Other Apple product or service'], dtype=object)"
      ]
     },
     "execution_count": 21,
     "metadata": {},
     "output_type": "execute_result"
    }
   ],
   "source": [
    "# Return unique values from product column.\n",
    "tweets['product'].unique()"
   ]
  },
  {
   "cell_type": "markdown",
   "metadata": {},
   "source": [
    "The product column contains different products some of them belong to Apple company and others from Google company.\n",
    "\n"
   ]
  },
  {
   "cell_type": "markdown",
   "metadata": {},
   "source": [
    "We will create a dictionary to map each product to the brand  either if it belongs to Apple or google.\n"
   ]
  },
  {
   "cell_type": "code",
   "execution_count": 22,
   "metadata": {},
   "outputs": [],
   "source": [
    "#mapping products to brands\n",
    "brand_dict={'iPhone': 'Apple', 'iPad or iPhone App': 'Apple', 'iPad': 'Apple', \n",
    "            'Google': 'Google', 'No product': 'Unknown',\n",
    "            'Android': 'Google', 'Apple': 'Apple', 'Android App': 'Google',\n",
    "            'Other Google product or service': 'Google',\n",
    "            'Other Apple product or service': 'Apple'}\n"
   ]
  },
  {
   "cell_type": "markdown",
   "metadata": {},
   "source": [
    "We will apply the dictionary values to the product column by using .map() method."
   ]
  },
  {
   "cell_type": "code",
   "execution_count": 23,
   "metadata": {},
   "outputs": [],
   "source": [
    "# apply the dictonary to the column by using the .map() method.\n",
    "tweets['product'] = tweets['product'].map(brand_dict)"
   ]
  },
  {
   "cell_type": "code",
   "execution_count": 24,
   "metadata": {},
   "outputs": [
    {
     "data": {
      "text/plain": [
       "array(['Apple', 'Google', 'Unknown'], dtype=object)"
      ]
     },
     "execution_count": 24,
     "metadata": {},
     "output_type": "execute_result"
    }
   ],
   "source": [
    "# Return unique values from product column.\n",
    "tweets['product'].unique()"
   ]
  },
  {
   "cell_type": "markdown",
   "metadata": {},
   "source": [
    "Now our products are Apple, Google, and Unknown. We want to work with tweets related to Apple.\n"
   ]
  },
  {
   "cell_type": "code",
   "execution_count": 25,
   "metadata": {
    "scrolled": true
   },
   "outputs": [
    {
     "data": {
      "text/html": [
       "<div>\n",
       "<style scoped>\n",
       "    .dataframe tbody tr th:only-of-type {\n",
       "        vertical-align: middle;\n",
       "    }\n",
       "\n",
       "    .dataframe tbody tr th {\n",
       "        vertical-align: top;\n",
       "    }\n",
       "\n",
       "    .dataframe thead th {\n",
       "        text-align: right;\n",
       "    }\n",
       "</style>\n",
       "<table border=\"1\" class=\"dataframe\">\n",
       "  <thead>\n",
       "    <tr style=\"text-align: right;\">\n",
       "      <th></th>\n",
       "      <th>tweet_text</th>\n",
       "      <th>product</th>\n",
       "      <th>catogory</th>\n",
       "    </tr>\n",
       "  </thead>\n",
       "  <tbody>\n",
       "    <tr>\n",
       "      <th>0</th>\n",
       "      <td>.@wesley83 I have a 3G iPhone. After 3 hrs tweeting at #RISE_Austin, it was dead!  I need to upgrade. Plugin stations at #SXSW.</td>\n",
       "      <td>Apple</td>\n",
       "      <td>0</td>\n",
       "    </tr>\n",
       "    <tr>\n",
       "      <th>1</th>\n",
       "      <td>@jessedee Know about @fludapp ? Awesome iPad/iPhone app that you'll likely appreciate for its design. Also, they're giving free Ts at #SXSW</td>\n",
       "      <td>Apple</td>\n",
       "      <td>2</td>\n",
       "    </tr>\n",
       "    <tr>\n",
       "      <th>2</th>\n",
       "      <td>@swonderlin Can not wait for #iPad 2 also. They should sale them down at #SXSW.</td>\n",
       "      <td>Apple</td>\n",
       "      <td>2</td>\n",
       "    </tr>\n",
       "    <tr>\n",
       "      <th>3</th>\n",
       "      <td>@sxsw I hope this year's festival isn't as crashy as this year's iPhone app. #sxsw</td>\n",
       "      <td>Apple</td>\n",
       "      <td>0</td>\n",
       "    </tr>\n",
       "    <tr>\n",
       "      <th>8</th>\n",
       "      <td>Beautifully smart and simple idea RT @madebymany @thenextweb wrote about our #hollergram iPad app for #sxsw! http://bit.ly/ieaVOB</td>\n",
       "      <td>Apple</td>\n",
       "      <td>2</td>\n",
       "    </tr>\n",
       "    <tr>\n",
       "      <th>...</th>\n",
       "      <td>...</td>\n",
       "      <td>...</td>\n",
       "      <td>...</td>\n",
       "    </tr>\n",
       "    <tr>\n",
       "      <th>9072</th>\n",
       "      <td>@mention your iPhone 4 cases are Rad and Ready! Stop by tomorrow to get them! #Sxsw #zazzlesxsw #sxswi {link}</td>\n",
       "      <td>Apple</td>\n",
       "      <td>2</td>\n",
       "    </tr>\n",
       "    <tr>\n",
       "      <th>9077</th>\n",
       "      <td>@mention your PR guy just convinced me to switch back to iPhone. Great #sxsw coverage. #princess</td>\n",
       "      <td>Apple</td>\n",
       "      <td>2</td>\n",
       "    </tr>\n",
       "    <tr>\n",
       "      <th>9079</th>\n",
       "      <td>&amp;quot;papyrus...sort of like the ipad&amp;quot; - nice! Lol! #SXSW Lavelle</td>\n",
       "      <td>Apple</td>\n",
       "      <td>2</td>\n",
       "    </tr>\n",
       "    <tr>\n",
       "      <th>9085</th>\n",
       "      <td>I've always used Camera+ for my iPhone b/c it has an image stabilizer mode. Suggestions for an iPad cam app w/ same feature? #SXSW #SXSWi</td>\n",
       "      <td>Apple</td>\n",
       "      <td>2</td>\n",
       "    </tr>\n",
       "    <tr>\n",
       "      <th>9088</th>\n",
       "      <td>Ipad everywhere. #SXSW {link}</td>\n",
       "      <td>Apple</td>\n",
       "      <td>2</td>\n",
       "    </tr>\n",
       "  </tbody>\n",
       "</table>\n",
       "<p>2397 rows × 3 columns</p>\n",
       "</div>"
      ],
      "text/plain": [
       "                                                                                                                                       tweet_text  \\\n",
       "0                 .@wesley83 I have a 3G iPhone. After 3 hrs tweeting at #RISE_Austin, it was dead!  I need to upgrade. Plugin stations at #SXSW.   \n",
       "1     @jessedee Know about @fludapp ? Awesome iPad/iPhone app that you'll likely appreciate for its design. Also, they're giving free Ts at #SXSW   \n",
       "2                                                                 @swonderlin Can not wait for #iPad 2 also. They should sale them down at #SXSW.   \n",
       "3                                                              @sxsw I hope this year's festival isn't as crashy as this year's iPhone app. #sxsw   \n",
       "8               Beautifully smart and simple idea RT @madebymany @thenextweb wrote about our #hollergram iPad app for #sxsw! http://bit.ly/ieaVOB   \n",
       "...                                                                                                                                           ...   \n",
       "9072                                @mention your iPhone 4 cases are Rad and Ready! Stop by tomorrow to get them! #Sxsw #zazzlesxsw #sxswi {link}   \n",
       "9077                                             @mention your PR guy just convinced me to switch back to iPhone. Great #sxsw coverage. #princess   \n",
       "9079                                                                       &quot;papyrus...sort of like the ipad&quot; - nice! Lol! #SXSW Lavelle   \n",
       "9085    I've always used Camera+ for my iPhone b/c it has an image stabilizer mode. Suggestions for an iPad cam app w/ same feature? #SXSW #SXSWi   \n",
       "9088                                                                                                                Ipad everywhere. #SXSW {link}   \n",
       "\n",
       "     product  catogory  \n",
       "0      Apple         0  \n",
       "1      Apple         2  \n",
       "2      Apple         2  \n",
       "3      Apple         0  \n",
       "8      Apple         2  \n",
       "...      ...       ...  \n",
       "9072   Apple         2  \n",
       "9077   Apple         2  \n",
       "9079   Apple         2  \n",
       "9085   Apple         2  \n",
       "9088   Apple         2  \n",
       "\n",
       "[2397 rows x 3 columns]"
      ]
     },
     "execution_count": 25,
     "metadata": {},
     "output_type": "execute_result"
    }
   ],
   "source": [
    "# create a new dataframe for Apple products only.\n",
    "Apple_tweets =tweets [tweets[\"product\"]==\"Apple\"]\n",
    "Apple_tweets"
   ]
  },
  {
   "cell_type": "markdown",
   "metadata": {},
   "source": [
    "Let's take a look on our target"
   ]
  },
  {
   "cell_type": "code",
   "execution_count": 26,
   "metadata": {
    "scrolled": true
   },
   "outputs": [
    {
     "data": {
      "text/plain": [
       "array([0, 2, 1])"
      ]
     },
     "execution_count": 26,
     "metadata": {},
     "output_type": "execute_result"
    }
   ],
   "source": [
    "# Return unique values from product column.\n",
    "Apple_tweets[\"catogory\"].unique()"
   ]
  },
  {
   "cell_type": "code",
   "execution_count": 27,
   "metadata": {
    "scrolled": false
   },
   "outputs": [
    {
     "data": {
      "text/plain": [
       "2    1945\n",
       "0     387\n",
       "1      65\n",
       "Name: catogory, dtype: int64"
      ]
     },
     "execution_count": 27,
     "metadata": {},
     "output_type": "execute_result"
    }
   ],
   "source": [
    "# find the count of unique values in the column.\n",
    "Apple_tweets[\"catogory\"].value_counts()"
   ]
  },
  {
   "cell_type": "code",
   "execution_count": 28,
   "metadata": {},
   "outputs": [
    {
     "data": {
      "image/png": "[encoded data removed]",
      "text/plain": [
       "<Figure size 432x288 with 1 Axes>"
      ]
     },
     "metadata": {
      "needs_background": "light"
     },
     "output_type": "display_data"
    }
   ],
   "source": [
    "# visualize the target values\n",
    "Apple_tweets[\"catogory\"].value_counts().plot(kind='bar')\n",
    "plt.title('Emotion on products')\n",
    "plt.xlabel('Emotion')\n",
    "plt.ylabel('Number of tweets')\n",
    "plt.show()"
   ]
  },
  {
   "cell_type": "markdown",
   "metadata": {},
   "source": [
    "Class 2 :refers to Posative.\n",
    "Class 1 :refers to nutral.\n",
    "Class 0 :refers to Negative."
   ]
  },
  {
   "cell_type": "markdown",
   "metadata": {},
   "source": [
    "## Data Cleaning and Exploratory Data Analysis with nltk\n",
    "\n",
    "Natural Language Processing (NLP) is a process of manipulating or understanding the text or speech by any software or machine. An analogy is that humans interact and understand each other’s views and respond with the appropriate answer. In NLP, this interaction, understanding, and response are made by a computer instead of a human.\n",
    "\n",
    "NLTK (Natural Language Toolkit) Library is a suite that contains libraries and programs for statistical language processing. It is one of the most powerful NLP libraries, which contains packages to make machines understand human language and reply to it with an appropriate response.(https://www.nltk.org/)"
   ]
  },
  {
   "cell_type": "markdown",
   "metadata": {},
   "source": [
    "## Steps to clean the data :"
   ]
  },
  {
   "cell_type": "markdown",
   "metadata": {},
   "source": [
    "### 1- Standardizing Case:\n",
    "    \n",
    "In an NLP modeling process, we need to remove capitalize letters,by using .str.lower() method."
   ]
  },
  {
   "cell_type": "code",
   "execution_count": 29,
   "metadata": {
    "scrolled": true
   },
   "outputs": [
    {
     "data": {
      "text/html": [
       "<div>\n",
       "<style scoped>\n",
       "    .dataframe tbody tr th:only-of-type {\n",
       "        vertical-align: middle;\n",
       "    }\n",
       "\n",
       "    .dataframe tbody tr th {\n",
       "        vertical-align: top;\n",
       "    }\n",
       "\n",
       "    .dataframe thead th {\n",
       "        text-align: right;\n",
       "    }\n",
       "</style>\n",
       "<table border=\"1\" class=\"dataframe\">\n",
       "  <thead>\n",
       "    <tr style=\"text-align: right;\">\n",
       "      <th></th>\n",
       "      <th>tweet_text</th>\n",
       "      <th>product</th>\n",
       "      <th>catogory</th>\n",
       "    </tr>\n",
       "  </thead>\n",
       "  <tbody>\n",
       "    <tr>\n",
       "      <th>0</th>\n",
       "      <td>.@wesley83 i have a 3g iphone. after 3 hrs tweeting at #rise_austin, it was dead!  i need to upgrade. plugin stations at #sxsw.</td>\n",
       "      <td>Apple</td>\n",
       "      <td>0</td>\n",
       "    </tr>\n",
       "    <tr>\n",
       "      <th>1</th>\n",
       "      <td>@jessedee know about @fludapp ? awesome ipad/iphone app that you'll likely appreciate for its design. also, they're giving free ts at #sxsw</td>\n",
       "      <td>Apple</td>\n",
       "      <td>2</td>\n",
       "    </tr>\n",
       "    <tr>\n",
       "      <th>2</th>\n",
       "      <td>@swonderlin can not wait for #ipad 2 also. they should sale them down at #sxsw.</td>\n",
       "      <td>Apple</td>\n",
       "      <td>2</td>\n",
       "    </tr>\n",
       "    <tr>\n",
       "      <th>3</th>\n",
       "      <td>@sxsw i hope this year's festival isn't as crashy as this year's iphone app. #sxsw</td>\n",
       "      <td>Apple</td>\n",
       "      <td>0</td>\n",
       "    </tr>\n",
       "    <tr>\n",
       "      <th>8</th>\n",
       "      <td>beautifully smart and simple idea rt @madebymany @thenextweb wrote about our #hollergram ipad app for #sxsw! http://bit.ly/ieavob</td>\n",
       "      <td>Apple</td>\n",
       "      <td>2</td>\n",
       "    </tr>\n",
       "  </tbody>\n",
       "</table>\n",
       "</div>"
      ],
      "text/plain": [
       "                                                                                                                                    tweet_text  \\\n",
       "0              .@wesley83 i have a 3g iphone. after 3 hrs tweeting at #rise_austin, it was dead!  i need to upgrade. plugin stations at #sxsw.   \n",
       "1  @jessedee know about @fludapp ? awesome ipad/iphone app that you'll likely appreciate for its design. also, they're giving free ts at #sxsw   \n",
       "2                                                              @swonderlin can not wait for #ipad 2 also. they should sale them down at #sxsw.   \n",
       "3                                                           @sxsw i hope this year's festival isn't as crashy as this year's iphone app. #sxsw   \n",
       "8            beautifully smart and simple idea rt @madebymany @thenextweb wrote about our #hollergram ipad app for #sxsw! http://bit.ly/ieavob   \n",
       "\n",
       "  product  catogory  \n",
       "0   Apple         0  \n",
       "1   Apple         2  \n",
       "2   Apple         2  \n",
       "3   Apple         0  \n",
       "8   Apple         2  "
      ]
     },
     "execution_count": 29,
     "metadata": {},
     "output_type": "execute_result"
    }
   ],
   "source": [
    "# Transform text in Apple_tweets to lowercase\n",
    "# Display the top five rows of the Apple_tweets\n",
    "Apple_tweets[\"tweet_text\"]=Apple_tweets['tweet_text'].str.lower()\n",
    "Apple_tweets.head()"
   ]
  },
  {
   "cell_type": "markdown",
   "metadata": {},
   "source": [
    "We notice thet the texts are written in lower case."
   ]
  },
  {
   "cell_type": "markdown",
   "metadata": {},
   "source": [
    "We will use Regular Expressions to quickly match patterns and filter through text documents. Regular Expressions is a set of characters or a pattern that is used to find substrings in a given string.cheat sheets help us to generate these patterns by using re library.\n"
   ]
  },
  {
   "cell_type": "markdown",
   "metadata": {},
   "source": [
    "### Remove URL links :\n",
    "Create a function to remove the URL links from our tweets."
   ]
  },
  {
   "cell_type": "code",
   "execution_count": 30,
   "metadata": {},
   "outputs": [],
   "source": [
    "# Create a function to remove  url from the text\n",
    "import re\n",
    "def remove_url(text):\n",
    "    \"\"\"Given a text, return a text where the url have been removed\"\"\"\n",
    "    p = re.sub('http[^\\s]+','',str(text))\n",
    "    return p"
   ]
  },
  {
   "cell_type": "markdown",
   "metadata": {},
   "source": [
    "We will apply the function to the full data frame by using .apply() method."
   ]
  },
  {
   "cell_type": "code",
   "execution_count": 31,
   "metadata": {
    "scrolled": true
   },
   "outputs": [],
   "source": [
    "# Apply the function on the data frame\n",
    "Apple_tweets[\"tweet_text\"] = Apple_tweets[\"tweet_text\"].apply(remove_url)"
   ]
  },
  {
   "cell_type": "markdown",
   "metadata": {},
   "source": [
    "Create a function to remove the web signs like www and .com from our tweets."
   ]
  },
  {
   "cell_type": "code",
   "execution_count": 32,
   "metadata": {},
   "outputs": [],
   "source": [
    "# Create a function to remove  web from the text\n",
    "\n",
    "def remove_web(text):\n",
    "    \"\"\"Given a text, return a text where the web's signs have been\n",
    "    removed\"\"\"\n",
    "    p = re.sub(\"www\\.[a-z]?\\.?(com)+|[a-z]+\\.(com)\",'',str(text))\n",
    "    return p"
   ]
  },
  {
   "cell_type": "code",
   "execution_count": 33,
   "metadata": {
    "scrolled": false
   },
   "outputs": [],
   "source": [
    "# Apply the function on the data frame\n",
    "Apple_tweets[\"tweet_text\"] = Apple_tweets[\"tweet_text\"].apply(remove_web)"
   ]
  },
  {
   "cell_type": "markdown",
   "metadata": {},
   "source": [
    "Create a function to remove the html signs like from our tweets."
   ]
  },
  {
   "cell_type": "code",
   "execution_count": 34,
   "metadata": {},
   "outputs": [],
   "source": [
    "# Create a function to remove html from the text\n",
    "\n",
    "def remove_html(text):\n",
    "    \"\"\"Given a text, return a text where the html have been\n",
    "    removed\"\"\"\n",
    "    p = re.sub(r'&[a-z]+;','',str(text))\n",
    "    return p"
   ]
  },
  {
   "cell_type": "code",
   "execution_count": 35,
   "metadata": {
    "scrolled": false
   },
   "outputs": [],
   "source": [
    "# Apply the function on the data frame\n",
    "Apple_tweets[\"tweet_text\"] = Apple_tweets[\"tweet_text\"].apply(remove_html)"
   ]
  },
  {
   "cell_type": "markdown",
   "metadata": {},
   "source": [
    "Lets take a sample of the text after these steps of cleaning."
   ]
  },
  {
   "cell_type": "code",
   "execution_count": 36,
   "metadata": {
    "scrolled": true
   },
   "outputs": [
    {
     "data": {
      "text/plain": [
       "'best ipad design: big chunky elements. generous space. clarity trumps density. tap quality trumps tap quantity. #tapworthy #sxsw'"
      ]
     },
     "execution_count": 36,
     "metadata": {},
     "output_type": "execute_result"
    }
   ],
   "source": [
    "# Sample of tweets\n",
    "Apple_tweets.iloc[150][\"tweet_text\"]"
   ]
  },
  {
   "cell_type": "markdown",
   "metadata": {},
   "source": [
    "## 2-Tokenizing\n",
    "Tokenization: is the process of splitting a text into a list of tokens. We will use RegexpTokenizer which splits a string into substrings."
   ]
  },
  {
   "cell_type": "code",
   "execution_count": 37,
   "metadata": {},
   "outputs": [],
   "source": [
    "# Import the Tokenizer\n",
    "from nltk.tokenize import RegexpTokenizer\n",
    "# Create a pattern \n",
    "pattern =  r\"(?u)\\b\\w\\w+\\b\"\n",
    "# Instantiate the model\n",
    "tokenizer = RegexpTokenizer(pattern)\n",
    "token=tokenizer.tokenize(\"text\")"
   ]
  },
  {
   "cell_type": "markdown",
   "metadata": {},
   "source": [
    "Lets explain the patren\n",
    "\n",
    "(?u): use full unicode string matching\n",
    "\n",
    "\\b: find a word boundary (a word boundary has length 0, and represents the location between non-word characters and word characters)\n",
    "\n",
    "\\w\\w+: find 2 or more word characters (all letters, numbers, and underscores are word characters)\n",
    "\n",
    "\\b: find another word boundary\n",
    "\n"
   ]
  },
  {
   "cell_type": "markdown",
   "metadata": {},
   "source": [
    "### Tokenizing the Full Dataset\n",
    "Tokenizing the Full Dataset by using .apply and pass in tokenizer.tokenize."
   ]
  },
  {
   "cell_type": "code",
   "execution_count": 38,
   "metadata": {
    "scrolled": true
   },
   "outputs": [
    {
     "data": {
      "text/html": [
       "<div>\n",
       "<style scoped>\n",
       "    .dataframe tbody tr th:only-of-type {\n",
       "        vertical-align: middle;\n",
       "    }\n",
       "\n",
       "    .dataframe tbody tr th {\n",
       "        vertical-align: top;\n",
       "    }\n",
       "\n",
       "    .dataframe thead th {\n",
       "        text-align: right;\n",
       "    }\n",
       "</style>\n",
       "<table border=\"1\" class=\"dataframe\">\n",
       "  <thead>\n",
       "    <tr style=\"text-align: right;\">\n",
       "      <th></th>\n",
       "      <th>tweet_text</th>\n",
       "      <th>product</th>\n",
       "      <th>catogory</th>\n",
       "      <th>text_tokenized</th>\n",
       "    </tr>\n",
       "  </thead>\n",
       "  <tbody>\n",
       "    <tr>\n",
       "      <th>0</th>\n",
       "      <td>.@wesley83 i have a 3g iphone. after 3 hrs tweeting at #rise_austin, it was dead!  i need to upgrade. plugin stations at #sxsw.</td>\n",
       "      <td>Apple</td>\n",
       "      <td>0</td>\n",
       "      <td>[wesley83, have, 3g, iphone, after, hrs, tweeting, at, rise_austin, it, was, dead, need, to, upgrade, plugin, stations, at, sxsw]</td>\n",
       "    </tr>\n",
       "    <tr>\n",
       "      <th>1</th>\n",
       "      <td>@jessedee know about @fludapp ? awesome ipad/iphone app that you'll likely appreciate for its design. also, they're giving free ts at #sxsw</td>\n",
       "      <td>Apple</td>\n",
       "      <td>2</td>\n",
       "      <td>[jessedee, know, about, fludapp, awesome, ipad, iphone, app, that, you, ll, likely, appreciate, for, its, design, also, they, re, giving, free, ts, at, sxsw]</td>\n",
       "    </tr>\n",
       "    <tr>\n",
       "      <th>2</th>\n",
       "      <td>@swonderlin can not wait for #ipad 2 also. they should sale them down at #sxsw.</td>\n",
       "      <td>Apple</td>\n",
       "      <td>2</td>\n",
       "      <td>[swonderlin, can, not, wait, for, ipad, also, they, should, sale, them, down, at, sxsw]</td>\n",
       "    </tr>\n",
       "    <tr>\n",
       "      <th>3</th>\n",
       "      <td>@sxsw i hope this year's festival isn't as crashy as this year's iphone app. #sxsw</td>\n",
       "      <td>Apple</td>\n",
       "      <td>0</td>\n",
       "      <td>[sxsw, hope, this, year, festival, isn, as, crashy, as, this, year, iphone, app, sxsw]</td>\n",
       "    </tr>\n",
       "    <tr>\n",
       "      <th>8</th>\n",
       "      <td>beautifully smart and simple idea rt @madebymany @thenextweb wrote about our #hollergram ipad app for #sxsw!</td>\n",
       "      <td>Apple</td>\n",
       "      <td>2</td>\n",
       "      <td>[beautifully, smart, and, simple, idea, rt, madebymany, thenextweb, wrote, about, our, hollergram, ipad, app, for, sxsw]</td>\n",
       "    </tr>\n",
       "    <tr>\n",
       "      <th>...</th>\n",
       "      <td>...</td>\n",
       "      <td>...</td>\n",
       "      <td>...</td>\n",
       "      <td>...</td>\n",
       "    </tr>\n",
       "    <tr>\n",
       "      <th>9072</th>\n",
       "      <td>@mention your iphone 4 cases are rad and ready! stop by tomorrow to get them! #sxsw #zazzlesxsw #sxswi {link}</td>\n",
       "      <td>Apple</td>\n",
       "      <td>2</td>\n",
       "      <td>[mention, your, iphone, cases, are, rad, and, ready, stop, by, tomorrow, to, get, them, sxsw, zazzlesxsw, sxswi, link]</td>\n",
       "    </tr>\n",
       "    <tr>\n",
       "      <th>9077</th>\n",
       "      <td>@mention your pr guy just convinced me to switch back to iphone. great #sxsw coverage. #princess</td>\n",
       "      <td>Apple</td>\n",
       "      <td>2</td>\n",
       "      <td>[mention, your, pr, guy, just, convinced, me, to, switch, back, to, iphone, great, sxsw, coverage, princess]</td>\n",
       "    </tr>\n",
       "    <tr>\n",
       "      <th>9079</th>\n",
       "      <td>papyrus...sort of like the ipad - nice! lol! #sxsw lavelle</td>\n",
       "      <td>Apple</td>\n",
       "      <td>2</td>\n",
       "      <td>[papyrus, sort, of, like, the, ipad, nice, lol, sxsw, lavelle]</td>\n",
       "    </tr>\n",
       "    <tr>\n",
       "      <th>9085</th>\n",
       "      <td>i've always used camera+ for my iphone b/c it has an image stabilizer mode. suggestions for an ipad cam app w/ same feature? #sxsw #sxswi</td>\n",
       "      <td>Apple</td>\n",
       "      <td>2</td>\n",
       "      <td>[ve, always, used, camera, for, my, iphone, it, has, an, image, stabilizer, mode, suggestions, for, an, ipad, cam, app, same, feature, sxsw, sxswi]</td>\n",
       "    </tr>\n",
       "    <tr>\n",
       "      <th>9088</th>\n",
       "      <td>ipad everywhere. #sxsw {link}</td>\n",
       "      <td>Apple</td>\n",
       "      <td>2</td>\n",
       "      <td>[ipad, everywhere, sxsw, link]</td>\n",
       "    </tr>\n",
       "  </tbody>\n",
       "</table>\n",
       "<p>2397 rows × 4 columns</p>\n",
       "</div>"
      ],
      "text/plain": [
       "                                                                                                                                       tweet_text  \\\n",
       "0                 .@wesley83 i have a 3g iphone. after 3 hrs tweeting at #rise_austin, it was dead!  i need to upgrade. plugin stations at #sxsw.   \n",
       "1     @jessedee know about @fludapp ? awesome ipad/iphone app that you'll likely appreciate for its design. also, they're giving free ts at #sxsw   \n",
       "2                                                                 @swonderlin can not wait for #ipad 2 also. they should sale them down at #sxsw.   \n",
       "3                                                              @sxsw i hope this year's festival isn't as crashy as this year's iphone app. #sxsw   \n",
       "8                                   beautifully smart and simple idea rt @madebymany @thenextweb wrote about our #hollergram ipad app for #sxsw!    \n",
       "...                                                                                                                                           ...   \n",
       "9072                                @mention your iphone 4 cases are rad and ready! stop by tomorrow to get them! #sxsw #zazzlesxsw #sxswi {link}   \n",
       "9077                                             @mention your pr guy just convinced me to switch back to iphone. great #sxsw coverage. #princess   \n",
       "9079                                                                                   papyrus...sort of like the ipad - nice! lol! #sxsw lavelle   \n",
       "9085    i've always used camera+ for my iphone b/c it has an image stabilizer mode. suggestions for an ipad cam app w/ same feature? #sxsw #sxswi   \n",
       "9088                                                                                                                ipad everywhere. #sxsw {link}   \n",
       "\n",
       "     product  catogory  \\\n",
       "0      Apple         0   \n",
       "1      Apple         2   \n",
       "2      Apple         2   \n",
       "3      Apple         0   \n",
       "8      Apple         2   \n",
       "...      ...       ...   \n",
       "9072   Apple         2   \n",
       "9077   Apple         2   \n",
       "9079   Apple         2   \n",
       "9085   Apple         2   \n",
       "9088   Apple         2   \n",
       "\n",
       "                                                                                                                                                     text_tokenized  \n",
       "0                                 [wesley83, have, 3g, iphone, after, hrs, tweeting, at, rise_austin, it, was, dead, need, to, upgrade, plugin, stations, at, sxsw]  \n",
       "1     [jessedee, know, about, fludapp, awesome, ipad, iphone, app, that, you, ll, likely, appreciate, for, its, design, also, they, re, giving, free, ts, at, sxsw]  \n",
       "2                                                                           [swonderlin, can, not, wait, for, ipad, also, they, should, sale, them, down, at, sxsw]  \n",
       "3                                                                            [sxsw, hope, this, year, festival, isn, as, crashy, as, this, year, iphone, app, sxsw]  \n",
       "8                                          [beautifully, smart, and, simple, idea, rt, madebymany, thenextweb, wrote, about, our, hollergram, ipad, app, for, sxsw]  \n",
       "...                                                                                                                                                             ...  \n",
       "9072                                         [mention, your, iphone, cases, are, rad, and, ready, stop, by, tomorrow, to, get, them, sxsw, zazzlesxsw, sxswi, link]  \n",
       "9077                                                   [mention, your, pr, guy, just, convinced, me, to, switch, back, to, iphone, great, sxsw, coverage, princess]  \n",
       "9079                                                                                                 [papyrus, sort, of, like, the, ipad, nice, lol, sxsw, lavelle]  \n",
       "9085            [ve, always, used, camera, for, my, iphone, it, has, an, image, stabilizer, mode, suggestions, for, an, ipad, cam, app, same, feature, sxsw, sxswi]  \n",
       "9088                                                                                                                                 [ipad, everywhere, sxsw, link]  \n",
       "\n",
       "[2397 rows x 4 columns]"
      ]
     },
     "execution_count": 38,
     "metadata": {},
     "output_type": "execute_result"
    }
   ],
   "source": [
    "# Create a new column for tokinized words\n",
    "Apple_tweets[\"text_tokenized\"]=[(tokenizer.tokenize(str(text)))for text in Apple_tweets[\"tweet_text\"]]\n",
    "\n",
    "Apple_tweets"
   ]
  },
  {
   "cell_type": "markdown",
   "metadata": {},
   "source": [
    "We can notice that the text is breaking into individual words."
   ]
  },
  {
   "cell_type": "markdown",
   "metadata": {},
   "source": [
    "### Featured Engineering\n",
    "\n",
    "Feature Engineering means converting text data to numerical data. but why it is required to convert text data to numerical data?. because our machine learning model doesn’t understand text data then we have to do feature engineering. This step is also called Feature extraction from text.\n",
    "we use multiple techniques to convert text to numerical vectors.\n",
    "\n",
    "frequency distribution\n",
    "Tf-Idf\n"
   ]
  },
  {
   "cell_type": "markdown",
   "metadata": {},
   "source": [
    "### Exploratory Data Analysis: Frequency Distributions\n",
    "\n",
    "A frequency distribution records the number of times each outcome of an word has occured."
   ]
  },
  {
   "cell_type": "code",
   "execution_count": 39,
   "metadata": {
    "scrolled": false
   },
   "outputs": [
    {
     "data": {
      "text/plain": [
       "FreqDist({'sxsw': 2551, 'mention': 1670, 'the': 1403, 'ipad': 1150, 'apple': 999, 'to': 973, 'link': 918, 'at': 792, 'for': 791, 'rt': 697, ...})"
      ]
     },
     "execution_count": 39,
     "metadata": {},
     "output_type": "execute_result"
    }
   ],
   "source": [
    "# Import FreqDist\n",
    "from  nltk import FreqDist\n",
    "#calculate FreqDist for each word.\n",
    "Apple_tweets_freqdist = FreqDist(Apple_tweets[\"text_tokenized\"].explode())\n",
    "Apple_tweets_freqdist"
   ]
  },
  {
   "cell_type": "markdown",
   "metadata": {},
   "source": [
    "We got a dictionary, the keys represented words, and the values are the number of times that the word appears in the text.\n"
   ]
  },
  {
   "cell_type": "markdown",
   "metadata": {},
   "source": [
    "### Frequency Distributions Visualization\n",
    "We will create a function to visualize the most frequent words in the text."
   ]
  },
  {
   "cell_type": "code",
   "execution_count": 40,
   "metadata": {
    "scrolled": true
   },
   "outputs": [
    {
     "data": {
      "image/png": "[encoded data removed]",
      "text/plain": [
       "<Figure size 432x288 with 1 Axes>"
      ]
     },
     "metadata": {
      "needs_background": "light"
     },
     "output_type": "display_data"
    }
   ],
   "source": [
    "import matplotlib.pyplot as plt\n",
    "from matplotlib.ticker import MaxNLocator\n",
    "\n",
    "def visualize_top_25(freq_dist, title):\n",
    "\n",
    "    # Extract data for plotting\n",
    "    top_25 = list(zip(*freq_dist.most_common(25)))\n",
    "    words = top_25[0]\n",
    "    counts = top_25[1]\n",
    "\n",
    "    # Set up plot and plot data\n",
    "    fig, ax = plt.subplots()\n",
    "    ax.bar(words, counts)\n",
    "\n",
    "    # Customize plot appearance\n",
    "    ax.set_title(title)\n",
    "    ax.set_ylabel(\"Count\")\n",
    "    ax.yaxis.set_major_locator(MaxNLocator(integer=True))\n",
    "    ax.tick_params(axis=\"x\", rotation=90)\n",
    "    \n",
    "visualize_top_25(Apple_tweets_freqdist, \"Top 25 Word Frequency for Apple tweets dataframe\")"
   ]
  },
  {
   "cell_type": "markdown",
   "metadata": {},
   "source": [
    "These are the most frequented words on the Apple tweets data frame.\n"
   ]
  },
  {
   "cell_type": "markdown",
   "metadata": {},
   "source": [
    "### EXPLORE\n",
    "\n",
    "Based on our business problem, it is important to isolate and analyze positive, negative, and nutral tweets as a whole as well as on a company and product basis.\n",
    "We will create posative,negative,and nutral subsets."
   ]
  },
  {
   "cell_type": "code",
   "execution_count": 41,
   "metadata": {
    "scrolled": true
   },
   "outputs": [
    {
     "data": {
      "text/html": [
       "<div>\n",
       "<style scoped>\n",
       "    .dataframe tbody tr th:only-of-type {\n",
       "        vertical-align: middle;\n",
       "    }\n",
       "\n",
       "    .dataframe tbody tr th {\n",
       "        vertical-align: top;\n",
       "    }\n",
       "\n",
       "    .dataframe thead th {\n",
       "        text-align: right;\n",
       "    }\n",
       "</style>\n",
       "<table border=\"1\" class=\"dataframe\">\n",
       "  <thead>\n",
       "    <tr style=\"text-align: right;\">\n",
       "      <th></th>\n",
       "      <th>tweet_text</th>\n",
       "      <th>product</th>\n",
       "      <th>catogory</th>\n",
       "      <th>text_tokenized</th>\n",
       "    </tr>\n",
       "  </thead>\n",
       "  <tbody>\n",
       "    <tr>\n",
       "      <th>1</th>\n",
       "      <td>@jessedee know about @fludapp ? awesome ipad/iphone app that you'll likely appreciate for its design. also, they're giving free ts at #sxsw</td>\n",
       "      <td>Apple</td>\n",
       "      <td>2</td>\n",
       "      <td>[jessedee, know, about, fludapp, awesome, ipad, iphone, app, that, you, ll, likely, appreciate, for, its, design, also, they, re, giving, free, ts, at, sxsw]</td>\n",
       "    </tr>\n",
       "    <tr>\n",
       "      <th>2</th>\n",
       "      <td>@swonderlin can not wait for #ipad 2 also. they should sale them down at #sxsw.</td>\n",
       "      <td>Apple</td>\n",
       "      <td>2</td>\n",
       "      <td>[swonderlin, can, not, wait, for, ipad, also, they, should, sale, them, down, at, sxsw]</td>\n",
       "    </tr>\n",
       "    <tr>\n",
       "      <th>8</th>\n",
       "      <td>beautifully smart and simple idea rt @madebymany @thenextweb wrote about our #hollergram ipad app for #sxsw!</td>\n",
       "      <td>Apple</td>\n",
       "      <td>2</td>\n",
       "      <td>[beautifully, smart, and, simple, idea, rt, madebymany, thenextweb, wrote, about, our, hollergram, ipad, app, for, sxsw]</td>\n",
       "    </tr>\n",
       "    <tr>\n",
       "      <th>9</th>\n",
       "      <td>counting down the days to #sxsw plus strong canadian dollar means stock up on apple gear</td>\n",
       "      <td>Apple</td>\n",
       "      <td>2</td>\n",
       "      <td>[counting, down, the, days, to, sxsw, plus, strong, canadian, dollar, means, stock, up, on, apple, gear]</td>\n",
       "    </tr>\n",
       "    <tr>\n",
       "      <th>14</th>\n",
       "      <td>great #sxsw ipad app from @madebymany:</td>\n",
       "      <td>Apple</td>\n",
       "      <td>2</td>\n",
       "      <td>[great, sxsw, ipad, app, from, madebymany]</td>\n",
       "    </tr>\n",
       "    <tr>\n",
       "      <th>...</th>\n",
       "      <td>...</td>\n",
       "      <td>...</td>\n",
       "      <td>...</td>\n",
       "      <td>...</td>\n",
       "    </tr>\n",
       "    <tr>\n",
       "      <th>9072</th>\n",
       "      <td>@mention your iphone 4 cases are rad and ready! stop by tomorrow to get them! #sxsw #zazzlesxsw #sxswi {link}</td>\n",
       "      <td>Apple</td>\n",
       "      <td>2</td>\n",
       "      <td>[mention, your, iphone, cases, are, rad, and, ready, stop, by, tomorrow, to, get, them, sxsw, zazzlesxsw, sxswi, link]</td>\n",
       "    </tr>\n",
       "    <tr>\n",
       "      <th>9077</th>\n",
       "      <td>@mention your pr guy just convinced me to switch back to iphone. great #sxsw coverage. #princess</td>\n",
       "      <td>Apple</td>\n",
       "      <td>2</td>\n",
       "      <td>[mention, your, pr, guy, just, convinced, me, to, switch, back, to, iphone, great, sxsw, coverage, princess]</td>\n",
       "    </tr>\n",
       "    <tr>\n",
       "      <th>9079</th>\n",
       "      <td>papyrus...sort of like the ipad - nice! lol! #sxsw lavelle</td>\n",
       "      <td>Apple</td>\n",
       "      <td>2</td>\n",
       "      <td>[papyrus, sort, of, like, the, ipad, nice, lol, sxsw, lavelle]</td>\n",
       "    </tr>\n",
       "    <tr>\n",
       "      <th>9085</th>\n",
       "      <td>i've always used camera+ for my iphone b/c it has an image stabilizer mode. suggestions for an ipad cam app w/ same feature? #sxsw #sxswi</td>\n",
       "      <td>Apple</td>\n",
       "      <td>2</td>\n",
       "      <td>[ve, always, used, camera, for, my, iphone, it, has, an, image, stabilizer, mode, suggestions, for, an, ipad, cam, app, same, feature, sxsw, sxswi]</td>\n",
       "    </tr>\n",
       "    <tr>\n",
       "      <th>9088</th>\n",
       "      <td>ipad everywhere. #sxsw {link}</td>\n",
       "      <td>Apple</td>\n",
       "      <td>2</td>\n",
       "      <td>[ipad, everywhere, sxsw, link]</td>\n",
       "    </tr>\n",
       "  </tbody>\n",
       "</table>\n",
       "<p>1945 rows × 4 columns</p>\n",
       "</div>"
      ],
      "text/plain": [
       "                                                                                                                                       tweet_text  \\\n",
       "1     @jessedee know about @fludapp ? awesome ipad/iphone app that you'll likely appreciate for its design. also, they're giving free ts at #sxsw   \n",
       "2                                                                 @swonderlin can not wait for #ipad 2 also. they should sale them down at #sxsw.   \n",
       "8                                   beautifully smart and simple idea rt @madebymany @thenextweb wrote about our #hollergram ipad app for #sxsw!    \n",
       "9                                                        counting down the days to #sxsw plus strong canadian dollar means stock up on apple gear   \n",
       "14                                                                                                        great #sxsw ipad app from @madebymany:    \n",
       "...                                                                                                                                           ...   \n",
       "9072                                @mention your iphone 4 cases are rad and ready! stop by tomorrow to get them! #sxsw #zazzlesxsw #sxswi {link}   \n",
       "9077                                             @mention your pr guy just convinced me to switch back to iphone. great #sxsw coverage. #princess   \n",
       "9079                                                                                   papyrus...sort of like the ipad - nice! lol! #sxsw lavelle   \n",
       "9085    i've always used camera+ for my iphone b/c it has an image stabilizer mode. suggestions for an ipad cam app w/ same feature? #sxsw #sxswi   \n",
       "9088                                                                                                                ipad everywhere. #sxsw {link}   \n",
       "\n",
       "     product  catogory  \\\n",
       "1      Apple         2   \n",
       "2      Apple         2   \n",
       "8      Apple         2   \n",
       "9      Apple         2   \n",
       "14     Apple         2   \n",
       "...      ...       ...   \n",
       "9072   Apple         2   \n",
       "9077   Apple         2   \n",
       "9079   Apple         2   \n",
       "9085   Apple         2   \n",
       "9088   Apple         2   \n",
       "\n",
       "                                                                                                                                                     text_tokenized  \n",
       "1     [jessedee, know, about, fludapp, awesome, ipad, iphone, app, that, you, ll, likely, appreciate, for, its, design, also, they, re, giving, free, ts, at, sxsw]  \n",
       "2                                                                           [swonderlin, can, not, wait, for, ipad, also, they, should, sale, them, down, at, sxsw]  \n",
       "8                                          [beautifully, smart, and, simple, idea, rt, madebymany, thenextweb, wrote, about, our, hollergram, ipad, app, for, sxsw]  \n",
       "9                                                          [counting, down, the, days, to, sxsw, plus, strong, canadian, dollar, means, stock, up, on, apple, gear]  \n",
       "14                                                                                                                       [great, sxsw, ipad, app, from, madebymany]  \n",
       "...                                                                                                                                                             ...  \n",
       "9072                                         [mention, your, iphone, cases, are, rad, and, ready, stop, by, tomorrow, to, get, them, sxsw, zazzlesxsw, sxswi, link]  \n",
       "9077                                                   [mention, your, pr, guy, just, convinced, me, to, switch, back, to, iphone, great, sxsw, coverage, princess]  \n",
       "9079                                                                                                 [papyrus, sort, of, like, the, ipad, nice, lol, sxsw, lavelle]  \n",
       "9085            [ve, always, used, camera, for, my, iphone, it, has, an, image, stabilizer, mode, suggestions, for, an, ipad, cam, app, same, feature, sxsw, sxswi]  \n",
       "9088                                                                                                                                 [ipad, everywhere, sxsw, link]  \n",
       "\n",
       "[1945 rows x 4 columns]"
      ]
     },
     "execution_count": 41,
     "metadata": {},
     "output_type": "execute_result"
    }
   ],
   "source": [
    "#positive tweets data frame\n",
    "Apple_tweets_posative=Apple_tweets[Apple_tweets[\"catogory\"]==2]\n",
    "Apple_tweets_posative"
   ]
  },
  {
   "cell_type": "markdown",
   "metadata": {},
   "source": [
    "A frequency distribution produces a dictionary-like output of those words and their frequencies."
   ]
  },
  {
   "cell_type": "code",
   "execution_count": 42,
   "metadata": {},
   "outputs": [
    {
     "data": {
      "text/plain": [
       "FreqDist({'sxsw': 2078, 'mention': 1438, 'the': 1132, 'ipad': 937, 'apple': 854, 'link': 837, 'to': 771, 'for': 690, 'at': 671, 'rt': 602, ...})"
      ]
     },
     "execution_count": 42,
     "metadata": {},
     "output_type": "execute_result"
    }
   ],
   "source": [
    "# create a posative_freqdist\n",
    "Apple_tweets_posative_freqdist =FreqDist(Apple_tweets_posative[\"text_tokenized\"].explode())\n",
    "Apple_tweets_posative_freqdist"
   ]
  },
  {
   "cell_type": "code",
   "execution_count": 43,
   "metadata": {
    "scrolled": false
   },
   "outputs": [
    {
     "data": {
      "image/png": "[encoded data removed]",
      "text/plain": [
       "<Figure size 432x288 with 1 Axes>"
      ]
     },
     "metadata": {
      "needs_background": "light"
     },
     "output_type": "display_data"
    }
   ],
   "source": [
    "# plot posative_freqdist\n",
    "visualize_top_25(Apple_tweets_posative_freqdist, \"Top 25 Word Frequency for posative subset\")"
   ]
  },
  {
   "cell_type": "markdown",
   "metadata": {},
   "source": [
    "We will create WordCloud. WordCloud which represents the frequency or the importance word appears in different sizes."
   ]
  },
  {
   "cell_type": "code",
   "execution_count": 44,
   "metadata": {},
   "outputs": [],
   "source": [
    "# import libraries\n",
    "import matplotlib.pyplot as plt\n",
    "from wordcloud import WordCloud"
   ]
  },
  {
   "cell_type": "code",
   "execution_count": 45,
   "metadata": {
    "scrolled": true
   },
   "outputs": [
    {
     "data": {
      "text/plain": [
       "<matplotlib.image.AxesImage at 0x2045fd58ee0>"
      ]
     },
     "execution_count": 45,
     "metadata": {},
     "output_type": "execute_result"
    },
    {
     "data": {
      "image/png": "[encoded data removed]",
      "text/plain": [
       "<Figure size 432x288 with 1 Axes>"
      ]
     },
     "metadata": {
      "needs_background": "light"
     },
     "output_type": "display_data"
    }
   ],
   "source": [
    "# Create wordcloud for posative subset\n",
    "wordcloud = WordCloud(max_font_size=50, max_words=100).generate_from_frequencies(Apple_tweets_posative_freqdist)\n",
    "plt.imshow(wordcloud,interpolation=\"bilinear\")"
   ]
  },
  {
   "cell_type": "code",
   "execution_count": 46,
   "metadata": {
    "scrolled": true
   },
   "outputs": [
    {
     "data": {
      "text/html": [
       "<div>\n",
       "<style scoped>\n",
       "    .dataframe tbody tr th:only-of-type {\n",
       "        vertical-align: middle;\n",
       "    }\n",
       "\n",
       "    .dataframe tbody tr th {\n",
       "        vertical-align: top;\n",
       "    }\n",
       "\n",
       "    .dataframe thead th {\n",
       "        text-align: right;\n",
       "    }\n",
       "</style>\n",
       "<table border=\"1\" class=\"dataframe\">\n",
       "  <thead>\n",
       "    <tr style=\"text-align: right;\">\n",
       "      <th></th>\n",
       "      <th>tweet_text</th>\n",
       "      <th>product</th>\n",
       "      <th>catogory</th>\n",
       "      <th>text_tokenized</th>\n",
       "    </tr>\n",
       "  </thead>\n",
       "  <tbody>\n",
       "    <tr>\n",
       "      <th>0</th>\n",
       "      <td>.@wesley83 i have a 3g iphone. after 3 hrs tweeting at #rise_austin, it was dead!  i need to upgrade. plugin stations at #sxsw.</td>\n",
       "      <td>Apple</td>\n",
       "      <td>0</td>\n",
       "      <td>[wesley83, have, 3g, iphone, after, hrs, tweeting, at, rise_austin, it, was, dead, need, to, upgrade, plugin, stations, at, sxsw]</td>\n",
       "    </tr>\n",
       "    <tr>\n",
       "      <th>3</th>\n",
       "      <td>@sxsw i hope this year's festival isn't as crashy as this year's iphone app. #sxsw</td>\n",
       "      <td>Apple</td>\n",
       "      <td>0</td>\n",
       "      <td>[sxsw, hope, this, year, festival, isn, as, crashy, as, this, year, iphone, app, sxsw]</td>\n",
       "    </tr>\n",
       "    <tr>\n",
       "      <th>17</th>\n",
       "      <td>i just noticed dst is coming this weekend. how many iphone users will be an hour late at sxsw come sunday morning? #sxsw #iphone</td>\n",
       "      <td>Apple</td>\n",
       "      <td>0</td>\n",
       "      <td>[just, noticed, dst, is, coming, this, weekend, how, many, iphone, users, will, be, an, hour, late, at, sxsw, come, sunday, morning, sxsw, iphone]</td>\n",
       "    </tr>\n",
       "    <tr>\n",
       "      <th>67</th>\n",
       "      <td>attending @mention ipad design headaches #sxsw {link}</td>\n",
       "      <td>Apple</td>\n",
       "      <td>0</td>\n",
       "      <td>[attending, mention, ipad, design, headaches, sxsw, link]</td>\n",
       "    </tr>\n",
       "    <tr>\n",
       "      <th>92</th>\n",
       "      <td>what !?!? @mention  #sxsw does not provide iphone chargers?!?  i've changed my mind about going next year!</td>\n",
       "      <td>Apple</td>\n",
       "      <td>0</td>\n",
       "      <td>[what, mention, sxsw, does, not, provide, iphone, chargers, ve, changed, my, mind, about, going, next, year]</td>\n",
       "    </tr>\n",
       "    <tr>\n",
       "      <th>...</th>\n",
       "      <td>...</td>\n",
       "      <td>...</td>\n",
       "      <td>...</td>\n",
       "      <td>...</td>\n",
       "    </tr>\n",
       "    <tr>\n",
       "      <th>8855</th>\n",
       "      <td>if there was a popup store in austin that sold nothing but iphone battery extenders, it would make so much money. #sxsw</td>\n",
       "      <td>Apple</td>\n",
       "      <td>0</td>\n",
       "      <td>[if, there, was, popup, store, in, austin, that, sold, nothing, but, iphone, battery, extenders, it, would, make, so, much, money, sxsw]</td>\n",
       "    </tr>\n",
       "    <tr>\n",
       "      <th>8930</th>\n",
       "      <td>#ipad #news #apps not popular with the #kids. {link} #the_daily is a terrible concept anyway #sxsw</td>\n",
       "      <td>Apple</td>\n",
       "      <td>0</td>\n",
       "      <td>[ipad, news, apps, not, popular, with, the, kids, link, the_daily, is, terrible, concept, anyway, sxsw]</td>\n",
       "    </tr>\n",
       "    <tr>\n",
       "      <th>8943</th>\n",
       "      <td>hmmm...taxi magic on iphone does not appear to be so magic any more in austin #sxsw</td>\n",
       "      <td>Apple</td>\n",
       "      <td>0</td>\n",
       "      <td>[hmmm, taxi, magic, on, iphone, does, not, appear, to, be, so, magic, any, more, in, austin, sxsw]</td>\n",
       "    </tr>\n",
       "    <tr>\n",
       "      <th>8981</th>\n",
       "      <td>i think my effing hubby is in line for an #ipad 2. can someone point him towards the line-up for wife number #2. #sxswi #sxsw</td>\n",
       "      <td>Apple</td>\n",
       "      <td>0</td>\n",
       "      <td>[think, my, effing, hubby, is, in, line, for, an, ipad, can, someone, point, him, towards, the, line, up, for, wife, number, sxswi, sxsw]</td>\n",
       "    </tr>\n",
       "    <tr>\n",
       "      <th>9008</th>\n",
       "      <td>i'm pretty sure the panelist that thinks apple is drowning in their success is fucking insane. #sxsw</td>\n",
       "      <td>Apple</td>\n",
       "      <td>0</td>\n",
       "      <td>[pretty, sure, the, panelist, that, thinks, apple, is, drowning, in, their, success, is, fucking, insane, sxsw]</td>\n",
       "    </tr>\n",
       "  </tbody>\n",
       "</table>\n",
       "<p>387 rows × 4 columns</p>\n",
       "</div>"
      ],
      "text/plain": [
       "                                                                                                                            tweet_text  \\\n",
       "0      .@wesley83 i have a 3g iphone. after 3 hrs tweeting at #rise_austin, it was dead!  i need to upgrade. plugin stations at #sxsw.   \n",
       "3                                                   @sxsw i hope this year's festival isn't as crashy as this year's iphone app. #sxsw   \n",
       "17    i just noticed dst is coming this weekend. how many iphone users will be an hour late at sxsw come sunday morning? #sxsw #iphone   \n",
       "67                                                                               attending @mention ipad design headaches #sxsw {link}   \n",
       "92                          what !?!? @mention  #sxsw does not provide iphone chargers?!?  i've changed my mind about going next year!   \n",
       "...                                                                                                                                ...   \n",
       "8855           if there was a popup store in austin that sold nothing but iphone battery extenders, it would make so much money. #sxsw   \n",
       "8930                                #ipad #news #apps not popular with the #kids. {link} #the_daily is a terrible concept anyway #sxsw   \n",
       "8943                                               hmmm...taxi magic on iphone does not appear to be so magic any more in austin #sxsw   \n",
       "8981     i think my effing hubby is in line for an #ipad 2. can someone point him towards the line-up for wife number #2. #sxswi #sxsw   \n",
       "9008                              i'm pretty sure the panelist that thinks apple is drowning in their success is fucking insane. #sxsw   \n",
       "\n",
       "     product  catogory  \\\n",
       "0      Apple         0   \n",
       "3      Apple         0   \n",
       "17     Apple         0   \n",
       "67     Apple         0   \n",
       "92     Apple         0   \n",
       "...      ...       ...   \n",
       "8855   Apple         0   \n",
       "8930   Apple         0   \n",
       "8943   Apple         0   \n",
       "8981   Apple         0   \n",
       "9008   Apple         0   \n",
       "\n",
       "                                                                                                                                          text_tokenized  \n",
       "0                      [wesley83, have, 3g, iphone, after, hrs, tweeting, at, rise_austin, it, was, dead, need, to, upgrade, plugin, stations, at, sxsw]  \n",
       "3                                                                 [sxsw, hope, this, year, festival, isn, as, crashy, as, this, year, iphone, app, sxsw]  \n",
       "17    [just, noticed, dst, is, coming, this, weekend, how, many, iphone, users, will, be, an, hour, late, at, sxsw, come, sunday, morning, sxsw, iphone]  \n",
       "67                                                                                             [attending, mention, ipad, design, headaches, sxsw, link]  \n",
       "92                                          [what, mention, sxsw, does, not, provide, iphone, chargers, ve, changed, my, mind, about, going, next, year]  \n",
       "...                                                                                                                                                  ...  \n",
       "8855            [if, there, was, popup, store, in, austin, that, sold, nothing, but, iphone, battery, extenders, it, would, make, so, much, money, sxsw]  \n",
       "8930                                             [ipad, news, apps, not, popular, with, the, kids, link, the_daily, is, terrible, concept, anyway, sxsw]  \n",
       "8943                                                  [hmmm, taxi, magic, on, iphone, does, not, appear, to, be, so, magic, any, more, in, austin, sxsw]  \n",
       "8981           [think, my, effing, hubby, is, in, line, for, an, ipad, can, someone, point, him, towards, the, line, up, for, wife, number, sxswi, sxsw]  \n",
       "9008                                     [pretty, sure, the, panelist, that, thinks, apple, is, drowning, in, their, success, is, fucking, insane, sxsw]  \n",
       "\n",
       "[387 rows x 4 columns]"
      ]
     },
     "execution_count": 46,
     "metadata": {},
     "output_type": "execute_result"
    }
   ],
   "source": [
    "# Negative tweets data frame\n",
    "Apple_tweets_Negative=Apple_tweets[Apple_tweets[\"catogory\"]==0]\n",
    "Apple_tweets_Negative"
   ]
  },
  {
   "cell_type": "code",
   "execution_count": 47,
   "metadata": {
    "scrolled": true
   },
   "outputs": [
    {
     "data": {
      "text/plain": [
       "FreqDist({'sxsw': 400, 'the': 227, 'mention': 193, 'ipad': 182, 'to': 173, 'iphone': 148, 'is': 117, 'apple': 116, 'at': 93, 'in': 91, ...})"
      ]
     },
     "execution_count": 47,
     "metadata": {},
     "output_type": "execute_result"
    }
   ],
   "source": [
    "# create a negative_freqdist\n",
    "Apple_tweets_Negative_freqdist =FreqDist(Apple_tweets_Negative[\"text_tokenized\"].explode())\n",
    "Apple_tweets_Negative_freqdist"
   ]
  },
  {
   "cell_type": "code",
   "execution_count": 48,
   "metadata": {},
   "outputs": [
    {
     "data": {
      "image/png": "[encoded data removed]",
      "text/plain": [
       "<Figure size 432x288 with 1 Axes>"
      ]
     },
     "metadata": {
      "needs_background": "light"
     },
     "output_type": "display_data"
    }
   ],
   "source": [
    "# plot negative _freqdist\n",
    "visualize_top_25(Apple_tweets_Negative_freqdist, \"Top 25 Word Frequency for Negative subset\")"
   ]
  },
  {
   "cell_type": "code",
   "execution_count": 49,
   "metadata": {
    "scrolled": true
   },
   "outputs": [
    {
     "data": {
      "text/plain": [
       "<matplotlib.image.AxesImage at 0x20460e51e80>"
      ]
     },
     "execution_count": 49,
     "metadata": {},
     "output_type": "execute_result"
    },
    {
     "data": {
      "image/png": "[encoded data removed]",
      "text/plain": [
       "<Figure size 432x288 with 1 Axes>"
      ]
     },
     "metadata": {
      "needs_background": "light"
     },
     "output_type": "display_data"
    }
   ],
   "source": [
    "# Create wordcloud for negative subset\n",
    "wordcloud = WordCloud(max_font_size=50, max_words=100).generate_from_frequencies(Apple_tweets_Negative_freqdist)\n",
    "plt.imshow(wordcloud,interpolation=\"bilinear\")"
   ]
  },
  {
   "cell_type": "code",
   "execution_count": 50,
   "metadata": {
    "scrolled": true
   },
   "outputs": [
    {
     "data": {
      "text/html": [
       "<div>\n",
       "<style scoped>\n",
       "    .dataframe tbody tr th:only-of-type {\n",
       "        vertical-align: middle;\n",
       "    }\n",
       "\n",
       "    .dataframe tbody tr th {\n",
       "        vertical-align: top;\n",
       "    }\n",
       "\n",
       "    .dataframe thead th {\n",
       "        text-align: right;\n",
       "    }\n",
       "</style>\n",
       "<table border=\"1\" class=\"dataframe\">\n",
       "  <thead>\n",
       "    <tr style=\"text-align: right;\">\n",
       "      <th></th>\n",
       "      <th>tweet_text</th>\n",
       "      <th>product</th>\n",
       "      <th>catogory</th>\n",
       "      <th>text_tokenized</th>\n",
       "    </tr>\n",
       "  </thead>\n",
       "  <tbody>\n",
       "    <tr>\n",
       "      <th>63</th>\n",
       "      <td>#smile rt @mention i think apple's pop-up store in austin would be a lot more interesting if it actually, you know... popped up #sxsw</td>\n",
       "      <td>Apple</td>\n",
       "      <td>1</td>\n",
       "      <td>[smile, rt, mention, think, apple, pop, up, store, in, austin, would, be, lot, more, interesting, if, it, actually, you, know, popped, up, sxsw]</td>\n",
       "    </tr>\n",
       "    <tr>\n",
       "      <th>265</th>\n",
       "      <td>the #sxsw apple pop-up store was nuts. was still packed at 11:30. {link}</td>\n",
       "      <td>Apple</td>\n",
       "      <td>1</td>\n",
       "      <td>[the, sxsw, apple, pop, up, store, was, nuts, was, still, packed, at, 11, 30, link]</td>\n",
       "    </tr>\n",
       "    <tr>\n",
       "      <th>317</th>\n",
       "      <td>i arrived at #sxsw and my @mention issue hasn't been resolved. dying to use the iphone app but cant login. rt@mention @mention we're on it</td>\n",
       "      <td>Apple</td>\n",
       "      <td>1</td>\n",
       "      <td>[arrived, at, sxsw, and, my, mention, issue, hasn, been, resolved, dying, to, use, the, iphone, app, but, cant, login, rt, mention, mention, we, re, on, it]</td>\n",
       "    </tr>\n",
       "    <tr>\n",
       "      <th>601</th>\n",
       "      <td>msc_page: guy gets tattoo at sxsw so he could win a free ipad2 {link} #sxsw #tattoo #ipadû_ {link} #allshare</td>\n",
       "      <td>Apple</td>\n",
       "      <td>1</td>\n",
       "      <td>[msc_page, guy, gets, tattoo, at, sxsw, so, he, could, win, free, ipad2, link, sxsw, tattoo, ipad, û_, link, allshare]</td>\n",
       "    </tr>\n",
       "    <tr>\n",
       "      <th>668</th>\n",
       "      <td>#sxsw guy in front of me at this panel has an ipad in an etch-a-sketch case...device of wonder? #iusxsw</td>\n",
       "      <td>Apple</td>\n",
       "      <td>1</td>\n",
       "      <td>[sxsw, guy, in, front, of, me, at, this, panel, has, an, ipad, in, an, etch, sketch, case, device, of, wonder, iusxsw]</td>\n",
       "    </tr>\n",
       "    <tr>\n",
       "      <th>...</th>\n",
       "      <td>...</td>\n",
       "      <td>...</td>\n",
       "      <td>...</td>\n",
       "      <td>...</td>\n",
       "    </tr>\n",
       "    <tr>\n",
       "      <th>8691</th>\n",
       "      <td>apple popup store! #sxsw  @mention apple store, sxsw {link} #photo</td>\n",
       "      <td>Apple</td>\n",
       "      <td>1</td>\n",
       "      <td>[apple, popup, store, sxsw, mention, apple, store, sxsw, link, photo]</td>\n",
       "    </tr>\n",
       "    <tr>\n",
       "      <th>8722</th>\n",
       "      <td>my wife just tried to call my att iphone, only 2 have att say my number was not working. is #sxsw taking down all att networks nationwide?</td>\n",
       "      <td>Apple</td>\n",
       "      <td>1</td>\n",
       "      <td>[my, wife, just, tried, to, call, my, att, iphone, only, have, att, say, my, number, was, not, working, is, sxsw, taking, down, all, att, networks, nationwide]</td>\n",
       "    </tr>\n",
       "    <tr>\n",
       "      <th>8849</th>\n",
       "      <td>we can't wait to give an ipad to someone at #sxsw. want in? just head to www.pep.jobs/upc to enter. (must be present to win)</td>\n",
       "      <td>Apple</td>\n",
       "      <td>1</td>\n",
       "      <td>[we, can, wait, to, give, an, ipad, to, someone, at, sxsw, want, in, just, head, to, www, pep, jobs, upc, to, enter, must, be, present, to, win]</td>\n",
       "    </tr>\n",
       "    <tr>\n",
       "      <th>8902</th>\n",
       "      <td>@mention which is to say ipad is going to be ubiquitous a lot faster than anyone expected a year or even 6 mo. ago. #newsapps #sxsw</td>\n",
       "      <td>Apple</td>\n",
       "      <td>1</td>\n",
       "      <td>[mention, which, is, to, say, ipad, is, going, to, be, ubiquitous, lot, faster, than, anyone, expected, year, or, even, mo, ago, newsapps, sxsw]</td>\n",
       "    </tr>\n",
       "    <tr>\n",
       "      <th>9051</th>\n",
       "      <td>@mention you can get an ipad 1 for under $350 now. and they'll be $99 before you know it. look at iphone. #newsapps #sxsw</td>\n",
       "      <td>Apple</td>\n",
       "      <td>1</td>\n",
       "      <td>[mention, you, can, get, an, ipad, for, under, 350, now, and, they, ll, be, 99, before, you, know, it, look, at, iphone, newsapps, sxsw]</td>\n",
       "    </tr>\n",
       "  </tbody>\n",
       "</table>\n",
       "<p>65 rows × 4 columns</p>\n",
       "</div>"
      ],
      "text/plain": [
       "                                                                                                                                      tweet_text  \\\n",
       "63         #smile rt @mention i think apple's pop-up store in austin would be a lot more interesting if it actually, you know... popped up #sxsw   \n",
       "265                                                                     the #sxsw apple pop-up store was nuts. was still packed at 11:30. {link}   \n",
       "317   i arrived at #sxsw and my @mention issue hasn't been resolved. dying to use the iphone app but cant login. rt@mention @mention we're on it   \n",
       "601                                msc_page: guy gets tattoo at sxsw so he could win a free ipad2 {link} #sxsw #tattoo #ipadû_ {link} #allshare   \n",
       "668                                      #sxsw guy in front of me at this panel has an ipad in an etch-a-sketch case...device of wonder? #iusxsw   \n",
       "...                                                                                                                                          ...   \n",
       "8691                                                                          apple popup store! #sxsw  @mention apple store, sxsw {link} #photo   \n",
       "8722  my wife just tried to call my att iphone, only 2 have att say my number was not working. is #sxsw taking down all att networks nationwide?   \n",
       "8849                we can't wait to give an ipad to someone at #sxsw. want in? just head to www.pep.jobs/upc to enter. (must be present to win)   \n",
       "8902         @mention which is to say ipad is going to be ubiquitous a lot faster than anyone expected a year or even 6 mo. ago. #newsapps #sxsw   \n",
       "9051                   @mention you can get an ipad 1 for under $350 now. and they'll be $99 before you know it. look at iphone. #newsapps #sxsw   \n",
       "\n",
       "     product  catogory  \\\n",
       "63     Apple         1   \n",
       "265    Apple         1   \n",
       "317    Apple         1   \n",
       "601    Apple         1   \n",
       "668    Apple         1   \n",
       "...      ...       ...   \n",
       "8691   Apple         1   \n",
       "8722   Apple         1   \n",
       "8849   Apple         1   \n",
       "8902   Apple         1   \n",
       "9051   Apple         1   \n",
       "\n",
       "                                                                                                                                                       text_tokenized  \n",
       "63                   [smile, rt, mention, think, apple, pop, up, store, in, austin, would, be, lot, more, interesting, if, it, actually, you, know, popped, up, sxsw]  \n",
       "265                                                                               [the, sxsw, apple, pop, up, store, was, nuts, was, still, packed, at, 11, 30, link]  \n",
       "317      [arrived, at, sxsw, and, my, mention, issue, hasn, been, resolved, dying, to, use, the, iphone, app, but, cant, login, rt, mention, mention, we, re, on, it]  \n",
       "601                                            [msc_page, guy, gets, tattoo, at, sxsw, so, he, could, win, free, ipad2, link, sxsw, tattoo, ipad, û_, link, allshare]  \n",
       "668                                            [sxsw, guy, in, front, of, me, at, this, panel, has, an, ipad, in, an, etch, sketch, case, device, of, wonder, iusxsw]  \n",
       "...                                                                                                                                                               ...  \n",
       "8691                                                                                            [apple, popup, store, sxsw, mention, apple, store, sxsw, link, photo]  \n",
       "8722  [my, wife, just, tried, to, call, my, att, iphone, only, have, att, say, my, number, was, not, working, is, sxsw, taking, down, all, att, networks, nationwide]  \n",
       "8849                 [we, can, wait, to, give, an, ipad, to, someone, at, sxsw, want, in, just, head, to, www, pep, jobs, upc, to, enter, must, be, present, to, win]  \n",
       "8902                 [mention, which, is, to, say, ipad, is, going, to, be, ubiquitous, lot, faster, than, anyone, expected, year, or, even, mo, ago, newsapps, sxsw]  \n",
       "9051                         [mention, you, can, get, an, ipad, for, under, 350, now, and, they, ll, be, 99, before, you, know, it, look, at, iphone, newsapps, sxsw]  \n",
       "\n",
       "[65 rows x 4 columns]"
      ]
     },
     "execution_count": 50,
     "metadata": {},
     "output_type": "execute_result"
    }
   ],
   "source": [
    "# Nutral tweets data frame\n",
    "Apple_tweets_No_emotion=Apple_tweets[Apple_tweets[\"catogory\"]==1]\n",
    "Apple_tweets_No_emotion"
   ]
  },
  {
   "cell_type": "code",
   "execution_count": 51,
   "metadata": {
    "scrolled": true
   },
   "outputs": [
    {
     "data": {
      "text/plain": [
       "FreqDist({'sxsw': 73, 'the': 44, 'mention': 39, 'ipad': 31, 'apple': 29, 'to': 29, 'at': 28, 'in': 23, 'link': 23, 'store': 18, ...})"
      ]
     },
     "execution_count": 51,
     "metadata": {},
     "output_type": "execute_result"
    }
   ],
   "source": [
    "# create FreqDist for Nutral data frame\n",
    "Apple_tweets_No_emotion_freqdist =FreqDist(Apple_tweets_No_emotion[\"text_tokenized\"].explode())\n",
    "Apple_tweets_No_emotion_freqdist"
   ]
  },
  {
   "cell_type": "code",
   "execution_count": 52,
   "metadata": {
    "scrolled": true
   },
   "outputs": [
    {
     "data": {
      "image/png": "[encoded data removed]",
      "text/plain": [
       "<Figure size 432x288 with 1 Axes>"
      ]
     },
     "metadata": {
      "needs_background": "light"
     },
     "output_type": "display_data"
    }
   ],
   "source": [
    "# plot Nutral_freqdist\n",
    "visualize_top_25(Apple_tweets_No_emotion_freqdist, \"Top 25 Word Frequency for Nutral\")"
   ]
  },
  {
   "cell_type": "code",
   "execution_count": 53,
   "metadata": {
    "scrolled": false
   },
   "outputs": [
    {
     "data": {
      "text/plain": [
       "<matplotlib.image.AxesImage at 0x20460f74940>"
      ]
     },
     "execution_count": 53,
     "metadata": {},
     "output_type": "execute_result"
    },
    {
     "data": {
      "image/png": "[encoded data removed]",
      "text/plain": [
       "<Figure size 432x288 with 1 Axes>"
      ]
     },
     "metadata": {
      "needs_background": "light"
     },
     "output_type": "display_data"
    }
   ],
   "source": [
    "# Create wordcloud for nutral subset\n",
    "wordcloud = WordCloud(max_font_size=50, max_words=100).generate_from_frequencies(Apple_tweets_No_emotion_freqdist)\n",
    "plt.imshow(wordcloud,interpolation=\"bilinear\")"
   ]
  },
  {
   "cell_type": "markdown",
   "metadata": {},
   "source": [
    "#### 3- Removing Stopwords\n",
    "\n",
    "Stop words are a set of words which helps in sentence construction and don't have any real information.\n",
    "\n",
    "NLTK library consists of a list of words that are considered stopwords for the English language.\n",
    "\n",
    "String library of Python contains some pre-defined list of punctuations such as ‘!”#$%&'()*+,-./:;?@[]^_`{|}~’"
   ]
  },
  {
   "cell_type": "code",
   "execution_count": 54,
   "metadata": {},
   "outputs": [],
   "source": [
    "#Importing stopwords from nltk\n",
    "#Importing String library\n",
    "from nltk.corpus import stopwords\n",
    "import string"
   ]
  },
  {
   "cell_type": "markdown",
   "metadata": {},
   "source": [
    "We will create a stopword list ,add punctuation,add numbers,add some fequent words,and whitespace to stopword to stopwords."
   ]
  },
  {
   "cell_type": "code",
   "execution_count": 55,
   "metadata": {},
   "outputs": [],
   "source": [
    "#Stop words present in the library\n",
    "s_w = stopwords.words('english')\n",
    "# add punctuation to stopwords\n",
    "s_w += list(string.punctuation)\n",
    "# add numbers to stopwords\n",
    "s_w += ['0', '1', '2', '3', '4', '5', '6', '7', '8', '9']\n",
    "# add some fequent words to stopwords\n",
    "s_w += ['sxsw','mention',\"link\",\"rt\",\"RT\",\"via\",\"yet\",\"also\",\"sxswi\",'say',\"might\",\"could\",\"think\",\" swsx\",\"swsx\",\"wssxsw\"]\n",
    "# add some punctuation and whitespace to stopword\n",
    "s_w += ['“','”','...',\"''\",'’','``','',\"  \"]\n"
   ]
  },
  {
   "cell_type": "code",
   "execution_count": 56,
   "metadata": {},
   "outputs": [
    {
     "data": {
      "text/plain": [
       "['have',\n",
       " 'after',\n",
       " 'at',\n",
       " 'it',\n",
       " 'was',\n",
       " 'to',\n",
       " 'at',\n",
       " 'sxsw',\n",
       " 'about',\n",
       " 'that',\n",
       " 'you',\n",
       " 'll',\n",
       " 'for',\n",
       " 'its',\n",
       " 'also',\n",
       " 'they',\n",
       " 're',\n",
       " 'at',\n",
       " 'sxsw',\n",
       " 'can',\n",
       " 'not',\n",
       " 'for',\n",
       " 'also',\n",
       " 'they',\n",
       " 'should',\n",
       " 'them',\n",
       " 'down',\n",
       " 'at',\n",
       " 'sxsw',\n",
       " 'sxsw',\n",
       " 'this',\n",
       " 'isn',\n",
       " 'as',\n",
       " 'as',\n",
       " 'this',\n",
       " 'sxsw',\n",
       " 'and',\n",
       " 'rt',\n",
       " 'about',\n",
       " 'our',\n",
       " 'for',\n",
       " 'sxsw',\n",
       " 'down',\n",
       " 'the',\n",
       " 'to',\n",
       " 'sxsw',\n",
       " 'up',\n",
       " 'on',\n",
       " 'sxsw',\n",
       " 'from',\n",
       " 'by',\n",
       " 'sxsw',\n",
       " 'just',\n",
       " 'is',\n",
       " 'this',\n",
       " 'how',\n",
       " 'will',\n",
       " 'be',\n",
       " 'an',\n",
       " 'at',\n",
       " 'sxsw',\n",
       " 'sxsw',\n",
       " 'just',\n",
       " 'my',\n",
       " 'sxsw',\n",
       " 'to',\n",
       " 'on',\n",
       " 'also',\n",
       " 'the',\n",
       " 'have',\n",
       " 'sxsw',\n",
       " 'rt',\n",
       " 'from',\n",
       " 'for',\n",
       " 'our',\n",
       " 'sxsw',\n",
       " 'to',\n",
       " 'an',\n",
       " 'while',\n",
       " 'in',\n",
       " 'at',\n",
       " 'sxsw',\n",
       " 'not',\n",
       " 'if',\n",
       " 'll',\n",
       " 'to',\n",
       " 'up',\n",
       " 'at',\n",
       " 'an',\n",
       " 'my',\n",
       " 'the',\n",
       " 'sxsw',\n",
       " 'for',\n",
       " 'is',\n",
       " 'it',\n",
       " 'to',\n",
       " 'on',\n",
       " 'than',\n",
       " 'on',\n",
       " 'the',\n",
       " 'just',\n",
       " 'the',\n",
       " 'sxsw',\n",
       " 'which',\n",
       " 'is',\n",
       " 'rt',\n",
       " 'to',\n",
       " 'the',\n",
       " 'sxsw',\n",
       " 'and',\n",
       " 'll',\n",
       " 'an',\n",
       " 'from',\n",
       " 'my',\n",
       " 'rt',\n",
       " 'by',\n",
       " 'sxsw',\n",
       " 'via',\n",
       " 'the',\n",
       " 'it',\n",
       " 'is',\n",
       " 'to',\n",
       " 'for',\n",
       " 'and',\n",
       " 'should',\n",
       " 'sxsw',\n",
       " 'very',\n",
       " 'from',\n",
       " 'for',\n",
       " 'sxsw',\n",
       " 'my',\n",
       " 'at',\n",
       " 'now',\n",
       " 'you',\n",
       " 'have',\n",
       " 'this',\n",
       " 'for',\n",
       " 'your',\n",
       " 'if',\n",
       " 'you',\n",
       " 'are',\n",
       " 'to',\n",
       " 'sxsw',\n",
       " 'the',\n",
       " 'rt',\n",
       " 'mention',\n",
       " 'in',\n",
       " 'for',\n",
       " 'at',\n",
       " 'sxsw',\n",
       " 'up',\n",
       " 'was',\n",
       " 'an',\n",
       " 'mention',\n",
       " 'to',\n",
       " 'you',\n",
       " 'for',\n",
       " 'sxsw',\n",
       " 'at',\n",
       " 'up',\n",
       " 'to',\n",
       " 'to',\n",
       " 'should',\n",
       " 'have',\n",
       " 'to',\n",
       " 'link',\n",
       " 'sxsw',\n",
       " 'rt',\n",
       " 'mention',\n",
       " 'is',\n",
       " 'up',\n",
       " 'in',\n",
       " 'for',\n",
       " 'sxsw',\n",
       " 'mention',\n",
       " 'link',\n",
       " 'mention',\n",
       " 'sxsw',\n",
       " 'link',\n",
       " 'rt',\n",
       " 'mention',\n",
       " 'on',\n",
       " 'the',\n",
       " 'sxsw',\n",
       " 'mention',\n",
       " 'in',\n",
       " 'the',\n",
       " 'an',\n",
       " 'rt',\n",
       " 'mention',\n",
       " 'about',\n",
       " 'up',\n",
       " 'in',\n",
       " 'are',\n",
       " 'on',\n",
       " 'link',\n",
       " 'sxsw',\n",
       " 'rt',\n",
       " 'mention',\n",
       " 'think',\n",
       " 'up',\n",
       " 'in',\n",
       " 'be',\n",
       " 'more',\n",
       " 'if',\n",
       " 'it',\n",
       " 'you',\n",
       " 'up',\n",
       " 'sxsw',\n",
       " 'mention',\n",
       " 'sxsw',\n",
       " 'link',\n",
       " 'out',\n",
       " 'mention',\n",
       " 'mention',\n",
       " 'mention',\n",
       " 'in',\n",
       " 'for',\n",
       " 'their',\n",
       " 'in',\n",
       " 'to',\n",
       " 'them',\n",
       " 'sxswi',\n",
       " 'sxsw',\n",
       " 'link',\n",
       " 'my',\n",
       " 'mention',\n",
       " 'from',\n",
       " 'sxsw',\n",
       " 'but',\n",
       " 'can',\n",
       " 'my',\n",
       " 'out',\n",
       " 'of',\n",
       " 'it',\n",
       " 'mention',\n",
       " 'it',\n",
       " 'to',\n",
       " 'on',\n",
       " 'all',\n",
       " 'with',\n",
       " 'you',\n",
       " 'link',\n",
       " 'sxsw',\n",
       " 'that',\n",
       " 'mention',\n",
       " 'is',\n",
       " 'were',\n",
       " 'sxsw',\n",
       " 'rt',\n",
       " 'mention',\n",
       " 'at',\n",
       " 'the',\n",
       " 'that',\n",
       " 'to',\n",
       " 'be',\n",
       " 'up',\n",
       " 'sxsw',\n",
       " 'link',\n",
       " 'to',\n",
       " 'mention',\n",
       " 'for',\n",
       " 'her',\n",
       " 'mention',\n",
       " 'of',\n",
       " 'our',\n",
       " 'being',\n",
       " 'at',\n",
       " 'the',\n",
       " 'sxsw',\n",
       " 'link',\n",
       " 'what',\n",
       " 'mention',\n",
       " 'sxsw',\n",
       " 'does',\n",
       " 'not',\n",
       " 've',\n",
       " 'my',\n",
       " 'about',\n",
       " 'rt',\n",
       " 'mention',\n",
       " 'mention',\n",
       " 'mention',\n",
       " 'mention',\n",
       " 'up',\n",
       " 'sxsw',\n",
       " 'is',\n",
       " 'for',\n",
       " 'rt',\n",
       " 'mention',\n",
       " 'for',\n",
       " 'now',\n",
       " 'in',\n",
       " 'the',\n",
       " 'to',\n",
       " 'sxsw',\n",
       " 'by',\n",
       " 'link',\n",
       " 'is',\n",
       " 'the',\n",
       " 'have',\n",
       " 'at',\n",
       " 'sxsw',\n",
       " 'could',\n",
       " 'have',\n",
       " 'that',\n",
       " 'link',\n",
       " 'not',\n",
       " 'but',\n",
       " 'is',\n",
       " 'for',\n",
       " 'the',\n",
       " 'of',\n",
       " 'sxsw',\n",
       " 'those',\n",
       " 'were',\n",
       " 'the',\n",
       " 'sxsw',\n",
       " 'via',\n",
       " 'mention',\n",
       " 'sxsw',\n",
       " 'and',\n",
       " 'are',\n",
       " 'but',\n",
       " 'are',\n",
       " 'and',\n",
       " 'sxswi',\n",
       " 'at',\n",
       " 'sxsw',\n",
       " 'the',\n",
       " 'link',\n",
       " 'is',\n",
       " 'not',\n",
       " 'it',\n",
       " 'sxsw',\n",
       " 'link',\n",
       " 'on',\n",
       " 'and',\n",
       " 'for',\n",
       " 'sxsw',\n",
       " 'with',\n",
       " 'very',\n",
       " 'mention',\n",
       " 'sxsw',\n",
       " 'link',\n",
       " 'in',\n",
       " 'to',\n",
       " 'that',\n",
       " 'is',\n",
       " 'and',\n",
       " 'are',\n",
       " 'have',\n",
       " 'at',\n",
       " 'sxsw',\n",
       " 'all',\n",
       " 'you',\n",
       " 'to',\n",
       " 'to',\n",
       " 'at',\n",
       " 'sxsw',\n",
       " 'or',\n",
       " 'after',\n",
       " 'we',\n",
       " 'can',\n",
       " 'on',\n",
       " 'mention',\n",
       " 'me',\n",
       " 'the',\n",
       " 'has',\n",
       " 'sxsw',\n",
       " 'and',\n",
       " 'by',\n",
       " 'link',\n",
       " 'mention',\n",
       " 'to',\n",
       " 'be',\n",
       " 'can',\n",
       " 'sxsw',\n",
       " 'link',\n",
       " 'of',\n",
       " 'to',\n",
       " 'be',\n",
       " 'at',\n",
       " 'sxsw',\n",
       " 'no',\n",
       " 'at',\n",
       " 'all',\n",
       " 'this',\n",
       " 'link',\n",
       " 'that',\n",
       " 'sxsw',\n",
       " 'rt',\n",
       " 'mention',\n",
       " 'to',\n",
       " 'with',\n",
       " 'his',\n",
       " 'link',\n",
       " 'sxsw',\n",
       " 'mention',\n",
       " 'sxsw',\n",
       " 'link',\n",
       " 'have',\n",
       " 'sxsw',\n",
       " 'rt',\n",
       " 'mention',\n",
       " 'from',\n",
       " 'for',\n",
       " 'our',\n",
       " 'sxsw',\n",
       " 'link',\n",
       " 'sxsw',\n",
       " 'being',\n",
       " 'as',\n",
       " 'link',\n",
       " 'mention',\n",
       " 'sxsw',\n",
       " 'for',\n",
       " 'by',\n",
       " 'out',\n",
       " 'of',\n",
       " 'won',\n",
       " 'sxsw',\n",
       " 'from',\n",
       " 'of',\n",
       " 'mention',\n",
       " 'sxsw',\n",
       " 'out',\n",
       " 'of',\n",
       " 'only',\n",
       " 'mention',\n",
       " 'did',\n",
       " 'you',\n",
       " 'to',\n",
       " 'yours',\n",
       " 'mention',\n",
       " 'sxsw',\n",
       " 'out',\n",
       " 'of',\n",
       " 'only',\n",
       " 'also',\n",
       " 'as',\n",
       " 'the',\n",
       " 'sxsw',\n",
       " 'to',\n",
       " 'and',\n",
       " 'who',\n",
       " 'are',\n",
       " 'not',\n",
       " 'here',\n",
       " 'at',\n",
       " 'sxsw',\n",
       " 'to',\n",
       " 'not',\n",
       " 'be',\n",
       " 'here',\n",
       " 'sxsw',\n",
       " 'sxsw',\n",
       " 'about',\n",
       " 'the',\n",
       " 'of',\n",
       " 'the',\n",
       " 'on',\n",
       " 'the',\n",
       " 'sxsw',\n",
       " 'has',\n",
       " 'and',\n",
       " 'at',\n",
       " 'sxsw',\n",
       " 'to',\n",
       " 'from',\n",
       " 'here',\n",
       " 'sxsw',\n",
       " 'did',\n",
       " 'you',\n",
       " 'do',\n",
       " 'any',\n",
       " 'on',\n",
       " 'the',\n",
       " 'and',\n",
       " 'no',\n",
       " 'for',\n",
       " 'for',\n",
       " 'sxsw',\n",
       " 'here',\n",
       " 'are',\n",
       " 'some',\n",
       " 'link',\n",
       " 'sxsw',\n",
       " 'sxswi',\n",
       " 'and',\n",
       " 'sxsw',\n",
       " 'of',\n",
       " 'link',\n",
       " 'sxsw',\n",
       " 'link',\n",
       " 'up',\n",
       " 'for',\n",
       " 'all',\n",
       " 'your',\n",
       " 'sxsw',\n",
       " 'to',\n",
       " 'sxswi',\n",
       " 'and',\n",
       " 'all',\n",
       " 'won',\n",
       " 'was',\n",
       " 'this',\n",
       " 'sxsw',\n",
       " 'link',\n",
       " 'you',\n",
       " 'to',\n",
       " 'to',\n",
       " 'sxsw',\n",
       " 'you',\n",
       " 've',\n",
       " 'the',\n",
       " 'is',\n",
       " 'why',\n",
       " 'sxsw',\n",
       " 'link',\n",
       " 'on',\n",
       " 'of',\n",
       " 'them',\n",
       " 'all',\n",
       " 'sxsw',\n",
       " 'it',\n",
       " 'at',\n",
       " 'and',\n",
       " 'there',\n",
       " 'is',\n",
       " 'the',\n",
       " 'at',\n",
       " 'the',\n",
       " 'sxsw',\n",
       " 'up',\n",
       " 'to',\n",
       " 'in',\n",
       " 'the',\n",
       " 'both',\n",
       " 'say',\n",
       " 'it',\n",
       " 'is',\n",
       " 'but',\n",
       " 'the',\n",
       " 'are',\n",
       " 'sxsw',\n",
       " 'the',\n",
       " 'over',\n",
       " 'sxsw',\n",
       " 'by',\n",
       " 'mention',\n",
       " 'link',\n",
       " 'at',\n",
       " 'the',\n",
       " 'sxsw',\n",
       " 'we',\n",
       " 'll',\n",
       " 'be',\n",
       " 'at',\n",
       " 'by',\n",
       " 'link',\n",
       " 'sxsw',\n",
       " 'sxswi',\n",
       " 'sxsw',\n",
       " 'at',\n",
       " 'the',\n",
       " 'and',\n",
       " 'there',\n",
       " 'and',\n",
       " 'link',\n",
       " 'if',\n",
       " 'have',\n",
       " 'you',\n",
       " 'don',\n",
       " 'to',\n",
       " 'sxsw',\n",
       " 'up',\n",
       " 'my',\n",
       " 'in',\n",
       " 'for',\n",
       " 'sxsw',\n",
       " 'not',\n",
       " 'only',\n",
       " 'my',\n",
       " 'was',\n",
       " 'with',\n",
       " 'to',\n",
       " 'link',\n",
       " 'sxsw',\n",
       " 'out',\n",
       " 'in',\n",
       " 'than',\n",
       " 'and',\n",
       " 'have',\n",
       " 'of',\n",
       " 'the',\n",
       " 'in',\n",
       " 'this',\n",
       " 'we',\n",
       " 'this',\n",
       " 'sxsw',\n",
       " 'just',\n",
       " 'about',\n",
       " 'at',\n",
       " 'sxsw',\n",
       " 'an',\n",
       " 'is',\n",
       " 'it',\n",
       " 'for',\n",
       " 'yet',\n",
       " 'if',\n",
       " 'the',\n",
       " 'how',\n",
       " 'sxsw',\n",
       " 'to',\n",
       " 'on',\n",
       " 'to',\n",
       " 'all',\n",
       " 'the',\n",
       " 'up',\n",
       " 'their',\n",
       " 'at',\n",
       " 'sxsw',\n",
       " 'to',\n",
       " 'while',\n",
       " 'mention',\n",
       " 'also',\n",
       " 'at',\n",
       " 'sxsw',\n",
       " 'of',\n",
       " 'an',\n",
       " 'for',\n",
       " 'sxsw',\n",
       " 'at',\n",
       " 'all',\n",
       " 'to',\n",
       " 'link',\n",
       " 'up',\n",
       " 'an',\n",
       " 'at',\n",
       " 'the',\n",
       " 'sxsw',\n",
       " 'up',\n",
       " 'only',\n",
       " 'and',\n",
       " 'link',\n",
       " 'sxsw',\n",
       " 'do',\n",
       " 'any',\n",
       " 'more',\n",
       " 'for',\n",
       " 'sxsw',\n",
       " 'to',\n",
       " 'the',\n",
       " 'the',\n",
       " 'sxsw',\n",
       " 'for',\n",
       " 'my',\n",
       " 'is',\n",
       " 'it',\n",
       " 'my',\n",
       " 'for',\n",
       " 'the',\n",
       " 'the',\n",
       " 'my',\n",
       " 'not',\n",
       " 'when',\n",
       " 'in',\n",
       " 'mention',\n",
       " 'sxsw',\n",
       " 'the',\n",
       " 'sxsw',\n",
       " 'on',\n",
       " 'the',\n",
       " 'is',\n",
       " 'for',\n",
       " 'from',\n",
       " 'your',\n",
       " 'out',\n",
       " 'the',\n",
       " 'sxsw',\n",
       " 'up',\n",
       " 'was',\n",
       " 'was',\n",
       " 'at',\n",
       " 'link',\n",
       " 'of',\n",
       " 'in',\n",
       " 'it',\n",
       " 'they',\n",
       " 'the',\n",
       " 'of',\n",
       " 'sxsw',\n",
       " 'that',\n",
       " 'didn',\n",
       " 'not',\n",
       " 'having',\n",
       " 'sxsw',\n",
       " 'them',\n",
       " 'by',\n",
       " 'up',\n",
       " 'link',\n",
       " 'has',\n",
       " 'up',\n",
       " 'in',\n",
       " 'so',\n",
       " 'that',\n",
       " 'the',\n",
       " 'in',\n",
       " 'for',\n",
       " 'sxsw',\n",
       " 'can',\n",
       " 'their',\n",
       " 'link',\n",
       " 'has',\n",
       " 'up',\n",
       " 'in',\n",
       " 'so',\n",
       " 'that',\n",
       " 'the',\n",
       " 'in',\n",
       " 'for',\n",
       " 'sxsw',\n",
       " 'can',\n",
       " 'their',\n",
       " 'link',\n",
       " 'has',\n",
       " 'up',\n",
       " 'in',\n",
       " 'so',\n",
       " 'that',\n",
       " 'the',\n",
       " 'in',\n",
       " 'for',\n",
       " 'sxsw',\n",
       " 'can',\n",
       " 'their',\n",
       " 'link',\n",
       " 'mention',\n",
       " 'is',\n",
       " 'of',\n",
       " 'out',\n",
       " 'for',\n",
       " 'the',\n",
       " 'no',\n",
       " 'no',\n",
       " 'sxsw',\n",
       " 'mention',\n",
       " 'is',\n",
       " 'up',\n",
       " 'in',\n",
       " 'for',\n",
       " 'sxsw',\n",
       " 'and',\n",
       " 'the',\n",
       " 'link',\n",
       " 'mention',\n",
       " 'is',\n",
       " 'up',\n",
       " 'in',\n",
       " 'for',\n",
       " 'sxsw',\n",
       " 'and',\n",
       " 'the',\n",
       " 'more',\n",
       " 'the',\n",
       " 'sxsw',\n",
       " 'is',\n",
       " 'at',\n",
       " 'has',\n",
       " 'of',\n",
       " 'and',\n",
       " 'to',\n",
       " 'sxsw',\n",
       " 'to',\n",
       " 'up',\n",
       " 'link',\n",
       " 'sxsw',\n",
       " 'at',\n",
       " 'sxsw',\n",
       " 'the',\n",
       " 'link',\n",
       " 'at',\n",
       " 'sxsw',\n",
       " 'the',\n",
       " 'link',\n",
       " 'via',\n",
       " 'mention',\n",
       " 'at',\n",
       " 'sxsw',\n",
       " 'the',\n",
       " 'link',\n",
       " 'via',\n",
       " 'mention',\n",
       " 'or',\n",
       " 'them',\n",
       " 'no',\n",
       " 'does',\n",
       " 'them',\n",
       " 'at',\n",
       " 'sxsw',\n",
       " 'the',\n",
       " 'link',\n",
       " 'at',\n",
       " 'sxsw',\n",
       " 'the',\n",
       " 'link',\n",
       " 'mention',\n",
       " 'sxsw',\n",
       " 'mention',\n",
       " 'there',\n",
       " 'the',\n",
       " 'at',\n",
       " 'the',\n",
       " 'on',\n",
       " 'is',\n",
       " 'as',\n",
       " 'as',\n",
       " 'this',\n",
       " 'this',\n",
       " 'is',\n",
       " 'just',\n",
       " 'me',\n",
       " 'in',\n",
       " 'sxsw',\n",
       " 'at',\n",
       " 'and',\n",
       " 'you',\n",
       " 're',\n",
       " 'me',\n",
       " 'sxsw',\n",
       " 'at',\n",
       " 'sxsw',\n",
       " 'is',\n",
       " 'as',\n",
       " 'is',\n",
       " 'the',\n",
       " 'sxsw',\n",
       " 'being',\n",
       " 'up',\n",
       " 'for',\n",
       " 'sxsw',\n",
       " 'now',\n",
       " 'the',\n",
       " 'is',\n",
       " 'to',\n",
       " 'be',\n",
       " 'out',\n",
       " 'of',\n",
       " 'at',\n",
       " 'at',\n",
       " 'and',\n",
       " 'link',\n",
       " 'via',\n",
       " 'mention',\n",
       " 'sxsw',\n",
       " 'will',\n",
       " 'be',\n",
       " 'from',\n",
       " 'my',\n",
       " 'can',\n",
       " 'to',\n",
       " 'the',\n",
       " 'to',\n",
       " 'sxsw',\n",
       " 'so',\n",
       " 'at',\n",
       " 'sxsw',\n",
       " 'link',\n",
       " 'you',\n",
       " 'and',\n",
       " 'during',\n",
       " 'sxsw',\n",
       " 'link',\n",
       " 'are',\n",
       " 'just',\n",
       " 'in',\n",
       " 'that',\n",
       " 'once',\n",
       " 'you',\n",
       " 'it',\n",
       " 'you',\n",
       " 'have',\n",
       " 'to',\n",
       " 'on',\n",
       " 'the',\n",
       " 'sxsw',\n",
       " 'at',\n",
       " 'sxsw',\n",
       " 'and',\n",
       " 'my',\n",
       " 'mention',\n",
       " 'hasn',\n",
       " 'been',\n",
       " 'to',\n",
       " 'the',\n",
       " 'but',\n",
       " 'rt',\n",
       " 'mention',\n",
       " 'mention',\n",
       " 'we',\n",
       " 're',\n",
       " 'on',\n",
       " 'it',\n",
       " 'at',\n",
       " 'sxsw',\n",
       " 'the',\n",
       " 'is',\n",
       " 'at',\n",
       " 'sxsw',\n",
       " 'the',\n",
       " 'my',\n",
       " 'mention',\n",
       " 'at',\n",
       " 'sxsw',\n",
       " 'up',\n",
       " 'with',\n",
       " 'no',\n",
       " 'of',\n",
       " 'because',\n",
       " 'they',\n",
       " 'don',\n",
       " 'to',\n",
       " 'at',\n",
       " 'sxswi',\n",
       " 'was',\n",
       " 'about',\n",
       " 'the',\n",
       " 'this',\n",
       " 'it',\n",
       " 'this',\n",
       " 'is',\n",
       " 'sxsw',\n",
       " 'at',\n",
       " 'up',\n",
       " 'for',\n",
       " 'sxsw',\n",
       " 'at',\n",
       " 'with',\n",
       " 'and',\n",
       " 'but',\n",
       " 'with',\n",
       " 'can',\n",
       " 'me',\n",
       " 'to',\n",
       " 'sxsw',\n",
       " 'at',\n",
       " 'and',\n",
       " 'll',\n",
       " 'it',\n",
       " 'through',\n",
       " 'my',\n",
       " 'and',\n",
       " 'haven',\n",
       " 'the',\n",
       " 'to',\n",
       " 'sxsw',\n",
       " 'at',\n",
       " 'sxsw',\n",
       " 'the',\n",
       " 'link',\n",
       " 'sxsw',\n",
       " 'at',\n",
       " 'the',\n",
       " 'in',\n",
       " 'sxsw',\n",
       " 'over',\n",
       " 'each',\n",
       " 'other',\n",
       " 'to',\n",
       " 'the',\n",
       " 'at',\n",
       " 'the',\n",
       " 'until',\n",
       " 'this',\n",
       " 'my',\n",
       " 'now',\n",
       " 'an',\n",
       " 'and',\n",
       " 'sxsw',\n",
       " 'any',\n",
       " 'sxsw',\n",
       " 'for',\n",
       " 'their',\n",
       " 'an',\n",
       " 'of',\n",
       " 'you',\n",
       " 'with',\n",
       " 'your',\n",
       " 'and',\n",
       " 'the',\n",
       " 'sxsw',\n",
       " 'you',\n",
       " 'should',\n",
       " 'in',\n",
       " 'at',\n",
       " 'the',\n",
       " 'now',\n",
       " 'only',\n",
       " 'your',\n",
       " ...]"
      ]
     },
     "execution_count": 56,
     "metadata": {},
     "output_type": "execute_result"
    }
   ],
   "source": [
    "# Extract the stopwords from the text\n",
    "stop_words =[token for token in Apple_tweets[\"text_tokenized\"].explode() if token in s_w]\n",
    "stop_words"
   ]
  },
  {
   "cell_type": "markdown",
   "metadata": {},
   "source": [
    "Create a function to remove the stopwords."
   ]
  },
  {
   "cell_type": "code",
   "execution_count": 57,
   "metadata": {},
   "outputs": [],
   "source": [
    "def remove_stopwords(text):\n",
    "    \"\"\"\n",
    "    Given a list of tokens, return a list where the tokens\n",
    "    that are also present in stopwords_list have been\n",
    "    removed\n",
    "    \"\"\"\n",
    "    stopwords_removed = [token for token in text if token not in s_w]\n",
    "    return stopwords_removed"
   ]
  },
  {
   "cell_type": "markdown",
   "metadata": {},
   "source": [
    "Apply the function to the data frame"
   ]
  },
  {
   "cell_type": "code",
   "execution_count": 58,
   "metadata": {
    "scrolled": true
   },
   "outputs": [
    {
     "data": {
      "text/html": [
       "<div>\n",
       "<style scoped>\n",
       "    .dataframe tbody tr th:only-of-type {\n",
       "        vertical-align: middle;\n",
       "    }\n",
       "\n",
       "    .dataframe tbody tr th {\n",
       "        vertical-align: top;\n",
       "    }\n",
       "\n",
       "    .dataframe thead th {\n",
       "        text-align: right;\n",
       "    }\n",
       "</style>\n",
       "<table border=\"1\" class=\"dataframe\">\n",
       "  <thead>\n",
       "    <tr style=\"text-align: right;\">\n",
       "      <th></th>\n",
       "      <th>tweet_text</th>\n",
       "      <th>product</th>\n",
       "      <th>catogory</th>\n",
       "      <th>text_tokenized</th>\n",
       "      <th>text_without_stopwords</th>\n",
       "    </tr>\n",
       "  </thead>\n",
       "  <tbody>\n",
       "    <tr>\n",
       "      <th>0</th>\n",
       "      <td>.@wesley83 i have a 3g iphone. after 3 hrs tweeting at #rise_austin, it was dead!  i need to upgrade. plugin stations at #sxsw.</td>\n",
       "      <td>Apple</td>\n",
       "      <td>0</td>\n",
       "      <td>[wesley83, have, 3g, iphone, after, hrs, tweeting, at, rise_austin, it, was, dead, need, to, upgrade, plugin, stations, at, sxsw]</td>\n",
       "      <td>[wesley83, 3g, iphone, hrs, tweeting, rise_austin, dead, need, upgrade, plugin, stations]</td>\n",
       "    </tr>\n",
       "    <tr>\n",
       "      <th>1</th>\n",
       "      <td>@jessedee know about @fludapp ? awesome ipad/iphone app that you'll likely appreciate for its design. also, they're giving free ts at #sxsw</td>\n",
       "      <td>Apple</td>\n",
       "      <td>2</td>\n",
       "      <td>[jessedee, know, about, fludapp, awesome, ipad, iphone, app, that, you, ll, likely, appreciate, for, its, design, also, they, re, giving, free, ts, at, sxsw]</td>\n",
       "      <td>[jessedee, know, fludapp, awesome, ipad, iphone, app, likely, appreciate, design, giving, free, ts]</td>\n",
       "    </tr>\n",
       "    <tr>\n",
       "      <th>2</th>\n",
       "      <td>@swonderlin can not wait for #ipad 2 also. they should sale them down at #sxsw.</td>\n",
       "      <td>Apple</td>\n",
       "      <td>2</td>\n",
       "      <td>[swonderlin, can, not, wait, for, ipad, also, they, should, sale, them, down, at, sxsw]</td>\n",
       "      <td>[swonderlin, wait, ipad, sale]</td>\n",
       "    </tr>\n",
       "    <tr>\n",
       "      <th>3</th>\n",
       "      <td>@sxsw i hope this year's festival isn't as crashy as this year's iphone app. #sxsw</td>\n",
       "      <td>Apple</td>\n",
       "      <td>0</td>\n",
       "      <td>[sxsw, hope, this, year, festival, isn, as, crashy, as, this, year, iphone, app, sxsw]</td>\n",
       "      <td>[hope, year, festival, crashy, year, iphone, app]</td>\n",
       "    </tr>\n",
       "    <tr>\n",
       "      <th>8</th>\n",
       "      <td>beautifully smart and simple idea rt @madebymany @thenextweb wrote about our #hollergram ipad app for #sxsw!</td>\n",
       "      <td>Apple</td>\n",
       "      <td>2</td>\n",
       "      <td>[beautifully, smart, and, simple, idea, rt, madebymany, thenextweb, wrote, about, our, hollergram, ipad, app, for, sxsw]</td>\n",
       "      <td>[beautifully, smart, simple, idea, madebymany, thenextweb, wrote, hollergram, ipad, app]</td>\n",
       "    </tr>\n",
       "  </tbody>\n",
       "</table>\n",
       "</div>"
      ],
      "text/plain": [
       "                                                                                                                                    tweet_text  \\\n",
       "0              .@wesley83 i have a 3g iphone. after 3 hrs tweeting at #rise_austin, it was dead!  i need to upgrade. plugin stations at #sxsw.   \n",
       "1  @jessedee know about @fludapp ? awesome ipad/iphone app that you'll likely appreciate for its design. also, they're giving free ts at #sxsw   \n",
       "2                                                              @swonderlin can not wait for #ipad 2 also. they should sale them down at #sxsw.   \n",
       "3                                                           @sxsw i hope this year's festival isn't as crashy as this year's iphone app. #sxsw   \n",
       "8                                beautifully smart and simple idea rt @madebymany @thenextweb wrote about our #hollergram ipad app for #sxsw!    \n",
       "\n",
       "  product  catogory  \\\n",
       "0   Apple         0   \n",
       "1   Apple         2   \n",
       "2   Apple         2   \n",
       "3   Apple         0   \n",
       "8   Apple         2   \n",
       "\n",
       "                                                                                                                                                  text_tokenized  \\\n",
       "0                              [wesley83, have, 3g, iphone, after, hrs, tweeting, at, rise_austin, it, was, dead, need, to, upgrade, plugin, stations, at, sxsw]   \n",
       "1  [jessedee, know, about, fludapp, awesome, ipad, iphone, app, that, you, ll, likely, appreciate, for, its, design, also, they, re, giving, free, ts, at, sxsw]   \n",
       "2                                                                        [swonderlin, can, not, wait, for, ipad, also, they, should, sale, them, down, at, sxsw]   \n",
       "3                                                                         [sxsw, hope, this, year, festival, isn, as, crashy, as, this, year, iphone, app, sxsw]   \n",
       "8                                       [beautifully, smart, and, simple, idea, rt, madebymany, thenextweb, wrote, about, our, hollergram, ipad, app, for, sxsw]   \n",
       "\n",
       "                                                                                text_without_stopwords  \n",
       "0            [wesley83, 3g, iphone, hrs, tweeting, rise_austin, dead, need, upgrade, plugin, stations]  \n",
       "1  [jessedee, know, fludapp, awesome, ipad, iphone, app, likely, appreciate, design, giving, free, ts]  \n",
       "2                                                                       [swonderlin, wait, ipad, sale]  \n",
       "3                                                    [hope, year, festival, crashy, year, iphone, app]  \n",
       "8             [beautifully, smart, simple, idea, madebymany, thenextweb, wrote, hollergram, ipad, app]  "
      ]
     },
     "execution_count": 58,
     "metadata": {},
     "output_type": "execute_result"
    }
   ],
   "source": [
    "# Apply the function to the data frame\n",
    "Apple_tweets[\"text_without_stopwords\"] = Apple_tweets[\"text_tokenized\"].apply(remove_stopwords)\n",
    "Apple_tweets.head()"
   ]
  },
  {
   "cell_type": "markdown",
   "metadata": {},
   "source": [
    "Create FreqDist for the data frame after removing stopwords"
   ]
  },
  {
   "cell_type": "code",
   "execution_count": 59,
   "metadata": {
    "scrolled": true
   },
   "outputs": [
    {
     "data": {
      "text/plain": [
       "FreqDist({'ipad': 1150, 'apple': 999, 'iphone': 641, 'store': 557, 'app': 350, 'austin': 273, 'new': 227, 'pop': 221, 'ipad2': 203, 'one': 147, ...})"
      ]
     },
     "execution_count": 59,
     "metadata": {},
     "output_type": "execute_result"
    }
   ],
   "source": [
    "# Create FreqDist for the data frame after removing stopwords\n",
    "Apple_tweets_nostopwords_freqdist =FreqDist(Apple_tweets[\"text_without_stopwords\"].explode())\n",
    "Apple_tweets_nostopwords_freqdist"
   ]
  },
  {
   "cell_type": "code",
   "execution_count": 60,
   "metadata": {
    "scrolled": true
   },
   "outputs": [
    {
     "data": {
      "image/png": "[encoded data removed]",
      "text/plain": [
       "<Figure size 432x288 with 1 Axes>"
      ]
     },
     "metadata": {
      "needs_background": "light"
     },
     "output_type": "display_data"
    }
   ],
   "source": [
    "# plot FreqDist for the data frame after removing stopwords\n",
    "visualize_top_25(Apple_tweets_nostopwords_freqdist, \"Top 25 Word Frequency for Apple tweets after stop words removed\")"
   ]
  },
  {
   "cell_type": "markdown",
   "metadata": {},
   "source": [
    "### 4-Stemming\n",
    "\n",
    "Stemming is known as the text standardization step where the words are stemmed or diminished to their root/base form. For example, words like ‘programmer’, ‘programming, ‘program’ will be stemmed to ‘program’.\n",
    "\n",
    "SnowballStemmer :It is an advance stemming algorithm."
   ]
  },
  {
   "cell_type": "code",
   "execution_count": 61,
   "metadata": {},
   "outputs": [],
   "source": [
    "#importing the Stemming function from nltk library\n",
    "from nltk.stem.snowball import SnowballStemmer\n",
    "\n",
    "#the stemmer requires a language parameter\n",
    "stemmer = SnowballStemmer(language=\"english\")"
   ]
  },
  {
   "cell_type": "markdown",
   "metadata": {},
   "source": [
    "Create a function to tokenize and stem  words."
   ]
  },
  {
   "cell_type": "code",
   "execution_count": 62,
   "metadata": {},
   "outputs": [],
   "source": [
    "def stemer_tokenizer(document):\n",
    "    \"\"\"\n",
    "    Given a text and return a tokenized and stemmed words \"\"\"\n",
    "     \n",
    "    tokens = tokenizer.tokenize(str(document))\n",
    "    return[stemmer.stem(token) for token in tokens]"
   ]
  },
  {
   "cell_type": "code",
   "execution_count": 63,
   "metadata": {
    "scrolled": false
   },
   "outputs": [
    {
     "data": {
      "text/plain": [
       "['technew',\n",
       " 'appl',\n",
       " 'save',\n",
       " 'sxsw',\n",
       " 'set',\n",
       " 'to',\n",
       " 'open',\n",
       " 'pop',\n",
       " 'up',\n",
       " 'store',\n",
       " 'link',\n",
       " 'tech_new',\n",
       " 'appl',\n",
       " 'sxsw',\n",
       " 'tech']"
      ]
     },
     "execution_count": 63,
     "metadata": {},
     "output_type": "execute_result"
    }
   ],
   "source": [
    "# example of adding the function to a row\n",
    "stemer_tokenizer(Apple_tweets.iloc[100][\"tweet_text\"])"
   ]
  },
  {
   "cell_type": "markdown",
   "metadata": {},
   "source": [
    "We can notice that the text is split into steemed words."
   ]
  },
  {
   "cell_type": "markdown",
   "metadata": {},
   "source": [
    "We will apply the stemmer for each word in stopword list"
   ]
  },
  {
   "cell_type": "code",
   "execution_count": 64,
   "metadata": {},
   "outputs": [
    {
     "data": {
      "text/plain": [
       "['i',\n",
       " 'me',\n",
       " 'my',\n",
       " 'myself',\n",
       " 'we',\n",
       " 'our',\n",
       " 'our',\n",
       " 'ourselv',\n",
       " 'you',\n",
       " \"you'r\",\n",
       " \"you'v\",\n",
       " \"you'll\",\n",
       " \"you'd\",\n",
       " 'your',\n",
       " 'your',\n",
       " 'yourself',\n",
       " 'yourselv',\n",
       " 'he',\n",
       " 'him',\n",
       " 'his',\n",
       " 'himself',\n",
       " 'she',\n",
       " 'she',\n",
       " 'her',\n",
       " 'her',\n",
       " 'herself',\n",
       " 'it',\n",
       " 'it',\n",
       " 'it',\n",
       " 'itself',\n",
       " 'they',\n",
       " 'them',\n",
       " 'their',\n",
       " 'their',\n",
       " 'themselv',\n",
       " 'what',\n",
       " 'which',\n",
       " 'who',\n",
       " 'whom',\n",
       " 'this',\n",
       " 'that',\n",
       " \"that'll\",\n",
       " 'these',\n",
       " 'those',\n",
       " 'am',\n",
       " 'is',\n",
       " 'are',\n",
       " 'was',\n",
       " 'were',\n",
       " 'be',\n",
       " 'been',\n",
       " 'be',\n",
       " 'have',\n",
       " 'has',\n",
       " 'had',\n",
       " 'have',\n",
       " 'do',\n",
       " 'doe',\n",
       " 'did',\n",
       " 'do',\n",
       " 'a',\n",
       " 'an',\n",
       " 'the',\n",
       " 'and',\n",
       " 'but',\n",
       " 'if',\n",
       " 'or',\n",
       " 'becaus',\n",
       " 'as',\n",
       " 'until',\n",
       " 'while',\n",
       " 'of',\n",
       " 'at',\n",
       " 'by',\n",
       " 'for',\n",
       " 'with',\n",
       " 'about',\n",
       " 'against',\n",
       " 'between',\n",
       " 'into',\n",
       " 'through',\n",
       " 'dure',\n",
       " 'befor',\n",
       " 'after',\n",
       " 'abov',\n",
       " 'below',\n",
       " 'to',\n",
       " 'from',\n",
       " 'up',\n",
       " 'down',\n",
       " 'in',\n",
       " 'out',\n",
       " 'on',\n",
       " 'off',\n",
       " 'over',\n",
       " 'under',\n",
       " 'again',\n",
       " 'further',\n",
       " 'then',\n",
       " 'onc',\n",
       " 'here',\n",
       " 'there',\n",
       " 'when',\n",
       " 'where',\n",
       " 'whi',\n",
       " 'how',\n",
       " 'all',\n",
       " 'ani',\n",
       " 'both',\n",
       " 'each',\n",
       " 'few',\n",
       " 'more',\n",
       " 'most',\n",
       " 'other',\n",
       " 'some',\n",
       " 'such',\n",
       " 'no',\n",
       " 'nor',\n",
       " 'not',\n",
       " 'onli',\n",
       " 'own',\n",
       " 'same',\n",
       " 'so',\n",
       " 'than',\n",
       " 'too',\n",
       " 'veri',\n",
       " 's',\n",
       " 't',\n",
       " 'can',\n",
       " 'will',\n",
       " 'just',\n",
       " 'don',\n",
       " \"don't\",\n",
       " 'should',\n",
       " \"should'v\",\n",
       " 'now',\n",
       " 'd',\n",
       " 'll',\n",
       " 'm',\n",
       " 'o',\n",
       " 're',\n",
       " 've',\n",
       " 'y',\n",
       " 'ain',\n",
       " 'aren',\n",
       " \"aren't\",\n",
       " 'couldn',\n",
       " \"couldn't\",\n",
       " 'didn',\n",
       " \"didn't\",\n",
       " 'doesn',\n",
       " \"doesn't\",\n",
       " 'hadn',\n",
       " \"hadn't\",\n",
       " 'hasn',\n",
       " \"hasn't\",\n",
       " 'haven',\n",
       " \"haven't\",\n",
       " 'isn',\n",
       " \"isn't\",\n",
       " 'ma',\n",
       " 'mightn',\n",
       " \"mightn't\",\n",
       " 'mustn',\n",
       " \"mustn't\",\n",
       " 'needn',\n",
       " \"needn't\",\n",
       " 'shan',\n",
       " \"shan't\",\n",
       " 'shouldn',\n",
       " \"shouldn't\",\n",
       " 'wasn',\n",
       " \"wasn't\",\n",
       " 'weren',\n",
       " \"weren't\",\n",
       " 'won',\n",
       " \"won't\",\n",
       " 'wouldn',\n",
       " \"wouldn't\",\n",
       " '!',\n",
       " '\"',\n",
       " '#',\n",
       " '$',\n",
       " '%',\n",
       " '&',\n",
       " \"'\",\n",
       " '(',\n",
       " ')',\n",
       " '*',\n",
       " '+',\n",
       " ',',\n",
       " '-',\n",
       " '.',\n",
       " '/',\n",
       " ':',\n",
       " ';',\n",
       " '<',\n",
       " '=',\n",
       " '>',\n",
       " '?',\n",
       " '@',\n",
       " '[',\n",
       " '\\\\',\n",
       " ']',\n",
       " '^',\n",
       " '_',\n",
       " '`',\n",
       " '{',\n",
       " '|',\n",
       " '}',\n",
       " '~',\n",
       " '0',\n",
       " '1',\n",
       " '2',\n",
       " '3',\n",
       " '4',\n",
       " '5',\n",
       " '6',\n",
       " '7',\n",
       " '8',\n",
       " '9',\n",
       " 'sxsw',\n",
       " 'mention',\n",
       " 'link',\n",
       " 'rt',\n",
       " 'rt',\n",
       " 'via',\n",
       " 'yet',\n",
       " 'also',\n",
       " 'sxswi',\n",
       " 'say',\n",
       " 'might',\n",
       " 'could',\n",
       " 'think',\n",
       " ' swsx',\n",
       " 'swsx',\n",
       " 'wssxsw',\n",
       " '“',\n",
       " '”',\n",
       " '...',\n",
       " \"''\",\n",
       " '’',\n",
       " '``',\n",
       " '',\n",
       " '  ']"
      ]
     },
     "execution_count": 64,
     "metadata": {},
     "output_type": "execute_result"
    }
   ],
   "source": [
    "# apply the stemmer for each word in stopword list\n",
    "stemmed_stopwords = [stemmer.stem(word) for word in s_w]\n",
    "stemmed_stopwords"
   ]
  },
  {
   "cell_type": "markdown",
   "metadata": {},
   "source": [
    "Apply the function to the data frame."
   ]
  },
  {
   "cell_type": "code",
   "execution_count": 65,
   "metadata": {
    "scrolled": true
   },
   "outputs": [
    {
     "data": {
      "text/html": [
       "<div>\n",
       "<style scoped>\n",
       "    .dataframe tbody tr th:only-of-type {\n",
       "        vertical-align: middle;\n",
       "    }\n",
       "\n",
       "    .dataframe tbody tr th {\n",
       "        vertical-align: top;\n",
       "    }\n",
       "\n",
       "    .dataframe thead th {\n",
       "        text-align: right;\n",
       "    }\n",
       "</style>\n",
       "<table border=\"1\" class=\"dataframe\">\n",
       "  <thead>\n",
       "    <tr style=\"text-align: right;\">\n",
       "      <th></th>\n",
       "      <th>tweet_text</th>\n",
       "      <th>product</th>\n",
       "      <th>catogory</th>\n",
       "      <th>text_tokenized</th>\n",
       "      <th>text_without_stopwords</th>\n",
       "      <th>text_steemed</th>\n",
       "    </tr>\n",
       "  </thead>\n",
       "  <tbody>\n",
       "    <tr>\n",
       "      <th>0</th>\n",
       "      <td>.@wesley83 i have a 3g iphone. after 3 hrs tweeting at #rise_austin, it was dead!  i need to upgrade. plugin stations at #sxsw.</td>\n",
       "      <td>Apple</td>\n",
       "      <td>0</td>\n",
       "      <td>[wesley83, have, 3g, iphone, after, hrs, tweeting, at, rise_austin, it, was, dead, need, to, upgrade, plugin, stations, at, sxsw]</td>\n",
       "      <td>[wesley83, 3g, iphone, hrs, tweeting, rise_austin, dead, need, upgrade, plugin, stations]</td>\n",
       "      <td>[wesley83, 3g, iphon, hrs, tweet, rise_austin, dead, need, upgrad, plugin, station]</td>\n",
       "    </tr>\n",
       "    <tr>\n",
       "      <th>1</th>\n",
       "      <td>@jessedee know about @fludapp ? awesome ipad/iphone app that you'll likely appreciate for its design. also, they're giving free ts at #sxsw</td>\n",
       "      <td>Apple</td>\n",
       "      <td>2</td>\n",
       "      <td>[jessedee, know, about, fludapp, awesome, ipad, iphone, app, that, you, ll, likely, appreciate, for, its, design, also, they, re, giving, free, ts, at, sxsw]</td>\n",
       "      <td>[jessedee, know, fludapp, awesome, ipad, iphone, app, likely, appreciate, design, giving, free, ts]</td>\n",
       "      <td>[jessede, know, fludapp, awesom, ipad, iphon, app, like, appreci, design, give, free, ts]</td>\n",
       "    </tr>\n",
       "    <tr>\n",
       "      <th>2</th>\n",
       "      <td>@swonderlin can not wait for #ipad 2 also. they should sale them down at #sxsw.</td>\n",
       "      <td>Apple</td>\n",
       "      <td>2</td>\n",
       "      <td>[swonderlin, can, not, wait, for, ipad, also, they, should, sale, them, down, at, sxsw]</td>\n",
       "      <td>[swonderlin, wait, ipad, sale]</td>\n",
       "      <td>[swonderlin, wait, ipad, sale]</td>\n",
       "    </tr>\n",
       "    <tr>\n",
       "      <th>3</th>\n",
       "      <td>@sxsw i hope this year's festival isn't as crashy as this year's iphone app. #sxsw</td>\n",
       "      <td>Apple</td>\n",
       "      <td>0</td>\n",
       "      <td>[sxsw, hope, this, year, festival, isn, as, crashy, as, this, year, iphone, app, sxsw]</td>\n",
       "      <td>[hope, year, festival, crashy, year, iphone, app]</td>\n",
       "      <td>[hope, year, festiv, crashi, year, iphon, app]</td>\n",
       "    </tr>\n",
       "    <tr>\n",
       "      <th>8</th>\n",
       "      <td>beautifully smart and simple idea rt @madebymany @thenextweb wrote about our #hollergram ipad app for #sxsw!</td>\n",
       "      <td>Apple</td>\n",
       "      <td>2</td>\n",
       "      <td>[beautifully, smart, and, simple, idea, rt, madebymany, thenextweb, wrote, about, our, hollergram, ipad, app, for, sxsw]</td>\n",
       "      <td>[beautifully, smart, simple, idea, madebymany, thenextweb, wrote, hollergram, ipad, app]</td>\n",
       "      <td>[beauti, smart, simpl, idea, madebymani, thenextweb, wrote, hollergram, ipad, app]</td>\n",
       "    </tr>\n",
       "    <tr>\n",
       "      <th>...</th>\n",
       "      <td>...</td>\n",
       "      <td>...</td>\n",
       "      <td>...</td>\n",
       "      <td>...</td>\n",
       "      <td>...</td>\n",
       "      <td>...</td>\n",
       "    </tr>\n",
       "    <tr>\n",
       "      <th>9072</th>\n",
       "      <td>@mention your iphone 4 cases are rad and ready! stop by tomorrow to get them! #sxsw #zazzlesxsw #sxswi {link}</td>\n",
       "      <td>Apple</td>\n",
       "      <td>2</td>\n",
       "      <td>[mention, your, iphone, cases, are, rad, and, ready, stop, by, tomorrow, to, get, them, sxsw, zazzlesxsw, sxswi, link]</td>\n",
       "      <td>[iphone, cases, rad, ready, stop, tomorrow, get, zazzlesxsw]</td>\n",
       "      <td>[iphon, case, rad, readi, stop, tomorrow, get, zazzlesxsw]</td>\n",
       "    </tr>\n",
       "    <tr>\n",
       "      <th>9077</th>\n",
       "      <td>@mention your pr guy just convinced me to switch back to iphone. great #sxsw coverage. #princess</td>\n",
       "      <td>Apple</td>\n",
       "      <td>2</td>\n",
       "      <td>[mention, your, pr, guy, just, convinced, me, to, switch, back, to, iphone, great, sxsw, coverage, princess]</td>\n",
       "      <td>[pr, guy, convinced, switch, back, iphone, great, coverage, princess]</td>\n",
       "      <td>[pr, guy, convinc, switch, back, iphon, great, coverag, princess]</td>\n",
       "    </tr>\n",
       "    <tr>\n",
       "      <th>9079</th>\n",
       "      <td>papyrus...sort of like the ipad - nice! lol! #sxsw lavelle</td>\n",
       "      <td>Apple</td>\n",
       "      <td>2</td>\n",
       "      <td>[papyrus, sort, of, like, the, ipad, nice, lol, sxsw, lavelle]</td>\n",
       "      <td>[papyrus, sort, like, ipad, nice, lol, lavelle]</td>\n",
       "      <td>[papyrus, sort, like, ipad, nice, lol, lavell]</td>\n",
       "    </tr>\n",
       "    <tr>\n",
       "      <th>9085</th>\n",
       "      <td>i've always used camera+ for my iphone b/c it has an image stabilizer mode. suggestions for an ipad cam app w/ same feature? #sxsw #sxswi</td>\n",
       "      <td>Apple</td>\n",
       "      <td>2</td>\n",
       "      <td>[ve, always, used, camera, for, my, iphone, it, has, an, image, stabilizer, mode, suggestions, for, an, ipad, cam, app, same, feature, sxsw, sxswi]</td>\n",
       "      <td>[always, used, camera, iphone, image, stabilizer, mode, suggestions, ipad, cam, app, feature]</td>\n",
       "      <td>[alway, use, camera, iphon, imag, stabil, mode, suggest, ipad, cam, app, featur]</td>\n",
       "    </tr>\n",
       "    <tr>\n",
       "      <th>9088</th>\n",
       "      <td>ipad everywhere. #sxsw {link}</td>\n",
       "      <td>Apple</td>\n",
       "      <td>2</td>\n",
       "      <td>[ipad, everywhere, sxsw, link]</td>\n",
       "      <td>[ipad, everywhere]</td>\n",
       "      <td>[ipad, everywher]</td>\n",
       "    </tr>\n",
       "  </tbody>\n",
       "</table>\n",
       "<p>2397 rows × 6 columns</p>\n",
       "</div>"
      ],
      "text/plain": [
       "                                                                                                                                       tweet_text  \\\n",
       "0                 .@wesley83 i have a 3g iphone. after 3 hrs tweeting at #rise_austin, it was dead!  i need to upgrade. plugin stations at #sxsw.   \n",
       "1     @jessedee know about @fludapp ? awesome ipad/iphone app that you'll likely appreciate for its design. also, they're giving free ts at #sxsw   \n",
       "2                                                                 @swonderlin can not wait for #ipad 2 also. they should sale them down at #sxsw.   \n",
       "3                                                              @sxsw i hope this year's festival isn't as crashy as this year's iphone app. #sxsw   \n",
       "8                                   beautifully smart and simple idea rt @madebymany @thenextweb wrote about our #hollergram ipad app for #sxsw!    \n",
       "...                                                                                                                                           ...   \n",
       "9072                                @mention your iphone 4 cases are rad and ready! stop by tomorrow to get them! #sxsw #zazzlesxsw #sxswi {link}   \n",
       "9077                                             @mention your pr guy just convinced me to switch back to iphone. great #sxsw coverage. #princess   \n",
       "9079                                                                                   papyrus...sort of like the ipad - nice! lol! #sxsw lavelle   \n",
       "9085    i've always used camera+ for my iphone b/c it has an image stabilizer mode. suggestions for an ipad cam app w/ same feature? #sxsw #sxswi   \n",
       "9088                                                                                                                ipad everywhere. #sxsw {link}   \n",
       "\n",
       "     product  catogory  \\\n",
       "0      Apple         0   \n",
       "1      Apple         2   \n",
       "2      Apple         2   \n",
       "3      Apple         0   \n",
       "8      Apple         2   \n",
       "...      ...       ...   \n",
       "9072   Apple         2   \n",
       "9077   Apple         2   \n",
       "9079   Apple         2   \n",
       "9085   Apple         2   \n",
       "9088   Apple         2   \n",
       "\n",
       "                                                                                                                                                     text_tokenized  \\\n",
       "0                                 [wesley83, have, 3g, iphone, after, hrs, tweeting, at, rise_austin, it, was, dead, need, to, upgrade, plugin, stations, at, sxsw]   \n",
       "1     [jessedee, know, about, fludapp, awesome, ipad, iphone, app, that, you, ll, likely, appreciate, for, its, design, also, they, re, giving, free, ts, at, sxsw]   \n",
       "2                                                                           [swonderlin, can, not, wait, for, ipad, also, they, should, sale, them, down, at, sxsw]   \n",
       "3                                                                            [sxsw, hope, this, year, festival, isn, as, crashy, as, this, year, iphone, app, sxsw]   \n",
       "8                                          [beautifully, smart, and, simple, idea, rt, madebymany, thenextweb, wrote, about, our, hollergram, ipad, app, for, sxsw]   \n",
       "...                                                                                                                                                             ...   \n",
       "9072                                         [mention, your, iphone, cases, are, rad, and, ready, stop, by, tomorrow, to, get, them, sxsw, zazzlesxsw, sxswi, link]   \n",
       "9077                                                   [mention, your, pr, guy, just, convinced, me, to, switch, back, to, iphone, great, sxsw, coverage, princess]   \n",
       "9079                                                                                                 [papyrus, sort, of, like, the, ipad, nice, lol, sxsw, lavelle]   \n",
       "9085            [ve, always, used, camera, for, my, iphone, it, has, an, image, stabilizer, mode, suggestions, for, an, ipad, cam, app, same, feature, sxsw, sxswi]   \n",
       "9088                                                                                                                                 [ipad, everywhere, sxsw, link]   \n",
       "\n",
       "                                                                                   text_without_stopwords  \\\n",
       "0               [wesley83, 3g, iphone, hrs, tweeting, rise_austin, dead, need, upgrade, plugin, stations]   \n",
       "1     [jessedee, know, fludapp, awesome, ipad, iphone, app, likely, appreciate, design, giving, free, ts]   \n",
       "2                                                                          [swonderlin, wait, ipad, sale]   \n",
       "3                                                       [hope, year, festival, crashy, year, iphone, app]   \n",
       "8                [beautifully, smart, simple, idea, madebymany, thenextweb, wrote, hollergram, ipad, app]   \n",
       "...                                                                                                   ...   \n",
       "9072                                         [iphone, cases, rad, ready, stop, tomorrow, get, zazzlesxsw]   \n",
       "9077                                [pr, guy, convinced, switch, back, iphone, great, coverage, princess]   \n",
       "9079                                                      [papyrus, sort, like, ipad, nice, lol, lavelle]   \n",
       "9085        [always, used, camera, iphone, image, stabilizer, mode, suggestions, ipad, cam, app, feature]   \n",
       "9088                                                                                   [ipad, everywhere]   \n",
       "\n",
       "                                                                                   text_steemed  \n",
       "0           [wesley83, 3g, iphon, hrs, tweet, rise_austin, dead, need, upgrad, plugin, station]  \n",
       "1     [jessede, know, fludapp, awesom, ipad, iphon, app, like, appreci, design, give, free, ts]  \n",
       "2                                                                [swonderlin, wait, ipad, sale]  \n",
       "3                                                [hope, year, festiv, crashi, year, iphon, app]  \n",
       "8            [beauti, smart, simpl, idea, madebymani, thenextweb, wrote, hollergram, ipad, app]  \n",
       "...                                                                                         ...  \n",
       "9072                                 [iphon, case, rad, readi, stop, tomorrow, get, zazzlesxsw]  \n",
       "9077                          [pr, guy, convinc, switch, back, iphon, great, coverag, princess]  \n",
       "9079                                             [papyrus, sort, like, ipad, nice, lol, lavell]  \n",
       "9085           [alway, use, camera, iphon, imag, stabil, mode, suggest, ipad, cam, app, featur]  \n",
       "9088                                                                          [ipad, everywher]  \n",
       "\n",
       "[2397 rows x 6 columns]"
      ]
     },
     "execution_count": 65,
     "metadata": {},
     "output_type": "execute_result"
    }
   ],
   "source": [
    "# apply the stemmer_tokenizer to the text on data frame\n",
    "Apple_tweets[\"text_steemed\"] = Apple_tweets[\"text_without_stopwords\"].apply(stemer_tokenizer)\n",
    "Apple_tweets"
   ]
  },
  {
   "cell_type": "markdown",
   "metadata": {},
   "source": [
    "#### 5-lemmatizer\n",
    "\n",
    "Lemmatization:It stems the word but makes sure that it does not lose its meaning. Lemmatization has a pre-defined dictionary that stores the context of words and checks the word in the dictionary while diminishing."
   ]
  },
  {
   "cell_type": "code",
   "execution_count": 66,
   "metadata": {},
   "outputs": [],
   "source": [
    "#Import WordNetLemmatizer class\n",
    "from nltk.stem import WordNetLemmatizer\n",
    "# Instantiate a lemmatizer\n",
    "lemmatizer = WordNetLemmatizer()"
   ]
  },
  {
   "cell_type": "markdown",
   "metadata": {},
   "source": [
    "Create a function to tokenize and lemmatize words."
   ]
  },
  {
   "cell_type": "code",
   "execution_count": 67,
   "metadata": {},
   "outputs": [],
   "source": [
    "def token_lemmatizer(document):\n",
    "    \"\"\"\n",
    "    Given a text and return a tokenized and lemmatize words \"\"\"\n",
    " \n",
    "    tokens = tokenizer.tokenize(str(document))\n",
    "    return[lemmatizer.lemmatize(token) for token in tokens]\n",
    "    "
   ]
  },
  {
   "cell_type": "markdown",
   "metadata": {},
   "source": [
    "Lemmatize the stopwords list"
   ]
  },
  {
   "cell_type": "code",
   "execution_count": 68,
   "metadata": {
    "scrolled": true
   },
   "outputs": [
    {
     "data": {
      "text/plain": [
       "['i',\n",
       " 'me',\n",
       " 'my',\n",
       " 'myself',\n",
       " 'we',\n",
       " 'our',\n",
       " 'ours',\n",
       " 'ourselves',\n",
       " 'you',\n",
       " \"you're\",\n",
       " \"you've\",\n",
       " \"you'll\",\n",
       " \"you'd\",\n",
       " 'your',\n",
       " 'yours',\n",
       " 'yourself',\n",
       " 'yourselves',\n",
       " 'he',\n",
       " 'him',\n",
       " 'his',\n",
       " 'himself',\n",
       " 'she',\n",
       " \"she's\",\n",
       " 'her',\n",
       " 'hers',\n",
       " 'herself',\n",
       " 'it',\n",
       " \"it's\",\n",
       " 'it',\n",
       " 'itself',\n",
       " 'they',\n",
       " 'them',\n",
       " 'their',\n",
       " 'theirs',\n",
       " 'themselves',\n",
       " 'what',\n",
       " 'which',\n",
       " 'who',\n",
       " 'whom',\n",
       " 'this',\n",
       " 'that',\n",
       " \"that'll\",\n",
       " 'these',\n",
       " 'those',\n",
       " 'am',\n",
       " 'is',\n",
       " 'are',\n",
       " 'wa',\n",
       " 'were',\n",
       " 'be',\n",
       " 'been',\n",
       " 'being',\n",
       " 'have',\n",
       " 'ha',\n",
       " 'had',\n",
       " 'having',\n",
       " 'do',\n",
       " 'doe',\n",
       " 'did',\n",
       " 'doing',\n",
       " 'a',\n",
       " 'an',\n",
       " 'the',\n",
       " 'and',\n",
       " 'but',\n",
       " 'if',\n",
       " 'or',\n",
       " 'because',\n",
       " 'a',\n",
       " 'until',\n",
       " 'while',\n",
       " 'of',\n",
       " 'at',\n",
       " 'by',\n",
       " 'for',\n",
       " 'with',\n",
       " 'about',\n",
       " 'against',\n",
       " 'between',\n",
       " 'into',\n",
       " 'through',\n",
       " 'during',\n",
       " 'before',\n",
       " 'after',\n",
       " 'above',\n",
       " 'below',\n",
       " 'to',\n",
       " 'from',\n",
       " 'up',\n",
       " 'down',\n",
       " 'in',\n",
       " 'out',\n",
       " 'on',\n",
       " 'off',\n",
       " 'over',\n",
       " 'under',\n",
       " 'again',\n",
       " 'further',\n",
       " 'then',\n",
       " 'once',\n",
       " 'here',\n",
       " 'there',\n",
       " 'when',\n",
       " 'where',\n",
       " 'why',\n",
       " 'how',\n",
       " 'all',\n",
       " 'any',\n",
       " 'both',\n",
       " 'each',\n",
       " 'few',\n",
       " 'more',\n",
       " 'most',\n",
       " 'other',\n",
       " 'some',\n",
       " 'such',\n",
       " 'no',\n",
       " 'nor',\n",
       " 'not',\n",
       " 'only',\n",
       " 'own',\n",
       " 'same',\n",
       " 'so',\n",
       " 'than',\n",
       " 'too',\n",
       " 'very',\n",
       " 's',\n",
       " 't',\n",
       " 'can',\n",
       " 'will',\n",
       " 'just',\n",
       " 'don',\n",
       " \"don't\",\n",
       " 'should',\n",
       " \"should've\",\n",
       " 'now',\n",
       " 'd',\n",
       " 'll',\n",
       " 'm',\n",
       " 'o',\n",
       " 're',\n",
       " 've',\n",
       " 'y',\n",
       " 'ain',\n",
       " 'aren',\n",
       " \"aren't\",\n",
       " 'couldn',\n",
       " \"couldn't\",\n",
       " 'didn',\n",
       " \"didn't\",\n",
       " 'doesn',\n",
       " \"doesn't\",\n",
       " 'hadn',\n",
       " \"hadn't\",\n",
       " 'hasn',\n",
       " \"hasn't\",\n",
       " 'haven',\n",
       " \"haven't\",\n",
       " 'isn',\n",
       " \"isn't\",\n",
       " 'ma',\n",
       " 'mightn',\n",
       " \"mightn't\",\n",
       " 'mustn',\n",
       " \"mustn't\",\n",
       " 'needn',\n",
       " \"needn't\",\n",
       " 'shan',\n",
       " \"shan't\",\n",
       " 'shouldn',\n",
       " \"shouldn't\",\n",
       " 'wasn',\n",
       " \"wasn't\",\n",
       " 'weren',\n",
       " \"weren't\",\n",
       " 'won',\n",
       " \"won't\",\n",
       " 'wouldn',\n",
       " \"wouldn't\",\n",
       " '!',\n",
       " '\"',\n",
       " '#',\n",
       " '$',\n",
       " '%',\n",
       " '&',\n",
       " \"'\",\n",
       " '(',\n",
       " ')',\n",
       " '*',\n",
       " '+',\n",
       " ',',\n",
       " '-',\n",
       " '.',\n",
       " '/',\n",
       " ':',\n",
       " ';',\n",
       " '<',\n",
       " '=',\n",
       " '>',\n",
       " '?',\n",
       " '@',\n",
       " '[',\n",
       " '\\\\',\n",
       " ']',\n",
       " '^',\n",
       " '_',\n",
       " '`',\n",
       " '{',\n",
       " '|',\n",
       " '}',\n",
       " '~',\n",
       " '0',\n",
       " '1',\n",
       " '2',\n",
       " '3',\n",
       " '4',\n",
       " '5',\n",
       " '6',\n",
       " '7',\n",
       " '8',\n",
       " '9',\n",
       " 'sxsw',\n",
       " 'mention',\n",
       " 'link',\n",
       " 'rt',\n",
       " 'RT',\n",
       " 'via',\n",
       " 'yet',\n",
       " 'also',\n",
       " 'sxswi',\n",
       " 'say',\n",
       " 'might',\n",
       " 'could',\n",
       " 'think',\n",
       " ' swsx',\n",
       " 'swsx',\n",
       " 'wssxsw',\n",
       " '“',\n",
       " '”',\n",
       " '...',\n",
       " \"''\",\n",
       " '’',\n",
       " '``',\n",
       " '',\n",
       " '  ']"
      ]
     },
     "execution_count": 68,
     "metadata": {},
     "output_type": "execute_result"
    }
   ],
   "source": [
    "# Apply the lemmatizer for each word in stopword list\n",
    "lemmatized_stopwords = [lemmatizer.lemmatize(word) for word in s_w]\n",
    "lemmatized_stopwords"
   ]
  },
  {
   "cell_type": "markdown",
   "metadata": {},
   "source": [
    "Apply the lemmatizer to the full data frame."
   ]
  },
  {
   "cell_type": "code",
   "execution_count": 69,
   "metadata": {
    "scrolled": true
   },
   "outputs": [
    {
     "data": {
      "text/html": [
       "<div>\n",
       "<style scoped>\n",
       "    .dataframe tbody tr th:only-of-type {\n",
       "        vertical-align: middle;\n",
       "    }\n",
       "\n",
       "    .dataframe tbody tr th {\n",
       "        vertical-align: top;\n",
       "    }\n",
       "\n",
       "    .dataframe thead th {\n",
       "        text-align: right;\n",
       "    }\n",
       "</style>\n",
       "<table border=\"1\" class=\"dataframe\">\n",
       "  <thead>\n",
       "    <tr style=\"text-align: right;\">\n",
       "      <th></th>\n",
       "      <th>tweet_text</th>\n",
       "      <th>product</th>\n",
       "      <th>catogory</th>\n",
       "      <th>text_tokenized</th>\n",
       "      <th>text_without_stopwords</th>\n",
       "      <th>text_steemed</th>\n",
       "      <th>text_lemmatized</th>\n",
       "    </tr>\n",
       "  </thead>\n",
       "  <tbody>\n",
       "    <tr>\n",
       "      <th>0</th>\n",
       "      <td>.@wesley83 i have a 3g iphone. after 3 hrs tweeting at #rise_austin, it was dead!  i need to upgrade. plugin stations at #sxsw.</td>\n",
       "      <td>Apple</td>\n",
       "      <td>0</td>\n",
       "      <td>[wesley83, have, 3g, iphone, after, hrs, tweeting, at, rise_austin, it, was, dead, need, to, upgrade, plugin, stations, at, sxsw]</td>\n",
       "      <td>[wesley83, 3g, iphone, hrs, tweeting, rise_austin, dead, need, upgrade, plugin, stations]</td>\n",
       "      <td>[wesley83, 3g, iphon, hrs, tweet, rise_austin, dead, need, upgrad, plugin, station]</td>\n",
       "      <td>[wesley83, 3g, iphone, hr, tweeting, rise_austin, dead, need, upgrade, plugin, station]</td>\n",
       "    </tr>\n",
       "    <tr>\n",
       "      <th>1</th>\n",
       "      <td>@jessedee know about @fludapp ? awesome ipad/iphone app that you'll likely appreciate for its design. also, they're giving free ts at #sxsw</td>\n",
       "      <td>Apple</td>\n",
       "      <td>2</td>\n",
       "      <td>[jessedee, know, about, fludapp, awesome, ipad, iphone, app, that, you, ll, likely, appreciate, for, its, design, also, they, re, giving, free, ts, at, sxsw]</td>\n",
       "      <td>[jessedee, know, fludapp, awesome, ipad, iphone, app, likely, appreciate, design, giving, free, ts]</td>\n",
       "      <td>[jessede, know, fludapp, awesom, ipad, iphon, app, like, appreci, design, give, free, ts]</td>\n",
       "      <td>[jessedee, know, fludapp, awesome, ipad, iphone, app, likely, appreciate, design, giving, free, t]</td>\n",
       "    </tr>\n",
       "    <tr>\n",
       "      <th>2</th>\n",
       "      <td>@swonderlin can not wait for #ipad 2 also. they should sale them down at #sxsw.</td>\n",
       "      <td>Apple</td>\n",
       "      <td>2</td>\n",
       "      <td>[swonderlin, can, not, wait, for, ipad, also, they, should, sale, them, down, at, sxsw]</td>\n",
       "      <td>[swonderlin, wait, ipad, sale]</td>\n",
       "      <td>[swonderlin, wait, ipad, sale]</td>\n",
       "      <td>[swonderlin, wait, ipad, sale]</td>\n",
       "    </tr>\n",
       "    <tr>\n",
       "      <th>3</th>\n",
       "      <td>@sxsw i hope this year's festival isn't as crashy as this year's iphone app. #sxsw</td>\n",
       "      <td>Apple</td>\n",
       "      <td>0</td>\n",
       "      <td>[sxsw, hope, this, year, festival, isn, as, crashy, as, this, year, iphone, app, sxsw]</td>\n",
       "      <td>[hope, year, festival, crashy, year, iphone, app]</td>\n",
       "      <td>[hope, year, festiv, crashi, year, iphon, app]</td>\n",
       "      <td>[hope, year, festival, crashy, year, iphone, app]</td>\n",
       "    </tr>\n",
       "    <tr>\n",
       "      <th>8</th>\n",
       "      <td>beautifully smart and simple idea rt @madebymany @thenextweb wrote about our #hollergram ipad app for #sxsw!</td>\n",
       "      <td>Apple</td>\n",
       "      <td>2</td>\n",
       "      <td>[beautifully, smart, and, simple, idea, rt, madebymany, thenextweb, wrote, about, our, hollergram, ipad, app, for, sxsw]</td>\n",
       "      <td>[beautifully, smart, simple, idea, madebymany, thenextweb, wrote, hollergram, ipad, app]</td>\n",
       "      <td>[beauti, smart, simpl, idea, madebymani, thenextweb, wrote, hollergram, ipad, app]</td>\n",
       "      <td>[beautifully, smart, simple, idea, madebymany, thenextweb, wrote, hollergram, ipad, app]</td>\n",
       "    </tr>\n",
       "    <tr>\n",
       "      <th>...</th>\n",
       "      <td>...</td>\n",
       "      <td>...</td>\n",
       "      <td>...</td>\n",
       "      <td>...</td>\n",
       "      <td>...</td>\n",
       "      <td>...</td>\n",
       "      <td>...</td>\n",
       "    </tr>\n",
       "    <tr>\n",
       "      <th>9072</th>\n",
       "      <td>@mention your iphone 4 cases are rad and ready! stop by tomorrow to get them! #sxsw #zazzlesxsw #sxswi {link}</td>\n",
       "      <td>Apple</td>\n",
       "      <td>2</td>\n",
       "      <td>[mention, your, iphone, cases, are, rad, and, ready, stop, by, tomorrow, to, get, them, sxsw, zazzlesxsw, sxswi, link]</td>\n",
       "      <td>[iphone, cases, rad, ready, stop, tomorrow, get, zazzlesxsw]</td>\n",
       "      <td>[iphon, case, rad, readi, stop, tomorrow, get, zazzlesxsw]</td>\n",
       "      <td>[iphone, case, rad, ready, stop, tomorrow, get, zazzlesxsw]</td>\n",
       "    </tr>\n",
       "    <tr>\n",
       "      <th>9077</th>\n",
       "      <td>@mention your pr guy just convinced me to switch back to iphone. great #sxsw coverage. #princess</td>\n",
       "      <td>Apple</td>\n",
       "      <td>2</td>\n",
       "      <td>[mention, your, pr, guy, just, convinced, me, to, switch, back, to, iphone, great, sxsw, coverage, princess]</td>\n",
       "      <td>[pr, guy, convinced, switch, back, iphone, great, coverage, princess]</td>\n",
       "      <td>[pr, guy, convinc, switch, back, iphon, great, coverag, princess]</td>\n",
       "      <td>[pr, guy, convinced, switch, back, iphone, great, coverage, princess]</td>\n",
       "    </tr>\n",
       "    <tr>\n",
       "      <th>9079</th>\n",
       "      <td>papyrus...sort of like the ipad - nice! lol! #sxsw lavelle</td>\n",
       "      <td>Apple</td>\n",
       "      <td>2</td>\n",
       "      <td>[papyrus, sort, of, like, the, ipad, nice, lol, sxsw, lavelle]</td>\n",
       "      <td>[papyrus, sort, like, ipad, nice, lol, lavelle]</td>\n",
       "      <td>[papyrus, sort, like, ipad, nice, lol, lavell]</td>\n",
       "      <td>[papyrus, sort, like, ipad, nice, lol, lavelle]</td>\n",
       "    </tr>\n",
       "    <tr>\n",
       "      <th>9085</th>\n",
       "      <td>i've always used camera+ for my iphone b/c it has an image stabilizer mode. suggestions for an ipad cam app w/ same feature? #sxsw #sxswi</td>\n",
       "      <td>Apple</td>\n",
       "      <td>2</td>\n",
       "      <td>[ve, always, used, camera, for, my, iphone, it, has, an, image, stabilizer, mode, suggestions, for, an, ipad, cam, app, same, feature, sxsw, sxswi]</td>\n",
       "      <td>[always, used, camera, iphone, image, stabilizer, mode, suggestions, ipad, cam, app, feature]</td>\n",
       "      <td>[alway, use, camera, iphon, imag, stabil, mode, suggest, ipad, cam, app, featur]</td>\n",
       "      <td>[always, used, camera, iphone, image, stabilizer, mode, suggestion, ipad, cam, app, feature]</td>\n",
       "    </tr>\n",
       "    <tr>\n",
       "      <th>9088</th>\n",
       "      <td>ipad everywhere. #sxsw {link}</td>\n",
       "      <td>Apple</td>\n",
       "      <td>2</td>\n",
       "      <td>[ipad, everywhere, sxsw, link]</td>\n",
       "      <td>[ipad, everywhere]</td>\n",
       "      <td>[ipad, everywher]</td>\n",
       "      <td>[ipad, everywhere]</td>\n",
       "    </tr>\n",
       "  </tbody>\n",
       "</table>\n",
       "<p>2397 rows × 7 columns</p>\n",
       "</div>"
      ],
      "text/plain": [
       "                                                                                                                                       tweet_text  \\\n",
       "0                 .@wesley83 i have a 3g iphone. after 3 hrs tweeting at #rise_austin, it was dead!  i need to upgrade. plugin stations at #sxsw.   \n",
       "1     @jessedee know about @fludapp ? awesome ipad/iphone app that you'll likely appreciate for its design. also, they're giving free ts at #sxsw   \n",
       "2                                                                 @swonderlin can not wait for #ipad 2 also. they should sale them down at #sxsw.   \n",
       "3                                                              @sxsw i hope this year's festival isn't as crashy as this year's iphone app. #sxsw   \n",
       "8                                   beautifully smart and simple idea rt @madebymany @thenextweb wrote about our #hollergram ipad app for #sxsw!    \n",
       "...                                                                                                                                           ...   \n",
       "9072                                @mention your iphone 4 cases are rad and ready! stop by tomorrow to get them! #sxsw #zazzlesxsw #sxswi {link}   \n",
       "9077                                             @mention your pr guy just convinced me to switch back to iphone. great #sxsw coverage. #princess   \n",
       "9079                                                                                   papyrus...sort of like the ipad - nice! lol! #sxsw lavelle   \n",
       "9085    i've always used camera+ for my iphone b/c it has an image stabilizer mode. suggestions for an ipad cam app w/ same feature? #sxsw #sxswi   \n",
       "9088                                                                                                                ipad everywhere. #sxsw {link}   \n",
       "\n",
       "     product  catogory  \\\n",
       "0      Apple         0   \n",
       "1      Apple         2   \n",
       "2      Apple         2   \n",
       "3      Apple         0   \n",
       "8      Apple         2   \n",
       "...      ...       ...   \n",
       "9072   Apple         2   \n",
       "9077   Apple         2   \n",
       "9079   Apple         2   \n",
       "9085   Apple         2   \n",
       "9088   Apple         2   \n",
       "\n",
       "                                                                                                                                                     text_tokenized  \\\n",
       "0                                 [wesley83, have, 3g, iphone, after, hrs, tweeting, at, rise_austin, it, was, dead, need, to, upgrade, plugin, stations, at, sxsw]   \n",
       "1     [jessedee, know, about, fludapp, awesome, ipad, iphone, app, that, you, ll, likely, appreciate, for, its, design, also, they, re, giving, free, ts, at, sxsw]   \n",
       "2                                                                           [swonderlin, can, not, wait, for, ipad, also, they, should, sale, them, down, at, sxsw]   \n",
       "3                                                                            [sxsw, hope, this, year, festival, isn, as, crashy, as, this, year, iphone, app, sxsw]   \n",
       "8                                          [beautifully, smart, and, simple, idea, rt, madebymany, thenextweb, wrote, about, our, hollergram, ipad, app, for, sxsw]   \n",
       "...                                                                                                                                                             ...   \n",
       "9072                                         [mention, your, iphone, cases, are, rad, and, ready, stop, by, tomorrow, to, get, them, sxsw, zazzlesxsw, sxswi, link]   \n",
       "9077                                                   [mention, your, pr, guy, just, convinced, me, to, switch, back, to, iphone, great, sxsw, coverage, princess]   \n",
       "9079                                                                                                 [papyrus, sort, of, like, the, ipad, nice, lol, sxsw, lavelle]   \n",
       "9085            [ve, always, used, camera, for, my, iphone, it, has, an, image, stabilizer, mode, suggestions, for, an, ipad, cam, app, same, feature, sxsw, sxswi]   \n",
       "9088                                                                                                                                 [ipad, everywhere, sxsw, link]   \n",
       "\n",
       "                                                                                   text_without_stopwords  \\\n",
       "0               [wesley83, 3g, iphone, hrs, tweeting, rise_austin, dead, need, upgrade, plugin, stations]   \n",
       "1     [jessedee, know, fludapp, awesome, ipad, iphone, app, likely, appreciate, design, giving, free, ts]   \n",
       "2                                                                          [swonderlin, wait, ipad, sale]   \n",
       "3                                                       [hope, year, festival, crashy, year, iphone, app]   \n",
       "8                [beautifully, smart, simple, idea, madebymany, thenextweb, wrote, hollergram, ipad, app]   \n",
       "...                                                                                                   ...   \n",
       "9072                                         [iphone, cases, rad, ready, stop, tomorrow, get, zazzlesxsw]   \n",
       "9077                                [pr, guy, convinced, switch, back, iphone, great, coverage, princess]   \n",
       "9079                                                      [papyrus, sort, like, ipad, nice, lol, lavelle]   \n",
       "9085        [always, used, camera, iphone, image, stabilizer, mode, suggestions, ipad, cam, app, feature]   \n",
       "9088                                                                                   [ipad, everywhere]   \n",
       "\n",
       "                                                                                   text_steemed  \\\n",
       "0           [wesley83, 3g, iphon, hrs, tweet, rise_austin, dead, need, upgrad, plugin, station]   \n",
       "1     [jessede, know, fludapp, awesom, ipad, iphon, app, like, appreci, design, give, free, ts]   \n",
       "2                                                                [swonderlin, wait, ipad, sale]   \n",
       "3                                                [hope, year, festiv, crashi, year, iphon, app]   \n",
       "8            [beauti, smart, simpl, idea, madebymani, thenextweb, wrote, hollergram, ipad, app]   \n",
       "...                                                                                         ...   \n",
       "9072                                 [iphon, case, rad, readi, stop, tomorrow, get, zazzlesxsw]   \n",
       "9077                          [pr, guy, convinc, switch, back, iphon, great, coverag, princess]   \n",
       "9079                                             [papyrus, sort, like, ipad, nice, lol, lavell]   \n",
       "9085           [alway, use, camera, iphon, imag, stabil, mode, suggest, ipad, cam, app, featur]   \n",
       "9088                                                                          [ipad, everywher]   \n",
       "\n",
       "                                                                                         text_lemmatized  \n",
       "0                [wesley83, 3g, iphone, hr, tweeting, rise_austin, dead, need, upgrade, plugin, station]  \n",
       "1     [jessedee, know, fludapp, awesome, ipad, iphone, app, likely, appreciate, design, giving, free, t]  \n",
       "2                                                                         [swonderlin, wait, ipad, sale]  \n",
       "3                                                      [hope, year, festival, crashy, year, iphone, app]  \n",
       "8               [beautifully, smart, simple, idea, madebymany, thenextweb, wrote, hollergram, ipad, app]  \n",
       "...                                                                                                  ...  \n",
       "9072                                         [iphone, case, rad, ready, stop, tomorrow, get, zazzlesxsw]  \n",
       "9077                               [pr, guy, convinced, switch, back, iphone, great, coverage, princess]  \n",
       "9079                                                     [papyrus, sort, like, ipad, nice, lol, lavelle]  \n",
       "9085        [always, used, camera, iphone, image, stabilizer, mode, suggestion, ipad, cam, app, feature]  \n",
       "9088                                                                                  [ipad, everywhere]  \n",
       "\n",
       "[2397 rows x 7 columns]"
      ]
     },
     "execution_count": 69,
     "metadata": {},
     "output_type": "execute_result"
    }
   ],
   "source": [
    "# Apply the lemmatizer to the text  in the \n",
    "Apple_tweets[\"text_lemmatized\"] = Apple_tweets[\"text_without_stopwords\"].apply(token_lemmatizer)\n",
    "\n",
    "Apple_tweets"
   ]
  },
  {
   "cell_type": "code",
   "execution_count": null,
   "metadata": {},
   "outputs": [],
   "source": []
  },
  {
   "cell_type": "markdown",
   "metadata": {},
   "source": [
    "###### Create features,target\n",
    "\n",
    "Now we need to create our features set X and target y:\n",
    "\n",
    "Create X and y by selecting the appropriate columns from the dataset.\n",
    "\n",
    "Features: Every row in the dataset only contains one feature: a string containing the full text.\n",
    "\n",
    "target: tweets sentiment either if it was negative, positive, or neutral"
   ]
  },
  {
   "cell_type": "code",
   "execution_count": 70,
   "metadata": {},
   "outputs": [],
   "source": [
    "# Split the dataframe into target and Features\n",
    "X=Apple_tweets.drop(columns=[\"catogory\"],axis =1)\n",
    "y=Apple_tweets[\"catogory\"]"
   ]
  },
  {
   "cell_type": "markdown",
   "metadata": {},
   "source": [
    "###### Perform a Train-Test Split\n",
    "\n",
    "Use train_test_split with 75/25 split on the dataset for training/test. Use random_state=42 . At the end we should have X_train, X_test, y_train, and y_test variables, where y represents churn and X represents all other features."
   ]
  },
  {
   "cell_type": "code",
   "execution_count": 71,
   "metadata": {},
   "outputs": [],
   "source": [
    "# split the data into train and test sets\n",
    "X_train,X_test,y_train,y_test = train_test_split(X,y,test_size=0.25,random_state =42)"
   ]
  },
  {
   "cell_type": "code",
   "execution_count": 72,
   "metadata": {},
   "outputs": [
    {
     "data": {
      "text/html": [
       "<div>\n",
       "<style scoped>\n",
       "    .dataframe tbody tr th:only-of-type {\n",
       "        vertical-align: middle;\n",
       "    }\n",
       "\n",
       "    .dataframe tbody tr th {\n",
       "        vertical-align: top;\n",
       "    }\n",
       "\n",
       "    .dataframe thead th {\n",
       "        text-align: right;\n",
       "    }\n",
       "</style>\n",
       "<table border=\"1\" class=\"dataframe\">\n",
       "  <thead>\n",
       "    <tr style=\"text-align: right;\">\n",
       "      <th></th>\n",
       "      <th>tweet_text</th>\n",
       "      <th>product</th>\n",
       "      <th>text_tokenized</th>\n",
       "      <th>text_without_stopwords</th>\n",
       "      <th>text_steemed</th>\n",
       "      <th>text_lemmatized</th>\n",
       "    </tr>\n",
       "  </thead>\n",
       "  <tbody>\n",
       "    <tr>\n",
       "      <th>2760</th>\n",
       "      <td>dear apple, could you roll a hot dog cart full of ipad 2's down to the austin convention center. (and bring hot dogs?) #sxsw</td>\n",
       "      <td>Apple</td>\n",
       "      <td>[dear, apple, could, you, roll, hot, dog, cart, full, of, ipad, down, to, the, austin, convention, center, and, bring, hot, dogs, sxsw]</td>\n",
       "      <td>[dear, apple, roll, hot, dog, cart, full, ipad, austin, convention, center, bring, hot, dogs]</td>\n",
       "      <td>[dear, appl, roll, hot, dog, cart, full, ipad, austin, convent, center, bring, hot, dog]</td>\n",
       "      <td>[dear, apple, roll, hot, dog, cart, full, ipad, austin, convention, center, bring, hot, dog]</td>\n",
       "    </tr>\n",
       "    <tr>\n",
       "      <th>3275</th>\n",
       "      <td>@mention glad i've not got a faulty iphone then. that'll go down well for #sxsw everyone's battery dies 5 times quicker. hope @mention knows.</td>\n",
       "      <td>Apple</td>\n",
       "      <td>[mention, glad, ve, not, got, faulty, iphone, then, that, ll, go, down, well, for, sxsw, everyone, battery, dies, times, quicker, hope, mention, knows]</td>\n",
       "      <td>[glad, got, faulty, iphone, go, well, everyone, battery, dies, times, quicker, hope, knows]</td>\n",
       "      <td>[glad, got, faulti, iphon, go, well, everyon, batteri, die, time, quicker, hope, know]</td>\n",
       "      <td>[glad, got, faulty, iphone, go, well, everyone, battery, dy, time, quicker, hope, know]</td>\n",
       "    </tr>\n",
       "    <tr>\n",
       "      <th>8139</th>\n",
       "      <td>oh at #sxsw. oh, that's just an ipad 1, i thought he was #winning.</td>\n",
       "      <td>Apple</td>\n",
       "      <td>[oh, at, sxsw, oh, that, just, an, ipad, thought, he, was, winning]</td>\n",
       "      <td>[oh, oh, ipad, thought, winning]</td>\n",
       "      <td>[oh, oh, ipad, thought, win]</td>\n",
       "      <td>[oh, oh, ipad, thought, winning]</td>\n",
       "    </tr>\n",
       "    <tr>\n",
       "      <th>17</th>\n",
       "      <td>i just noticed dst is coming this weekend. how many iphone users will be an hour late at sxsw come sunday morning? #sxsw #iphone</td>\n",
       "      <td>Apple</td>\n",
       "      <td>[just, noticed, dst, is, coming, this, weekend, how, many, iphone, users, will, be, an, hour, late, at, sxsw, come, sunday, morning, sxsw, iphone]</td>\n",
       "      <td>[noticed, dst, coming, weekend, many, iphone, users, hour, late, come, sunday, morning, iphone]</td>\n",
       "      <td>[notic, dst, come, weekend, mani, iphon, user, hour, late, come, sunday, morn, iphon]</td>\n",
       "      <td>[noticed, dst, coming, weekend, many, iphone, user, hour, late, come, sunday, morning, iphone]</td>\n",
       "    </tr>\n",
       "    <tr>\n",
       "      <th>1097</th>\n",
       "      <td>we've got some exciting things that we'll be showing off at #sxsw this year: including drag and drop store management on your iphone</td>\n",
       "      <td>Apple</td>\n",
       "      <td>[we, ve, got, some, exciting, things, that, we, ll, be, showing, off, at, sxsw, this, year, including, drag, and, drop, store, management, on, your, iphone]</td>\n",
       "      <td>[got, exciting, things, showing, year, including, drag, drop, store, management, iphone]</td>\n",
       "      <td>[got, excit, thing, show, year, includ, drag, drop, store, manag, iphon]</td>\n",
       "      <td>[got, exciting, thing, showing, year, including, drag, drop, store, management, iphone]</td>\n",
       "    </tr>\n",
       "  </tbody>\n",
       "</table>\n",
       "</div>"
      ],
      "text/plain": [
       "                                                                                                                                         tweet_text  \\\n",
       "2760                   dear apple, could you roll a hot dog cart full of ipad 2's down to the austin convention center. (and bring hot dogs?) #sxsw   \n",
       "3275  @mention glad i've not got a faulty iphone then. that'll go down well for #sxsw everyone's battery dies 5 times quicker. hope @mention knows.   \n",
       "8139                                                                             oh at #sxsw. oh, that's just an ipad 1, i thought he was #winning.   \n",
       "17                 i just noticed dst is coming this weekend. how many iphone users will be an hour late at sxsw come sunday morning? #sxsw #iphone   \n",
       "1097           we've got some exciting things that we'll be showing off at #sxsw this year: including drag and drop store management on your iphone   \n",
       "\n",
       "     product  \\\n",
       "2760   Apple   \n",
       "3275   Apple   \n",
       "8139   Apple   \n",
       "17     Apple   \n",
       "1097   Apple   \n",
       "\n",
       "                                                                                                                                                    text_tokenized  \\\n",
       "2760                       [dear, apple, could, you, roll, hot, dog, cart, full, of, ipad, down, to, the, austin, convention, center, and, bring, hot, dogs, sxsw]   \n",
       "3275       [mention, glad, ve, not, got, faulty, iphone, then, that, ll, go, down, well, for, sxsw, everyone, battery, dies, times, quicker, hope, mention, knows]   \n",
       "8139                                                                                           [oh, at, sxsw, oh, that, just, an, ipad, thought, he, was, winning]   \n",
       "17              [just, noticed, dst, is, coming, this, weekend, how, many, iphone, users, will, be, an, hour, late, at, sxsw, come, sunday, morning, sxsw, iphone]   \n",
       "1097  [we, ve, got, some, exciting, things, that, we, ll, be, showing, off, at, sxsw, this, year, including, drag, and, drop, store, management, on, your, iphone]   \n",
       "\n",
       "                                                                               text_without_stopwords  \\\n",
       "2760    [dear, apple, roll, hot, dog, cart, full, ipad, austin, convention, center, bring, hot, dogs]   \n",
       "3275      [glad, got, faulty, iphone, go, well, everyone, battery, dies, times, quicker, hope, knows]   \n",
       "8139                                                                 [oh, oh, ipad, thought, winning]   \n",
       "17    [noticed, dst, coming, weekend, many, iphone, users, hour, late, come, sunday, morning, iphone]   \n",
       "1097         [got, exciting, things, showing, year, including, drag, drop, store, management, iphone]   \n",
       "\n",
       "                                                                                  text_steemed  \\\n",
       "2760  [dear, appl, roll, hot, dog, cart, full, ipad, austin, convent, center, bring, hot, dog]   \n",
       "3275    [glad, got, faulti, iphon, go, well, everyon, batteri, die, time, quicker, hope, know]   \n",
       "8139                                                              [oh, oh, ipad, thought, win]   \n",
       "17       [notic, dst, come, weekend, mani, iphon, user, hour, late, come, sunday, morn, iphon]   \n",
       "1097                  [got, excit, thing, show, year, includ, drag, drop, store, manag, iphon]   \n",
       "\n",
       "                                                                                     text_lemmatized  \n",
       "2760    [dear, apple, roll, hot, dog, cart, full, ipad, austin, convention, center, bring, hot, dog]  \n",
       "3275         [glad, got, faulty, iphone, go, well, everyone, battery, dy, time, quicker, hope, know]  \n",
       "8139                                                                [oh, oh, ipad, thought, winning]  \n",
       "17    [noticed, dst, coming, weekend, many, iphone, user, hour, late, come, sunday, morning, iphone]  \n",
       "1097         [got, exciting, thing, showing, year, including, drag, drop, store, management, iphone]  "
      ]
     },
     "execution_count": 72,
     "metadata": {},
     "output_type": "execute_result"
    }
   ],
   "source": [
    "# Display the top five rows of the X_train data frame\n",
    "X_train = pd.DataFrame(X_train)\n",
    "X_train.head()"
   ]
  },
  {
   "cell_type": "code",
   "execution_count": 73,
   "metadata": {},
   "outputs": [
    {
     "data": {
      "text/html": [
       "<div>\n",
       "<style scoped>\n",
       "    .dataframe tbody tr th:only-of-type {\n",
       "        vertical-align: middle;\n",
       "    }\n",
       "\n",
       "    .dataframe tbody tr th {\n",
       "        vertical-align: top;\n",
       "    }\n",
       "\n",
       "    .dataframe thead th {\n",
       "        text-align: right;\n",
       "    }\n",
       "</style>\n",
       "<table border=\"1\" class=\"dataframe\">\n",
       "  <thead>\n",
       "    <tr style=\"text-align: right;\">\n",
       "      <th></th>\n",
       "      <th>catogory</th>\n",
       "    </tr>\n",
       "  </thead>\n",
       "  <tbody>\n",
       "    <tr>\n",
       "      <th>2760</th>\n",
       "      <td>2</td>\n",
       "    </tr>\n",
       "    <tr>\n",
       "      <th>3275</th>\n",
       "      <td>0</td>\n",
       "    </tr>\n",
       "    <tr>\n",
       "      <th>8139</th>\n",
       "      <td>2</td>\n",
       "    </tr>\n",
       "    <tr>\n",
       "      <th>17</th>\n",
       "      <td>0</td>\n",
       "    </tr>\n",
       "    <tr>\n",
       "      <th>1097</th>\n",
       "      <td>2</td>\n",
       "    </tr>\n",
       "  </tbody>\n",
       "</table>\n",
       "</div>"
      ],
      "text/plain": [
       "      catogory\n",
       "2760         2\n",
       "3275         0\n",
       "8139         2\n",
       "17           0\n",
       "1097         2"
      ]
     },
     "execution_count": 73,
     "metadata": {},
     "output_type": "execute_result"
    }
   ],
   "source": [
    "# Display the top five rows of the y_train data frame\n",
    "y_train = pd.DataFrame(y_train)\n",
    "y_train.head()"
   ]
  },
  {
   "cell_type": "code",
   "execution_count": 74,
   "metadata": {
    "scrolled": true
   },
   "outputs": [
    {
     "data": {
      "text/html": [
       "<div>\n",
       "<style scoped>\n",
       "    .dataframe tbody tr th:only-of-type {\n",
       "        vertical-align: middle;\n",
       "    }\n",
       "\n",
       "    .dataframe tbody tr th {\n",
       "        vertical-align: top;\n",
       "    }\n",
       "\n",
       "    .dataframe thead th {\n",
       "        text-align: right;\n",
       "    }\n",
       "</style>\n",
       "<table border=\"1\" class=\"dataframe\">\n",
       "  <thead>\n",
       "    <tr style=\"text-align: right;\">\n",
       "      <th></th>\n",
       "      <th>tweet_text</th>\n",
       "      <th>product</th>\n",
       "      <th>text_tokenized</th>\n",
       "      <th>text_without_stopwords</th>\n",
       "      <th>text_steemed</th>\n",
       "      <th>text_lemmatized</th>\n",
       "    </tr>\n",
       "  </thead>\n",
       "  <tbody>\n",
       "    <tr>\n",
       "      <th>1617</th>\n",
       "      <td>just got @mention new iphone app, the dialy grape: {link} #sxsw #thankyou</td>\n",
       "      <td>Apple</td>\n",
       "      <td>[just, got, mention, new, iphone, app, the, dialy, grape, link, sxsw, thankyou]</td>\n",
       "      <td>[got, new, iphone, app, dialy, grape, thankyou]</td>\n",
       "      <td>[got, new, iphon, app, diali, grape, thankyou]</td>\n",
       "      <td>[got, new, iphone, app, dialy, grape, thankyou]</td>\n",
       "    </tr>\n",
       "    <tr>\n",
       "      <th>604</th>\n",
       "      <td>ipad 2 in hand, awesome dude gave me cutsies on a 3 hour line. #austin #apple #sxsw #winning</td>\n",
       "      <td>Apple</td>\n",
       "      <td>[ipad, in, hand, awesome, dude, gave, me, cutsies, on, hour, line, austin, apple, sxsw, winning]</td>\n",
       "      <td>[ipad, hand, awesome, dude, gave, cutsies, hour, line, austin, apple, winning]</td>\n",
       "      <td>[ipad, hand, awesom, dude, gave, cutsi, hour, line, austin, appl, win]</td>\n",
       "      <td>[ipad, hand, awesome, dude, gave, cutsies, hour, line, austin, apple, winning]</td>\n",
       "    </tr>\n",
       "    <tr>\n",
       "      <th>5452</th>\n",
       "      <td>rt @mention apple opens pop-up store for #sxsw rt @mention smart. very well played fruit co. {link} /via @mention</td>\n",
       "      <td>Apple</td>\n",
       "      <td>[rt, mention, apple, opens, pop, up, store, for, sxsw, rt, mention, smart, very, well, played, fruit, co, link, via, mention]</td>\n",
       "      <td>[apple, opens, pop, store, smart, well, played, fruit, co]</td>\n",
       "      <td>[appl, open, pop, store, smart, well, play, fruit, co]</td>\n",
       "      <td>[apple, open, pop, store, smart, well, played, fruit, co]</td>\n",
       "    </tr>\n",
       "    <tr>\n",
       "      <th>4505</th>\n",
       "      <td>sxsw attendees! come see #aquent booth 1415 #sxsw trade show. you might win ipad 2!</td>\n",
       "      <td>Apple</td>\n",
       "      <td>[sxsw, attendees, come, see, aquent, booth, 1415, sxsw, trade, show, you, might, win, ipad]</td>\n",
       "      <td>[attendees, come, see, aquent, booth, 1415, trade, show, win, ipad]</td>\n",
       "      <td>[attende, come, see, aquent, booth, 1415, trade, show, win, ipad]</td>\n",
       "      <td>[attendee, come, see, aquent, booth, 1415, trade, show, win, ipad]</td>\n",
       "    </tr>\n",
       "    <tr>\n",
       "      <th>4437</th>\n",
       "      <td>lisa cohen just announced that @mention will have an iphone app out this month. sweet! #comcom #sxsw</td>\n",
       "      <td>Apple</td>\n",
       "      <td>[lisa, cohen, just, announced, that, mention, will, have, an, iphone, app, out, this, month, sweet, comcom, sxsw]</td>\n",
       "      <td>[lisa, cohen, announced, iphone, app, month, sweet, comcom]</td>\n",
       "      <td>[lisa, cohen, announc, iphon, app, month, sweet, comcom]</td>\n",
       "      <td>[lisa, cohen, announced, iphone, app, month, sweet, comcom]</td>\n",
       "    </tr>\n",
       "  </tbody>\n",
       "</table>\n",
       "</div>"
      ],
      "text/plain": [
       "                                                                                                             tweet_text  \\\n",
       "1617                                          just got @mention new iphone app, the dialy grape: {link} #sxsw #thankyou   \n",
       "604                        ipad 2 in hand, awesome dude gave me cutsies on a 3 hour line. #austin #apple #sxsw #winning   \n",
       "5452  rt @mention apple opens pop-up store for #sxsw rt @mention smart. very well played fruit co. {link} /via @mention   \n",
       "4505                                sxsw attendees! come see #aquent booth 1415 #sxsw trade show. you might win ipad 2!   \n",
       "4437               lisa cohen just announced that @mention will have an iphone app out this month. sweet! #comcom #sxsw   \n",
       "\n",
       "     product  \\\n",
       "1617   Apple   \n",
       "604    Apple   \n",
       "5452   Apple   \n",
       "4505   Apple   \n",
       "4437   Apple   \n",
       "\n",
       "                                                                                                                     text_tokenized  \\\n",
       "1617                                                [just, got, mention, new, iphone, app, the, dialy, grape, link, sxsw, thankyou]   \n",
       "604                                [ipad, in, hand, awesome, dude, gave, me, cutsies, on, hour, line, austin, apple, sxsw, winning]   \n",
       "5452  [rt, mention, apple, opens, pop, up, store, for, sxsw, rt, mention, smart, very, well, played, fruit, co, link, via, mention]   \n",
       "4505                                    [sxsw, attendees, come, see, aquent, booth, 1415, sxsw, trade, show, you, might, win, ipad]   \n",
       "4437              [lisa, cohen, just, announced, that, mention, will, have, an, iphone, app, out, this, month, sweet, comcom, sxsw]   \n",
       "\n",
       "                                                              text_without_stopwords  \\\n",
       "1617                                 [got, new, iphone, app, dialy, grape, thankyou]   \n",
       "604   [ipad, hand, awesome, dude, gave, cutsies, hour, line, austin, apple, winning]   \n",
       "5452                      [apple, opens, pop, store, smart, well, played, fruit, co]   \n",
       "4505             [attendees, come, see, aquent, booth, 1415, trade, show, win, ipad]   \n",
       "4437                     [lisa, cohen, announced, iphone, app, month, sweet, comcom]   \n",
       "\n",
       "                                                                text_steemed  \\\n",
       "1617                          [got, new, iphon, app, diali, grape, thankyou]   \n",
       "604   [ipad, hand, awesom, dude, gave, cutsi, hour, line, austin, appl, win]   \n",
       "5452                  [appl, open, pop, store, smart, well, play, fruit, co]   \n",
       "4505       [attende, come, see, aquent, booth, 1415, trade, show, win, ipad]   \n",
       "4437                [lisa, cohen, announc, iphon, app, month, sweet, comcom]   \n",
       "\n",
       "                                                                     text_lemmatized  \n",
       "1617                                 [got, new, iphone, app, dialy, grape, thankyou]  \n",
       "604   [ipad, hand, awesome, dude, gave, cutsies, hour, line, austin, apple, winning]  \n",
       "5452                       [apple, open, pop, store, smart, well, played, fruit, co]  \n",
       "4505              [attendee, come, see, aquent, booth, 1415, trade, show, win, ipad]  \n",
       "4437                     [lisa, cohen, announced, iphone, app, month, sweet, comcom]  "
      ]
     },
     "execution_count": 74,
     "metadata": {},
     "output_type": "execute_result"
    }
   ],
   "source": [
    "# Display the top five rows of the X_test data frame\n",
    "X_test = pd.DataFrame(X_test)\n",
    "X_test.head()"
   ]
  },
  {
   "cell_type": "code",
   "execution_count": 75,
   "metadata": {},
   "outputs": [
    {
     "data": {
      "text/html": [
       "<div>\n",
       "<style scoped>\n",
       "    .dataframe tbody tr th:only-of-type {\n",
       "        vertical-align: middle;\n",
       "    }\n",
       "\n",
       "    .dataframe tbody tr th {\n",
       "        vertical-align: top;\n",
       "    }\n",
       "\n",
       "    .dataframe thead th {\n",
       "        text-align: right;\n",
       "    }\n",
       "</style>\n",
       "<table border=\"1\" class=\"dataframe\">\n",
       "  <thead>\n",
       "    <tr style=\"text-align: right;\">\n",
       "      <th></th>\n",
       "      <th>catogory</th>\n",
       "    </tr>\n",
       "  </thead>\n",
       "  <tbody>\n",
       "    <tr>\n",
       "      <th>1617</th>\n",
       "      <td>1</td>\n",
       "    </tr>\n",
       "    <tr>\n",
       "      <th>604</th>\n",
       "      <td>2</td>\n",
       "    </tr>\n",
       "    <tr>\n",
       "      <th>5452</th>\n",
       "      <td>2</td>\n",
       "    </tr>\n",
       "    <tr>\n",
       "      <th>4505</th>\n",
       "      <td>2</td>\n",
       "    </tr>\n",
       "    <tr>\n",
       "      <th>4437</th>\n",
       "      <td>2</td>\n",
       "    </tr>\n",
       "  </tbody>\n",
       "</table>\n",
       "</div>"
      ],
      "text/plain": [
       "      catogory\n",
       "1617         1\n",
       "604          2\n",
       "5452         2\n",
       "4505         2\n",
       "4437         2"
      ]
     },
     "execution_count": 75,
     "metadata": {},
     "output_type": "execute_result"
    }
   ],
   "source": [
    "# Display the top five rows of the y_train data frame\n",
    "y_test = pd.DataFrame(y_test)\n",
    "y_test.head()"
   ]
  },
  {
   "cell_type": "markdown",
   "metadata": {},
   "source": [
    "## Modeling"
   ]
  },
  {
   "cell_type": "markdown",
   "metadata": {},
   "source": [
    "#### Baseline Model\n",
    "We will apply Multinomial Naive Bayes to NLP Problems. The naive Bayes Classifier Algorithm is a family of probabilistic algorithms based on applying Bayes’ theorem with the “naive” assumption of conditional independence between every pair of a feature. Bayes theorem calculates probability P(c|x) where c is the class of the possible outcomes and x is the given instance that has to be classified, representing certain features.\n",
    "P(c|x) = P(x|c) * P(c) / P(x).\n",
    "Naive Bayes is mostly used in natural language processing (NLP) problems. Naive Bayes predicts the tag of a text. They calculate the probability of each tag for a given text and then output the tag with the highest one."
   ]
  },
  {
   "cell_type": "markdown",
   "metadata": {},
   "source": [
    "#### Build and Evaluate a Baseline Model with TfidfVectorizer and MultinomialNB.\n",
    "\n",
    "Vectorization :\n",
    "\n",
    "Vectorization is jargon for a classic approach of converting input data from its raw format (i.e. text ) into vectors of real numbers which is the format that ML models support. This approach has been there ever since computers were first built, it has worked wonderfully across various domains, and it’s now used in NLP. We will use TF-IDF vectorizer.\n",
    "The goal of using tf-idf is to convert text into numbers that we can do calculations on."
   ]
  },
  {
   "cell_type": "code",
   "execution_count": 76,
   "metadata": {},
   "outputs": [],
   "source": [
    "# Import the relevant vectorizer class\n",
    "from sklearn.feature_extraction.text import TfidfVectorizer\n",
    "\n",
    "# Instantiate the vectorizer\n",
    "tfidf = TfidfVectorizer(\n",
    "    max_features=10,\n",
    "    stop_words=lemmatized_stopwords,\n",
    "    tokenizer=token_lemmatizer\n",
    ")\n",
    "\n",
    "# Fit the vectorizer on X_train[\"text\"] and transform it\n",
    "X_train_vectorized = tfidf.fit_transform(X_train[\"tweet_text\"].values.astype('U'))\n",
    "# transform vectorizer on X_test[\"tweet_text\"] \n",
    "X_test_vectorized = tfidf.transform(X_test[\"tweet_text\"].values.astype('U'))\n"
   ]
  },
  {
   "cell_type": "code",
   "execution_count": 77,
   "metadata": {
    "scrolled": true
   },
   "outputs": [
    {
     "data": {
      "text/html": [
       "<div>\n",
       "<style scoped>\n",
       "    .dataframe tbody tr th:only-of-type {\n",
       "        vertical-align: middle;\n",
       "    }\n",
       "\n",
       "    .dataframe tbody tr th {\n",
       "        vertical-align: top;\n",
       "    }\n",
       "\n",
       "    .dataframe thead th {\n",
       "        text-align: right;\n",
       "    }\n",
       "</style>\n",
       "<table border=\"1\" class=\"dataframe\">\n",
       "  <thead>\n",
       "    <tr style=\"text-align: right;\">\n",
       "      <th></th>\n",
       "      <th>app</th>\n",
       "      <th>apple</th>\n",
       "      <th>austin</th>\n",
       "      <th>ipad</th>\n",
       "      <th>ipad2</th>\n",
       "      <th>iphone</th>\n",
       "      <th>line</th>\n",
       "      <th>new</th>\n",
       "      <th>pop</th>\n",
       "      <th>store</th>\n",
       "    </tr>\n",
       "  </thead>\n",
       "  <tbody>\n",
       "    <tr>\n",
       "      <th>0</th>\n",
       "      <td>0.000000</td>\n",
       "      <td>0.475838</td>\n",
       "      <td>0.771032</td>\n",
       "      <td>0.423189</td>\n",
       "      <td>0.000000</td>\n",
       "      <td>0.000000</td>\n",
       "      <td>0.0</td>\n",
       "      <td>0.00000</td>\n",
       "      <td>0.000000</td>\n",
       "      <td>0.000000</td>\n",
       "    </tr>\n",
       "    <tr>\n",
       "      <th>1</th>\n",
       "      <td>0.000000</td>\n",
       "      <td>0.000000</td>\n",
       "      <td>0.000000</td>\n",
       "      <td>0.000000</td>\n",
       "      <td>0.000000</td>\n",
       "      <td>1.000000</td>\n",
       "      <td>0.0</td>\n",
       "      <td>0.00000</td>\n",
       "      <td>0.000000</td>\n",
       "      <td>0.000000</td>\n",
       "    </tr>\n",
       "    <tr>\n",
       "      <th>2</th>\n",
       "      <td>0.000000</td>\n",
       "      <td>0.000000</td>\n",
       "      <td>0.000000</td>\n",
       "      <td>1.000000</td>\n",
       "      <td>0.000000</td>\n",
       "      <td>0.000000</td>\n",
       "      <td>0.0</td>\n",
       "      <td>0.00000</td>\n",
       "      <td>0.000000</td>\n",
       "      <td>0.000000</td>\n",
       "    </tr>\n",
       "    <tr>\n",
       "      <th>3</th>\n",
       "      <td>0.000000</td>\n",
       "      <td>0.000000</td>\n",
       "      <td>0.000000</td>\n",
       "      <td>0.000000</td>\n",
       "      <td>0.000000</td>\n",
       "      <td>1.000000</td>\n",
       "      <td>0.0</td>\n",
       "      <td>0.00000</td>\n",
       "      <td>0.000000</td>\n",
       "      <td>0.000000</td>\n",
       "    </tr>\n",
       "    <tr>\n",
       "      <th>4</th>\n",
       "      <td>0.000000</td>\n",
       "      <td>0.000000</td>\n",
       "      <td>0.000000</td>\n",
       "      <td>0.000000</td>\n",
       "      <td>0.000000</td>\n",
       "      <td>0.678679</td>\n",
       "      <td>0.0</td>\n",
       "      <td>0.00000</td>\n",
       "      <td>0.000000</td>\n",
       "      <td>0.734435</td>\n",
       "    </tr>\n",
       "    <tr>\n",
       "      <th>...</th>\n",
       "      <td>...</td>\n",
       "      <td>...</td>\n",
       "      <td>...</td>\n",
       "      <td>...</td>\n",
       "      <td>...</td>\n",
       "      <td>...</td>\n",
       "      <td>...</td>\n",
       "      <td>...</td>\n",
       "      <td>...</td>\n",
       "      <td>...</td>\n",
       "    </tr>\n",
       "    <tr>\n",
       "      <th>1792</th>\n",
       "      <td>0.000000</td>\n",
       "      <td>0.000000</td>\n",
       "      <td>0.000000</td>\n",
       "      <td>1.000000</td>\n",
       "      <td>0.000000</td>\n",
       "      <td>0.000000</td>\n",
       "      <td>0.0</td>\n",
       "      <td>0.00000</td>\n",
       "      <td>0.000000</td>\n",
       "      <td>0.000000</td>\n",
       "    </tr>\n",
       "    <tr>\n",
       "      <th>1793</th>\n",
       "      <td>0.000000</td>\n",
       "      <td>0.418783</td>\n",
       "      <td>0.000000</td>\n",
       "      <td>0.000000</td>\n",
       "      <td>0.738891</td>\n",
       "      <td>0.000000</td>\n",
       "      <td>0.0</td>\n",
       "      <td>0.00000</td>\n",
       "      <td>0.000000</td>\n",
       "      <td>0.527883</td>\n",
       "    </tr>\n",
       "    <tr>\n",
       "      <th>1794</th>\n",
       "      <td>0.000000</td>\n",
       "      <td>0.298047</td>\n",
       "      <td>0.482945</td>\n",
       "      <td>0.000000</td>\n",
       "      <td>0.525867</td>\n",
       "      <td>0.000000</td>\n",
       "      <td>0.0</td>\n",
       "      <td>0.00000</td>\n",
       "      <td>0.510147</td>\n",
       "      <td>0.375693</td>\n",
       "    </tr>\n",
       "    <tr>\n",
       "      <th>1795</th>\n",
       "      <td>0.587465</td>\n",
       "      <td>0.000000</td>\n",
       "      <td>0.000000</td>\n",
       "      <td>0.000000</td>\n",
       "      <td>0.000000</td>\n",
       "      <td>0.453575</td>\n",
       "      <td>0.0</td>\n",
       "      <td>0.67019</td>\n",
       "      <td>0.000000</td>\n",
       "      <td>0.000000</td>\n",
       "    </tr>\n",
       "    <tr>\n",
       "      <th>1796</th>\n",
       "      <td>0.000000</td>\n",
       "      <td>0.000000</td>\n",
       "      <td>0.000000</td>\n",
       "      <td>1.000000</td>\n",
       "      <td>0.000000</td>\n",
       "      <td>0.000000</td>\n",
       "      <td>0.0</td>\n",
       "      <td>0.00000</td>\n",
       "      <td>0.000000</td>\n",
       "      <td>0.000000</td>\n",
       "    </tr>\n",
       "  </tbody>\n",
       "</table>\n",
       "<p>1797 rows × 10 columns</p>\n",
       "</div>"
      ],
      "text/plain": [
       "           app     apple    austin      ipad     ipad2    iphone  line  \\\n",
       "0     0.000000  0.475838  0.771032  0.423189  0.000000  0.000000   0.0   \n",
       "1     0.000000  0.000000  0.000000  0.000000  0.000000  1.000000   0.0   \n",
       "2     0.000000  0.000000  0.000000  1.000000  0.000000  0.000000   0.0   \n",
       "3     0.000000  0.000000  0.000000  0.000000  0.000000  1.000000   0.0   \n",
       "4     0.000000  0.000000  0.000000  0.000000  0.000000  0.678679   0.0   \n",
       "...        ...       ...       ...       ...       ...       ...   ...   \n",
       "1792  0.000000  0.000000  0.000000  1.000000  0.000000  0.000000   0.0   \n",
       "1793  0.000000  0.418783  0.000000  0.000000  0.738891  0.000000   0.0   \n",
       "1794  0.000000  0.298047  0.482945  0.000000  0.525867  0.000000   0.0   \n",
       "1795  0.587465  0.000000  0.000000  0.000000  0.000000  0.453575   0.0   \n",
       "1796  0.000000  0.000000  0.000000  1.000000  0.000000  0.000000   0.0   \n",
       "\n",
       "          new       pop     store  \n",
       "0     0.00000  0.000000  0.000000  \n",
       "1     0.00000  0.000000  0.000000  \n",
       "2     0.00000  0.000000  0.000000  \n",
       "3     0.00000  0.000000  0.000000  \n",
       "4     0.00000  0.000000  0.734435  \n",
       "...       ...       ...       ...  \n",
       "1792  0.00000  0.000000  0.000000  \n",
       "1793  0.00000  0.000000  0.527883  \n",
       "1794  0.00000  0.510147  0.375693  \n",
       "1795  0.67019  0.000000  0.000000  \n",
       "1796  0.00000  0.000000  0.000000  \n",
       "\n",
       "[1797 rows x 10 columns]"
      ]
     },
     "execution_count": 77,
     "metadata": {},
     "output_type": "execute_result"
    }
   ],
   "source": [
    "# Visually inspect the vectorized data\n",
    "pd.DataFrame.sparse.from_spmatrix(X_train_vectorized, columns=tfidf.get_feature_names())\n"
   ]
  },
  {
   "cell_type": "code",
   "execution_count": 78,
   "metadata": {
    "scrolled": true
   },
   "outputs": [
    {
     "data": {
      "text/html": [
       "<div>\n",
       "<style scoped>\n",
       "    .dataframe tbody tr th:only-of-type {\n",
       "        vertical-align: middle;\n",
       "    }\n",
       "\n",
       "    .dataframe tbody tr th {\n",
       "        vertical-align: top;\n",
       "    }\n",
       "\n",
       "    .dataframe thead th {\n",
       "        text-align: right;\n",
       "    }\n",
       "</style>\n",
       "<table border=\"1\" class=\"dataframe\">\n",
       "  <thead>\n",
       "    <tr style=\"text-align: right;\">\n",
       "      <th></th>\n",
       "      <th>app</th>\n",
       "      <th>apple</th>\n",
       "      <th>austin</th>\n",
       "      <th>ipad</th>\n",
       "      <th>ipad2</th>\n",
       "      <th>iphone</th>\n",
       "      <th>line</th>\n",
       "      <th>new</th>\n",
       "      <th>pop</th>\n",
       "      <th>store</th>\n",
       "    </tr>\n",
       "  </thead>\n",
       "  <tbody>\n",
       "    <tr>\n",
       "      <th>0</th>\n",
       "      <td>0.587465</td>\n",
       "      <td>0.000000</td>\n",
       "      <td>0.000000</td>\n",
       "      <td>0.000000</td>\n",
       "      <td>0.0</td>\n",
       "      <td>0.453575</td>\n",
       "      <td>0.000000</td>\n",
       "      <td>0.670190</td>\n",
       "      <td>0.000000</td>\n",
       "      <td>0.000000</td>\n",
       "    </tr>\n",
       "    <tr>\n",
       "      <th>1</th>\n",
       "      <td>0.000000</td>\n",
       "      <td>0.351880</td>\n",
       "      <td>0.570174</td>\n",
       "      <td>0.312946</td>\n",
       "      <td>0.0</td>\n",
       "      <td>0.000000</td>\n",
       "      <td>0.673161</td>\n",
       "      <td>0.000000</td>\n",
       "      <td>0.000000</td>\n",
       "      <td>0.000000</td>\n",
       "    </tr>\n",
       "    <tr>\n",
       "      <th>2</th>\n",
       "      <td>0.000000</td>\n",
       "      <td>0.425682</td>\n",
       "      <td>0.000000</td>\n",
       "      <td>0.000000</td>\n",
       "      <td>0.0</td>\n",
       "      <td>0.000000</td>\n",
       "      <td>0.000000</td>\n",
       "      <td>0.000000</td>\n",
       "      <td>0.728613</td>\n",
       "      <td>0.536580</td>\n",
       "    </tr>\n",
       "    <tr>\n",
       "      <th>3</th>\n",
       "      <td>0.000000</td>\n",
       "      <td>0.000000</td>\n",
       "      <td>0.000000</td>\n",
       "      <td>1.000000</td>\n",
       "      <td>0.0</td>\n",
       "      <td>0.000000</td>\n",
       "      <td>0.000000</td>\n",
       "      <td>0.000000</td>\n",
       "      <td>0.000000</td>\n",
       "      <td>0.000000</td>\n",
       "    </tr>\n",
       "    <tr>\n",
       "      <th>4</th>\n",
       "      <td>0.791530</td>\n",
       "      <td>0.000000</td>\n",
       "      <td>0.000000</td>\n",
       "      <td>0.000000</td>\n",
       "      <td>0.0</td>\n",
       "      <td>0.611131</td>\n",
       "      <td>0.000000</td>\n",
       "      <td>0.000000</td>\n",
       "      <td>0.000000</td>\n",
       "      <td>0.000000</td>\n",
       "    </tr>\n",
       "    <tr>\n",
       "      <th>...</th>\n",
       "      <td>...</td>\n",
       "      <td>...</td>\n",
       "      <td>...</td>\n",
       "      <td>...</td>\n",
       "      <td>...</td>\n",
       "      <td>...</td>\n",
       "      <td>...</td>\n",
       "      <td>...</td>\n",
       "      <td>...</td>\n",
       "      <td>...</td>\n",
       "    </tr>\n",
       "    <tr>\n",
       "      <th>595</th>\n",
       "      <td>0.000000</td>\n",
       "      <td>0.311811</td>\n",
       "      <td>0.000000</td>\n",
       "      <td>0.000000</td>\n",
       "      <td>0.0</td>\n",
       "      <td>0.000000</td>\n",
       "      <td>0.000000</td>\n",
       "      <td>0.000000</td>\n",
       "      <td>0.533706</td>\n",
       "      <td>0.786086</td>\n",
       "    </tr>\n",
       "    <tr>\n",
       "      <th>596</th>\n",
       "      <td>0.000000</td>\n",
       "      <td>0.000000</td>\n",
       "      <td>0.000000</td>\n",
       "      <td>1.000000</td>\n",
       "      <td>0.0</td>\n",
       "      <td>0.000000</td>\n",
       "      <td>0.000000</td>\n",
       "      <td>0.000000</td>\n",
       "      <td>0.000000</td>\n",
       "      <td>0.000000</td>\n",
       "    </tr>\n",
       "    <tr>\n",
       "      <th>597</th>\n",
       "      <td>0.000000</td>\n",
       "      <td>0.000000</td>\n",
       "      <td>0.000000</td>\n",
       "      <td>0.606851</td>\n",
       "      <td>0.0</td>\n",
       "      <td>0.794816</td>\n",
       "      <td>0.000000</td>\n",
       "      <td>0.000000</td>\n",
       "      <td>0.000000</td>\n",
       "      <td>0.000000</td>\n",
       "    </tr>\n",
       "    <tr>\n",
       "      <th>598</th>\n",
       "      <td>0.000000</td>\n",
       "      <td>0.000000</td>\n",
       "      <td>0.614878</td>\n",
       "      <td>0.000000</td>\n",
       "      <td>0.0</td>\n",
       "      <td>0.442013</td>\n",
       "      <td>0.000000</td>\n",
       "      <td>0.653107</td>\n",
       "      <td>0.000000</td>\n",
       "      <td>0.000000</td>\n",
       "    </tr>\n",
       "    <tr>\n",
       "      <th>599</th>\n",
       "      <td>0.000000</td>\n",
       "      <td>0.000000</td>\n",
       "      <td>0.000000</td>\n",
       "      <td>1.000000</td>\n",
       "      <td>0.0</td>\n",
       "      <td>0.000000</td>\n",
       "      <td>0.000000</td>\n",
       "      <td>0.000000</td>\n",
       "      <td>0.000000</td>\n",
       "      <td>0.000000</td>\n",
       "    </tr>\n",
       "  </tbody>\n",
       "</table>\n",
       "<p>600 rows × 10 columns</p>\n",
       "</div>"
      ],
      "text/plain": [
       "          app     apple    austin      ipad  ipad2    iphone      line  \\\n",
       "0    0.587465  0.000000  0.000000  0.000000    0.0  0.453575  0.000000   \n",
       "1    0.000000  0.351880  0.570174  0.312946    0.0  0.000000  0.673161   \n",
       "2    0.000000  0.425682  0.000000  0.000000    0.0  0.000000  0.000000   \n",
       "3    0.000000  0.000000  0.000000  1.000000    0.0  0.000000  0.000000   \n",
       "4    0.791530  0.000000  0.000000  0.000000    0.0  0.611131  0.000000   \n",
       "..        ...       ...       ...       ...    ...       ...       ...   \n",
       "595  0.000000  0.311811  0.000000  0.000000    0.0  0.000000  0.000000   \n",
       "596  0.000000  0.000000  0.000000  1.000000    0.0  0.000000  0.000000   \n",
       "597  0.000000  0.000000  0.000000  0.606851    0.0  0.794816  0.000000   \n",
       "598  0.000000  0.000000  0.614878  0.000000    0.0  0.442013  0.000000   \n",
       "599  0.000000  0.000000  0.000000  1.000000    0.0  0.000000  0.000000   \n",
       "\n",
       "          new       pop     store  \n",
       "0    0.670190  0.000000  0.000000  \n",
       "1    0.000000  0.000000  0.000000  \n",
       "2    0.000000  0.728613  0.536580  \n",
       "3    0.000000  0.000000  0.000000  \n",
       "4    0.000000  0.000000  0.000000  \n",
       "..        ...       ...       ...  \n",
       "595  0.000000  0.533706  0.786086  \n",
       "596  0.000000  0.000000  0.000000  \n",
       "597  0.000000  0.000000  0.000000  \n",
       "598  0.653107  0.000000  0.000000  \n",
       "599  0.000000  0.000000  0.000000  \n",
       "\n",
       "[600 rows x 10 columns]"
      ]
     },
     "execution_count": 78,
     "metadata": {},
     "output_type": "execute_result"
    }
   ],
   "source": [
    "pd.DataFrame.sparse.from_spmatrix(X_test_vectorized, columns=tfidf.get_feature_names())"
   ]
  },
  {
   "cell_type": "markdown",
   "metadata": {},
   "source": [
    "We will use pipelines to deal with these data.\n",
    "\n",
    "A data pipeline is the series of steps that allow data from one system to move to and become useful in another system, particularly analytics, data science, or AI and machine learning systems. At a high level, a data pipeline works by pulling data from the source, applying rules for transformation and processing, then pushing data to its destination.\n",
    "\n"
   ]
  },
  {
   "cell_type": "code",
   "execution_count": 79,
   "metadata": {},
   "outputs": [],
   "source": [
    "#import Pipeline model\n",
    "from sklearn.pipeline import Pipeline\n",
    "# import MultinomialNB classifier\n",
    "from sklearn.naive_bayes import MultinomialNB"
   ]
  },
  {
   "cell_type": "markdown",
   "metadata": {},
   "source": [
    "Bulit the baseline model"
   ]
  },
  {
   "cell_type": "code",
   "execution_count": 80,
   "metadata": {},
   "outputs": [
    {
     "data": {
      "text/plain": [
       "Pipeline(steps=[('tfidf',\n",
       "                 TfidfVectorizer(max_features=10,\n",
       "                                 stop_words=['i', 'me', 'my', 'myself', 'we',\n",
       "                                             'our', 'ours', 'ourselves', 'you',\n",
       "                                             \"you're\", \"you've\", \"you'll\",\n",
       "                                             \"you'd\", 'your', 'yours',\n",
       "                                             'yourself', 'yourselves', 'he',\n",
       "                                             'him', 'his', 'himself', 'she',\n",
       "                                             \"she's\", 'her', 'hers', 'herself',\n",
       "                                             'it', \"it's\", 'it', 'itself', ...],\n",
       "                                 tokenizer=<function token_lemmatizer at 0x00000204612A8790>)),\n",
       "                ('clf', MultinomialNB())])"
      ]
     },
     "execution_count": 80,
     "metadata": {},
     "output_type": "execute_result"
    }
   ],
   "source": [
    "baseline_model = Pipeline([\n",
    "        \n",
    "        ('tfidf', tfidf),\n",
    "        ('clf', MultinomialNB()),\n",
    "    ])\n",
    "# fit the model on X_train and y_train\n",
    "baseline_model.fit(X_train[\"tweet_text\"].values.astype('U'),np.ravel(y_train))"
   ]
  },
  {
   "cell_type": "markdown",
   "metadata": {
    "scrolled": true
   },
   "source": [
    " Evaluate the baseline  model classifier "
   ]
  },
  {
   "cell_type": "code",
   "execution_count": 81,
   "metadata": {
    "scrolled": true
   },
   "outputs": [
    {
     "data": {
      "text/plain": [
       "array([0.80833333, 0.80833333, 0.81058496, 0.81058496, 0.81058496])"
      ]
     },
     "execution_count": 81,
     "metadata": {},
     "output_type": "execute_result"
    }
   ],
   "source": [
    "# Evaluate the classifier on X_train_vectorized and y_train\n",
    "baseline_train_cv = cross_val_score(baseline_model, X_train[\"tweet_text\"].astype(\"U\"),np.ravel (y_train))\n",
    "baseline_train_cv"
   ]
  },
  {
   "cell_type": "code",
   "execution_count": 82,
   "metadata": {
    "scrolled": true
   },
   "outputs": [
    {
     "name": "stdout",
     "output_type": "stream",
     "text": [
      "Baseline train performance:          0.8096843082636955\n"
     ]
    }
   ],
   "source": [
    "print(\"Baseline train performance:         \", baseline_train_cv.mean())"
   ]
  },
  {
   "cell_type": "code",
   "execution_count": 83,
   "metadata": {
    "scrolled": true
   },
   "outputs": [
    {
     "data": {
      "text/plain": [
       "array([0.81666667, 0.81666667, 0.81666667, 0.81666667, 0.81666667])"
      ]
     },
     "execution_count": 83,
     "metadata": {},
     "output_type": "execute_result"
    }
   ],
   "source": [
    "# Evaluate the classifier on X_test_vectorized and y_test\n",
    "baseline_test_cv = cross_val_score(baseline_model, X_test[\"tweet_text\"].values.astype('U'),np.ravel (y_test))\n",
    "baseline_test_cv"
   ]
  },
  {
   "cell_type": "code",
   "execution_count": 84,
   "metadata": {
    "scrolled": true
   },
   "outputs": [
    {
     "name": "stdout",
     "output_type": "stream",
     "text": [
      "Baseline test performance:          0.8166666666666667\n"
     ]
    }
   ],
   "source": [
    "print(\"Baseline test performance:         \", baseline_test_cv.mean())"
   ]
  },
  {
   "cell_type": "code",
   "execution_count": 85,
   "metadata": {},
   "outputs": [],
   "source": [
    "#predictions\n",
    "y_test_pred  =baseline_model.predict(X_test[\"tweet_text\"].values.astype('U'))"
   ]
  },
  {
   "cell_type": "markdown",
   "metadata": {},
   "source": [
    "#### Create the classification_report and  Confusion matrices\n",
    "\n"
   ]
  },
  {
   "cell_type": "markdown",
   "metadata": {},
   "source": [
    "By using the classification_report() function in the sklearn.metrics module\n",
    "\n",
    "A classification report is a performance evaluation metric in machine learning. It is used to show the precision, recall, F1 Score"
   ]
  },
  {
   "cell_type": "code",
   "execution_count": 86,
   "metadata": {
    "scrolled": true
   },
   "outputs": [
    {
     "name": "stdout",
     "output_type": "stream",
     "text": [
      "              precision    recall  f1-score   support\n",
      "\n",
      "           0       0.00      0.00      0.00        95\n",
      "           1       0.00      0.00      0.00        15\n",
      "           2       0.82      1.00      0.90       490\n",
      "\n",
      "    accuracy                           0.82       600\n",
      "   macro avg       0.27      0.33      0.30       600\n",
      "weighted avg       0.67      0.82      0.73       600\n",
      "\n"
     ]
    }
   ],
   "source": [
    "#calculate metrics by using classfication report\n",
    "c_r = classification_report(y_test,y_test_pred)\n",
    "print(c_r)"
   ]
  },
  {
   "cell_type": "markdown",
   "metadata": {},
   "source": [
    "Precision — What percent of your predictions were correct?\n",
    "\n",
    "Precision = TP/(TP + FP) \n",
    "\n",
    "Recall — What percent of the positive cases did you catch?\n",
    "\n",
    "Recall = TP/(TP+FN) \n",
    "\n",
    "F1 score — What percent of positive predictions were correct?\n",
    "\n",
    "F1 Score = 2(Recall Precision) / (Recall + Precision)"
   ]
  },
  {
   "cell_type": "markdown",
   "metadata": {},
   "source": [
    "#### Confusion matrix \n",
    "\n",
    "Confusion matrix:is a very handy tool for understanding the classification model performance.\n",
    "\n",
    "we will use plot_confusion_matrix function in sklearn.metrics"
   ]
  },
  {
   "cell_type": "code",
   "execution_count": 87,
   "metadata": {},
   "outputs": [
    {
     "data": {
      "image/png": "[encoded data removed]",
      "text/plain": [
       "<Figure size 432x288 with 2 Axes>"
      ]
     },
     "metadata": {
      "needs_background": "light"
     },
     "output_type": "display_data"
    }
   ],
   "source": [
    "# Visualize the confusion matrix\n",
    "from sklearn.metrics import plot_confusion_matrix\n",
    "plot_confusion_matrix(baseline_model,X_test[\"tweet_text\"].values.astype('U'),y_test);\n"
   ]
  },
  {
   "cell_type": "markdown",
   "metadata": {},
   "source": [
    "Our model wasn't able to report the(precision, recall,f1-score )metrics for class 1 the neutral tweets, or class 0 the negative tweets. because of the imbalance problem."
   ]
  },
  {
   "cell_type": "code",
   "execution_count": null,
   "metadata": {},
   "outputs": [],
   "source": []
  },
  {
   "cell_type": "code",
   "execution_count": null,
   "metadata": {},
   "outputs": [],
   "source": []
  },
  {
   "cell_type": "code",
   "execution_count": null,
   "metadata": {},
   "outputs": [],
   "source": []
  },
  {
   "cell_type": "markdown",
   "metadata": {},
   "source": [
    "### 2. Second Model:MultinomialNB  with Over Sampling"
   ]
  },
  {
   "cell_type": "markdown",
   "metadata": {},
   "source": [
    "One approach to addressing the problem of class imbalance is to randomly resample the training dataset.\n",
    "The two main approaches to randomly resampling an imbalanced dataset are to delete examples from the majority class, called undersampling, and to duplicate examples from the minority class, called oversampling.\n",
    "Here we will use oversampling.\n",
    "Random resampling provides a naive technique for rebalancing the class distribution for an imbalanced dataset.\n",
    "Random oversampling duplicates examples from the minority class in the training dataset ."
   ]
  },
  {
   "cell_type": "code",
   "execution_count": 88,
   "metadata": {},
   "outputs": [],
   "source": [
    "# import RandomOverSampler class\n",
    "from imblearn.over_sampling import RandomOverSampler\n",
    "import imblearn.pipeline"
   ]
  },
  {
   "cell_type": "code",
   "execution_count": 89,
   "metadata": {
    "scrolled": true
   },
   "outputs": [
    {
     "data": {
      "text/plain": [
       "Pipeline(steps=[('tfidf',\n",
       "                 TfidfVectorizer(max_features=10,\n",
       "                                 stop_words=['i', 'me', 'my', 'myself', 'we',\n",
       "                                             'our', 'ours', 'ourselves', 'you',\n",
       "                                             \"you're\", \"you've\", \"you'll\",\n",
       "                                             \"you'd\", 'your', 'yours',\n",
       "                                             'yourself', 'yourselves', 'he',\n",
       "                                             'him', 'his', 'himself', 'she',\n",
       "                                             \"she's\", 'her', 'hers', 'herself',\n",
       "                                             'it', \"it's\", 'it', 'itself', ...],\n",
       "                                 tokenizer=<function token_lemmatizer at 0x00000204612A8790>)),\n",
       "                ('os', RandomOverSampler(random_state=42)),\n",
       "                ('clf', MultinomialNB())])"
      ]
     },
     "execution_count": 89,
     "metadata": {},
     "output_type": "execute_result"
    }
   ],
   "source": [
    "# create Pipeline for forth model\n",
    "\n",
    "oversample_model =imblearn.pipeline.Pipeline([\n",
    "        ('tfidf', tfidf),\n",
    "        ('os', RandomOverSampler(random_state=42)),\n",
    "        ('clf', MultinomialNB()),\n",
    "        \n",
    "    ])\n",
    "#fit the model on X_train and y_train\n",
    "\n",
    "oversample_model.fit(X_train[\"tweet_text\"].values.astype('U'),np.ravel(y_train ))\n"
   ]
  },
  {
   "cell_type": "markdown",
   "metadata": {},
   "source": [
    " Evaluate the second model classifier "
   ]
  },
  {
   "cell_type": "code",
   "execution_count": 90,
   "metadata": {
    "scrolled": true
   },
   "outputs": [
    {
     "data": {
      "text/plain": [
       "array([0.31111111, 0.34444444, 0.28969359, 0.4178273 , 0.38440111])"
      ]
     },
     "execution_count": 90,
     "metadata": {},
     "output_type": "execute_result"
    }
   ],
   "source": [
    "# Evaluate the classifier on X_train_vectorized and y_train\n",
    "oversample_train_cv = cross_val_score(oversample_model, X_train[\"tweet_text\"].values.astype('U'),np.ravel( y_train))\n",
    "oversample_train_cv"
   ]
  },
  {
   "cell_type": "code",
   "execution_count": 91,
   "metadata": {},
   "outputs": [
    {
     "name": "stdout",
     "output_type": "stream",
     "text": [
      "oversample_train 0.3494955122253172\n"
     ]
    }
   ],
   "source": [
    "print( \"oversample_train\",oversample_train_cv.mean())"
   ]
  },
  {
   "cell_type": "code",
   "execution_count": 92,
   "metadata": {
    "scrolled": false
   },
   "outputs": [
    {
     "data": {
      "text/plain": [
       "array([0.28333333, 0.39166667, 0.33333333, 0.30833333, 0.31666667])"
      ]
     },
     "execution_count": 92,
     "metadata": {},
     "output_type": "execute_result"
    }
   ],
   "source": [
    "# Evaluate the classifier on X_test_vectorized and y_test\n",
    "oversample_test_cv = cross_val_score(oversample_model, X_test[\"tweet_text\"].values.astype('U'),np.ravel( y_test))\n",
    "oversample_test_cv"
   ]
  },
  {
   "cell_type": "code",
   "execution_count": 93,
   "metadata": {},
   "outputs": [
    {
     "name": "stdout",
     "output_type": "stream",
     "text": [
      "oversample_train 0.32666666666666666\n"
     ]
    }
   ],
   "source": [
    "print( \"oversample_train\",oversample_test_cv.mean())"
   ]
  },
  {
   "cell_type": "markdown",
   "metadata": {},
   "source": [
    "We can notice the model performance is very low .We will try to use more powerful model like Random forest model."
   ]
  },
  {
   "cell_type": "code",
   "execution_count": null,
   "metadata": {},
   "outputs": [],
   "source": []
  },
  {
   "cell_type": "code",
   "execution_count": null,
   "metadata": {},
   "outputs": [],
   "source": []
  },
  {
   "cell_type": "markdown",
   "metadata": {},
   "source": [
    "### 3- Model3 : Random forest\n",
    "\n",
    "The Random forest is a supervised Machine learning algorithm used for classification, regression.\n",
    "The Random forest classifier creates a set of decision trees from a randomly selected subset of the training set."
   ]
  },
  {
   "cell_type": "code",
   "execution_count": 94,
   "metadata": {},
   "outputs": [],
   "source": [
    "# importing random forest classifier from ensemble module\n",
    "from sklearn.ensemble import RandomForestClassifier"
   ]
  },
  {
   "cell_type": "code",
   "execution_count": 95,
   "metadata": {},
   "outputs": [
    {
     "data": {
      "text/plain": [
       "Pipeline(steps=[('tfidf',\n",
       "                 TfidfVectorizer(max_features=10,\n",
       "                                 stop_words=['i', 'me', 'my', 'myself', 'we',\n",
       "                                             'our', 'ours', 'ourselves', 'you',\n",
       "                                             \"you're\", \"you've\", \"you'll\",\n",
       "                                             \"you'd\", 'your', 'yours',\n",
       "                                             'yourself', 'yourselves', 'he',\n",
       "                                             'him', 'his', 'himself', 'she',\n",
       "                                             \"she's\", 'her', 'hers', 'herself',\n",
       "                                             'it', \"it's\", 'it', 'itself', ...],\n",
       "                                 tokenizer=<function token_lemmatizer at 0x00000204612A8790>)),\n",
       "                ('clf', RandomForestClassifier())])"
      ]
     },
     "execution_count": 95,
     "metadata": {},
     "output_type": "execute_result"
    }
   ],
   "source": [
    "# create Pipeline for forth model\n",
    "random_model = Pipeline([\n",
    "        \n",
    "        ('tfidf', tfidf),\n",
    "#creating a RF classifier    \n",
    "        ('clf', RandomForestClassifier()),\n",
    "        \n",
    "    ])\n",
    "# fit the forth model on X_train and y_train\n",
    "\n",
    "random_model.fit(X_train[\"tweet_text\"].values.astype('U'),np.ravel(y_train ))"
   ]
  },
  {
   "cell_type": "markdown",
   "metadata": {
    "scrolled": false
   },
   "source": [
    "Evaluate the third model classifier"
   ]
  },
  {
   "cell_type": "code",
   "execution_count": 96,
   "metadata": {
    "scrolled": true
   },
   "outputs": [
    {
     "data": {
      "text/plain": [
       "array([0.80833333, 0.80833333, 0.81615599, 0.80501393, 0.81615599])"
      ]
     },
     "execution_count": 96,
     "metadata": {},
     "output_type": "execute_result"
    }
   ],
   "source": [
    "# Evaluate the classifier on X_train_vectorized and y_train\n",
    "random_train_cv = cross_val_score(random_model, X_train[\"tweet_text\"].values.astype('U'),np.ravel( y_train))\n",
    "random_train_cv"
   ]
  },
  {
   "cell_type": "code",
   "execution_count": 97,
   "metadata": {
    "scrolled": true
   },
   "outputs": [
    {
     "name": "stdout",
     "output_type": "stream",
     "text": [
      "random_train 0.8107985143918292\n"
     ]
    }
   ],
   "source": [
    "print( \"random_train\",random_train_cv.mean())"
   ]
  },
  {
   "cell_type": "code",
   "execution_count": 98,
   "metadata": {},
   "outputs": [
    {
     "data": {
      "text/plain": [
       "array([0.79166667, 0.825     , 0.8       , 0.80833333, 0.81666667])"
      ]
     },
     "execution_count": 98,
     "metadata": {},
     "output_type": "execute_result"
    }
   ],
   "source": [
    "# Evaluate the classifier on X_test_vectorized and y_test\n",
    "random_test_cv = cross_val_score(random_model, X_test[\"tweet_text\"].values.astype('U'),np.ravel( y_test))\n",
    "random_test_cv"
   ]
  },
  {
   "cell_type": "code",
   "execution_count": 99,
   "metadata": {
    "scrolled": true
   },
   "outputs": [
    {
     "name": "stdout",
     "output_type": "stream",
     "text": [
      "random_test 0.8083333333333333\n"
     ]
    }
   ],
   "source": [
    "print( \"random_test\",random_test_cv.mean())"
   ]
  },
  {
   "cell_type": "code",
   "execution_count": 100,
   "metadata": {},
   "outputs": [],
   "source": [
    "#predictions\n",
    "y_test_pred  = random_model.predict(X_test[\"tweet_text\"].values.astype('U'))"
   ]
  },
  {
   "cell_type": "code",
   "execution_count": 101,
   "metadata": {
    "scrolled": true
   },
   "outputs": [
    {
     "name": "stdout",
     "output_type": "stream",
     "text": [
      "              precision    recall  f1-score   support\n",
      "\n",
      "           0       0.43      0.03      0.06        95\n",
      "           1       0.00      0.00      0.00        15\n",
      "           2       0.82      0.99      0.90       490\n",
      "\n",
      "    accuracy                           0.81       600\n",
      "   macro avg       0.42      0.34      0.32       600\n",
      "weighted avg       0.74      0.81      0.74       600\n",
      "\n"
     ]
    }
   ],
   "source": [
    "# calculate metrics by using classfication report\n",
    "c_r = classification_report(y_test,y_test_pred)\n",
    "print(c_r)"
   ]
  },
  {
   "cell_type": "code",
   "execution_count": 102,
   "metadata": {
    "scrolled": true
   },
   "outputs": [
    {
     "data": {
      "image/png": "[encoded data removed]",
      "text/plain": [
       "<Figure size 432x288 with 2 Axes>"
      ]
     },
     "metadata": {
      "needs_background": "light"
     },
     "output_type": "display_data"
    }
   ],
   "source": [
    "# Visualize the confusion matrix\n",
    "from sklearn.metrics import plot_confusion_matrix\n",
    "plot_confusion_matrix(random_model,X_test[\"tweet_text\"].values.astype('U'),y_test);\n"
   ]
  },
  {
   "cell_type": "markdown",
   "metadata": {},
   "source": [
    "The third model performed better but still cant predect the class 1 (neutral) well because of the imbalance class problem ."
   ]
  },
  {
   "cell_type": "markdown",
   "metadata": {},
   "source": [
    "#### 4-Model4:Random forest over sampling\n",
    "\n",
    "We will apply the over sampling technique with Random forest model."
   ]
  },
  {
   "cell_type": "code",
   "execution_count": 103,
   "metadata": {
    "scrolled": true
   },
   "outputs": [
    {
     "data": {
      "text/plain": [
       "Pipeline(steps=[('tfidf',\n",
       "                 TfidfVectorizer(max_features=10,\n",
       "                                 stop_words=['i', 'me', 'my', 'myself', 'we',\n",
       "                                             'our', 'ours', 'ourselves', 'you',\n",
       "                                             \"you're\", \"you've\", \"you'll\",\n",
       "                                             \"you'd\", 'your', 'yours',\n",
       "                                             'yourself', 'yourselves', 'he',\n",
       "                                             'him', 'his', 'himself', 'she',\n",
       "                                             \"she's\", 'her', 'hers', 'herself',\n",
       "                                             'it', \"it's\", 'it', 'itself', ...],\n",
       "                                 tokenizer=<function token_lemmatizer at 0x00000204612A8790>)),\n",
       "                ('os', RandomOverSampler(random_state=42)),\n",
       "                ('clf', RandomForestClassifier())])"
      ]
     },
     "execution_count": 103,
     "metadata": {},
     "output_type": "execute_result"
    }
   ],
   "source": [
    "# create Pipeline for forth model\n",
    "over_random_model =imblearn.pipeline.Pipeline([\n",
    "        \n",
    "        ('tfidf', tfidf),\n",
    "        ('os', RandomOverSampler(random_state=42)),\n",
    "        ('clf', RandomForestClassifier()),\n",
    "        \n",
    "    ])\n",
    "# fit the forth model on X_train and y_train\n",
    "\n",
    "over_random_model.fit(X_train[\"tweet_text\"].values.astype('U'),np.ravel(y_train ))\n"
   ]
  },
  {
   "cell_type": "markdown",
   "metadata": {},
   "source": [
    "Evaluate the forth model classifier"
   ]
  },
  {
   "cell_type": "code",
   "execution_count": 104,
   "metadata": {
    "scrolled": true
   },
   "outputs": [
    {
     "data": {
      "text/plain": [
       "array([0.38888889, 0.38611111, 0.48189415, 0.36768802, 0.37604457])"
      ]
     },
     "execution_count": 104,
     "metadata": {},
     "output_type": "execute_result"
    }
   ],
   "source": [
    "# Evaluate the classifier on X_train_vectorized and y_train\n",
    "over_random_train_cv = cross_val_score(over_random_model, X_train[\"tweet_text\"].values.astype('U'),np.ravel( y_train))\n",
    "over_random_train_cv"
   ]
  },
  {
   "cell_type": "code",
   "execution_count": 105,
   "metadata": {},
   "outputs": [
    {
     "name": "stdout",
     "output_type": "stream",
     "text": [
      "random_train 0.40012534818941503\n"
     ]
    }
   ],
   "source": [
    "print( \"random_train\",over_random_train_cv.mean())"
   ]
  },
  {
   "cell_type": "code",
   "execution_count": 106,
   "metadata": {
    "scrolled": true
   },
   "outputs": [
    {
     "data": {
      "text/plain": [
       "array([0.38333333, 0.44166667, 0.45833333, 0.45      , 0.43333333])"
      ]
     },
     "execution_count": 106,
     "metadata": {},
     "output_type": "execute_result"
    }
   ],
   "source": [
    "# Evaluate the classifier on X_test_vectorized and y_test\n",
    "over_random_test_cv = cross_val_score(over_random_model, X_test[\"tweet_text\"].values.astype('U'),np.ravel( y_test))\n",
    "over_random_test_cv"
   ]
  },
  {
   "cell_type": "code",
   "execution_count": 107,
   "metadata": {
    "scrolled": true
   },
   "outputs": [
    {
     "name": "stdout",
     "output_type": "stream",
     "text": [
      "over_random_test 0.4333333333333333\n"
     ]
    }
   ],
   "source": [
    "print( \"over_random_test\",over_random_test_cv.mean())"
   ]
  },
  {
   "cell_type": "code",
   "execution_count": 108,
   "metadata": {},
   "outputs": [],
   "source": [
    "#predictions\n",
    "y_test_pred  = over_random_model.predict(X_test[\"tweet_text\"].values.astype('U'))"
   ]
  },
  {
   "cell_type": "code",
   "execution_count": 109,
   "metadata": {
    "scrolled": true
   },
   "outputs": [
    {
     "name": "stdout",
     "output_type": "stream",
     "text": [
      "              precision    recall  f1-score   support\n",
      "\n",
      "           0       0.20      0.66      0.31        95\n",
      "           1       0.00      0.00      0.00        15\n",
      "           2       0.87      0.37      0.52       490\n",
      "\n",
      "    accuracy                           0.41       600\n",
      "   macro avg       0.36      0.34      0.28       600\n",
      "weighted avg       0.74      0.41      0.47       600\n",
      "\n"
     ]
    }
   ],
   "source": [
    "# calculate metrics by using classfication report\n",
    "c_r = classification_report(y_test,y_test_pred)\n",
    "print(c_r)"
   ]
  },
  {
   "cell_type": "code",
   "execution_count": 110,
   "metadata": {
    "scrolled": true
   },
   "outputs": [
    {
     "data": {
      "image/png": "[encoded data removed]",
      "text/plain": [
       "<Figure size 432x288 with 2 Axes>"
      ]
     },
     "metadata": {
      "needs_background": "light"
     },
     "output_type": "display_data"
    }
   ],
   "source": [
    "# Visualize the confusion matrix\n",
    "from sklearn.metrics import plot_confusion_matrix\n",
    "plot_confusion_matrix(over_random_model,X_test[\"tweet_text\"].values.astype('U'),y_test);\n"
   ]
  },
  {
   "cell_type": "markdown",
   "metadata": {},
   "source": [
    "The fourth model didn't give us better performance but was more stable because of using over-sampling.\n",
    "We will use Random forest with oversampling techniques but with using more features to gain better performance."
   ]
  },
  {
   "cell_type": "code",
   "execution_count": null,
   "metadata": {},
   "outputs": [],
   "source": []
  },
  {
   "cell_type": "code",
   "execution_count": null,
   "metadata": {},
   "outputs": [],
   "source": []
  },
  {
   "cell_type": "code",
   "execution_count": null,
   "metadata": {},
   "outputs": [],
   "source": []
  },
  {
   "cell_type": "markdown",
   "metadata": {},
   "source": [
    "### Final model: Over sampling random forest with more featers."
   ]
  },
  {
   "cell_type": "markdown",
   "metadata": {},
   "source": [
    "We will increase the features from 10 to 1000 features."
   ]
  },
  {
   "cell_type": "code",
   "execution_count": 111,
   "metadata": {},
   "outputs": [],
   "source": [
    "# Instantiate the vectorizer\n",
    "tfidf = TfidfVectorizer(\n",
    "    max_features=1000,\n",
    "    stop_words=lemmatized_stopwords,\n",
    "    tokenizer=token_lemmatizer\n",
    ")\n",
    "\n",
    "# Fit the vectorizer on X_train[\"text\"] and transform it\n",
    "X_train_vectorized = tfidf.fit_transform(X_train[\"tweet_text\"].values.astype('U'))\n",
    "\n",
    "# transform vectorizer on X_test[\"tweet_text\"] \n",
    "X_test_vectorized = tfidf.transform(X_test[\"tweet_text\"].values.astype('U'))\n"
   ]
  },
  {
   "cell_type": "code",
   "execution_count": 112,
   "metadata": {},
   "outputs": [
    {
     "data": {
      "text/html": [
       "<div>\n",
       "<style scoped>\n",
       "    .dataframe tbody tr th:only-of-type {\n",
       "        vertical-align: middle;\n",
       "    }\n",
       "\n",
       "    .dataframe tbody tr th {\n",
       "        vertical-align: top;\n",
       "    }\n",
       "\n",
       "    .dataframe thead th {\n",
       "        text-align: right;\n",
       "    }\n",
       "</style>\n",
       "<table border=\"1\" class=\"dataframe\">\n",
       "  <thead>\n",
       "    <tr style=\"text-align: right;\">\n",
       "      <th></th>\n",
       "      <th>000</th>\n",
       "      <th>10</th>\n",
       "      <th>100</th>\n",
       "      <th>11</th>\n",
       "      <th>15</th>\n",
       "      <th>1st</th>\n",
       "      <th>20</th>\n",
       "      <th>2011</th>\n",
       "      <th>24</th>\n",
       "      <th>2nd</th>\n",
       "      <th>...</th>\n",
       "      <th>zazzlesxsw</th>\n",
       "      <th>zomg</th>\n",
       "      <th>û_</th>\n",
       "      <th>ûª</th>\n",
       "      <th>ûªll</th>\n",
       "      <th>ûªs</th>\n",
       "      <th>ûªt</th>\n",
       "      <th>ûï</th>\n",
       "      <th>ûò</th>\n",
       "      <th>ûó</th>\n",
       "    </tr>\n",
       "  </thead>\n",
       "  <tbody>\n",
       "    <tr>\n",
       "      <th>0</th>\n",
       "      <td>0.0</td>\n",
       "      <td>0.0</td>\n",
       "      <td>0.0</td>\n",
       "      <td>0.0</td>\n",
       "      <td>0.0</td>\n",
       "      <td>0.000000</td>\n",
       "      <td>0.0</td>\n",
       "      <td>0.0</td>\n",
       "      <td>0.0</td>\n",
       "      <td>0.0</td>\n",
       "      <td>...</td>\n",
       "      <td>0.0</td>\n",
       "      <td>0.0</td>\n",
       "      <td>0.0</td>\n",
       "      <td>0.0</td>\n",
       "      <td>0.0</td>\n",
       "      <td>0.0</td>\n",
       "      <td>0.0</td>\n",
       "      <td>0.0</td>\n",
       "      <td>0.0</td>\n",
       "      <td>0.0</td>\n",
       "    </tr>\n",
       "    <tr>\n",
       "      <th>1</th>\n",
       "      <td>0.0</td>\n",
       "      <td>0.0</td>\n",
       "      <td>0.0</td>\n",
       "      <td>0.0</td>\n",
       "      <td>0.0</td>\n",
       "      <td>0.000000</td>\n",
       "      <td>0.0</td>\n",
       "      <td>0.0</td>\n",
       "      <td>0.0</td>\n",
       "      <td>0.0</td>\n",
       "      <td>...</td>\n",
       "      <td>0.0</td>\n",
       "      <td>0.0</td>\n",
       "      <td>0.0</td>\n",
       "      <td>0.0</td>\n",
       "      <td>0.0</td>\n",
       "      <td>0.0</td>\n",
       "      <td>0.0</td>\n",
       "      <td>0.0</td>\n",
       "      <td>0.0</td>\n",
       "      <td>0.0</td>\n",
       "    </tr>\n",
       "    <tr>\n",
       "      <th>2</th>\n",
       "      <td>0.0</td>\n",
       "      <td>0.0</td>\n",
       "      <td>0.0</td>\n",
       "      <td>0.0</td>\n",
       "      <td>0.0</td>\n",
       "      <td>0.000000</td>\n",
       "      <td>0.0</td>\n",
       "      <td>0.0</td>\n",
       "      <td>0.0</td>\n",
       "      <td>0.0</td>\n",
       "      <td>...</td>\n",
       "      <td>0.0</td>\n",
       "      <td>0.0</td>\n",
       "      <td>0.0</td>\n",
       "      <td>0.0</td>\n",
       "      <td>0.0</td>\n",
       "      <td>0.0</td>\n",
       "      <td>0.0</td>\n",
       "      <td>0.0</td>\n",
       "      <td>0.0</td>\n",
       "      <td>0.0</td>\n",
       "    </tr>\n",
       "    <tr>\n",
       "      <th>3</th>\n",
       "      <td>0.0</td>\n",
       "      <td>0.0</td>\n",
       "      <td>0.0</td>\n",
       "      <td>0.0</td>\n",
       "      <td>0.0</td>\n",
       "      <td>0.000000</td>\n",
       "      <td>0.0</td>\n",
       "      <td>0.0</td>\n",
       "      <td>0.0</td>\n",
       "      <td>0.0</td>\n",
       "      <td>...</td>\n",
       "      <td>0.0</td>\n",
       "      <td>0.0</td>\n",
       "      <td>0.0</td>\n",
       "      <td>0.0</td>\n",
       "      <td>0.0</td>\n",
       "      <td>0.0</td>\n",
       "      <td>0.0</td>\n",
       "      <td>0.0</td>\n",
       "      <td>0.0</td>\n",
       "      <td>0.0</td>\n",
       "    </tr>\n",
       "    <tr>\n",
       "      <th>4</th>\n",
       "      <td>0.0</td>\n",
       "      <td>0.0</td>\n",
       "      <td>0.0</td>\n",
       "      <td>0.0</td>\n",
       "      <td>0.0</td>\n",
       "      <td>0.000000</td>\n",
       "      <td>0.0</td>\n",
       "      <td>0.0</td>\n",
       "      <td>0.0</td>\n",
       "      <td>0.0</td>\n",
       "      <td>...</td>\n",
       "      <td>0.0</td>\n",
       "      <td>0.0</td>\n",
       "      <td>0.0</td>\n",
       "      <td>0.0</td>\n",
       "      <td>0.0</td>\n",
       "      <td>0.0</td>\n",
       "      <td>0.0</td>\n",
       "      <td>0.0</td>\n",
       "      <td>0.0</td>\n",
       "      <td>0.0</td>\n",
       "    </tr>\n",
       "    <tr>\n",
       "      <th>...</th>\n",
       "      <td>...</td>\n",
       "      <td>...</td>\n",
       "      <td>...</td>\n",
       "      <td>...</td>\n",
       "      <td>...</td>\n",
       "      <td>...</td>\n",
       "      <td>...</td>\n",
       "      <td>...</td>\n",
       "      <td>...</td>\n",
       "      <td>...</td>\n",
       "      <td>...</td>\n",
       "      <td>...</td>\n",
       "      <td>...</td>\n",
       "      <td>...</td>\n",
       "      <td>...</td>\n",
       "      <td>...</td>\n",
       "      <td>...</td>\n",
       "      <td>...</td>\n",
       "      <td>...</td>\n",
       "      <td>...</td>\n",
       "      <td>...</td>\n",
       "    </tr>\n",
       "    <tr>\n",
       "      <th>1792</th>\n",
       "      <td>0.0</td>\n",
       "      <td>0.0</td>\n",
       "      <td>0.0</td>\n",
       "      <td>0.0</td>\n",
       "      <td>0.0</td>\n",
       "      <td>0.490924</td>\n",
       "      <td>0.0</td>\n",
       "      <td>0.0</td>\n",
       "      <td>0.0</td>\n",
       "      <td>0.0</td>\n",
       "      <td>...</td>\n",
       "      <td>0.0</td>\n",
       "      <td>0.0</td>\n",
       "      <td>0.0</td>\n",
       "      <td>0.0</td>\n",
       "      <td>0.0</td>\n",
       "      <td>0.0</td>\n",
       "      <td>0.0</td>\n",
       "      <td>0.0</td>\n",
       "      <td>0.0</td>\n",
       "      <td>0.0</td>\n",
       "    </tr>\n",
       "    <tr>\n",
       "      <th>1793</th>\n",
       "      <td>0.0</td>\n",
       "      <td>0.0</td>\n",
       "      <td>0.0</td>\n",
       "      <td>0.0</td>\n",
       "      <td>0.0</td>\n",
       "      <td>0.000000</td>\n",
       "      <td>0.0</td>\n",
       "      <td>0.0</td>\n",
       "      <td>0.0</td>\n",
       "      <td>0.0</td>\n",
       "      <td>...</td>\n",
       "      <td>0.0</td>\n",
       "      <td>0.0</td>\n",
       "      <td>0.0</td>\n",
       "      <td>0.0</td>\n",
       "      <td>0.0</td>\n",
       "      <td>0.0</td>\n",
       "      <td>0.0</td>\n",
       "      <td>0.0</td>\n",
       "      <td>0.0</td>\n",
       "      <td>0.0</td>\n",
       "    </tr>\n",
       "    <tr>\n",
       "      <th>1794</th>\n",
       "      <td>0.0</td>\n",
       "      <td>0.0</td>\n",
       "      <td>0.0</td>\n",
       "      <td>0.0</td>\n",
       "      <td>0.0</td>\n",
       "      <td>0.000000</td>\n",
       "      <td>0.0</td>\n",
       "      <td>0.0</td>\n",
       "      <td>0.0</td>\n",
       "      <td>0.0</td>\n",
       "      <td>...</td>\n",
       "      <td>0.0</td>\n",
       "      <td>0.0</td>\n",
       "      <td>0.0</td>\n",
       "      <td>0.0</td>\n",
       "      <td>0.0</td>\n",
       "      <td>0.0</td>\n",
       "      <td>0.0</td>\n",
       "      <td>0.0</td>\n",
       "      <td>0.0</td>\n",
       "      <td>0.0</td>\n",
       "    </tr>\n",
       "    <tr>\n",
       "      <th>1795</th>\n",
       "      <td>0.0</td>\n",
       "      <td>0.0</td>\n",
       "      <td>0.0</td>\n",
       "      <td>0.0</td>\n",
       "      <td>0.0</td>\n",
       "      <td>0.000000</td>\n",
       "      <td>0.0</td>\n",
       "      <td>0.0</td>\n",
       "      <td>0.0</td>\n",
       "      <td>0.0</td>\n",
       "      <td>...</td>\n",
       "      <td>0.0</td>\n",
       "      <td>0.0</td>\n",
       "      <td>0.0</td>\n",
       "      <td>0.0</td>\n",
       "      <td>0.0</td>\n",
       "      <td>0.0</td>\n",
       "      <td>0.0</td>\n",
       "      <td>0.0</td>\n",
       "      <td>0.0</td>\n",
       "      <td>0.0</td>\n",
       "    </tr>\n",
       "    <tr>\n",
       "      <th>1796</th>\n",
       "      <td>0.0</td>\n",
       "      <td>0.0</td>\n",
       "      <td>0.0</td>\n",
       "      <td>0.0</td>\n",
       "      <td>0.0</td>\n",
       "      <td>0.000000</td>\n",
       "      <td>0.0</td>\n",
       "      <td>0.0</td>\n",
       "      <td>0.0</td>\n",
       "      <td>0.0</td>\n",
       "      <td>...</td>\n",
       "      <td>0.0</td>\n",
       "      <td>0.0</td>\n",
       "      <td>0.0</td>\n",
       "      <td>0.0</td>\n",
       "      <td>0.0</td>\n",
       "      <td>0.0</td>\n",
       "      <td>0.0</td>\n",
       "      <td>0.0</td>\n",
       "      <td>0.0</td>\n",
       "      <td>0.0</td>\n",
       "    </tr>\n",
       "  </tbody>\n",
       "</table>\n",
       "<p>1797 rows × 1000 columns</p>\n",
       "</div>"
      ],
      "text/plain": [
       "      000   10  100   11   15       1st   20  2011   24  2nd  ...  zazzlesxsw  \\\n",
       "0     0.0  0.0  0.0  0.0  0.0  0.000000  0.0   0.0  0.0  0.0  ...         0.0   \n",
       "1     0.0  0.0  0.0  0.0  0.0  0.000000  0.0   0.0  0.0  0.0  ...         0.0   \n",
       "2     0.0  0.0  0.0  0.0  0.0  0.000000  0.0   0.0  0.0  0.0  ...         0.0   \n",
       "3     0.0  0.0  0.0  0.0  0.0  0.000000  0.0   0.0  0.0  0.0  ...         0.0   \n",
       "4     0.0  0.0  0.0  0.0  0.0  0.000000  0.0   0.0  0.0  0.0  ...         0.0   \n",
       "...   ...  ...  ...  ...  ...       ...  ...   ...  ...  ...  ...         ...   \n",
       "1792  0.0  0.0  0.0  0.0  0.0  0.490924  0.0   0.0  0.0  0.0  ...         0.0   \n",
       "1793  0.0  0.0  0.0  0.0  0.0  0.000000  0.0   0.0  0.0  0.0  ...         0.0   \n",
       "1794  0.0  0.0  0.0  0.0  0.0  0.000000  0.0   0.0  0.0  0.0  ...         0.0   \n",
       "1795  0.0  0.0  0.0  0.0  0.0  0.000000  0.0   0.0  0.0  0.0  ...         0.0   \n",
       "1796  0.0  0.0  0.0  0.0  0.0  0.000000  0.0   0.0  0.0  0.0  ...         0.0   \n",
       "\n",
       "      zomg   û_   ûª  ûªll  ûªs  ûªt   ûï   ûò   ûó  \n",
       "0      0.0  0.0  0.0   0.0  0.0  0.0  0.0  0.0  0.0  \n",
       "1      0.0  0.0  0.0   0.0  0.0  0.0  0.0  0.0  0.0  \n",
       "2      0.0  0.0  0.0   0.0  0.0  0.0  0.0  0.0  0.0  \n",
       "3      0.0  0.0  0.0   0.0  0.0  0.0  0.0  0.0  0.0  \n",
       "4      0.0  0.0  0.0   0.0  0.0  0.0  0.0  0.0  0.0  \n",
       "...    ...  ...  ...   ...  ...  ...  ...  ...  ...  \n",
       "1792   0.0  0.0  0.0   0.0  0.0  0.0  0.0  0.0  0.0  \n",
       "1793   0.0  0.0  0.0   0.0  0.0  0.0  0.0  0.0  0.0  \n",
       "1794   0.0  0.0  0.0   0.0  0.0  0.0  0.0  0.0  0.0  \n",
       "1795   0.0  0.0  0.0   0.0  0.0  0.0  0.0  0.0  0.0  \n",
       "1796   0.0  0.0  0.0   0.0  0.0  0.0  0.0  0.0  0.0  \n",
       "\n",
       "[1797 rows x 1000 columns]"
      ]
     },
     "execution_count": 112,
     "metadata": {},
     "output_type": "execute_result"
    }
   ],
   "source": [
    "# Visually inspect the vectorized data\n",
    "X_train_final =pd.DataFrame.sparse.from_spmatrix(X_train_vectorized, columns=tfidf.get_feature_names())\n",
    "X_train_final"
   ]
  },
  {
   "cell_type": "code",
   "execution_count": 113,
   "metadata": {},
   "outputs": [
    {
     "data": {
      "text/html": [
       "<div>\n",
       "<style scoped>\n",
       "    .dataframe tbody tr th:only-of-type {\n",
       "        vertical-align: middle;\n",
       "    }\n",
       "\n",
       "    .dataframe tbody tr th {\n",
       "        vertical-align: top;\n",
       "    }\n",
       "\n",
       "    .dataframe thead th {\n",
       "        text-align: right;\n",
       "    }\n",
       "</style>\n",
       "<table border=\"1\" class=\"dataframe\">\n",
       "  <thead>\n",
       "    <tr style=\"text-align: right;\">\n",
       "      <th></th>\n",
       "      <th>000</th>\n",
       "      <th>10</th>\n",
       "      <th>100</th>\n",
       "      <th>11</th>\n",
       "      <th>15</th>\n",
       "      <th>1st</th>\n",
       "      <th>20</th>\n",
       "      <th>2011</th>\n",
       "      <th>24</th>\n",
       "      <th>2nd</th>\n",
       "      <th>...</th>\n",
       "      <th>zazzlesxsw</th>\n",
       "      <th>zomg</th>\n",
       "      <th>û_</th>\n",
       "      <th>ûª</th>\n",
       "      <th>ûªll</th>\n",
       "      <th>ûªs</th>\n",
       "      <th>ûªt</th>\n",
       "      <th>ûï</th>\n",
       "      <th>ûò</th>\n",
       "      <th>ûó</th>\n",
       "    </tr>\n",
       "  </thead>\n",
       "  <tbody>\n",
       "    <tr>\n",
       "      <th>0</th>\n",
       "      <td>0.0</td>\n",
       "      <td>0.0</td>\n",
       "      <td>0.0</td>\n",
       "      <td>0.0</td>\n",
       "      <td>0.0</td>\n",
       "      <td>0.0</td>\n",
       "      <td>0.0</td>\n",
       "      <td>0.0</td>\n",
       "      <td>0.0</td>\n",
       "      <td>0.0</td>\n",
       "      <td>...</td>\n",
       "      <td>0.0</td>\n",
       "      <td>0.0</td>\n",
       "      <td>0.0</td>\n",
       "      <td>0.0</td>\n",
       "      <td>0.0</td>\n",
       "      <td>0.0</td>\n",
       "      <td>0.0</td>\n",
       "      <td>0.0</td>\n",
       "      <td>0.0</td>\n",
       "      <td>0.0</td>\n",
       "    </tr>\n",
       "    <tr>\n",
       "      <th>1</th>\n",
       "      <td>0.0</td>\n",
       "      <td>0.0</td>\n",
       "      <td>0.0</td>\n",
       "      <td>0.0</td>\n",
       "      <td>0.0</td>\n",
       "      <td>0.0</td>\n",
       "      <td>0.0</td>\n",
       "      <td>0.0</td>\n",
       "      <td>0.0</td>\n",
       "      <td>0.0</td>\n",
       "      <td>...</td>\n",
       "      <td>0.0</td>\n",
       "      <td>0.0</td>\n",
       "      <td>0.0</td>\n",
       "      <td>0.0</td>\n",
       "      <td>0.0</td>\n",
       "      <td>0.0</td>\n",
       "      <td>0.0</td>\n",
       "      <td>0.0</td>\n",
       "      <td>0.0</td>\n",
       "      <td>0.0</td>\n",
       "    </tr>\n",
       "    <tr>\n",
       "      <th>2</th>\n",
       "      <td>0.0</td>\n",
       "      <td>0.0</td>\n",
       "      <td>0.0</td>\n",
       "      <td>0.0</td>\n",
       "      <td>0.0</td>\n",
       "      <td>0.0</td>\n",
       "      <td>0.0</td>\n",
       "      <td>0.0</td>\n",
       "      <td>0.0</td>\n",
       "      <td>0.0</td>\n",
       "      <td>...</td>\n",
       "      <td>0.0</td>\n",
       "      <td>0.0</td>\n",
       "      <td>0.0</td>\n",
       "      <td>0.0</td>\n",
       "      <td>0.0</td>\n",
       "      <td>0.0</td>\n",
       "      <td>0.0</td>\n",
       "      <td>0.0</td>\n",
       "      <td>0.0</td>\n",
       "      <td>0.0</td>\n",
       "    </tr>\n",
       "    <tr>\n",
       "      <th>3</th>\n",
       "      <td>0.0</td>\n",
       "      <td>0.0</td>\n",
       "      <td>0.0</td>\n",
       "      <td>0.0</td>\n",
       "      <td>0.0</td>\n",
       "      <td>0.0</td>\n",
       "      <td>0.0</td>\n",
       "      <td>0.0</td>\n",
       "      <td>0.0</td>\n",
       "      <td>0.0</td>\n",
       "      <td>...</td>\n",
       "      <td>0.0</td>\n",
       "      <td>0.0</td>\n",
       "      <td>0.0</td>\n",
       "      <td>0.0</td>\n",
       "      <td>0.0</td>\n",
       "      <td>0.0</td>\n",
       "      <td>0.0</td>\n",
       "      <td>0.0</td>\n",
       "      <td>0.0</td>\n",
       "      <td>0.0</td>\n",
       "    </tr>\n",
       "    <tr>\n",
       "      <th>4</th>\n",
       "      <td>0.0</td>\n",
       "      <td>0.0</td>\n",
       "      <td>0.0</td>\n",
       "      <td>0.0</td>\n",
       "      <td>0.0</td>\n",
       "      <td>0.0</td>\n",
       "      <td>0.0</td>\n",
       "      <td>0.0</td>\n",
       "      <td>0.0</td>\n",
       "      <td>0.0</td>\n",
       "      <td>...</td>\n",
       "      <td>0.0</td>\n",
       "      <td>0.0</td>\n",
       "      <td>0.0</td>\n",
       "      <td>0.0</td>\n",
       "      <td>0.0</td>\n",
       "      <td>0.0</td>\n",
       "      <td>0.0</td>\n",
       "      <td>0.0</td>\n",
       "      <td>0.0</td>\n",
       "      <td>0.0</td>\n",
       "    </tr>\n",
       "    <tr>\n",
       "      <th>...</th>\n",
       "      <td>...</td>\n",
       "      <td>...</td>\n",
       "      <td>...</td>\n",
       "      <td>...</td>\n",
       "      <td>...</td>\n",
       "      <td>...</td>\n",
       "      <td>...</td>\n",
       "      <td>...</td>\n",
       "      <td>...</td>\n",
       "      <td>...</td>\n",
       "      <td>...</td>\n",
       "      <td>...</td>\n",
       "      <td>...</td>\n",
       "      <td>...</td>\n",
       "      <td>...</td>\n",
       "      <td>...</td>\n",
       "      <td>...</td>\n",
       "      <td>...</td>\n",
       "      <td>...</td>\n",
       "      <td>...</td>\n",
       "      <td>...</td>\n",
       "    </tr>\n",
       "    <tr>\n",
       "      <th>595</th>\n",
       "      <td>0.0</td>\n",
       "      <td>0.0</td>\n",
       "      <td>0.0</td>\n",
       "      <td>0.0</td>\n",
       "      <td>0.0</td>\n",
       "      <td>0.0</td>\n",
       "      <td>0.0</td>\n",
       "      <td>0.0</td>\n",
       "      <td>0.0</td>\n",
       "      <td>0.0</td>\n",
       "      <td>...</td>\n",
       "      <td>0.0</td>\n",
       "      <td>0.0</td>\n",
       "      <td>0.0</td>\n",
       "      <td>0.0</td>\n",
       "      <td>0.0</td>\n",
       "      <td>0.0</td>\n",
       "      <td>0.0</td>\n",
       "      <td>0.0</td>\n",
       "      <td>0.0</td>\n",
       "      <td>0.0</td>\n",
       "    </tr>\n",
       "    <tr>\n",
       "      <th>596</th>\n",
       "      <td>0.0</td>\n",
       "      <td>0.0</td>\n",
       "      <td>0.0</td>\n",
       "      <td>0.0</td>\n",
       "      <td>0.0</td>\n",
       "      <td>0.0</td>\n",
       "      <td>0.0</td>\n",
       "      <td>0.0</td>\n",
       "      <td>0.0</td>\n",
       "      <td>0.0</td>\n",
       "      <td>...</td>\n",
       "      <td>0.0</td>\n",
       "      <td>0.0</td>\n",
       "      <td>0.0</td>\n",
       "      <td>0.0</td>\n",
       "      <td>0.0</td>\n",
       "      <td>0.0</td>\n",
       "      <td>0.0</td>\n",
       "      <td>0.0</td>\n",
       "      <td>0.0</td>\n",
       "      <td>0.0</td>\n",
       "    </tr>\n",
       "    <tr>\n",
       "      <th>597</th>\n",
       "      <td>0.0</td>\n",
       "      <td>0.0</td>\n",
       "      <td>0.0</td>\n",
       "      <td>0.0</td>\n",
       "      <td>0.0</td>\n",
       "      <td>0.0</td>\n",
       "      <td>0.0</td>\n",
       "      <td>0.0</td>\n",
       "      <td>0.0</td>\n",
       "      <td>0.0</td>\n",
       "      <td>...</td>\n",
       "      <td>0.0</td>\n",
       "      <td>0.0</td>\n",
       "      <td>0.0</td>\n",
       "      <td>0.0</td>\n",
       "      <td>0.0</td>\n",
       "      <td>0.0</td>\n",
       "      <td>0.0</td>\n",
       "      <td>0.0</td>\n",
       "      <td>0.0</td>\n",
       "      <td>0.0</td>\n",
       "    </tr>\n",
       "    <tr>\n",
       "      <th>598</th>\n",
       "      <td>0.0</td>\n",
       "      <td>0.0</td>\n",
       "      <td>0.0</td>\n",
       "      <td>0.0</td>\n",
       "      <td>0.0</td>\n",
       "      <td>0.0</td>\n",
       "      <td>0.0</td>\n",
       "      <td>0.0</td>\n",
       "      <td>0.0</td>\n",
       "      <td>0.0</td>\n",
       "      <td>...</td>\n",
       "      <td>0.0</td>\n",
       "      <td>0.0</td>\n",
       "      <td>0.0</td>\n",
       "      <td>0.0</td>\n",
       "      <td>0.0</td>\n",
       "      <td>0.0</td>\n",
       "      <td>0.0</td>\n",
       "      <td>0.0</td>\n",
       "      <td>0.0</td>\n",
       "      <td>0.0</td>\n",
       "    </tr>\n",
       "    <tr>\n",
       "      <th>599</th>\n",
       "      <td>0.0</td>\n",
       "      <td>0.0</td>\n",
       "      <td>0.0</td>\n",
       "      <td>0.0</td>\n",
       "      <td>0.0</td>\n",
       "      <td>0.0</td>\n",
       "      <td>0.0</td>\n",
       "      <td>0.0</td>\n",
       "      <td>0.0</td>\n",
       "      <td>0.0</td>\n",
       "      <td>...</td>\n",
       "      <td>0.0</td>\n",
       "      <td>0.0</td>\n",
       "      <td>0.0</td>\n",
       "      <td>0.0</td>\n",
       "      <td>0.0</td>\n",
       "      <td>0.0</td>\n",
       "      <td>0.0</td>\n",
       "      <td>0.0</td>\n",
       "      <td>0.0</td>\n",
       "      <td>0.0</td>\n",
       "    </tr>\n",
       "  </tbody>\n",
       "</table>\n",
       "<p>600 rows × 1000 columns</p>\n",
       "</div>"
      ],
      "text/plain": [
       "     000   10  100   11   15  1st   20  2011   24  2nd  ...  zazzlesxsw  zomg  \\\n",
       "0    0.0  0.0  0.0  0.0  0.0  0.0  0.0   0.0  0.0  0.0  ...         0.0   0.0   \n",
       "1    0.0  0.0  0.0  0.0  0.0  0.0  0.0   0.0  0.0  0.0  ...         0.0   0.0   \n",
       "2    0.0  0.0  0.0  0.0  0.0  0.0  0.0   0.0  0.0  0.0  ...         0.0   0.0   \n",
       "3    0.0  0.0  0.0  0.0  0.0  0.0  0.0   0.0  0.0  0.0  ...         0.0   0.0   \n",
       "4    0.0  0.0  0.0  0.0  0.0  0.0  0.0   0.0  0.0  0.0  ...         0.0   0.0   \n",
       "..   ...  ...  ...  ...  ...  ...  ...   ...  ...  ...  ...         ...   ...   \n",
       "595  0.0  0.0  0.0  0.0  0.0  0.0  0.0   0.0  0.0  0.0  ...         0.0   0.0   \n",
       "596  0.0  0.0  0.0  0.0  0.0  0.0  0.0   0.0  0.0  0.0  ...         0.0   0.0   \n",
       "597  0.0  0.0  0.0  0.0  0.0  0.0  0.0   0.0  0.0  0.0  ...         0.0   0.0   \n",
       "598  0.0  0.0  0.0  0.0  0.0  0.0  0.0   0.0  0.0  0.0  ...         0.0   0.0   \n",
       "599  0.0  0.0  0.0  0.0  0.0  0.0  0.0   0.0  0.0  0.0  ...         0.0   0.0   \n",
       "\n",
       "      û_   ûª  ûªll  ûªs  ûªt   ûï   ûò   ûó  \n",
       "0    0.0  0.0   0.0  0.0  0.0  0.0  0.0  0.0  \n",
       "1    0.0  0.0   0.0  0.0  0.0  0.0  0.0  0.0  \n",
       "2    0.0  0.0   0.0  0.0  0.0  0.0  0.0  0.0  \n",
       "3    0.0  0.0   0.0  0.0  0.0  0.0  0.0  0.0  \n",
       "4    0.0  0.0   0.0  0.0  0.0  0.0  0.0  0.0  \n",
       "..   ...  ...   ...  ...  ...  ...  ...  ...  \n",
       "595  0.0  0.0   0.0  0.0  0.0  0.0  0.0  0.0  \n",
       "596  0.0  0.0   0.0  0.0  0.0  0.0  0.0  0.0  \n",
       "597  0.0  0.0   0.0  0.0  0.0  0.0  0.0  0.0  \n",
       "598  0.0  0.0   0.0  0.0  0.0  0.0  0.0  0.0  \n",
       "599  0.0  0.0   0.0  0.0  0.0  0.0  0.0  0.0  \n",
       "\n",
       "[600 rows x 1000 columns]"
      ]
     },
     "execution_count": 113,
     "metadata": {},
     "output_type": "execute_result"
    }
   ],
   "source": [
    "X_test_final=pd.DataFrame.sparse.from_spmatrix(X_test_vectorized, columns=tfidf.get_feature_names())\n",
    "X_test_final"
   ]
  },
  {
   "cell_type": "code",
   "execution_count": 114,
   "metadata": {},
   "outputs": [
    {
     "data": {
      "text/plain": [
       "Pipeline(steps=[('tfidf',\n",
       "                 TfidfVectorizer(max_features=1000,\n",
       "                                 stop_words=['i', 'me', 'my', 'myself', 'we',\n",
       "                                             'our', 'ours', 'ourselves', 'you',\n",
       "                                             \"you're\", \"you've\", \"you'll\",\n",
       "                                             \"you'd\", 'your', 'yours',\n",
       "                                             'yourself', 'yourselves', 'he',\n",
       "                                             'him', 'his', 'himself', 'she',\n",
       "                                             \"she's\", 'her', 'hers', 'herself',\n",
       "                                             'it', \"it's\", 'it', 'itself', ...],\n",
       "                                 tokenizer=<function token_lemmatizer at 0x00000204612A8790>)),\n",
       "                ('os', RandomOverSampler(random_state=42)),\n",
       "                ('clf', RandomForestClassifier())])"
      ]
     },
     "execution_count": 114,
     "metadata": {},
     "output_type": "execute_result"
    }
   ],
   "source": [
    "# create Pipeline for forth model\n",
    "oversample_random_model =imblearn.pipeline.Pipeline([\n",
    "        \n",
    "        ('tfidf', tfidf),\n",
    "        ('os', RandomOverSampler(random_state=42)),\n",
    "        ('clf', RandomForestClassifier()),\n",
    "        \n",
    "    ])\n",
    "\n",
    "# fit the forth model on X_train and y_train\n",
    "\n",
    "oversample_random_model.fit(X_train[\"tweet_text\"].values.astype('U'),np.ravel(y_train ))\n"
   ]
  },
  {
   "cell_type": "markdown",
   "metadata": {},
   "source": [
    "Evaluate the fifth model classifier"
   ]
  },
  {
   "cell_type": "code",
   "execution_count": 115,
   "metadata": {},
   "outputs": [
    {
     "data": {
      "text/plain": [
       "array([0.82222222, 0.85555556, 0.84679666, 0.83844011, 0.84958217])"
      ]
     },
     "execution_count": 115,
     "metadata": {},
     "output_type": "execute_result"
    }
   ],
   "source": [
    "# Evaluate the classifier on X_train_vectorized and y_train\n",
    "oversample_random_train_cv = cross_val_score(oversample_random_model, X_train[\"tweet_text\"].values.astype('U'),np.ravel( y_train))\n",
    "oversample_random_train_cv"
   ]
  },
  {
   "cell_type": "code",
   "execution_count": 116,
   "metadata": {
    "scrolled": true
   },
   "outputs": [
    {
     "name": "stdout",
     "output_type": "stream",
     "text": [
      "oversample random_train 0.8425193438563913\n"
     ]
    }
   ],
   "source": [
    "print( \"oversample random_train\",oversample_random_train_cv.mean())"
   ]
  },
  {
   "cell_type": "code",
   "execution_count": 117,
   "metadata": {
    "scrolled": true
   },
   "outputs": [
    {
     "data": {
      "text/plain": [
       "array([0.80833333, 0.825     , 0.80833333, 0.80833333, 0.81666667])"
      ]
     },
     "execution_count": 117,
     "metadata": {},
     "output_type": "execute_result"
    }
   ],
   "source": [
    "# Evaluate the classifier on X_test_vectorized and y_test\n",
    "oversample_random_test_cv = cross_val_score(oversample_random_model, X_test[\"tweet_text\"].values.astype('U'),np.ravel( y_test))\n",
    "oversample_random_test_cv"
   ]
  },
  {
   "cell_type": "code",
   "execution_count": 118,
   "metadata": {
    "scrolled": true
   },
   "outputs": [
    {
     "name": "stdout",
     "output_type": "stream",
     "text": [
      "oversample random_test 0.8133333333333332\n"
     ]
    }
   ],
   "source": [
    "print( \"oversample random_test\",oversample_random_test_cv.mean())"
   ]
  },
  {
   "cell_type": "code",
   "execution_count": 119,
   "metadata": {},
   "outputs": [],
   "source": [
    "#predictions\n",
    "y_test_pred  =oversample_random_model.predict(X_test[\"tweet_text\"].values.astype('U'))"
   ]
  },
  {
   "cell_type": "code",
   "execution_count": 120,
   "metadata": {
    "scrolled": true
   },
   "outputs": [
    {
     "name": "stdout",
     "output_type": "stream",
     "text": [
      "              precision    recall  f1-score   support\n",
      "\n",
      "           0       0.69      0.39      0.50        95\n",
      "           1       0.00      0.00      0.00        15\n",
      "           2       0.87      0.96      0.91       490\n",
      "\n",
      "    accuracy                           0.84       600\n",
      "   macro avg       0.52      0.45      0.47       600\n",
      "weighted avg       0.82      0.84      0.82       600\n",
      "\n"
     ]
    }
   ],
   "source": [
    "# calculate metrics by using classfication report\n",
    "c_r = classification_report(y_test,y_test_pred)\n",
    "print(c_r)"
   ]
  },
  {
   "cell_type": "markdown",
   "metadata": {},
   "source": [
    "## Final model Evaluation"
   ]
  },
  {
   "cell_type": "markdown",
   "metadata": {},
   "source": [
    "We evaluated our final model based on the precision score metric as well as the F1 score, confusion matrix.\n",
    "\n",
    "The best model based on performance and precision is the Over sampling random forest with more featers., Acc=84% and precision  = 87%\n",
    "\n",
    "Precision — What percent of your predictions were correct?\n",
    "\n",
    "Precision = TP/(TP + FP) High precision for class 2: Not many True values were predicted as False\n",
    "\n",
    "Confusion Matrix gives a comparison between Actual and predicted values.\n",
    "\n",
    "\n",
    "How to calculate FN, FP, TN, TP for multi classes?\n",
    "\n",
    "TP: The True positive value is where the actual value and predicted value are the same.\n",
    "  \n",
    "FN: The False-negative value for a class will be the sum of values of corresponding rows except for the TP value.\n",
    "\n",
    "FP: The False-positive value for a class will be the sum of values of the corresponding column except for the TP value.\n",
    "\n",
    "TN: The True Negative value for a class will be the sum of values of all columns and rows except the values of that class that we are calculating the values for.\n",
    "\n",
    "Confusion Matrix allows us to measure Recall, Precision, Accuracy of the model."
   ]
  },
  {
   "cell_type": "markdown",
   "metadata": {},
   "source": [
    "TP for the class 2(Posative) :is 468that means the model predict 468 tweets are posative and they are actually posative.\n",
    "\n",
    "TP for the class 1(neutral)  :is 0 that means the model predict 0 tweets are neutral and they are actually neutral.\n",
    "\n",
    "TP for the class 0(Negative) :is 37 that means the model predict 37 tweets are Negative and they are actually Negative."
   ]
  },
  {
   "cell_type": "markdown",
   "metadata": {},
   "source": [
    "FP for the class 2(Posative) :is 55 + 15 = 70 that means the model predict 70 tweets as posative and they are actually not.\n",
    "\n",
    "FP for the class 1(neutral)  :is 3 + 5 = 8  that means the model predict 8 tweets as neutral and they are actually not.\n",
    "\n",
    "FP for the class 0(negative) :is 17 that means the model predict 17 tweets as negative and they are actually not."
   ]
  },
  {
   "cell_type": "markdown",
   "metadata": {},
   "source": [
    "FN for the class 2(Posative) :is 5 + 17 =22  that means the model predict 22 tweets not posative but actually they are posative.\n",
    "\n",
    "FN for the class 1(neutral) :is  15   that means the model predict 15 tweets are not neutral but actually they are neutral.\n",
    "\n",
    "FN for the class 0(negative) :is 3 +55 =58  that means the model predict 58 tweets are not negative but actually they are negative."
   ]
  },
  {
   "cell_type": "markdown",
   "metadata": {},
   "source": [
    "TN  for the class 2(Posative) :is 37+3=40 that means the model predict 40 tweets are not posative and they are actually true not posative.\n",
    "\n",
    "TN  for the class 1(neutral)  :is 37+55+17+468= 577 that means the model predict 577 tweets are not neutral and they are actually true not neutral.\n",
    "\n",
    "TN  for the class 0(negative) :is 5+15+468 =488 that means the model predict 488 tweets  are not negative and they  are  actually not negative."
   ]
  },
  {
   "cell_type": "code",
   "execution_count": null,
   "metadata": {},
   "outputs": [],
   "source": []
  },
  {
   "cell_type": "markdown",
   "metadata": {},
   "source": [
    "## Results:"
   ]
  },
  {
   "cell_type": "markdown",
   "metadata": {},
   "source": [
    "Let us find out what factors do people depend on when they reported their opinion as posative tweets."
   ]
  },
  {
   "cell_type": "markdown",
   "metadata": {},
   "source": [
    "This data frame has only posative tweets."
   ]
  },
  {
   "cell_type": "code",
   "execution_count": 122,
   "metadata": {
    "scrolled": true
   },
   "outputs": [
    {
     "data": {
      "text/html": [
       "<div>\n",
       "<style scoped>\n",
       "    .dataframe tbody tr th:only-of-type {\n",
       "        vertical-align: middle;\n",
       "    }\n",
       "\n",
       "    .dataframe tbody tr th {\n",
       "        vertical-align: top;\n",
       "    }\n",
       "\n",
       "    .dataframe thead th {\n",
       "        text-align: right;\n",
       "    }\n",
       "</style>\n",
       "<table border=\"1\" class=\"dataframe\">\n",
       "  <thead>\n",
       "    <tr style=\"text-align: right;\">\n",
       "      <th></th>\n",
       "      <th>tweet_text</th>\n",
       "      <th>product</th>\n",
       "      <th>catogory</th>\n",
       "      <th>text_tokenized</th>\n",
       "      <th>text_without_stopwords</th>\n",
       "      <th>text_steemed</th>\n",
       "      <th>text_lemmatized</th>\n",
       "    </tr>\n",
       "  </thead>\n",
       "  <tbody>\n",
       "    <tr>\n",
       "      <th>1</th>\n",
       "      <td>@jessedee know about @fludapp ? awesome ipad/iphone app that you'll likely appreciate for its design. also, they're giving free ts at #sxsw</td>\n",
       "      <td>Apple</td>\n",
       "      <td>2</td>\n",
       "      <td>[jessedee, know, about, fludapp, awesome, ipad, iphone, app, that, you, ll, likely, appreciate, for, its, design, also, they, re, giving, free, ts, at, sxsw]</td>\n",
       "      <td>[jessedee, know, fludapp, awesome, ipad, iphone, app, likely, appreciate, design, giving, free, ts]</td>\n",
       "      <td>[jessede, know, fludapp, awesom, ipad, iphon, app, like, appreci, design, give, free, ts]</td>\n",
       "      <td>[jessedee, know, fludapp, awesome, ipad, iphone, app, likely, appreciate, design, giving, free, t]</td>\n",
       "    </tr>\n",
       "    <tr>\n",
       "      <th>2</th>\n",
       "      <td>@swonderlin can not wait for #ipad 2 also. they should sale them down at #sxsw.</td>\n",
       "      <td>Apple</td>\n",
       "      <td>2</td>\n",
       "      <td>[swonderlin, can, not, wait, for, ipad, also, they, should, sale, them, down, at, sxsw]</td>\n",
       "      <td>[swonderlin, wait, ipad, sale]</td>\n",
       "      <td>[swonderlin, wait, ipad, sale]</td>\n",
       "      <td>[swonderlin, wait, ipad, sale]</td>\n",
       "    </tr>\n",
       "    <tr>\n",
       "      <th>8</th>\n",
       "      <td>beautifully smart and simple idea rt @madebymany @thenextweb wrote about our #hollergram ipad app for #sxsw!</td>\n",
       "      <td>Apple</td>\n",
       "      <td>2</td>\n",
       "      <td>[beautifully, smart, and, simple, idea, rt, madebymany, thenextweb, wrote, about, our, hollergram, ipad, app, for, sxsw]</td>\n",
       "      <td>[beautifully, smart, simple, idea, madebymany, thenextweb, wrote, hollergram, ipad, app]</td>\n",
       "      <td>[beauti, smart, simpl, idea, madebymani, thenextweb, wrote, hollergram, ipad, app]</td>\n",
       "      <td>[beautifully, smart, simple, idea, madebymany, thenextweb, wrote, hollergram, ipad, app]</td>\n",
       "    </tr>\n",
       "    <tr>\n",
       "      <th>9</th>\n",
       "      <td>counting down the days to #sxsw plus strong canadian dollar means stock up on apple gear</td>\n",
       "      <td>Apple</td>\n",
       "      <td>2</td>\n",
       "      <td>[counting, down, the, days, to, sxsw, plus, strong, canadian, dollar, means, stock, up, on, apple, gear]</td>\n",
       "      <td>[counting, days, plus, strong, canadian, dollar, means, stock, apple, gear]</td>\n",
       "      <td>[count, day, plus, strong, canadian, dollar, mean, stock, appl, gear]</td>\n",
       "      <td>[counting, day, plus, strong, canadian, dollar, mean, stock, apple, gear]</td>\n",
       "    </tr>\n",
       "    <tr>\n",
       "      <th>14</th>\n",
       "      <td>great #sxsw ipad app from @madebymany:</td>\n",
       "      <td>Apple</td>\n",
       "      <td>2</td>\n",
       "      <td>[great, sxsw, ipad, app, from, madebymany]</td>\n",
       "      <td>[great, ipad, app, madebymany]</td>\n",
       "      <td>[great, ipad, app, madebymani]</td>\n",
       "      <td>[great, ipad, app, madebymany]</td>\n",
       "    </tr>\n",
       "    <tr>\n",
       "      <th>...</th>\n",
       "      <td>...</td>\n",
       "      <td>...</td>\n",
       "      <td>...</td>\n",
       "      <td>...</td>\n",
       "      <td>...</td>\n",
       "      <td>...</td>\n",
       "      <td>...</td>\n",
       "    </tr>\n",
       "    <tr>\n",
       "      <th>9072</th>\n",
       "      <td>@mention your iphone 4 cases are rad and ready! stop by tomorrow to get them! #sxsw #zazzlesxsw #sxswi {link}</td>\n",
       "      <td>Apple</td>\n",
       "      <td>2</td>\n",
       "      <td>[mention, your, iphone, cases, are, rad, and, ready, stop, by, tomorrow, to, get, them, sxsw, zazzlesxsw, sxswi, link]</td>\n",
       "      <td>[iphone, cases, rad, ready, stop, tomorrow, get, zazzlesxsw]</td>\n",
       "      <td>[iphon, case, rad, readi, stop, tomorrow, get, zazzlesxsw]</td>\n",
       "      <td>[iphone, case, rad, ready, stop, tomorrow, get, zazzlesxsw]</td>\n",
       "    </tr>\n",
       "    <tr>\n",
       "      <th>9077</th>\n",
       "      <td>@mention your pr guy just convinced me to switch back to iphone. great #sxsw coverage. #princess</td>\n",
       "      <td>Apple</td>\n",
       "      <td>2</td>\n",
       "      <td>[mention, your, pr, guy, just, convinced, me, to, switch, back, to, iphone, great, sxsw, coverage, princess]</td>\n",
       "      <td>[pr, guy, convinced, switch, back, iphone, great, coverage, princess]</td>\n",
       "      <td>[pr, guy, convinc, switch, back, iphon, great, coverag, princess]</td>\n",
       "      <td>[pr, guy, convinced, switch, back, iphone, great, coverage, princess]</td>\n",
       "    </tr>\n",
       "    <tr>\n",
       "      <th>9079</th>\n",
       "      <td>papyrus...sort of like the ipad - nice! lol! #sxsw lavelle</td>\n",
       "      <td>Apple</td>\n",
       "      <td>2</td>\n",
       "      <td>[papyrus, sort, of, like, the, ipad, nice, lol, sxsw, lavelle]</td>\n",
       "      <td>[papyrus, sort, like, ipad, nice, lol, lavelle]</td>\n",
       "      <td>[papyrus, sort, like, ipad, nice, lol, lavell]</td>\n",
       "      <td>[papyrus, sort, like, ipad, nice, lol, lavelle]</td>\n",
       "    </tr>\n",
       "    <tr>\n",
       "      <th>9085</th>\n",
       "      <td>i've always used camera+ for my iphone b/c it has an image stabilizer mode. suggestions for an ipad cam app w/ same feature? #sxsw #sxswi</td>\n",
       "      <td>Apple</td>\n",
       "      <td>2</td>\n",
       "      <td>[ve, always, used, camera, for, my, iphone, it, has, an, image, stabilizer, mode, suggestions, for, an, ipad, cam, app, same, feature, sxsw, sxswi]</td>\n",
       "      <td>[always, used, camera, iphone, image, stabilizer, mode, suggestions, ipad, cam, app, feature]</td>\n",
       "      <td>[alway, use, camera, iphon, imag, stabil, mode, suggest, ipad, cam, app, featur]</td>\n",
       "      <td>[always, used, camera, iphone, image, stabilizer, mode, suggestion, ipad, cam, app, feature]</td>\n",
       "    </tr>\n",
       "    <tr>\n",
       "      <th>9088</th>\n",
       "      <td>ipad everywhere. #sxsw {link}</td>\n",
       "      <td>Apple</td>\n",
       "      <td>2</td>\n",
       "      <td>[ipad, everywhere, sxsw, link]</td>\n",
       "      <td>[ipad, everywhere]</td>\n",
       "      <td>[ipad, everywher]</td>\n",
       "      <td>[ipad, everywhere]</td>\n",
       "    </tr>\n",
       "  </tbody>\n",
       "</table>\n",
       "<p>1945 rows × 7 columns</p>\n",
       "</div>"
      ],
      "text/plain": [
       "                                                                                                                                       tweet_text  \\\n",
       "1     @jessedee know about @fludapp ? awesome ipad/iphone app that you'll likely appreciate for its design. also, they're giving free ts at #sxsw   \n",
       "2                                                                 @swonderlin can not wait for #ipad 2 also. they should sale them down at #sxsw.   \n",
       "8                                   beautifully smart and simple idea rt @madebymany @thenextweb wrote about our #hollergram ipad app for #sxsw!    \n",
       "9                                                        counting down the days to #sxsw plus strong canadian dollar means stock up on apple gear   \n",
       "14                                                                                                        great #sxsw ipad app from @madebymany:    \n",
       "...                                                                                                                                           ...   \n",
       "9072                                @mention your iphone 4 cases are rad and ready! stop by tomorrow to get them! #sxsw #zazzlesxsw #sxswi {link}   \n",
       "9077                                             @mention your pr guy just convinced me to switch back to iphone. great #sxsw coverage. #princess   \n",
       "9079                                                                                   papyrus...sort of like the ipad - nice! lol! #sxsw lavelle   \n",
       "9085    i've always used camera+ for my iphone b/c it has an image stabilizer mode. suggestions for an ipad cam app w/ same feature? #sxsw #sxswi   \n",
       "9088                                                                                                                ipad everywhere. #sxsw {link}   \n",
       "\n",
       "     product  catogory  \\\n",
       "1      Apple         2   \n",
       "2      Apple         2   \n",
       "8      Apple         2   \n",
       "9      Apple         2   \n",
       "14     Apple         2   \n",
       "...      ...       ...   \n",
       "9072   Apple         2   \n",
       "9077   Apple         2   \n",
       "9079   Apple         2   \n",
       "9085   Apple         2   \n",
       "9088   Apple         2   \n",
       "\n",
       "                                                                                                                                                     text_tokenized  \\\n",
       "1     [jessedee, know, about, fludapp, awesome, ipad, iphone, app, that, you, ll, likely, appreciate, for, its, design, also, they, re, giving, free, ts, at, sxsw]   \n",
       "2                                                                           [swonderlin, can, not, wait, for, ipad, also, they, should, sale, them, down, at, sxsw]   \n",
       "8                                          [beautifully, smart, and, simple, idea, rt, madebymany, thenextweb, wrote, about, our, hollergram, ipad, app, for, sxsw]   \n",
       "9                                                          [counting, down, the, days, to, sxsw, plus, strong, canadian, dollar, means, stock, up, on, apple, gear]   \n",
       "14                                                                                                                       [great, sxsw, ipad, app, from, madebymany]   \n",
       "...                                                                                                                                                             ...   \n",
       "9072                                         [mention, your, iphone, cases, are, rad, and, ready, stop, by, tomorrow, to, get, them, sxsw, zazzlesxsw, sxswi, link]   \n",
       "9077                                                   [mention, your, pr, guy, just, convinced, me, to, switch, back, to, iphone, great, sxsw, coverage, princess]   \n",
       "9079                                                                                                 [papyrus, sort, of, like, the, ipad, nice, lol, sxsw, lavelle]   \n",
       "9085            [ve, always, used, camera, for, my, iphone, it, has, an, image, stabilizer, mode, suggestions, for, an, ipad, cam, app, same, feature, sxsw, sxswi]   \n",
       "9088                                                                                                                                 [ipad, everywhere, sxsw, link]   \n",
       "\n",
       "                                                                                   text_without_stopwords  \\\n",
       "1     [jessedee, know, fludapp, awesome, ipad, iphone, app, likely, appreciate, design, giving, free, ts]   \n",
       "2                                                                          [swonderlin, wait, ipad, sale]   \n",
       "8                [beautifully, smart, simple, idea, madebymany, thenextweb, wrote, hollergram, ipad, app]   \n",
       "9                             [counting, days, plus, strong, canadian, dollar, means, stock, apple, gear]   \n",
       "14                                                                         [great, ipad, app, madebymany]   \n",
       "...                                                                                                   ...   \n",
       "9072                                         [iphone, cases, rad, ready, stop, tomorrow, get, zazzlesxsw]   \n",
       "9077                                [pr, guy, convinced, switch, back, iphone, great, coverage, princess]   \n",
       "9079                                                      [papyrus, sort, like, ipad, nice, lol, lavelle]   \n",
       "9085        [always, used, camera, iphone, image, stabilizer, mode, suggestions, ipad, cam, app, feature]   \n",
       "9088                                                                                   [ipad, everywhere]   \n",
       "\n",
       "                                                                                   text_steemed  \\\n",
       "1     [jessede, know, fludapp, awesom, ipad, iphon, app, like, appreci, design, give, free, ts]   \n",
       "2                                                                [swonderlin, wait, ipad, sale]   \n",
       "8            [beauti, smart, simpl, idea, madebymani, thenextweb, wrote, hollergram, ipad, app]   \n",
       "9                         [count, day, plus, strong, canadian, dollar, mean, stock, appl, gear]   \n",
       "14                                                               [great, ipad, app, madebymani]   \n",
       "...                                                                                         ...   \n",
       "9072                                 [iphon, case, rad, readi, stop, tomorrow, get, zazzlesxsw]   \n",
       "9077                          [pr, guy, convinc, switch, back, iphon, great, coverag, princess]   \n",
       "9079                                             [papyrus, sort, like, ipad, nice, lol, lavell]   \n",
       "9085           [alway, use, camera, iphon, imag, stabil, mode, suggest, ipad, cam, app, featur]   \n",
       "9088                                                                          [ipad, everywher]   \n",
       "\n",
       "                                                                                         text_lemmatized  \n",
       "1     [jessedee, know, fludapp, awesome, ipad, iphone, app, likely, appreciate, design, giving, free, t]  \n",
       "2                                                                         [swonderlin, wait, ipad, sale]  \n",
       "8               [beautifully, smart, simple, idea, madebymany, thenextweb, wrote, hollergram, ipad, app]  \n",
       "9                              [counting, day, plus, strong, canadian, dollar, mean, stock, apple, gear]  \n",
       "14                                                                        [great, ipad, app, madebymany]  \n",
       "...                                                                                                  ...  \n",
       "9072                                         [iphone, case, rad, ready, stop, tomorrow, get, zazzlesxsw]  \n",
       "9077                               [pr, guy, convinced, switch, back, iphone, great, coverage, princess]  \n",
       "9079                                                     [papyrus, sort, like, ipad, nice, lol, lavelle]  \n",
       "9085        [always, used, camera, iphone, image, stabilizer, mode, suggestion, ipad, cam, app, feature]  \n",
       "9088                                                                                  [ipad, everywhere]  \n",
       "\n",
       "[1945 rows x 7 columns]"
      ]
     },
     "execution_count": 122,
     "metadata": {},
     "output_type": "execute_result"
    }
   ],
   "source": [
    "#create a posative dataframe by filltering Apple tweets dataframe.\n",
    "posative = Apple_tweets[Apple_tweets[\"catogory\"]==2]\n",
    "posative"
   ]
  },
  {
   "cell_type": "code",
   "execution_count": 123,
   "metadata": {
    "scrolled": true
   },
   "outputs": [
    {
     "data": {
      "text/plain": [
       "FreqDist({'ipad': 937, 'apple': 855, 'store': 507, 'iphone': 476, 'app': 296, 'austin': 239, 'new': 198, 'pop': 197, 'ipad2': 187, 'one': 129, ...})"
      ]
     },
     "execution_count": 123,
     "metadata": {},
     "output_type": "execute_result"
    }
   ],
   "source": [
    "# create FreqDist for posative data frame\n",
    "posative_freqdist =FreqDist(posative[\"text_lemmatized\"].explode())\n",
    "posative_freqdist"
   ]
  },
  {
   "cell_type": "code",
   "execution_count": null,
   "metadata": {
    "scrolled": false
   },
   "outputs": [],
   "source": [
    "# Create wordcloud for posative subset\n",
    "wordcloud = WordCloud(height=10000,width=30000,max_font_size=4000, max_words=100).generate_from_frequencies(posative_freqdist)\n",
    "plt.imshow(wordcloud,interpolation=\"bilinear\")"
   ]
  },
  {
   "cell_type": "markdown",
   "metadata": {},
   "source": [
    "## Bigrams for Positive Tweets\n",
    "Similar to the most common 50 words, looking at the most common bigrams can also be helpful in providing context to these tweets."
   ]
  },
  {
   "cell_type": "code",
   "execution_count": null,
   "metadata": {},
   "outputs": [],
   "source": [
    "import nltk\n",
    "from nltk.collocations import *\n",
    "bigram_measures = nltk.collocations.BigramAssocMeasures()"
   ]
  },
  {
   "cell_type": "code",
   "execution_count": null,
   "metadata": {},
   "outputs": [],
   "source": [
    "#initializing finder\n",
    "\n",
    "finder_pos = BigramCollocationFinder.from_words(posative[\"text_lemmatized\"].astype(\"U\"))\n",
    "finder_pos"
   ]
  },
  {
   "cell_type": "code",
   "execution_count": null,
   "metadata": {},
   "outputs": [],
   "source": [
    "#getting frequency information from finder\n",
    "bigrams = finder_pos.score_ngrams(bigram_measures.raw_freq)\n",
    "bigrams[ :50]"
   ]
  },
  {
   "cell_type": "markdown",
   "metadata": {},
   "source": [
    "## Recommendations:"
   ]
  },
  {
   "cell_type": "markdown",
   "metadata": {},
   "source": [
    "Twitter is one of the top platforms to keep up with the latest trends and conversations. People can use \n",
    "Twitter daily to follow their favorite brands and give their opinions about these brands.\n",
    "Through this project, We created a predictive classification model that makes it possible to understand\n",
    "the positive tweets about Apple products\n",
    "We indicate the three most important positive tweets on Apple products focuses on:\n",
    "\n",
    "1-Marketing strategy: temporary pop-up store announcement in downtown Austin has been received very well by Apple fans, held  events on these shops \n",
    "giving away some prizes of valuable Apple products, the company also should pay attention to providing their products online that would help mor fans to buy these products easily and minimize the waiting line in front of stors.\n",
    "\n",
    "2-Advanced technology: People talk about some technologies which getting better like tethering(is the sharing of a mobile device's Internet connection with other connected computers), fast delegating (app response)\n",
    "Apple develops Holographic iPhone Screen (a picture of a \"whole\" object, showing it in three dimensions), downloading and updating the apps don't taking  long time.\n",
    "\n",
    "3-The camera :Apple's camera uses a larger Wide sensor with bigger pixels to gather more light, for more detail and color in photos would provide a video stabilization performance and Advanced Features for photo & video.\n",
    " "
   ]
  },
  {
   "cell_type": "markdown",
   "metadata": {},
   "source": [
    "## Next step:\n",
    "\n",
    "Further analyses could yield additional insights to further improve the model performance."
   ]
  },
  {
   "cell_type": "code",
   "execution_count": null,
   "metadata": {},
   "outputs": [],
   "source": []
  }
 ],
 "metadata": {
  "kernelspec": {
   "display_name": "Python (learn-env)",
   "language": "python",
   "name": "learn-env"
  },
  "language_info": {
   "codemirror_mode": {
    "name": "ipython",
    "version": 3
   },
   "file_extension": ".py",
   "mimetype": "text/x-python",
   "name": "python",
   "nbconvert_exporter": "python",
   "pygments_lexer": "ipython3",
   "version": "3.8.5"
  }
 },
 "nbformat": 4,
 "nbformat_minor": 4
}
