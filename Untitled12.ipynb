{
 "cells": [
  {
   "cell_type": "code",
   "execution_count": null,
   "id": "65049f02",
   "metadata": {},
   "outputs": [],
   "source": [
    "print(’hello-’ + ’how-are-you’)"
   ]
  },
  {
   "cell_type": "code",
   "execution_count": null,
   "id": "08e1947f",
   "metadata": {},
   "outputs": [],
   "source": [
    "print(’hello’, ’-’, ’how’, ’-’, ’are’, ’-’, ’you’)"
   ]
  },
  {
   "cell_type": "code",
   "execution_count": null,
   "id": "28adf41a",
   "metadata": {},
   "outputs": [],
   "source": []
  }
 ],
 "metadata": {
  "kernelspec": {
   "display_name": "Python (learn-env)",
   "language": "python",
   "name": "learn-env"
  }
 },
 "nbformat": 4,
 "nbformat_minor": 5
}
