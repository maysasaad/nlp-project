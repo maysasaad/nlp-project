{
 "cells": [
  {
   "cell_type": "markdown",
   "metadata": {},
   "source": [
    "# Final Project Submission\n",
    "Please fill out:\n",
    "\n",
    "1-Student name: Mays Alkhwitar\n",
    "\n",
    "2-Student pace: flex\n",
    "\n",
    "3-Scheduled project review date/time: /\n",
    "\n",
    "4-Instructor name: Mark Barbour\n",
    "\n",
    "5-Blog post URL:https:\n",
    "\n"
   ]
  },
  {
   "cell_type": "markdown",
   "metadata": {},
   "source": [
    "# Brands and Product Emotions\n"
   ]
  },
  {
   "cell_type": "markdown",
   "metadata": {},
   "source": [
    "![image.jpg](Images/image.jpg)\n"
   ]
  },
  {
   "cell_type": "markdown",
   "metadata": {},
   "source": [
    "## Overview"
   ]
  },
  {
   "cell_type": "markdown",
   "metadata": {},
   "source": [
    "Through this project, We will build an NLP model to analyze Twitter sentiment about Apple and Google products,the model can rate the sentiment of a Tweet based on its content. create a predictive classification model that makes it possible to understand the business problem,solve it and report the findings of the final model,including predictions and performance metrics."
   ]
  },
  {
   "cell_type": "markdown",
   "metadata": {},
   "source": [
    "## Business Understanding"
   ]
  },
  {
   "cell_type": "markdown",
   "metadata": {},
   "source": [
    "Millions of people share their opinions about various topics on Twitter daily,So Baghdad cell company makes Twitter one of the resources for their businesses and conducts a sentiment analysis of tweets from the SXSW Conference.\n",
    "The goal of this project is to develop a model that will classify tweets based on their sentiment either if it was negative,positive,or neutral on Google and Apple products."
   ]
  },
  {
   "cell_type": "markdown",
   "metadata": {},
   "source": [
    "## Data Understanding"
   ]
  },
  {
   "cell_type": "markdown",
   "metadata": {},
   "source": [
    "This project uses Brands and Product Emotions dataset from CrowdFlower via data. world Which consists of information about customer raters rated the sentiment in 9,093 Tweets.\n",
    "The tweets reflect which emotion they convey and what product/service/company this emotion is directed at based on the content."
   ]
  },
  {
   "cell_type": "markdown",
   "metadata": {},
   "source": [
    "## Data Preparation\n",
    "Natural Language Processing (NLP) deals with Text data.Text data is available to a great extent which is used to analyze and solve business problems. But before using the data for analysis or prediction, processing the data is important.Some of the preprocessing steps are:\n",
    "\n",
    "1-Lower casing the text.\n",
    "\n",
    "2-Removing punctuations like . , ! $( ) * % @\n",
    "\n",
    "3-Removing URLs,html,web signs.\n",
    "\n",
    "4-Tokenization.\n",
    "\n",
    "5-Removing Stop words.\n",
    "\n",
    "6-Stemming \n",
    "\n",
    "7-Lemmatization"
   ]
  },
  {
   "cell_type": "markdown",
   "metadata": {},
   "source": [
    "### Import the necessary libraries"
   ]
  },
  {
   "cell_type": "code",
   "execution_count": 148,
   "metadata": {},
   "outputs": [],
   "source": [
    "import pandas as pd\n",
    "import numpy as np\n",
    "import matplotlib.pyplot as plt\n",
    "from sklearn.model_selection import train_test_split\n",
    "from sklearn.metrics import confusion_matrix\n",
    "from sklearn.metrics import plot_confusion_matrix\n",
    "from sklearn.metrics import classification_report\n",
    "from sklearn.model_selection import cross_val_score\n",
    "from sklearn.preprocessing import LabelEncoder\n",
    "from  nltk import FreqDist\n",
    "import re\n",
    "from sklearn.naive_bayes import MultinomialNB"
   ]
  },
  {
   "cell_type": "markdown",
   "metadata": {},
   "source": [
    "After imported all the necessary libraries and functions , we'll need to get the dataset."
   ]
  },
  {
   "cell_type": "markdown",
   "metadata": {},
   "source": [
    "### Importing the dataset¶\n",
    "Let's start by importing the dataset from csv file into a pandas dataframe using pandas read_csv()."
   ]
  },
  {
   "cell_type": "code",
   "execution_count": 149,
   "metadata": {
    "scrolled": true
   },
   "outputs": [
    {
     "data": {
      "text/html": [
       "<div>\n",
       "<style scoped>\n",
       "    .dataframe tbody tr th:only-of-type {\n",
       "        vertical-align: middle;\n",
       "    }\n",
       "\n",
       "    .dataframe tbody tr th {\n",
       "        vertical-align: top;\n",
       "    }\n",
       "\n",
       "    .dataframe thead th {\n",
       "        text-align: right;\n",
       "    }\n",
       "</style>\n",
       "<table border=\"1\" class=\"dataframe\">\n",
       "  <thead>\n",
       "    <tr style=\"text-align: right;\">\n",
       "      <th></th>\n",
       "      <th>tweet_text</th>\n",
       "      <th>emotion_in_tweet_is_directed_at</th>\n",
       "      <th>is_there_an_emotion_directed_at_a_brand_or_product</th>\n",
       "    </tr>\n",
       "  </thead>\n",
       "  <tbody>\n",
       "    <tr>\n",
       "      <th>0</th>\n",
       "      <td>.@wesley83 I have a 3G iPhone. After 3 hrs tweeting at #RISE_Austin, it was dead!  I need to upgrade. Plugin stations at #SXSW.</td>\n",
       "      <td>iPhone</td>\n",
       "      <td>Negative emotion</td>\n",
       "    </tr>\n",
       "    <tr>\n",
       "      <th>1</th>\n",
       "      <td>@jessedee Know about @fludapp ? Awesome iPad/iPhone app that you'll likely appreciate for its design. Also, they're giving free Ts at #SXSW</td>\n",
       "      <td>iPad or iPhone App</td>\n",
       "      <td>Positive emotion</td>\n",
       "    </tr>\n",
       "    <tr>\n",
       "      <th>2</th>\n",
       "      <td>@swonderlin Can not wait for #iPad 2 also. They should sale them down at #SXSW.</td>\n",
       "      <td>iPad</td>\n",
       "      <td>Positive emotion</td>\n",
       "    </tr>\n",
       "    <tr>\n",
       "      <th>3</th>\n",
       "      <td>@sxsw I hope this year's festival isn't as crashy as this year's iPhone app. #sxsw</td>\n",
       "      <td>iPad or iPhone App</td>\n",
       "      <td>Negative emotion</td>\n",
       "    </tr>\n",
       "    <tr>\n",
       "      <th>4</th>\n",
       "      <td>@sxtxstate great stuff on Fri #SXSW: Marissa Mayer (Google), Tim O'Reilly (tech books/conferences) &amp;amp; Matt Mullenweg (Wordpress)</td>\n",
       "      <td>Google</td>\n",
       "      <td>Positive emotion</td>\n",
       "    </tr>\n",
       "  </tbody>\n",
       "</table>\n",
       "</div>"
      ],
      "text/plain": [
       "                                                                                                                                    tweet_text  \\\n",
       "0              .@wesley83 I have a 3G iPhone. After 3 hrs tweeting at #RISE_Austin, it was dead!  I need to upgrade. Plugin stations at #SXSW.   \n",
       "1  @jessedee Know about @fludapp ? Awesome iPad/iPhone app that you'll likely appreciate for its design. Also, they're giving free Ts at #SXSW   \n",
       "2                                                              @swonderlin Can not wait for #iPad 2 also. They should sale them down at #SXSW.   \n",
       "3                                                           @sxsw I hope this year's festival isn't as crashy as this year's iPhone app. #sxsw   \n",
       "4          @sxtxstate great stuff on Fri #SXSW: Marissa Mayer (Google), Tim O'Reilly (tech books/conferences) &amp; Matt Mullenweg (Wordpress)   \n",
       "\n",
       "  emotion_in_tweet_is_directed_at  \\\n",
       "0                          iPhone   \n",
       "1              iPad or iPhone App   \n",
       "2                            iPad   \n",
       "3              iPad or iPhone App   \n",
       "4                          Google   \n",
       "\n",
       "  is_there_an_emotion_directed_at_a_brand_or_product  \n",
       "0                                   Negative emotion  \n",
       "1                                   Positive emotion  \n",
       "2                                   Positive emotion  \n",
       "3                                   Negative emotion  \n",
       "4                                   Positive emotion  "
      ]
     },
     "execution_count": 149,
     "metadata": {},
     "output_type": "execute_result"
    }
   ],
   "source": [
    "# Loading data from csv file  to a data frame\n",
    "# Display the top five rows of the data frame by using .head() method\n",
    "\n",
    "tweets= pd.read_csv(\"data/judge-1377884607_tweet_product_company.csv\",encoding = \"ISO-8859-1\")\n",
    "tweets.head()"
   ]
  },
  {
   "cell_type": "markdown",
   "metadata": {},
   "source": [
    "Let's check the dimensionality of the DataFrame by using the .shape method."
   ]
  },
  {
   "cell_type": "code",
   "execution_count": 150,
   "metadata": {
    "scrolled": false
   },
   "outputs": [
    {
     "data": {
      "text/plain": [
       "(9093, 3)"
      ]
     },
     "execution_count": 150,
     "metadata": {},
     "output_type": "execute_result"
    }
   ],
   "source": [
    "tweets.shape"
   ]
  },
  {
   "cell_type": "markdown",
   "metadata": {},
   "source": [
    "Our data frame consist of 9093 rows and 3 columns."
   ]
  },
  {
   "cell_type": "markdown",
   "metadata": {},
   "source": [
    "### Preprocessing data\n",
    "Now, we'll perform any necessary preprocessing on our dataset before training our model."
   ]
  },
  {
   "cell_type": "code",
   "execution_count": 151,
   "metadata": {
    "scrolled": true
   },
   "outputs": [
    {
     "name": "stdout",
     "output_type": "stream",
     "text": [
      "<class 'pandas.core.frame.DataFrame'>\n",
      "RangeIndex: 9093 entries, 0 to 9092\n",
      "Data columns (total 3 columns):\n",
      " #   Column                                              Non-Null Count  Dtype \n",
      "---  ------                                              --------------  ----- \n",
      " 0   tweet_text                                          9092 non-null   object\n",
      " 1   emotion_in_tweet_is_directed_at                     3291 non-null   object\n",
      " 2   is_there_an_emotion_directed_at_a_brand_or_product  9093 non-null   object\n",
      "dtypes: object(3)\n",
      "memory usage: 213.2+ KB\n"
     ]
    }
   ],
   "source": [
    "# Getting a summary for the data frame \n",
    "tweets.info()"
   ]
  },
  {
   "cell_type": "markdown",
   "metadata": {},
   "source": [
    "We can notice that the columns' data types are objects.\n",
    "\n",
    "We have the target column (is_there_an_emotion_directed_at_a_brand_or_product) that refers to classification information ."
   ]
  },
  {
   "cell_type": "markdown",
   "metadata": {},
   "source": [
    "Let's discover the target column by using the.value_counts() method."
   ]
  },
  {
   "cell_type": "code",
   "execution_count": 152,
   "metadata": {
    "scrolled": false
   },
   "outputs": [
    {
     "data": {
      "text/plain": [
       "No emotion toward brand or product    5389\n",
       "Positive emotion                      2978\n",
       "Negative emotion                       570\n",
       "I can't tell                           156\n",
       "Name: is_there_an_emotion_directed_at_a_brand_or_product, dtype: int64"
      ]
     },
     "execution_count": 152,
     "metadata": {},
     "output_type": "execute_result"
    }
   ],
   "source": [
    "# find the count of unique values in the column.\n",
    "tweets.is_there_an_emotion_directed_at_a_brand_or_product.value_counts()"
   ]
  },
  {
   "cell_type": "markdown",
   "metadata": {},
   "source": [
    "#### Handle Missing Values\n",
    "In this step, we will assess the presence of NaN values in our subset of data by using the.isna() method."
   ]
  },
  {
   "cell_type": "code",
   "execution_count": 153,
   "metadata": {
    "scrolled": true
   },
   "outputs": [
    {
     "data": {
      "text/plain": [
       "tweet_text                                               1\n",
       "emotion_in_tweet_is_directed_at                       5802\n",
       "is_there_an_emotion_directed_at_a_brand_or_product       0\n",
       "dtype: int64"
      ]
     },
     "execution_count": 153,
     "metadata": {},
     "output_type": "execute_result"
    }
   ],
   "source": [
    "#Checking for missing values\n",
    "tweets.isna().sum()"
   ]
  },
  {
   "cell_type": "markdown",
   "metadata": {},
   "source": [
    "We have a huge nummber of missing values in our dataset."
   ]
  },
  {
   "cell_type": "code",
   "execution_count": 154,
   "metadata": {
    "scrolled": false
   },
   "outputs": [
    {
     "data": {
      "text/plain": [
       "iPad                               946\n",
       "Apple                              661\n",
       "iPad or iPhone App                 470\n",
       "Google                             430\n",
       "iPhone                             297\n",
       "Other Google product or service    293\n",
       "Android App                         81\n",
       "Android                             78\n",
       "Other Apple product or service      35\n",
       "Name: emotion_in_tweet_is_directed_at, dtype: int64"
      ]
     },
     "execution_count": 154,
     "metadata": {},
     "output_type": "execute_result"
    }
   ],
   "source": [
    "# find the count of unique values in the column.\n",
    "tweets.emotion_in_tweet_is_directed_at.value_counts()"
   ]
  },
  {
   "cell_type": "markdown",
   "metadata": {},
   "source": [
    "Let's fill NaN values using the .fillna()method on (emotion_in_tweet_is_directed_at) column."
   ]
  },
  {
   "cell_type": "code",
   "execution_count": 155,
   "metadata": {},
   "outputs": [],
   "source": [
    "# fillna() on a column.\n",
    "tweets[\"emotion_in_tweet_is_directed_at\"].fillna(\"No product\", inplace = True)\n",
    " "
   ]
  },
  {
   "cell_type": "code",
   "execution_count": 156,
   "metadata": {
    "scrolled": true
   },
   "outputs": [
    {
     "data": {
      "text/plain": [
       "tweet_text                                            1\n",
       "emotion_in_tweet_is_directed_at                       0\n",
       "is_there_an_emotion_directed_at_a_brand_or_product    0\n",
       "dtype: int64"
      ]
     },
     "execution_count": 156,
     "metadata": {},
     "output_type": "execute_result"
    }
   ],
   "source": [
    "#Checking for missing values\n",
    "tweets.isna().sum()"
   ]
  },
  {
   "cell_type": "markdown",
   "metadata": {},
   "source": [
    "We still have one missing value."
   ]
  },
  {
   "cell_type": "markdown",
   "metadata": {},
   "source": [
    "Let's drop NaN values using the .dropna()method on (tweet_text) column."
   ]
  },
  {
   "cell_type": "code",
   "execution_count": 157,
   "metadata": {
    "scrolled": true
   },
   "outputs": [
    {
     "data": {
      "text/html": [
       "<div>\n",
       "<style scoped>\n",
       "    .dataframe tbody tr th:only-of-type {\n",
       "        vertical-align: middle;\n",
       "    }\n",
       "\n",
       "    .dataframe tbody tr th {\n",
       "        vertical-align: top;\n",
       "    }\n",
       "\n",
       "    .dataframe thead th {\n",
       "        text-align: right;\n",
       "    }\n",
       "</style>\n",
       "<table border=\"1\" class=\"dataframe\">\n",
       "  <thead>\n",
       "    <tr style=\"text-align: right;\">\n",
       "      <th></th>\n",
       "      <th>tweet_text</th>\n",
       "      <th>emotion_in_tweet_is_directed_at</th>\n",
       "      <th>is_there_an_emotion_directed_at_a_brand_or_product</th>\n",
       "    </tr>\n",
       "  </thead>\n",
       "  <tbody>\n",
       "    <tr>\n",
       "      <th>0</th>\n",
       "      <td>.@wesley83 I have a 3G iPhone. After 3 hrs tweeting at #RISE_Austin, it was dead!  I need to upgrade. Plugin stations at #SXSW.</td>\n",
       "      <td>iPhone</td>\n",
       "      <td>Negative emotion</td>\n",
       "    </tr>\n",
       "    <tr>\n",
       "      <th>1</th>\n",
       "      <td>@jessedee Know about @fludapp ? Awesome iPad/iPhone app that you'll likely appreciate for its design. Also, they're giving free Ts at #SXSW</td>\n",
       "      <td>iPad or iPhone App</td>\n",
       "      <td>Positive emotion</td>\n",
       "    </tr>\n",
       "    <tr>\n",
       "      <th>2</th>\n",
       "      <td>@swonderlin Can not wait for #iPad 2 also. They should sale them down at #SXSW.</td>\n",
       "      <td>iPad</td>\n",
       "      <td>Positive emotion</td>\n",
       "    </tr>\n",
       "    <tr>\n",
       "      <th>3</th>\n",
       "      <td>@sxsw I hope this year's festival isn't as crashy as this year's iPhone app. #sxsw</td>\n",
       "      <td>iPad or iPhone App</td>\n",
       "      <td>Negative emotion</td>\n",
       "    </tr>\n",
       "    <tr>\n",
       "      <th>4</th>\n",
       "      <td>@sxtxstate great stuff on Fri #SXSW: Marissa Mayer (Google), Tim O'Reilly (tech books/conferences) &amp;amp; Matt Mullenweg (Wordpress)</td>\n",
       "      <td>Google</td>\n",
       "      <td>Positive emotion</td>\n",
       "    </tr>\n",
       "    <tr>\n",
       "      <th>...</th>\n",
       "      <td>...</td>\n",
       "      <td>...</td>\n",
       "      <td>...</td>\n",
       "    </tr>\n",
       "    <tr>\n",
       "      <th>9088</th>\n",
       "      <td>Ipad everywhere. #SXSW {link}</td>\n",
       "      <td>iPad</td>\n",
       "      <td>Positive emotion</td>\n",
       "    </tr>\n",
       "    <tr>\n",
       "      <th>9089</th>\n",
       "      <td>Wave, buzz... RT @mention We interrupt your regularly scheduled #sxsw geek programming with big news {link}  #google #circles</td>\n",
       "      <td>No product</td>\n",
       "      <td>No emotion toward brand or product</td>\n",
       "    </tr>\n",
       "    <tr>\n",
       "      <th>9090</th>\n",
       "      <td>Google's Zeiger, a physician never reported potential AE. Yet FDA relies on physicians. &amp;quot;We're operating w/out data.&amp;quot; #sxsw #health2dev</td>\n",
       "      <td>No product</td>\n",
       "      <td>No emotion toward brand or product</td>\n",
       "    </tr>\n",
       "    <tr>\n",
       "      <th>9091</th>\n",
       "      <td>Some Verizon iPhone customers complained their time fell back an hour this weekend.  Of course they were the New Yorkers who attended #SXSW.</td>\n",
       "      <td>No product</td>\n",
       "      <td>No emotion toward brand or product</td>\n",
       "    </tr>\n",
       "    <tr>\n",
       "      <th>9092</th>\n",
       "      <td>Ï¡Ïàü_ÊÎÒ£Áââ_£â_ÛâRT @mention Google Tests ÛÏCheck-in OffersÛ At #SXSW {link}</td>\n",
       "      <td>No product</td>\n",
       "      <td>No emotion toward brand or product</td>\n",
       "    </tr>\n",
       "  </tbody>\n",
       "</table>\n",
       "<p>9092 rows × 3 columns</p>\n",
       "</div>"
      ],
      "text/plain": [
       "                                                                                                                                             tweet_text  \\\n",
       "0                       .@wesley83 I have a 3G iPhone. After 3 hrs tweeting at #RISE_Austin, it was dead!  I need to upgrade. Plugin stations at #SXSW.   \n",
       "1           @jessedee Know about @fludapp ? Awesome iPad/iPhone app that you'll likely appreciate for its design. Also, they're giving free Ts at #SXSW   \n",
       "2                                                                       @swonderlin Can not wait for #iPad 2 also. They should sale them down at #SXSW.   \n",
       "3                                                                    @sxsw I hope this year's festival isn't as crashy as this year's iPhone app. #sxsw   \n",
       "4                   @sxtxstate great stuff on Fri #SXSW: Marissa Mayer (Google), Tim O'Reilly (tech books/conferences) &amp; Matt Mullenweg (Wordpress)   \n",
       "...                                                                                                                                                 ...   \n",
       "9088                                                                                                                      Ipad everywhere. #SXSW {link}   \n",
       "9089                      Wave, buzz... RT @mention We interrupt your regularly scheduled #sxsw geek programming with big news {link}  #google #circles   \n",
       "9090  Google's Zeiger, a physician never reported potential AE. Yet FDA relies on physicians. &quot;We're operating w/out data.&quot; #sxsw #health2dev   \n",
       "9091       Some Verizon iPhone customers complained their time fell back an hour this weekend.  Of course they were the New Yorkers who attended #SXSW.   \n",
       "9092                                           Ï¡Ïàü_ÊÎÒ£Áââ_£â_ÛâRT @mention Google Tests ÛÏCheck-in OffersÛ At #SXSW {link}   \n",
       "\n",
       "     emotion_in_tweet_is_directed_at  \\\n",
       "0                             iPhone   \n",
       "1                 iPad or iPhone App   \n",
       "2                               iPad   \n",
       "3                 iPad or iPhone App   \n",
       "4                             Google   \n",
       "...                              ...   \n",
       "9088                            iPad   \n",
       "9089                      No product   \n",
       "9090                      No product   \n",
       "9091                      No product   \n",
       "9092                      No product   \n",
       "\n",
       "     is_there_an_emotion_directed_at_a_brand_or_product  \n",
       "0                                      Negative emotion  \n",
       "1                                      Positive emotion  \n",
       "2                                      Positive emotion  \n",
       "3                                      Negative emotion  \n",
       "4                                      Positive emotion  \n",
       "...                                                 ...  \n",
       "9088                                   Positive emotion  \n",
       "9089                 No emotion toward brand or product  \n",
       "9090                 No emotion toward brand or product  \n",
       "9091                 No emotion toward brand or product  \n",
       "9092                 No emotion toward brand or product  \n",
       "\n",
       "[9092 rows x 3 columns]"
      ]
     },
     "execution_count": 157,
     "metadata": {},
     "output_type": "execute_result"
    }
   ],
   "source": [
    "# drop NaN value on a column.\n",
    "tweets.dropna()"
   ]
  },
  {
   "cell_type": "markdown",
   "metadata": {},
   "source": [
    "Now we dont have any missing value in our dataset."
   ]
  },
  {
   "cell_type": "markdown",
   "metadata": {},
   "source": [
    "Renaming the columns in a Pandas Dataframe is by using the rename() function."
   ]
  },
  {
   "cell_type": "code",
   "execution_count": 158,
   "metadata": {
    "scrolled": false
   },
   "outputs": [
    {
     "data": {
      "text/html": [
       "<div>\n",
       "<style scoped>\n",
       "    .dataframe tbody tr th:only-of-type {\n",
       "        vertical-align: middle;\n",
       "    }\n",
       "\n",
       "    .dataframe tbody tr th {\n",
       "        vertical-align: top;\n",
       "    }\n",
       "\n",
       "    .dataframe thead th {\n",
       "        text-align: right;\n",
       "    }\n",
       "</style>\n",
       "<table border=\"1\" class=\"dataframe\">\n",
       "  <thead>\n",
       "    <tr style=\"text-align: right;\">\n",
       "      <th></th>\n",
       "      <th>tweet_text</th>\n",
       "      <th>product</th>\n",
       "      <th>catogory</th>\n",
       "    </tr>\n",
       "  </thead>\n",
       "  <tbody>\n",
       "    <tr>\n",
       "      <th>0</th>\n",
       "      <td>.@wesley83 I have a 3G iPhone. After 3 hrs tweeting at #RISE_Austin, it was dead!  I need to upgrade. Plugin stations at #SXSW.</td>\n",
       "      <td>iPhone</td>\n",
       "      <td>Negative emotion</td>\n",
       "    </tr>\n",
       "    <tr>\n",
       "      <th>1</th>\n",
       "      <td>@jessedee Know about @fludapp ? Awesome iPad/iPhone app that you'll likely appreciate for its design. Also, they're giving free Ts at #SXSW</td>\n",
       "      <td>iPad or iPhone App</td>\n",
       "      <td>Positive emotion</td>\n",
       "    </tr>\n",
       "    <tr>\n",
       "      <th>2</th>\n",
       "      <td>@swonderlin Can not wait for #iPad 2 also. They should sale them down at #SXSW.</td>\n",
       "      <td>iPad</td>\n",
       "      <td>Positive emotion</td>\n",
       "    </tr>\n",
       "    <tr>\n",
       "      <th>3</th>\n",
       "      <td>@sxsw I hope this year's festival isn't as crashy as this year's iPhone app. #sxsw</td>\n",
       "      <td>iPad or iPhone App</td>\n",
       "      <td>Negative emotion</td>\n",
       "    </tr>\n",
       "    <tr>\n",
       "      <th>4</th>\n",
       "      <td>@sxtxstate great stuff on Fri #SXSW: Marissa Mayer (Google), Tim O'Reilly (tech books/conferences) &amp;amp; Matt Mullenweg (Wordpress)</td>\n",
       "      <td>Google</td>\n",
       "      <td>Positive emotion</td>\n",
       "    </tr>\n",
       "    <tr>\n",
       "      <th>...</th>\n",
       "      <td>...</td>\n",
       "      <td>...</td>\n",
       "      <td>...</td>\n",
       "    </tr>\n",
       "    <tr>\n",
       "      <th>9088</th>\n",
       "      <td>Ipad everywhere. #SXSW {link}</td>\n",
       "      <td>iPad</td>\n",
       "      <td>Positive emotion</td>\n",
       "    </tr>\n",
       "    <tr>\n",
       "      <th>9089</th>\n",
       "      <td>Wave, buzz... RT @mention We interrupt your regularly scheduled #sxsw geek programming with big news {link}  #google #circles</td>\n",
       "      <td>No product</td>\n",
       "      <td>No emotion toward brand or product</td>\n",
       "    </tr>\n",
       "    <tr>\n",
       "      <th>9090</th>\n",
       "      <td>Google's Zeiger, a physician never reported potential AE. Yet FDA relies on physicians. &amp;quot;We're operating w/out data.&amp;quot; #sxsw #health2dev</td>\n",
       "      <td>No product</td>\n",
       "      <td>No emotion toward brand or product</td>\n",
       "    </tr>\n",
       "    <tr>\n",
       "      <th>9091</th>\n",
       "      <td>Some Verizon iPhone customers complained their time fell back an hour this weekend.  Of course they were the New Yorkers who attended #SXSW.</td>\n",
       "      <td>No product</td>\n",
       "      <td>No emotion toward brand or product</td>\n",
       "    </tr>\n",
       "    <tr>\n",
       "      <th>9092</th>\n",
       "      <td>Ï¡Ïàü_ÊÎÒ£Áââ_£â_ÛâRT @mention Google Tests ÛÏCheck-in OffersÛ At #SXSW {link}</td>\n",
       "      <td>No product</td>\n",
       "      <td>No emotion toward brand or product</td>\n",
       "    </tr>\n",
       "  </tbody>\n",
       "</table>\n",
       "<p>9093 rows × 3 columns</p>\n",
       "</div>"
      ],
      "text/plain": [
       "                                                                                                                                             tweet_text  \\\n",
       "0                       .@wesley83 I have a 3G iPhone. After 3 hrs tweeting at #RISE_Austin, it was dead!  I need to upgrade. Plugin stations at #SXSW.   \n",
       "1           @jessedee Know about @fludapp ? Awesome iPad/iPhone app that you'll likely appreciate for its design. Also, they're giving free Ts at #SXSW   \n",
       "2                                                                       @swonderlin Can not wait for #iPad 2 also. They should sale them down at #SXSW.   \n",
       "3                                                                    @sxsw I hope this year's festival isn't as crashy as this year's iPhone app. #sxsw   \n",
       "4                   @sxtxstate great stuff on Fri #SXSW: Marissa Mayer (Google), Tim O'Reilly (tech books/conferences) &amp; Matt Mullenweg (Wordpress)   \n",
       "...                                                                                                                                                 ...   \n",
       "9088                                                                                                                      Ipad everywhere. #SXSW {link}   \n",
       "9089                      Wave, buzz... RT @mention We interrupt your regularly scheduled #sxsw geek programming with big news {link}  #google #circles   \n",
       "9090  Google's Zeiger, a physician never reported potential AE. Yet FDA relies on physicians. &quot;We're operating w/out data.&quot; #sxsw #health2dev   \n",
       "9091       Some Verizon iPhone customers complained their time fell back an hour this weekend.  Of course they were the New Yorkers who attended #SXSW.   \n",
       "9092                                           Ï¡Ïàü_ÊÎÒ£Áââ_£â_ÛâRT @mention Google Tests ÛÏCheck-in OffersÛ At #SXSW {link}   \n",
       "\n",
       "                 product                            catogory  \n",
       "0                 iPhone                    Negative emotion  \n",
       "1     iPad or iPhone App                    Positive emotion  \n",
       "2                   iPad                    Positive emotion  \n",
       "3     iPad or iPhone App                    Negative emotion  \n",
       "4                 Google                    Positive emotion  \n",
       "...                  ...                                 ...  \n",
       "9088                iPad                    Positive emotion  \n",
       "9089          No product  No emotion toward brand or product  \n",
       "9090          No product  No emotion toward brand or product  \n",
       "9091          No product  No emotion toward brand or product  \n",
       "9092          No product  No emotion toward brand or product  \n",
       "\n",
       "[9093 rows x 3 columns]"
      ]
     },
     "execution_count": 158,
     "metadata": {},
     "output_type": "execute_result"
    }
   ],
   "source": [
    "#Rename the columns\n",
    "tweets.rename(columns = {'emotion_in_tweet_is_directed_at':'product', 'is_there_an_emotion_directed_at_a_brand_or_product':'catogory'}, inplace = True)\n",
    "tweets"
   ]
  },
  {
   "cell_type": "markdown",
   "metadata": {},
   "source": [
    "Pandas has an options API configure and customize global behavior related to DataFrame display, data behavior.\n"
   ]
  },
  {
   "cell_type": "markdown",
   "metadata": {},
   "source": [
    "Now we can take a look at the tweets with \"I can't tell\" emotion values to see if we can notice any patterns or tell easily whether the tweet has a negative, neutral or positive emotion."
   ]
  },
  {
   "cell_type": "code",
   "execution_count": 159,
   "metadata": {
    "scrolled": true
   },
   "outputs": [
    {
     "data": {
      "text/html": [
       "<div>\n",
       "<style scoped>\n",
       "    .dataframe tbody tr th:only-of-type {\n",
       "        vertical-align: middle;\n",
       "    }\n",
       "\n",
       "    .dataframe tbody tr th {\n",
       "        vertical-align: top;\n",
       "    }\n",
       "\n",
       "    .dataframe thead th {\n",
       "        text-align: right;\n",
       "    }\n",
       "</style>\n",
       "<table border=\"1\" class=\"dataframe\">\n",
       "  <thead>\n",
       "    <tr style=\"text-align: right;\">\n",
       "      <th></th>\n",
       "      <th>tweet_text</th>\n",
       "      <th>product</th>\n",
       "      <th>catogory</th>\n",
       "    </tr>\n",
       "  </thead>\n",
       "  <tbody>\n",
       "    <tr>\n",
       "      <th>90</th>\n",
       "      <td>Thanks to @mention for publishing the news of @mention new medical Apps at the #sxswi conf. blog {link} #sxsw #sxswh</td>\n",
       "      <td>No product</td>\n",
       "      <td>I can't tell</td>\n",
       "    </tr>\n",
       "    <tr>\n",
       "      <th>102</th>\n",
       "      <td>ÛÏ@mention &amp;quot;Apple has opened a pop-up store in Austin so the nerds in town for #SXSW can get their new iPads. {link} #wow</td>\n",
       "      <td>No product</td>\n",
       "      <td>I can't tell</td>\n",
       "    </tr>\n",
       "    <tr>\n",
       "      <th>237</th>\n",
       "      <td>Just what America needs. RT @mention Google to Launch Major New Social Network Called Circles, Possibly Today {link} #sxsw</td>\n",
       "      <td>No product</td>\n",
       "      <td>I can't tell</td>\n",
       "    </tr>\n",
       "    <tr>\n",
       "      <th>341</th>\n",
       "      <td>The queue at the Apple Store in Austin is FOUR blocks long. Crazy stuff! #sxsw</td>\n",
       "      <td>No product</td>\n",
       "      <td>I can't tell</td>\n",
       "    </tr>\n",
       "    <tr>\n",
       "      <th>368</th>\n",
       "      <td>Hope it's better than wave RT @mention Buzz is: Google's previewing a social networking platform at #SXSW: {link}</td>\n",
       "      <td>No product</td>\n",
       "      <td>I can't tell</td>\n",
       "    </tr>\n",
       "    <tr>\n",
       "      <th>...</th>\n",
       "      <td>...</td>\n",
       "      <td>...</td>\n",
       "      <td>...</td>\n",
       "    </tr>\n",
       "    <tr>\n",
       "      <th>9020</th>\n",
       "      <td>It's funny watching a room full of people hold their iPad in the air to take a photo. Like a room full of tablets staring you down. #SXSW</td>\n",
       "      <td>No product</td>\n",
       "      <td>I can't tell</td>\n",
       "    </tr>\n",
       "    <tr>\n",
       "      <th>9032</th>\n",
       "      <td>@mention yeah, we have @mention , Google has nothing on us :) #SXSW</td>\n",
       "      <td>No product</td>\n",
       "      <td>I can't tell</td>\n",
       "    </tr>\n",
       "    <tr>\n",
       "      <th>9037</th>\n",
       "      <td>@mention Yes, the Google presentation was not exactly what I was expecting. #sxsw</td>\n",
       "      <td>No product</td>\n",
       "      <td>I can't tell</td>\n",
       "    </tr>\n",
       "    <tr>\n",
       "      <th>9058</th>\n",
       "      <td>&amp;quot;Do you know what Apple is really good at? Making you feel bad about your Xmas present!&amp;quot; - Seth Meyers on iPad2 #sxsw #doyoureallyneedthat?</td>\n",
       "      <td>No product</td>\n",
       "      <td>I can't tell</td>\n",
       "    </tr>\n",
       "    <tr>\n",
       "      <th>9066</th>\n",
       "      <td>How much you want to bet Apple is disproportionately stocking the #SXSW pop-up store with iPad 2? The influencer/hipsters thank you</td>\n",
       "      <td>Apple</td>\n",
       "      <td>I can't tell</td>\n",
       "    </tr>\n",
       "  </tbody>\n",
       "</table>\n",
       "<p>156 rows × 3 columns</p>\n",
       "</div>"
      ],
      "text/plain": [
       "                                                                                                                                                 tweet_text  \\\n",
       "90                                     Thanks to @mention for publishing the news of @mention new medical Apps at the #sxswi conf. blog {link} #sxsw #sxswh   \n",
       "102                         ÛÏ@mention &quot;Apple has opened a pop-up store in Austin so the nerds in town for #SXSW can get their new iPads. {link} #wow   \n",
       "237                              Just what America needs. RT @mention Google to Launch Major New Social Network Called Circles, Possibly Today {link} #sxsw   \n",
       "341                                                                          The queue at the Apple Store in Austin is FOUR blocks long. Crazy stuff! #sxsw   \n",
       "368                                       Hope it's better than wave RT @mention Buzz is: Google's previewing a social networking platform at #SXSW: {link}   \n",
       "...                                                                                                                                                     ...   \n",
       "9020              It's funny watching a room full of people hold their iPad in the air to take a photo. Like a room full of tablets staring you down. #SXSW   \n",
       "9032                                                                                    @mention yeah, we have @mention , Google has nothing on us :) #SXSW   \n",
       "9037                                                                      @mention Yes, the Google presentation was not exactly what I was expecting. #sxsw   \n",
       "9058  &quot;Do you know what Apple is really good at? Making you feel bad about your Xmas present!&quot; - Seth Meyers on iPad2 #sxsw #doyoureallyneedthat?   \n",
       "9066                    How much you want to bet Apple is disproportionately stocking the #SXSW pop-up store with iPad 2? The influencer/hipsters thank you   \n",
       "\n",
       "         product      catogory  \n",
       "90    No product  I can't tell  \n",
       "102   No product  I can't tell  \n",
       "237   No product  I can't tell  \n",
       "341   No product  I can't tell  \n",
       "368   No product  I can't tell  \n",
       "...          ...           ...  \n",
       "9020  No product  I can't tell  \n",
       "9032  No product  I can't tell  \n",
       "9037  No product  I can't tell  \n",
       "9058  No product  I can't tell  \n",
       "9066       Apple  I can't tell  \n",
       "\n",
       "[156 rows x 3 columns]"
      ]
     },
     "execution_count": 159,
     "metadata": {},
     "output_type": "execute_result"
    }
   ],
   "source": [
    "# changing the max_rows value\n",
    "pd.set_option(\"display.max_colwidth\", 300)\n",
    "tweets[tweets['catogory']==\"I can't tell\"]"
   ]
  },
  {
   "cell_type": "markdown",
   "metadata": {},
   "source": [
    "Since we need to have labels for our models, these tweets will not be useful in developing our model.So we can go ahead and drop these rows."
   ]
  },
  {
   "cell_type": "code",
   "execution_count": 160,
   "metadata": {
    "scrolled": true
   },
   "outputs": [
    {
     "data": {
      "text/plain": [
       "No emotion toward brand or product    5389\n",
       "Positive emotion                      2978\n",
       "Negative emotion                       570\n",
       "Name: catogory, dtype: int64"
      ]
     },
     "execution_count": 160,
     "metadata": {},
     "output_type": "execute_result"
    }
   ],
   "source": [
    "# filter the data frame\n",
    "# find the count of unique values in the column.\n",
    "tweets = tweets[tweets['catogory']!=\"I can't tell\"]\n",
    "tweets['catogory'].value_counts()"
   ]
  },
  {
   "cell_type": "markdown",
   "metadata": {},
   "source": [
    "Checking for Duplicates to make sure if we have the same tweets represented multiple times.\n",
    "Pandas duplicated() method helps in analyzing duplicate values only."
   ]
  },
  {
   "cell_type": "code",
   "execution_count": 161,
   "metadata": {
    "scrolled": true
   },
   "outputs": [
    {
     "data": {
      "text/plain": [
       "22"
      ]
     },
     "execution_count": 161,
     "metadata": {},
     "output_type": "execute_result"
    }
   ],
   "source": [
    "#Checking for duplicate values\n",
    "len(tweets[tweets.duplicated()])"
   ]
  },
  {
   "cell_type": "markdown",
   "metadata": {},
   "source": [
    "We have 22 row duplicated on our data frame lets drop them."
   ]
  },
  {
   "cell_type": "code",
   "execution_count": 162,
   "metadata": {
    "scrolled": true
   },
   "outputs": [
    {
     "data": {
      "text/html": [
       "<div>\n",
       "<style scoped>\n",
       "    .dataframe tbody tr th:only-of-type {\n",
       "        vertical-align: middle;\n",
       "    }\n",
       "\n",
       "    .dataframe tbody tr th {\n",
       "        vertical-align: top;\n",
       "    }\n",
       "\n",
       "    .dataframe thead th {\n",
       "        text-align: right;\n",
       "    }\n",
       "</style>\n",
       "<table border=\"1\" class=\"dataframe\">\n",
       "  <thead>\n",
       "    <tr style=\"text-align: right;\">\n",
       "      <th></th>\n",
       "      <th>tweet_text</th>\n",
       "      <th>product</th>\n",
       "      <th>catogory</th>\n",
       "    </tr>\n",
       "  </thead>\n",
       "  <tbody>\n",
       "    <tr>\n",
       "      <th>468</th>\n",
       "      <td>Before It Even Begins, Apple Wins #SXSW {link}</td>\n",
       "      <td>Apple</td>\n",
       "      <td>Positive emotion</td>\n",
       "    </tr>\n",
       "    <tr>\n",
       "      <th>776</th>\n",
       "      <td>Google to Launch Major New Social Network Called Circles, Possibly Today {link} #sxsw</td>\n",
       "      <td>No product</td>\n",
       "      <td>No emotion toward brand or product</td>\n",
       "    </tr>\n",
       "    <tr>\n",
       "      <th>2232</th>\n",
       "      <td>Marissa Mayer: Google Will Connect the Digital &amp;amp; Physical Worlds Through Mobile - {link} #sxsw</td>\n",
       "      <td>No product</td>\n",
       "      <td>No emotion toward brand or product</td>\n",
       "    </tr>\n",
       "    <tr>\n",
       "      <th>2559</th>\n",
       "      <td>Counting down the days to #sxsw plus strong Canadian dollar means stock up on Apple gear</td>\n",
       "      <td>Apple</td>\n",
       "      <td>Positive emotion</td>\n",
       "    </tr>\n",
       "    <tr>\n",
       "      <th>3950</th>\n",
       "      <td>Really enjoying the changes in Gowalla 3.0 for Android! Looking forward to seeing what else they &amp;amp; Foursquare have up their sleeves at #SXSW</td>\n",
       "      <td>Android App</td>\n",
       "      <td>Positive emotion</td>\n",
       "    </tr>\n",
       "    <tr>\n",
       "      <th>3962</th>\n",
       "      <td>#SXSW is just starting, #CTIA is around the corner and #googleio is only a hop skip and a jump from there, good time to be an #android fan</td>\n",
       "      <td>Android</td>\n",
       "      <td>Positive emotion</td>\n",
       "    </tr>\n",
       "    <tr>\n",
       "      <th>4897</th>\n",
       "      <td>Oh. My. God. The #SXSW app for iPad is pure, unadulterated awesome. It's easier to browse events on iPad than on the website!!!</td>\n",
       "      <td>iPad or iPhone App</td>\n",
       "      <td>Positive emotion</td>\n",
       "    </tr>\n",
       "    <tr>\n",
       "      <th>5338</th>\n",
       "      <td>RT @mention ÷¼ GO BEYOND BORDERS! ÷_ {link} ã_ #edchat #musedchat #sxsw #sxswi #classical #newTwitter</td>\n",
       "      <td>No product</td>\n",
       "      <td>No emotion toward brand or product</td>\n",
       "    </tr>\n",
       "    <tr>\n",
       "      <th>5341</th>\n",
       "      <td>RT @mention ÷¼ Happy Woman's Day! Make love, not fuss! ÷_ {link} ã_ #edchat #musedchat #sxsw #sxswi #classical #newTwitter</td>\n",
       "      <td>No product</td>\n",
       "      <td>No emotion toward brand or product</td>\n",
       "    </tr>\n",
       "    <tr>\n",
       "      <th>5881</th>\n",
       "      <td>RT @mention Google to Launch Major New Social Network Called Circles, Possibly Today {link} #sxsw</td>\n",
       "      <td>No product</td>\n",
       "      <td>No emotion toward brand or product</td>\n",
       "    </tr>\n",
       "    <tr>\n",
       "      <th>5882</th>\n",
       "      <td>RT @mention Google to Launch Major New Social Network Called Circles, Possibly Today {link} #SXSW</td>\n",
       "      <td>No product</td>\n",
       "      <td>No emotion toward brand or product</td>\n",
       "    </tr>\n",
       "    <tr>\n",
       "      <th>5883</th>\n",
       "      <td>RT @mention Google to Launch Major New Social Network Called Circles, Possibly Today {link} #sxsw</td>\n",
       "      <td>No product</td>\n",
       "      <td>No emotion toward brand or product</td>\n",
       "    </tr>\n",
       "    <tr>\n",
       "      <th>5884</th>\n",
       "      <td>RT @mention Google to Launch Major New Social Network Called Circles, Possibly Today {link} #SXSW</td>\n",
       "      <td>No product</td>\n",
       "      <td>No emotion toward brand or product</td>\n",
       "    </tr>\n",
       "    <tr>\n",
       "      <th>5885</th>\n",
       "      <td>RT @mention Google to Launch Major New Social Network Called Circles, Possibly Today {link} #sxsw</td>\n",
       "      <td>No product</td>\n",
       "      <td>No emotion toward brand or product</td>\n",
       "    </tr>\n",
       "    <tr>\n",
       "      <th>6296</th>\n",
       "      <td>RT @mention Marissa Mayer: Google Will Connect the Digital &amp;amp; Physical Worlds Through Mobile - {link} #sxsw</td>\n",
       "      <td>Google</td>\n",
       "      <td>Positive emotion</td>\n",
       "    </tr>\n",
       "    <tr>\n",
       "      <th>6297</th>\n",
       "      <td>RT @mention Marissa Mayer: Google Will Connect the Digital &amp;amp; Physical Worlds Through Mobile - {link} #SXSW</td>\n",
       "      <td>No product</td>\n",
       "      <td>No emotion toward brand or product</td>\n",
       "    </tr>\n",
       "    <tr>\n",
       "      <th>6298</th>\n",
       "      <td>RT @mention Marissa Mayer: Google Will Connect the Digital &amp;amp; Physical Worlds Through Mobile - {link} #sxsw</td>\n",
       "      <td>Google</td>\n",
       "      <td>Positive emotion</td>\n",
       "    </tr>\n",
       "    <tr>\n",
       "      <th>6299</th>\n",
       "      <td>RT @mention Marissa Mayer: Google Will Connect the Digital &amp;amp; Physical Worlds Through Mobile - {link} #SXSW</td>\n",
       "      <td>No product</td>\n",
       "      <td>No emotion toward brand or product</td>\n",
       "    </tr>\n",
       "    <tr>\n",
       "      <th>6300</th>\n",
       "      <td>RT @mention Marissa Mayer: Google Will Connect the Digital &amp;amp; Physical Worlds Through Mobile - {link} #sxsw</td>\n",
       "      <td>No product</td>\n",
       "      <td>No emotion toward brand or product</td>\n",
       "    </tr>\n",
       "    <tr>\n",
       "      <th>6546</th>\n",
       "      <td>RT @mention RT @mention Google to Launch Major New Social Network Called Circles, Possibly Today {link} #sxsw</td>\n",
       "      <td>No product</td>\n",
       "      <td>No emotion toward brand or product</td>\n",
       "    </tr>\n",
       "    <tr>\n",
       "      <th>8483</th>\n",
       "      <td>I just noticed DST is coming this weekend. How many iPhone users will be an hour late at SXSW come Sunday morning? #SXSW #iPhone</td>\n",
       "      <td>iPhone</td>\n",
       "      <td>Negative emotion</td>\n",
       "    </tr>\n",
       "    <tr>\n",
       "      <th>8747</th>\n",
       "      <td>Need to buy an iPad2 while I'm in Austin at #sxsw. Not sure if I'll need to Q up at an Austin Apple store?</td>\n",
       "      <td>iPad</td>\n",
       "      <td>Positive emotion</td>\n",
       "    </tr>\n",
       "  </tbody>\n",
       "</table>\n",
       "</div>"
      ],
      "text/plain": [
       "                                                                                                                                            tweet_text  \\\n",
       "468                                                                                                     Before It Even Begins, Apple Wins #SXSW {link}   \n",
       "776                                                              Google to Launch Major New Social Network Called Circles, Possibly Today {link} #sxsw   \n",
       "2232                                                Marissa Mayer: Google Will Connect the Digital &amp; Physical Worlds Through Mobile - {link} #sxsw   \n",
       "2559                                                          Counting down the days to #sxsw plus strong Canadian dollar means stock up on Apple gear   \n",
       "3950  Really enjoying the changes in Gowalla 3.0 for Android! Looking forward to seeing what else they &amp; Foursquare have up their sleeves at #SXSW   \n",
       "3962        #SXSW is just starting, #CTIA is around the corner and #googleio is only a hop skip and a jump from there, good time to be an #android fan   \n",
       "4897                   Oh. My. God. The #SXSW app for iPad is pure, unadulterated awesome. It's easier to browse events on iPad than on the website!!!   \n",
       "5338                                          RT @mention ÷¼ GO BEYOND BORDERS! ÷_ {link} ã_ #edchat #musedchat #sxsw #sxswi #classical #newTwitter   \n",
       "5341                     RT @mention ÷¼ Happy Woman's Day! Make love, not fuss! ÷_ {link} ã_ #edchat #musedchat #sxsw #sxswi #classical #newTwitter   \n",
       "5881                                                 RT @mention Google to Launch Major New Social Network Called Circles, Possibly Today {link} #sxsw   \n",
       "5882                                                 RT @mention Google to Launch Major New Social Network Called Circles, Possibly Today {link} #SXSW   \n",
       "5883                                                 RT @mention Google to Launch Major New Social Network Called Circles, Possibly Today {link} #sxsw   \n",
       "5884                                                 RT @mention Google to Launch Major New Social Network Called Circles, Possibly Today {link} #SXSW   \n",
       "5885                                                 RT @mention Google to Launch Major New Social Network Called Circles, Possibly Today {link} #sxsw   \n",
       "6296                                    RT @mention Marissa Mayer: Google Will Connect the Digital &amp; Physical Worlds Through Mobile - {link} #sxsw   \n",
       "6297                                    RT @mention Marissa Mayer: Google Will Connect the Digital &amp; Physical Worlds Through Mobile - {link} #SXSW   \n",
       "6298                                    RT @mention Marissa Mayer: Google Will Connect the Digital &amp; Physical Worlds Through Mobile - {link} #sxsw   \n",
       "6299                                    RT @mention Marissa Mayer: Google Will Connect the Digital &amp; Physical Worlds Through Mobile - {link} #SXSW   \n",
       "6300                                    RT @mention Marissa Mayer: Google Will Connect the Digital &amp; Physical Worlds Through Mobile - {link} #sxsw   \n",
       "6546                                     RT @mention RT @mention Google to Launch Major New Social Network Called Circles, Possibly Today {link} #sxsw   \n",
       "8483                  I just noticed DST is coming this weekend. How many iPhone users will be an hour late at SXSW come Sunday morning? #SXSW #iPhone   \n",
       "8747                                        Need to buy an iPad2 while I'm in Austin at #sxsw. Not sure if I'll need to Q up at an Austin Apple store?   \n",
       "\n",
       "                 product                            catogory  \n",
       "468                Apple                    Positive emotion  \n",
       "776           No product  No emotion toward brand or product  \n",
       "2232          No product  No emotion toward brand or product  \n",
       "2559               Apple                    Positive emotion  \n",
       "3950         Android App                    Positive emotion  \n",
       "3962             Android                    Positive emotion  \n",
       "4897  iPad or iPhone App                    Positive emotion  \n",
       "5338          No product  No emotion toward brand or product  \n",
       "5341          No product  No emotion toward brand or product  \n",
       "5881          No product  No emotion toward brand or product  \n",
       "5882          No product  No emotion toward brand or product  \n",
       "5883          No product  No emotion toward brand or product  \n",
       "5884          No product  No emotion toward brand or product  \n",
       "5885          No product  No emotion toward brand or product  \n",
       "6296              Google                    Positive emotion  \n",
       "6297          No product  No emotion toward brand or product  \n",
       "6298              Google                    Positive emotion  \n",
       "6299          No product  No emotion toward brand or product  \n",
       "6300          No product  No emotion toward brand or product  \n",
       "6546          No product  No emotion toward brand or product  \n",
       "8483              iPhone                    Negative emotion  \n",
       "8747                iPad                    Positive emotion  "
      ]
     },
     "execution_count": 162,
     "metadata": {},
     "output_type": "execute_result"
    }
   ],
   "source": [
    "#Let's take a look at the duplicates\n",
    "tweets[tweets.duplicated()]"
   ]
  },
  {
   "cell_type": "code",
   "execution_count": 163,
   "metadata": {
    "scrolled": true
   },
   "outputs": [
    {
     "name": "stderr",
     "output_type": "stream",
     "text": [
      "<ipython-input-163-670b2505256b>:2: SettingWithCopyWarning: \n",
      "A value is trying to be set on a copy of a slice from a DataFrame\n",
      "\n",
      "See the caveats in the documentation: https://pandas.pydata.org/pandas-docs/stable/user_guide/indexing.html#returning-a-view-versus-a-copy\n",
      "  tweets.drop_duplicates(keep='first', inplace=True)\n"
     ]
    },
    {
     "data": {
      "text/html": [
       "<div>\n",
       "<style scoped>\n",
       "    .dataframe tbody tr th:only-of-type {\n",
       "        vertical-align: middle;\n",
       "    }\n",
       "\n",
       "    .dataframe tbody tr th {\n",
       "        vertical-align: top;\n",
       "    }\n",
       "\n",
       "    .dataframe thead th {\n",
       "        text-align: right;\n",
       "    }\n",
       "</style>\n",
       "<table border=\"1\" class=\"dataframe\">\n",
       "  <thead>\n",
       "    <tr style=\"text-align: right;\">\n",
       "      <th></th>\n",
       "      <th>tweet_text</th>\n",
       "      <th>product</th>\n",
       "      <th>catogory</th>\n",
       "    </tr>\n",
       "  </thead>\n",
       "  <tbody>\n",
       "    <tr>\n",
       "      <th>0</th>\n",
       "      <td>.@wesley83 I have a 3G iPhone. After 3 hrs tweeting at #RISE_Austin, it was dead!  I need to upgrade. Plugin stations at #SXSW.</td>\n",
       "      <td>iPhone</td>\n",
       "      <td>Negative emotion</td>\n",
       "    </tr>\n",
       "    <tr>\n",
       "      <th>1</th>\n",
       "      <td>@jessedee Know about @fludapp ? Awesome iPad/iPhone app that you'll likely appreciate for its design. Also, they're giving free Ts at #SXSW</td>\n",
       "      <td>iPad or iPhone App</td>\n",
       "      <td>Positive emotion</td>\n",
       "    </tr>\n",
       "    <tr>\n",
       "      <th>2</th>\n",
       "      <td>@swonderlin Can not wait for #iPad 2 also. They should sale them down at #SXSW.</td>\n",
       "      <td>iPad</td>\n",
       "      <td>Positive emotion</td>\n",
       "    </tr>\n",
       "    <tr>\n",
       "      <th>3</th>\n",
       "      <td>@sxsw I hope this year's festival isn't as crashy as this year's iPhone app. #sxsw</td>\n",
       "      <td>iPad or iPhone App</td>\n",
       "      <td>Negative emotion</td>\n",
       "    </tr>\n",
       "    <tr>\n",
       "      <th>4</th>\n",
       "      <td>@sxtxstate great stuff on Fri #SXSW: Marissa Mayer (Google), Tim O'Reilly (tech books/conferences) &amp;amp; Matt Mullenweg (Wordpress)</td>\n",
       "      <td>Google</td>\n",
       "      <td>Positive emotion</td>\n",
       "    </tr>\n",
       "    <tr>\n",
       "      <th>...</th>\n",
       "      <td>...</td>\n",
       "      <td>...</td>\n",
       "      <td>...</td>\n",
       "    </tr>\n",
       "    <tr>\n",
       "      <th>9088</th>\n",
       "      <td>Ipad everywhere. #SXSW {link}</td>\n",
       "      <td>iPad</td>\n",
       "      <td>Positive emotion</td>\n",
       "    </tr>\n",
       "    <tr>\n",
       "      <th>9089</th>\n",
       "      <td>Wave, buzz... RT @mention We interrupt your regularly scheduled #sxsw geek programming with big news {link}  #google #circles</td>\n",
       "      <td>No product</td>\n",
       "      <td>No emotion toward brand or product</td>\n",
       "    </tr>\n",
       "    <tr>\n",
       "      <th>9090</th>\n",
       "      <td>Google's Zeiger, a physician never reported potential AE. Yet FDA relies on physicians. &amp;quot;We're operating w/out data.&amp;quot; #sxsw #health2dev</td>\n",
       "      <td>No product</td>\n",
       "      <td>No emotion toward brand or product</td>\n",
       "    </tr>\n",
       "    <tr>\n",
       "      <th>9091</th>\n",
       "      <td>Some Verizon iPhone customers complained their time fell back an hour this weekend.  Of course they were the New Yorkers who attended #SXSW.</td>\n",
       "      <td>No product</td>\n",
       "      <td>No emotion toward brand or product</td>\n",
       "    </tr>\n",
       "    <tr>\n",
       "      <th>9092</th>\n",
       "      <td>Ï¡Ïàü_ÊÎÒ£Áââ_£â_ÛâRT @mention Google Tests ÛÏCheck-in OffersÛ At #SXSW {link}</td>\n",
       "      <td>No product</td>\n",
       "      <td>No emotion toward brand or product</td>\n",
       "    </tr>\n",
       "  </tbody>\n",
       "</table>\n",
       "<p>8915 rows × 3 columns</p>\n",
       "</div>"
      ],
      "text/plain": [
       "                                                                                                                                             tweet_text  \\\n",
       "0                       .@wesley83 I have a 3G iPhone. After 3 hrs tweeting at #RISE_Austin, it was dead!  I need to upgrade. Plugin stations at #SXSW.   \n",
       "1           @jessedee Know about @fludapp ? Awesome iPad/iPhone app that you'll likely appreciate for its design. Also, they're giving free Ts at #SXSW   \n",
       "2                                                                       @swonderlin Can not wait for #iPad 2 also. They should sale them down at #SXSW.   \n",
       "3                                                                    @sxsw I hope this year's festival isn't as crashy as this year's iPhone app. #sxsw   \n",
       "4                   @sxtxstate great stuff on Fri #SXSW: Marissa Mayer (Google), Tim O'Reilly (tech books/conferences) &amp; Matt Mullenweg (Wordpress)   \n",
       "...                                                                                                                                                 ...   \n",
       "9088                                                                                                                      Ipad everywhere. #SXSW {link}   \n",
       "9089                      Wave, buzz... RT @mention We interrupt your regularly scheduled #sxsw geek programming with big news {link}  #google #circles   \n",
       "9090  Google's Zeiger, a physician never reported potential AE. Yet FDA relies on physicians. &quot;We're operating w/out data.&quot; #sxsw #health2dev   \n",
       "9091       Some Verizon iPhone customers complained their time fell back an hour this weekend.  Of course they were the New Yorkers who attended #SXSW.   \n",
       "9092                                           Ï¡Ïàü_ÊÎÒ£Áââ_£â_ÛâRT @mention Google Tests ÛÏCheck-in OffersÛ At #SXSW {link}   \n",
       "\n",
       "                 product                            catogory  \n",
       "0                 iPhone                    Negative emotion  \n",
       "1     iPad or iPhone App                    Positive emotion  \n",
       "2                   iPad                    Positive emotion  \n",
       "3     iPad or iPhone App                    Negative emotion  \n",
       "4                 Google                    Positive emotion  \n",
       "...                  ...                                 ...  \n",
       "9088                iPad                    Positive emotion  \n",
       "9089          No product  No emotion toward brand or product  \n",
       "9090          No product  No emotion toward brand or product  \n",
       "9091          No product  No emotion toward brand or product  \n",
       "9092          No product  No emotion toward brand or product  \n",
       "\n",
       "[8915 rows x 3 columns]"
      ]
     },
     "execution_count": 163,
     "metadata": {},
     "output_type": "execute_result"
    }
   ],
   "source": [
    "# Drop the duplicates rows\n",
    "tweets.drop_duplicates(keep='first', inplace=True)\n",
    "tweets"
   ]
  },
  {
   "cell_type": "markdown",
   "metadata": {},
   "source": [
    "Let's take a look on our target"
   ]
  },
  {
   "cell_type": "markdown",
   "metadata": {},
   "source": [
    "#### Check for Imbalance\n",
    "Class imbalance is generally normal in classification problems. Sometimes when the records of a certain class are much more than the other class, our classifier may get biased towards the prediction."
   ]
  },
  {
   "cell_type": "code",
   "execution_count": 164,
   "metadata": {},
   "outputs": [
    {
     "data": {
      "text/plain": [
       "No emotion toward brand or product    0.603029\n",
       "Positive emotion                      0.333146\n",
       "Negative emotion                      0.063825\n",
       "Name: catogory, dtype: float64"
      ]
     },
     "execution_count": 164,
     "metadata": {},
     "output_type": "execute_result"
    }
   ],
   "source": [
    "tweets['catogory'].value_counts(normalize=True)"
   ]
  },
  {
   "cell_type": "code",
   "execution_count": 165,
   "metadata": {
    "scrolled": true
   },
   "outputs": [
    {
     "data": {
      "image/png": "[encoded data removed]",
      "text/plain": [
       "<Figure size 432x288 with 1 Axes>"
      ]
     },
     "metadata": {
      "needs_background": "light"
     },
     "output_type": "display_data"
    }
   ],
   "source": [
    "# visualize the target values\n",
    "tweets[\"catogory\"].value_counts().plot(kind='bar')\n",
    "plt.title('Emotion on products')\n",
    "plt.xlabel('Emotion')\n",
    "plt.ylabel('Number of tweets')\n",
    "plt.show()"
   ]
  },
  {
   "cell_type": "markdown",
   "metadata": {},
   "source": [
    "In machine learning, we usually deal with datasets that contain multiple labels in one or more than one columns. These labels can be in the form of words or numbers. To make the data understandable or in human-readable form, the training data is often labelled in words."
   ]
  },
  {
   "cell_type": "markdown",
   "metadata": {},
   "source": [
    "We will use Label Encoding refers to converting the labels into a numeric form so as to convert them into the machine-readable form."
   ]
  },
  {
   "cell_type": "code",
   "execution_count": 166,
   "metadata": {},
   "outputs": [],
   "source": [
    "from sklearn.utils import resample"
   ]
  },
  {
   "cell_type": "code",
   "execution_count": 167,
   "metadata": {
    "scrolled": true
   },
   "outputs": [
    {
     "data": {
      "text/html": [
       "<div>\n",
       "<style scoped>\n",
       "    .dataframe tbody tr th:only-of-type {\n",
       "        vertical-align: middle;\n",
       "    }\n",
       "\n",
       "    .dataframe tbody tr th {\n",
       "        vertical-align: top;\n",
       "    }\n",
       "\n",
       "    .dataframe thead th {\n",
       "        text-align: right;\n",
       "    }\n",
       "</style>\n",
       "<table border=\"1\" class=\"dataframe\">\n",
       "  <thead>\n",
       "    <tr style=\"text-align: right;\">\n",
       "      <th></th>\n",
       "      <th>tweet_text</th>\n",
       "      <th>product</th>\n",
       "      <th>catogory</th>\n",
       "    </tr>\n",
       "  </thead>\n",
       "  <tbody>\n",
       "    <tr>\n",
       "      <th>0</th>\n",
       "      <td>.@wesley83 I have a 3G iPhone. After 3 hrs tweeting at #RISE_Austin, it was dead!  I need to upgrade. Plugin stations at #SXSW.</td>\n",
       "      <td>iPhone</td>\n",
       "      <td>Negative emotion</td>\n",
       "    </tr>\n",
       "    <tr>\n",
       "      <th>3</th>\n",
       "      <td>@sxsw I hope this year's festival isn't as crashy as this year's iPhone app. #sxsw</td>\n",
       "      <td>iPad or iPhone App</td>\n",
       "      <td>Negative emotion</td>\n",
       "    </tr>\n",
       "    <tr>\n",
       "      <th>17</th>\n",
       "      <td>I just noticed DST is coming this weekend. How many iPhone users will be an hour late at SXSW come Sunday morning? #SXSW #iPhone</td>\n",
       "      <td>iPhone</td>\n",
       "      <td>Negative emotion</td>\n",
       "    </tr>\n",
       "    <tr>\n",
       "      <th>38</th>\n",
       "      <td>@mention  - False Alarm: Google Circles Not Coming NowÛÒand Probably Not Ever? - {link} #Google #Circles #Social #SXSW</td>\n",
       "      <td>Google</td>\n",
       "      <td>Negative emotion</td>\n",
       "    </tr>\n",
       "    <tr>\n",
       "      <th>64</th>\n",
       "      <td>Again? RT @mention Line at the Apple store is insane.. #sxsw</td>\n",
       "      <td>No product</td>\n",
       "      <td>Negative emotion</td>\n",
       "    </tr>\n",
       "    <tr>\n",
       "      <th>...</th>\n",
       "      <td>...</td>\n",
       "      <td>...</td>\n",
       "      <td>...</td>\n",
       "    </tr>\n",
       "    <tr>\n",
       "      <th>8973</th>\n",
       "      <td>Google guy at #sxsw talk is explaining how he made realistic Twitter bots as an experiment. Gee, thanks for doing that.</td>\n",
       "      <td>No product</td>\n",
       "      <td>Negative emotion</td>\n",
       "    </tr>\n",
       "    <tr>\n",
       "      <th>8981</th>\n",
       "      <td>I think my effing hubby is in line for an #iPad 2. Can someone point him towards the line-up for wife number #2. #sxswi #sxsw</td>\n",
       "      <td>iPad</td>\n",
       "      <td>Negative emotion</td>\n",
       "    </tr>\n",
       "    <tr>\n",
       "      <th>9008</th>\n",
       "      <td>I'm pretty sure the panelist that thinks &amp;quot;Apple is drowning in their success&amp;quot; is fucking insane. #SXSW</td>\n",
       "      <td>Apple</td>\n",
       "      <td>Negative emotion</td>\n",
       "    </tr>\n",
       "    <tr>\n",
       "      <th>9043</th>\n",
       "      <td>Hey is anyone doing #sxsw signing up for the group texting app, groupme? got it on my iphone, but no one else is on it, so....kinda useless.</td>\n",
       "      <td>No product</td>\n",
       "      <td>Negative emotion</td>\n",
       "    </tr>\n",
       "    <tr>\n",
       "      <th>9080</th>\n",
       "      <td>Diller says Google TV &amp;quot;might be run over by the PlayStation and the Xbox, which are essentially ready today.&amp;quot; #sxsw #diller</td>\n",
       "      <td>Other Google product or service</td>\n",
       "      <td>Negative emotion</td>\n",
       "    </tr>\n",
       "  </tbody>\n",
       "</table>\n",
       "<p>569 rows × 3 columns</p>\n",
       "</div>"
      ],
      "text/plain": [
       "                                                                                                                                        tweet_text  \\\n",
       "0                  .@wesley83 I have a 3G iPhone. After 3 hrs tweeting at #RISE_Austin, it was dead!  I need to upgrade. Plugin stations at #SXSW.   \n",
       "3                                                               @sxsw I hope this year's festival isn't as crashy as this year's iPhone app. #sxsw   \n",
       "17                I just noticed DST is coming this weekend. How many iPhone users will be an hour late at SXSW come Sunday morning? #SXSW #iPhone   \n",
       "38                         @mention  - False Alarm: Google Circles Not Coming NowÛÒand Probably Not Ever? - {link} #Google #Circles #Social #SXSW   \n",
       "64                                                                                    Again? RT @mention Line at the Apple store is insane.. #sxsw   \n",
       "...                                                                                                                                            ...   \n",
       "8973                       Google guy at #sxsw talk is explaining how he made realistic Twitter bots as an experiment. Gee, thanks for doing that.   \n",
       "8981                 I think my effing hubby is in line for an #iPad 2. Can someone point him towards the line-up for wife number #2. #sxswi #sxsw   \n",
       "9008                              I'm pretty sure the panelist that thinks &quot;Apple is drowning in their success&quot; is fucking insane. #SXSW   \n",
       "9043  Hey is anyone doing #sxsw signing up for the group texting app, groupme? got it on my iphone, but no one else is on it, so....kinda useless.   \n",
       "9080         Diller says Google TV &quot;might be run over by the PlayStation and the Xbox, which are essentially ready today.&quot; #sxsw #diller   \n",
       "\n",
       "                              product          catogory  \n",
       "0                              iPhone  Negative emotion  \n",
       "3                  iPad or iPhone App  Negative emotion  \n",
       "17                             iPhone  Negative emotion  \n",
       "38                             Google  Negative emotion  \n",
       "64                         No product  Negative emotion  \n",
       "...                               ...               ...  \n",
       "8973                       No product  Negative emotion  \n",
       "8981                             iPad  Negative emotion  \n",
       "9008                            Apple  Negative emotion  \n",
       "9043                       No product  Negative emotion  \n",
       "9080  Other Google product or service  Negative emotion  \n",
       "\n",
       "[569 rows x 3 columns]"
      ]
     },
     "execution_count": 167,
     "metadata": {},
     "output_type": "execute_result"
    }
   ],
   "source": [
    "#set the minority class to a seperate dataframe\n",
    "tweets_neg = tweets[tweets['catogory'] ==\"Negative emotion\" ]\n",
    "tweets_neg"
   ]
  },
  {
   "cell_type": "code",
   "execution_count": 168,
   "metadata": {
    "scrolled": true
   },
   "outputs": [
    {
     "data": {
      "text/html": [
       "<div>\n",
       "<style scoped>\n",
       "    .dataframe tbody tr th:only-of-type {\n",
       "        vertical-align: middle;\n",
       "    }\n",
       "\n",
       "    .dataframe tbody tr th {\n",
       "        vertical-align: top;\n",
       "    }\n",
       "\n",
       "    .dataframe thead th {\n",
       "        text-align: right;\n",
       "    }\n",
       "</style>\n",
       "<table border=\"1\" class=\"dataframe\">\n",
       "  <thead>\n",
       "    <tr style=\"text-align: right;\">\n",
       "      <th></th>\n",
       "      <th>tweet_text</th>\n",
       "      <th>product</th>\n",
       "      <th>catogory</th>\n",
       "    </tr>\n",
       "  </thead>\n",
       "  <tbody>\n",
       "    <tr>\n",
       "      <th>1</th>\n",
       "      <td>@jessedee Know about @fludapp ? Awesome iPad/iPhone app that you'll likely appreciate for its design. Also, they're giving free Ts at #SXSW</td>\n",
       "      <td>iPad or iPhone App</td>\n",
       "      <td>Positive emotion</td>\n",
       "    </tr>\n",
       "    <tr>\n",
       "      <th>2</th>\n",
       "      <td>@swonderlin Can not wait for #iPad 2 also. They should sale them down at #SXSW.</td>\n",
       "      <td>iPad</td>\n",
       "      <td>Positive emotion</td>\n",
       "    </tr>\n",
       "    <tr>\n",
       "      <th>4</th>\n",
       "      <td>@sxtxstate great stuff on Fri #SXSW: Marissa Mayer (Google), Tim O'Reilly (tech books/conferences) &amp;amp; Matt Mullenweg (Wordpress)</td>\n",
       "      <td>Google</td>\n",
       "      <td>Positive emotion</td>\n",
       "    </tr>\n",
       "    <tr>\n",
       "      <th>5</th>\n",
       "      <td>@teachntech00 New iPad Apps For #SpeechTherapy And Communication Are Showcased At The #SXSW Conference http://ht.ly/49n4M #iear #edchat #asd</td>\n",
       "      <td>No product</td>\n",
       "      <td>No emotion toward brand or product</td>\n",
       "    </tr>\n",
       "    <tr>\n",
       "      <th>6</th>\n",
       "      <td>NaN</td>\n",
       "      <td>No product</td>\n",
       "      <td>No emotion toward brand or product</td>\n",
       "    </tr>\n",
       "    <tr>\n",
       "      <th>...</th>\n",
       "      <td>...</td>\n",
       "      <td>...</td>\n",
       "      <td>...</td>\n",
       "    </tr>\n",
       "    <tr>\n",
       "      <th>9088</th>\n",
       "      <td>Ipad everywhere. #SXSW {link}</td>\n",
       "      <td>iPad</td>\n",
       "      <td>Positive emotion</td>\n",
       "    </tr>\n",
       "    <tr>\n",
       "      <th>9089</th>\n",
       "      <td>Wave, buzz... RT @mention We interrupt your regularly scheduled #sxsw geek programming with big news {link}  #google #circles</td>\n",
       "      <td>No product</td>\n",
       "      <td>No emotion toward brand or product</td>\n",
       "    </tr>\n",
       "    <tr>\n",
       "      <th>9090</th>\n",
       "      <td>Google's Zeiger, a physician never reported potential AE. Yet FDA relies on physicians. &amp;quot;We're operating w/out data.&amp;quot; #sxsw #health2dev</td>\n",
       "      <td>No product</td>\n",
       "      <td>No emotion toward brand or product</td>\n",
       "    </tr>\n",
       "    <tr>\n",
       "      <th>9091</th>\n",
       "      <td>Some Verizon iPhone customers complained their time fell back an hour this weekend.  Of course they were the New Yorkers who attended #SXSW.</td>\n",
       "      <td>No product</td>\n",
       "      <td>No emotion toward brand or product</td>\n",
       "    </tr>\n",
       "    <tr>\n",
       "      <th>9092</th>\n",
       "      <td>Ï¡Ïàü_ÊÎÒ£Áââ_£â_ÛâRT @mention Google Tests ÛÏCheck-in OffersÛ At #SXSW {link}</td>\n",
       "      <td>No product</td>\n",
       "      <td>No emotion toward brand or product</td>\n",
       "    </tr>\n",
       "  </tbody>\n",
       "</table>\n",
       "<p>8346 rows × 3 columns</p>\n",
       "</div>"
      ],
      "text/plain": [
       "                                                                                                                                             tweet_text  \\\n",
       "1           @jessedee Know about @fludapp ? Awesome iPad/iPhone app that you'll likely appreciate for its design. Also, they're giving free Ts at #SXSW   \n",
       "2                                                                       @swonderlin Can not wait for #iPad 2 also. They should sale them down at #SXSW.   \n",
       "4                   @sxtxstate great stuff on Fri #SXSW: Marissa Mayer (Google), Tim O'Reilly (tech books/conferences) &amp; Matt Mullenweg (Wordpress)   \n",
       "5          @teachntech00 New iPad Apps For #SpeechTherapy And Communication Are Showcased At The #SXSW Conference http://ht.ly/49n4M #iear #edchat #asd   \n",
       "6                                                                                                                                                   NaN   \n",
       "...                                                                                                                                                 ...   \n",
       "9088                                                                                                                      Ipad everywhere. #SXSW {link}   \n",
       "9089                      Wave, buzz... RT @mention We interrupt your regularly scheduled #sxsw geek programming with big news {link}  #google #circles   \n",
       "9090  Google's Zeiger, a physician never reported potential AE. Yet FDA relies on physicians. &quot;We're operating w/out data.&quot; #sxsw #health2dev   \n",
       "9091       Some Verizon iPhone customers complained their time fell back an hour this weekend.  Of course they were the New Yorkers who attended #SXSW.   \n",
       "9092                                           Ï¡Ïàü_ÊÎÒ£Áââ_£â_ÛâRT @mention Google Tests ÛÏCheck-in OffersÛ At #SXSW {link}   \n",
       "\n",
       "                 product                            catogory  \n",
       "1     iPad or iPhone App                    Positive emotion  \n",
       "2                   iPad                    Positive emotion  \n",
       "4                 Google                    Positive emotion  \n",
       "5             No product  No emotion toward brand or product  \n",
       "6             No product  No emotion toward brand or product  \n",
       "...                  ...                                 ...  \n",
       "9088                iPad                    Positive emotion  \n",
       "9089          No product  No emotion toward brand or product  \n",
       "9090          No product  No emotion toward brand or product  \n",
       "9091          No product  No emotion toward brand or product  \n",
       "9092          No product  No emotion toward brand or product  \n",
       "\n",
       "[8346 rows x 3 columns]"
      ]
     },
     "execution_count": 168,
     "metadata": {},
     "output_type": "execute_result"
    }
   ],
   "source": [
    "#set other classes to another dataframe\n",
    "tweets = tweets[tweets['catogory'] !=\"Negative emotion\"] \n",
    "tweets "
   ]
  },
  {
   "cell_type": "code",
   "execution_count": 169,
   "metadata": {},
   "outputs": [],
   "source": [
    "#upsample the minority class\n",
    "tweets_neg_upsampled = resample(tweets_neg,random_state=42,n_samples=2,replace=True)"
   ]
  },
  {
   "cell_type": "code",
   "execution_count": 170,
   "metadata": {},
   "outputs": [
    {
     "data": {
      "text/html": [
       "<div>\n",
       "<style scoped>\n",
       "    .dataframe tbody tr th:only-of-type {\n",
       "        vertical-align: middle;\n",
       "    }\n",
       "\n",
       "    .dataframe tbody tr th {\n",
       "        vertical-align: top;\n",
       "    }\n",
       "\n",
       "    .dataframe thead th {\n",
       "        text-align: right;\n",
       "    }\n",
       "</style>\n",
       "<table border=\"1\" class=\"dataframe\">\n",
       "  <thead>\n",
       "    <tr style=\"text-align: right;\">\n",
       "      <th></th>\n",
       "      <th>tweet_text</th>\n",
       "      <th>product</th>\n",
       "      <th>catogory</th>\n",
       "    </tr>\n",
       "  </thead>\n",
       "  <tbody>\n",
       "    <tr>\n",
       "      <th>1749</th>\n",
       "      <td>At #sxsw #tapworthy iPad Design Headaches - avoiding the pitfalls of the new design challenges</td>\n",
       "      <td>iPad</td>\n",
       "      <td>Negative emotion</td>\n",
       "    </tr>\n",
       "    <tr>\n",
       "      <th>6436</th>\n",
       "      <td>RT @mention Part of Journalsim is the support of democracy, yes? Informed populous, yes? iPad, as a focus, does not support that #newsapps #sxsw</td>\n",
       "      <td>No product</td>\n",
       "      <td>Negative emotion</td>\n",
       "    </tr>\n",
       "    <tr>\n",
       "      <th>1</th>\n",
       "      <td>@jessedee Know about @fludapp ? Awesome iPad/iPhone app that you'll likely appreciate for its design. Also, they're giving free Ts at #SXSW</td>\n",
       "      <td>iPad or iPhone App</td>\n",
       "      <td>Positive emotion</td>\n",
       "    </tr>\n",
       "    <tr>\n",
       "      <th>2</th>\n",
       "      <td>@swonderlin Can not wait for #iPad 2 also. They should sale them down at #SXSW.</td>\n",
       "      <td>iPad</td>\n",
       "      <td>Positive emotion</td>\n",
       "    </tr>\n",
       "    <tr>\n",
       "      <th>4</th>\n",
       "      <td>@sxtxstate great stuff on Fri #SXSW: Marissa Mayer (Google), Tim O'Reilly (tech books/conferences) &amp;amp; Matt Mullenweg (Wordpress)</td>\n",
       "      <td>Google</td>\n",
       "      <td>Positive emotion</td>\n",
       "    </tr>\n",
       "    <tr>\n",
       "      <th>...</th>\n",
       "      <td>...</td>\n",
       "      <td>...</td>\n",
       "      <td>...</td>\n",
       "    </tr>\n",
       "    <tr>\n",
       "      <th>9088</th>\n",
       "      <td>Ipad everywhere. #SXSW {link}</td>\n",
       "      <td>iPad</td>\n",
       "      <td>Positive emotion</td>\n",
       "    </tr>\n",
       "    <tr>\n",
       "      <th>9089</th>\n",
       "      <td>Wave, buzz... RT @mention We interrupt your regularly scheduled #sxsw geek programming with big news {link}  #google #circles</td>\n",
       "      <td>No product</td>\n",
       "      <td>No emotion toward brand or product</td>\n",
       "    </tr>\n",
       "    <tr>\n",
       "      <th>9090</th>\n",
       "      <td>Google's Zeiger, a physician never reported potential AE. Yet FDA relies on physicians. &amp;quot;We're operating w/out data.&amp;quot; #sxsw #health2dev</td>\n",
       "      <td>No product</td>\n",
       "      <td>No emotion toward brand or product</td>\n",
       "    </tr>\n",
       "    <tr>\n",
       "      <th>9091</th>\n",
       "      <td>Some Verizon iPhone customers complained their time fell back an hour this weekend.  Of course they were the New Yorkers who attended #SXSW.</td>\n",
       "      <td>No product</td>\n",
       "      <td>No emotion toward brand or product</td>\n",
       "    </tr>\n",
       "    <tr>\n",
       "      <th>9092</th>\n",
       "      <td>Ï¡Ïàü_ÊÎÒ£Áââ_£â_ÛâRT @mention Google Tests ÛÏCheck-in OffersÛ At #SXSW {link}</td>\n",
       "      <td>No product</td>\n",
       "      <td>No emotion toward brand or product</td>\n",
       "    </tr>\n",
       "  </tbody>\n",
       "</table>\n",
       "<p>8348 rows × 3 columns</p>\n",
       "</div>"
      ],
      "text/plain": [
       "                                                                                                                                             tweet_text  \\\n",
       "1749                                                     At #sxsw #tapworthy iPad Design Headaches - avoiding the pitfalls of the new design challenges   \n",
       "6436   RT @mention Part of Journalsim is the support of democracy, yes? Informed populous, yes? iPad, as a focus, does not support that #newsapps #sxsw   \n",
       "1           @jessedee Know about @fludapp ? Awesome iPad/iPhone app that you'll likely appreciate for its design. Also, they're giving free Ts at #SXSW   \n",
       "2                                                                       @swonderlin Can not wait for #iPad 2 also. They should sale them down at #SXSW.   \n",
       "4                   @sxtxstate great stuff on Fri #SXSW: Marissa Mayer (Google), Tim O'Reilly (tech books/conferences) &amp; Matt Mullenweg (Wordpress)   \n",
       "...                                                                                                                                                 ...   \n",
       "9088                                                                                                                      Ipad everywhere. #SXSW {link}   \n",
       "9089                      Wave, buzz... RT @mention We interrupt your regularly scheduled #sxsw geek programming with big news {link}  #google #circles   \n",
       "9090  Google's Zeiger, a physician never reported potential AE. Yet FDA relies on physicians. &quot;We're operating w/out data.&quot; #sxsw #health2dev   \n",
       "9091       Some Verizon iPhone customers complained their time fell back an hour this weekend.  Of course they were the New Yorkers who attended #SXSW.   \n",
       "9092                                           Ï¡Ïàü_ÊÎÒ£Áââ_£â_ÛâRT @mention Google Tests ÛÏCheck-in OffersÛ At #SXSW {link}   \n",
       "\n",
       "                 product                            catogory  \n",
       "1749                iPad                    Negative emotion  \n",
       "6436          No product                    Negative emotion  \n",
       "1     iPad or iPhone App                    Positive emotion  \n",
       "2                   iPad                    Positive emotion  \n",
       "4                 Google                    Positive emotion  \n",
       "...                  ...                                 ...  \n",
       "9088                iPad                    Positive emotion  \n",
       "9089          No product  No emotion toward brand or product  \n",
       "9090          No product  No emotion toward brand or product  \n",
       "9091          No product  No emotion toward brand or product  \n",
       "9092          No product  No emotion toward brand or product  \n",
       "\n",
       "[8348 rows x 3 columns]"
      ]
     },
     "execution_count": 170,
     "metadata": {},
     "output_type": "execute_result"
    }
   ],
   "source": [
    "tweets_upsampled = pd.concat([tweets_neg_upsampled,tweets])\n",
    "tweets_upsampled"
   ]
  },
  {
   "cell_type": "code",
   "execution_count": 171,
   "metadata": {},
   "outputs": [],
   "source": [
    "from sklearn.preprocessing import LabelEncoder\n",
    "# creating instance of labelencoder\n",
    "labelencoder = LabelEncoder()\n",
    "tweets_upsampled[\"catogory\"] = labelencoder.fit_transform(tweets_upsampled[\"catogory\"])"
   ]
  },
  {
   "cell_type": "code",
   "execution_count": 172,
   "metadata": {
    "scrolled": false
   },
   "outputs": [
    {
     "data": {
      "text/html": [
       "<div>\n",
       "<style scoped>\n",
       "    .dataframe tbody tr th:only-of-type {\n",
       "        vertical-align: middle;\n",
       "    }\n",
       "\n",
       "    .dataframe tbody tr th {\n",
       "        vertical-align: top;\n",
       "    }\n",
       "\n",
       "    .dataframe thead th {\n",
       "        text-align: right;\n",
       "    }\n",
       "</style>\n",
       "<table border=\"1\" class=\"dataframe\">\n",
       "  <thead>\n",
       "    <tr style=\"text-align: right;\">\n",
       "      <th></th>\n",
       "      <th>tweet_text</th>\n",
       "      <th>product</th>\n",
       "      <th>catogory</th>\n",
       "    </tr>\n",
       "  </thead>\n",
       "  <tbody>\n",
       "    <tr>\n",
       "      <th>1749</th>\n",
       "      <td>At #sxsw #tapworthy iPad Design Headaches - avoiding the pitfalls of the new design challenges</td>\n",
       "      <td>iPad</td>\n",
       "      <td>0</td>\n",
       "    </tr>\n",
       "    <tr>\n",
       "      <th>6436</th>\n",
       "      <td>RT @mention Part of Journalsim is the support of democracy, yes? Informed populous, yes? iPad, as a focus, does not support that #newsapps #sxsw</td>\n",
       "      <td>No product</td>\n",
       "      <td>0</td>\n",
       "    </tr>\n",
       "    <tr>\n",
       "      <th>1</th>\n",
       "      <td>@jessedee Know about @fludapp ? Awesome iPad/iPhone app that you'll likely appreciate for its design. Also, they're giving free Ts at #SXSW</td>\n",
       "      <td>iPad or iPhone App</td>\n",
       "      <td>2</td>\n",
       "    </tr>\n",
       "    <tr>\n",
       "      <th>2</th>\n",
       "      <td>@swonderlin Can not wait for #iPad 2 also. They should sale them down at #SXSW.</td>\n",
       "      <td>iPad</td>\n",
       "      <td>2</td>\n",
       "    </tr>\n",
       "    <tr>\n",
       "      <th>4</th>\n",
       "      <td>@sxtxstate great stuff on Fri #SXSW: Marissa Mayer (Google), Tim O'Reilly (tech books/conferences) &amp;amp; Matt Mullenweg (Wordpress)</td>\n",
       "      <td>Google</td>\n",
       "      <td>2</td>\n",
       "    </tr>\n",
       "  </tbody>\n",
       "</table>\n",
       "</div>"
      ],
      "text/plain": [
       "                                                                                                                                            tweet_text  \\\n",
       "1749                                                    At #sxsw #tapworthy iPad Design Headaches - avoiding the pitfalls of the new design challenges   \n",
       "6436  RT @mention Part of Journalsim is the support of democracy, yes? Informed populous, yes? iPad, as a focus, does not support that #newsapps #sxsw   \n",
       "1          @jessedee Know about @fludapp ? Awesome iPad/iPhone app that you'll likely appreciate for its design. Also, they're giving free Ts at #SXSW   \n",
       "2                                                                      @swonderlin Can not wait for #iPad 2 also. They should sale them down at #SXSW.   \n",
       "4                  @sxtxstate great stuff on Fri #SXSW: Marissa Mayer (Google), Tim O'Reilly (tech books/conferences) &amp; Matt Mullenweg (Wordpress)   \n",
       "\n",
       "                 product  catogory  \n",
       "1749                iPad         0  \n",
       "6436          No product         0  \n",
       "1     iPad or iPhone App         2  \n",
       "2                   iPad         2  \n",
       "4                 Google         2  "
      ]
     },
     "execution_count": 172,
     "metadata": {},
     "output_type": "execute_result"
    }
   ],
   "source": [
    "# Display the top five rows of the data frame by using .head() method\n",
    "tweets_upsampled.head()"
   ]
  },
  {
   "cell_type": "markdown",
   "metadata": {},
   "source": [
    "###### Create features,target"
   ]
  },
  {
   "cell_type": "markdown",
   "metadata": {},
   "source": [
    "Now we need to create our features set X and target y:\n",
    "\n",
    "Create X and y by selecting the appropriate columns from the dataset."
   ]
  },
  {
   "cell_type": "markdown",
   "metadata": {},
   "source": [
    "Features :Every row in the dataset only contains one feature: a string containing the full text.\n",
    "\n",
    "target :tweets sentiment either if it was negative,positive,or neutral\n"
   ]
  },
  {
   "cell_type": "code",
   "execution_count": 173,
   "metadata": {},
   "outputs": [],
   "source": [
    "# Split the data into target and Features\n",
    "X=tweets_upsampled[\"tweet_text\"]\n",
    "y=tweets_upsampled[\"catogory\"]"
   ]
  },
  {
   "cell_type": "markdown",
   "metadata": {},
   "source": [
    "###### Perform a Train-Test Split\n",
    "Use train_test_split with 75/25 split on the dataset for training/test. \n",
    "\n",
    "Use random_state=42.At the end we should have X_train, X_test, y_train, and y_test variables,where y represents churn and X represents all other features."
   ]
  },
  {
   "cell_type": "code",
   "execution_count": 174,
   "metadata": {},
   "outputs": [],
   "source": [
    "# split the data into train and test sets\n",
    "X_train,X_test,y_train,y_test = train_test_split(X,y,test_size=0.25,random_state =42)\n",
    "X_test,X_val,y_test,y_val=train_test_split(X_test,y_test,test_size=0.25,random_state =42)"
   ]
  },
  {
   "cell_type": "code",
   "execution_count": 175,
   "metadata": {
    "scrolled": true
   },
   "outputs": [
    {
     "data": {
      "text/html": [
       "<div>\n",
       "<style scoped>\n",
       "    .dataframe tbody tr th:only-of-type {\n",
       "        vertical-align: middle;\n",
       "    }\n",
       "\n",
       "    .dataframe tbody tr th {\n",
       "        vertical-align: top;\n",
       "    }\n",
       "\n",
       "    .dataframe thead th {\n",
       "        text-align: right;\n",
       "    }\n",
       "</style>\n",
       "<table border=\"1\" class=\"dataframe\">\n",
       "  <thead>\n",
       "    <tr style=\"text-align: right;\">\n",
       "      <th></th>\n",
       "      <th>tweet_text</th>\n",
       "    </tr>\n",
       "  </thead>\n",
       "  <tbody>\n",
       "    <tr>\n",
       "      <th>6204</th>\n",
       "      <td>RT @mention Just bumped into @mention here in Austin for SXSWi and Accelerater  {link}  #tech #SXSW</td>\n",
       "    </tr>\n",
       "    <tr>\n",
       "      <th>8056</th>\n",
       "      <td>Come see something new about Google SketchUp Pro at #SXSW {link} via @mention Google SketchUp Blog</td>\n",
       "    </tr>\n",
       "    <tr>\n",
       "      <th>4184</th>\n",
       "      <td>Google Will Connect the Digital &amp;amp; Physical Worlds Through Mobile {link} #sxsw #mobile #mcommerce</td>\n",
       "    </tr>\n",
       "    <tr>\n",
       "      <th>8952</th>\n",
       "      <td>{link} #sxsw Google going Social again?</td>\n",
       "    </tr>\n",
       "    <tr>\n",
       "      <th>1928</th>\n",
       "      <td>5 Essential Business #Collaboration Apps for #iPad {link} #BPM #SXSW #SXSWi</td>\n",
       "    </tr>\n",
       "  </tbody>\n",
       "</table>\n",
       "</div>"
      ],
      "text/plain": [
       "                                                                                                tweet_text\n",
       "6204   RT @mention Just bumped into @mention here in Austin for SXSWi and Accelerater  {link}  #tech #SXSW\n",
       "8056    Come see something new about Google SketchUp Pro at #SXSW {link} via @mention Google SketchUp Blog\n",
       "4184  Google Will Connect the Digital &amp; Physical Worlds Through Mobile {link} #sxsw #mobile #mcommerce\n",
       "8952                                                               {link} #sxsw Google going Social again?\n",
       "1928                           5 Essential Business #Collaboration Apps for #iPad {link} #BPM #SXSW #SXSWi"
      ]
     },
     "execution_count": 175,
     "metadata": {},
     "output_type": "execute_result"
    }
   ],
   "source": [
    "# Display the top five rows of the X_train data frame\n",
    "X_train = pd.DataFrame(X_train)\n",
    "X_train.head()"
   ]
  },
  {
   "cell_type": "code",
   "execution_count": 176,
   "metadata": {
    "scrolled": true
   },
   "outputs": [
    {
     "data": {
      "text/html": [
       "<div>\n",
       "<style scoped>\n",
       "    .dataframe tbody tr th:only-of-type {\n",
       "        vertical-align: middle;\n",
       "    }\n",
       "\n",
       "    .dataframe tbody tr th {\n",
       "        vertical-align: top;\n",
       "    }\n",
       "\n",
       "    .dataframe thead th {\n",
       "        text-align: right;\n",
       "    }\n",
       "</style>\n",
       "<table border=\"1\" class=\"dataframe\">\n",
       "  <thead>\n",
       "    <tr style=\"text-align: right;\">\n",
       "      <th></th>\n",
       "      <th>catogory</th>\n",
       "    </tr>\n",
       "  </thead>\n",
       "  <tbody>\n",
       "    <tr>\n",
       "      <th>6204</th>\n",
       "      <td>1</td>\n",
       "    </tr>\n",
       "    <tr>\n",
       "      <th>8056</th>\n",
       "      <td>1</td>\n",
       "    </tr>\n",
       "    <tr>\n",
       "      <th>4184</th>\n",
       "      <td>1</td>\n",
       "    </tr>\n",
       "    <tr>\n",
       "      <th>8952</th>\n",
       "      <td>1</td>\n",
       "    </tr>\n",
       "    <tr>\n",
       "      <th>1928</th>\n",
       "      <td>1</td>\n",
       "    </tr>\n",
       "  </tbody>\n",
       "</table>\n",
       "</div>"
      ],
      "text/plain": [
       "      catogory\n",
       "6204         1\n",
       "8056         1\n",
       "4184         1\n",
       "8952         1\n",
       "1928         1"
      ]
     },
     "execution_count": 176,
     "metadata": {},
     "output_type": "execute_result"
    }
   ],
   "source": [
    "# Display the top five rows of the y_train data frame\n",
    "y_train = pd.DataFrame(y_train)\n",
    "y_train.head()"
   ]
  },
  {
   "cell_type": "code",
   "execution_count": 177,
   "metadata": {
    "scrolled": true
   },
   "outputs": [
    {
     "data": {
      "text/html": [
       "<div>\n",
       "<style scoped>\n",
       "    .dataframe tbody tr th:only-of-type {\n",
       "        vertical-align: middle;\n",
       "    }\n",
       "\n",
       "    .dataframe tbody tr th {\n",
       "        vertical-align: top;\n",
       "    }\n",
       "\n",
       "    .dataframe thead th {\n",
       "        text-align: right;\n",
       "    }\n",
       "</style>\n",
       "<table border=\"1\" class=\"dataframe\">\n",
       "  <thead>\n",
       "    <tr style=\"text-align: right;\">\n",
       "      <th></th>\n",
       "      <th>tweet_text</th>\n",
       "    </tr>\n",
       "  </thead>\n",
       "  <tbody>\n",
       "    <tr>\n",
       "      <th>5612</th>\n",
       "      <td>RT @mention Check out the FREE SXSW Sampler on iTunes! {link} #SXSW</td>\n",
       "    </tr>\n",
       "    <tr>\n",
       "      <th>6043</th>\n",
       "      <td>RT @mention How to improve website rankings: Advice from Google &amp;amp; Bing at #SXSW {link} via @mention</td>\n",
       "    </tr>\n",
       "    <tr>\n",
       "      <th>221</th>\n",
       "      <td>Just took a survey on iPhone while in Starbucks line. Got a free Starbucks gift card. Instant research. Instant gratification. #sxsw #gsdm</td>\n",
       "    </tr>\n",
       "    <tr>\n",
       "      <th>4639</th>\n",
       "      <td>#iPad Lounge at @mention - Free daily for #sxsw - free coffee, #iPad #Art. Recharge. Refresh åÇ Austin Details {link}</td>\n",
       "    </tr>\n",
       "    <tr>\n",
       "      <th>642</th>\n",
       "      <td>Honestly, I think everyone at #sxsw owns an @mention laptop! #truestory</td>\n",
       "    </tr>\n",
       "  </tbody>\n",
       "</table>\n",
       "</div>"
      ],
      "text/plain": [
       "                                                                                                                                      tweet_text\n",
       "5612                                                                         RT @mention Check out the FREE SXSW Sampler on iTunes! {link} #SXSW\n",
       "6043                                     RT @mention How to improve website rankings: Advice from Google &amp; Bing at #SXSW {link} via @mention\n",
       "221   Just took a survey on iPhone while in Starbucks line. Got a free Starbucks gift card. Instant research. Instant gratification. #sxsw #gsdm\n",
       "4639                       #iPad Lounge at @mention - Free daily for #sxsw - free coffee, #iPad #Art. Recharge. Refresh åÇ Austin Details {link}\n",
       "642                                                                      Honestly, I think everyone at #sxsw owns an @mention laptop! #truestory"
      ]
     },
     "execution_count": 177,
     "metadata": {},
     "output_type": "execute_result"
    }
   ],
   "source": [
    "# Display the top five rows of the X_test data frame\n",
    "X_test = pd.DataFrame(X_test)\n",
    "X_test.head()"
   ]
  },
  {
   "cell_type": "code",
   "execution_count": 178,
   "metadata": {
    "scrolled": true
   },
   "outputs": [
    {
     "data": {
      "text/html": [
       "<div>\n",
       "<style scoped>\n",
       "    .dataframe tbody tr th:only-of-type {\n",
       "        vertical-align: middle;\n",
       "    }\n",
       "\n",
       "    .dataframe tbody tr th {\n",
       "        vertical-align: top;\n",
       "    }\n",
       "\n",
       "    .dataframe thead th {\n",
       "        text-align: right;\n",
       "    }\n",
       "</style>\n",
       "<table border=\"1\" class=\"dataframe\">\n",
       "  <thead>\n",
       "    <tr style=\"text-align: right;\">\n",
       "      <th></th>\n",
       "      <th>catogory</th>\n",
       "    </tr>\n",
       "  </thead>\n",
       "  <tbody>\n",
       "    <tr>\n",
       "      <th>5612</th>\n",
       "      <td>1</td>\n",
       "    </tr>\n",
       "    <tr>\n",
       "      <th>6043</th>\n",
       "      <td>1</td>\n",
       "    </tr>\n",
       "    <tr>\n",
       "      <th>221</th>\n",
       "      <td>1</td>\n",
       "    </tr>\n",
       "    <tr>\n",
       "      <th>4639</th>\n",
       "      <td>2</td>\n",
       "    </tr>\n",
       "    <tr>\n",
       "      <th>642</th>\n",
       "      <td>1</td>\n",
       "    </tr>\n",
       "  </tbody>\n",
       "</table>\n",
       "</div>"
      ],
      "text/plain": [
       "      catogory\n",
       "5612         1\n",
       "6043         1\n",
       "221          1\n",
       "4639         2\n",
       "642          1"
      ]
     },
     "execution_count": 178,
     "metadata": {},
     "output_type": "execute_result"
    }
   ],
   "source": [
    "# Display the top five rows of the y_train data frame\n",
    "y_test = pd.DataFrame(y_test)\n",
    "y_test.head()"
   ]
  },
  {
   "cell_type": "code",
   "execution_count": 179,
   "metadata": {},
   "outputs": [],
   "source": [
    "# Import the oversampling techniques\n",
    "from imblearn.over_sampling import SMOTE"
   ]
  },
  {
   "cell_type": "markdown",
   "metadata": {},
   "source": [
    "Let's take a look on our tweets on X_train."
   ]
  },
  {
   "cell_type": "code",
   "execution_count": 180,
   "metadata": {},
   "outputs": [
    {
     "data": {
      "text/plain": [
       "'#SXSW impromptu Apple store line is about 2 blocks long!  {link}'"
      ]
     },
     "execution_count": 180,
     "metadata": {},
     "output_type": "execute_result"
    }
   ],
   "source": [
    "# Sample of tweets\n",
    "X_train.iloc[150][\"tweet_text\"]"
   ]
  },
  {
   "cell_type": "code",
   "execution_count": 181,
   "metadata": {},
   "outputs": [
    {
     "data": {
      "text/plain": [
       "'#sxsw did my good deed ... returned a lost iPhone'"
      ]
     },
     "execution_count": 181,
     "metadata": {},
     "output_type": "execute_result"
    }
   ],
   "source": [
    "# Sample of tweets\n",
    "X_train.iloc[500][\"tweet_text\"]"
   ]
  },
  {
   "cell_type": "markdown",
   "metadata": {},
   "source": [
    "### Data Cleaning and Exploratory Data Analysis with nltk"
   ]
  },
  {
   "cell_type": "markdown",
   "metadata": {},
   "source": [
    "Natural Language Toolkit\n",
    "NLTK is a leading platform for building Python programs to work with human language data (https://www.nltk.org/)"
   ]
  },
  {
   "cell_type": "markdown",
   "metadata": {},
   "source": [
    "#### Steps to clean the data"
   ]
  },
  {
   "cell_type": "markdown",
   "metadata": {},
   "source": [
    "##### Standardizing Case:\n",
    "In an NLP modeling process, we need to remove capitalize letters,by using .str.lower() method."
   ]
  },
  {
   "cell_type": "code",
   "execution_count": 182,
   "metadata": {
    "scrolled": false
   },
   "outputs": [
    {
     "data": {
      "text/html": [
       "<div>\n",
       "<style scoped>\n",
       "    .dataframe tbody tr th:only-of-type {\n",
       "        vertical-align: middle;\n",
       "    }\n",
       "\n",
       "    .dataframe tbody tr th {\n",
       "        vertical-align: top;\n",
       "    }\n",
       "\n",
       "    .dataframe thead th {\n",
       "        text-align: right;\n",
       "    }\n",
       "</style>\n",
       "<table border=\"1\" class=\"dataframe\">\n",
       "  <thead>\n",
       "    <tr style=\"text-align: right;\">\n",
       "      <th></th>\n",
       "      <th>tweet_text</th>\n",
       "    </tr>\n",
       "  </thead>\n",
       "  <tbody>\n",
       "    <tr>\n",
       "      <th>6204</th>\n",
       "      <td>rt @mention just bumped into @mention here in austin for sxswi and accelerater  {link}  #tech #sxsw</td>\n",
       "    </tr>\n",
       "    <tr>\n",
       "      <th>8056</th>\n",
       "      <td>come see something new about google sketchup pro at #sxsw {link} via @mention google sketchup blog</td>\n",
       "    </tr>\n",
       "    <tr>\n",
       "      <th>4184</th>\n",
       "      <td>google will connect the digital &amp;amp; physical worlds through mobile {link} #sxsw #mobile #mcommerce</td>\n",
       "    </tr>\n",
       "    <tr>\n",
       "      <th>8952</th>\n",
       "      <td>{link} #sxsw google going social again?</td>\n",
       "    </tr>\n",
       "    <tr>\n",
       "      <th>1928</th>\n",
       "      <td>5 essential business #collaboration apps for #ipad {link} #bpm #sxsw #sxswi</td>\n",
       "    </tr>\n",
       "  </tbody>\n",
       "</table>\n",
       "</div>"
      ],
      "text/plain": [
       "                                                                                                tweet_text\n",
       "6204   rt @mention just bumped into @mention here in austin for sxswi and accelerater  {link}  #tech #sxsw\n",
       "8056    come see something new about google sketchup pro at #sxsw {link} via @mention google sketchup blog\n",
       "4184  google will connect the digital &amp; physical worlds through mobile {link} #sxsw #mobile #mcommerce\n",
       "8952                                                               {link} #sxsw google going social again?\n",
       "1928                           5 essential business #collaboration apps for #ipad {link} #bpm #sxsw #sxswi"
      ]
     },
     "execution_count": 182,
     "metadata": {},
     "output_type": "execute_result"
    }
   ],
   "source": [
    "# Transform text in X_train to lowercase\n",
    "# Display the top five rows of the X_train\n",
    "X_train[\"tweet_text\"]=X_train['tweet_text'].str.lower()\n",
    "X_train.head()"
   ]
  },
  {
   "cell_type": "markdown",
   "metadata": {},
   "source": [
    "All the text of tweet text column are converted into lower case ."
   ]
  },
  {
   "cell_type": "markdown",
   "metadata": {},
   "source": [
    "Double-check by looking at an example and making sure the text is lowercase:"
   ]
  },
  {
   "cell_type": "code",
   "execution_count": 183,
   "metadata": {
    "scrolled": true
   },
   "outputs": [
    {
     "data": {
      "text/plain": [
       "'rt @mention are you going to check out the #apple pop-up shop during #sxsw #sxswi? let us know! {link} #ipad2'"
      ]
     },
     "execution_count": 183,
     "metadata": {},
     "output_type": "execute_result"
    }
   ],
   "source": [
    "# Sample of tweets\n",
    "X_train.iloc[22][\"tweet_text\"]"
   ]
  },
  {
   "cell_type": "markdown",
   "metadata": {},
   "source": [
    "We can notice that all letters are in lower case."
   ]
  },
  {
   "cell_type": "markdown",
   "metadata": {},
   "source": [
    "We will use Regular Expressions to quickly match patterns and filter through text documents. Regular Expressions cheat sheets help us to generate these patterns by using re library."
   ]
  },
  {
   "cell_type": "markdown",
   "metadata": {},
   "source": [
    "##### Remove URL links :"
   ]
  },
  {
   "cell_type": "markdown",
   "metadata": {},
   "source": [
    "Create a function to remove the URL links from our tweets."
   ]
  },
  {
   "cell_type": "code",
   "execution_count": 184,
   "metadata": {},
   "outputs": [],
   "source": [
    "# Create a function to remove  url from the text\n",
    "import re\n",
    "def remove_url(text):\n",
    "    \"\"\"Given a text, return a text where the url have been removed\"\"\"\n",
    "    p = re.sub('http[^\\s]+','',str(text))\n",
    "    return p"
   ]
  },
  {
   "cell_type": "markdown",
   "metadata": {},
   "source": [
    "Now Let's apply the function on our text,by using the .apply method."
   ]
  },
  {
   "cell_type": "code",
   "execution_count": 185,
   "metadata": {},
   "outputs": [],
   "source": [
    "# Apply the function on the data frame\n",
    "X_train[\"tweet_text\"] = X_train[\"tweet_text\"].apply(remove_url)"
   ]
  },
  {
   "cell_type": "markdown",
   "metadata": {},
   "source": [
    "###### Remove web links :\n",
    "Create a function to remove the web links from our tweets.\n"
   ]
  },
  {
   "cell_type": "code",
   "execution_count": 186,
   "metadata": {},
   "outputs": [],
   "source": [
    "# Create a function to remove  web from the text\n",
    "\n",
    "def remove_web(text):\n",
    "    \"\"\"Given a text, return a text where the web's signs have been\n",
    "    removed\"\"\"\n",
    "    p = re.sub(\"www\\.[a-z]?\\.?(com)+|[a-z]+\\.(com)\",'',str(text))\n",
    "    return p"
   ]
  },
  {
   "cell_type": "markdown",
   "metadata": {},
   "source": [
    "Now Let's apply the function on our text,by using the .apply method."
   ]
  },
  {
   "cell_type": "code",
   "execution_count": 187,
   "metadata": {},
   "outputs": [],
   "source": [
    "# Apply the function on the data frame\n",
    "X_train[\"tweet_text\"] = X_train[\"tweet_text\"].apply(remove_web)"
   ]
  },
  {
   "cell_type": "markdown",
   "metadata": {},
   "source": [
    "###### Remove html links :\n",
    "Create a function to remove the html links from our tweets."
   ]
  },
  {
   "cell_type": "code",
   "execution_count": 188,
   "metadata": {},
   "outputs": [],
   "source": [
    "# Create a function to remove html from the text\n",
    "\n",
    "def remove_html(text):\n",
    "    \"\"\"Given a text, return a text where the html have been\n",
    "    removed\"\"\"\n",
    "    p = re.sub(r'&[a-z]+;','',str(text))\n",
    "    return p"
   ]
  },
  {
   "cell_type": "markdown",
   "metadata": {},
   "source": [
    "Now Let's apply the function on our text,by using the .apply method."
   ]
  },
  {
   "cell_type": "code",
   "execution_count": 189,
   "metadata": {},
   "outputs": [],
   "source": [
    "# Apply the function on the data frame\n",
    "X_train[\"tweet_text\"] = X_train[\"tweet_text\"].apply(remove_html)"
   ]
  },
  {
   "cell_type": "markdown",
   "metadata": {},
   "source": [
    "#### Tokenizing"
   ]
  },
  {
   "cell_type": "markdown",
   "metadata": {},
   "source": [
    "Tokenization: is the process of splitting a text into a list of tokens.\n",
    "We will use ``RegexpTokenizer`` which splits a string into substrings using a regular expression."
   ]
  },
  {
   "cell_type": "code",
   "execution_count": 190,
   "metadata": {},
   "outputs": [],
   "source": [
    "# Import the Tokenizer\n",
    "from nltk.tokenize import RegexpTokenizer\n",
    "# Create a pattern \n",
    "pattern = r\"([a-zA-Z]+(?:'[a-z]+)?)\"\n",
    "# Instantiate the model\n",
    "tokenizer = RegexpTokenizer(pattern)\n",
    "token=tokenizer.tokenize(\"text\")"
   ]
  },
  {
   "cell_type": "markdown",
   "metadata": {},
   "source": [
    "Lets explain the patren\n",
    "\n",
    "(?u): use full unicode string matching\n",
    "\n",
    "\\b: find a word boundary (a word boundary has length 0, and represents the location between non-word characters and word characters)\n",
    "\n",
    "\\w\\w+: find 2 or more word characters (all letters, numbers, and underscores are word characters)\n",
    "\n",
    "\\b: find another word boundary"
   ]
  },
  {
   "cell_type": "markdown",
   "metadata": {},
   "source": [
    "##### Tokenizing the Full Dataset\n",
    "Tokenizing the Full Dataset by using .apply and pass in tokenizer.tokenize."
   ]
  },
  {
   "cell_type": "code",
   "execution_count": 191,
   "metadata": {
    "scrolled": true
   },
   "outputs": [
    {
     "data": {
      "text/html": [
       "<div>\n",
       "<style scoped>\n",
       "    .dataframe tbody tr th:only-of-type {\n",
       "        vertical-align: middle;\n",
       "    }\n",
       "\n",
       "    .dataframe tbody tr th {\n",
       "        vertical-align: top;\n",
       "    }\n",
       "\n",
       "    .dataframe thead th {\n",
       "        text-align: right;\n",
       "    }\n",
       "</style>\n",
       "<table border=\"1\" class=\"dataframe\">\n",
       "  <thead>\n",
       "    <tr style=\"text-align: right;\">\n",
       "      <th></th>\n",
       "      <th>tweet_text</th>\n",
       "      <th>text_tokenized</th>\n",
       "    </tr>\n",
       "  </thead>\n",
       "  <tbody>\n",
       "    <tr>\n",
       "      <th>6204</th>\n",
       "      <td>rt @mention just bumped into @mention here in austin for sxswi and accelerater  {link}  #tech #sxsw</td>\n",
       "      <td>[rt, mention, just, bumped, into, mention, here, in, austin, for, sxswi, and, accelerater, link, tech, sxsw]</td>\n",
       "    </tr>\n",
       "    <tr>\n",
       "      <th>8056</th>\n",
       "      <td>come see something new about google sketchup pro at #sxsw {link} via @mention google sketchup blog</td>\n",
       "      <td>[come, see, something, new, about, google, sketchup, pro, at, sxsw, link, via, mention, google, sketchup, blog]</td>\n",
       "    </tr>\n",
       "    <tr>\n",
       "      <th>4184</th>\n",
       "      <td>google will connect the digital  physical worlds through mobile {link} #sxsw #mobile #mcommerce</td>\n",
       "      <td>[google, will, connect, the, digital, physical, worlds, through, mobile, link, sxsw, mobile, mcommerce]</td>\n",
       "    </tr>\n",
       "    <tr>\n",
       "      <th>8952</th>\n",
       "      <td>{link} #sxsw google going social again?</td>\n",
       "      <td>[link, sxsw, google, going, social, again]</td>\n",
       "    </tr>\n",
       "    <tr>\n",
       "      <th>1928</th>\n",
       "      <td>5 essential business #collaboration apps for #ipad {link} #bpm #sxsw #sxswi</td>\n",
       "      <td>[essential, business, collaboration, apps, for, ipad, link, bpm, sxsw, sxswi]</td>\n",
       "    </tr>\n",
       "    <tr>\n",
       "      <th>...</th>\n",
       "      <td>...</td>\n",
       "      <td>...</td>\n",
       "    </tr>\n",
       "    <tr>\n",
       "      <th>6280</th>\n",
       "      <td>rt @mention love it. @mention at #sxsw: apple comes up with cool technology no one's ever heard of because they don't go to conferences</td>\n",
       "      <td>[rt, mention, love, it, mention, at, sxsw, apple, comes, up, with, cool, technology, no, one's, ever, heard, of, because, they, don't, go, to, conferences]</td>\n",
       "    </tr>\n",
       "    <tr>\n",
       "      <th>5692</th>\n",
       "      <td>rt @mention driving around austin on google street view scoping out locations. from my desk. #sxsw</td>\n",
       "      <td>[rt, mention, driving, around, austin, on, google, street, view, scoping, out, locations, from, my, desk, sxsw]</td>\n",
       "    </tr>\n",
       "    <tr>\n",
       "      <th>5910</th>\n",
       "      <td>rt @mention google to launch major new social network called circles, possibly today by @mention {link} via @mention #sxsw #22sxsw</td>\n",
       "      <td>[rt, mention, google, to, launch, major, new, social, network, called, circles, possibly, today, by, mention, link, via, mention, sxsw, sxsw]</td>\n",
       "    </tr>\n",
       "    <tr>\n",
       "      <th>935</th>\n",
       "      <td>fear not! now extended through wed! -- rt @mention rt @mention last day for apple popup is sunday 3/13 #sxsw #appleatxdt</td>\n",
       "      <td>[fear, not, now, extended, through, wed, rt, mention, rt, mention, last, day, for, apple, popup, is, sunday, sxsw, appleatxdt]</td>\n",
       "    </tr>\n",
       "    <tr>\n",
       "      <th>7932</th>\n",
       "      <td>don't miss your chance to win rt @mention going to #sxsw? come by the #emc consulting booth for your chance to win an ipad 2! @mention</td>\n",
       "      <td>[don't, miss, your, chance, to, win, rt, mention, going, to, sxsw, come, by, the, emc, consulting, booth, for, your, chance, to, win, an, ipad, mention]</td>\n",
       "    </tr>\n",
       "  </tbody>\n",
       "</table>\n",
       "<p>6261 rows × 2 columns</p>\n",
       "</div>"
      ],
      "text/plain": [
       "                                                                                                                                   tweet_text  \\\n",
       "6204                                      rt @mention just bumped into @mention here in austin for sxswi and accelerater  {link}  #tech #sxsw   \n",
       "8056                                       come see something new about google sketchup pro at #sxsw {link} via @mention google sketchup blog   \n",
       "4184                                          google will connect the digital  physical worlds through mobile {link} #sxsw #mobile #mcommerce   \n",
       "8952                                                                                                  {link} #sxsw google going social again?   \n",
       "1928                                                              5 essential business #collaboration apps for #ipad {link} #bpm #sxsw #sxswi   \n",
       "...                                                                                                                                       ...   \n",
       "6280  rt @mention love it. @mention at #sxsw: apple comes up with cool technology no one's ever heard of because they don't go to conferences   \n",
       "5692                                       rt @mention driving around austin on google street view scoping out locations. from my desk. #sxsw   \n",
       "5910       rt @mention google to launch major new social network called circles, possibly today by @mention {link} via @mention #sxsw #22sxsw   \n",
       "935                  fear not! now extended through wed! -- rt @mention rt @mention last day for apple popup is sunday 3/13 #sxsw #appleatxdt   \n",
       "7932   don't miss your chance to win rt @mention going to #sxsw? come by the #emc consulting booth for your chance to win an ipad 2! @mention   \n",
       "\n",
       "                                                                                                                                                   text_tokenized  \n",
       "6204                                                 [rt, mention, just, bumped, into, mention, here, in, austin, for, sxswi, and, accelerater, link, tech, sxsw]  \n",
       "8056                                              [come, see, something, new, about, google, sketchup, pro, at, sxsw, link, via, mention, google, sketchup, blog]  \n",
       "4184                                                      [google, will, connect, the, digital, physical, worlds, through, mobile, link, sxsw, mobile, mcommerce]  \n",
       "8952                                                                                                                   [link, sxsw, google, going, social, again]  \n",
       "1928                                                                                [essential, business, collaboration, apps, for, ipad, link, bpm, sxsw, sxswi]  \n",
       "...                                                                                                                                                           ...  \n",
       "6280  [rt, mention, love, it, mention, at, sxsw, apple, comes, up, with, cool, technology, no, one's, ever, heard, of, because, they, don't, go, to, conferences]  \n",
       "5692                                              [rt, mention, driving, around, austin, on, google, street, view, scoping, out, locations, from, my, desk, sxsw]  \n",
       "5910                [rt, mention, google, to, launch, major, new, social, network, called, circles, possibly, today, by, mention, link, via, mention, sxsw, sxsw]  \n",
       "935                                [fear, not, now, extended, through, wed, rt, mention, rt, mention, last, day, for, apple, popup, is, sunday, sxsw, appleatxdt]  \n",
       "7932     [don't, miss, your, chance, to, win, rt, mention, going, to, sxsw, come, by, the, emc, consulting, booth, for, your, chance, to, win, an, ipad, mention]  \n",
       "\n",
       "[6261 rows x 2 columns]"
      ]
     },
     "execution_count": 191,
     "metadata": {},
     "output_type": "execute_result"
    }
   ],
   "source": [
    "# Create a new column for tokinized words\n",
    "X_train[\"text_tokenized\"]=[(tokenizer.tokenize(str(text)))for text in X_train[\"tweet_text\"]]\n",
    "\n",
    "X_train"
   ]
  },
  {
   "cell_type": "markdown",
   "metadata": {},
   "source": [
    "We can notice that the text is breaking into individual words."
   ]
  },
  {
   "cell_type": "markdown",
   "metadata": {},
   "source": [
    "### Featured Engineering\n",
    "Feature Engineering means converting text data to numerical data. but why it is required to convert text data to numerical data?. because our machine learning model doesn’t understand text data then we have to do feature engineering. This step is also called Feature extraction from text."
   ]
  },
  {
   "cell_type": "markdown",
   "metadata": {},
   "source": [
    "we use multiple techniques to convert text to numerical vectors\n",
    "1. frequency distribution\n",
    "2. Tf-Idf"
   ]
  },
  {
   "cell_type": "markdown",
   "metadata": {},
   "source": [
    "#### Exploratory Data Analysis: Frequency Distributions"
   ]
  },
  {
   "cell_type": "markdown",
   "metadata": {},
   "source": [
    "A frequency distribution records the number of times each outcome of an word has occured."
   ]
  },
  {
   "cell_type": "code",
   "execution_count": 192,
   "metadata": {
    "scrolled": true
   },
   "outputs": [
    {
     "data": {
      "text/plain": [
       "FreqDist({'sxsw': 6647, 'mention': 5039, 'link': 3070, 'the': 3024, 'to': 2461, 'at': 2150, 'rt': 2103, 'ipad': 2040, 'for': 1787, 'google': 1698, ...})"
      ]
     },
     "execution_count": 192,
     "metadata": {},
     "output_type": "execute_result"
    }
   ],
   "source": [
    "# Import FreqDist\n",
    "from  nltk import FreqDist\n",
    "X_train_freqdist = FreqDist(X_train[\"text_tokenized\"].explode())\n",
    "X_train_freqdist"
   ]
  },
  {
   "cell_type": "markdown",
   "metadata": {},
   "source": [
    "We got a dictionary, the keys represented words, and the values are the number of times that the word appears in the text. "
   ]
  },
  {
   "cell_type": "markdown",
   "metadata": {},
   "source": [
    "###### Frequency Distributions Visualization\n",
    "We will create a function to visualize the most frequent words in the text."
   ]
  },
  {
   "cell_type": "code",
   "execution_count": 193,
   "metadata": {
    "scrolled": false
   },
   "outputs": [
    {
     "data": {
      "image/png": "[encoded data removed]",
      "text/plain": [
       "<Figure size 432x288 with 1 Axes>"
      ]
     },
     "metadata": {
      "needs_background": "light"
     },
     "output_type": "display_data"
    }
   ],
   "source": [
    "import matplotlib.pyplot as plt\n",
    "from matplotlib.ticker import MaxNLocator\n",
    "\n",
    "def visualize_top_25(freq_dist, title):\n",
    "\n",
    "    # Extract data for plotting\n",
    "    top_25 = list(zip(*freq_dist.most_common(25)))\n",
    "    stop_words = top_25[0]\n",
    "    counts = top_25[1]\n",
    "\n",
    "    # Set up plot and plot data\n",
    "    fig, ax = plt.subplots()\n",
    "    ax.bar(stop_words, counts)\n",
    "\n",
    "    # Customize plot appearance\n",
    "    ax.set_title(title)\n",
    "    ax.set_ylabel(\"Count\")\n",
    "    ax.yaxis.set_major_locator(MaxNLocator(integer=True))\n",
    "    ax.tick_params(axis=\"x\", rotation=90)\n",
    "    \n",
    "visualize_top_25(X_train_freqdist, \"Top 25 Word Frequency for xtrain dataframe\")"
   ]
  },
  {
   "cell_type": "markdown",
   "metadata": {},
   "source": [
    "These are the most frequented words on the X train data frame."
   ]
  },
  {
   "cell_type": "markdown",
   "metadata": {},
   "source": [
    "###### EXPLORE\n",
    "Based on our business problem, it is important to isolate and analyze positive, negative, and nutral tweets as a whole as well as on a company and product basis. "
   ]
  },
  {
   "cell_type": "markdown",
   "metadata": {},
   "source": [
    "We will create the train set data frame by using the .concat() method to merge x train and y train data frames"
   ]
  },
  {
   "cell_type": "code",
   "execution_count": 194,
   "metadata": {
    "scrolled": true
   },
   "outputs": [
    {
     "data": {
      "text/html": [
       "<div>\n",
       "<style scoped>\n",
       "    .dataframe tbody tr th:only-of-type {\n",
       "        vertical-align: middle;\n",
       "    }\n",
       "\n",
       "    .dataframe tbody tr th {\n",
       "        vertical-align: top;\n",
       "    }\n",
       "\n",
       "    .dataframe thead th {\n",
       "        text-align: right;\n",
       "    }\n",
       "</style>\n",
       "<table border=\"1\" class=\"dataframe\">\n",
       "  <thead>\n",
       "    <tr style=\"text-align: right;\">\n",
       "      <th></th>\n",
       "      <th>tweet_text</th>\n",
       "      <th>text_tokenized</th>\n",
       "      <th>catogory</th>\n",
       "    </tr>\n",
       "  </thead>\n",
       "  <tbody>\n",
       "    <tr>\n",
       "      <th>6204</th>\n",
       "      <td>rt @mention just bumped into @mention here in austin for sxswi and accelerater  {link}  #tech #sxsw</td>\n",
       "      <td>[rt, mention, just, bumped, into, mention, here, in, austin, for, sxswi, and, accelerater, link, tech, sxsw]</td>\n",
       "      <td>1</td>\n",
       "    </tr>\n",
       "    <tr>\n",
       "      <th>8056</th>\n",
       "      <td>come see something new about google sketchup pro at #sxsw {link} via @mention google sketchup blog</td>\n",
       "      <td>[come, see, something, new, about, google, sketchup, pro, at, sxsw, link, via, mention, google, sketchup, blog]</td>\n",
       "      <td>1</td>\n",
       "    </tr>\n",
       "    <tr>\n",
       "      <th>4184</th>\n",
       "      <td>google will connect the digital  physical worlds through mobile {link} #sxsw #mobile #mcommerce</td>\n",
       "      <td>[google, will, connect, the, digital, physical, worlds, through, mobile, link, sxsw, mobile, mcommerce]</td>\n",
       "      <td>1</td>\n",
       "    </tr>\n",
       "    <tr>\n",
       "      <th>8952</th>\n",
       "      <td>{link} #sxsw google going social again?</td>\n",
       "      <td>[link, sxsw, google, going, social, again]</td>\n",
       "      <td>1</td>\n",
       "    </tr>\n",
       "    <tr>\n",
       "      <th>1928</th>\n",
       "      <td>5 essential business #collaboration apps for #ipad {link} #bpm #sxsw #sxswi</td>\n",
       "      <td>[essential, business, collaboration, apps, for, ipad, link, bpm, sxsw, sxswi]</td>\n",
       "      <td>1</td>\n",
       "    </tr>\n",
       "    <tr>\n",
       "      <th>...</th>\n",
       "      <td>...</td>\n",
       "      <td>...</td>\n",
       "      <td>...</td>\n",
       "    </tr>\n",
       "    <tr>\n",
       "      <th>6280</th>\n",
       "      <td>rt @mention love it. @mention at #sxsw: apple comes up with cool technology no one's ever heard of because they don't go to conferences</td>\n",
       "      <td>[rt, mention, love, it, mention, at, sxsw, apple, comes, up, with, cool, technology, no, one's, ever, heard, of, because, they, don't, go, to, conferences]</td>\n",
       "      <td>2</td>\n",
       "    </tr>\n",
       "    <tr>\n",
       "      <th>5692</th>\n",
       "      <td>rt @mention driving around austin on google street view scoping out locations. from my desk. #sxsw</td>\n",
       "      <td>[rt, mention, driving, around, austin, on, google, street, view, scoping, out, locations, from, my, desk, sxsw]</td>\n",
       "      <td>1</td>\n",
       "    </tr>\n",
       "    <tr>\n",
       "      <th>5910</th>\n",
       "      <td>rt @mention google to launch major new social network called circles, possibly today by @mention {link} via @mention #sxsw #22sxsw</td>\n",
       "      <td>[rt, mention, google, to, launch, major, new, social, network, called, circles, possibly, today, by, mention, link, via, mention, sxsw, sxsw]</td>\n",
       "      <td>1</td>\n",
       "    </tr>\n",
       "    <tr>\n",
       "      <th>935</th>\n",
       "      <td>fear not! now extended through wed! -- rt @mention rt @mention last day for apple popup is sunday 3/13 #sxsw #appleatxdt</td>\n",
       "      <td>[fear, not, now, extended, through, wed, rt, mention, rt, mention, last, day, for, apple, popup, is, sunday, sxsw, appleatxdt]</td>\n",
       "      <td>2</td>\n",
       "    </tr>\n",
       "    <tr>\n",
       "      <th>7932</th>\n",
       "      <td>don't miss your chance to win rt @mention going to #sxsw? come by the #emc consulting booth for your chance to win an ipad 2! @mention</td>\n",
       "      <td>[don't, miss, your, chance, to, win, rt, mention, going, to, sxsw, come, by, the, emc, consulting, booth, for, your, chance, to, win, an, ipad, mention]</td>\n",
       "      <td>1</td>\n",
       "    </tr>\n",
       "  </tbody>\n",
       "</table>\n",
       "<p>6261 rows × 3 columns</p>\n",
       "</div>"
      ],
      "text/plain": [
       "                                                                                                                                   tweet_text  \\\n",
       "6204                                      rt @mention just bumped into @mention here in austin for sxswi and accelerater  {link}  #tech #sxsw   \n",
       "8056                                       come see something new about google sketchup pro at #sxsw {link} via @mention google sketchup blog   \n",
       "4184                                          google will connect the digital  physical worlds through mobile {link} #sxsw #mobile #mcommerce   \n",
       "8952                                                                                                  {link} #sxsw google going social again?   \n",
       "1928                                                              5 essential business #collaboration apps for #ipad {link} #bpm #sxsw #sxswi   \n",
       "...                                                                                                                                       ...   \n",
       "6280  rt @mention love it. @mention at #sxsw: apple comes up with cool technology no one's ever heard of because they don't go to conferences   \n",
       "5692                                       rt @mention driving around austin on google street view scoping out locations. from my desk. #sxsw   \n",
       "5910       rt @mention google to launch major new social network called circles, possibly today by @mention {link} via @mention #sxsw #22sxsw   \n",
       "935                  fear not! now extended through wed! -- rt @mention rt @mention last day for apple popup is sunday 3/13 #sxsw #appleatxdt   \n",
       "7932   don't miss your chance to win rt @mention going to #sxsw? come by the #emc consulting booth for your chance to win an ipad 2! @mention   \n",
       "\n",
       "                                                                                                                                                   text_tokenized  \\\n",
       "6204                                                 [rt, mention, just, bumped, into, mention, here, in, austin, for, sxswi, and, accelerater, link, tech, sxsw]   \n",
       "8056                                              [come, see, something, new, about, google, sketchup, pro, at, sxsw, link, via, mention, google, sketchup, blog]   \n",
       "4184                                                      [google, will, connect, the, digital, physical, worlds, through, mobile, link, sxsw, mobile, mcommerce]   \n",
       "8952                                                                                                                   [link, sxsw, google, going, social, again]   \n",
       "1928                                                                                [essential, business, collaboration, apps, for, ipad, link, bpm, sxsw, sxswi]   \n",
       "...                                                                                                                                                           ...   \n",
       "6280  [rt, mention, love, it, mention, at, sxsw, apple, comes, up, with, cool, technology, no, one's, ever, heard, of, because, they, don't, go, to, conferences]   \n",
       "5692                                              [rt, mention, driving, around, austin, on, google, street, view, scoping, out, locations, from, my, desk, sxsw]   \n",
       "5910                [rt, mention, google, to, launch, major, new, social, network, called, circles, possibly, today, by, mention, link, via, mention, sxsw, sxsw]   \n",
       "935                                [fear, not, now, extended, through, wed, rt, mention, rt, mention, last, day, for, apple, popup, is, sunday, sxsw, appleatxdt]   \n",
       "7932     [don't, miss, your, chance, to, win, rt, mention, going, to, sxsw, come, by, the, emc, consulting, booth, for, your, chance, to, win, an, ipad, mention]   \n",
       "\n",
       "      catogory  \n",
       "6204         1  \n",
       "8056         1  \n",
       "4184         1  \n",
       "8952         1  \n",
       "1928         1  \n",
       "...        ...  \n",
       "6280         2  \n",
       "5692         1  \n",
       "5910         1  \n",
       "935          2  \n",
       "7932         1  \n",
       "\n",
       "[6261 rows x 3 columns]"
      ]
     },
     "execution_count": 194,
     "metadata": {},
     "output_type": "execute_result"
    }
   ],
   "source": [
    "# create the train set data frame \n",
    "train_set = pd.concat([X_train,y_train],axis =1)\n",
    "train_set"
   ]
  },
  {
   "cell_type": "markdown",
   "metadata": {},
   "source": [
    "###### Tweets with Positive Sentiment\n",
    "Let's filter the positive tweets from the train set data frame"
   ]
  },
  {
   "cell_type": "code",
   "execution_count": 195,
   "metadata": {
    "scrolled": true
   },
   "outputs": [
    {
     "data": {
      "text/html": [
       "<div>\n",
       "<style scoped>\n",
       "    .dataframe tbody tr th:only-of-type {\n",
       "        vertical-align: middle;\n",
       "    }\n",
       "\n",
       "    .dataframe tbody tr th {\n",
       "        vertical-align: top;\n",
       "    }\n",
       "\n",
       "    .dataframe thead th {\n",
       "        text-align: right;\n",
       "    }\n",
       "</style>\n",
       "<table border=\"1\" class=\"dataframe\">\n",
       "  <thead>\n",
       "    <tr style=\"text-align: right;\">\n",
       "      <th></th>\n",
       "      <th>tweet_text</th>\n",
       "      <th>text_tokenized</th>\n",
       "      <th>catogory</th>\n",
       "    </tr>\n",
       "  </thead>\n",
       "  <tbody>\n",
       "    <tr>\n",
       "      <th>983</th>\n",
       "      <td>apple has opened a makeshift store for #sxsw, ipad2 will be available at 5pm today... #tempted</td>\n",
       "      <td>[apple, has, opened, a, makeshift, store, for, sxsw, ipad, will, be, available, at, pm, today, tempted]</td>\n",
       "      <td>2</td>\n",
       "    </tr>\n",
       "    <tr>\n",
       "      <th>7622</th>\n",
       "      <td>temperature going up :) rt @mention @mention  @mention   @mention having fun at #google [pic] #sxsw {link}</td>\n",
       "      <td>[temperature, going, up, rt, mention, mention, mention, mention, having, fun, at, google, pic, sxsw, link]</td>\n",
       "      <td>2</td>\n",
       "    </tr>\n",
       "    <tr>\n",
       "      <th>2258</th>\n",
       "      <td>@mention be sure to use our free app for checking out the bands at #sxsw! {link}</td>\n",
       "      <td>[mention, be, sure, to, use, our, free, app, for, checking, out, the, bands, at, sxsw, link]</td>\n",
       "      <td>2</td>\n",
       "    </tr>\n",
       "    <tr>\n",
       "      <th>5702</th>\n",
       "      <td>rt @mention even security guards in austin enjoy ipad time. #sxsw (cc @mention {link}</td>\n",
       "      <td>[rt, mention, even, security, guards, in, austin, enjoy, ipad, time, sxsw, cc, mention, link]</td>\n",
       "      <td>2</td>\n",
       "    </tr>\n",
       "    <tr>\n",
       "      <th>5019</th>\n",
       "      <td>here he comes ladies! @mention  @mention  rt @mention i'll be at austin convention center w/  @mention showing my  iphone game. #sxsw</td>\n",
       "      <td>[here, he, comes, ladies, mention, mention, rt, mention, i'll, be, at, austin, convention, center, w, mention, showing, my, iphone, game, sxsw]</td>\n",
       "      <td>2</td>\n",
       "    </tr>\n",
       "    <tr>\n",
       "      <th>...</th>\n",
       "      <td>...</td>\n",
       "      <td>...</td>\n",
       "      <td>...</td>\n",
       "    </tr>\n",
       "    <tr>\n",
       "      <th>5539</th>\n",
       "      <td>rt @mention awesome! first day of #sxsw and #apple just approved our new app!!! go and download it now and check our blog for big stereo #ipad2</td>\n",
       "      <td>[rt, mention, awesome, first, day, of, sxsw, and, apple, just, approved, our, new, app, go, and, download, it, now, and, check, our, blog, for, big, stereo, ipad]</td>\n",
       "      <td>2</td>\n",
       "    </tr>\n",
       "    <tr>\n",
       "      <th>2653</th>\n",
       "      <td>if you are going to be on foot at #sxsw, don't forget to stop by the newest apple store in austin: {link}</td>\n",
       "      <td>[if, you, are, going, to, be, on, foot, at, sxsw, don't, forget, to, stop, by, the, newest, apple, store, in, austin, link]</td>\n",
       "      <td>2</td>\n",
       "    </tr>\n",
       "    <tr>\n",
       "      <th>6844</th>\n",
       "      <td>rt @mention very smart move by apple. a pop-up store during #sxsw (ipad 2's come out at 5pm tomorrow): {link}</td>\n",
       "      <td>[rt, mention, very, smart, move, by, apple, a, pop, up, store, during, sxsw, ipad, s, come, out, at, pm, tomorrow, link]</td>\n",
       "      <td>2</td>\n",
       "    </tr>\n",
       "    <tr>\n",
       "      <th>6280</th>\n",
       "      <td>rt @mention love it. @mention at #sxsw: apple comes up with cool technology no one's ever heard of because they don't go to conferences</td>\n",
       "      <td>[rt, mention, love, it, mention, at, sxsw, apple, comes, up, with, cool, technology, no, one's, ever, heard, of, because, they, don't, go, to, conferences]</td>\n",
       "      <td>2</td>\n",
       "    </tr>\n",
       "    <tr>\n",
       "      <th>935</th>\n",
       "      <td>fear not! now extended through wed! -- rt @mention rt @mention last day for apple popup is sunday 3/13 #sxsw #appleatxdt</td>\n",
       "      <td>[fear, not, now, extended, through, wed, rt, mention, rt, mention, last, day, for, apple, popup, is, sunday, sxsw, appleatxdt]</td>\n",
       "      <td>2</td>\n",
       "    </tr>\n",
       "  </tbody>\n",
       "</table>\n",
       "<p>2190 rows × 3 columns</p>\n",
       "</div>"
      ],
      "text/plain": [
       "                                                                                                                                           tweet_text  \\\n",
       "983                                                    apple has opened a makeshift store for #sxsw, ipad2 will be available at 5pm today... #tempted   \n",
       "7622                                       temperature going up :) rt @mention @mention  @mention   @mention having fun at #google [pic] #sxsw {link}   \n",
       "2258                                                                 @mention be sure to use our free app for checking out the bands at #sxsw! {link}   \n",
       "5702                                                            rt @mention even security guards in austin enjoy ipad time. #sxsw (cc @mention {link}   \n",
       "5019            here he comes ladies! @mention  @mention  rt @mention i'll be at austin convention center w/  @mention showing my  iphone game. #sxsw   \n",
       "...                                                                                                                                               ...   \n",
       "5539  rt @mention awesome! first day of #sxsw and #apple just approved our new app!!! go and download it now and check our blog for big stereo #ipad2   \n",
       "2653                                        if you are going to be on foot at #sxsw, don't forget to stop by the newest apple store in austin: {link}   \n",
       "6844                                    rt @mention very smart move by apple. a pop-up store during #sxsw (ipad 2's come out at 5pm tomorrow): {link}   \n",
       "6280          rt @mention love it. @mention at #sxsw: apple comes up with cool technology no one's ever heard of because they don't go to conferences   \n",
       "935                          fear not! now extended through wed! -- rt @mention rt @mention last day for apple popup is sunday 3/13 #sxsw #appleatxdt   \n",
       "\n",
       "                                                                                                                                                          text_tokenized  \\\n",
       "983                                                              [apple, has, opened, a, makeshift, store, for, sxsw, ipad, will, be, available, at, pm, today, tempted]   \n",
       "7622                                                          [temperature, going, up, rt, mention, mention, mention, mention, having, fun, at, google, pic, sxsw, link]   \n",
       "2258                                                                        [mention, be, sure, to, use, our, free, app, for, checking, out, the, bands, at, sxsw, link]   \n",
       "5702                                                                       [rt, mention, even, security, guards, in, austin, enjoy, ipad, time, sxsw, cc, mention, link]   \n",
       "5019                     [here, he, comes, ladies, mention, mention, rt, mention, i'll, be, at, austin, convention, center, w, mention, showing, my, iphone, game, sxsw]   \n",
       "...                                                                                                                                                                  ...   \n",
       "5539  [rt, mention, awesome, first, day, of, sxsw, and, apple, just, approved, our, new, app, go, and, download, it, now, and, check, our, blog, for, big, stereo, ipad]   \n",
       "2653                                         [if, you, are, going, to, be, on, foot, at, sxsw, don't, forget, to, stop, by, the, newest, apple, store, in, austin, link]   \n",
       "6844                                            [rt, mention, very, smart, move, by, apple, a, pop, up, store, during, sxsw, ipad, s, come, out, at, pm, tomorrow, link]   \n",
       "6280         [rt, mention, love, it, mention, at, sxsw, apple, comes, up, with, cool, technology, no, one's, ever, heard, of, because, they, don't, go, to, conferences]   \n",
       "935                                       [fear, not, now, extended, through, wed, rt, mention, rt, mention, last, day, for, apple, popup, is, sunday, sxsw, appleatxdt]   \n",
       "\n",
       "      catogory  \n",
       "983          2  \n",
       "7622         2  \n",
       "2258         2  \n",
       "5702         2  \n",
       "5019         2  \n",
       "...        ...  \n",
       "5539         2  \n",
       "2653         2  \n",
       "6844         2  \n",
       "6280         2  \n",
       "935          2  \n",
       "\n",
       "[2190 rows x 3 columns]"
      ]
     },
     "execution_count": 195,
     "metadata": {},
     "output_type": "execute_result"
    }
   ],
   "source": [
    "#positive tweets data frame\n",
    "train_set_posative=train_set[train_set[\"catogory\"]==2]\n",
    "train_set_posative"
   ]
  },
  {
   "cell_type": "markdown",
   "metadata": {},
   "source": [
    "A frequency distribution records the number of times each outcome of an word has occured in positive data frame "
   ]
  },
  {
   "cell_type": "code",
   "execution_count": 196,
   "metadata": {
    "scrolled": false
   },
   "outputs": [
    {
     "data": {
      "text/plain": [
       "FreqDist({'sxsw': 2313, 'mention': 1602, 'the': 1170, 'link': 902, 'ipad': 896, 'to': 855, 'at': 741, 'for': 679, 'rt': 671, 'apple': 664, ...})"
      ]
     },
     "execution_count": 196,
     "metadata": {},
     "output_type": "execute_result"
    }
   ],
   "source": [
    "# create FreqDist for posative data frame\n",
    "train_set_posative_freqdist =FreqDist(train_set_posative[\"text_tokenized\"].explode())\n",
    "train_set_posative_freqdist"
   ]
  },
  {
   "cell_type": "markdown",
   "metadata": {},
   "source": [
    "A frequency distribution  produces a dictionary-like output of those words and their frequencies."
   ]
  },
  {
   "cell_type": "code",
   "execution_count": 197,
   "metadata": {
    "scrolled": true
   },
   "outputs": [
    {
     "data": {
      "image/png": "[encoded data removed]",
      "text/plain": [
       "<Figure size 432x288 with 1 Axes>"
      ]
     },
     "metadata": {
      "needs_background": "light"
     },
     "output_type": "display_data"
    }
   ],
   "source": [
    "# plot posative_freqdist\n",
    "visualize_top_25(train_set_posative_freqdist, \"Top 25 Word Frequency for posative subset\")"
   ]
  },
  {
   "cell_type": "markdown",
   "metadata": {},
   "source": [
    "We can notice that the most repeated words here are (sxsw,mention,link) these\n",
    "words cant provide us with any information."
   ]
  },
  {
   "cell_type": "markdown",
   "metadata": {},
   "source": [
    "We will create WordCloud.\n",
    "WordCloud which represents the frequency or the importance word appears in different sizes."
   ]
  },
  {
   "cell_type": "code",
   "execution_count": 198,
   "metadata": {},
   "outputs": [],
   "source": [
    "import matplotlib.pyplot as plt\n",
    "from wordcloud import WordCloud"
   ]
  },
  {
   "cell_type": "code",
   "execution_count": 199,
   "metadata": {
    "scrolled": false
   },
   "outputs": [
    {
     "data": {
      "text/plain": [
       "<matplotlib.image.AxesImage at 0x1c4b28f8430>"
      ]
     },
     "execution_count": 199,
     "metadata": {},
     "output_type": "execute_result"
    },
    {
     "data": {
      "image/png": "[encoded data removed]",
      "text/plain": [
       "<Figure size 432x288 with 1 Axes>"
      ]
     },
     "metadata": {
      "needs_background": "light"
     },
     "output_type": "display_data"
    }
   ],
   "source": [
    "wordcloud = WordCloud(max_font_size=50, max_words=100).generate_from_frequencies(train_set_posative_freqdist)\n",
    "plt.imshow(wordcloud,interpolation=\"bilinear\")"
   ]
  },
  {
   "cell_type": "markdown",
   "metadata": {},
   "source": [
    "###### Tweets with Negative Sentiment\n",
    "let's filter the Negative tweets from the train set data frame"
   ]
  },
  {
   "cell_type": "code",
   "execution_count": 200,
   "metadata": {
    "scrolled": true
   },
   "outputs": [
    {
     "data": {
      "text/html": [
       "<div>\n",
       "<style scoped>\n",
       "    .dataframe tbody tr th:only-of-type {\n",
       "        vertical-align: middle;\n",
       "    }\n",
       "\n",
       "    .dataframe tbody tr th {\n",
       "        vertical-align: top;\n",
       "    }\n",
       "\n",
       "    .dataframe thead th {\n",
       "        text-align: right;\n",
       "    }\n",
       "</style>\n",
       "<table border=\"1\" class=\"dataframe\">\n",
       "  <thead>\n",
       "    <tr style=\"text-align: right;\">\n",
       "      <th></th>\n",
       "      <th>tweet_text</th>\n",
       "      <th>text_tokenized</th>\n",
       "      <th>catogory</th>\n",
       "    </tr>\n",
       "  </thead>\n",
       "  <tbody>\n",
       "    <tr>\n",
       "      <th>6436</th>\n",
       "      <td>rt @mention part of journalsim is the support of democracy, yes? informed populous, yes? ipad, as a focus, does not support that #newsapps #sxsw</td>\n",
       "      <td>[rt, mention, part, of, journalsim, is, the, support, of, democracy, yes, informed, populous, yes, ipad, as, a, focus, does, not, support, that, newsapps, sxsw]</td>\n",
       "      <td>0</td>\n",
       "    </tr>\n",
       "  </tbody>\n",
       "</table>\n",
       "</div>"
      ],
      "text/plain": [
       "                                                                                                                                            tweet_text  \\\n",
       "6436  rt @mention part of journalsim is the support of democracy, yes? informed populous, yes? ipad, as a focus, does not support that #newsapps #sxsw   \n",
       "\n",
       "                                                                                                                                                        text_tokenized  \\\n",
       "6436  [rt, mention, part, of, journalsim, is, the, support, of, democracy, yes, informed, populous, yes, ipad, as, a, focus, does, not, support, that, newsapps, sxsw]   \n",
       "\n",
       "      catogory  \n",
       "6436         0  "
      ]
     },
     "execution_count": 200,
     "metadata": {},
     "output_type": "execute_result"
    }
   ],
   "source": [
    "# Negative tweets data frame\n",
    "train_set_Negative=train_set[train_set[\"catogory\"]==0]\n",
    "train_set_Negative"
   ]
  },
  {
   "cell_type": "code",
   "execution_count": 201,
   "metadata": {
    "scrolled": true
   },
   "outputs": [
    {
     "data": {
      "text/plain": [
       "FreqDist({'of': 2, 'support': 2, 'yes': 2, 'rt': 1, 'mention': 1, 'part': 1, 'journalsim': 1, 'is': 1, 'the': 1, 'democracy': 1, ...})"
      ]
     },
     "execution_count": 201,
     "metadata": {},
     "output_type": "execute_result"
    }
   ],
   "source": [
    "# create FreqDist for Negative data frame\n",
    "train_set_Negative_freqdist =FreqDist(train_set_Negative[\"text_tokenized\"].explode())\n",
    "train_set_Negative_freqdist"
   ]
  },
  {
   "cell_type": "code",
   "execution_count": 202,
   "metadata": {
    "scrolled": false
   },
   "outputs": [
    {
     "data": {
      "image/png": "[encoded data removed]",
      "text/plain": [
       "<Figure size 432x288 with 1 Axes>"
      ]
     },
     "metadata": {
      "needs_background": "light"
     },
     "output_type": "display_data"
    }
   ],
   "source": [
    "# plot Negative_freqdist\n",
    "visualize_top_25(train_set_Negative_freqdist, \"Top 25 Word Frequency for negative subset\")"
   ]
  },
  {
   "cell_type": "code",
   "execution_count": 203,
   "metadata": {},
   "outputs": [
    {
     "data": {
      "text/plain": [
       "<matplotlib.image.AxesImage at 0x1c4b29d5070>"
      ]
     },
     "execution_count": 203,
     "metadata": {},
     "output_type": "execute_result"
    },
    {
     "data": {
      "image/png": "[encoded data removed]",
      "text/plain": [
       "<Figure size 432x288 with 1 Axes>"
      ]
     },
     "metadata": {
      "needs_background": "light"
     },
     "output_type": "display_data"
    }
   ],
   "source": [
    "wordcloud = WordCloud(max_font_size=50, max_words=100).generate_from_frequencies(train_set_Negative_freqdist)\n",
    "plt.imshow(wordcloud,interpolation=\"bilinear\")"
   ]
  },
  {
   "cell_type": "markdown",
   "metadata": {},
   "source": [
    "###### Tweets with  nutral  Sentiment\n",
    "let's filter the nutral tweets from the train set data frame"
   ]
  },
  {
   "cell_type": "code",
   "execution_count": 204,
   "metadata": {
    "scrolled": true
   },
   "outputs": [
    {
     "data": {
      "text/html": [
       "<div>\n",
       "<style scoped>\n",
       "    .dataframe tbody tr th:only-of-type {\n",
       "        vertical-align: middle;\n",
       "    }\n",
       "\n",
       "    .dataframe tbody tr th {\n",
       "        vertical-align: top;\n",
       "    }\n",
       "\n",
       "    .dataframe thead th {\n",
       "        text-align: right;\n",
       "    }\n",
       "</style>\n",
       "<table border=\"1\" class=\"dataframe\">\n",
       "  <thead>\n",
       "    <tr style=\"text-align: right;\">\n",
       "      <th></th>\n",
       "      <th>tweet_text</th>\n",
       "      <th>text_tokenized</th>\n",
       "      <th>catogory</th>\n",
       "    </tr>\n",
       "  </thead>\n",
       "  <tbody>\n",
       "    <tr>\n",
       "      <th>6204</th>\n",
       "      <td>rt @mention just bumped into @mention here in austin for sxswi and accelerater  {link}  #tech #sxsw</td>\n",
       "      <td>[rt, mention, just, bumped, into, mention, here, in, austin, for, sxswi, and, accelerater, link, tech, sxsw]</td>\n",
       "      <td>1</td>\n",
       "    </tr>\n",
       "    <tr>\n",
       "      <th>8056</th>\n",
       "      <td>come see something new about google sketchup pro at #sxsw {link} via @mention google sketchup blog</td>\n",
       "      <td>[come, see, something, new, about, google, sketchup, pro, at, sxsw, link, via, mention, google, sketchup, blog]</td>\n",
       "      <td>1</td>\n",
       "    </tr>\n",
       "    <tr>\n",
       "      <th>4184</th>\n",
       "      <td>google will connect the digital  physical worlds through mobile {link} #sxsw #mobile #mcommerce</td>\n",
       "      <td>[google, will, connect, the, digital, physical, worlds, through, mobile, link, sxsw, mobile, mcommerce]</td>\n",
       "      <td>1</td>\n",
       "    </tr>\n",
       "    <tr>\n",
       "      <th>8952</th>\n",
       "      <td>{link} #sxsw google going social again?</td>\n",
       "      <td>[link, sxsw, google, going, social, again]</td>\n",
       "      <td>1</td>\n",
       "    </tr>\n",
       "    <tr>\n",
       "      <th>1928</th>\n",
       "      <td>5 essential business #collaboration apps for #ipad {link} #bpm #sxsw #sxswi</td>\n",
       "      <td>[essential, business, collaboration, apps, for, ipad, link, bpm, sxsw, sxswi]</td>\n",
       "      <td>1</td>\n",
       "    </tr>\n",
       "    <tr>\n",
       "      <th>...</th>\n",
       "      <td>...</td>\n",
       "      <td>...</td>\n",
       "      <td>...</td>\n",
       "    </tr>\n",
       "    <tr>\n",
       "      <th>4861</th>\n",
       "      <td>google 'to launch social network in may' - independent.ie {link} #sxsw</td>\n",
       "      <td>[google, to, launch, social, network, in, may, independent, ie, link, sxsw]</td>\n",
       "      <td>1</td>\n",
       "    </tr>\n",
       "    <tr>\n",
       "      <th>509</th>\n",
       "      <td>please rt follow the next big #college social network @mention chance to win an #ipad at 7,000 followers #socialmedia #sxsw</td>\n",
       "      <td>[please, rt, follow, the, next, big, college, social, network, mention, chance, to, win, an, ipad, at, followers, socialmedia, sxsw]</td>\n",
       "      <td>1</td>\n",
       "    </tr>\n",
       "    <tr>\n",
       "      <th>5692</th>\n",
       "      <td>rt @mention driving around austin on google street view scoping out locations. from my desk. #sxsw</td>\n",
       "      <td>[rt, mention, driving, around, austin, on, google, street, view, scoping, out, locations, from, my, desk, sxsw]</td>\n",
       "      <td>1</td>\n",
       "    </tr>\n",
       "    <tr>\n",
       "      <th>5910</th>\n",
       "      <td>rt @mention google to launch major new social network called circles, possibly today by @mention {link} via @mention #sxsw #22sxsw</td>\n",
       "      <td>[rt, mention, google, to, launch, major, new, social, network, called, circles, possibly, today, by, mention, link, via, mention, sxsw, sxsw]</td>\n",
       "      <td>1</td>\n",
       "    </tr>\n",
       "    <tr>\n",
       "      <th>7932</th>\n",
       "      <td>don't miss your chance to win rt @mention going to #sxsw? come by the #emc consulting booth for your chance to win an ipad 2! @mention</td>\n",
       "      <td>[don't, miss, your, chance, to, win, rt, mention, going, to, sxsw, come, by, the, emc, consulting, booth, for, your, chance, to, win, an, ipad, mention]</td>\n",
       "      <td>1</td>\n",
       "    </tr>\n",
       "  </tbody>\n",
       "</table>\n",
       "<p>4070 rows × 3 columns</p>\n",
       "</div>"
      ],
      "text/plain": [
       "                                                                                                                                  tweet_text  \\\n",
       "6204                                     rt @mention just bumped into @mention here in austin for sxswi and accelerater  {link}  #tech #sxsw   \n",
       "8056                                      come see something new about google sketchup pro at #sxsw {link} via @mention google sketchup blog   \n",
       "4184                                         google will connect the digital  physical worlds through mobile {link} #sxsw #mobile #mcommerce   \n",
       "8952                                                                                                 {link} #sxsw google going social again?   \n",
       "1928                                                             5 essential business #collaboration apps for #ipad {link} #bpm #sxsw #sxswi   \n",
       "...                                                                                                                                      ...   \n",
       "4861                                                                  google 'to launch social network in may' - independent.ie {link} #sxsw   \n",
       "509              please rt follow the next big #college social network @mention chance to win an #ipad at 7,000 followers #socialmedia #sxsw   \n",
       "5692                                      rt @mention driving around austin on google street view scoping out locations. from my desk. #sxsw   \n",
       "5910      rt @mention google to launch major new social network called circles, possibly today by @mention {link} via @mention #sxsw #22sxsw   \n",
       "7932  don't miss your chance to win rt @mention going to #sxsw? come by the #emc consulting booth for your chance to win an ipad 2! @mention   \n",
       "\n",
       "                                                                                                                                                text_tokenized  \\\n",
       "6204                                              [rt, mention, just, bumped, into, mention, here, in, austin, for, sxswi, and, accelerater, link, tech, sxsw]   \n",
       "8056                                           [come, see, something, new, about, google, sketchup, pro, at, sxsw, link, via, mention, google, sketchup, blog]   \n",
       "4184                                                   [google, will, connect, the, digital, physical, worlds, through, mobile, link, sxsw, mobile, mcommerce]   \n",
       "8952                                                                                                                [link, sxsw, google, going, social, again]   \n",
       "1928                                                                             [essential, business, collaboration, apps, for, ipad, link, bpm, sxsw, sxswi]   \n",
       "...                                                                                                                                                        ...   \n",
       "4861                                                                               [google, to, launch, social, network, in, may, independent, ie, link, sxsw]   \n",
       "509                       [please, rt, follow, the, next, big, college, social, network, mention, chance, to, win, an, ipad, at, followers, socialmedia, sxsw]   \n",
       "5692                                           [rt, mention, driving, around, austin, on, google, street, view, scoping, out, locations, from, my, desk, sxsw]   \n",
       "5910             [rt, mention, google, to, launch, major, new, social, network, called, circles, possibly, today, by, mention, link, via, mention, sxsw, sxsw]   \n",
       "7932  [don't, miss, your, chance, to, win, rt, mention, going, to, sxsw, come, by, the, emc, consulting, booth, for, your, chance, to, win, an, ipad, mention]   \n",
       "\n",
       "      catogory  \n",
       "6204         1  \n",
       "8056         1  \n",
       "4184         1  \n",
       "8952         1  \n",
       "1928         1  \n",
       "...        ...  \n",
       "4861         1  \n",
       "509          1  \n",
       "5692         1  \n",
       "5910         1  \n",
       "7932         1  \n",
       "\n",
       "[4070 rows x 3 columns]"
      ]
     },
     "execution_count": 204,
     "metadata": {},
     "output_type": "execute_result"
    }
   ],
   "source": [
    "# Nutral tweets data frame\n",
    "train_set_No_emotion=train_set[train_set[\"catogory\"]==1]\n",
    "train_set_No_emotion"
   ]
  },
  {
   "cell_type": "code",
   "execution_count": 205,
   "metadata": {
    "scrolled": true
   },
   "outputs": [
    {
     "data": {
      "text/plain": [
       "FreqDist({'sxsw': 4333, 'mention': 3436, 'link': 2168, 'the': 1853, 'to': 1606, 'rt': 1431, 'at': 1409, 'google': 1204, 'ipad': 1143, 'for': 1108, ...})"
      ]
     },
     "execution_count": 205,
     "metadata": {},
     "output_type": "execute_result"
    }
   ],
   "source": [
    "# create FreqDist for Nutral data frame\n",
    "train_set_No_emotion_freqdist =FreqDist(train_set_No_emotion[\"text_tokenized\"].explode())\n",
    "train_set_No_emotion_freqdist"
   ]
  },
  {
   "cell_type": "code",
   "execution_count": 206,
   "metadata": {
    "scrolled": false
   },
   "outputs": [
    {
     "data": {
      "image/png": "[encoded data removed]",
      "text/plain": [
       "<Figure size 432x288 with 1 Axes>"
      ]
     },
     "metadata": {
      "needs_background": "light"
     },
     "output_type": "display_data"
    }
   ],
   "source": [
    "# plot Nutral_freqdist\n",
    "visualize_top_25(train_set_No_emotion_freqdist, \"Top 25 Word Frequency for Nutral\")"
   ]
  },
  {
   "cell_type": "code",
   "execution_count": 207,
   "metadata": {},
   "outputs": [
    {
     "data": {
      "text/plain": [
       "<matplotlib.image.AxesImage at 0x1c4b2aca430>"
      ]
     },
     "execution_count": 207,
     "metadata": {},
     "output_type": "execute_result"
    },
    {
     "data": {
      "image/png": "[encoded data removed]",
      "text/plain": [
       "<Figure size 432x288 with 1 Axes>"
      ]
     },
     "metadata": {
      "needs_background": "light"
     },
     "output_type": "display_data"
    }
   ],
   "source": [
    "wordcloud = WordCloud(max_font_size=50, max_words=100).generate_from_frequencies(train_set_No_emotion_freqdist)\n",
    "plt.imshow(wordcloud,interpolation=\"bilinear\")"
   ]
  },
  {
   "cell_type": "markdown",
   "metadata": {},
   "source": [
    "# Modeling\n",
    "\n",
    "We will apply Multinomial Naive Bayes to NLP Problems.\n",
    "Naive Bayes Classifier Algorithm is a family of probabilistic algorithms based on applying Bayes’ theorem with the “naive” assumption of conditional independence between every pair of a feature. \n",
    "Bayes theorem calculates probability P(c|x) where c is the class of the possible outcomes and x is the given instance which has to be classified, representing some certain features.\n",
    "\n",
    "P(c|x) = P(x|c) * P(c) / P(x).\n",
    "\n",
    "Naive Bayes are mostly used in natural language processing (NLP) problems. Naive Bayes predict the tag of a text. They calculate the probability of each tag for a given text and then output the tag with the highest one. \n"
   ]
  },
  {
   "cell_type": "markdown",
   "metadata": {},
   "source": [
    "### Baseline Model \n",
    "Build and Evaluate a Baseline Model with TfidfVectorizer and MultinomialNB."
   ]
  },
  {
   "cell_type": "markdown",
   "metadata": {},
   "source": [
    "###### Vectorization : \n",
    "Vectorization is jargon for a classic approach of converting input data from its raw format (i.e. text ) into vectors of real numbers which is the format that ML models support. This approach has been there ever since computers were first built, it has worked wonderfully across various domains, and it’s now used in NLP.\n",
    "We will use  TF-IDF vectorizer."
   ]
  },
  {
   "cell_type": "markdown",
   "metadata": {},
   "source": [
    "The goal of using tf-idf is to convert text into numbers that we can do calculations on."
   ]
  },
  {
   "cell_type": "code",
   "execution_count": 208,
   "metadata": {},
   "outputs": [],
   "source": [
    "# Import the relevant vectorizer class\n",
    "from sklearn.feature_extraction.text import TfidfVectorizer\n",
    "\n",
    "# Instantiate a vectorizer with max_features=10\n",
    "\n",
    "tfidf = TfidfVectorizer(max_features=10)\n",
    "\n",
    "# Fit the vectorizer on X_train[\"text\"] and transform it\n",
    "X_train_vectorized = tfidf.fit_transform(X_train[\"tweet_text\"].values.astype('U'))"
   ]
  },
  {
   "cell_type": "code",
   "execution_count": 209,
   "metadata": {
    "scrolled": true
   },
   "outputs": [
    {
     "data": {
      "text/html": [
       "<div>\n",
       "<style scoped>\n",
       "    .dataframe tbody tr th:only-of-type {\n",
       "        vertical-align: middle;\n",
       "    }\n",
       "\n",
       "    .dataframe tbody tr th {\n",
       "        vertical-align: top;\n",
       "    }\n",
       "\n",
       "    .dataframe thead th {\n",
       "        text-align: right;\n",
       "    }\n",
       "</style>\n",
       "<table border=\"1\" class=\"dataframe\">\n",
       "  <thead>\n",
       "    <tr style=\"text-align: right;\">\n",
       "      <th></th>\n",
       "      <th>at</th>\n",
       "      <th>for</th>\n",
       "      <th>google</th>\n",
       "      <th>ipad</th>\n",
       "      <th>link</th>\n",
       "      <th>mention</th>\n",
       "      <th>rt</th>\n",
       "      <th>sxsw</th>\n",
       "      <th>the</th>\n",
       "      <th>to</th>\n",
       "    </tr>\n",
       "  </thead>\n",
       "  <tbody>\n",
       "    <tr>\n",
       "      <th>0</th>\n",
       "      <td>0.000000</td>\n",
       "      <td>0.476518</td>\n",
       "      <td>0.000000</td>\n",
       "      <td>0.000000</td>\n",
       "      <td>0.350161</td>\n",
       "      <td>0.642981</td>\n",
       "      <td>0.443154</td>\n",
       "      <td>0.201265</td>\n",
       "      <td>0.000000</td>\n",
       "      <td>0.000000</td>\n",
       "    </tr>\n",
       "    <tr>\n",
       "      <th>1</th>\n",
       "      <td>0.377442</td>\n",
       "      <td>0.000000</td>\n",
       "      <td>0.809604</td>\n",
       "      <td>0.000000</td>\n",
       "      <td>0.304928</td>\n",
       "      <td>0.279962</td>\n",
       "      <td>0.000000</td>\n",
       "      <td>0.175267</td>\n",
       "      <td>0.000000</td>\n",
       "      <td>0.000000</td>\n",
       "    </tr>\n",
       "    <tr>\n",
       "      <th>2</th>\n",
       "      <td>0.000000</td>\n",
       "      <td>0.000000</td>\n",
       "      <td>0.635787</td>\n",
       "      <td>0.000000</td>\n",
       "      <td>0.478924</td>\n",
       "      <td>0.000000</td>\n",
       "      <td>0.000000</td>\n",
       "      <td>0.275276</td>\n",
       "      <td>0.539101</td>\n",
       "      <td>0.000000</td>\n",
       "    </tr>\n",
       "    <tr>\n",
       "      <th>3</th>\n",
       "      <td>0.000000</td>\n",
       "      <td>0.000000</td>\n",
       "      <td>0.754875</td>\n",
       "      <td>0.000000</td>\n",
       "      <td>0.568630</td>\n",
       "      <td>0.000000</td>\n",
       "      <td>0.000000</td>\n",
       "      <td>0.326837</td>\n",
       "      <td>0.000000</td>\n",
       "      <td>0.000000</td>\n",
       "    </tr>\n",
       "    <tr>\n",
       "      <th>4</th>\n",
       "      <td>0.000000</td>\n",
       "      <td>0.608861</td>\n",
       "      <td>0.000000</td>\n",
       "      <td>0.602478</td>\n",
       "      <td>0.447410</td>\n",
       "      <td>0.000000</td>\n",
       "      <td>0.000000</td>\n",
       "      <td>0.257163</td>\n",
       "      <td>0.000000</td>\n",
       "      <td>0.000000</td>\n",
       "    </tr>\n",
       "    <tr>\n",
       "      <th>...</th>\n",
       "      <td>...</td>\n",
       "      <td>...</td>\n",
       "      <td>...</td>\n",
       "      <td>...</td>\n",
       "      <td>...</td>\n",
       "      <td>...</td>\n",
       "      <td>...</td>\n",
       "      <td>...</td>\n",
       "      <td>...</td>\n",
       "      <td>...</td>\n",
       "    </tr>\n",
       "    <tr>\n",
       "      <th>6256</th>\n",
       "      <td>0.429789</td>\n",
       "      <td>0.000000</td>\n",
       "      <td>0.000000</td>\n",
       "      <td>0.000000</td>\n",
       "      <td>0.000000</td>\n",
       "      <td>0.637578</td>\n",
       "      <td>0.439430</td>\n",
       "      <td>0.199574</td>\n",
       "      <td>0.000000</td>\n",
       "      <td>0.419341</td>\n",
       "    </tr>\n",
       "    <tr>\n",
       "      <th>6257</th>\n",
       "      <td>0.000000</td>\n",
       "      <td>0.000000</td>\n",
       "      <td>0.623225</td>\n",
       "      <td>0.000000</td>\n",
       "      <td>0.000000</td>\n",
       "      <td>0.431023</td>\n",
       "      <td>0.594137</td>\n",
       "      <td>0.269837</td>\n",
       "      <td>0.000000</td>\n",
       "      <td>0.000000</td>\n",
       "    </tr>\n",
       "    <tr>\n",
       "      <th>6258</th>\n",
       "      <td>0.000000</td>\n",
       "      <td>0.000000</td>\n",
       "      <td>0.358145</td>\n",
       "      <td>0.000000</td>\n",
       "      <td>0.269783</td>\n",
       "      <td>0.743082</td>\n",
       "      <td>0.341430</td>\n",
       "      <td>0.155066</td>\n",
       "      <td>0.000000</td>\n",
       "      <td>0.325821</td>\n",
       "    </tr>\n",
       "    <tr>\n",
       "      <th>6259</th>\n",
       "      <td>0.000000</td>\n",
       "      <td>0.393488</td>\n",
       "      <td>0.000000</td>\n",
       "      <td>0.000000</td>\n",
       "      <td>0.000000</td>\n",
       "      <td>0.530947</td>\n",
       "      <td>0.731875</td>\n",
       "      <td>0.166196</td>\n",
       "      <td>0.000000</td>\n",
       "      <td>0.000000</td>\n",
       "    </tr>\n",
       "    <tr>\n",
       "      <th>6260</th>\n",
       "      <td>0.000000</td>\n",
       "      <td>0.281543</td>\n",
       "      <td>0.000000</td>\n",
       "      <td>0.278591</td>\n",
       "      <td>0.000000</td>\n",
       "      <td>0.379895</td>\n",
       "      <td>0.261830</td>\n",
       "      <td>0.118914</td>\n",
       "      <td>0.232882</td>\n",
       "      <td>0.749581</td>\n",
       "    </tr>\n",
       "  </tbody>\n",
       "</table>\n",
       "<p>6261 rows × 10 columns</p>\n",
       "</div>"
      ],
      "text/plain": [
       "            at       for    google      ipad      link   mention        rt  \\\n",
       "0     0.000000  0.476518  0.000000  0.000000  0.350161  0.642981  0.443154   \n",
       "1     0.377442  0.000000  0.809604  0.000000  0.304928  0.279962  0.000000   \n",
       "2     0.000000  0.000000  0.635787  0.000000  0.478924  0.000000  0.000000   \n",
       "3     0.000000  0.000000  0.754875  0.000000  0.568630  0.000000  0.000000   \n",
       "4     0.000000  0.608861  0.000000  0.602478  0.447410  0.000000  0.000000   \n",
       "...        ...       ...       ...       ...       ...       ...       ...   \n",
       "6256  0.429789  0.000000  0.000000  0.000000  0.000000  0.637578  0.439430   \n",
       "6257  0.000000  0.000000  0.623225  0.000000  0.000000  0.431023  0.594137   \n",
       "6258  0.000000  0.000000  0.358145  0.000000  0.269783  0.743082  0.341430   \n",
       "6259  0.000000  0.393488  0.000000  0.000000  0.000000  0.530947  0.731875   \n",
       "6260  0.000000  0.281543  0.000000  0.278591  0.000000  0.379895  0.261830   \n",
       "\n",
       "          sxsw       the        to  \n",
       "0     0.201265  0.000000  0.000000  \n",
       "1     0.175267  0.000000  0.000000  \n",
       "2     0.275276  0.539101  0.000000  \n",
       "3     0.326837  0.000000  0.000000  \n",
       "4     0.257163  0.000000  0.000000  \n",
       "...        ...       ...       ...  \n",
       "6256  0.199574  0.000000  0.419341  \n",
       "6257  0.269837  0.000000  0.000000  \n",
       "6258  0.155066  0.000000  0.325821  \n",
       "6259  0.166196  0.000000  0.000000  \n",
       "6260  0.118914  0.232882  0.749581  \n",
       "\n",
       "[6261 rows x 10 columns]"
      ]
     },
     "execution_count": 209,
     "metadata": {},
     "output_type": "execute_result"
    }
   ],
   "source": [
    "# Visually inspect the vectorized data\n",
    "pd.DataFrame.sparse.from_spmatrix(X_train_vectorized, columns=tfidf.get_feature_names())"
   ]
  },
  {
   "cell_type": "code",
   "execution_count": null,
   "metadata": {},
   "outputs": [],
   "source": []
  },
  {
   "cell_type": "code",
   "execution_count": 210,
   "metadata": {},
   "outputs": [],
   "source": [
    "# transform the vectorizer on X_text[\"tweet_text\"] and transform it\n",
    "X_test_vectorized = tfidf.transform(X_test[\"tweet_text\"].values.astype('U'))"
   ]
  },
  {
   "cell_type": "code",
   "execution_count": 211,
   "metadata": {
    "scrolled": true
   },
   "outputs": [
    {
     "data": {
      "text/html": [
       "<div>\n",
       "<style scoped>\n",
       "    .dataframe tbody tr th:only-of-type {\n",
       "        vertical-align: middle;\n",
       "    }\n",
       "\n",
       "    .dataframe tbody tr th {\n",
       "        vertical-align: top;\n",
       "    }\n",
       "\n",
       "    .dataframe thead th {\n",
       "        text-align: right;\n",
       "    }\n",
       "</style>\n",
       "<table border=\"1\" class=\"dataframe\">\n",
       "  <thead>\n",
       "    <tr style=\"text-align: right;\">\n",
       "      <th></th>\n",
       "      <th>at</th>\n",
       "      <th>for</th>\n",
       "      <th>google</th>\n",
       "      <th>ipad</th>\n",
       "      <th>link</th>\n",
       "      <th>mention</th>\n",
       "      <th>rt</th>\n",
       "      <th>sxsw</th>\n",
       "      <th>the</th>\n",
       "      <th>to</th>\n",
       "    </tr>\n",
       "  </thead>\n",
       "  <tbody>\n",
       "    <tr>\n",
       "      <th>0</th>\n",
       "      <td>0.000000</td>\n",
       "      <td>0.000000</td>\n",
       "      <td>0.000000</td>\n",
       "      <td>0.000000</td>\n",
       "      <td>0.407123</td>\n",
       "      <td>0.373789</td>\n",
       "      <td>0.515244</td>\n",
       "      <td>0.468013</td>\n",
       "      <td>0.458279</td>\n",
       "      <td>0.000000</td>\n",
       "    </tr>\n",
       "    <tr>\n",
       "      <th>1</th>\n",
       "      <td>0.372251</td>\n",
       "      <td>0.000000</td>\n",
       "      <td>0.399234</td>\n",
       "      <td>0.000000</td>\n",
       "      <td>0.300734</td>\n",
       "      <td>0.552222</td>\n",
       "      <td>0.380601</td>\n",
       "      <td>0.172856</td>\n",
       "      <td>0.000000</td>\n",
       "      <td>0.363201</td>\n",
       "    </tr>\n",
       "    <tr>\n",
       "      <th>2</th>\n",
       "      <td>0.000000</td>\n",
       "      <td>0.000000</td>\n",
       "      <td>0.000000</td>\n",
       "      <td>0.000000</td>\n",
       "      <td>0.000000</td>\n",
       "      <td>0.000000</td>\n",
       "      <td>0.000000</td>\n",
       "      <td>1.000000</td>\n",
       "      <td>0.000000</td>\n",
       "      <td>0.000000</td>\n",
       "    </tr>\n",
       "    <tr>\n",
       "      <th>3</th>\n",
       "      <td>0.345834</td>\n",
       "      <td>0.380213</td>\n",
       "      <td>0.000000</td>\n",
       "      <td>0.752454</td>\n",
       "      <td>0.279393</td>\n",
       "      <td>0.256517</td>\n",
       "      <td>0.000000</td>\n",
       "      <td>0.160589</td>\n",
       "      <td>0.000000</td>\n",
       "      <td>0.000000</td>\n",
       "    </tr>\n",
       "    <tr>\n",
       "      <th>4</th>\n",
       "      <td>0.752541</td>\n",
       "      <td>0.000000</td>\n",
       "      <td>0.000000</td>\n",
       "      <td>0.000000</td>\n",
       "      <td>0.000000</td>\n",
       "      <td>0.558185</td>\n",
       "      <td>0.000000</td>\n",
       "      <td>0.349445</td>\n",
       "      <td>0.000000</td>\n",
       "      <td>0.000000</td>\n",
       "    </tr>\n",
       "    <tr>\n",
       "      <th>...</th>\n",
       "      <td>...</td>\n",
       "      <td>...</td>\n",
       "      <td>...</td>\n",
       "      <td>...</td>\n",
       "      <td>...</td>\n",
       "      <td>...</td>\n",
       "      <td>...</td>\n",
       "      <td>...</td>\n",
       "      <td>...</td>\n",
       "      <td>...</td>\n",
       "    </tr>\n",
       "    <tr>\n",
       "      <th>1560</th>\n",
       "      <td>0.000000</td>\n",
       "      <td>0.000000</td>\n",
       "      <td>0.000000</td>\n",
       "      <td>0.000000</td>\n",
       "      <td>0.000000</td>\n",
       "      <td>0.954339</td>\n",
       "      <td>0.000000</td>\n",
       "      <td>0.298726</td>\n",
       "      <td>0.000000</td>\n",
       "      <td>0.000000</td>\n",
       "    </tr>\n",
       "    <tr>\n",
       "      <th>1561</th>\n",
       "      <td>0.000000</td>\n",
       "      <td>0.478344</td>\n",
       "      <td>0.000000</td>\n",
       "      <td>0.000000</td>\n",
       "      <td>0.000000</td>\n",
       "      <td>0.322723</td>\n",
       "      <td>0.000000</td>\n",
       "      <td>0.202037</td>\n",
       "      <td>0.791339</td>\n",
       "      <td>0.000000</td>\n",
       "    </tr>\n",
       "    <tr>\n",
       "      <th>1562</th>\n",
       "      <td>0.524275</td>\n",
       "      <td>0.000000</td>\n",
       "      <td>0.000000</td>\n",
       "      <td>0.000000</td>\n",
       "      <td>0.000000</td>\n",
       "      <td>0.388873</td>\n",
       "      <td>0.536036</td>\n",
       "      <td>0.243449</td>\n",
       "      <td>0.476772</td>\n",
       "      <td>0.000000</td>\n",
       "    </tr>\n",
       "    <tr>\n",
       "      <th>1563</th>\n",
       "      <td>0.000000</td>\n",
       "      <td>0.000000</td>\n",
       "      <td>0.564150</td>\n",
       "      <td>0.000000</td>\n",
       "      <td>0.424961</td>\n",
       "      <td>0.390167</td>\n",
       "      <td>0.537819</td>\n",
       "      <td>0.244259</td>\n",
       "      <td>0.000000</td>\n",
       "      <td>0.000000</td>\n",
       "    </tr>\n",
       "    <tr>\n",
       "      <th>1564</th>\n",
       "      <td>0.645617</td>\n",
       "      <td>0.000000</td>\n",
       "      <td>0.000000</td>\n",
       "      <td>0.702355</td>\n",
       "      <td>0.000000</td>\n",
       "      <td>0.000000</td>\n",
       "      <td>0.000000</td>\n",
       "      <td>0.299794</td>\n",
       "      <td>0.000000</td>\n",
       "      <td>0.000000</td>\n",
       "    </tr>\n",
       "  </tbody>\n",
       "</table>\n",
       "<p>1565 rows × 10 columns</p>\n",
       "</div>"
      ],
      "text/plain": [
       "            at       for    google      ipad      link   mention        rt  \\\n",
       "0     0.000000  0.000000  0.000000  0.000000  0.407123  0.373789  0.515244   \n",
       "1     0.372251  0.000000  0.399234  0.000000  0.300734  0.552222  0.380601   \n",
       "2     0.000000  0.000000  0.000000  0.000000  0.000000  0.000000  0.000000   \n",
       "3     0.345834  0.380213  0.000000  0.752454  0.279393  0.256517  0.000000   \n",
       "4     0.752541  0.000000  0.000000  0.000000  0.000000  0.558185  0.000000   \n",
       "...        ...       ...       ...       ...       ...       ...       ...   \n",
       "1560  0.000000  0.000000  0.000000  0.000000  0.000000  0.954339  0.000000   \n",
       "1561  0.000000  0.478344  0.000000  0.000000  0.000000  0.322723  0.000000   \n",
       "1562  0.524275  0.000000  0.000000  0.000000  0.000000  0.388873  0.536036   \n",
       "1563  0.000000  0.000000  0.564150  0.000000  0.424961  0.390167  0.537819   \n",
       "1564  0.645617  0.000000  0.000000  0.702355  0.000000  0.000000  0.000000   \n",
       "\n",
       "          sxsw       the        to  \n",
       "0     0.468013  0.458279  0.000000  \n",
       "1     0.172856  0.000000  0.363201  \n",
       "2     1.000000  0.000000  0.000000  \n",
       "3     0.160589  0.000000  0.000000  \n",
       "4     0.349445  0.000000  0.000000  \n",
       "...        ...       ...       ...  \n",
       "1560  0.298726  0.000000  0.000000  \n",
       "1561  0.202037  0.791339  0.000000  \n",
       "1562  0.243449  0.476772  0.000000  \n",
       "1563  0.244259  0.000000  0.000000  \n",
       "1564  0.299794  0.000000  0.000000  \n",
       "\n",
       "[1565 rows x 10 columns]"
      ]
     },
     "execution_count": 211,
     "metadata": {},
     "output_type": "execute_result"
    }
   ],
   "source": [
    "# Visually inspect the vectorized data\n",
    "pd.DataFrame.sparse.from_spmatrix(X_test_vectorized, columns=tfidf.get_feature_names())"
   ]
  },
  {
   "cell_type": "markdown",
   "metadata": {},
   "source": [
    "######  Build Baseline model using MultinomialNB"
   ]
  },
  {
   "cell_type": "markdown",
   "metadata": {},
   "source": [
    "Naive Bayes is used for classification tasks (scoring, text & for imbalanced dataset) and it provides a good baseline for model comparison.\n",
    "This is a pretty popular algorithm used in text classification,"
   ]
  },
  {
   "cell_type": "markdown",
   "metadata": {},
   "source": [
    "We can build a simple TF-IDF preprocessor and Naive Bayes classifier wrapped in a Pipeline"
   ]
  },
  {
   "cell_type": "code",
   "execution_count": 212,
   "metadata": {},
   "outputs": [],
   "source": [
    "# import Pipeline model\n",
    "from sklearn.pipeline import Pipeline\n",
    "# import MultinomialNB classifier\n",
    "from sklearn.naive_bayes import MultinomialNB"
   ]
  },
  {
   "cell_type": "code",
   "execution_count": 213,
   "metadata": {},
   "outputs": [],
   "source": [
    "baseline_model = Pipeline([\n",
    "        \n",
    "        ('tfidf', tfidf),\n",
    "        ('clf', MultinomialNB()),\n",
    "    ])"
   ]
  },
  {
   "cell_type": "code",
   "execution_count": 214,
   "metadata": {},
   "outputs": [
    {
     "data": {
      "text/plain": [
       "Pipeline(steps=[('tfidf', TfidfVectorizer(max_features=10)),\n",
       "                ('clf', MultinomialNB())])"
      ]
     },
     "execution_count": 214,
     "metadata": {},
     "output_type": "execute_result"
    }
   ],
   "source": [
    "# fit the model on X_train and y_train\n",
    "baseline_model.fit(X_train[\"tweet_text\"].values.astype('U'),np.ravel(y_train))"
   ]
  },
  {
   "cell_type": "markdown",
   "metadata": {},
   "source": [
    "###### Evaluate a multinomial Naive Bayes classifier and using cross_val_score.\n",
    "Cross-validation (CV) is a technique used to assess a machine learning model and test its performance (or accuracy).Cross-validation is used to protect a model from overfitting."
   ]
  },
  {
   "cell_type": "code",
   "execution_count": 215,
   "metadata": {
    "scrolled": true
   },
   "outputs": [
    {
     "name": "stderr",
     "output_type": "stream",
     "text": [
      "C:\\Users\\mays8\\anaconda3\\envs\\learn-env\\lib\\site-packages\\sklearn\\model_selection\\_split.py:670: UserWarning: The least populated class in y has only 1 members, which is less than n_splits=5.\n",
      "  warnings.warn((\"The least populated class in y has only %d\"\n"
     ]
    },
    {
     "data": {
      "text/plain": [
       "array([0.64964086, 0.65015974, 0.65015974, 0.65015974, 0.65015974])"
      ]
     },
     "execution_count": 215,
     "metadata": {},
     "output_type": "execute_result"
    }
   ],
   "source": [
    "# Import relevant class and function\n",
    "#from sklearn.naive_bayes import MultinomialNB\n",
    "#from sklearn.model_selection import cross_val_score\n",
    "\n",
    "# Instantiate a MultinomialNB classifier\n",
    "#baseline_model = MultinomialNB()\n",
    "\n",
    "# Evaluate the classifier on X_train_vectorized and y_train\n",
    "baseline_cv = cross_val_score(baseline_model, X_train[\"tweet_text\"].values.astype('U'),np.ravel (y_train))\n",
    "baseline_cv"
   ]
  },
  {
   "cell_type": "code",
   "execution_count": 216,
   "metadata": {
    "scrolled": true
   },
   "outputs": [
    {
     "name": "stdout",
     "output_type": "stream",
     "text": [
      "Baseline performance:          0.6500559679134293\n"
     ]
    }
   ],
   "source": [
    "print(\"Baseline performance:         \", baseline_cv.mean())"
   ]
  },
  {
   "cell_type": "markdown",
   "metadata": {},
   "source": [
    "We would expect about 60.57% accuracy"
   ]
  },
  {
   "cell_type": "code",
   "execution_count": 217,
   "metadata": {},
   "outputs": [
    {
     "data": {
      "text/plain": [
       "catogory\n",
       "1           0.650056\n",
       "2           0.349784\n",
       "0           0.000160\n",
       "dtype: float64"
      ]
     },
     "execution_count": 217,
     "metadata": {},
     "output_type": "execute_result"
    }
   ],
   "source": [
    "y_train.value_counts(normalize=True)"
   ]
  },
  {
   "cell_type": "markdown",
   "metadata": {},
   "source": [
    "(class 1 = Nutral), we would expect about 60% accuracy\n",
    "\n",
    "(class 2 = Posative), we would expect about 33% accuracy\n",
    "\n",
    "(class 0 = Negative), we would expect about 6% accuracy"
   ]
  },
  {
   "cell_type": "markdown",
   "metadata": {},
   "source": [
    "We can improve the performance with more preprocessing."
   ]
  },
  {
   "cell_type": "markdown",
   "metadata": {},
   "source": [
    "###### 2.Model2"
   ]
  },
  {
   "cell_type": "markdown",
   "metadata": {},
   "source": [
    "##### Perform and Evaluate Preprocessing and Feature Engineering Techniques"
   ]
  },
  {
   "cell_type": "markdown",
   "metadata": {},
   "source": [
    "We will practice to clean our text more by removeing stop words,punctuations,numbers and  whitespaces.  "
   ]
  },
  {
   "cell_type": "markdown",
   "metadata": {},
   "source": [
    "##### Removing Stopwords\n",
    "Stop words are a set of words which helps in sentence construction and don't have any real information.\n",
    "\n",
    "NLTK library consists of a list of words that are considered stopwords for the English language. "
   ]
  },
  {
   "cell_type": "markdown",
   "metadata": {},
   "source": [
    "String library of Python contains some pre-defined list of punctuations such as ‘!”#$%&'()*+,-./:;?@[\\]^_`{|}~’"
   ]
  },
  {
   "cell_type": "code",
   "execution_count": 218,
   "metadata": {},
   "outputs": [],
   "source": [
    "#Importing stopwords from nltk\n",
    "#Importing String library\n",
    "from nltk.corpus import stopwords\n",
    "import string"
   ]
  },
  {
   "cell_type": "code",
   "execution_count": 219,
   "metadata": {},
   "outputs": [],
   "source": [
    "#Stop words present in the library\n",
    "s_w = stopwords.words('english')\n",
    "# add punctuation to stopwords\n",
    "s_w += list(string.punctuation)\n",
    "# add numbers to stopwords\n",
    "s_w += ['0', '1', '2', '3', '4', '5', '6', '7', '8', '9']\n",
    "# add some fequent words to stopwords\n",
    "s_w += ['sxsw','mention',\"link\",\"rt\"]\n",
    "# add some punctuation and whitespace to stopword\n",
    "s_w += ['“','”','...',\"''\",'’','``','',\"  \"]\n"
   ]
  },
  {
   "cell_type": "markdown",
   "metadata": {},
   "source": [
    "Extract the stopwords from the text"
   ]
  },
  {
   "cell_type": "code",
   "execution_count": 220,
   "metadata": {},
   "outputs": [
    {
     "data": {
      "text/plain": [
       "['rt',\n",
       " 'mention',\n",
       " 'just',\n",
       " 'into',\n",
       " 'mention',\n",
       " 'here',\n",
       " 'in',\n",
       " 'for',\n",
       " 'and',\n",
       " 'link',\n",
       " 'sxsw',\n",
       " 'about',\n",
       " 'at',\n",
       " 'sxsw',\n",
       " 'link',\n",
       " 'mention',\n",
       " 'will',\n",
       " 'the',\n",
       " 'through',\n",
       " 'link',\n",
       " 'sxsw',\n",
       " 'link',\n",
       " 'sxsw',\n",
       " 'again',\n",
       " 'for',\n",
       " 'link',\n",
       " 'sxsw',\n",
       " 'to',\n",
       " 'on',\n",
       " 'our',\n",
       " 'mention',\n",
       " 'for',\n",
       " 'sxsw',\n",
       " 'and',\n",
       " 'mention',\n",
       " 'to',\n",
       " 'be',\n",
       " 'up',\n",
       " 'sxsw',\n",
       " 'after',\n",
       " 'on',\n",
       " 'my',\n",
       " 'at',\n",
       " 'sxsw',\n",
       " \"it's\",\n",
       " 'such',\n",
       " 'a',\n",
       " 'to',\n",
       " 'through',\n",
       " 'a',\n",
       " 'has',\n",
       " 'a',\n",
       " 'for',\n",
       " 'sxsw',\n",
       " 'will',\n",
       " 'be',\n",
       " 'at',\n",
       " 'at',\n",
       " 'sxsw',\n",
       " 'link',\n",
       " 'up',\n",
       " 'rt',\n",
       " 'mention',\n",
       " 'mention',\n",
       " 'mention',\n",
       " 'mention',\n",
       " 'having',\n",
       " 'at',\n",
       " 'sxsw',\n",
       " 'link',\n",
       " \"don't\",\n",
       " 'what',\n",
       " 'to',\n",
       " 'at',\n",
       " 'sxsw',\n",
       " 'the',\n",
       " 'will',\n",
       " 'you',\n",
       " 'link',\n",
       " 'in',\n",
       " 'this',\n",
       " 'at',\n",
       " 'the',\n",
       " 'up',\n",
       " 'in',\n",
       " 'mention',\n",
       " 'the',\n",
       " 'mention',\n",
       " 'this',\n",
       " 'link',\n",
       " 'sxsw',\n",
       " 'mention',\n",
       " 'be',\n",
       " 'to',\n",
       " 'our',\n",
       " 'for',\n",
       " 'out',\n",
       " 'the',\n",
       " 'at',\n",
       " 'sxsw',\n",
       " 'link',\n",
       " 'a',\n",
       " 'at',\n",
       " 'the',\n",
       " 'sxsw',\n",
       " 'your',\n",
       " 'to',\n",
       " 'sxsw',\n",
       " 'up',\n",
       " 'in',\n",
       " 'link',\n",
       " 'mention',\n",
       " 'out',\n",
       " 'of',\n",
       " 'the',\n",
       " 'link',\n",
       " 'a',\n",
       " 'sxsw',\n",
       " 'rt',\n",
       " 'mention',\n",
       " 'mention',\n",
       " 'mention',\n",
       " 'mention',\n",
       " 'on',\n",
       " 'sxsw',\n",
       " 'link',\n",
       " 'about',\n",
       " 'to',\n",
       " 'sxsw',\n",
       " 'rt',\n",
       " 'mention',\n",
       " 'in',\n",
       " 'sxsw',\n",
       " 'mention',\n",
       " 'link',\n",
       " 'to',\n",
       " 'mention',\n",
       " 'in',\n",
       " 'for',\n",
       " 'the',\n",
       " 'sxsw',\n",
       " 'rt',\n",
       " 'mention',\n",
       " 'will',\n",
       " 'its',\n",
       " 'own',\n",
       " 'will',\n",
       " 'sxsw',\n",
       " 'an',\n",
       " 'of',\n",
       " 'a',\n",
       " 'now',\n",
       " 'link',\n",
       " 'rt',\n",
       " 'mention',\n",
       " 'are',\n",
       " 'you',\n",
       " 'to',\n",
       " 'out',\n",
       " 'the',\n",
       " 'up',\n",
       " 'during',\n",
       " 'sxsw',\n",
       " 'link',\n",
       " 'here',\n",
       " 'he',\n",
       " 'mention',\n",
       " 'mention',\n",
       " 'rt',\n",
       " 'mention',\n",
       " 'be',\n",
       " 'at',\n",
       " 'mention',\n",
       " 'my',\n",
       " 'sxsw',\n",
       " 'rt',\n",
       " 'mention',\n",
       " 'in',\n",
       " 'they',\n",
       " 'have',\n",
       " 'mention',\n",
       " 'sxsw',\n",
       " 'has',\n",
       " 'a',\n",
       " 'up',\n",
       " 'in',\n",
       " 'so',\n",
       " 'that',\n",
       " 'the',\n",
       " 'in',\n",
       " 'for',\n",
       " 'sxsw',\n",
       " 'can',\n",
       " 'their',\n",
       " 'link',\n",
       " 'up',\n",
       " 'in',\n",
       " 'at',\n",
       " 'and',\n",
       " 'to',\n",
       " 'sxsw',\n",
       " 'link',\n",
       " 'as',\n",
       " 'a',\n",
       " 'in',\n",
       " 'the',\n",
       " 'of',\n",
       " 'an',\n",
       " 'sxsw',\n",
       " 'you',\n",
       " 'rt',\n",
       " 'mention',\n",
       " 'at',\n",
       " 'sxsw',\n",
       " 'and',\n",
       " 'to',\n",
       " 'an',\n",
       " 'on',\n",
       " 'the',\n",
       " 'with',\n",
       " 'mention',\n",
       " 'mention',\n",
       " 'and',\n",
       " 'to',\n",
       " 'the',\n",
       " 'of',\n",
       " 'and',\n",
       " 'sxsw',\n",
       " 'rt',\n",
       " 'mention',\n",
       " 'mention',\n",
       " 'rt',\n",
       " 'mention',\n",
       " 'for',\n",
       " 'now',\n",
       " 'in',\n",
       " 'the',\n",
       " 'to',\n",
       " 'sxsw',\n",
       " 'link',\n",
       " 'mention',\n",
       " 'i',\n",
       " 'was',\n",
       " 'there',\n",
       " 'and',\n",
       " 'the',\n",
       " 'was',\n",
       " 'the',\n",
       " 'to',\n",
       " 'for',\n",
       " 'sxsw',\n",
       " 'if',\n",
       " \"you're\",\n",
       " 'at',\n",
       " 'sxsw',\n",
       " 'our',\n",
       " 'and',\n",
       " 'a',\n",
       " 'of',\n",
       " 'at',\n",
       " 'sxsw',\n",
       " 'mention',\n",
       " 'on',\n",
       " 'they',\n",
       " 'have',\n",
       " 'we',\n",
       " 'do',\n",
       " 'to',\n",
       " 'the',\n",
       " 'it',\n",
       " 'rt',\n",
       " 'mention',\n",
       " 'now',\n",
       " 'more',\n",
       " 'than',\n",
       " 'up',\n",
       " 'for',\n",
       " 'sxsw',\n",
       " 'up',\n",
       " 'when',\n",
       " 'is',\n",
       " 'to',\n",
       " 'link',\n",
       " 'sxsw',\n",
       " 'mention',\n",
       " 'by',\n",
       " 'to',\n",
       " 'out',\n",
       " 'can',\n",
       " 'sxsw',\n",
       " 'rt',\n",
       " 'mention',\n",
       " 'out',\n",
       " 'our',\n",
       " 'sxsw',\n",
       " 'link',\n",
       " 'link',\n",
       " 'more',\n",
       " 'to',\n",
       " 'rt',\n",
       " 'mention',\n",
       " 'in',\n",
       " 'of',\n",
       " 'sxsw',\n",
       " 'up',\n",
       " 'here',\n",
       " 'are',\n",
       " 'some',\n",
       " 'on',\n",
       " 'how',\n",
       " 'can',\n",
       " 'up',\n",
       " 'link',\n",
       " 'he',\n",
       " 'be',\n",
       " 'at',\n",
       " 'the',\n",
       " 'mention',\n",
       " 'mention',\n",
       " 'mention',\n",
       " 'at',\n",
       " 'sxsw',\n",
       " 'of',\n",
       " 'doing',\n",
       " 'for',\n",
       " 'mention',\n",
       " 'any',\n",
       " 'what',\n",
       " 'the',\n",
       " 'at',\n",
       " 'sxsw',\n",
       " 'before',\n",
       " 'you',\n",
       " 'is',\n",
       " 'the',\n",
       " 'before',\n",
       " 'you',\n",
       " 'at',\n",
       " 'sxsw',\n",
       " 'has',\n",
       " 'now',\n",
       " 'that',\n",
       " 'will',\n",
       " 'at',\n",
       " 'sxsw',\n",
       " 'but',\n",
       " 'not',\n",
       " 'that',\n",
       " 'it',\n",
       " 'link',\n",
       " 'link',\n",
       " 'just',\n",
       " 'my',\n",
       " 'and',\n",
       " 'am',\n",
       " 'to',\n",
       " 'be',\n",
       " 'at',\n",
       " 'sxsw',\n",
       " 'but',\n",
       " 'it',\n",
       " 'all',\n",
       " 'with',\n",
       " 'in',\n",
       " 'now',\n",
       " 'from',\n",
       " 'the',\n",
       " 'mention',\n",
       " 'on',\n",
       " 'mention',\n",
       " 'mention',\n",
       " 'link',\n",
       " 'sxsw',\n",
       " 'to',\n",
       " 'at',\n",
       " 'sxsw',\n",
       " 'link',\n",
       " 'mention',\n",
       " 'he',\n",
       " 'has',\n",
       " 'a',\n",
       " 'on',\n",
       " 'in',\n",
       " 'the',\n",
       " 'few',\n",
       " 'will',\n",
       " 'be',\n",
       " 'in',\n",
       " 'at',\n",
       " 'sxsw',\n",
       " 'to',\n",
       " 'his',\n",
       " 'with',\n",
       " 'mention',\n",
       " 'i',\n",
       " 'if',\n",
       " 'mention',\n",
       " 'link',\n",
       " 'on',\n",
       " 'a',\n",
       " 'and',\n",
       " 'when',\n",
       " 'sxsw',\n",
       " 'in',\n",
       " 'to',\n",
       " 'under',\n",
       " 'the',\n",
       " 'my',\n",
       " 'are',\n",
       " 'on',\n",
       " 'is',\n",
       " 'who',\n",
       " \"haven't\",\n",
       " 'sxsw',\n",
       " 's',\n",
       " 'on',\n",
       " 'link',\n",
       " 'sxsw',\n",
       " 's',\n",
       " 'i',\n",
       " 'a',\n",
       " 'with',\n",
       " 'my',\n",
       " 'and',\n",
       " 'sxsw',\n",
       " 'is',\n",
       " 'an',\n",
       " 'sxsw',\n",
       " 'it',\n",
       " 'up',\n",
       " 'to',\n",
       " 'more',\n",
       " 'should',\n",
       " 'than',\n",
       " 's',\n",
       " 'at',\n",
       " \"she's\",\n",
       " 'sxsw',\n",
       " 'of',\n",
       " 'sxsw',\n",
       " 'is',\n",
       " 'to',\n",
       " 'who',\n",
       " 'this',\n",
       " 'up',\n",
       " 'sxsw',\n",
       " 'i',\n",
       " 'a',\n",
       " 'this',\n",
       " 'its',\n",
       " 'at',\n",
       " 'an',\n",
       " 's',\n",
       " 'at',\n",
       " 'sxsw',\n",
       " 'link',\n",
       " 'mention',\n",
       " 'for',\n",
       " 'your',\n",
       " 'has',\n",
       " 'an',\n",
       " 'sxsw',\n",
       " 'at',\n",
       " 'sxsw',\n",
       " 'link',\n",
       " 'not',\n",
       " 'with',\n",
       " 'you',\n",
       " 'at',\n",
       " 'sxsw',\n",
       " 'link',\n",
       " 'sxsw',\n",
       " 'i',\n",
       " 'too',\n",
       " 'rt',\n",
       " 'mention',\n",
       " 'of',\n",
       " 'our',\n",
       " 'is',\n",
       " 'to',\n",
       " 'sxsw',\n",
       " 'what',\n",
       " 'should',\n",
       " 'she',\n",
       " 'rt',\n",
       " 'mention',\n",
       " 'this',\n",
       " 'is',\n",
       " 'a',\n",
       " 'sxsw',\n",
       " 'link',\n",
       " 'for',\n",
       " 'any',\n",
       " 'sxsw',\n",
       " 'for',\n",
       " 's',\n",
       " 'the',\n",
       " 'up',\n",
       " 'has',\n",
       " 'some',\n",
       " 'in',\n",
       " 'a',\n",
       " 'just',\n",
       " 'up',\n",
       " 'sxsw',\n",
       " 'its',\n",
       " 'own',\n",
       " 'link',\n",
       " 'rt',\n",
       " 'mention',\n",
       " 'if',\n",
       " 'you',\n",
       " 'were',\n",
       " 'to',\n",
       " 'to',\n",
       " 'sxsw',\n",
       " 'or',\n",
       " 'an',\n",
       " 'a',\n",
       " 'few',\n",
       " 'for',\n",
       " 'just',\n",
       " 'to',\n",
       " 'a',\n",
       " 'link',\n",
       " 'sxsw',\n",
       " 'the',\n",
       " 'for',\n",
       " 'for',\n",
       " 'their',\n",
       " 'sxsw',\n",
       " 'mention',\n",
       " 'is',\n",
       " 'sxsw',\n",
       " 'rt',\n",
       " 'mention',\n",
       " 'rt',\n",
       " 'mention',\n",
       " 'to',\n",
       " 'at',\n",
       " 'sxsw',\n",
       " 'mention',\n",
       " 'link',\n",
       " 'out',\n",
       " 'sxsw',\n",
       " 'rt',\n",
       " 'mention',\n",
       " 'will',\n",
       " 'be',\n",
       " 'the',\n",
       " 'mention',\n",
       " 'sxsw',\n",
       " 'your',\n",
       " 'has',\n",
       " 'an',\n",
       " 'for',\n",
       " 'sxsw',\n",
       " 'mention',\n",
       " 'link',\n",
       " 'what',\n",
       " 'the',\n",
       " 'are',\n",
       " 'for',\n",
       " 'the',\n",
       " 'at',\n",
       " 'sxsw',\n",
       " 'some',\n",
       " 'on',\n",
       " 'on',\n",
       " 'the',\n",
       " 'is',\n",
       " 'on',\n",
       " 'the',\n",
       " 'is',\n",
       " 'on',\n",
       " 'sxsw',\n",
       " 'rt',\n",
       " 'mention',\n",
       " 'sxsw',\n",
       " 'to',\n",
       " 'is',\n",
       " 'about',\n",
       " 'for',\n",
       " 'what',\n",
       " 'do',\n",
       " 'you',\n",
       " 'did',\n",
       " 'that',\n",
       " 'they',\n",
       " \"don't\",\n",
       " 'before',\n",
       " 'it',\n",
       " 'sxsw',\n",
       " 'link',\n",
       " 'i',\n",
       " 'to',\n",
       " 'to',\n",
       " 'the',\n",
       " 'up',\n",
       " 'but',\n",
       " 'with',\n",
       " 'a',\n",
       " 'sxsw',\n",
       " 'rt',\n",
       " 'mention',\n",
       " 'link',\n",
       " 'and',\n",
       " 'the',\n",
       " 'with',\n",
       " 'the',\n",
       " 'most',\n",
       " 'in',\n",
       " 'their',\n",
       " 'by',\n",
       " 'of',\n",
       " 'sxsw',\n",
       " 'an',\n",
       " 'with',\n",
       " 'the',\n",
       " 'sxsw',\n",
       " 'and',\n",
       " 'that',\n",
       " 'the',\n",
       " 'is',\n",
       " 'just',\n",
       " 'a',\n",
       " 'of',\n",
       " 'sxsw',\n",
       " 'all',\n",
       " 'to',\n",
       " 'you',\n",
       " 'you',\n",
       " 'on',\n",
       " 'link',\n",
       " 'rt',\n",
       " 'mention',\n",
       " 'mention',\n",
       " 'for',\n",
       " 'and',\n",
       " 'are',\n",
       " 'mention',\n",
       " 'sxsw',\n",
       " 'link',\n",
       " 'is',\n",
       " 'out',\n",
       " 'with',\n",
       " 'the',\n",
       " 'and',\n",
       " 'just',\n",
       " 'being',\n",
       " 'sxsw',\n",
       " 'rt',\n",
       " 'mention',\n",
       " 'to',\n",
       " 'at',\n",
       " 'sxsw',\n",
       " 'link',\n",
       " 'sxsw',\n",
       " 'to',\n",
       " 'are',\n",
       " 'being',\n",
       " 're',\n",
       " 'to',\n",
       " 'in',\n",
       " 'sxsw',\n",
       " 'sxsw',\n",
       " 'by',\n",
       " 'mention',\n",
       " 'on',\n",
       " 'had',\n",
       " 'and',\n",
       " 'up',\n",
       " 'my',\n",
       " 'of',\n",
       " 'his',\n",
       " 'now',\n",
       " 'link',\n",
       " 'the',\n",
       " 'is',\n",
       " 'with',\n",
       " 'and',\n",
       " 'the',\n",
       " 'sxsw',\n",
       " 'rt',\n",
       " 'mention',\n",
       " 'of',\n",
       " 'this',\n",
       " 'sxsw',\n",
       " 'to',\n",
       " 'into',\n",
       " 'mention',\n",
       " 'mention',\n",
       " 'while',\n",
       " 'is',\n",
       " 'down',\n",
       " 'sxsw',\n",
       " 'is',\n",
       " 'their',\n",
       " 'their',\n",
       " 'to',\n",
       " 'sxsw',\n",
       " 'rt',\n",
       " 'mention',\n",
       " 'for',\n",
       " 'now',\n",
       " 'in',\n",
       " 'the',\n",
       " 'to',\n",
       " 'sxsw',\n",
       " 'by',\n",
       " 'an',\n",
       " 'or',\n",
       " 'this',\n",
       " 'i',\n",
       " 'the',\n",
       " 'at',\n",
       " 'the',\n",
       " 'up',\n",
       " 'in',\n",
       " 'for',\n",
       " 'sxsw',\n",
       " 'will',\n",
       " 'be',\n",
       " 'of',\n",
       " 'for',\n",
       " 'link',\n",
       " 'and',\n",
       " 'it',\n",
       " 'a',\n",
       " 'at',\n",
       " 'the',\n",
       " 'sxsw',\n",
       " 'up',\n",
       " 'up',\n",
       " 'rt',\n",
       " 'mention',\n",
       " 'in',\n",
       " 'sxsw',\n",
       " 'no',\n",
       " 'link',\n",
       " 'from',\n",
       " 'of',\n",
       " 'sxsw',\n",
       " 'for',\n",
       " 'sxsw',\n",
       " 'link',\n",
       " 'mention',\n",
       " 'to',\n",
       " 'sxsw',\n",
       " 'link',\n",
       " 'rt',\n",
       " 'mention',\n",
       " 'sxsw',\n",
       " 'with',\n",
       " 'mention',\n",
       " 'out',\n",
       " 'mention',\n",
       " 'and',\n",
       " 'your',\n",
       " 'mention',\n",
       " 'sxsw',\n",
       " 'mention',\n",
       " 'his',\n",
       " 'and',\n",
       " 'mention',\n",
       " 'mention',\n",
       " 'more',\n",
       " 'and',\n",
       " 'more',\n",
       " 'a',\n",
       " 'to',\n",
       " 'for',\n",
       " 'sxsw',\n",
       " 'link',\n",
       " 'just',\n",
       " 'up',\n",
       " 'the',\n",
       " 'for',\n",
       " 'sxsw',\n",
       " 'from',\n",
       " 'mention',\n",
       " 'link',\n",
       " 'up',\n",
       " 'in',\n",
       " 'just',\n",
       " 'this',\n",
       " 'now',\n",
       " 'what',\n",
       " 'i',\n",
       " 'a',\n",
       " 'up',\n",
       " 'sxsw',\n",
       " 'rt',\n",
       " 'mention',\n",
       " 'the',\n",
       " 'over',\n",
       " 'sxsw',\n",
       " 'link',\n",
       " 'rt',\n",
       " 'mention',\n",
       " 'a',\n",
       " 'up',\n",
       " 'in',\n",
       " 'for',\n",
       " 'sxsw',\n",
       " 'and',\n",
       " 'link',\n",
       " 'mention',\n",
       " 'sxsw',\n",
       " 'link',\n",
       " 'up',\n",
       " 'in',\n",
       " 'for',\n",
       " 'sxsw',\n",
       " 'link',\n",
       " 'sxsw',\n",
       " 'rt',\n",
       " 'mention',\n",
       " 'to',\n",
       " 'the',\n",
       " 'his',\n",
       " 'on',\n",
       " 'the',\n",
       " 'your',\n",
       " \"isn't\",\n",
       " 'that',\n",
       " 'sxsw',\n",
       " 'is',\n",
       " 'than',\n",
       " 'all',\n",
       " 'or',\n",
       " 'because',\n",
       " 'it',\n",
       " 'can',\n",
       " 'not',\n",
       " 'only',\n",
       " 'it',\n",
       " 'can',\n",
       " 'them',\n",
       " 'sxsw',\n",
       " 'now',\n",
       " 'sxsw',\n",
       " 'mention',\n",
       " 'sxsw',\n",
       " 'link',\n",
       " 'sxsw',\n",
       " 'link',\n",
       " 'my',\n",
       " 'of',\n",
       " 'sxsw',\n",
       " 'into',\n",
       " 'a',\n",
       " 'mention',\n",
       " 'the',\n",
       " 'link',\n",
       " 'of',\n",
       " 'on',\n",
       " 'are',\n",
       " 'sxsw',\n",
       " 'sxsw',\n",
       " 'and',\n",
       " 'on',\n",
       " 'in',\n",
       " 'to',\n",
       " 'did',\n",
       " 'to',\n",
       " 'have',\n",
       " 'mention',\n",
       " 'and',\n",
       " 'mention',\n",
       " 'in',\n",
       " 'only',\n",
       " 'out',\n",
       " 'sxsw',\n",
       " 'rt',\n",
       " 'mention',\n",
       " 'is',\n",
       " 'a',\n",
       " 'up',\n",
       " 'in',\n",
       " 'for',\n",
       " 'sxsw',\n",
       " 'mention',\n",
       " 'link',\n",
       " 'mention',\n",
       " 'mention',\n",
       " 'of',\n",
       " 'all',\n",
       " 'the',\n",
       " 'that',\n",
       " 'out',\n",
       " 'to',\n",
       " 'sxsw',\n",
       " 'the',\n",
       " 'over',\n",
       " 'sxsw',\n",
       " 'link',\n",
       " 'mention',\n",
       " 'mention',\n",
       " 'is',\n",
       " 'd',\n",
       " 'in',\n",
       " 'the',\n",
       " 'sxsw',\n",
       " 'mention',\n",
       " 'sxsw',\n",
       " 'to',\n",
       " 'link',\n",
       " 'rt',\n",
       " 'mention',\n",
       " 'sxsw',\n",
       " 'rt',\n",
       " 'mention',\n",
       " 'not',\n",
       " 'link',\n",
       " 'sxsw',\n",
       " 'are',\n",
       " 'up',\n",
       " 'in',\n",
       " 'in',\n",
       " 'link',\n",
       " 'sxsw',\n",
       " 'rt',\n",
       " 'mention',\n",
       " 'sxsw',\n",
       " 'why',\n",
       " 'not',\n",
       " 'your',\n",
       " 'with',\n",
       " 'a',\n",
       " 'most',\n",
       " 'link',\n",
       " 'i',\n",
       " 'that',\n",
       " 'was',\n",
       " 'to',\n",
       " 'have',\n",
       " 'a',\n",
       " 'sxsw',\n",
       " 'link',\n",
       " 'mention',\n",
       " 'd',\n",
       " 'about',\n",
       " 'some',\n",
       " 'the',\n",
       " 'sxsw',\n",
       " 'rt',\n",
       " 'mention',\n",
       " 'from',\n",
       " 'at',\n",
       " 'sxsw',\n",
       " 'they',\n",
       " 'as',\n",
       " 'this',\n",
       " 'the',\n",
       " 'of',\n",
       " 'rt',\n",
       " 'mention',\n",
       " 'to',\n",
       " 'in',\n",
       " 'of',\n",
       " 'sxsw',\n",
       " 'link',\n",
       " 'on',\n",
       " 'the',\n",
       " 'rt',\n",
       " 'mention',\n",
       " 'we',\n",
       " 'an',\n",
       " 'sxsw',\n",
       " 'will',\n",
       " 'will',\n",
       " 'for',\n",
       " 'it',\n",
       " 'before',\n",
       " 'mention',\n",
       " 'sxsw',\n",
       " 'so',\n",
       " 'now',\n",
       " 'by',\n",
       " 'and',\n",
       " 'rt',\n",
       " 'mention',\n",
       " 'with',\n",
       " 'the',\n",
       " 'is',\n",
       " 'so',\n",
       " 'than',\n",
       " 'a',\n",
       " 'sxsw',\n",
       " 'at',\n",
       " 'mention',\n",
       " 'link',\n",
       " 'of',\n",
       " 'at',\n",
       " 'but',\n",
       " 'not',\n",
       " 'sxsw',\n",
       " 'sxsw',\n",
       " 'there',\n",
       " ...]"
      ]
     },
     "execution_count": 220,
     "metadata": {},
     "output_type": "execute_result"
    }
   ],
   "source": [
    "# Extract the stopwords from the text\n",
    "stop_words =[token for token in X_train[\"text_tokenized\"].explode() if token in s_w]\n",
    "stop_words"
   ]
  },
  {
   "cell_type": "markdown",
   "metadata": {},
   "source": [
    "All of these words are stop words dont provide us with any information."
   ]
  },
  {
   "cell_type": "markdown",
   "metadata": {},
   "source": [
    "Create a function to remove the stopwords from the text from the data frame."
   ]
  },
  {
   "cell_type": "code",
   "execution_count": 221,
   "metadata": {},
   "outputs": [],
   "source": [
    "def remove_stopwords(text):\n",
    "    \"\"\"\n",
    "    Given a list of tokens, return a list where the tokens\n",
    "    that are also present in stopwords_list have been\n",
    "    removed\n",
    "    \"\"\"\n",
    "    stopwords_removed = [token for token in text if token not in s_w]\n",
    "    return stopwords_removed"
   ]
  },
  {
   "cell_type": "markdown",
   "metadata": {},
   "source": [
    "Apply the function of remove stopwords to the data frame"
   ]
  },
  {
   "cell_type": "code",
   "execution_count": 222,
   "metadata": {
    "scrolled": false
   },
   "outputs": [
    {
     "data": {
      "text/html": [
       "<div>\n",
       "<style scoped>\n",
       "    .dataframe tbody tr th:only-of-type {\n",
       "        vertical-align: middle;\n",
       "    }\n",
       "\n",
       "    .dataframe tbody tr th {\n",
       "        vertical-align: top;\n",
       "    }\n",
       "\n",
       "    .dataframe thead th {\n",
       "        text-align: right;\n",
       "    }\n",
       "</style>\n",
       "<table border=\"1\" class=\"dataframe\">\n",
       "  <thead>\n",
       "    <tr style=\"text-align: right;\">\n",
       "      <th></th>\n",
       "      <th>tweet_text</th>\n",
       "      <th>text_tokenized</th>\n",
       "      <th>text_without_stopwords</th>\n",
       "    </tr>\n",
       "  </thead>\n",
       "  <tbody>\n",
       "    <tr>\n",
       "      <th>6204</th>\n",
       "      <td>rt @mention just bumped into @mention here in austin for sxswi and accelerater  {link}  #tech #sxsw</td>\n",
       "      <td>[rt, mention, just, bumped, into, mention, here, in, austin, for, sxswi, and, accelerater, link, tech, sxsw]</td>\n",
       "      <td>[bumped, austin, sxswi, accelerater, tech]</td>\n",
       "    </tr>\n",
       "    <tr>\n",
       "      <th>8056</th>\n",
       "      <td>come see something new about google sketchup pro at #sxsw {link} via @mention google sketchup blog</td>\n",
       "      <td>[come, see, something, new, about, google, sketchup, pro, at, sxsw, link, via, mention, google, sketchup, blog]</td>\n",
       "      <td>[come, see, something, new, google, sketchup, pro, via, google, sketchup, blog]</td>\n",
       "    </tr>\n",
       "    <tr>\n",
       "      <th>4184</th>\n",
       "      <td>google will connect the digital  physical worlds through mobile {link} #sxsw #mobile #mcommerce</td>\n",
       "      <td>[google, will, connect, the, digital, physical, worlds, through, mobile, link, sxsw, mobile, mcommerce]</td>\n",
       "      <td>[google, connect, digital, physical, worlds, mobile, mobile, mcommerce]</td>\n",
       "    </tr>\n",
       "    <tr>\n",
       "      <th>8952</th>\n",
       "      <td>{link} #sxsw google going social again?</td>\n",
       "      <td>[link, sxsw, google, going, social, again]</td>\n",
       "      <td>[google, going, social]</td>\n",
       "    </tr>\n",
       "    <tr>\n",
       "      <th>1928</th>\n",
       "      <td>5 essential business #collaboration apps for #ipad {link} #bpm #sxsw #sxswi</td>\n",
       "      <td>[essential, business, collaboration, apps, for, ipad, link, bpm, sxsw, sxswi]</td>\n",
       "      <td>[essential, business, collaboration, apps, ipad, bpm, sxswi]</td>\n",
       "    </tr>\n",
       "    <tr>\n",
       "      <th>...</th>\n",
       "      <td>...</td>\n",
       "      <td>...</td>\n",
       "      <td>...</td>\n",
       "    </tr>\n",
       "    <tr>\n",
       "      <th>6280</th>\n",
       "      <td>rt @mention love it. @mention at #sxsw: apple comes up with cool technology no one's ever heard of because they don't go to conferences</td>\n",
       "      <td>[rt, mention, love, it, mention, at, sxsw, apple, comes, up, with, cool, technology, no, one's, ever, heard, of, because, they, don't, go, to, conferences]</td>\n",
       "      <td>[love, apple, comes, cool, technology, one's, ever, heard, go, conferences]</td>\n",
       "    </tr>\n",
       "    <tr>\n",
       "      <th>5692</th>\n",
       "      <td>rt @mention driving around austin on google street view scoping out locations. from my desk. #sxsw</td>\n",
       "      <td>[rt, mention, driving, around, austin, on, google, street, view, scoping, out, locations, from, my, desk, sxsw]</td>\n",
       "      <td>[driving, around, austin, google, street, view, scoping, locations, desk]</td>\n",
       "    </tr>\n",
       "    <tr>\n",
       "      <th>5910</th>\n",
       "      <td>rt @mention google to launch major new social network called circles, possibly today by @mention {link} via @mention #sxsw #22sxsw</td>\n",
       "      <td>[rt, mention, google, to, launch, major, new, social, network, called, circles, possibly, today, by, mention, link, via, mention, sxsw, sxsw]</td>\n",
       "      <td>[google, launch, major, new, social, network, called, circles, possibly, today, via]</td>\n",
       "    </tr>\n",
       "    <tr>\n",
       "      <th>935</th>\n",
       "      <td>fear not! now extended through wed! -- rt @mention rt @mention last day for apple popup is sunday 3/13 #sxsw #appleatxdt</td>\n",
       "      <td>[fear, not, now, extended, through, wed, rt, mention, rt, mention, last, day, for, apple, popup, is, sunday, sxsw, appleatxdt]</td>\n",
       "      <td>[fear, extended, wed, last, day, apple, popup, sunday, appleatxdt]</td>\n",
       "    </tr>\n",
       "    <tr>\n",
       "      <th>7932</th>\n",
       "      <td>don't miss your chance to win rt @mention going to #sxsw? come by the #emc consulting booth for your chance to win an ipad 2! @mention</td>\n",
       "      <td>[don't, miss, your, chance, to, win, rt, mention, going, to, sxsw, come, by, the, emc, consulting, booth, for, your, chance, to, win, an, ipad, mention]</td>\n",
       "      <td>[miss, chance, win, going, come, emc, consulting, booth, chance, win, ipad]</td>\n",
       "    </tr>\n",
       "  </tbody>\n",
       "</table>\n",
       "<p>6261 rows × 3 columns</p>\n",
       "</div>"
      ],
      "text/plain": [
       "                                                                                                                                   tweet_text  \\\n",
       "6204                                      rt @mention just bumped into @mention here in austin for sxswi and accelerater  {link}  #tech #sxsw   \n",
       "8056                                       come see something new about google sketchup pro at #sxsw {link} via @mention google sketchup blog   \n",
       "4184                                          google will connect the digital  physical worlds through mobile {link} #sxsw #mobile #mcommerce   \n",
       "8952                                                                                                  {link} #sxsw google going social again?   \n",
       "1928                                                              5 essential business #collaboration apps for #ipad {link} #bpm #sxsw #sxswi   \n",
       "...                                                                                                                                       ...   \n",
       "6280  rt @mention love it. @mention at #sxsw: apple comes up with cool technology no one's ever heard of because they don't go to conferences   \n",
       "5692                                       rt @mention driving around austin on google street view scoping out locations. from my desk. #sxsw   \n",
       "5910       rt @mention google to launch major new social network called circles, possibly today by @mention {link} via @mention #sxsw #22sxsw   \n",
       "935                  fear not! now extended through wed! -- rt @mention rt @mention last day for apple popup is sunday 3/13 #sxsw #appleatxdt   \n",
       "7932   don't miss your chance to win rt @mention going to #sxsw? come by the #emc consulting booth for your chance to win an ipad 2! @mention   \n",
       "\n",
       "                                                                                                                                                   text_tokenized  \\\n",
       "6204                                                 [rt, mention, just, bumped, into, mention, here, in, austin, for, sxswi, and, accelerater, link, tech, sxsw]   \n",
       "8056                                              [come, see, something, new, about, google, sketchup, pro, at, sxsw, link, via, mention, google, sketchup, blog]   \n",
       "4184                                                      [google, will, connect, the, digital, physical, worlds, through, mobile, link, sxsw, mobile, mcommerce]   \n",
       "8952                                                                                                                   [link, sxsw, google, going, social, again]   \n",
       "1928                                                                                [essential, business, collaboration, apps, for, ipad, link, bpm, sxsw, sxswi]   \n",
       "...                                                                                                                                                           ...   \n",
       "6280  [rt, mention, love, it, mention, at, sxsw, apple, comes, up, with, cool, technology, no, one's, ever, heard, of, because, they, don't, go, to, conferences]   \n",
       "5692                                              [rt, mention, driving, around, austin, on, google, street, view, scoping, out, locations, from, my, desk, sxsw]   \n",
       "5910                [rt, mention, google, to, launch, major, new, social, network, called, circles, possibly, today, by, mention, link, via, mention, sxsw, sxsw]   \n",
       "935                                [fear, not, now, extended, through, wed, rt, mention, rt, mention, last, day, for, apple, popup, is, sunday, sxsw, appleatxdt]   \n",
       "7932     [don't, miss, your, chance, to, win, rt, mention, going, to, sxsw, come, by, the, emc, consulting, booth, for, your, chance, to, win, an, ipad, mention]   \n",
       "\n",
       "                                                                    text_without_stopwords  \n",
       "6204                                            [bumped, austin, sxswi, accelerater, tech]  \n",
       "8056       [come, see, something, new, google, sketchup, pro, via, google, sketchup, blog]  \n",
       "4184               [google, connect, digital, physical, worlds, mobile, mobile, mcommerce]  \n",
       "8952                                                               [google, going, social]  \n",
       "1928                          [essential, business, collaboration, apps, ipad, bpm, sxswi]  \n",
       "...                                                                                    ...  \n",
       "6280           [love, apple, comes, cool, technology, one's, ever, heard, go, conferences]  \n",
       "5692             [driving, around, austin, google, street, view, scoping, locations, desk]  \n",
       "5910  [google, launch, major, new, social, network, called, circles, possibly, today, via]  \n",
       "935                     [fear, extended, wed, last, day, apple, popup, sunday, appleatxdt]  \n",
       "7932           [miss, chance, win, going, come, emc, consulting, booth, chance, win, ipad]  \n",
       "\n",
       "[6261 rows x 3 columns]"
      ]
     },
     "execution_count": 222,
     "metadata": {},
     "output_type": "execute_result"
    }
   ],
   "source": [
    "# Apply the function to the data frame\n",
    "X_train[\"text_without_stopwords\"] = X_train[\"text_tokenized\"].apply(remove_stopwords)\n",
    "X_train"
   ]
  },
  {
   "cell_type": "markdown",
   "metadata": {},
   "source": [
    "We can notice that the text after removing stopwords apears in the (text_without_stopwords) column."
   ]
  },
  {
   "cell_type": "markdown",
   "metadata": {},
   "source": [
    "Creating a Bag of Words after removing stopwords from the text.\n",
    "Count how many times each unique word is used in a given corpus."
   ]
  },
  {
   "cell_type": "code",
   "execution_count": 223,
   "metadata": {},
   "outputs": [
    {
     "data": {
      "text/plain": [
       "FreqDist({'ipad': 2040, 'google': 1698, 'apple': 1591, 'store': 1075, 'iphone': 1066, 'new': 757, 'austin': 685, 'app': 571, 'social': 463, 'launch': 458, ...})"
      ]
     },
     "execution_count": 223,
     "metadata": {},
     "output_type": "execute_result"
    }
   ],
   "source": [
    "# Create FreqDist for the data frame after removing stopwords\n",
    "X_train_nostopwords_freqdist =FreqDist(X_train[\"text_without_stopwords\"].explode())\n",
    "X_train_nostopwords_freqdist"
   ]
  },
  {
   "cell_type": "code",
   "execution_count": 224,
   "metadata": {
    "scrolled": true
   },
   "outputs": [
    {
     "data": {
      "image/png": "[encoded data removed]",
      "text/plain": [
       "<Figure size 432x288 with 1 Axes>"
      ]
     },
     "metadata": {
      "needs_background": "light"
     },
     "output_type": "display_data"
    }
   ],
   "source": [
    "# plot FreqDist for the data frame after removing stopwords\n",
    "visualize_top_25(X_train_nostopwords_freqdist, \"Top 25 Word Frequency for Xtrain after stop words removed\")"
   ]
  },
  {
   "cell_type": "markdown",
   "metadata": {},
   "source": [
    "From the figure above we can notice that the stopwods are removed."
   ]
  },
  {
   "cell_type": "markdown",
   "metadata": {},
   "source": [
    "We have to convert the words into vectors after removing the stopwords to create the second model."
   ]
  },
  {
   "cell_type": "code",
   "execution_count": 225,
   "metadata": {},
   "outputs": [],
   "source": [
    "# Instantiate the vectorizer\n",
    "tfidf = TfidfVectorizer(\n",
    "    max_features=10,\n",
    "    stop_words=s_w,\n",
    "    \n",
    ")\n",
    "\n",
    "# Fit the vectorizer on X_train[\"text\"] and transform it\n",
    "X_train_vectorized = tfidf.fit_transform(X_train[\"tweet_text\"].values.astype('U'))"
   ]
  },
  {
   "cell_type": "code",
   "execution_count": 226,
   "metadata": {
    "scrolled": true
   },
   "outputs": [
    {
     "data": {
      "text/html": [
       "<div>\n",
       "<style scoped>\n",
       "    .dataframe tbody tr th:only-of-type {\n",
       "        vertical-align: middle;\n",
       "    }\n",
       "\n",
       "    .dataframe tbody tr th {\n",
       "        vertical-align: top;\n",
       "    }\n",
       "\n",
       "    .dataframe thead th {\n",
       "        text-align: right;\n",
       "    }\n",
       "</style>\n",
       "<table border=\"1\" class=\"dataframe\">\n",
       "  <thead>\n",
       "    <tr style=\"text-align: right;\">\n",
       "      <th></th>\n",
       "      <th>app</th>\n",
       "      <th>apple</th>\n",
       "      <th>austin</th>\n",
       "      <th>google</th>\n",
       "      <th>ipad</th>\n",
       "      <th>iphone</th>\n",
       "      <th>launch</th>\n",
       "      <th>new</th>\n",
       "      <th>social</th>\n",
       "      <th>store</th>\n",
       "    </tr>\n",
       "  </thead>\n",
       "  <tbody>\n",
       "    <tr>\n",
       "      <th>0</th>\n",
       "      <td>0.0</td>\n",
       "      <td>0.0</td>\n",
       "      <td>1.000000</td>\n",
       "      <td>0.000000</td>\n",
       "      <td>0.0</td>\n",
       "      <td>0.0</td>\n",
       "      <td>0.000000</td>\n",
       "      <td>0.000000</td>\n",
       "      <td>0.000000</td>\n",
       "      <td>0.0</td>\n",
       "    </tr>\n",
       "    <tr>\n",
       "      <th>1</th>\n",
       "      <td>0.0</td>\n",
       "      <td>0.0</td>\n",
       "      <td>0.000000</td>\n",
       "      <td>0.828137</td>\n",
       "      <td>0.0</td>\n",
       "      <td>0.0</td>\n",
       "      <td>0.000000</td>\n",
       "      <td>0.560526</td>\n",
       "      <td>0.000000</td>\n",
       "      <td>0.0</td>\n",
       "    </tr>\n",
       "    <tr>\n",
       "      <th>2</th>\n",
       "      <td>0.0</td>\n",
       "      <td>0.0</td>\n",
       "      <td>0.000000</td>\n",
       "      <td>1.000000</td>\n",
       "      <td>0.0</td>\n",
       "      <td>0.0</td>\n",
       "      <td>0.000000</td>\n",
       "      <td>0.000000</td>\n",
       "      <td>0.000000</td>\n",
       "      <td>0.0</td>\n",
       "    </tr>\n",
       "    <tr>\n",
       "      <th>3</th>\n",
       "      <td>0.0</td>\n",
       "      <td>0.0</td>\n",
       "      <td>0.000000</td>\n",
       "      <td>0.535936</td>\n",
       "      <td>0.0</td>\n",
       "      <td>0.0</td>\n",
       "      <td>0.000000</td>\n",
       "      <td>0.000000</td>\n",
       "      <td>0.844259</td>\n",
       "      <td>0.0</td>\n",
       "    </tr>\n",
       "    <tr>\n",
       "      <th>4</th>\n",
       "      <td>0.0</td>\n",
       "      <td>0.0</td>\n",
       "      <td>0.000000</td>\n",
       "      <td>0.000000</td>\n",
       "      <td>1.0</td>\n",
       "      <td>0.0</td>\n",
       "      <td>0.000000</td>\n",
       "      <td>0.000000</td>\n",
       "      <td>0.000000</td>\n",
       "      <td>0.0</td>\n",
       "    </tr>\n",
       "    <tr>\n",
       "      <th>...</th>\n",
       "      <td>...</td>\n",
       "      <td>...</td>\n",
       "      <td>...</td>\n",
       "      <td>...</td>\n",
       "      <td>...</td>\n",
       "      <td>...</td>\n",
       "      <td>...</td>\n",
       "      <td>...</td>\n",
       "      <td>...</td>\n",
       "      <td>...</td>\n",
       "    </tr>\n",
       "    <tr>\n",
       "      <th>6256</th>\n",
       "      <td>0.0</td>\n",
       "      <td>1.0</td>\n",
       "      <td>0.000000</td>\n",
       "      <td>0.000000</td>\n",
       "      <td>0.0</td>\n",
       "      <td>0.0</td>\n",
       "      <td>0.000000</td>\n",
       "      <td>0.000000</td>\n",
       "      <td>0.000000</td>\n",
       "      <td>0.0</td>\n",
       "    </tr>\n",
       "    <tr>\n",
       "      <th>6257</th>\n",
       "      <td>0.0</td>\n",
       "      <td>0.0</td>\n",
       "      <td>0.813675</td>\n",
       "      <td>0.581320</td>\n",
       "      <td>0.0</td>\n",
       "      <td>0.0</td>\n",
       "      <td>0.000000</td>\n",
       "      <td>0.000000</td>\n",
       "      <td>0.000000</td>\n",
       "      <td>0.0</td>\n",
       "    </tr>\n",
       "    <tr>\n",
       "      <th>6258</th>\n",
       "      <td>0.0</td>\n",
       "      <td>0.0</td>\n",
       "      <td>0.000000</td>\n",
       "      <td>0.358784</td>\n",
       "      <td>0.0</td>\n",
       "      <td>0.0</td>\n",
       "      <td>0.562086</td>\n",
       "      <td>0.485687</td>\n",
       "      <td>0.565192</td>\n",
       "      <td>0.0</td>\n",
       "    </tr>\n",
       "    <tr>\n",
       "      <th>6259</th>\n",
       "      <td>0.0</td>\n",
       "      <td>1.0</td>\n",
       "      <td>0.000000</td>\n",
       "      <td>0.000000</td>\n",
       "      <td>0.0</td>\n",
       "      <td>0.0</td>\n",
       "      <td>0.000000</td>\n",
       "      <td>0.000000</td>\n",
       "      <td>0.000000</td>\n",
       "      <td>0.0</td>\n",
       "    </tr>\n",
       "    <tr>\n",
       "      <th>6260</th>\n",
       "      <td>0.0</td>\n",
       "      <td>0.0</td>\n",
       "      <td>0.000000</td>\n",
       "      <td>0.000000</td>\n",
       "      <td>1.0</td>\n",
       "      <td>0.0</td>\n",
       "      <td>0.000000</td>\n",
       "      <td>0.000000</td>\n",
       "      <td>0.000000</td>\n",
       "      <td>0.0</td>\n",
       "    </tr>\n",
       "  </tbody>\n",
       "</table>\n",
       "<p>6261 rows × 10 columns</p>\n",
       "</div>"
      ],
      "text/plain": [
       "      app  apple    austin    google  ipad  iphone    launch       new  \\\n",
       "0     0.0    0.0  1.000000  0.000000   0.0     0.0  0.000000  0.000000   \n",
       "1     0.0    0.0  0.000000  0.828137   0.0     0.0  0.000000  0.560526   \n",
       "2     0.0    0.0  0.000000  1.000000   0.0     0.0  0.000000  0.000000   \n",
       "3     0.0    0.0  0.000000  0.535936   0.0     0.0  0.000000  0.000000   \n",
       "4     0.0    0.0  0.000000  0.000000   1.0     0.0  0.000000  0.000000   \n",
       "...   ...    ...       ...       ...   ...     ...       ...       ...   \n",
       "6256  0.0    1.0  0.000000  0.000000   0.0     0.0  0.000000  0.000000   \n",
       "6257  0.0    0.0  0.813675  0.581320   0.0     0.0  0.000000  0.000000   \n",
       "6258  0.0    0.0  0.000000  0.358784   0.0     0.0  0.562086  0.485687   \n",
       "6259  0.0    1.0  0.000000  0.000000   0.0     0.0  0.000000  0.000000   \n",
       "6260  0.0    0.0  0.000000  0.000000   1.0     0.0  0.000000  0.000000   \n",
       "\n",
       "        social  store  \n",
       "0     0.000000    0.0  \n",
       "1     0.000000    0.0  \n",
       "2     0.000000    0.0  \n",
       "3     0.844259    0.0  \n",
       "4     0.000000    0.0  \n",
       "...        ...    ...  \n",
       "6256  0.000000    0.0  \n",
       "6257  0.000000    0.0  \n",
       "6258  0.565192    0.0  \n",
       "6259  0.000000    0.0  \n",
       "6260  0.000000    0.0  \n",
       "\n",
       "[6261 rows x 10 columns]"
      ]
     },
     "execution_count": 226,
     "metadata": {},
     "output_type": "execute_result"
    }
   ],
   "source": [
    "# Visually inspect the vectorized data\n",
    "pd.DataFrame.sparse.from_spmatrix(X_train_vectorized, columns=tfidf.get_feature_names())"
   ]
  },
  {
   "cell_type": "code",
   "execution_count": 227,
   "metadata": {},
   "outputs": [],
   "source": [
    "# create Pipeline for second model\n",
    "stopwords_removed_model = Pipeline([\n",
    "        \n",
    "        ('tfidf', tfidf),\n",
    "        ('clf', MultinomialNB()),\n",
    "    ])"
   ]
  },
  {
   "cell_type": "code",
   "execution_count": 228,
   "metadata": {
    "scrolled": true
   },
   "outputs": [
    {
     "data": {
      "text/plain": [
       "Pipeline(steps=[('tfidf',\n",
       "                 TfidfVectorizer(max_features=10,\n",
       "                                 stop_words=['i', 'me', 'my', 'myself', 'we',\n",
       "                                             'our', 'ours', 'ourselves', 'you',\n",
       "                                             \"you're\", \"you've\", \"you'll\",\n",
       "                                             \"you'd\", 'your', 'yours',\n",
       "                                             'yourself', 'yourselves', 'he',\n",
       "                                             'him', 'his', 'himself', 'she',\n",
       "                                             \"she's\", 'her', 'hers', 'herself',\n",
       "                                             'it', \"it's\", 'its', 'itself', ...])),\n",
       "                ('clf', MultinomialNB())])"
      ]
     },
     "execution_count": 228,
     "metadata": {},
     "output_type": "execute_result"
    }
   ],
   "source": [
    "# fit the second model on X_train and y_train\n",
    "stopwords_removed_model.fit(X_train[\"tweet_text\"].values.astype('U'),np.ravel(y_train ))"
   ]
  },
  {
   "cell_type": "markdown",
   "metadata": {},
   "source": [
    "Evaluate the second model by using cross validation class(https://scikit-learn.org/stable/modules/cross_validation.html)"
   ]
  },
  {
   "cell_type": "code",
   "execution_count": 229,
   "metadata": {
    "scrolled": true
   },
   "outputs": [
    {
     "name": "stderr",
     "output_type": "stream",
     "text": [
      "C:\\Users\\mays8\\anaconda3\\envs\\learn-env\\lib\\site-packages\\sklearn\\model_selection\\_split.py:670: UserWarning: The least populated class in y has only 1 members, which is less than n_splits=5.\n",
      "  warnings.warn((\"The least populated class in y has only %d\"\n"
     ]
    },
    {
     "data": {
      "text/plain": [
       "array([0.65921788, 0.66453674, 0.65894569, 0.65015974, 0.65415335])"
      ]
     },
     "execution_count": 229,
     "metadata": {},
     "output_type": "execute_result"
    }
   ],
   "source": [
    "# Evaluate the classifier on X_train_vectorized and y_train\n",
    "stopwords_removed_cv = cross_val_score(stopwords_removed_model, X_train[\"tweet_text\"].values.astype('U'),np.ravel(y_train))\n",
    "stopwords_removed_cv"
   ]
  },
  {
   "cell_type": "code",
   "execution_count": 230,
   "metadata": {
    "scrolled": true
   },
   "outputs": [
    {
     "name": "stdout",
     "output_type": "stream",
     "text": [
      "Baseline:          0.6500559679134293\n",
      "Stopwords removed: 0.6574026808503042\n"
     ]
    }
   ],
   "source": [
    "print(\"Baseline:         \", baseline_cv.mean())\n",
    "print(\"Stopwords removed:\", stopwords_removed_cv.mean())"
   ]
  },
  {
   "cell_type": "markdown",
   "metadata": {},
   "source": [
    "There is a little improvment after removing the stopwords.\n",
    "The performance increased from 60.57% to 60.79%."
   ]
  },
  {
   "cell_type": "markdown",
   "metadata": {},
   "source": [
    "## Model3"
   ]
  },
  {
   "cell_type": "markdown",
   "metadata": {},
   "source": [
    "We will create a new model after stemming the text.\n",
    "\n",
    "Stemming is known as the text standardization step where the words are stemmed or diminished to their root/base form.  For example, words like ‘programmer’, ‘programming, ‘program’ will be stemmed to ‘program’."
   ]
  },
  {
   "cell_type": "markdown",
   "metadata": {},
   "source": [
    "SnowballStemmer :It is an advance stemming algorithm "
   ]
  },
  {
   "cell_type": "code",
   "execution_count": 231,
   "metadata": {},
   "outputs": [],
   "source": [
    "#importing the Stemming function from nltk library\n",
    "from nltk.stem.snowball import SnowballStemmer\n",
    "\n",
    "#the stemmer requires a language parameter\n",
    "stemmer = SnowballStemmer(language=\"english\")\n"
   ]
  },
  {
   "cell_type": "markdown",
   "metadata": {},
   "source": [
    "Create a function to stem the text ."
   ]
  },
  {
   "cell_type": "code",
   "execution_count": 232,
   "metadata": {},
   "outputs": [],
   "source": [
    "def stemer_tokenizer(document):\n",
    "    \"\"\"\n",
    "    Given a text and return a tokenized and stemmed words \"\"\"\n",
    "     \n",
    "    tokens = tokenizer.tokenize(str(document))\n",
    "    return[stemmer.stem(token) for token in tokens]\n",
    "    "
   ]
  },
  {
   "cell_type": "code",
   "execution_count": 233,
   "metadata": {
    "scrolled": true
   },
   "outputs": [
    {
     "data": {
      "text/plain": [
       "['rt',\n",
       " 'mention',\n",
       " 'appl',\n",
       " 'open',\n",
       " 'a',\n",
       " 'pop',\n",
       " 'up',\n",
       " 'store',\n",
       " 'in',\n",
       " 'downtown',\n",
       " 'austin',\n",
       " 'for',\n",
       " 'sxsw',\n",
       " 'and',\n",
       " 'ipad',\n",
       " 'launch',\n",
       " 'link']"
      ]
     },
     "execution_count": 233,
     "metadata": {},
     "output_type": "execute_result"
    }
   ],
   "source": [
    "# example of adding the function to a row\n",
    "stemer_tokenizer(X_train.iloc[100][\"tweet_text\"])"
   ]
  },
  {
   "cell_type": "markdown",
   "metadata": {},
   "source": [
    "Stem the each word in stopwords list."
   ]
  },
  {
   "cell_type": "code",
   "execution_count": 234,
   "metadata": {},
   "outputs": [],
   "source": [
    "# apply the stemmer for each word in stopword list\n",
    "stemmed_stopwords = [stemmer.stem(word) for word in s_w]"
   ]
  },
  {
   "cell_type": "code",
   "execution_count": 235,
   "metadata": {},
   "outputs": [
    {
     "data": {
      "text/html": [
       "<div>\n",
       "<style scoped>\n",
       "    .dataframe tbody tr th:only-of-type {\n",
       "        vertical-align: middle;\n",
       "    }\n",
       "\n",
       "    .dataframe tbody tr th {\n",
       "        vertical-align: top;\n",
       "    }\n",
       "\n",
       "    .dataframe thead th {\n",
       "        text-align: right;\n",
       "    }\n",
       "</style>\n",
       "<table border=\"1\" class=\"dataframe\">\n",
       "  <thead>\n",
       "    <tr style=\"text-align: right;\">\n",
       "      <th></th>\n",
       "      <th>tweet_text</th>\n",
       "      <th>text_tokenized</th>\n",
       "      <th>text_without_stopwords</th>\n",
       "      <th>text_steemed</th>\n",
       "    </tr>\n",
       "  </thead>\n",
       "  <tbody>\n",
       "    <tr>\n",
       "      <th>6204</th>\n",
       "      <td>rt @mention just bumped into @mention here in austin for sxswi and accelerater  {link}  #tech #sxsw</td>\n",
       "      <td>[rt, mention, just, bumped, into, mention, here, in, austin, for, sxswi, and, accelerater, link, tech, sxsw]</td>\n",
       "      <td>[bumped, austin, sxswi, accelerater, tech]</td>\n",
       "      <td>[bump, austin, sxswi, accelerat, tech]</td>\n",
       "    </tr>\n",
       "    <tr>\n",
       "      <th>8056</th>\n",
       "      <td>come see something new about google sketchup pro at #sxsw {link} via @mention google sketchup blog</td>\n",
       "      <td>[come, see, something, new, about, google, sketchup, pro, at, sxsw, link, via, mention, google, sketchup, blog]</td>\n",
       "      <td>[come, see, something, new, google, sketchup, pro, via, google, sketchup, blog]</td>\n",
       "      <td>[come, see, someth, new, googl, sketchup, pro, via, googl, sketchup, blog]</td>\n",
       "    </tr>\n",
       "    <tr>\n",
       "      <th>4184</th>\n",
       "      <td>google will connect the digital  physical worlds through mobile {link} #sxsw #mobile #mcommerce</td>\n",
       "      <td>[google, will, connect, the, digital, physical, worlds, through, mobile, link, sxsw, mobile, mcommerce]</td>\n",
       "      <td>[google, connect, digital, physical, worlds, mobile, mobile, mcommerce]</td>\n",
       "      <td>[googl, connect, digit, physic, world, mobil, mobil, mcommerc]</td>\n",
       "    </tr>\n",
       "    <tr>\n",
       "      <th>8952</th>\n",
       "      <td>{link} #sxsw google going social again?</td>\n",
       "      <td>[link, sxsw, google, going, social, again]</td>\n",
       "      <td>[google, going, social]</td>\n",
       "      <td>[googl, go, social]</td>\n",
       "    </tr>\n",
       "    <tr>\n",
       "      <th>1928</th>\n",
       "      <td>5 essential business #collaboration apps for #ipad {link} #bpm #sxsw #sxswi</td>\n",
       "      <td>[essential, business, collaboration, apps, for, ipad, link, bpm, sxsw, sxswi]</td>\n",
       "      <td>[essential, business, collaboration, apps, ipad, bpm, sxswi]</td>\n",
       "      <td>[essenti, busi, collabor, app, ipad, bpm, sxswi]</td>\n",
       "    </tr>\n",
       "    <tr>\n",
       "      <th>...</th>\n",
       "      <td>...</td>\n",
       "      <td>...</td>\n",
       "      <td>...</td>\n",
       "      <td>...</td>\n",
       "    </tr>\n",
       "    <tr>\n",
       "      <th>6280</th>\n",
       "      <td>rt @mention love it. @mention at #sxsw: apple comes up with cool technology no one's ever heard of because they don't go to conferences</td>\n",
       "      <td>[rt, mention, love, it, mention, at, sxsw, apple, comes, up, with, cool, technology, no, one's, ever, heard, of, because, they, don't, go, to, conferences]</td>\n",
       "      <td>[love, apple, comes, cool, technology, one's, ever, heard, go, conferences]</td>\n",
       "      <td>[love, appl, come, cool, technolog, one, ever, heard, go, confer]</td>\n",
       "    </tr>\n",
       "    <tr>\n",
       "      <th>5692</th>\n",
       "      <td>rt @mention driving around austin on google street view scoping out locations. from my desk. #sxsw</td>\n",
       "      <td>[rt, mention, driving, around, austin, on, google, street, view, scoping, out, locations, from, my, desk, sxsw]</td>\n",
       "      <td>[driving, around, austin, google, street, view, scoping, locations, desk]</td>\n",
       "      <td>[drive, around, austin, googl, street, view, scope, locat, desk]</td>\n",
       "    </tr>\n",
       "    <tr>\n",
       "      <th>5910</th>\n",
       "      <td>rt @mention google to launch major new social network called circles, possibly today by @mention {link} via @mention #sxsw #22sxsw</td>\n",
       "      <td>[rt, mention, google, to, launch, major, new, social, network, called, circles, possibly, today, by, mention, link, via, mention, sxsw, sxsw]</td>\n",
       "      <td>[google, launch, major, new, social, network, called, circles, possibly, today, via]</td>\n",
       "      <td>[googl, launch, major, new, social, network, call, circl, possibl, today, via]</td>\n",
       "    </tr>\n",
       "    <tr>\n",
       "      <th>935</th>\n",
       "      <td>fear not! now extended through wed! -- rt @mention rt @mention last day for apple popup is sunday 3/13 #sxsw #appleatxdt</td>\n",
       "      <td>[fear, not, now, extended, through, wed, rt, mention, rt, mention, last, day, for, apple, popup, is, sunday, sxsw, appleatxdt]</td>\n",
       "      <td>[fear, extended, wed, last, day, apple, popup, sunday, appleatxdt]</td>\n",
       "      <td>[fear, extend, wed, last, day, appl, popup, sunday, appleatxdt]</td>\n",
       "    </tr>\n",
       "    <tr>\n",
       "      <th>7932</th>\n",
       "      <td>don't miss your chance to win rt @mention going to #sxsw? come by the #emc consulting booth for your chance to win an ipad 2! @mention</td>\n",
       "      <td>[don't, miss, your, chance, to, win, rt, mention, going, to, sxsw, come, by, the, emc, consulting, booth, for, your, chance, to, win, an, ipad, mention]</td>\n",
       "      <td>[miss, chance, win, going, come, emc, consulting, booth, chance, win, ipad]</td>\n",
       "      <td>[miss, chanc, win, go, come, emc, consult, booth, chanc, win, ipad]</td>\n",
       "    </tr>\n",
       "  </tbody>\n",
       "</table>\n",
       "<p>6261 rows × 4 columns</p>\n",
       "</div>"
      ],
      "text/plain": [
       "                                                                                                                                   tweet_text  \\\n",
       "6204                                      rt @mention just bumped into @mention here in austin for sxswi and accelerater  {link}  #tech #sxsw   \n",
       "8056                                       come see something new about google sketchup pro at #sxsw {link} via @mention google sketchup blog   \n",
       "4184                                          google will connect the digital  physical worlds through mobile {link} #sxsw #mobile #mcommerce   \n",
       "8952                                                                                                  {link} #sxsw google going social again?   \n",
       "1928                                                              5 essential business #collaboration apps for #ipad {link} #bpm #sxsw #sxswi   \n",
       "...                                                                                                                                       ...   \n",
       "6280  rt @mention love it. @mention at #sxsw: apple comes up with cool technology no one's ever heard of because they don't go to conferences   \n",
       "5692                                       rt @mention driving around austin on google street view scoping out locations. from my desk. #sxsw   \n",
       "5910       rt @mention google to launch major new social network called circles, possibly today by @mention {link} via @mention #sxsw #22sxsw   \n",
       "935                  fear not! now extended through wed! -- rt @mention rt @mention last day for apple popup is sunday 3/13 #sxsw #appleatxdt   \n",
       "7932   don't miss your chance to win rt @mention going to #sxsw? come by the #emc consulting booth for your chance to win an ipad 2! @mention   \n",
       "\n",
       "                                                                                                                                                   text_tokenized  \\\n",
       "6204                                                 [rt, mention, just, bumped, into, mention, here, in, austin, for, sxswi, and, accelerater, link, tech, sxsw]   \n",
       "8056                                              [come, see, something, new, about, google, sketchup, pro, at, sxsw, link, via, mention, google, sketchup, blog]   \n",
       "4184                                                      [google, will, connect, the, digital, physical, worlds, through, mobile, link, sxsw, mobile, mcommerce]   \n",
       "8952                                                                                                                   [link, sxsw, google, going, social, again]   \n",
       "1928                                                                                [essential, business, collaboration, apps, for, ipad, link, bpm, sxsw, sxswi]   \n",
       "...                                                                                                                                                           ...   \n",
       "6280  [rt, mention, love, it, mention, at, sxsw, apple, comes, up, with, cool, technology, no, one's, ever, heard, of, because, they, don't, go, to, conferences]   \n",
       "5692                                              [rt, mention, driving, around, austin, on, google, street, view, scoping, out, locations, from, my, desk, sxsw]   \n",
       "5910                [rt, mention, google, to, launch, major, new, social, network, called, circles, possibly, today, by, mention, link, via, mention, sxsw, sxsw]   \n",
       "935                                [fear, not, now, extended, through, wed, rt, mention, rt, mention, last, day, for, apple, popup, is, sunday, sxsw, appleatxdt]   \n",
       "7932     [don't, miss, your, chance, to, win, rt, mention, going, to, sxsw, come, by, the, emc, consulting, booth, for, your, chance, to, win, an, ipad, mention]   \n",
       "\n",
       "                                                                    text_without_stopwords  \\\n",
       "6204                                            [bumped, austin, sxswi, accelerater, tech]   \n",
       "8056       [come, see, something, new, google, sketchup, pro, via, google, sketchup, blog]   \n",
       "4184               [google, connect, digital, physical, worlds, mobile, mobile, mcommerce]   \n",
       "8952                                                               [google, going, social]   \n",
       "1928                          [essential, business, collaboration, apps, ipad, bpm, sxswi]   \n",
       "...                                                                                    ...   \n",
       "6280           [love, apple, comes, cool, technology, one's, ever, heard, go, conferences]   \n",
       "5692             [driving, around, austin, google, street, view, scoping, locations, desk]   \n",
       "5910  [google, launch, major, new, social, network, called, circles, possibly, today, via]   \n",
       "935                     [fear, extended, wed, last, day, apple, popup, sunday, appleatxdt]   \n",
       "7932           [miss, chance, win, going, come, emc, consulting, booth, chance, win, ipad]   \n",
       "\n",
       "                                                                        text_steemed  \n",
       "6204                                          [bump, austin, sxswi, accelerat, tech]  \n",
       "8056      [come, see, someth, new, googl, sketchup, pro, via, googl, sketchup, blog]  \n",
       "4184                  [googl, connect, digit, physic, world, mobil, mobil, mcommerc]  \n",
       "8952                                                             [googl, go, social]  \n",
       "1928                                [essenti, busi, collabor, app, ipad, bpm, sxswi]  \n",
       "...                                                                              ...  \n",
       "6280               [love, appl, come, cool, technolog, one, ever, heard, go, confer]  \n",
       "5692                [drive, around, austin, googl, street, view, scope, locat, desk]  \n",
       "5910  [googl, launch, major, new, social, network, call, circl, possibl, today, via]  \n",
       "935                  [fear, extend, wed, last, day, appl, popup, sunday, appleatxdt]  \n",
       "7932             [miss, chanc, win, go, come, emc, consult, booth, chanc, win, ipad]  \n",
       "\n",
       "[6261 rows x 4 columns]"
      ]
     },
     "execution_count": 235,
     "metadata": {},
     "output_type": "execute_result"
    }
   ],
   "source": [
    "# apply the stemmer_tokenizer to the text on data frame\n",
    "X_train[\"text_steemed\"] = X_train[\"text_without_stopwords\"].apply(stemer_tokenizer)\n",
    "X_train"
   ]
  },
  {
   "cell_type": "markdown",
   "metadata": {},
   "source": [
    "We have to convert the words into vectors after removing the stopwords and stemming words  to create the third model."
   ]
  },
  {
   "cell_type": "code",
   "execution_count": 236,
   "metadata": {},
   "outputs": [],
   "source": [
    "# Instantiate the vectorizer\n",
    "tfidf = TfidfVectorizer(\n",
    "    max_features=10,\n",
    "    stop_words=stemmed_stopwords,\n",
    "    tokenizer=stemer_tokenizer\n",
    ")\n",
    "\n",
    "# Fit the vectorizer on X_train[\"text\"] and transform it\n",
    "X_train_vectorized = tfidf.fit_transform(X_train[\"tweet_text\"].values.astype('U'))"
   ]
  },
  {
   "cell_type": "code",
   "execution_count": 237,
   "metadata": {
    "scrolled": true
   },
   "outputs": [
    {
     "data": {
      "text/html": [
       "<div>\n",
       "<style scoped>\n",
       "    .dataframe tbody tr th:only-of-type {\n",
       "        vertical-align: middle;\n",
       "    }\n",
       "\n",
       "    .dataframe tbody tr th {\n",
       "        vertical-align: top;\n",
       "    }\n",
       "\n",
       "    .dataframe thead th {\n",
       "        text-align: right;\n",
       "    }\n",
       "</style>\n",
       "<table border=\"1\" class=\"dataframe\">\n",
       "  <thead>\n",
       "    <tr style=\"text-align: right;\">\n",
       "      <th></th>\n",
       "      <th>app</th>\n",
       "      <th>appl</th>\n",
       "      <th>austin</th>\n",
       "      <th>circl</th>\n",
       "      <th>googl</th>\n",
       "      <th>ipad</th>\n",
       "      <th>iphon</th>\n",
       "      <th>launch</th>\n",
       "      <th>new</th>\n",
       "      <th>store</th>\n",
       "    </tr>\n",
       "  </thead>\n",
       "  <tbody>\n",
       "    <tr>\n",
       "      <th>0</th>\n",
       "      <td>0.000000</td>\n",
       "      <td>0.0</td>\n",
       "      <td>1.000000</td>\n",
       "      <td>0.000000</td>\n",
       "      <td>0.000000</td>\n",
       "      <td>0.000000</td>\n",
       "      <td>0.0</td>\n",
       "      <td>0.000000</td>\n",
       "      <td>0.000000</td>\n",
       "      <td>0.0</td>\n",
       "    </tr>\n",
       "    <tr>\n",
       "      <th>1</th>\n",
       "      <td>0.000000</td>\n",
       "      <td>0.0</td>\n",
       "      <td>0.000000</td>\n",
       "      <td>0.000000</td>\n",
       "      <td>0.828137</td>\n",
       "      <td>0.000000</td>\n",
       "      <td>0.0</td>\n",
       "      <td>0.000000</td>\n",
       "      <td>0.560526</td>\n",
       "      <td>0.0</td>\n",
       "    </tr>\n",
       "    <tr>\n",
       "      <th>2</th>\n",
       "      <td>0.000000</td>\n",
       "      <td>0.0</td>\n",
       "      <td>0.000000</td>\n",
       "      <td>0.000000</td>\n",
       "      <td>1.000000</td>\n",
       "      <td>0.000000</td>\n",
       "      <td>0.0</td>\n",
       "      <td>0.000000</td>\n",
       "      <td>0.000000</td>\n",
       "      <td>0.0</td>\n",
       "    </tr>\n",
       "    <tr>\n",
       "      <th>3</th>\n",
       "      <td>0.000000</td>\n",
       "      <td>0.0</td>\n",
       "      <td>0.000000</td>\n",
       "      <td>0.000000</td>\n",
       "      <td>1.000000</td>\n",
       "      <td>0.000000</td>\n",
       "      <td>0.0</td>\n",
       "      <td>0.000000</td>\n",
       "      <td>0.000000</td>\n",
       "      <td>0.0</td>\n",
       "    </tr>\n",
       "    <tr>\n",
       "      <th>4</th>\n",
       "      <td>0.832602</td>\n",
       "      <td>0.0</td>\n",
       "      <td>0.000000</td>\n",
       "      <td>0.000000</td>\n",
       "      <td>0.000000</td>\n",
       "      <td>0.553872</td>\n",
       "      <td>0.0</td>\n",
       "      <td>0.000000</td>\n",
       "      <td>0.000000</td>\n",
       "      <td>0.0</td>\n",
       "    </tr>\n",
       "    <tr>\n",
       "      <th>...</th>\n",
       "      <td>...</td>\n",
       "      <td>...</td>\n",
       "      <td>...</td>\n",
       "      <td>...</td>\n",
       "      <td>...</td>\n",
       "      <td>...</td>\n",
       "      <td>...</td>\n",
       "      <td>...</td>\n",
       "      <td>...</td>\n",
       "      <td>...</td>\n",
       "    </tr>\n",
       "    <tr>\n",
       "      <th>6256</th>\n",
       "      <td>0.000000</td>\n",
       "      <td>1.0</td>\n",
       "      <td>0.000000</td>\n",
       "      <td>0.000000</td>\n",
       "      <td>0.000000</td>\n",
       "      <td>0.000000</td>\n",
       "      <td>0.0</td>\n",
       "      <td>0.000000</td>\n",
       "      <td>0.000000</td>\n",
       "      <td>0.0</td>\n",
       "    </tr>\n",
       "    <tr>\n",
       "      <th>6257</th>\n",
       "      <td>0.000000</td>\n",
       "      <td>0.0</td>\n",
       "      <td>0.813548</td>\n",
       "      <td>0.000000</td>\n",
       "      <td>0.581498</td>\n",
       "      <td>0.000000</td>\n",
       "      <td>0.0</td>\n",
       "      <td>0.000000</td>\n",
       "      <td>0.000000</td>\n",
       "      <td>0.0</td>\n",
       "    </tr>\n",
       "    <tr>\n",
       "      <th>6258</th>\n",
       "      <td>0.000000</td>\n",
       "      <td>0.0</td>\n",
       "      <td>0.000000</td>\n",
       "      <td>0.578812</td>\n",
       "      <td>0.365839</td>\n",
       "      <td>0.000000</td>\n",
       "      <td>0.0</td>\n",
       "      <td>0.534677</td>\n",
       "      <td>0.495237</td>\n",
       "      <td>0.0</td>\n",
       "    </tr>\n",
       "    <tr>\n",
       "      <th>6259</th>\n",
       "      <td>0.000000</td>\n",
       "      <td>1.0</td>\n",
       "      <td>0.000000</td>\n",
       "      <td>0.000000</td>\n",
       "      <td>0.000000</td>\n",
       "      <td>0.000000</td>\n",
       "      <td>0.0</td>\n",
       "      <td>0.000000</td>\n",
       "      <td>0.000000</td>\n",
       "      <td>0.0</td>\n",
       "    </tr>\n",
       "    <tr>\n",
       "      <th>6260</th>\n",
       "      <td>0.000000</td>\n",
       "      <td>0.0</td>\n",
       "      <td>0.000000</td>\n",
       "      <td>0.000000</td>\n",
       "      <td>0.000000</td>\n",
       "      <td>1.000000</td>\n",
       "      <td>0.0</td>\n",
       "      <td>0.000000</td>\n",
       "      <td>0.000000</td>\n",
       "      <td>0.0</td>\n",
       "    </tr>\n",
       "  </tbody>\n",
       "</table>\n",
       "<p>6261 rows × 10 columns</p>\n",
       "</div>"
      ],
      "text/plain": [
       "           app  appl    austin     circl     googl      ipad  iphon    launch  \\\n",
       "0     0.000000   0.0  1.000000  0.000000  0.000000  0.000000    0.0  0.000000   \n",
       "1     0.000000   0.0  0.000000  0.000000  0.828137  0.000000    0.0  0.000000   \n",
       "2     0.000000   0.0  0.000000  0.000000  1.000000  0.000000    0.0  0.000000   \n",
       "3     0.000000   0.0  0.000000  0.000000  1.000000  0.000000    0.0  0.000000   \n",
       "4     0.832602   0.0  0.000000  0.000000  0.000000  0.553872    0.0  0.000000   \n",
       "...        ...   ...       ...       ...       ...       ...    ...       ...   \n",
       "6256  0.000000   1.0  0.000000  0.000000  0.000000  0.000000    0.0  0.000000   \n",
       "6257  0.000000   0.0  0.813548  0.000000  0.581498  0.000000    0.0  0.000000   \n",
       "6258  0.000000   0.0  0.000000  0.578812  0.365839  0.000000    0.0  0.534677   \n",
       "6259  0.000000   1.0  0.000000  0.000000  0.000000  0.000000    0.0  0.000000   \n",
       "6260  0.000000   0.0  0.000000  0.000000  0.000000  1.000000    0.0  0.000000   \n",
       "\n",
       "           new  store  \n",
       "0     0.000000    0.0  \n",
       "1     0.560526    0.0  \n",
       "2     0.000000    0.0  \n",
       "3     0.000000    0.0  \n",
       "4     0.000000    0.0  \n",
       "...        ...    ...  \n",
       "6256  0.000000    0.0  \n",
       "6257  0.000000    0.0  \n",
       "6258  0.495237    0.0  \n",
       "6259  0.000000    0.0  \n",
       "6260  0.000000    0.0  \n",
       "\n",
       "[6261 rows x 10 columns]"
      ]
     },
     "execution_count": 237,
     "metadata": {},
     "output_type": "execute_result"
    }
   ],
   "source": [
    "# Visually inspect the vectorized data\n",
    "pd.DataFrame.sparse.from_spmatrix(X_train_vectorized, columns=tfidf.get_feature_names())"
   ]
  },
  {
   "cell_type": "markdown",
   "metadata": {},
   "source": [
    "###### Build the stemmed model"
   ]
  },
  {
   "cell_type": "code",
   "execution_count": 238,
   "metadata": {},
   "outputs": [],
   "source": [
    "# create Pipeline for third model\n",
    "stemmed_model = Pipeline([\n",
    "        \n",
    "        ('tfidf', tfidf),\n",
    "        ('clf', MultinomialNB()),\n",
    "    ])"
   ]
  },
  {
   "cell_type": "code",
   "execution_count": 239,
   "metadata": {},
   "outputs": [
    {
     "data": {
      "text/plain": [
       "Pipeline(steps=[('tfidf',\n",
       "                 TfidfVectorizer(max_features=10,\n",
       "                                 stop_words=['i', 'me', 'my', 'myself', 'we',\n",
       "                                             'our', 'our', 'ourselv', 'you',\n",
       "                                             \"you'r\", \"you'v\", \"you'll\",\n",
       "                                             \"you'd\", 'your', 'your',\n",
       "                                             'yourself', 'yourselv', 'he',\n",
       "                                             'him', 'his', 'himself', 'she',\n",
       "                                             'she', 'her', 'her', 'herself',\n",
       "                                             'it', 'it', 'it', 'itself', ...],\n",
       "                                 tokenizer=<function stemer_tokenizer at 0x000001C4B2B530D0>)),\n",
       "                ('clf', MultinomialNB())])"
      ]
     },
     "execution_count": 239,
     "metadata": {},
     "output_type": "execute_result"
    }
   ],
   "source": [
    "# fit the third model on X_train and y_train\n",
    "stemmed_model.fit(X_train[\"tweet_text\"].values.astype('U'),np.ravel(y_train ))"
   ]
  },
  {
   "cell_type": "markdown",
   "metadata": {},
   "source": [
    "Evaluate the third model by using cross validation class"
   ]
  },
  {
   "cell_type": "code",
   "execution_count": 240,
   "metadata": {
    "scrolled": true
   },
   "outputs": [
    {
     "name": "stderr",
     "output_type": "stream",
     "text": [
      "C:\\Users\\mays8\\anaconda3\\envs\\learn-env\\lib\\site-packages\\sklearn\\model_selection\\_split.py:670: UserWarning: The least populated class in y has only 1 members, which is less than n_splits=5.\n",
      "  warnings.warn((\"The least populated class in y has only %d\"\n"
     ]
    },
    {
     "data": {
      "text/plain": [
       "array([0.65522745, 0.66373802, 0.6557508 , 0.65415335, 0.6485623 ])"
      ]
     },
     "execution_count": 240,
     "metadata": {},
     "output_type": "execute_result"
    }
   ],
   "source": [
    "# Evaluate the classifier on X_train and y_train\n",
    "stemmed_model_cv = cross_val_score(stemmed_model, X_train[\"tweet_text\"].values.astype('U'),np.ravel (y_train))\n",
    "stemmed_model_cv"
   ]
  },
  {
   "cell_type": "code",
   "execution_count": 241,
   "metadata": {
    "scrolled": true
   },
   "outputs": [
    {
     "name": "stdout",
     "output_type": "stream",
     "text": [
      "Stopwords removed: 0.6574026808503042\n",
      "Stopwords stemed: 0.6554863853907172\n"
     ]
    }
   ],
   "source": [
    "print(\"Stopwords removed:\", stopwords_removed_cv.mean())\n",
    "print(\"Stopwords stemed:\", stemmed_model_cv.mean())\n"
   ]
  },
  {
   "cell_type": "markdown",
   "metadata": {},
   "source": [
    "We can notice that the third model's performance is getting worst."
   ]
  },
  {
   "cell_type": "markdown",
   "metadata": {},
   "source": [
    "## Model4"
   ]
  },
  {
   "cell_type": "markdown",
   "metadata": {},
   "source": [
    "We will create a new model after Lemmanize the words in the tweet text."
   ]
  },
  {
   "cell_type": "markdown",
   "metadata": {},
   "source": [
    "Lemmatization:It stems the word but makes sure that it does not lose its meaning.  Lemmatization has a pre-defined dictionary that stores the context of words and checks the word in the dictionary while diminishing."
   ]
  },
  {
   "cell_type": "code",
   "execution_count": 242,
   "metadata": {},
   "outputs": [],
   "source": [
    "# Import WordNetLemmatizer class\n",
    "from nltk.stem import WordNetLemmatizer\n",
    "# Instantiate a lemmatizer\n",
    "lemmatizer = WordNetLemmatizer()"
   ]
  },
  {
   "cell_type": "markdown",
   "metadata": {},
   "source": [
    "Create a function to lemmatize the text ."
   ]
  },
  {
   "cell_type": "code",
   "execution_count": 243,
   "metadata": {},
   "outputs": [],
   "source": [
    "def token_lemmatizer(document):\n",
    "    \"\"\"\n",
    "    Given a text and return a tokenized and lemmatize words \"\"\"\n",
    " \n",
    "    tokens = tokenizer.tokenize(str(document))\n",
    "    return[lemmatizer.lemmatize(token) for token in tokens]\n",
    "    \n",
    "   "
   ]
  },
  {
   "cell_type": "code",
   "execution_count": 244,
   "metadata": {
    "scrolled": true
   },
   "outputs": [
    {
     "data": {
      "text/plain": [
       "['rt',\n",
       " 'mention',\n",
       " 'apple',\n",
       " 'opening',\n",
       " 'a',\n",
       " 'pop',\n",
       " 'up',\n",
       " 'store',\n",
       " 'in',\n",
       " 'downtown',\n",
       " 'austin',\n",
       " 'for',\n",
       " 'sxsw',\n",
       " 'and',\n",
       " 'ipad',\n",
       " 'launch',\n",
       " 'link']"
      ]
     },
     "execution_count": 244,
     "metadata": {},
     "output_type": "execute_result"
    }
   ],
   "source": [
    "# sample\n",
    "token_lemmatizer(X_train.iloc[100][\"tweet_text\"])"
   ]
  },
  {
   "cell_type": "markdown",
   "metadata": {},
   "source": [
    "Lemmatize the stopwords list"
   ]
  },
  {
   "cell_type": "code",
   "execution_count": 245,
   "metadata": {},
   "outputs": [
    {
     "data": {
      "text/plain": [
       "['i',\n",
       " 'me',\n",
       " 'my',\n",
       " 'myself',\n",
       " 'we',\n",
       " 'our',\n",
       " 'ours',\n",
       " 'ourselves',\n",
       " 'you',\n",
       " \"you're\",\n",
       " \"you've\",\n",
       " \"you'll\",\n",
       " \"you'd\",\n",
       " 'your',\n",
       " 'yours',\n",
       " 'yourself',\n",
       " 'yourselves',\n",
       " 'he',\n",
       " 'him',\n",
       " 'his',\n",
       " 'himself',\n",
       " 'she',\n",
       " \"she's\",\n",
       " 'her',\n",
       " 'hers',\n",
       " 'herself',\n",
       " 'it',\n",
       " \"it's\",\n",
       " 'it',\n",
       " 'itself',\n",
       " 'they',\n",
       " 'them',\n",
       " 'their',\n",
       " 'theirs',\n",
       " 'themselves',\n",
       " 'what',\n",
       " 'which',\n",
       " 'who',\n",
       " 'whom',\n",
       " 'this',\n",
       " 'that',\n",
       " \"that'll\",\n",
       " 'these',\n",
       " 'those',\n",
       " 'am',\n",
       " 'is',\n",
       " 'are',\n",
       " 'wa',\n",
       " 'were',\n",
       " 'be',\n",
       " 'been',\n",
       " 'being',\n",
       " 'have',\n",
       " 'ha',\n",
       " 'had',\n",
       " 'having',\n",
       " 'do',\n",
       " 'doe',\n",
       " 'did',\n",
       " 'doing',\n",
       " 'a',\n",
       " 'an',\n",
       " 'the',\n",
       " 'and',\n",
       " 'but',\n",
       " 'if',\n",
       " 'or',\n",
       " 'because',\n",
       " 'a',\n",
       " 'until',\n",
       " 'while',\n",
       " 'of',\n",
       " 'at',\n",
       " 'by',\n",
       " 'for',\n",
       " 'with',\n",
       " 'about',\n",
       " 'against',\n",
       " 'between',\n",
       " 'into',\n",
       " 'through',\n",
       " 'during',\n",
       " 'before',\n",
       " 'after',\n",
       " 'above',\n",
       " 'below',\n",
       " 'to',\n",
       " 'from',\n",
       " 'up',\n",
       " 'down',\n",
       " 'in',\n",
       " 'out',\n",
       " 'on',\n",
       " 'off',\n",
       " 'over',\n",
       " 'under',\n",
       " 'again',\n",
       " 'further',\n",
       " 'then',\n",
       " 'once',\n",
       " 'here',\n",
       " 'there',\n",
       " 'when',\n",
       " 'where',\n",
       " 'why',\n",
       " 'how',\n",
       " 'all',\n",
       " 'any',\n",
       " 'both',\n",
       " 'each',\n",
       " 'few',\n",
       " 'more',\n",
       " 'most',\n",
       " 'other',\n",
       " 'some',\n",
       " 'such',\n",
       " 'no',\n",
       " 'nor',\n",
       " 'not',\n",
       " 'only',\n",
       " 'own',\n",
       " 'same',\n",
       " 'so',\n",
       " 'than',\n",
       " 'too',\n",
       " 'very',\n",
       " 's',\n",
       " 't',\n",
       " 'can',\n",
       " 'will',\n",
       " 'just',\n",
       " 'don',\n",
       " \"don't\",\n",
       " 'should',\n",
       " \"should've\",\n",
       " 'now',\n",
       " 'd',\n",
       " 'll',\n",
       " 'm',\n",
       " 'o',\n",
       " 're',\n",
       " 've',\n",
       " 'y',\n",
       " 'ain',\n",
       " 'aren',\n",
       " \"aren't\",\n",
       " 'couldn',\n",
       " \"couldn't\",\n",
       " 'didn',\n",
       " \"didn't\",\n",
       " 'doesn',\n",
       " \"doesn't\",\n",
       " 'hadn',\n",
       " \"hadn't\",\n",
       " 'hasn',\n",
       " \"hasn't\",\n",
       " 'haven',\n",
       " \"haven't\",\n",
       " 'isn',\n",
       " \"isn't\",\n",
       " 'ma',\n",
       " 'mightn',\n",
       " \"mightn't\",\n",
       " 'mustn',\n",
       " \"mustn't\",\n",
       " 'needn',\n",
       " \"needn't\",\n",
       " 'shan',\n",
       " \"shan't\",\n",
       " 'shouldn',\n",
       " \"shouldn't\",\n",
       " 'wasn',\n",
       " \"wasn't\",\n",
       " 'weren',\n",
       " \"weren't\",\n",
       " 'won',\n",
       " \"won't\",\n",
       " 'wouldn',\n",
       " \"wouldn't\",\n",
       " '!',\n",
       " '\"',\n",
       " '#',\n",
       " '$',\n",
       " '%',\n",
       " '&',\n",
       " \"'\",\n",
       " '(',\n",
       " ')',\n",
       " '*',\n",
       " '+',\n",
       " ',',\n",
       " '-',\n",
       " '.',\n",
       " '/',\n",
       " ':',\n",
       " ';',\n",
       " '<',\n",
       " '=',\n",
       " '>',\n",
       " '?',\n",
       " '@',\n",
       " '[',\n",
       " '\\\\',\n",
       " ']',\n",
       " '^',\n",
       " '_',\n",
       " '`',\n",
       " '{',\n",
       " '|',\n",
       " '}',\n",
       " '~',\n",
       " '0',\n",
       " '1',\n",
       " '2',\n",
       " '3',\n",
       " '4',\n",
       " '5',\n",
       " '6',\n",
       " '7',\n",
       " '8',\n",
       " '9',\n",
       " 'sxsw',\n",
       " 'mention',\n",
       " 'link',\n",
       " 'rt',\n",
       " '“',\n",
       " '”',\n",
       " '...',\n",
       " \"''\",\n",
       " '’',\n",
       " '``',\n",
       " '',\n",
       " '  ']"
      ]
     },
     "execution_count": 245,
     "metadata": {},
     "output_type": "execute_result"
    }
   ],
   "source": [
    "# Apply the lemmatizer for each word in stopword list\n",
    "lemmatized_stopwords = [lemmatizer.lemmatize(word) for word in s_w]\n",
    "lemmatized_stopwords"
   ]
  },
  {
   "cell_type": "markdown",
   "metadata": {},
   "source": [
    "Apply the lemmatizer for text  in the data frame."
   ]
  },
  {
   "cell_type": "code",
   "execution_count": 246,
   "metadata": {},
   "outputs": [
    {
     "data": {
      "text/html": [
       "<div>\n",
       "<style scoped>\n",
       "    .dataframe tbody tr th:only-of-type {\n",
       "        vertical-align: middle;\n",
       "    }\n",
       "\n",
       "    .dataframe tbody tr th {\n",
       "        vertical-align: top;\n",
       "    }\n",
       "\n",
       "    .dataframe thead th {\n",
       "        text-align: right;\n",
       "    }\n",
       "</style>\n",
       "<table border=\"1\" class=\"dataframe\">\n",
       "  <thead>\n",
       "    <tr style=\"text-align: right;\">\n",
       "      <th></th>\n",
       "      <th>tweet_text</th>\n",
       "      <th>text_tokenized</th>\n",
       "      <th>text_without_stopwords</th>\n",
       "      <th>text_steemed</th>\n",
       "      <th>text_lemmatized</th>\n",
       "    </tr>\n",
       "  </thead>\n",
       "  <tbody>\n",
       "    <tr>\n",
       "      <th>6204</th>\n",
       "      <td>rt @mention just bumped into @mention here in austin for sxswi and accelerater  {link}  #tech #sxsw</td>\n",
       "      <td>[rt, mention, just, bumped, into, mention, here, in, austin, for, sxswi, and, accelerater, link, tech, sxsw]</td>\n",
       "      <td>[bumped, austin, sxswi, accelerater, tech]</td>\n",
       "      <td>[bump, austin, sxswi, accelerat, tech]</td>\n",
       "      <td>[bumped, austin, sxswi, accelerater, tech]</td>\n",
       "    </tr>\n",
       "    <tr>\n",
       "      <th>8056</th>\n",
       "      <td>come see something new about google sketchup pro at #sxsw {link} via @mention google sketchup blog</td>\n",
       "      <td>[come, see, something, new, about, google, sketchup, pro, at, sxsw, link, via, mention, google, sketchup, blog]</td>\n",
       "      <td>[come, see, something, new, google, sketchup, pro, via, google, sketchup, blog]</td>\n",
       "      <td>[come, see, someth, new, googl, sketchup, pro, via, googl, sketchup, blog]</td>\n",
       "      <td>[come, see, something, new, google, sketchup, pro, via, google, sketchup, blog]</td>\n",
       "    </tr>\n",
       "    <tr>\n",
       "      <th>4184</th>\n",
       "      <td>google will connect the digital  physical worlds through mobile {link} #sxsw #mobile #mcommerce</td>\n",
       "      <td>[google, will, connect, the, digital, physical, worlds, through, mobile, link, sxsw, mobile, mcommerce]</td>\n",
       "      <td>[google, connect, digital, physical, worlds, mobile, mobile, mcommerce]</td>\n",
       "      <td>[googl, connect, digit, physic, world, mobil, mobil, mcommerc]</td>\n",
       "      <td>[google, connect, digital, physical, world, mobile, mobile, mcommerce]</td>\n",
       "    </tr>\n",
       "    <tr>\n",
       "      <th>8952</th>\n",
       "      <td>{link} #sxsw google going social again?</td>\n",
       "      <td>[link, sxsw, google, going, social, again]</td>\n",
       "      <td>[google, going, social]</td>\n",
       "      <td>[googl, go, social]</td>\n",
       "      <td>[google, going, social]</td>\n",
       "    </tr>\n",
       "    <tr>\n",
       "      <th>1928</th>\n",
       "      <td>5 essential business #collaboration apps for #ipad {link} #bpm #sxsw #sxswi</td>\n",
       "      <td>[essential, business, collaboration, apps, for, ipad, link, bpm, sxsw, sxswi]</td>\n",
       "      <td>[essential, business, collaboration, apps, ipad, bpm, sxswi]</td>\n",
       "      <td>[essenti, busi, collabor, app, ipad, bpm, sxswi]</td>\n",
       "      <td>[essential, business, collaboration, apps, ipad, bpm, sxswi]</td>\n",
       "    </tr>\n",
       "    <tr>\n",
       "      <th>...</th>\n",
       "      <td>...</td>\n",
       "      <td>...</td>\n",
       "      <td>...</td>\n",
       "      <td>...</td>\n",
       "      <td>...</td>\n",
       "    </tr>\n",
       "    <tr>\n",
       "      <th>6280</th>\n",
       "      <td>rt @mention love it. @mention at #sxsw: apple comes up with cool technology no one's ever heard of because they don't go to conferences</td>\n",
       "      <td>[rt, mention, love, it, mention, at, sxsw, apple, comes, up, with, cool, technology, no, one's, ever, heard, of, because, they, don't, go, to, conferences]</td>\n",
       "      <td>[love, apple, comes, cool, technology, one's, ever, heard, go, conferences]</td>\n",
       "      <td>[love, appl, come, cool, technolog, one, ever, heard, go, confer]</td>\n",
       "      <td>[love, apple, come, cool, technology, one's, ever, heard, go, conference]</td>\n",
       "    </tr>\n",
       "    <tr>\n",
       "      <th>5692</th>\n",
       "      <td>rt @mention driving around austin on google street view scoping out locations. from my desk. #sxsw</td>\n",
       "      <td>[rt, mention, driving, around, austin, on, google, street, view, scoping, out, locations, from, my, desk, sxsw]</td>\n",
       "      <td>[driving, around, austin, google, street, view, scoping, locations, desk]</td>\n",
       "      <td>[drive, around, austin, googl, street, view, scope, locat, desk]</td>\n",
       "      <td>[driving, around, austin, google, street, view, scoping, location, desk]</td>\n",
       "    </tr>\n",
       "    <tr>\n",
       "      <th>5910</th>\n",
       "      <td>rt @mention google to launch major new social network called circles, possibly today by @mention {link} via @mention #sxsw #22sxsw</td>\n",
       "      <td>[rt, mention, google, to, launch, major, new, social, network, called, circles, possibly, today, by, mention, link, via, mention, sxsw, sxsw]</td>\n",
       "      <td>[google, launch, major, new, social, network, called, circles, possibly, today, via]</td>\n",
       "      <td>[googl, launch, major, new, social, network, call, circl, possibl, today, via]</td>\n",
       "      <td>[google, launch, major, new, social, network, called, circle, possibly, today, via]</td>\n",
       "    </tr>\n",
       "    <tr>\n",
       "      <th>935</th>\n",
       "      <td>fear not! now extended through wed! -- rt @mention rt @mention last day for apple popup is sunday 3/13 #sxsw #appleatxdt</td>\n",
       "      <td>[fear, not, now, extended, through, wed, rt, mention, rt, mention, last, day, for, apple, popup, is, sunday, sxsw, appleatxdt]</td>\n",
       "      <td>[fear, extended, wed, last, day, apple, popup, sunday, appleatxdt]</td>\n",
       "      <td>[fear, extend, wed, last, day, appl, popup, sunday, appleatxdt]</td>\n",
       "      <td>[fear, extended, wed, last, day, apple, popup, sunday, appleatxdt]</td>\n",
       "    </tr>\n",
       "    <tr>\n",
       "      <th>7932</th>\n",
       "      <td>don't miss your chance to win rt @mention going to #sxsw? come by the #emc consulting booth for your chance to win an ipad 2! @mention</td>\n",
       "      <td>[don't, miss, your, chance, to, win, rt, mention, going, to, sxsw, come, by, the, emc, consulting, booth, for, your, chance, to, win, an, ipad, mention]</td>\n",
       "      <td>[miss, chance, win, going, come, emc, consulting, booth, chance, win, ipad]</td>\n",
       "      <td>[miss, chanc, win, go, come, emc, consult, booth, chanc, win, ipad]</td>\n",
       "      <td>[miss, chance, win, going, come, emc, consulting, booth, chance, win, ipad]</td>\n",
       "    </tr>\n",
       "  </tbody>\n",
       "</table>\n",
       "<p>6261 rows × 5 columns</p>\n",
       "</div>"
      ],
      "text/plain": [
       "                                                                                                                                   tweet_text  \\\n",
       "6204                                      rt @mention just bumped into @mention here in austin for sxswi and accelerater  {link}  #tech #sxsw   \n",
       "8056                                       come see something new about google sketchup pro at #sxsw {link} via @mention google sketchup blog   \n",
       "4184                                          google will connect the digital  physical worlds through mobile {link} #sxsw #mobile #mcommerce   \n",
       "8952                                                                                                  {link} #sxsw google going social again?   \n",
       "1928                                                              5 essential business #collaboration apps for #ipad {link} #bpm #sxsw #sxswi   \n",
       "...                                                                                                                                       ...   \n",
       "6280  rt @mention love it. @mention at #sxsw: apple comes up with cool technology no one's ever heard of because they don't go to conferences   \n",
       "5692                                       rt @mention driving around austin on google street view scoping out locations. from my desk. #sxsw   \n",
       "5910       rt @mention google to launch major new social network called circles, possibly today by @mention {link} via @mention #sxsw #22sxsw   \n",
       "935                  fear not! now extended through wed! -- rt @mention rt @mention last day for apple popup is sunday 3/13 #sxsw #appleatxdt   \n",
       "7932   don't miss your chance to win rt @mention going to #sxsw? come by the #emc consulting booth for your chance to win an ipad 2! @mention   \n",
       "\n",
       "                                                                                                                                                   text_tokenized  \\\n",
       "6204                                                 [rt, mention, just, bumped, into, mention, here, in, austin, for, sxswi, and, accelerater, link, tech, sxsw]   \n",
       "8056                                              [come, see, something, new, about, google, sketchup, pro, at, sxsw, link, via, mention, google, sketchup, blog]   \n",
       "4184                                                      [google, will, connect, the, digital, physical, worlds, through, mobile, link, sxsw, mobile, mcommerce]   \n",
       "8952                                                                                                                   [link, sxsw, google, going, social, again]   \n",
       "1928                                                                                [essential, business, collaboration, apps, for, ipad, link, bpm, sxsw, sxswi]   \n",
       "...                                                                                                                                                           ...   \n",
       "6280  [rt, mention, love, it, mention, at, sxsw, apple, comes, up, with, cool, technology, no, one's, ever, heard, of, because, they, don't, go, to, conferences]   \n",
       "5692                                              [rt, mention, driving, around, austin, on, google, street, view, scoping, out, locations, from, my, desk, sxsw]   \n",
       "5910                [rt, mention, google, to, launch, major, new, social, network, called, circles, possibly, today, by, mention, link, via, mention, sxsw, sxsw]   \n",
       "935                                [fear, not, now, extended, through, wed, rt, mention, rt, mention, last, day, for, apple, popup, is, sunday, sxsw, appleatxdt]   \n",
       "7932     [don't, miss, your, chance, to, win, rt, mention, going, to, sxsw, come, by, the, emc, consulting, booth, for, your, chance, to, win, an, ipad, mention]   \n",
       "\n",
       "                                                                    text_without_stopwords  \\\n",
       "6204                                            [bumped, austin, sxswi, accelerater, tech]   \n",
       "8056       [come, see, something, new, google, sketchup, pro, via, google, sketchup, blog]   \n",
       "4184               [google, connect, digital, physical, worlds, mobile, mobile, mcommerce]   \n",
       "8952                                                               [google, going, social]   \n",
       "1928                          [essential, business, collaboration, apps, ipad, bpm, sxswi]   \n",
       "...                                                                                    ...   \n",
       "6280           [love, apple, comes, cool, technology, one's, ever, heard, go, conferences]   \n",
       "5692             [driving, around, austin, google, street, view, scoping, locations, desk]   \n",
       "5910  [google, launch, major, new, social, network, called, circles, possibly, today, via]   \n",
       "935                     [fear, extended, wed, last, day, apple, popup, sunday, appleatxdt]   \n",
       "7932           [miss, chance, win, going, come, emc, consulting, booth, chance, win, ipad]   \n",
       "\n",
       "                                                                        text_steemed  \\\n",
       "6204                                          [bump, austin, sxswi, accelerat, tech]   \n",
       "8056      [come, see, someth, new, googl, sketchup, pro, via, googl, sketchup, blog]   \n",
       "4184                  [googl, connect, digit, physic, world, mobil, mobil, mcommerc]   \n",
       "8952                                                             [googl, go, social]   \n",
       "1928                                [essenti, busi, collabor, app, ipad, bpm, sxswi]   \n",
       "...                                                                              ...   \n",
       "6280               [love, appl, come, cool, technolog, one, ever, heard, go, confer]   \n",
       "5692                [drive, around, austin, googl, street, view, scope, locat, desk]   \n",
       "5910  [googl, launch, major, new, social, network, call, circl, possibl, today, via]   \n",
       "935                  [fear, extend, wed, last, day, appl, popup, sunday, appleatxdt]   \n",
       "7932             [miss, chanc, win, go, come, emc, consult, booth, chanc, win, ipad]   \n",
       "\n",
       "                                                                          text_lemmatized  \n",
       "6204                                           [bumped, austin, sxswi, accelerater, tech]  \n",
       "8056      [come, see, something, new, google, sketchup, pro, via, google, sketchup, blog]  \n",
       "4184               [google, connect, digital, physical, world, mobile, mobile, mcommerce]  \n",
       "8952                                                              [google, going, social]  \n",
       "1928                         [essential, business, collaboration, apps, ipad, bpm, sxswi]  \n",
       "...                                                                                   ...  \n",
       "6280            [love, apple, come, cool, technology, one's, ever, heard, go, conference]  \n",
       "5692             [driving, around, austin, google, street, view, scoping, location, desk]  \n",
       "5910  [google, launch, major, new, social, network, called, circle, possibly, today, via]  \n",
       "935                    [fear, extended, wed, last, day, apple, popup, sunday, appleatxdt]  \n",
       "7932          [miss, chance, win, going, come, emc, consulting, booth, chance, win, ipad]  \n",
       "\n",
       "[6261 rows x 5 columns]"
      ]
     },
     "execution_count": 246,
     "metadata": {},
     "output_type": "execute_result"
    }
   ],
   "source": [
    "# Apply the lemmatizer for text  in the data frame\n",
    "X_train[\"text_lemmatized\"] = X_train[\"text_without_stopwords\"].apply(token_lemmatizer)\n",
    "\n",
    "X_train"
   ]
  },
  {
   "cell_type": "markdown",
   "metadata": {},
   "source": [
    "We have to convert the words into vectors after removing the stopwords and lemmatizing the words to create the foorth model."
   ]
  },
  {
   "cell_type": "code",
   "execution_count": 247,
   "metadata": {},
   "outputs": [],
   "source": [
    "# Instantiate the vectorizer\n",
    "tfidf = TfidfVectorizer(\n",
    "    max_features=10,\n",
    "    stop_words=lemmatized_stopwords,\n",
    "    tokenizer=token_lemmatizer\n",
    ")\n",
    "\n",
    "# Fit the vectorizer on X_train[\"text\"] and transform it\n",
    "X_train_vectorized = tfidf.fit_transform(X_train[\"tweet_text\"].values.astype('U'))\n",
    "\n",
    "X_test_vectorized = tfidf.transform(X_test[\"tweet_text\"].values.astype('U'))\n",
    "\n"
   ]
  },
  {
   "cell_type": "code",
   "execution_count": 248,
   "metadata": {
    "scrolled": true
   },
   "outputs": [
    {
     "data": {
      "text/html": [
       "<div>\n",
       "<style scoped>\n",
       "    .dataframe tbody tr th:only-of-type {\n",
       "        vertical-align: middle;\n",
       "    }\n",
       "\n",
       "    .dataframe tbody tr th {\n",
       "        vertical-align: top;\n",
       "    }\n",
       "\n",
       "    .dataframe thead th {\n",
       "        text-align: right;\n",
       "    }\n",
       "</style>\n",
       "<table border=\"1\" class=\"dataframe\">\n",
       "  <thead>\n",
       "    <tr style=\"text-align: right;\">\n",
       "      <th></th>\n",
       "      <th>app</th>\n",
       "      <th>apple</th>\n",
       "      <th>austin</th>\n",
       "      <th>circle</th>\n",
       "      <th>google</th>\n",
       "      <th>ipad</th>\n",
       "      <th>iphone</th>\n",
       "      <th>launch</th>\n",
       "      <th>new</th>\n",
       "      <th>store</th>\n",
       "    </tr>\n",
       "  </thead>\n",
       "  <tbody>\n",
       "    <tr>\n",
       "      <th>0</th>\n",
       "      <td>0.0</td>\n",
       "      <td>0.0</td>\n",
       "      <td>1.000000</td>\n",
       "      <td>0.000000</td>\n",
       "      <td>0.000000</td>\n",
       "      <td>0.0</td>\n",
       "      <td>0.0</td>\n",
       "      <td>0.000000</td>\n",
       "      <td>0.000000</td>\n",
       "      <td>0.0</td>\n",
       "    </tr>\n",
       "    <tr>\n",
       "      <th>1</th>\n",
       "      <td>0.0</td>\n",
       "      <td>0.0</td>\n",
       "      <td>0.000000</td>\n",
       "      <td>0.000000</td>\n",
       "      <td>0.835983</td>\n",
       "      <td>0.0</td>\n",
       "      <td>0.0</td>\n",
       "      <td>0.000000</td>\n",
       "      <td>0.548755</td>\n",
       "      <td>0.0</td>\n",
       "    </tr>\n",
       "    <tr>\n",
       "      <th>2</th>\n",
       "      <td>0.0</td>\n",
       "      <td>0.0</td>\n",
       "      <td>0.000000</td>\n",
       "      <td>0.000000</td>\n",
       "      <td>1.000000</td>\n",
       "      <td>0.0</td>\n",
       "      <td>0.0</td>\n",
       "      <td>0.000000</td>\n",
       "      <td>0.000000</td>\n",
       "      <td>0.0</td>\n",
       "    </tr>\n",
       "    <tr>\n",
       "      <th>3</th>\n",
       "      <td>0.0</td>\n",
       "      <td>0.0</td>\n",
       "      <td>0.000000</td>\n",
       "      <td>0.000000</td>\n",
       "      <td>1.000000</td>\n",
       "      <td>0.0</td>\n",
       "      <td>0.0</td>\n",
       "      <td>0.000000</td>\n",
       "      <td>0.000000</td>\n",
       "      <td>0.0</td>\n",
       "    </tr>\n",
       "    <tr>\n",
       "      <th>4</th>\n",
       "      <td>0.0</td>\n",
       "      <td>0.0</td>\n",
       "      <td>0.000000</td>\n",
       "      <td>0.000000</td>\n",
       "      <td>0.000000</td>\n",
       "      <td>1.0</td>\n",
       "      <td>0.0</td>\n",
       "      <td>0.000000</td>\n",
       "      <td>0.000000</td>\n",
       "      <td>0.0</td>\n",
       "    </tr>\n",
       "    <tr>\n",
       "      <th>...</th>\n",
       "      <td>...</td>\n",
       "      <td>...</td>\n",
       "      <td>...</td>\n",
       "      <td>...</td>\n",
       "      <td>...</td>\n",
       "      <td>...</td>\n",
       "      <td>...</td>\n",
       "      <td>...</td>\n",
       "      <td>...</td>\n",
       "      <td>...</td>\n",
       "    </tr>\n",
       "    <tr>\n",
       "      <th>6256</th>\n",
       "      <td>0.0</td>\n",
       "      <td>1.0</td>\n",
       "      <td>0.000000</td>\n",
       "      <td>0.000000</td>\n",
       "      <td>0.000000</td>\n",
       "      <td>0.0</td>\n",
       "      <td>0.0</td>\n",
       "      <td>0.000000</td>\n",
       "      <td>0.000000</td>\n",
       "      <td>0.0</td>\n",
       "    </tr>\n",
       "    <tr>\n",
       "      <th>6257</th>\n",
       "      <td>0.0</td>\n",
       "      <td>0.0</td>\n",
       "      <td>0.805381</td>\n",
       "      <td>0.000000</td>\n",
       "      <td>0.592757</td>\n",
       "      <td>0.0</td>\n",
       "      <td>0.0</td>\n",
       "      <td>0.000000</td>\n",
       "      <td>0.000000</td>\n",
       "      <td>0.0</td>\n",
       "    </tr>\n",
       "    <tr>\n",
       "      <th>6258</th>\n",
       "      <td>0.0</td>\n",
       "      <td>0.0</td>\n",
       "      <td>0.000000</td>\n",
       "      <td>0.567285</td>\n",
       "      <td>0.369714</td>\n",
       "      <td>0.0</td>\n",
       "      <td>0.0</td>\n",
       "      <td>0.553093</td>\n",
       "      <td>0.485374</td>\n",
       "      <td>0.0</td>\n",
       "    </tr>\n",
       "    <tr>\n",
       "      <th>6259</th>\n",
       "      <td>0.0</td>\n",
       "      <td>1.0</td>\n",
       "      <td>0.000000</td>\n",
       "      <td>0.000000</td>\n",
       "      <td>0.000000</td>\n",
       "      <td>0.0</td>\n",
       "      <td>0.0</td>\n",
       "      <td>0.000000</td>\n",
       "      <td>0.000000</td>\n",
       "      <td>0.0</td>\n",
       "    </tr>\n",
       "    <tr>\n",
       "      <th>6260</th>\n",
       "      <td>0.0</td>\n",
       "      <td>0.0</td>\n",
       "      <td>0.000000</td>\n",
       "      <td>0.000000</td>\n",
       "      <td>0.000000</td>\n",
       "      <td>1.0</td>\n",
       "      <td>0.0</td>\n",
       "      <td>0.000000</td>\n",
       "      <td>0.000000</td>\n",
       "      <td>0.0</td>\n",
       "    </tr>\n",
       "  </tbody>\n",
       "</table>\n",
       "<p>6261 rows × 10 columns</p>\n",
       "</div>"
      ],
      "text/plain": [
       "      app  apple    austin    circle    google  ipad  iphone    launch  \\\n",
       "0     0.0    0.0  1.000000  0.000000  0.000000   0.0     0.0  0.000000   \n",
       "1     0.0    0.0  0.000000  0.000000  0.835983   0.0     0.0  0.000000   \n",
       "2     0.0    0.0  0.000000  0.000000  1.000000   0.0     0.0  0.000000   \n",
       "3     0.0    0.0  0.000000  0.000000  1.000000   0.0     0.0  0.000000   \n",
       "4     0.0    0.0  0.000000  0.000000  0.000000   1.0     0.0  0.000000   \n",
       "...   ...    ...       ...       ...       ...   ...     ...       ...   \n",
       "6256  0.0    1.0  0.000000  0.000000  0.000000   0.0     0.0  0.000000   \n",
       "6257  0.0    0.0  0.805381  0.000000  0.592757   0.0     0.0  0.000000   \n",
       "6258  0.0    0.0  0.000000  0.567285  0.369714   0.0     0.0  0.553093   \n",
       "6259  0.0    1.0  0.000000  0.000000  0.000000   0.0     0.0  0.000000   \n",
       "6260  0.0    0.0  0.000000  0.000000  0.000000   1.0     0.0  0.000000   \n",
       "\n",
       "           new  store  \n",
       "0     0.000000    0.0  \n",
       "1     0.548755    0.0  \n",
       "2     0.000000    0.0  \n",
       "3     0.000000    0.0  \n",
       "4     0.000000    0.0  \n",
       "...        ...    ...  \n",
       "6256  0.000000    0.0  \n",
       "6257  0.000000    0.0  \n",
       "6258  0.485374    0.0  \n",
       "6259  0.000000    0.0  \n",
       "6260  0.000000    0.0  \n",
       "\n",
       "[6261 rows x 10 columns]"
      ]
     },
     "execution_count": 248,
     "metadata": {},
     "output_type": "execute_result"
    }
   ],
   "source": [
    "# Visually inspect the vectorized data\n",
    "pd.DataFrame.sparse.from_spmatrix(X_train_vectorized, columns=tfidf.get_feature_names())"
   ]
  },
  {
   "cell_type": "markdown",
   "metadata": {},
   "source": [
    "###### Build the lemmatized model"
   ]
  },
  {
   "cell_type": "code",
   "execution_count": 249,
   "metadata": {},
   "outputs": [],
   "source": [
    "# create Pipeline for forth model\n",
    "lemmatized_model = Pipeline([\n",
    "        \n",
    "        ('tfidf', tfidf),\n",
    "        ('clf', MultinomialNB()),\n",
    "    ])"
   ]
  },
  {
   "cell_type": "code",
   "execution_count": 250,
   "metadata": {},
   "outputs": [
    {
     "data": {
      "text/plain": [
       "Pipeline(steps=[('tfidf',\n",
       "                 TfidfVectorizer(max_features=10,\n",
       "                                 stop_words=['i', 'me', 'my', 'myself', 'we',\n",
       "                                             'our', 'ours', 'ourselves', 'you',\n",
       "                                             \"you're\", \"you've\", \"you'll\",\n",
       "                                             \"you'd\", 'your', 'yours',\n",
       "                                             'yourself', 'yourselves', 'he',\n",
       "                                             'him', 'his', 'himself', 'she',\n",
       "                                             \"she's\", 'her', 'hers', 'herself',\n",
       "                                             'it', \"it's\", 'it', 'itself', ...],\n",
       "                                 tokenizer=<function token_lemmatizer at 0x000001C4B43ED5E0>)),\n",
       "                ('clf', MultinomialNB())])"
      ]
     },
     "execution_count": 250,
     "metadata": {},
     "output_type": "execute_result"
    }
   ],
   "source": [
    "# fit the forth model on X_train and y_train\n",
    "lemmatized_model.fit(X_train[\"tweet_text\"].values.astype('U'),np.ravel(y_train ))"
   ]
  },
  {
   "cell_type": "markdown",
   "metadata": {},
   "source": [
    "Evaluate the forth model by using cross validation class"
   ]
  },
  {
   "cell_type": "code",
   "execution_count": 251,
   "metadata": {},
   "outputs": [
    {
     "name": "stderr",
     "output_type": "stream",
     "text": [
      "C:\\Users\\mays8\\anaconda3\\envs\\learn-env\\lib\\site-packages\\sklearn\\model_selection\\_split.py:670: UserWarning: The least populated class in y has only 1 members, which is less than n_splits=5.\n",
      "  warnings.warn((\"The least populated class in y has only %d\"\n"
     ]
    },
    {
     "data": {
      "text/plain": [
       "array([0.65762171, 0.66373802, 0.65974441, 0.65255591, 0.65495208])"
      ]
     },
     "execution_count": 251,
     "metadata": {},
     "output_type": "execute_result"
    }
   ],
   "source": [
    "# Evaluate the classifier on X_train and y_train\n",
    "lemmatized_model_cv = cross_val_score(lemmatized_model,X_train[\"tweet_text\"].values.astype('U'),np.ravel (y_train))\n",
    "lemmatized_model_cv"
   ]
  },
  {
   "cell_type": "code",
   "execution_count": 252,
   "metadata": {
    "scrolled": true
   },
   "outputs": [
    {
     "name": "stdout",
     "output_type": "stream",
     "text": [
      "Stopwords removed:          0.6574026808503042\n",
      "lemmatized: 0.6577224246473001\n"
     ]
    }
   ],
   "source": [
    "print(\"Stopwords removed:         \",stopwords_removed_cv.mean())\n",
    "print(\"lemmatized:\",lemmatized_model_cv.mean())"
   ]
  },
  {
   "cell_type": "code",
   "execution_count": 253,
   "metadata": {},
   "outputs": [
    {
     "name": "stderr",
     "output_type": "stream",
     "text": [
      "C:\\Users\\mays8\\anaconda3\\envs\\learn-env\\lib\\site-packages\\sklearn\\model_selection\\_split.py:670: UserWarning: The least populated class in y has only 1 members, which is less than n_splits=5.\n",
      "  warnings.warn((\"The least populated class in y has only %d\"\n"
     ]
    },
    {
     "data": {
      "text/plain": [
       "array([0.61980831, 0.61980831, 0.62619808, 0.61980831, 0.61980831])"
      ]
     },
     "execution_count": 253,
     "metadata": {},
     "output_type": "execute_result"
    }
   ],
   "source": [
    "# Evaluate the classifier on X_train_vectorized and y_train\n",
    "lemmatized_test_cv = cross_val_score(lemmatized_model, X_test[\"tweet_text\"].values.astype('U'),np.ravel(y_test))\n",
    "lemmatized_test_cv"
   ]
  },
  {
   "cell_type": "code",
   "execution_count": 254,
   "metadata": {},
   "outputs": [
    {
     "name": "stdout",
     "output_type": "stream",
     "text": [
      "lemmatized_test 0.6210862619808306\n"
     ]
    }
   ],
   "source": [
    "print( \"lemmatized_test\",lemmatized_test_cv.mean())"
   ]
  },
  {
   "cell_type": "markdown",
   "metadata": {},
   "source": [
    "The model improved after applying the lemmatizer the performance is 60.88%."
   ]
  },
  {
   "cell_type": "markdown",
   "metadata": {},
   "source": [
    "## Model5"
   ]
  },
  {
   "cell_type": "markdown",
   "metadata": {},
   "source": [
    "We will build a model which uses part of the speech tagging technique (pos) to clean our text more."
   ]
  },
  {
   "cell_type": "markdown",
   "metadata": {},
   "source": [
    "POS Tagging in NLTK is a process of converting a sentence to forms – list of words, list of tuples (where each tuple is having a form (word,tag)). The tag in case of is a part-of-speech tag,and signifies whether the word is a noun, adjective, verb, and so on."
   ]
  },
  {
   "cell_type": "markdown",
   "metadata": {},
   "source": [
    "POS Tagging simply means labeling words with their appropriate Part-Of-Speech."
   ]
  },
  {
   "cell_type": "code",
   "execution_count": 255,
   "metadata": {
    "scrolled": true
   },
   "outputs": [
    {
     "name": "stdout",
     "output_type": "stream",
     "text": [
      "showing info https://raw.githubusercontent.com/nltk/nltk_data/gh-pages/index.xml\n"
     ]
    }
   ],
   "source": [
    "# import pos_tag class from nltk library\n",
    "import nltk\n",
    "nltk.download()\n",
    "from nltk import pos_tag"
   ]
  },
  {
   "cell_type": "markdown",
   "metadata": {},
   "source": [
    "In order to identify pos,we need to perform four steps:\n",
    "\n",
    "1-Tokenize the text into sentences.\n",
    "\n",
    "2-Tokenize each sentence into words.\n",
    "\n",
    "3-Tag the words in each sentence for POS.\n",
    "\n"
   ]
  },
  {
   "cell_type": "markdown",
   "metadata": {},
   "source": [
    "We will create a function to do those steps."
   ]
  },
  {
   "cell_type": "code",
   "execution_count": 256,
   "metadata": {},
   "outputs": [],
   "source": [
    "# Import sentence and word tokenizer\n",
    "\n",
    "from nltk.tokenize import word_tokenize\n",
    "from nltk.corpus import wordnet "
   ]
  },
  {
   "cell_type": "code",
   "execution_count": 257,
   "metadata": {},
   "outputs": [],
   "source": [
    "#def pos_text(text):\n",
    "    #\"\"\"\n",
    "    #Given a text and return a tokenized and lemmatize words for each word in pos \"\"\"\n",
    "    # tokenize the sentence \n",
    "    #sentences = [nltk.sent_tokenize(text)]\n",
    "    # tokenize the word in the sentence \n",
    "    #tokens = [nltk.word_tokenize(sent) for sent in sentences]\n",
    "    # use pos for each sentence \n",
    "    #tokens_pos = [nltk.pos_tag(token) for token in tokens]\n",
    "    #return tokens_pos\n",
    "    "
   ]
  },
  {
   "cell_type": "code",
   "execution_count": 258,
   "metadata": {},
   "outputs": [],
   "source": [
    "# apply Lemmatizer\n",
    "    #lmtzr = WordNetLemmatizer()\n",
    "    #lem_token=[lmtzr.lemmatize(token) for token in tokens_pos]\n",
    "\n",
    "    #return lem_token"
   ]
  },
  {
   "cell_type": "code",
   "execution_count": 259,
   "metadata": {},
   "outputs": [],
   "source": [
    "#apply RegexpTokenizer for each sentence \n",
    "   # sentences = [tokenizer.parse(sent) for sent in sentences]\n",
    "    #return sentences"
   ]
  },
  {
   "cell_type": "code",
   "execution_count": 260,
   "metadata": {},
   "outputs": [],
   "source": [
    "\n",
    "#nltk.download('tagsets')\n",
    "#nltk.help.upenn_tagset()"
   ]
  },
  {
   "cell_type": "code",
   "execution_count": 261,
   "metadata": {
    "scrolled": true
   },
   "outputs": [],
   "source": [
    "#example\n",
    "#sentence = \"Sorry, I don't know how to fix this error.\"\n",
    "#tokens = word_tokenize(sentence)\n",
    "#print(tokens)"
   ]
  },
  {
   "cell_type": "code",
   "execution_count": 262,
   "metadata": {
    "scrolled": true
   },
   "outputs": [],
   "source": [
    " #tokens_pos = pos_tag(tokens) \n",
    " #tokens_pos   \n",
    " "
   ]
  },
  {
   "cell_type": "markdown",
   "metadata": {},
   "source": [
    "We notice that each word in the sentence is classified based on the part of speech it belongs to."
   ]
  },
  {
   "cell_type": "markdown",
   "metadata": {},
   "source": [
    "We will lemmatize each word(token) in the list of pos,by using WordNetLemmatizer."
   ]
  },
  {
   "cell_type": "code",
   "execution_count": 263,
   "metadata": {},
   "outputs": [],
   "source": [
    "lmtzr = WordNetLemmatizer()"
   ]
  },
  {
   "cell_type": "code",
   "execution_count": 264,
   "metadata": {
    "scrolled": true
   },
   "outputs": [],
   "source": [
    "#lem_token=[lmtzr.lemmatize(token) for token in tokens_pos]\n",
    "#lem_token"
   ]
  },
  {
   "cell_type": "markdown",
   "metadata": {},
   "source": [
    "Create a function to lemmatize each word in pos list."
   ]
  },
  {
   "cell_type": "code",
   "execution_count": 265,
   "metadata": {},
   "outputs": [],
   "source": [
    "def token_lemmatize(document):\n",
    "    \"\"\"\n",
    "    Given a text and return a tokenized and lemmatize words for each word in pos \"\"\"\n",
    " \n",
    "    tokens =word_tokenize(document)\n",
    "    tokens =[token for token in tokens if token not in s_w ]\n",
    "    lem=[lmtzr.lemmatize(token) for token in tokens]\n",
    "    tokens_pos =[pos_tag(lem)]\n",
    "    return[token for token in tokens_pos[0]]\n",
    "    \n",
    "   "
   ]
  },
  {
   "cell_type": "markdown",
   "metadata": {},
   "source": [
    "We have to convert the words into vectors after removing the stopwords and lemmatizing the words in pos list to create the fifth model."
   ]
  },
  {
   "cell_type": "code",
   "execution_count": 266,
   "metadata": {
    "scrolled": true
   },
   "outputs": [
    {
     "data": {
      "text/plain": [
       "[('apple', 'NN'),\n",
       " ('opening', 'VBG'),\n",
       " ('pop', 'NN'),\n",
       " ('store', 'NN'),\n",
       " ('downtown', 'NN'),\n",
       " ('austin', 'NN'),\n",
       " ('ipad', 'NN'),\n",
       " ('launch', 'NN')]"
      ]
     },
     "execution_count": 266,
     "metadata": {},
     "output_type": "execute_result"
    }
   ],
   "source": [
    "token_lemmatize(X_train.iloc[100][\"tweet_text\"])"
   ]
  },
  {
   "cell_type": "code",
   "execution_count": 267,
   "metadata": {},
   "outputs": [
    {
     "data": {
      "text/plain": [
       "[[('i', 'NN')],\n",
       " [('m', 'NN'), ('e', 'NN')],\n",
       " [('m', 'NN'), ('y', 'NN')],\n",
       " [('m', 'NN'),\n",
       "  ('y', 'NN'),\n",
       "  ('s', 'NN'),\n",
       "  ('e', 'NN'),\n",
       "  ('l', 'NN'),\n",
       "  ('f', 'NN')],\n",
       " [('w', 'NN'), ('e', 'NN')],\n",
       " [('o', 'NN'), ('u', 'JJ'), ('r', 'NN')],\n",
       " [('o', 'NN'), ('u', 'JJ'), ('r', 'NN'), ('s', 'NN')],\n",
       " [('o', 'NN'),\n",
       "  ('u', 'JJ'),\n",
       "  ('r', 'NN'),\n",
       "  ('s', 'NN'),\n",
       "  ('e', 'NN'),\n",
       "  ('l', 'NN'),\n",
       "  ('v', 'NN'),\n",
       "  ('e', 'NN'),\n",
       "  ('s', 'NN')],\n",
       " [('y', 'NN'), ('o', 'NN'), ('u', 'NN')],\n",
       " [('y', 'NN'),\n",
       "  ('o', 'MD'),\n",
       "  ('u', 'VB'),\n",
       "  (\"'\", 'POS'),\n",
       "  ('r', 'NN'),\n",
       "  ('e', 'NN')],\n",
       " [('y', 'NN'),\n",
       "  ('o', 'MD'),\n",
       "  ('u', 'VB'),\n",
       "  (\"'\", 'POS'),\n",
       "  ('v', 'NNS'),\n",
       "  ('e', 'VBP')],\n",
       " [('y', 'NN'),\n",
       "  ('o', 'MD'),\n",
       "  ('u', 'VB'),\n",
       "  (\"'\", 'POS'),\n",
       "  ('l', 'NN'),\n",
       "  ('l', 'NN')],\n",
       " [('y', 'NN'), ('o', 'MD'), ('u', 'VB'), (\"'\", 'POS'), ('d', 'NN')],\n",
       " [('y', 'NN'), ('o', 'NN'), ('u', 'JJ'), ('r', 'NN')],\n",
       " [('y', 'NN'), ('o', 'NN'), ('u', 'JJ'), ('r', 'NN'), ('s', 'NN')],\n",
       " [('y', 'NN'),\n",
       "  ('o', 'NN'),\n",
       "  ('u', 'JJ'),\n",
       "  ('r', 'NN'),\n",
       "  ('s', 'NN'),\n",
       "  ('e', 'NN'),\n",
       "  ('l', 'NN'),\n",
       "  ('f', 'NN')],\n",
       " [('y', 'NN'),\n",
       "  ('o', 'NN'),\n",
       "  ('u', 'JJ'),\n",
       "  ('r', 'NN'),\n",
       "  ('s', 'NN'),\n",
       "  ('e', 'NN'),\n",
       "  ('l', 'NN'),\n",
       "  ('v', 'NN'),\n",
       "  ('e', 'NN'),\n",
       "  ('s', 'NN')],\n",
       " [('h', 'NN'), ('e', 'NN')],\n",
       " [('h', 'NN'), ('i', 'NN'), ('m', 'VBP')],\n",
       " [('h', 'NN'), ('i', 'NN'), ('s', 'VBP')],\n",
       " [('h', 'NN'),\n",
       "  ('i', 'JJ'),\n",
       "  ('m', 'VBP'),\n",
       "  ('s', 'JJ'),\n",
       "  ('e', 'NN'),\n",
       "  ('l', 'NN'),\n",
       "  ('f', 'NN')],\n",
       " [('s', 'NN'), ('h', 'NN'), ('e', 'NN')],\n",
       " [('s', 'NN'), ('h', 'NN'), ('e', 'NN'), (\"'\", 'POS'), ('s', 'NN')],\n",
       " [('h', 'NN'), ('e', 'NN'), ('r', 'NN')],\n",
       " [('h', 'NN'), ('e', 'NN'), ('r', 'NN'), ('s', 'NN')],\n",
       " [('h', 'NN'),\n",
       "  ('e', 'NN'),\n",
       "  ('r', 'NN'),\n",
       "  ('s', 'NN'),\n",
       "  ('e', 'NN'),\n",
       "  ('l', 'NN'),\n",
       "  ('f', 'NN')],\n",
       " [('i', 'NN'), ('t', 'NN')],\n",
       " [('i', 'JJ'), ('t', 'NN'), (\"'\", 'POS'), ('s', 'NN')],\n",
       " [('i', 'NN'), ('t', 'VBP'), ('s', 'NN')],\n",
       " [('i', 'NN'),\n",
       "  ('t', 'VBP'),\n",
       "  ('s', 'NN'),\n",
       "  ('e', 'NN'),\n",
       "  ('l', 'NN'),\n",
       "  ('f', 'NN')],\n",
       " [('t', 'NN'), ('h', 'NN'), ('e', 'NN'), ('y', 'NN')],\n",
       " [('t', 'NN'), ('h', 'NN'), ('e', 'NN'), ('m', 'NN')],\n",
       " [('t', 'NN'), ('h', 'NN'), ('e', 'NN'), ('i', 'NN'), ('r', 'NN')],\n",
       " [('t', 'NN'),\n",
       "  ('h', 'NN'),\n",
       "  ('e', 'NN'),\n",
       "  ('i', 'NN'),\n",
       "  ('r', 'VBP'),\n",
       "  ('s', 'NN')],\n",
       " [('t', 'NN'),\n",
       "  ('h', 'NN'),\n",
       "  ('e', 'NN'),\n",
       "  ('m', 'NN'),\n",
       "  ('s', 'NN'),\n",
       "  ('e', 'NN'),\n",
       "  ('l', 'NN'),\n",
       "  ('v', 'NN'),\n",
       "  ('e', 'NN'),\n",
       "  ('s', 'NN')],\n",
       " [('w', 'NN'), ('h', 'VBZ'), ('a', 'DT'), ('t', 'NN')],\n",
       " [('w', 'NN'), ('h', 'NN'), ('i', 'JJ'), ('c', 'VBP'), ('h', 'NN')],\n",
       " [('w', 'NN'), ('h', 'NN'), ('o', 'NN')],\n",
       " [('w', 'NN'), ('h', 'NN'), ('o', 'NN'), ('m', 'NN')],\n",
       " [('t', 'NN'), ('h', 'NN'), ('i', 'NN'), ('s', 'VBP')],\n",
       " [('t', 'NN'), ('h', 'VBZ'), ('a', 'DT'), ('t', 'NN')],\n",
       " [('t', 'NN'),\n",
       "  ('h', 'VBZ'),\n",
       "  ('a', 'DT'),\n",
       "  ('t', 'NN'),\n",
       "  (\"'\", 'POS'),\n",
       "  ('l', 'NN'),\n",
       "  ('l', 'NN')],\n",
       " [('t', 'NN'), ('h', 'NN'), ('e', 'NN'), ('s', 'NN'), ('e', 'NN')],\n",
       " [('t', 'NN'), ('h', 'NN'), ('o', 'JJ'), ('s', 'NN'), ('e', 'NN')],\n",
       " [('a', 'DT'), ('m', 'NN')],\n",
       " [('i', 'NN'), ('s', 'VBP')],\n",
       " [('a', 'DT'), ('r', 'NN'), ('e', 'NN')],\n",
       " [('w', 'VB'), ('a', 'DT'), ('s', 'NN')],\n",
       " [('w', 'NN'), ('e', 'NN'), ('r', 'NN'), ('e', 'NN')],\n",
       " [('b', 'NN'), ('e', 'NN')],\n",
       " [('b', 'NN'), ('e', 'NN'), ('e', 'NN'), ('n', 'NN')],\n",
       " [('b', 'NN'), ('e', 'NN'), ('i', 'NN'), ('n', 'VBP'), ('g', 'NN')],\n",
       " [('h', 'VB'), ('a', 'DT'), ('v', 'NN'), ('e', 'NN')],\n",
       " [('h', 'VB'), ('a', 'DT'), ('s', 'NN')],\n",
       " [('h', 'VB'), ('a', 'DT'), ('d', 'NN')],\n",
       " [('h', 'VB'),\n",
       "  ('a', 'DT'),\n",
       "  ('v', 'NN'),\n",
       "  ('i', 'NN'),\n",
       "  ('n', 'VBP'),\n",
       "  ('g', 'NN')],\n",
       " [('d', 'NN'), ('o', 'NN')],\n",
       " [('d', 'NN'), ('o', 'MD'), ('e', 'VB'), ('s', 'NN')],\n",
       " [('d', 'NN'), ('i', 'NN'), ('d', 'VBP')],\n",
       " [('d', 'NN'), ('o', 'NN'), ('i', 'NN'), ('n', 'VBP'), ('g', 'NN')],\n",
       " [('a', 'DT')],\n",
       " [('a', 'DT'), ('n', 'NN')],\n",
       " [('t', 'NN'), ('h', 'NN'), ('e', 'NN')],\n",
       " [('a', 'DT'), ('n', 'JJ'), ('d', 'NN')],\n",
       " [('b', 'NN'), ('u', 'NN'), ('t', 'NN')],\n",
       " [('i', 'NN'), ('f', 'VBP')],\n",
       " [('o', 'NN'), ('r', 'NN')],\n",
       " [('b', 'NN'),\n",
       "  ('e', 'NN'),\n",
       "  ('c', 'VBZ'),\n",
       "  ('a', 'DT'),\n",
       "  ('u', 'JJ'),\n",
       "  ('s', 'NN'),\n",
       "  ('e', 'NN')],\n",
       " [('a', 'DT'), ('s', 'NN')],\n",
       " [('u', 'JJ'), ('n', 'JJ'), ('t', 'NN'), ('i', 'NN'), ('l', 'NN')],\n",
       " [('w', 'NN'), ('h', 'NN'), ('i', 'JJ'), ('l', 'NN'), ('e', 'NN')],\n",
       " [('o', 'NN'), ('f', 'NN')],\n",
       " [('a', 'DT'), ('t', 'NN')],\n",
       " [('b', 'NN'), ('y', 'NN')],\n",
       " [('f', 'NN'), ('o', 'NN'), ('r', 'NN')],\n",
       " [('w', 'NN'), ('i', 'NN'), ('t', 'VBP'), ('h', 'NN')],\n",
       " [('a', 'DT'), ('b', 'NN'), ('o', 'NN'), ('u', 'JJ'), ('t', 'NN')],\n",
       " [('a', 'DT'),\n",
       "  ('g', 'NN'),\n",
       "  ('a', 'DT'),\n",
       "  ('i', 'NN'),\n",
       "  ('n', 'MD'),\n",
       "  ('s', 'VB'),\n",
       "  ('t', 'NN')],\n",
       " [('b', 'NN'),\n",
       "  ('e', 'NN'),\n",
       "  ('t', 'NN'),\n",
       "  ('w', 'NN'),\n",
       "  ('e', 'NN'),\n",
       "  ('e', 'NN'),\n",
       "  ('n', 'NN')],\n",
       " [('i', 'NN'), ('n', 'VBP'), ('t', 'NN'), ('o', 'NN')],\n",
       " [('t', 'NN'),\n",
       "  ('h', 'NN'),\n",
       "  ('r', 'NN'),\n",
       "  ('o', 'NN'),\n",
       "  ('u', 'JJ'),\n",
       "  ('g', 'NN'),\n",
       "  ('h', 'NN')],\n",
       " [('d', 'NN'),\n",
       "  ('u', 'JJ'),\n",
       "  ('r', 'NN'),\n",
       "  ('i', 'NN'),\n",
       "  ('n', 'VBP'),\n",
       "  ('g', 'NN')],\n",
       " [('b', 'NN'),\n",
       "  ('e', 'NN'),\n",
       "  ('f', 'NN'),\n",
       "  ('o', 'NN'),\n",
       "  ('r', 'NN'),\n",
       "  ('e', 'NN')],\n",
       " [('a', 'DT'), ('f', 'JJ'), ('t', 'NN'), ('e', 'NN'), ('r', 'NN')],\n",
       " [('a', 'DT'), ('b', 'NN'), ('o', 'NN'), ('v', 'NN'), ('e', 'NN')],\n",
       " [('b', 'NN'), ('e', 'NN'), ('l', 'NN'), ('o', 'NN'), ('w', 'NN')],\n",
       " [('t', 'NN'), ('o', 'NN')],\n",
       " [('f', 'JJ'), ('r', 'NN'), ('o', 'NN'), ('m', 'NN')],\n",
       " [('u', 'JJ'), ('p', 'NN')],\n",
       " [('d', 'NN'), ('o', 'MD'), ('w', 'VB'), ('n', 'NN')],\n",
       " [('i', 'NN'), ('n', 'VBP')],\n",
       " [('o', 'JJ'), ('u', 'JJ'), ('t', 'NN')],\n",
       " [('o', 'NN'), ('n', 'NN')],\n",
       " [('o', 'JJ'), ('f', 'NN'), ('f', 'NN')],\n",
       " [('o', 'JJ'), ('v', 'NN'), ('e', 'NN'), ('r', 'NN')],\n",
       " [('u', 'JJ'), ('n', 'JJ'), ('d', 'NN'), ('e', 'NN'), ('r', 'NN')],\n",
       " [('a', 'DT'), ('g', 'NN'), ('a', 'DT'), ('i', 'NN'), ('n', 'NN')],\n",
       " [('f', 'NN'),\n",
       "  ('u', 'JJ'),\n",
       "  ('r', 'NN'),\n",
       "  ('t', 'NN'),\n",
       "  ('h', 'NN'),\n",
       "  ('e', 'NN'),\n",
       "  ('r', 'NN')],\n",
       " [('t', 'NN'), ('h', 'NN'), ('e', 'NN'), ('n', 'NN')],\n",
       " [('o', 'JJ'), ('n', 'JJ'), ('c', 'NN'), ('e', 'NN')],\n",
       " [('h', 'NN'), ('e', 'NN'), ('r', 'NN'), ('e', 'NN')],\n",
       " [('t', 'NN'), ('h', 'NN'), ('e', 'NN'), ('r', 'NN'), ('e', 'NN')],\n",
       " [('w', 'NN'), ('h', 'NN'), ('e', 'NN'), ('n', 'NN')],\n",
       " [('w', 'NN'), ('h', 'NN'), ('e', 'NN'), ('r', 'NN'), ('e', 'NN')],\n",
       " [('w', 'NN'), ('h', 'NN'), ('y', 'NN')],\n",
       " [('h', 'NN'), ('o', 'NN'), ('w', 'NN')],\n",
       " [('a', 'DT'), ('l', 'NN'), ('l', 'NN')],\n",
       " [('a', 'DT'), ('n', 'JJ'), ('y', 'NN')],\n",
       " [('b', 'NN'), ('o', 'NN'), ('t', 'NN'), ('h', 'NN')],\n",
       " [('e', 'VB'), ('a', 'DT'), ('c', 'NN'), ('h', 'NN')],\n",
       " [('f', 'JJ'), ('e', 'NN'), ('w', 'NN')],\n",
       " [('m', 'NN'), ('o', 'MD'), ('r', 'VB'), ('e', 'NN')],\n",
       " [('m', 'NN'), ('o', 'MD'), ('s', 'VB'), ('t', 'NN')],\n",
       " [('o', 'JJ'), ('t', 'NN'), ('h', 'NN'), ('e', 'NN'), ('r', 'NN')],\n",
       " [('s', 'NN'), ('o', 'MD'), ('m', 'VB'), ('e', 'NN')],\n",
       " [('s', 'NN'), ('u', 'JJ'), ('c', 'NN'), ('h', 'NN')],\n",
       " [('n', 'NNS'), ('o', 'VBP')],\n",
       " [('n', 'RB'), ('o', 'JJ'), ('r', 'NN')],\n",
       " [('n', 'JJ'), ('o', 'NN'), ('t', 'NN')],\n",
       " [('o', 'JJ'), ('n', 'JJ'), ('l', 'NN'), ('y', 'NN')],\n",
       " [('o', 'JJ'), ('w', 'NN'), ('n', 'NN')],\n",
       " [('s', 'VB'), ('a', 'DT'), ('m', 'NN'), ('e', 'NN')],\n",
       " [('s', 'NN'), ('o', 'NN')],\n",
       " [('t', 'NN'), ('h', 'VBZ'), ('a', 'DT'), ('n', 'NN')],\n",
       " [('t', 'NN'), ('o', 'NN'), ('o', 'NN')],\n",
       " [('v', 'NN'), ('e', 'NN'), ('r', 'NN'), ('y', 'NN')],\n",
       " [('s', 'NN')],\n",
       " [('t', 'NN')],\n",
       " [('c', 'VB'), ('a', 'DT'), ('n', 'NN')],\n",
       " [('w', 'NN'), ('i', 'NN'), ('l', 'VBP'), ('l', 'NN')],\n",
       " [('j', 'NN'), ('u', 'JJ'), ('s', 'NN'), ('t', 'NN')],\n",
       " [('d', 'NN'), ('o', 'NN'), ('n', 'NN')],\n",
       " [('d', 'NN'), ('o', 'MD'), ('n', 'VB'), (\"'\", 'POS'), ('t', 'NN')],\n",
       " [('s', 'NN'),\n",
       "  ('h', 'NN'),\n",
       "  ('o', 'JJ'),\n",
       "  ('u', 'JJ'),\n",
       "  ('l', 'NN'),\n",
       "  ('d', 'NN')],\n",
       " [('s', 'NN'),\n",
       "  ('h', 'NN'),\n",
       "  ('o', 'JJ'),\n",
       "  ('u', 'JJ'),\n",
       "  ('l', 'NN'),\n",
       "  ('d', 'NN'),\n",
       "  (\"'\", \"''\"),\n",
       "  ('v', 'NNS'),\n",
       "  ('e', 'VBP')],\n",
       " [('n', 'JJ'), ('o', 'NN'), ('w', 'NN')],\n",
       " [('d', 'NN')],\n",
       " [('l', 'NN'), ('l', 'NN')],\n",
       " [('m', 'NN')],\n",
       " [('o', 'NN')],\n",
       " [('r', 'NN'), ('e', 'NN')],\n",
       " [('v', 'NN'), ('e', 'NN')],\n",
       " [('y', 'NN')],\n",
       " [('a', 'DT'), ('i', 'NN'), ('n', 'NN')],\n",
       " [('a', 'DT'), ('r', 'NN'), ('e', 'NN'), ('n', 'NN')],\n",
       " [('a', 'DT'),\n",
       "  ('r', 'NN'),\n",
       "  ('e', 'NN'),\n",
       "  ('n', 'NN'),\n",
       "  (\"'\", 'POS'),\n",
       "  ('t', 'NN')],\n",
       " [('c', 'NNS'),\n",
       "  ('o', 'VBP'),\n",
       "  ('u', 'JJ'),\n",
       "  ('l', 'NN'),\n",
       "  ('d', 'NN'),\n",
       "  ('n', 'NN')],\n",
       " [('c', 'NNS'),\n",
       "  ('o', 'VBP'),\n",
       "  ('u', 'JJ'),\n",
       "  ('l', 'NN'),\n",
       "  ('d', 'NN'),\n",
       "  ('n', 'NN'),\n",
       "  (\"'\", 'POS'),\n",
       "  ('t', 'NN')],\n",
       " [('d', 'NN'), ('i', 'NN'), ('d', 'VBP'), ('n', 'NN')],\n",
       " [('d', 'NN'),\n",
       "  ('i', 'NN'),\n",
       "  ('d', 'VBP'),\n",
       "  ('n', 'NN'),\n",
       "  (\"'\", \"''\"),\n",
       "  ('t', 'NN')],\n",
       " [('d', 'NN'), ('o', 'MD'), ('e', 'VB'), ('s', 'JJ'), ('n', 'NN')],\n",
       " [('d', 'NN'),\n",
       "  ('o', 'MD'),\n",
       "  ('e', 'VB'),\n",
       "  ('s', 'JJ'),\n",
       "  ('n', 'NN'),\n",
       "  (\"'\", 'POS'),\n",
       "  ('t', 'NN')],\n",
       " [('h', 'VB'), ('a', 'DT'), ('d', 'NN'), ('n', 'NN')],\n",
       " [('h', 'VB'),\n",
       "  ('a', 'DT'),\n",
       "  ('d', 'NN'),\n",
       "  ('n', 'NN'),\n",
       "  (\"'\", 'POS'),\n",
       "  ('t', 'NN')],\n",
       " [('h', 'VB'), ('a', 'DT'), ('s', 'NN'), ('n', 'NN')],\n",
       " [('h', 'VB'),\n",
       "  ('a', 'DT'),\n",
       "  ('s', 'JJ'),\n",
       "  ('n', 'NN'),\n",
       "  (\"'\", 'POS'),\n",
       "  ('t', 'NN')],\n",
       " [('h', 'VB'), ('a', 'DT'), ('v', 'NN'), ('e', 'NN'), ('n', 'NN')],\n",
       " [('h', 'VB'),\n",
       "  ('a', 'DT'),\n",
       "  ('v', 'NN'),\n",
       "  ('e', 'NN'),\n",
       "  ('n', 'NN'),\n",
       "  (\"'\", 'POS'),\n",
       "  ('t', 'NN')],\n",
       " [('i', 'NN'), ('s', 'VBP'), ('n', 'NN')],\n",
       " [('i', 'NN'), ('s', 'VBP'), ('n', 'NN'), (\"'\", \"''\"), ('t', 'NN')],\n",
       " [('m', 'NN'), ('a', 'DT')],\n",
       " [('m', 'NN'),\n",
       "  ('i', 'NN'),\n",
       "  ('g', 'VBP'),\n",
       "  ('h', 'NN'),\n",
       "  ('t', 'NN'),\n",
       "  ('n', 'NN')],\n",
       " [('m', 'NN'),\n",
       "  ('i', 'NN'),\n",
       "  ('g', 'VBP'),\n",
       "  ('h', 'NN'),\n",
       "  ('t', 'NN'),\n",
       "  ('n', 'NN'),\n",
       "  (\"'\", 'POS'),\n",
       "  ('t', 'NN')],\n",
       " [('m', 'NN'), ('u', 'JJ'), ('s', 'NN'), ('t', 'NN'), ('n', 'NN')],\n",
       " [('m', 'NN'),\n",
       "  ('u', 'JJ'),\n",
       "  ('s', 'NN'),\n",
       "  ('t', 'NN'),\n",
       "  ('n', 'NN'),\n",
       "  (\"'\", 'POS'),\n",
       "  ('t', 'NN')],\n",
       " [('n', 'JJ'), ('e', 'NN'), ('e', 'NN'), ('d', 'NN'), ('n', 'NN')],\n",
       " [('n', 'JJ'),\n",
       "  ('e', 'NN'),\n",
       "  ('e', 'NN'),\n",
       "  ('d', 'NN'),\n",
       "  ('n', 'NN'),\n",
       "  (\"'\", 'POS'),\n",
       "  ('t', 'NN')],\n",
       " [('s', 'NN'), ('h', 'VBZ'), ('a', 'DT'), ('n', 'NN')],\n",
       " [('s', 'NN'),\n",
       "  ('h', 'VBZ'),\n",
       "  ('a', 'DT'),\n",
       "  ('n', 'NN'),\n",
       "  (\"'\", 'POS'),\n",
       "  ('t', 'NN')],\n",
       " [('s', 'NN'),\n",
       "  ('h', 'NN'),\n",
       "  ('o', 'JJ'),\n",
       "  ('u', 'JJ'),\n",
       "  ('l', 'NN'),\n",
       "  ('d', 'NN'),\n",
       "  ('n', 'NN')],\n",
       " [('s', 'NN'),\n",
       "  ('h', 'NN'),\n",
       "  ('o', 'JJ'),\n",
       "  ('u', 'JJ'),\n",
       "  ('l', 'NN'),\n",
       "  ('d', 'NN'),\n",
       "  ('n', 'NN'),\n",
       "  (\"'\", 'POS'),\n",
       "  ('t', 'NN')],\n",
       " [('w', 'VB'), ('a', 'DT'), ('s', 'NN'), ('n', 'NN')],\n",
       " [('w', 'VB'),\n",
       "  ('a', 'DT'),\n",
       "  ('s', 'JJ'),\n",
       "  ('n', 'NN'),\n",
       "  (\"'\", 'POS'),\n",
       "  ('t', 'NN')],\n",
       " [('w', 'NN'), ('e', 'NN'), ('r', 'NN'), ('e', 'NN'), ('n', 'NN')],\n",
       " [('w', 'NN'),\n",
       "  ('e', 'NN'),\n",
       "  ('r', 'NN'),\n",
       "  ('e', 'NN'),\n",
       "  ('n', 'NN'),\n",
       "  (\"'\", 'POS'),\n",
       "  ('t', 'NN')],\n",
       " [('w', 'NN'), ('o', 'NN'), ('n', 'NN')],\n",
       " [('w', 'NN'), ('o', 'MD'), ('n', 'VB'), (\"'\", 'POS'), ('t', 'NN')],\n",
       " [('w', 'NN'),\n",
       "  ('o', 'MD'),\n",
       "  ('u', 'VB'),\n",
       "  ('l', 'NN'),\n",
       "  ('d', 'NN'),\n",
       "  ('n', 'NN')],\n",
       " [('w', 'NN'),\n",
       "  ('o', 'MD'),\n",
       "  ('u', 'VB'),\n",
       "  ('l', 'NN'),\n",
       "  ('d', 'NN'),\n",
       "  ('n', 'NN'),\n",
       "  (\"'\", 'POS'),\n",
       "  ('t', 'NN')],\n",
       " [('!', '.')],\n",
       " [('\"', 'NN')],\n",
       " [('#', '#')],\n",
       " [('$', '$')],\n",
       " [('%', 'NN')],\n",
       " [('&', 'CC')],\n",
       " [(\"'\", \"''\")],\n",
       " [('(', '(')],\n",
       " [(')', ')')],\n",
       " [('*', 'NN')],\n",
       " [('+', 'NN')],\n",
       " [(',', ',')],\n",
       " [('-', ':')],\n",
       " [('.', '.')],\n",
       " [('/', 'NN')],\n",
       " [(':', ':')],\n",
       " [(';', ':')],\n",
       " [('<', 'NN')],\n",
       " [('=', 'NN')],\n",
       " [('>', 'NN')],\n",
       " [('?', '.')],\n",
       " [('@', 'NN')],\n",
       " [('[', 'NN')],\n",
       " [('\\\\', 'NN')],\n",
       " [(']', 'NN')],\n",
       " [('^', 'NN')],\n",
       " [('_', 'NN')],\n",
       " [('`', '``')],\n",
       " [('{', '(')],\n",
       " [('|', 'NN')],\n",
       " [('}', ')')],\n",
       " [('~', 'NN')],\n",
       " [('0', 'CD')],\n",
       " [('1', 'CD')],\n",
       " [('2', 'CD')],\n",
       " [('3', 'CD')],\n",
       " [('4', 'CD')],\n",
       " [('5', 'CD')],\n",
       " [('6', 'CD')],\n",
       " [('7', 'CD')],\n",
       " [('8', 'CD')],\n",
       " [('9', 'CD')],\n",
       " [('s', 'NN'), ('x', 'NNP'), ('s', 'NN'), ('w', 'NN')],\n",
       " [('m', 'NN'),\n",
       "  ('e', 'NN'),\n",
       "  ('n', 'IN'),\n",
       "  ('t', 'NN'),\n",
       "  ('i', 'NN'),\n",
       "  ('o', 'VBP'),\n",
       "  ('n', 'NN')],\n",
       " [('l', 'NN'), ('i', 'NN'), ('n', 'VBP'), ('k', 'NN')],\n",
       " [('r', 'NN'), ('t', 'NN')],\n",
       " [('“', 'NN')],\n",
       " [('”', 'NN')],\n",
       " [('.', '.'), ('.', '.'), ('.', '.')],\n",
       " [(\"'\", 'POS'), (\"'\", \"''\")],\n",
       " [('’', 'NN')],\n",
       " [('`', '``'), ('`', '``')],\n",
       " [],\n",
       " [(' ', 'NN'), (' ', 'NN')]]"
      ]
     },
     "execution_count": 267,
     "metadata": {},
     "output_type": "execute_result"
    }
   ],
   "source": [
    "pos_stopwords = [pos_tag(word) for word in s_w]\n",
    "pos_stopwords"
   ]
  },
  {
   "cell_type": "code",
   "execution_count": 268,
   "metadata": {},
   "outputs": [
    {
     "data": {
      "text/html": [
       "<div>\n",
       "<style scoped>\n",
       "    .dataframe tbody tr th:only-of-type {\n",
       "        vertical-align: middle;\n",
       "    }\n",
       "\n",
       "    .dataframe tbody tr th {\n",
       "        vertical-align: top;\n",
       "    }\n",
       "\n",
       "    .dataframe thead th {\n",
       "        text-align: right;\n",
       "    }\n",
       "</style>\n",
       "<table border=\"1\" class=\"dataframe\">\n",
       "  <thead>\n",
       "    <tr style=\"text-align: right;\">\n",
       "      <th></th>\n",
       "      <th>tweet_text</th>\n",
       "      <th>text_tokenized</th>\n",
       "      <th>text_without_stopwords</th>\n",
       "      <th>text_steemed</th>\n",
       "      <th>text_lemmatized</th>\n",
       "      <th>text_pos</th>\n",
       "    </tr>\n",
       "  </thead>\n",
       "  <tbody>\n",
       "    <tr>\n",
       "      <th>6204</th>\n",
       "      <td>rt @mention just bumped into @mention here in austin for sxswi and accelerater  {link}  #tech #sxsw</td>\n",
       "      <td>[rt, mention, just, bumped, into, mention, here, in, austin, for, sxswi, and, accelerater, link, tech, sxsw]</td>\n",
       "      <td>[bumped, austin, sxswi, accelerater, tech]</td>\n",
       "      <td>[bump, austin, sxswi, accelerat, tech]</td>\n",
       "      <td>[bumped, austin, sxswi, accelerater, tech]</td>\n",
       "      <td>[(bumped, VBN), (austin, NN), (sxswi, NN), (accelerater, NN), (tech, NN)]</td>\n",
       "    </tr>\n",
       "    <tr>\n",
       "      <th>8056</th>\n",
       "      <td>come see something new about google sketchup pro at #sxsw {link} via @mention google sketchup blog</td>\n",
       "      <td>[come, see, something, new, about, google, sketchup, pro, at, sxsw, link, via, mention, google, sketchup, blog]</td>\n",
       "      <td>[come, see, something, new, google, sketchup, pro, via, google, sketchup, blog]</td>\n",
       "      <td>[come, see, someth, new, googl, sketchup, pro, via, googl, sketchup, blog]</td>\n",
       "      <td>[come, see, something, new, google, sketchup, pro, via, google, sketchup, blog]</td>\n",
       "      <td>[(come, VB), (see, VBP), (something, NN), (new, JJ), (google, NN), (sketchup, JJ), (pro, JJ), (via, IN), (google, NN), (sketchup, NN), (blog, NN)]</td>\n",
       "    </tr>\n",
       "    <tr>\n",
       "      <th>4184</th>\n",
       "      <td>google will connect the digital  physical worlds through mobile {link} #sxsw #mobile #mcommerce</td>\n",
       "      <td>[google, will, connect, the, digital, physical, worlds, through, mobile, link, sxsw, mobile, mcommerce]</td>\n",
       "      <td>[google, connect, digital, physical, worlds, mobile, mobile, mcommerce]</td>\n",
       "      <td>[googl, connect, digit, physic, world, mobil, mobil, mcommerc]</td>\n",
       "      <td>[google, connect, digital, physical, world, mobile, mobile, mcommerce]</td>\n",
       "      <td>[(google, NN), (connect, NN), (digital, JJ), (physical, JJ), (world, NN), (mobile, NN), (mobile, JJ), (mcommerce, NN)]</td>\n",
       "    </tr>\n",
       "    <tr>\n",
       "      <th>8952</th>\n",
       "      <td>{link} #sxsw google going social again?</td>\n",
       "      <td>[link, sxsw, google, going, social, again]</td>\n",
       "      <td>[google, going, social]</td>\n",
       "      <td>[googl, go, social]</td>\n",
       "      <td>[google, going, social]</td>\n",
       "      <td>[(google, NN), (going, VBG), (social, JJ)]</td>\n",
       "    </tr>\n",
       "    <tr>\n",
       "      <th>1928</th>\n",
       "      <td>5 essential business #collaboration apps for #ipad {link} #bpm #sxsw #sxswi</td>\n",
       "      <td>[essential, business, collaboration, apps, for, ipad, link, bpm, sxsw, sxswi]</td>\n",
       "      <td>[essential, business, collaboration, apps, ipad, bpm, sxswi]</td>\n",
       "      <td>[essenti, busi, collabor, app, ipad, bpm, sxswi]</td>\n",
       "      <td>[essential, business, collaboration, apps, ipad, bpm, sxswi]</td>\n",
       "      <td>[(essential, JJ), (business, NN), (collaboration, NN), (apps, NN), (ipad, NN), (bpm, NN), (sxswi, NN)]</td>\n",
       "    </tr>\n",
       "    <tr>\n",
       "      <th>...</th>\n",
       "      <td>...</td>\n",
       "      <td>...</td>\n",
       "      <td>...</td>\n",
       "      <td>...</td>\n",
       "      <td>...</td>\n",
       "      <td>...</td>\n",
       "    </tr>\n",
       "    <tr>\n",
       "      <th>6280</th>\n",
       "      <td>rt @mention love it. @mention at #sxsw: apple comes up with cool technology no one's ever heard of because they don't go to conferences</td>\n",
       "      <td>[rt, mention, love, it, mention, at, sxsw, apple, comes, up, with, cool, technology, no, one's, ever, heard, of, because, they, don't, go, to, conferences]</td>\n",
       "      <td>[love, apple, comes, cool, technology, one's, ever, heard, go, conferences]</td>\n",
       "      <td>[love, appl, come, cool, technolog, one, ever, heard, go, confer]</td>\n",
       "      <td>[love, apple, come, cool, technology, one's, ever, heard, go, conference]</td>\n",
       "      <td>[(love, NN), (apple, NN), (come, VBP), (cool, JJ), (technology, NN), (one, CD), ('s, POS), (ever, RB), (heard, VBP), (n't, RB), (go, VB), (conference, NN)]</td>\n",
       "    </tr>\n",
       "    <tr>\n",
       "      <th>5692</th>\n",
       "      <td>rt @mention driving around austin on google street view scoping out locations. from my desk. #sxsw</td>\n",
       "      <td>[rt, mention, driving, around, austin, on, google, street, view, scoping, out, locations, from, my, desk, sxsw]</td>\n",
       "      <td>[driving, around, austin, google, street, view, scoping, locations, desk]</td>\n",
       "      <td>[drive, around, austin, googl, street, view, scope, locat, desk]</td>\n",
       "      <td>[driving, around, austin, google, street, view, scoping, location, desk]</td>\n",
       "      <td>[(driving, VBG), (around, RP), (austin, JJ), (google, JJ), (street, NN), (view, NN), (scoping, VBG), (location, NN), (desk, NN)]</td>\n",
       "    </tr>\n",
       "    <tr>\n",
       "      <th>5910</th>\n",
       "      <td>rt @mention google to launch major new social network called circles, possibly today by @mention {link} via @mention #sxsw #22sxsw</td>\n",
       "      <td>[rt, mention, google, to, launch, major, new, social, network, called, circles, possibly, today, by, mention, link, via, mention, sxsw, sxsw]</td>\n",
       "      <td>[google, launch, major, new, social, network, called, circles, possibly, today, via]</td>\n",
       "      <td>[googl, launch, major, new, social, network, call, circl, possibl, today, via]</td>\n",
       "      <td>[google, launch, major, new, social, network, called, circle, possibly, today, via]</td>\n",
       "      <td>[(google, NN), (launch, NN), (major, JJ), (new, JJ), (social, JJ), (network, NN), (called, VBN), (circle, NN), (possibly, RB), (today, NN), (via, IN), (22sxsw, CD)]</td>\n",
       "    </tr>\n",
       "    <tr>\n",
       "      <th>935</th>\n",
       "      <td>fear not! now extended through wed! -- rt @mention rt @mention last day for apple popup is sunday 3/13 #sxsw #appleatxdt</td>\n",
       "      <td>[fear, not, now, extended, through, wed, rt, mention, rt, mention, last, day, for, apple, popup, is, sunday, sxsw, appleatxdt]</td>\n",
       "      <td>[fear, extended, wed, last, day, apple, popup, sunday, appleatxdt]</td>\n",
       "      <td>[fear, extend, wed, last, day, appl, popup, sunday, appleatxdt]</td>\n",
       "      <td>[fear, extended, wed, last, day, apple, popup, sunday, appleatxdt]</td>\n",
       "      <td>[(fear, NN), (extended, VBD), (wed, VBN), (--, :), (last, JJ), (day, NN), (apple, NN), (popup, NN), (sunday, VBD), (3/13, CD), (appleatxdt, NN)]</td>\n",
       "    </tr>\n",
       "    <tr>\n",
       "      <th>7932</th>\n",
       "      <td>don't miss your chance to win rt @mention going to #sxsw? come by the #emc consulting booth for your chance to win an ipad 2! @mention</td>\n",
       "      <td>[don't, miss, your, chance, to, win, rt, mention, going, to, sxsw, come, by, the, emc, consulting, booth, for, your, chance, to, win, an, ipad, mention]</td>\n",
       "      <td>[miss, chance, win, going, come, emc, consulting, booth, chance, win, ipad]</td>\n",
       "      <td>[miss, chanc, win, go, come, emc, consult, booth, chanc, win, ipad]</td>\n",
       "      <td>[miss, chance, win, going, come, emc, consulting, booth, chance, win, ipad]</td>\n",
       "      <td>[(n't, RB), (miss, VB), (chance, NN), (win, NN), (going, VBG), (come, JJ), (emc, NN), (consulting, VBG), (booth, DT), (chance, NN), (win, NN), (ipad, NN)]</td>\n",
       "    </tr>\n",
       "  </tbody>\n",
       "</table>\n",
       "<p>6261 rows × 6 columns</p>\n",
       "</div>"
      ],
      "text/plain": [
       "                                                                                                                                   tweet_text  \\\n",
       "6204                                      rt @mention just bumped into @mention here in austin for sxswi and accelerater  {link}  #tech #sxsw   \n",
       "8056                                       come see something new about google sketchup pro at #sxsw {link} via @mention google sketchup blog   \n",
       "4184                                          google will connect the digital  physical worlds through mobile {link} #sxsw #mobile #mcommerce   \n",
       "8952                                                                                                  {link} #sxsw google going social again?   \n",
       "1928                                                              5 essential business #collaboration apps for #ipad {link} #bpm #sxsw #sxswi   \n",
       "...                                                                                                                                       ...   \n",
       "6280  rt @mention love it. @mention at #sxsw: apple comes up with cool technology no one's ever heard of because they don't go to conferences   \n",
       "5692                                       rt @mention driving around austin on google street view scoping out locations. from my desk. #sxsw   \n",
       "5910       rt @mention google to launch major new social network called circles, possibly today by @mention {link} via @mention #sxsw #22sxsw   \n",
       "935                  fear not! now extended through wed! -- rt @mention rt @mention last day for apple popup is sunday 3/13 #sxsw #appleatxdt   \n",
       "7932   don't miss your chance to win rt @mention going to #sxsw? come by the #emc consulting booth for your chance to win an ipad 2! @mention   \n",
       "\n",
       "                                                                                                                                                   text_tokenized  \\\n",
       "6204                                                 [rt, mention, just, bumped, into, mention, here, in, austin, for, sxswi, and, accelerater, link, tech, sxsw]   \n",
       "8056                                              [come, see, something, new, about, google, sketchup, pro, at, sxsw, link, via, mention, google, sketchup, blog]   \n",
       "4184                                                      [google, will, connect, the, digital, physical, worlds, through, mobile, link, sxsw, mobile, mcommerce]   \n",
       "8952                                                                                                                   [link, sxsw, google, going, social, again]   \n",
       "1928                                                                                [essential, business, collaboration, apps, for, ipad, link, bpm, sxsw, sxswi]   \n",
       "...                                                                                                                                                           ...   \n",
       "6280  [rt, mention, love, it, mention, at, sxsw, apple, comes, up, with, cool, technology, no, one's, ever, heard, of, because, they, don't, go, to, conferences]   \n",
       "5692                                              [rt, mention, driving, around, austin, on, google, street, view, scoping, out, locations, from, my, desk, sxsw]   \n",
       "5910                [rt, mention, google, to, launch, major, new, social, network, called, circles, possibly, today, by, mention, link, via, mention, sxsw, sxsw]   \n",
       "935                                [fear, not, now, extended, through, wed, rt, mention, rt, mention, last, day, for, apple, popup, is, sunday, sxsw, appleatxdt]   \n",
       "7932     [don't, miss, your, chance, to, win, rt, mention, going, to, sxsw, come, by, the, emc, consulting, booth, for, your, chance, to, win, an, ipad, mention]   \n",
       "\n",
       "                                                                    text_without_stopwords  \\\n",
       "6204                                            [bumped, austin, sxswi, accelerater, tech]   \n",
       "8056       [come, see, something, new, google, sketchup, pro, via, google, sketchup, blog]   \n",
       "4184               [google, connect, digital, physical, worlds, mobile, mobile, mcommerce]   \n",
       "8952                                                               [google, going, social]   \n",
       "1928                          [essential, business, collaboration, apps, ipad, bpm, sxswi]   \n",
       "...                                                                                    ...   \n",
       "6280           [love, apple, comes, cool, technology, one's, ever, heard, go, conferences]   \n",
       "5692             [driving, around, austin, google, street, view, scoping, locations, desk]   \n",
       "5910  [google, launch, major, new, social, network, called, circles, possibly, today, via]   \n",
       "935                     [fear, extended, wed, last, day, apple, popup, sunday, appleatxdt]   \n",
       "7932           [miss, chance, win, going, come, emc, consulting, booth, chance, win, ipad]   \n",
       "\n",
       "                                                                        text_steemed  \\\n",
       "6204                                          [bump, austin, sxswi, accelerat, tech]   \n",
       "8056      [come, see, someth, new, googl, sketchup, pro, via, googl, sketchup, blog]   \n",
       "4184                  [googl, connect, digit, physic, world, mobil, mobil, mcommerc]   \n",
       "8952                                                             [googl, go, social]   \n",
       "1928                                [essenti, busi, collabor, app, ipad, bpm, sxswi]   \n",
       "...                                                                              ...   \n",
       "6280               [love, appl, come, cool, technolog, one, ever, heard, go, confer]   \n",
       "5692                [drive, around, austin, googl, street, view, scope, locat, desk]   \n",
       "5910  [googl, launch, major, new, social, network, call, circl, possibl, today, via]   \n",
       "935                  [fear, extend, wed, last, day, appl, popup, sunday, appleatxdt]   \n",
       "7932             [miss, chanc, win, go, come, emc, consult, booth, chanc, win, ipad]   \n",
       "\n",
       "                                                                          text_lemmatized  \\\n",
       "6204                                           [bumped, austin, sxswi, accelerater, tech]   \n",
       "8056      [come, see, something, new, google, sketchup, pro, via, google, sketchup, blog]   \n",
       "4184               [google, connect, digital, physical, world, mobile, mobile, mcommerce]   \n",
       "8952                                                              [google, going, social]   \n",
       "1928                         [essential, business, collaboration, apps, ipad, bpm, sxswi]   \n",
       "...                                                                                   ...   \n",
       "6280            [love, apple, come, cool, technology, one's, ever, heard, go, conference]   \n",
       "5692             [driving, around, austin, google, street, view, scoping, location, desk]   \n",
       "5910  [google, launch, major, new, social, network, called, circle, possibly, today, via]   \n",
       "935                    [fear, extended, wed, last, day, apple, popup, sunday, appleatxdt]   \n",
       "7932          [miss, chance, win, going, come, emc, consulting, booth, chance, win, ipad]   \n",
       "\n",
       "                                                                                                                                                                  text_pos  \n",
       "6204                                                                                             [(bumped, VBN), (austin, NN), (sxswi, NN), (accelerater, NN), (tech, NN)]  \n",
       "8056                    [(come, VB), (see, VBP), (something, NN), (new, JJ), (google, NN), (sketchup, JJ), (pro, JJ), (via, IN), (google, NN), (sketchup, NN), (blog, NN)]  \n",
       "4184                                                [(google, NN), (connect, NN), (digital, JJ), (physical, JJ), (world, NN), (mobile, NN), (mobile, JJ), (mcommerce, NN)]  \n",
       "8952                                                                                                                            [(google, NN), (going, VBG), (social, JJ)]  \n",
       "1928                                                                [(essential, JJ), (business, NN), (collaboration, NN), (apps, NN), (ipad, NN), (bpm, NN), (sxswi, NN)]  \n",
       "...                                                                                                                                                                    ...  \n",
       "6280           [(love, NN), (apple, NN), (come, VBP), (cool, JJ), (technology, NN), (one, CD), ('s, POS), (ever, RB), (heard, VBP), (n't, RB), (go, VB), (conference, NN)]  \n",
       "5692                                      [(driving, VBG), (around, RP), (austin, JJ), (google, JJ), (street, NN), (view, NN), (scoping, VBG), (location, NN), (desk, NN)]  \n",
       "5910  [(google, NN), (launch, NN), (major, JJ), (new, JJ), (social, JJ), (network, NN), (called, VBN), (circle, NN), (possibly, RB), (today, NN), (via, IN), (22sxsw, CD)]  \n",
       "935                       [(fear, NN), (extended, VBD), (wed, VBN), (--, :), (last, JJ), (day, NN), (apple, NN), (popup, NN), (sunday, VBD), (3/13, CD), (appleatxdt, NN)]  \n",
       "7932            [(n't, RB), (miss, VB), (chance, NN), (win, NN), (going, VBG), (come, JJ), (emc, NN), (consulting, VBG), (booth, DT), (chance, NN), (win, NN), (ipad, NN)]  \n",
       "\n",
       "[6261 rows x 6 columns]"
      ]
     },
     "execution_count": 268,
     "metadata": {},
     "output_type": "execute_result"
    }
   ],
   "source": [
    "# Apply the lemmatizer for text  in the data frame\n",
    "X_train[\"text_pos\"] = X_train[\"tweet_text\"].apply(token_lemmatize)\n",
    "\n",
    "X_train"
   ]
  },
  {
   "cell_type": "code",
   "execution_count": 269,
   "metadata": {},
   "outputs": [],
   "source": [
    "# Instantiate the vectorizer\n",
    "mtfidf = TfidfVectorizer(\n",
    "        max_features=10,\n",
    "        stop_words=pos_stopwords,\n",
    "        tokenizer=token_lemmatize,\n",
    "    \n",
    ")\n",
    "\n",
    "# Fit the vectorizer on X_train[\"text\"] and transform it\n",
    "X_train_vectorized = tfidf.fit_transform(X_train[\"tweet_text\"].values.astype(\"U\"))\n",
    "# transform vectorizer on X_test[\"tweet_text\"] \n",
    "X_test_vectorized = tfidf.transform(X_test[\"tweet_text\"].values.astype('U'))\n",
    "\n"
   ]
  },
  {
   "cell_type": "code",
   "execution_count": 270,
   "metadata": {
    "scrolled": false
   },
   "outputs": [],
   "source": [
    "# Visually inspect the vectorized data\n",
    "X_train_pos=pd.DataFrame.sparse.from_spmatrix(X_train_vectorized, columns=tfidf.get_feature_names())"
   ]
  },
  {
   "cell_type": "code",
   "execution_count": 271,
   "metadata": {},
   "outputs": [],
   "source": [
    "X_test_pos=pd.DataFrame.sparse.from_spmatrix(X_test_vectorized, columns=tfidf.get_feature_names())"
   ]
  },
  {
   "cell_type": "markdown",
   "metadata": {},
   "source": [
    "###### Build the pos model"
   ]
  },
  {
   "cell_type": "code",
   "execution_count": 272,
   "metadata": {},
   "outputs": [],
   "source": [
    "# create Pipeline for forth model\n",
    "pos_model = Pipeline([\n",
    "        \n",
    "        ('tfidf', tfidf),\n",
    "        ('clf', MultinomialNB()),\n",
    "    ])"
   ]
  },
  {
   "cell_type": "code",
   "execution_count": 273,
   "metadata": {},
   "outputs": [
    {
     "data": {
      "text/plain": [
       "Pipeline(steps=[('tfidf',\n",
       "                 TfidfVectorizer(max_features=10,\n",
       "                                 stop_words=['i', 'me', 'my', 'myself', 'we',\n",
       "                                             'our', 'ours', 'ourselves', 'you',\n",
       "                                             \"you're\", \"you've\", \"you'll\",\n",
       "                                             \"you'd\", 'your', 'yours',\n",
       "                                             'yourself', 'yourselves', 'he',\n",
       "                                             'him', 'his', 'himself', 'she',\n",
       "                                             \"she's\", 'her', 'hers', 'herself',\n",
       "                                             'it', \"it's\", 'it', 'itself', ...],\n",
       "                                 tokenizer=<function token_lemmatizer at 0x000001C4B43ED5E0>)),\n",
       "                ('clf', MultinomialNB())])"
      ]
     },
     "execution_count": 273,
     "metadata": {},
     "output_type": "execute_result"
    }
   ],
   "source": [
    "# fit the forth model on X_train and y_train\n",
    "pos_model.fit(X_train[\"tweet_text\"].values.astype('U'),np.ravel(y_train ))"
   ]
  },
  {
   "cell_type": "markdown",
   "metadata": {},
   "source": [
    "Evaluate the fifth model."
   ]
  },
  {
   "cell_type": "code",
   "execution_count": 274,
   "metadata": {
    "scrolled": false
   },
   "outputs": [
    {
     "name": "stderr",
     "output_type": "stream",
     "text": [
      "C:\\Users\\mays8\\anaconda3\\envs\\learn-env\\lib\\site-packages\\sklearn\\model_selection\\_split.py:670: UserWarning: The least populated class in y has only 1 members, which is less than n_splits=5.\n",
      "  warnings.warn((\"The least populated class in y has only %d\"\n"
     ]
    },
    {
     "data": {
      "text/plain": [
       "array([0.65762171, 0.66373802, 0.65974441, 0.65255591, 0.65495208])"
      ]
     },
     "execution_count": 274,
     "metadata": {},
     "output_type": "execute_result"
    }
   ],
   "source": [
    "# Evaluate the classifier on X_train_vectorized and y_train\n",
    "pos_train_cv = cross_val_score(pos_model, X_train[\"tweet_text\"].values.astype('U'),np.ravel(y_train))\n",
    "pos_train_cv"
   ]
  },
  {
   "cell_type": "code",
   "execution_count": 275,
   "metadata": {},
   "outputs": [
    {
     "name": "stdout",
     "output_type": "stream",
     "text": [
      "pos: 0.6577224246473001\n"
     ]
    }
   ],
   "source": [
    "\n",
    "print(\"pos:\",pos_train_cv.mean())"
   ]
  },
  {
   "cell_type": "code",
   "execution_count": 276,
   "metadata": {
    "scrolled": true
   },
   "outputs": [
    {
     "name": "stderr",
     "output_type": "stream",
     "text": [
      "C:\\Users\\mays8\\anaconda3\\envs\\learn-env\\lib\\site-packages\\sklearn\\model_selection\\_split.py:670: UserWarning: The least populated class in y has only 1 members, which is less than n_splits=5.\n",
      "  warnings.warn((\"The least populated class in y has only %d\"\n"
     ]
    },
    {
     "data": {
      "text/plain": [
       "array([0.61980831, 0.61980831, 0.62619808, 0.61980831, 0.61980831])"
      ]
     },
     "execution_count": 276,
     "metadata": {},
     "output_type": "execute_result"
    }
   ],
   "source": [
    "# Evaluate the classifier on X_train_vectorized and y_train\n",
    "pos_test_cv = cross_val_score(pos_model, X_test[\"tweet_text\"].values.astype('U'),np.ravel(y_test))\n",
    "pos_test_cv"
   ]
  },
  {
   "cell_type": "code",
   "execution_count": 277,
   "metadata": {},
   "outputs": [
    {
     "name": "stdout",
     "output_type": "stream",
     "text": [
      "pos: 0.6210862619808306\n"
     ]
    }
   ],
   "source": [
    "print(\"pos:\",pos_test_cv.mean())"
   ]
  },
  {
   "cell_type": "markdown",
   "metadata": {},
   "source": [
    "We did not gain any improvment on this model."
   ]
  },
  {
   "cell_type": "code",
   "execution_count": 278,
   "metadata": {},
   "outputs": [],
   "source": [
    "#predictions\n",
    "y_train_pred = pos_model.predict(X_train[\"tweet_text\"].values.astype('U'))\n",
    "y_test_pred  = pos_model.predict(X_test[\"tweet_text\"].values.astype('U'))"
   ]
  },
  {
   "cell_type": "code",
   "execution_count": 279,
   "metadata": {
    "scrolled": true
   },
   "outputs": [
    {
     "name": "stdout",
     "output_type": "stream",
     "text": [
      "              precision    recall  f1-score   support\n",
      "\n",
      "           0       0.00      0.00      0.00         1\n",
      "           1       0.62      0.97      0.76       970\n",
      "           2       0.47      0.05      0.08       594\n",
      "\n",
      "    accuracy                           0.62      1565\n",
      "   macro avg       0.37      0.34      0.28      1565\n",
      "weighted avg       0.57      0.62      0.50      1565\n",
      "\n"
     ]
    },
    {
     "name": "stderr",
     "output_type": "stream",
     "text": [
      "C:\\Users\\mays8\\anaconda3\\envs\\learn-env\\lib\\site-packages\\sklearn\\metrics\\_classification.py:1221: UndefinedMetricWarning: Precision and F-score are ill-defined and being set to 0.0 in labels with no predicted samples. Use `zero_division` parameter to control this behavior.\n",
      "  _warn_prf(average, modifier, msg_start, len(result))\n"
     ]
    }
   ],
   "source": [
    "# calculate metrics by using classfication report\n",
    "c_r = classification_report(y_test,y_test_pred)\n",
    "print(c_r)"
   ]
  },
  {
   "cell_type": "code",
   "execution_count": 280,
   "metadata": {},
   "outputs": [
    {
     "name": "stdout",
     "output_type": "stream",
     "text": [
      "              precision    recall  f1-score   support\n",
      "\n",
      "           0       0.00      0.00      0.00         1\n",
      "           1       0.66      0.98      0.79      4070\n",
      "           2       0.63      0.06      0.10      2190\n",
      "\n",
      "    accuracy                           0.66      6261\n",
      "   macro avg       0.43      0.35      0.30      6261\n",
      "weighted avg       0.65      0.66      0.55      6261\n",
      "\n"
     ]
    }
   ],
   "source": [
    "# calculate metrics by using classfication report\n",
    "c_r = classification_report(y_train,y_train_pred)\n",
    "print(c_r)"
   ]
  },
  {
   "cell_type": "markdown",
   "metadata": {},
   "source": [
    "### Final model"
   ]
  },
  {
   "cell_type": "markdown",
   "metadata": {},
   "source": [
    "The best model based on the performance would be model4.we are trying to increase the performance by increase the number of features."
   ]
  },
  {
   "cell_type": "markdown",
   "metadata": {},
   "source": [
    "We have to convert the words into vectors by using fidf Vectorizer."
   ]
  },
  {
   "cell_type": "code",
   "execution_count": null,
   "metadata": {},
   "outputs": [],
   "source": []
  },
  {
   "cell_type": "code",
   "execution_count": 281,
   "metadata": {},
   "outputs": [],
   "source": [
    "# Instantiate the vectorizer\n",
    "tfidf = TfidfVectorizer(\n",
    "    max_features=1000,\n",
    "    stop_words=lemmatized_stopwords,\n",
    "    tokenizer=token_lemmatizer\n",
    ")\n",
    "\n",
    "# Fit the vectorizer on X_train[\"tweet_text\"] and transform it\n",
    "X_train_vectorized = tfidf.fit_transform(X_train[\"tweet_text\"].values.astype('U'))\n",
    "# transform vectorizer on X_test[\"tweet_text\"] \n",
    "X_test_vectorized = tfidf.transform(X_test[\"tweet_text\"].values.astype('U'))\n"
   ]
  },
  {
   "cell_type": "code",
   "execution_count": 282,
   "metadata": {
    "scrolled": false
   },
   "outputs": [
    {
     "data": {
      "text/html": [
       "<div>\n",
       "<style scoped>\n",
       "    .dataframe tbody tr th:only-of-type {\n",
       "        vertical-align: middle;\n",
       "    }\n",
       "\n",
       "    .dataframe tbody tr th {\n",
       "        vertical-align: top;\n",
       "    }\n",
       "\n",
       "    .dataframe thead th {\n",
       "        text-align: right;\n",
       "    }\n",
       "</style>\n",
       "<table border=\"1\" class=\"dataframe\">\n",
       "  <thead>\n",
       "    <tr style=\"text-align: right;\">\n",
       "      <th></th>\n",
       "      <th>ab</th>\n",
       "      <th>able</th>\n",
       "      <th>abt</th>\n",
       "      <th>acc</th>\n",
       "      <th>access</th>\n",
       "      <th>accessibility</th>\n",
       "      <th>according</th>\n",
       "      <th>account</th>\n",
       "      <th>aclu</th>\n",
       "      <th>across</th>\n",
       "      <th>...</th>\n",
       "      <th>yes</th>\n",
       "      <th>yesterday</th>\n",
       "      <th>yet</th>\n",
       "      <th>yourmom</th>\n",
       "      <th>youtube</th>\n",
       "      <th>yr</th>\n",
       "      <th>z</th>\n",
       "      <th>zazzlesxsw</th>\n",
       "      <th>zlf</th>\n",
       "      <th>zomb</th>\n",
       "    </tr>\n",
       "  </thead>\n",
       "  <tbody>\n",
       "    <tr>\n",
       "      <th>0</th>\n",
       "      <td>0.0</td>\n",
       "      <td>0.0</td>\n",
       "      <td>0.0</td>\n",
       "      <td>0.0</td>\n",
       "      <td>0.0</td>\n",
       "      <td>0.0</td>\n",
       "      <td>0.0</td>\n",
       "      <td>0.0</td>\n",
       "      <td>0.0</td>\n",
       "      <td>0.0</td>\n",
       "      <td>...</td>\n",
       "      <td>0.0</td>\n",
       "      <td>0.0</td>\n",
       "      <td>0.0</td>\n",
       "      <td>0.0</td>\n",
       "      <td>0.0</td>\n",
       "      <td>0.0</td>\n",
       "      <td>0.0</td>\n",
       "      <td>0.0</td>\n",
       "      <td>0.0</td>\n",
       "      <td>0.0</td>\n",
       "    </tr>\n",
       "    <tr>\n",
       "      <th>1</th>\n",
       "      <td>0.0</td>\n",
       "      <td>0.0</td>\n",
       "      <td>0.0</td>\n",
       "      <td>0.0</td>\n",
       "      <td>0.0</td>\n",
       "      <td>0.0</td>\n",
       "      <td>0.0</td>\n",
       "      <td>0.0</td>\n",
       "      <td>0.0</td>\n",
       "      <td>0.0</td>\n",
       "      <td>...</td>\n",
       "      <td>0.0</td>\n",
       "      <td>0.0</td>\n",
       "      <td>0.0</td>\n",
       "      <td>0.0</td>\n",
       "      <td>0.0</td>\n",
       "      <td>0.0</td>\n",
       "      <td>0.0</td>\n",
       "      <td>0.0</td>\n",
       "      <td>0.0</td>\n",
       "      <td>0.0</td>\n",
       "    </tr>\n",
       "    <tr>\n",
       "      <th>2</th>\n",
       "      <td>0.0</td>\n",
       "      <td>0.0</td>\n",
       "      <td>0.0</td>\n",
       "      <td>0.0</td>\n",
       "      <td>0.0</td>\n",
       "      <td>0.0</td>\n",
       "      <td>0.0</td>\n",
       "      <td>0.0</td>\n",
       "      <td>0.0</td>\n",
       "      <td>0.0</td>\n",
       "      <td>...</td>\n",
       "      <td>0.0</td>\n",
       "      <td>0.0</td>\n",
       "      <td>0.0</td>\n",
       "      <td>0.0</td>\n",
       "      <td>0.0</td>\n",
       "      <td>0.0</td>\n",
       "      <td>0.0</td>\n",
       "      <td>0.0</td>\n",
       "      <td>0.0</td>\n",
       "      <td>0.0</td>\n",
       "    </tr>\n",
       "    <tr>\n",
       "      <th>3</th>\n",
       "      <td>0.0</td>\n",
       "      <td>0.0</td>\n",
       "      <td>0.0</td>\n",
       "      <td>0.0</td>\n",
       "      <td>0.0</td>\n",
       "      <td>0.0</td>\n",
       "      <td>0.0</td>\n",
       "      <td>0.0</td>\n",
       "      <td>0.0</td>\n",
       "      <td>0.0</td>\n",
       "      <td>...</td>\n",
       "      <td>0.0</td>\n",
       "      <td>0.0</td>\n",
       "      <td>0.0</td>\n",
       "      <td>0.0</td>\n",
       "      <td>0.0</td>\n",
       "      <td>0.0</td>\n",
       "      <td>0.0</td>\n",
       "      <td>0.0</td>\n",
       "      <td>0.0</td>\n",
       "      <td>0.0</td>\n",
       "    </tr>\n",
       "    <tr>\n",
       "      <th>4</th>\n",
       "      <td>0.0</td>\n",
       "      <td>0.0</td>\n",
       "      <td>0.0</td>\n",
       "      <td>0.0</td>\n",
       "      <td>0.0</td>\n",
       "      <td>0.0</td>\n",
       "      <td>0.0</td>\n",
       "      <td>0.0</td>\n",
       "      <td>0.0</td>\n",
       "      <td>0.0</td>\n",
       "      <td>...</td>\n",
       "      <td>0.0</td>\n",
       "      <td>0.0</td>\n",
       "      <td>0.0</td>\n",
       "      <td>0.0</td>\n",
       "      <td>0.0</td>\n",
       "      <td>0.0</td>\n",
       "      <td>0.0</td>\n",
       "      <td>0.0</td>\n",
       "      <td>0.0</td>\n",
       "      <td>0.0</td>\n",
       "    </tr>\n",
       "    <tr>\n",
       "      <th>...</th>\n",
       "      <td>...</td>\n",
       "      <td>...</td>\n",
       "      <td>...</td>\n",
       "      <td>...</td>\n",
       "      <td>...</td>\n",
       "      <td>...</td>\n",
       "      <td>...</td>\n",
       "      <td>...</td>\n",
       "      <td>...</td>\n",
       "      <td>...</td>\n",
       "      <td>...</td>\n",
       "      <td>...</td>\n",
       "      <td>...</td>\n",
       "      <td>...</td>\n",
       "      <td>...</td>\n",
       "      <td>...</td>\n",
       "      <td>...</td>\n",
       "      <td>...</td>\n",
       "      <td>...</td>\n",
       "      <td>...</td>\n",
       "      <td>...</td>\n",
       "    </tr>\n",
       "    <tr>\n",
       "      <th>6256</th>\n",
       "      <td>0.0</td>\n",
       "      <td>0.0</td>\n",
       "      <td>0.0</td>\n",
       "      <td>0.0</td>\n",
       "      <td>0.0</td>\n",
       "      <td>0.0</td>\n",
       "      <td>0.0</td>\n",
       "      <td>0.0</td>\n",
       "      <td>0.0</td>\n",
       "      <td>0.0</td>\n",
       "      <td>...</td>\n",
       "      <td>0.0</td>\n",
       "      <td>0.0</td>\n",
       "      <td>0.0</td>\n",
       "      <td>0.0</td>\n",
       "      <td>0.0</td>\n",
       "      <td>0.0</td>\n",
       "      <td>0.0</td>\n",
       "      <td>0.0</td>\n",
       "      <td>0.0</td>\n",
       "      <td>0.0</td>\n",
       "    </tr>\n",
       "    <tr>\n",
       "      <th>6257</th>\n",
       "      <td>0.0</td>\n",
       "      <td>0.0</td>\n",
       "      <td>0.0</td>\n",
       "      <td>0.0</td>\n",
       "      <td>0.0</td>\n",
       "      <td>0.0</td>\n",
       "      <td>0.0</td>\n",
       "      <td>0.0</td>\n",
       "      <td>0.0</td>\n",
       "      <td>0.0</td>\n",
       "      <td>...</td>\n",
       "      <td>0.0</td>\n",
       "      <td>0.0</td>\n",
       "      <td>0.0</td>\n",
       "      <td>0.0</td>\n",
       "      <td>0.0</td>\n",
       "      <td>0.0</td>\n",
       "      <td>0.0</td>\n",
       "      <td>0.0</td>\n",
       "      <td>0.0</td>\n",
       "      <td>0.0</td>\n",
       "    </tr>\n",
       "    <tr>\n",
       "      <th>6258</th>\n",
       "      <td>0.0</td>\n",
       "      <td>0.0</td>\n",
       "      <td>0.0</td>\n",
       "      <td>0.0</td>\n",
       "      <td>0.0</td>\n",
       "      <td>0.0</td>\n",
       "      <td>0.0</td>\n",
       "      <td>0.0</td>\n",
       "      <td>0.0</td>\n",
       "      <td>0.0</td>\n",
       "      <td>...</td>\n",
       "      <td>0.0</td>\n",
       "      <td>0.0</td>\n",
       "      <td>0.0</td>\n",
       "      <td>0.0</td>\n",
       "      <td>0.0</td>\n",
       "      <td>0.0</td>\n",
       "      <td>0.0</td>\n",
       "      <td>0.0</td>\n",
       "      <td>0.0</td>\n",
       "      <td>0.0</td>\n",
       "    </tr>\n",
       "    <tr>\n",
       "      <th>6259</th>\n",
       "      <td>0.0</td>\n",
       "      <td>0.0</td>\n",
       "      <td>0.0</td>\n",
       "      <td>0.0</td>\n",
       "      <td>0.0</td>\n",
       "      <td>0.0</td>\n",
       "      <td>0.0</td>\n",
       "      <td>0.0</td>\n",
       "      <td>0.0</td>\n",
       "      <td>0.0</td>\n",
       "      <td>...</td>\n",
       "      <td>0.0</td>\n",
       "      <td>0.0</td>\n",
       "      <td>0.0</td>\n",
       "      <td>0.0</td>\n",
       "      <td>0.0</td>\n",
       "      <td>0.0</td>\n",
       "      <td>0.0</td>\n",
       "      <td>0.0</td>\n",
       "      <td>0.0</td>\n",
       "      <td>0.0</td>\n",
       "    </tr>\n",
       "    <tr>\n",
       "      <th>6260</th>\n",
       "      <td>0.0</td>\n",
       "      <td>0.0</td>\n",
       "      <td>0.0</td>\n",
       "      <td>0.0</td>\n",
       "      <td>0.0</td>\n",
       "      <td>0.0</td>\n",
       "      <td>0.0</td>\n",
       "      <td>0.0</td>\n",
       "      <td>0.0</td>\n",
       "      <td>0.0</td>\n",
       "      <td>...</td>\n",
       "      <td>0.0</td>\n",
       "      <td>0.0</td>\n",
       "      <td>0.0</td>\n",
       "      <td>0.0</td>\n",
       "      <td>0.0</td>\n",
       "      <td>0.0</td>\n",
       "      <td>0.0</td>\n",
       "      <td>0.0</td>\n",
       "      <td>0.0</td>\n",
       "      <td>0.0</td>\n",
       "    </tr>\n",
       "  </tbody>\n",
       "</table>\n",
       "<p>6261 rows × 1000 columns</p>\n",
       "</div>"
      ],
      "text/plain": [
       "       ab  able  abt  acc  access  accessibility  according  account  aclu  \\\n",
       "0     0.0   0.0  0.0  0.0     0.0            0.0        0.0      0.0   0.0   \n",
       "1     0.0   0.0  0.0  0.0     0.0            0.0        0.0      0.0   0.0   \n",
       "2     0.0   0.0  0.0  0.0     0.0            0.0        0.0      0.0   0.0   \n",
       "3     0.0   0.0  0.0  0.0     0.0            0.0        0.0      0.0   0.0   \n",
       "4     0.0   0.0  0.0  0.0     0.0            0.0        0.0      0.0   0.0   \n",
       "...   ...   ...  ...  ...     ...            ...        ...      ...   ...   \n",
       "6256  0.0   0.0  0.0  0.0     0.0            0.0        0.0      0.0   0.0   \n",
       "6257  0.0   0.0  0.0  0.0     0.0            0.0        0.0      0.0   0.0   \n",
       "6258  0.0   0.0  0.0  0.0     0.0            0.0        0.0      0.0   0.0   \n",
       "6259  0.0   0.0  0.0  0.0     0.0            0.0        0.0      0.0   0.0   \n",
       "6260  0.0   0.0  0.0  0.0     0.0            0.0        0.0      0.0   0.0   \n",
       "\n",
       "      across  ...  yes  yesterday  yet  yourmom  youtube   yr    z  \\\n",
       "0        0.0  ...  0.0        0.0  0.0      0.0      0.0  0.0  0.0   \n",
       "1        0.0  ...  0.0        0.0  0.0      0.0      0.0  0.0  0.0   \n",
       "2        0.0  ...  0.0        0.0  0.0      0.0      0.0  0.0  0.0   \n",
       "3        0.0  ...  0.0        0.0  0.0      0.0      0.0  0.0  0.0   \n",
       "4        0.0  ...  0.0        0.0  0.0      0.0      0.0  0.0  0.0   \n",
       "...      ...  ...  ...        ...  ...      ...      ...  ...  ...   \n",
       "6256     0.0  ...  0.0        0.0  0.0      0.0      0.0  0.0  0.0   \n",
       "6257     0.0  ...  0.0        0.0  0.0      0.0      0.0  0.0  0.0   \n",
       "6258     0.0  ...  0.0        0.0  0.0      0.0      0.0  0.0  0.0   \n",
       "6259     0.0  ...  0.0        0.0  0.0      0.0      0.0  0.0  0.0   \n",
       "6260     0.0  ...  0.0        0.0  0.0      0.0      0.0  0.0  0.0   \n",
       "\n",
       "      zazzlesxsw  zlf  zomb  \n",
       "0            0.0  0.0   0.0  \n",
       "1            0.0  0.0   0.0  \n",
       "2            0.0  0.0   0.0  \n",
       "3            0.0  0.0   0.0  \n",
       "4            0.0  0.0   0.0  \n",
       "...          ...  ...   ...  \n",
       "6256         0.0  0.0   0.0  \n",
       "6257         0.0  0.0   0.0  \n",
       "6258         0.0  0.0   0.0  \n",
       "6259         0.0  0.0   0.0  \n",
       "6260         0.0  0.0   0.0  \n",
       "\n",
       "[6261 rows x 1000 columns]"
      ]
     },
     "execution_count": 282,
     "metadata": {},
     "output_type": "execute_result"
    }
   ],
   "source": [
    "# Visually inspect the vectorized data\n",
    "X_train_final=pd.DataFrame.sparse.from_spmatrix(X_train_vectorized, columns=tfidf.get_feature_names())\n",
    "X_train_final"
   ]
  },
  {
   "cell_type": "code",
   "execution_count": 283,
   "metadata": {
    "scrolled": false
   },
   "outputs": [
    {
     "data": {
      "text/html": [
       "<div>\n",
       "<style scoped>\n",
       "    .dataframe tbody tr th:only-of-type {\n",
       "        vertical-align: middle;\n",
       "    }\n",
       "\n",
       "    .dataframe tbody tr th {\n",
       "        vertical-align: top;\n",
       "    }\n",
       "\n",
       "    .dataframe thead th {\n",
       "        text-align: right;\n",
       "    }\n",
       "</style>\n",
       "<table border=\"1\" class=\"dataframe\">\n",
       "  <thead>\n",
       "    <tr style=\"text-align: right;\">\n",
       "      <th></th>\n",
       "      <th>ab</th>\n",
       "      <th>able</th>\n",
       "      <th>abt</th>\n",
       "      <th>acc</th>\n",
       "      <th>access</th>\n",
       "      <th>accessibility</th>\n",
       "      <th>according</th>\n",
       "      <th>account</th>\n",
       "      <th>aclu</th>\n",
       "      <th>across</th>\n",
       "      <th>...</th>\n",
       "      <th>yes</th>\n",
       "      <th>yesterday</th>\n",
       "      <th>yet</th>\n",
       "      <th>yourmom</th>\n",
       "      <th>youtube</th>\n",
       "      <th>yr</th>\n",
       "      <th>z</th>\n",
       "      <th>zazzlesxsw</th>\n",
       "      <th>zlf</th>\n",
       "      <th>zomb</th>\n",
       "    </tr>\n",
       "  </thead>\n",
       "  <tbody>\n",
       "    <tr>\n",
       "      <th>0</th>\n",
       "      <td>0.0</td>\n",
       "      <td>0.0</td>\n",
       "      <td>0.0</td>\n",
       "      <td>0.0</td>\n",
       "      <td>0.0</td>\n",
       "      <td>0.0</td>\n",
       "      <td>0.0</td>\n",
       "      <td>0.0</td>\n",
       "      <td>0.0</td>\n",
       "      <td>0.0</td>\n",
       "      <td>...</td>\n",
       "      <td>0.0</td>\n",
       "      <td>0.0</td>\n",
       "      <td>0.000000</td>\n",
       "      <td>0.0</td>\n",
       "      <td>0.0</td>\n",
       "      <td>0.0</td>\n",
       "      <td>0.0</td>\n",
       "      <td>0.0</td>\n",
       "      <td>0.0</td>\n",
       "      <td>0.0</td>\n",
       "    </tr>\n",
       "    <tr>\n",
       "      <th>1</th>\n",
       "      <td>0.0</td>\n",
       "      <td>0.0</td>\n",
       "      <td>0.0</td>\n",
       "      <td>0.0</td>\n",
       "      <td>0.0</td>\n",
       "      <td>0.0</td>\n",
       "      <td>0.0</td>\n",
       "      <td>0.0</td>\n",
       "      <td>0.0</td>\n",
       "      <td>0.0</td>\n",
       "      <td>...</td>\n",
       "      <td>0.0</td>\n",
       "      <td>0.0</td>\n",
       "      <td>0.000000</td>\n",
       "      <td>0.0</td>\n",
       "      <td>0.0</td>\n",
       "      <td>0.0</td>\n",
       "      <td>0.0</td>\n",
       "      <td>0.0</td>\n",
       "      <td>0.0</td>\n",
       "      <td>0.0</td>\n",
       "    </tr>\n",
       "    <tr>\n",
       "      <th>2</th>\n",
       "      <td>0.0</td>\n",
       "      <td>0.0</td>\n",
       "      <td>0.0</td>\n",
       "      <td>0.0</td>\n",
       "      <td>0.0</td>\n",
       "      <td>0.0</td>\n",
       "      <td>0.0</td>\n",
       "      <td>0.0</td>\n",
       "      <td>0.0</td>\n",
       "      <td>0.0</td>\n",
       "      <td>...</td>\n",
       "      <td>0.0</td>\n",
       "      <td>0.0</td>\n",
       "      <td>0.000000</td>\n",
       "      <td>0.0</td>\n",
       "      <td>0.0</td>\n",
       "      <td>0.0</td>\n",
       "      <td>0.0</td>\n",
       "      <td>0.0</td>\n",
       "      <td>0.0</td>\n",
       "      <td>0.0</td>\n",
       "    </tr>\n",
       "    <tr>\n",
       "      <th>3</th>\n",
       "      <td>0.0</td>\n",
       "      <td>0.0</td>\n",
       "      <td>0.0</td>\n",
       "      <td>0.0</td>\n",
       "      <td>0.0</td>\n",
       "      <td>0.0</td>\n",
       "      <td>0.0</td>\n",
       "      <td>0.0</td>\n",
       "      <td>0.0</td>\n",
       "      <td>0.0</td>\n",
       "      <td>...</td>\n",
       "      <td>0.0</td>\n",
       "      <td>0.0</td>\n",
       "      <td>0.000000</td>\n",
       "      <td>0.0</td>\n",
       "      <td>0.0</td>\n",
       "      <td>0.0</td>\n",
       "      <td>0.0</td>\n",
       "      <td>0.0</td>\n",
       "      <td>0.0</td>\n",
       "      <td>0.0</td>\n",
       "    </tr>\n",
       "    <tr>\n",
       "      <th>4</th>\n",
       "      <td>0.0</td>\n",
       "      <td>0.0</td>\n",
       "      <td>0.0</td>\n",
       "      <td>0.0</td>\n",
       "      <td>0.0</td>\n",
       "      <td>0.0</td>\n",
       "      <td>0.0</td>\n",
       "      <td>0.0</td>\n",
       "      <td>0.0</td>\n",
       "      <td>0.0</td>\n",
       "      <td>...</td>\n",
       "      <td>0.0</td>\n",
       "      <td>0.0</td>\n",
       "      <td>0.000000</td>\n",
       "      <td>0.0</td>\n",
       "      <td>0.0</td>\n",
       "      <td>0.0</td>\n",
       "      <td>0.0</td>\n",
       "      <td>0.0</td>\n",
       "      <td>0.0</td>\n",
       "      <td>0.0</td>\n",
       "    </tr>\n",
       "    <tr>\n",
       "      <th>...</th>\n",
       "      <td>...</td>\n",
       "      <td>...</td>\n",
       "      <td>...</td>\n",
       "      <td>...</td>\n",
       "      <td>...</td>\n",
       "      <td>...</td>\n",
       "      <td>...</td>\n",
       "      <td>...</td>\n",
       "      <td>...</td>\n",
       "      <td>...</td>\n",
       "      <td>...</td>\n",
       "      <td>...</td>\n",
       "      <td>...</td>\n",
       "      <td>...</td>\n",
       "      <td>...</td>\n",
       "      <td>...</td>\n",
       "      <td>...</td>\n",
       "      <td>...</td>\n",
       "      <td>...</td>\n",
       "      <td>...</td>\n",
       "      <td>...</td>\n",
       "    </tr>\n",
       "    <tr>\n",
       "      <th>1560</th>\n",
       "      <td>0.0</td>\n",
       "      <td>0.0</td>\n",
       "      <td>0.0</td>\n",
       "      <td>0.0</td>\n",
       "      <td>0.0</td>\n",
       "      <td>0.0</td>\n",
       "      <td>0.0</td>\n",
       "      <td>0.0</td>\n",
       "      <td>0.0</td>\n",
       "      <td>0.0</td>\n",
       "      <td>...</td>\n",
       "      <td>0.0</td>\n",
       "      <td>0.0</td>\n",
       "      <td>0.000000</td>\n",
       "      <td>0.0</td>\n",
       "      <td>0.0</td>\n",
       "      <td>0.0</td>\n",
       "      <td>0.0</td>\n",
       "      <td>0.0</td>\n",
       "      <td>0.0</td>\n",
       "      <td>0.0</td>\n",
       "    </tr>\n",
       "    <tr>\n",
       "      <th>1561</th>\n",
       "      <td>0.0</td>\n",
       "      <td>0.0</td>\n",
       "      <td>0.0</td>\n",
       "      <td>0.0</td>\n",
       "      <td>0.0</td>\n",
       "      <td>0.0</td>\n",
       "      <td>0.0</td>\n",
       "      <td>0.0</td>\n",
       "      <td>0.0</td>\n",
       "      <td>0.0</td>\n",
       "      <td>...</td>\n",
       "      <td>0.0</td>\n",
       "      <td>0.0</td>\n",
       "      <td>0.588774</td>\n",
       "      <td>0.0</td>\n",
       "      <td>0.0</td>\n",
       "      <td>0.0</td>\n",
       "      <td>0.0</td>\n",
       "      <td>0.0</td>\n",
       "      <td>0.0</td>\n",
       "      <td>0.0</td>\n",
       "    </tr>\n",
       "    <tr>\n",
       "      <th>1562</th>\n",
       "      <td>0.0</td>\n",
       "      <td>0.0</td>\n",
       "      <td>0.0</td>\n",
       "      <td>0.0</td>\n",
       "      <td>0.0</td>\n",
       "      <td>0.0</td>\n",
       "      <td>0.0</td>\n",
       "      <td>0.0</td>\n",
       "      <td>0.0</td>\n",
       "      <td>0.0</td>\n",
       "      <td>...</td>\n",
       "      <td>0.0</td>\n",
       "      <td>0.0</td>\n",
       "      <td>0.000000</td>\n",
       "      <td>0.0</td>\n",
       "      <td>0.0</td>\n",
       "      <td>0.0</td>\n",
       "      <td>0.0</td>\n",
       "      <td>0.0</td>\n",
       "      <td>0.0</td>\n",
       "      <td>0.0</td>\n",
       "    </tr>\n",
       "    <tr>\n",
       "      <th>1563</th>\n",
       "      <td>0.0</td>\n",
       "      <td>0.0</td>\n",
       "      <td>0.0</td>\n",
       "      <td>0.0</td>\n",
       "      <td>0.0</td>\n",
       "      <td>0.0</td>\n",
       "      <td>0.0</td>\n",
       "      <td>0.0</td>\n",
       "      <td>0.0</td>\n",
       "      <td>0.0</td>\n",
       "      <td>...</td>\n",
       "      <td>0.0</td>\n",
       "      <td>0.0</td>\n",
       "      <td>0.000000</td>\n",
       "      <td>0.0</td>\n",
       "      <td>0.0</td>\n",
       "      <td>0.0</td>\n",
       "      <td>0.0</td>\n",
       "      <td>0.0</td>\n",
       "      <td>0.0</td>\n",
       "      <td>0.0</td>\n",
       "    </tr>\n",
       "    <tr>\n",
       "      <th>1564</th>\n",
       "      <td>0.0</td>\n",
       "      <td>0.0</td>\n",
       "      <td>0.0</td>\n",
       "      <td>0.0</td>\n",
       "      <td>0.0</td>\n",
       "      <td>0.0</td>\n",
       "      <td>0.0</td>\n",
       "      <td>0.0</td>\n",
       "      <td>0.0</td>\n",
       "      <td>0.0</td>\n",
       "      <td>...</td>\n",
       "      <td>0.0</td>\n",
       "      <td>0.0</td>\n",
       "      <td>0.000000</td>\n",
       "      <td>0.0</td>\n",
       "      <td>0.0</td>\n",
       "      <td>0.0</td>\n",
       "      <td>0.0</td>\n",
       "      <td>0.0</td>\n",
       "      <td>0.0</td>\n",
       "      <td>0.0</td>\n",
       "    </tr>\n",
       "  </tbody>\n",
       "</table>\n",
       "<p>1565 rows × 1000 columns</p>\n",
       "</div>"
      ],
      "text/plain": [
       "       ab  able  abt  acc  access  accessibility  according  account  aclu  \\\n",
       "0     0.0   0.0  0.0  0.0     0.0            0.0        0.0      0.0   0.0   \n",
       "1     0.0   0.0  0.0  0.0     0.0            0.0        0.0      0.0   0.0   \n",
       "2     0.0   0.0  0.0  0.0     0.0            0.0        0.0      0.0   0.0   \n",
       "3     0.0   0.0  0.0  0.0     0.0            0.0        0.0      0.0   0.0   \n",
       "4     0.0   0.0  0.0  0.0     0.0            0.0        0.0      0.0   0.0   \n",
       "...   ...   ...  ...  ...     ...            ...        ...      ...   ...   \n",
       "1560  0.0   0.0  0.0  0.0     0.0            0.0        0.0      0.0   0.0   \n",
       "1561  0.0   0.0  0.0  0.0     0.0            0.0        0.0      0.0   0.0   \n",
       "1562  0.0   0.0  0.0  0.0     0.0            0.0        0.0      0.0   0.0   \n",
       "1563  0.0   0.0  0.0  0.0     0.0            0.0        0.0      0.0   0.0   \n",
       "1564  0.0   0.0  0.0  0.0     0.0            0.0        0.0      0.0   0.0   \n",
       "\n",
       "      across  ...  yes  yesterday       yet  yourmom  youtube   yr    z  \\\n",
       "0        0.0  ...  0.0        0.0  0.000000      0.0      0.0  0.0  0.0   \n",
       "1        0.0  ...  0.0        0.0  0.000000      0.0      0.0  0.0  0.0   \n",
       "2        0.0  ...  0.0        0.0  0.000000      0.0      0.0  0.0  0.0   \n",
       "3        0.0  ...  0.0        0.0  0.000000      0.0      0.0  0.0  0.0   \n",
       "4        0.0  ...  0.0        0.0  0.000000      0.0      0.0  0.0  0.0   \n",
       "...      ...  ...  ...        ...       ...      ...      ...  ...  ...   \n",
       "1560     0.0  ...  0.0        0.0  0.000000      0.0      0.0  0.0  0.0   \n",
       "1561     0.0  ...  0.0        0.0  0.588774      0.0      0.0  0.0  0.0   \n",
       "1562     0.0  ...  0.0        0.0  0.000000      0.0      0.0  0.0  0.0   \n",
       "1563     0.0  ...  0.0        0.0  0.000000      0.0      0.0  0.0  0.0   \n",
       "1564     0.0  ...  0.0        0.0  0.000000      0.0      0.0  0.0  0.0   \n",
       "\n",
       "      zazzlesxsw  zlf  zomb  \n",
       "0            0.0  0.0   0.0  \n",
       "1            0.0  0.0   0.0  \n",
       "2            0.0  0.0   0.0  \n",
       "3            0.0  0.0   0.0  \n",
       "4            0.0  0.0   0.0  \n",
       "...          ...  ...   ...  \n",
       "1560         0.0  0.0   0.0  \n",
       "1561         0.0  0.0   0.0  \n",
       "1562         0.0  0.0   0.0  \n",
       "1563         0.0  0.0   0.0  \n",
       "1564         0.0  0.0   0.0  \n",
       "\n",
       "[1565 rows x 1000 columns]"
      ]
     },
     "execution_count": 283,
     "metadata": {},
     "output_type": "execute_result"
    }
   ],
   "source": [
    "X_test_final=pd.DataFrame.sparse.from_spmatrix(X_test_vectorized, columns=tfidf.get_feature_names())\n",
    "X_test_final"
   ]
  },
  {
   "cell_type": "code",
   "execution_count": 284,
   "metadata": {},
   "outputs": [],
   "source": [
    "from imblearn.over_sampling import SMOTE"
   ]
  },
  {
   "cell_type": "code",
   "execution_count": 133,
   "metadata": {},
   "outputs": [],
   "source": [
    "#sm = SMOTE(random_state=42)"
   ]
  },
  {
   "cell_type": "code",
   "execution_count": 285,
   "metadata": {},
   "outputs": [],
   "source": [
    "# create Pipeline for forth model\n",
    "final_model = Pipeline([\n",
    "        \n",
    "        ('tfidf', tfidf),\n",
    "        ('clf', MultinomialNB()),\n",
    "        \n",
    "    ])"
   ]
  },
  {
   "cell_type": "code",
   "execution_count": 286,
   "metadata": {
    "scrolled": true
   },
   "outputs": [
    {
     "data": {
      "text/plain": [
       "Pipeline(steps=[('tfidf',\n",
       "                 TfidfVectorizer(max_features=1000,\n",
       "                                 stop_words=['i', 'me', 'my', 'myself', 'we',\n",
       "                                             'our', 'ours', 'ourselves', 'you',\n",
       "                                             \"you're\", \"you've\", \"you'll\",\n",
       "                                             \"you'd\", 'your', 'yours',\n",
       "                                             'yourself', 'yourselves', 'he',\n",
       "                                             'him', 'his', 'himself', 'she',\n",
       "                                             \"she's\", 'her', 'hers', 'herself',\n",
       "                                             'it', \"it's\", 'it', 'itself', ...],\n",
       "                                 tokenizer=<function token_lemmatizer at 0x000001C4B43ED5E0>)),\n",
       "                ('clf', MultinomialNB())])"
      ]
     },
     "execution_count": 286,
     "metadata": {},
     "output_type": "execute_result"
    }
   ],
   "source": [
    "# fit the forth model on X_train and y_train\n",
    "final_model.fit(X_train[\"tweet_text\"].values.astype('U'),np.ravel(y_train ))"
   ]
  },
  {
   "cell_type": "code",
   "execution_count": 287,
   "metadata": {
    "scrolled": true
   },
   "outputs": [
    {
     "name": "stderr",
     "output_type": "stream",
     "text": [
      "C:\\Users\\mays8\\anaconda3\\envs\\learn-env\\lib\\site-packages\\sklearn\\model_selection\\_split.py:670: UserWarning: The least populated class in y has only 1 members, which is less than n_splits=5.\n",
      "  warnings.warn((\"The least populated class in y has only %d\"\n"
     ]
    },
    {
     "data": {
      "text/plain": [
       "array([0.71109338, 0.70367412, 0.70846645, 0.70846645, 0.69329073])"
      ]
     },
     "execution_count": 287,
     "metadata": {},
     "output_type": "execute_result"
    }
   ],
   "source": [
    "# Evaluate the classifier on X_train_vectorized and y_train\n",
    "final_train_cv = cross_val_score(final_model, X_train[\"tweet_text\"].values.astype('U'),np.ravel( y_train))\n",
    "final_train_cv"
   ]
  },
  {
   "cell_type": "code",
   "execution_count": 288,
   "metadata": {
    "scrolled": true
   },
   "outputs": [
    {
     "name": "stdout",
     "output_type": "stream",
     "text": [
      "final_train 0.704998227895224\n"
     ]
    }
   ],
   "source": [
    "print( \"final_train\",final_train_cv.mean())"
   ]
  },
  {
   "cell_type": "code",
   "execution_count": 289,
   "metadata": {
    "scrolled": false
   },
   "outputs": [
    {
     "name": "stderr",
     "output_type": "stream",
     "text": [
      "C:\\Users\\mays8\\anaconda3\\envs\\learn-env\\lib\\site-packages\\sklearn\\model_selection\\_split.py:670: UserWarning: The least populated class in y has only 1 members, which is less than n_splits=5.\n",
      "  warnings.warn((\"The least populated class in y has only %d\"\n"
     ]
    },
    {
     "data": {
      "text/plain": [
       "array([0.64217252, 0.62619808, 0.65814696, 0.68051118, 0.6485623 ])"
      ]
     },
     "execution_count": 289,
     "metadata": {},
     "output_type": "execute_result"
    }
   ],
   "source": [
    "# Evaluate the classifier on X_train_vectorized and y_train\n",
    "final_test_cv = cross_val_score(final_model, X_test[\"tweet_text\"].values.astype('U'),np.ravel(y_test))\n",
    "final_test_cv"
   ]
  },
  {
   "cell_type": "code",
   "execution_count": 290,
   "metadata": {
    "scrolled": true
   },
   "outputs": [
    {
     "name": "stdout",
     "output_type": "stream",
     "text": [
      "final_test 0.6511182108626198\n"
     ]
    }
   ],
   "source": [
    "print( \"final_test\",final_test_cv.mean())"
   ]
  },
  {
   "cell_type": "markdown",
   "metadata": {},
   "source": [
    "Lets check for class imbalance."
   ]
  },
  {
   "cell_type": "code",
   "execution_count": 291,
   "metadata": {
    "scrolled": false
   },
   "outputs": [],
   "source": [
    "#tweets[\"catogory\"].value_counts()"
   ]
  },
  {
   "cell_type": "markdown",
   "metadata": {},
   "source": [
    "What is Class Imbalance?\n",
    "Class imbalance is a problem that occurs in machine learning classification problems. It merely tells that the target class’s frequency is highly imbalanced"
   ]
  },
  {
   "cell_type": "markdown",
   "metadata": {},
   "source": [
    "Improve Class Imbalance using Class Weights in Machine Learning"
   ]
  },
  {
   "cell_type": "markdown",
   "metadata": {},
   "source": [
    "we can modify the current training algorithm to take into account the skewed distribution of the classes. This can be achieved by giving different weights to both the majority and minority classes. The difference in weights will influence the classification of the classes during the training phase. "
   ]
  },
  {
   "cell_type": "code",
   "execution_count": 292,
   "metadata": {
    "scrolled": true
   },
   "outputs": [],
   "source": [
    "# Evaluate the classifier on X_train_vectorized and y_train\n",
    "#final_cv = cross_val_score(baseline_model,X_train_final,y_train)\n",
    "#final_cv"
   ]
  },
  {
   "cell_type": "markdown",
   "metadata": {},
   "source": [
    "# 5. Evaluate a Final Model on the Test Set"
   ]
  },
  {
   "cell_type": "code",
   "execution_count": 293,
   "metadata": {
    "scrolled": false
   },
   "outputs": [],
   "source": [
    "# Instantiate the final model \n",
    "#final_model = MultinomialNB()\n",
    "# Fit the model on train data set\n",
    "#final_model.fit(X_train_final,y_train)\n"
   ]
  },
  {
   "cell_type": "markdown",
   "metadata": {},
   "source": [
    "The performance increased when we use more features.\n",
    "We got 71% of accuracy."
   ]
  },
  {
   "cell_type": "code",
   "execution_count": 294,
   "metadata": {},
   "outputs": [],
   "source": [
    "#predictions\n",
    "y_train_pred = final_model.predict(X_train[\"tweet_text\"].values.astype('U'))\n",
    "y_test_pred  = final_model.predict(X_test[\"tweet_text\"].values.astype('U'))"
   ]
  },
  {
   "cell_type": "code",
   "execution_count": 295,
   "metadata": {},
   "outputs": [],
   "source": [
    "# evaluate the final model\n",
    "#final_model.score(X_train_final,y_train)"
   ]
  },
  {
   "cell_type": "code",
   "execution_count": 296,
   "metadata": {
    "scrolled": true
   },
   "outputs": [
    {
     "name": "stdout",
     "output_type": "stream",
     "text": [
      "              precision    recall  f1-score   support\n",
      "\n",
      "           0       0.00      0.00      0.00         1\n",
      "           1       0.75      0.94      0.84      4070\n",
      "           2       0.78      0.43      0.56      2190\n",
      "\n",
      "    accuracy                           0.76      6261\n",
      "   macro avg       0.51      0.46      0.46      6261\n",
      "weighted avg       0.76      0.76      0.74      6261\n",
      "\n"
     ]
    },
    {
     "name": "stderr",
     "output_type": "stream",
     "text": [
      "C:\\Users\\mays8\\anaconda3\\envs\\learn-env\\lib\\site-packages\\sklearn\\metrics\\_classification.py:1221: UndefinedMetricWarning: Precision and F-score are ill-defined and being set to 0.0 in labels with no predicted samples. Use `zero_division` parameter to control this behavior.\n",
      "  _warn_prf(average, modifier, msg_start, len(result))\n"
     ]
    }
   ],
   "source": [
    "# calculate metrics by using classfication report\n",
    "c_r = classification_report(y_train,y_train_pred)\n",
    "print(c_r)"
   ]
  },
  {
   "cell_type": "markdown",
   "metadata": {},
   "source": [
    "Lets evaluate the final model on test set."
   ]
  },
  {
   "cell_type": "code",
   "execution_count": 297,
   "metadata": {
    "scrolled": false
   },
   "outputs": [
    {
     "name": "stdout",
     "output_type": "stream",
     "text": [
      "              precision    recall  f1-score   support\n",
      "\n",
      "           0       0.00      0.00      0.00         1\n",
      "           1       0.68      0.89      0.77       970\n",
      "           2       0.65      0.33      0.43       594\n",
      "\n",
      "    accuracy                           0.68      1565\n",
      "   macro avg       0.44      0.41      0.40      1565\n",
      "weighted avg       0.67      0.68      0.64      1565\n",
      "\n"
     ]
    }
   ],
   "source": [
    "# calculate metrics by using classfication report\n",
    "c_r = classification_report(y_test,y_test_pred)\n",
    "print(c_r)"
   ]
  },
  {
   "cell_type": "markdown",
   "metadata": {},
   "source": [
    "Precision, Recall, F-score, Accuracy. These are ways to measure the quality of a software which returns information about an analyzed document."
   ]
  },
  {
   "cell_type": "markdown",
   "metadata": {},
   "source": [
    "Precision:What percent of the predictions were correct?\n",
    "Precision = TP/(TP + FP)"
   ]
  },
  {
   "cell_type": "markdown",
   "metadata": {},
   "source": [
    "Recall:What percent of the positive cases did you catch?\n",
    "Recall = TP/(TP+FN) "
   ]
  },
  {
   "cell_type": "markdown",
   "metadata": {},
   "source": [
    "F-score (F-measure, F1 measure):F1What percent of positive predictions were correct?\n",
    "F1 Score = 2(Recall Precision) / (Recall + Precision)"
   ]
  },
  {
   "cell_type": "markdown",
   "metadata": {},
   "source": [
    "Create the Confusion Matrix\n",
    "\n",
    "Confusion Matrix for multiclass classification is used to calculate the performance of a Machine learning classification. It is represented in a matrix form.\n",
    "\n",
    "Confusion Matrix gives a comparison between Actual and predicted values.\n",
    "\n",
    "Use of the confusion_matrix() function found in sklearn.metrics"
   ]
  },
  {
   "cell_type": "markdown",
   "metadata": {},
   "source": [
    "How to calculate FN, FP, TN, TP :"
   ]
  },
  {
   "cell_type": "markdown",
   "metadata": {},
   "source": [
    "TP: The True positive value is where the actual value and predicted value are the same.\n",
    "\n",
    "FN: The False-negative value for a class will be the sum of values of corresponding rows except for the TP value.\n",
    "\n",
    "FP: The False-positive value for a class will be the sum of values of the corresponding column except for the TP value.\n",
    "\n",
    "TN: The True Negative value for a class will be the sum of values of all columns and rows except the values of that class that we are calculating the values for.\n",
    "\n",
    "Confusion Matrix allows us to measure Recall, Precision,\n",
    "Accuracy of the model."
   ]
  },
  {
   "cell_type": "markdown",
   "metadata": {},
   "source": [
    "###### Visualization for the confusion matrix\n",
    "Use of the plot_confusion_matrix function from sklearn.metrics"
   ]
  },
  {
   "cell_type": "code",
   "execution_count": 298,
   "metadata": {
    "scrolled": false
   },
   "outputs": [
    {
     "data": {
      "image/png": "[encoded data removed]",
      "text/plain": [
       "<Figure size 432x288 with 2 Axes>"
      ]
     },
     "metadata": {
      "needs_background": "light"
     },
     "output_type": "display_data"
    }
   ],
   "source": [
    "# Visualize the confusion matrix\n",
    "from sklearn.metrics import plot_confusion_matrix\n",
    "plot_confusion_matrix(final_model,X_test[\"tweet_text\"].values.astype('U'),y_test);\n"
   ]
  },
  {
   "cell_type": "markdown",
   "metadata": {},
   "source": [
    "# Evaluation:"
   ]
  },
  {
   "cell_type": "markdown",
   "metadata": {},
   "source": [
    "# Findings and Recommendations:"
   ]
  },
  {
   "cell_type": "code",
   "execution_count": null,
   "metadata": {},
   "outputs": [],
   "source": []
  }
 ],
 "metadata": {
  "kernelspec": {
   "display_name": "Python (learn-env)",
   "language": "python",
   "name": "learn-env"
  },
  "language_info": {
   "codemirror_mode": {
    "name": "ipython",
    "version": 3
   },
   "file_extension": ".py",
   "mimetype": "text/x-python",
   "name": "python",
   "nbconvert_exporter": "python",
   "pygments_lexer": "ipython3",
   "version": "3.8.5"
  }
 },
 "nbformat": 4,
 "nbformat_minor": 4
}
