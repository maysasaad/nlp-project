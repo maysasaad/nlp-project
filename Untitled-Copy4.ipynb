{
 "cells": [
  {
   "cell_type": "markdown",
   "metadata": {},
   "source": [
    "# Final Project Submission\n",
    "Please fill out:\n",
    "\n",
    "1-Student name: Mays Alkhwitar\n",
    "\n",
    "2-Student pace: flex\n",
    "\n",
    "3-Scheduled project review date/time: /\n",
    "\n",
    "4-Instructor name: Mark Barbour\n",
    "\n",
    "5-Blog post URL:https:\n",
    "\n"
   ]
  },
  {
   "cell_type": "markdown",
   "metadata": {},
   "source": [
    "# Brands and Product Emotions\n"
   ]
  },
  {
   "cell_type": "markdown",
   "metadata": {},
   "source": [
    "![image.jpg](Images/image.jpg)\n"
   ]
  },
  {
   "cell_type": "markdown",
   "metadata": {},
   "source": [
    "## Overview"
   ]
  },
  {
   "cell_type": "markdown",
   "metadata": {},
   "source": [
    "Through this project, We will build an NLP model to analyze Twitter sentiment about Apple and Google products,the model can rate the sentiment of a Tweet based on its content. create a predictive classification model that makes it possible to understand the business problem,solve it and report the findings of the final model,including predictions and performance metrics."
   ]
  },
  {
   "cell_type": "markdown",
   "metadata": {},
   "source": [
    "## Business Understanding"
   ]
  },
  {
   "cell_type": "markdown",
   "metadata": {},
   "source": [
    "Millions of people share their opinions about various topics on Twitter daily,So Baghdad cell company makes Twitter one of the resources for their businesses and conducts a sentiment analysis of tweets from the SXSW Conference.\n",
    "The goal of this project is to develop a model that will classify tweets based on their sentiment either if it was negative,positive,or neutral on Google and Apple products."
   ]
  },
  {
   "cell_type": "markdown",
   "metadata": {},
   "source": [
    "## Data Understanding"
   ]
  },
  {
   "cell_type": "markdown",
   "metadata": {},
   "source": [
    "This project uses Brands and Product Emotions dataset from CrowdFlower via data. world Which consists of information about customer raters rated the sentiment in 9,093 Tweets.\n",
    "The tweets reflect which emotion they convey and what product/service/company this emotion is directed at based on the content."
   ]
  },
  {
   "cell_type": "markdown",
   "metadata": {},
   "source": [
    "## Data Preparation\n",
    "Natural Language Processing (NLP) deals with Text data.Text data is available to a great extent which is used to analyze and solve business problems. But before using the data for analysis or prediction, processing the data is important.Some of the preprocessing steps are:\n",
    "\n",
    "1-Lower casing the text.\n",
    "\n",
    "2-Removing punctuations like . , ! $( ) * % @\n",
    "\n",
    "3-Removing URLs,html,web signs.\n",
    "\n",
    "4-Tokenization.\n",
    "\n",
    "5-Removing Stop words.\n",
    "\n",
    "6-Stemming \n",
    "\n",
    "7-Lemmatization"
   ]
  },
  {
   "cell_type": "markdown",
   "metadata": {},
   "source": [
    "### Import the necessary libraries"
   ]
  },
  {
   "cell_type": "code",
   "execution_count": 1,
   "metadata": {},
   "outputs": [],
   "source": [
    "import pandas as pd\n",
    "import numpy as np\n",
    "import matplotlib.pyplot as plt\n",
    "from sklearn.model_selection import train_test_split\n",
    "from sklearn.metrics import confusion_matrix\n",
    "from sklearn.metrics import plot_confusion_matrix\n",
    "from sklearn.metrics import classification_report\n",
    "from sklearn.model_selection import cross_val_score\n",
    "from sklearn.preprocessing import LabelEncoder\n",
    "from  nltk import FreqDist\n",
    "import re\n",
    "from sklearn.naive_bayes import MultinomialNB"
   ]
  },
  {
   "cell_type": "markdown",
   "metadata": {},
   "source": [
    "After imported all the necessary libraries and functions , we'll need to get the dataset."
   ]
  },
  {
   "cell_type": "markdown",
   "metadata": {},
   "source": [
    "### Importing the dataset¶\n",
    "Let's start by importing the dataset from csv file into a pandas dataframe using pandas read_csv()."
   ]
  },
  {
   "cell_type": "code",
   "execution_count": 2,
   "metadata": {
    "scrolled": true
   },
   "outputs": [
    {
     "data": {
      "text/html": [
       "<div>\n",
       "<style scoped>\n",
       "    .dataframe tbody tr th:only-of-type {\n",
       "        vertical-align: middle;\n",
       "    }\n",
       "\n",
       "    .dataframe tbody tr th {\n",
       "        vertical-align: top;\n",
       "    }\n",
       "\n",
       "    .dataframe thead th {\n",
       "        text-align: right;\n",
       "    }\n",
       "</style>\n",
       "<table border=\"1\" class=\"dataframe\">\n",
       "  <thead>\n",
       "    <tr style=\"text-align: right;\">\n",
       "      <th></th>\n",
       "      <th>tweet_text</th>\n",
       "      <th>emotion_in_tweet_is_directed_at</th>\n",
       "      <th>is_there_an_emotion_directed_at_a_brand_or_product</th>\n",
       "    </tr>\n",
       "  </thead>\n",
       "  <tbody>\n",
       "    <tr>\n",
       "      <th>0</th>\n",
       "      <td>.@wesley83 I have a 3G iPhone. After 3 hrs twe...</td>\n",
       "      <td>iPhone</td>\n",
       "      <td>Negative emotion</td>\n",
       "    </tr>\n",
       "    <tr>\n",
       "      <th>1</th>\n",
       "      <td>@jessedee Know about @fludapp ? Awesome iPad/i...</td>\n",
       "      <td>iPad or iPhone App</td>\n",
       "      <td>Positive emotion</td>\n",
       "    </tr>\n",
       "    <tr>\n",
       "      <th>2</th>\n",
       "      <td>@swonderlin Can not wait for #iPad 2 also. The...</td>\n",
       "      <td>iPad</td>\n",
       "      <td>Positive emotion</td>\n",
       "    </tr>\n",
       "    <tr>\n",
       "      <th>3</th>\n",
       "      <td>@sxsw I hope this year's festival isn't as cra...</td>\n",
       "      <td>iPad or iPhone App</td>\n",
       "      <td>Negative emotion</td>\n",
       "    </tr>\n",
       "    <tr>\n",
       "      <th>4</th>\n",
       "      <td>@sxtxstate great stuff on Fri #SXSW: Marissa M...</td>\n",
       "      <td>Google</td>\n",
       "      <td>Positive emotion</td>\n",
       "    </tr>\n",
       "  </tbody>\n",
       "</table>\n",
       "</div>"
      ],
      "text/plain": [
       "                                          tweet_text  \\\n",
       "0  .@wesley83 I have a 3G iPhone. After 3 hrs twe...   \n",
       "1  @jessedee Know about @fludapp ? Awesome iPad/i...   \n",
       "2  @swonderlin Can not wait for #iPad 2 also. The...   \n",
       "3  @sxsw I hope this year's festival isn't as cra...   \n",
       "4  @sxtxstate great stuff on Fri #SXSW: Marissa M...   \n",
       "\n",
       "  emotion_in_tweet_is_directed_at  \\\n",
       "0                          iPhone   \n",
       "1              iPad or iPhone App   \n",
       "2                            iPad   \n",
       "3              iPad or iPhone App   \n",
       "4                          Google   \n",
       "\n",
       "  is_there_an_emotion_directed_at_a_brand_or_product  \n",
       "0                                   Negative emotion  \n",
       "1                                   Positive emotion  \n",
       "2                                   Positive emotion  \n",
       "3                                   Negative emotion  \n",
       "4                                   Positive emotion  "
      ]
     },
     "execution_count": 2,
     "metadata": {},
     "output_type": "execute_result"
    }
   ],
   "source": [
    "# Loading data from csv file  to a data frame\n",
    "# Display the top five rows of the data frame by using .head() method\n",
    "\n",
    "tweets= pd.read_csv(\"data/judge-1377884607_tweet_product_company.csv\",encoding = \"ISO-8859-1\")\n",
    "tweets.head()"
   ]
  },
  {
   "cell_type": "markdown",
   "metadata": {},
   "source": [
    "Let's check the dimensionality of the DataFrame by using the .shape method."
   ]
  },
  {
   "cell_type": "code",
   "execution_count": 3,
   "metadata": {
    "scrolled": true
   },
   "outputs": [
    {
     "data": {
      "text/plain": [
       "(9093, 3)"
      ]
     },
     "execution_count": 3,
     "metadata": {},
     "output_type": "execute_result"
    }
   ],
   "source": [
    "tweets.shape"
   ]
  },
  {
   "cell_type": "markdown",
   "metadata": {},
   "source": [
    "Our data frame consist of 9093 rows and 3 columns."
   ]
  },
  {
   "cell_type": "markdown",
   "metadata": {},
   "source": [
    "### Preprocessing data\n",
    "Now, we'll perform any necessary preprocessing on our dataset before training our model."
   ]
  },
  {
   "cell_type": "code",
   "execution_count": 4,
   "metadata": {
    "scrolled": true
   },
   "outputs": [
    {
     "name": "stdout",
     "output_type": "stream",
     "text": [
      "<class 'pandas.core.frame.DataFrame'>\n",
      "RangeIndex: 9093 entries, 0 to 9092\n",
      "Data columns (total 3 columns):\n",
      " #   Column                                              Non-Null Count  Dtype \n",
      "---  ------                                              --------------  ----- \n",
      " 0   tweet_text                                          9092 non-null   object\n",
      " 1   emotion_in_tweet_is_directed_at                     3291 non-null   object\n",
      " 2   is_there_an_emotion_directed_at_a_brand_or_product  9093 non-null   object\n",
      "dtypes: object(3)\n",
      "memory usage: 213.2+ KB\n"
     ]
    }
   ],
   "source": [
    "# Getting a summary for the data frame \n",
    "tweets.info()"
   ]
  },
  {
   "cell_type": "markdown",
   "metadata": {},
   "source": [
    "We can notice that the columns' data types are objects.\n",
    "\n",
    "We have the target column (is_there_an_emotion_directed_at_a_brand_or_product) that refers to classification information ."
   ]
  },
  {
   "cell_type": "markdown",
   "metadata": {},
   "source": [
    "Let's discover the target column by using the.value_counts() method."
   ]
  },
  {
   "cell_type": "code",
   "execution_count": 5,
   "metadata": {
    "scrolled": false
   },
   "outputs": [
    {
     "data": {
      "text/plain": [
       "No emotion toward brand or product    5389\n",
       "Positive emotion                      2978\n",
       "Negative emotion                       570\n",
       "I can't tell                           156\n",
       "Name: is_there_an_emotion_directed_at_a_brand_or_product, dtype: int64"
      ]
     },
     "execution_count": 5,
     "metadata": {},
     "output_type": "execute_result"
    }
   ],
   "source": [
    "# find the count of unique values in the column.\n",
    "tweets.is_there_an_emotion_directed_at_a_brand_or_product.value_counts()"
   ]
  },
  {
   "cell_type": "markdown",
   "metadata": {},
   "source": [
    "#### Handle Missing Values\n",
    "In this step, we will assess the presence of NaN values in our subset of data by using the.isna() method."
   ]
  },
  {
   "cell_type": "code",
   "execution_count": 6,
   "metadata": {
    "scrolled": true
   },
   "outputs": [
    {
     "data": {
      "text/plain": [
       "tweet_text                                               1\n",
       "emotion_in_tweet_is_directed_at                       5802\n",
       "is_there_an_emotion_directed_at_a_brand_or_product       0\n",
       "dtype: int64"
      ]
     },
     "execution_count": 6,
     "metadata": {},
     "output_type": "execute_result"
    }
   ],
   "source": [
    "#Checking for missing values\n",
    "tweets.isna().sum()"
   ]
  },
  {
   "cell_type": "markdown",
   "metadata": {},
   "source": [
    "We have a huge nummber of missing values in our dataset."
   ]
  },
  {
   "cell_type": "code",
   "execution_count": 7,
   "metadata": {
    "scrolled": false
   },
   "outputs": [
    {
     "data": {
      "text/plain": [
       "iPad                               946\n",
       "Apple                              661\n",
       "iPad or iPhone App                 470\n",
       "Google                             430\n",
       "iPhone                             297\n",
       "Other Google product or service    293\n",
       "Android App                         81\n",
       "Android                             78\n",
       "Other Apple product or service      35\n",
       "Name: emotion_in_tweet_is_directed_at, dtype: int64"
      ]
     },
     "execution_count": 7,
     "metadata": {},
     "output_type": "execute_result"
    }
   ],
   "source": [
    "# find the count of unique values in the column.\n",
    "tweets.emotion_in_tweet_is_directed_at.value_counts()"
   ]
  },
  {
   "cell_type": "markdown",
   "metadata": {},
   "source": [
    "Let's fill NaN values using the .fillna()method on (emotion_in_tweet_is_directed_at) column."
   ]
  },
  {
   "cell_type": "code",
   "execution_count": 8,
   "metadata": {},
   "outputs": [],
   "source": [
    "# fillna() on a column.\n",
    "tweets[\"emotion_in_tweet_is_directed_at\"].fillna(\"No product\", inplace = True)\n",
    " "
   ]
  },
  {
   "cell_type": "code",
   "execution_count": 9,
   "metadata": {
    "scrolled": true
   },
   "outputs": [
    {
     "data": {
      "text/plain": [
       "tweet_text                                            1\n",
       "emotion_in_tweet_is_directed_at                       0\n",
       "is_there_an_emotion_directed_at_a_brand_or_product    0\n",
       "dtype: int64"
      ]
     },
     "execution_count": 9,
     "metadata": {},
     "output_type": "execute_result"
    }
   ],
   "source": [
    "#Checking for missing values\n",
    "tweets.isna().sum()"
   ]
  },
  {
   "cell_type": "markdown",
   "metadata": {},
   "source": [
    "We still have one missing value."
   ]
  },
  {
   "cell_type": "markdown",
   "metadata": {},
   "source": [
    "Let's drop NaN values using the .dropna()method on (tweet_text) column."
   ]
  },
  {
   "cell_type": "code",
   "execution_count": 10,
   "metadata": {
    "scrolled": true
   },
   "outputs": [
    {
     "data": {
      "text/html": [
       "<div>\n",
       "<style scoped>\n",
       "    .dataframe tbody tr th:only-of-type {\n",
       "        vertical-align: middle;\n",
       "    }\n",
       "\n",
       "    .dataframe tbody tr th {\n",
       "        vertical-align: top;\n",
       "    }\n",
       "\n",
       "    .dataframe thead th {\n",
       "        text-align: right;\n",
       "    }\n",
       "</style>\n",
       "<table border=\"1\" class=\"dataframe\">\n",
       "  <thead>\n",
       "    <tr style=\"text-align: right;\">\n",
       "      <th></th>\n",
       "      <th>tweet_text</th>\n",
       "      <th>emotion_in_tweet_is_directed_at</th>\n",
       "      <th>is_there_an_emotion_directed_at_a_brand_or_product</th>\n",
       "    </tr>\n",
       "  </thead>\n",
       "  <tbody>\n",
       "    <tr>\n",
       "      <th>0</th>\n",
       "      <td>.@wesley83 I have a 3G iPhone. After 3 hrs twe...</td>\n",
       "      <td>iPhone</td>\n",
       "      <td>Negative emotion</td>\n",
       "    </tr>\n",
       "    <tr>\n",
       "      <th>1</th>\n",
       "      <td>@jessedee Know about @fludapp ? Awesome iPad/i...</td>\n",
       "      <td>iPad or iPhone App</td>\n",
       "      <td>Positive emotion</td>\n",
       "    </tr>\n",
       "    <tr>\n",
       "      <th>2</th>\n",
       "      <td>@swonderlin Can not wait for #iPad 2 also. The...</td>\n",
       "      <td>iPad</td>\n",
       "      <td>Positive emotion</td>\n",
       "    </tr>\n",
       "    <tr>\n",
       "      <th>3</th>\n",
       "      <td>@sxsw I hope this year's festival isn't as cra...</td>\n",
       "      <td>iPad or iPhone App</td>\n",
       "      <td>Negative emotion</td>\n",
       "    </tr>\n",
       "    <tr>\n",
       "      <th>4</th>\n",
       "      <td>@sxtxstate great stuff on Fri #SXSW: Marissa M...</td>\n",
       "      <td>Google</td>\n",
       "      <td>Positive emotion</td>\n",
       "    </tr>\n",
       "    <tr>\n",
       "      <th>...</th>\n",
       "      <td>...</td>\n",
       "      <td>...</td>\n",
       "      <td>...</td>\n",
       "    </tr>\n",
       "    <tr>\n",
       "      <th>9088</th>\n",
       "      <td>Ipad everywhere. #SXSW {link}</td>\n",
       "      <td>iPad</td>\n",
       "      <td>Positive emotion</td>\n",
       "    </tr>\n",
       "    <tr>\n",
       "      <th>9089</th>\n",
       "      <td>Wave, buzz... RT @mention We interrupt your re...</td>\n",
       "      <td>No product</td>\n",
       "      <td>No emotion toward brand or product</td>\n",
       "    </tr>\n",
       "    <tr>\n",
       "      <th>9090</th>\n",
       "      <td>Google's Zeiger, a physician never reported po...</td>\n",
       "      <td>No product</td>\n",
       "      <td>No emotion toward brand or product</td>\n",
       "    </tr>\n",
       "    <tr>\n",
       "      <th>9091</th>\n",
       "      <td>Some Verizon iPhone customers complained their...</td>\n",
       "      <td>No product</td>\n",
       "      <td>No emotion toward brand or product</td>\n",
       "    </tr>\n",
       "    <tr>\n",
       "      <th>9092</th>\n",
       "      <td>Ï¡Ïàü_ÊÎÒ£Áââ_£â_ÛâRT @...</td>\n",
       "      <td>No product</td>\n",
       "      <td>No emotion toward brand or product</td>\n",
       "    </tr>\n",
       "  </tbody>\n",
       "</table>\n",
       "<p>9092 rows × 3 columns</p>\n",
       "</div>"
      ],
      "text/plain": [
       "                                             tweet_text  \\\n",
       "0     .@wesley83 I have a 3G iPhone. After 3 hrs twe...   \n",
       "1     @jessedee Know about @fludapp ? Awesome iPad/i...   \n",
       "2     @swonderlin Can not wait for #iPad 2 also. The...   \n",
       "3     @sxsw I hope this year's festival isn't as cra...   \n",
       "4     @sxtxstate great stuff on Fri #SXSW: Marissa M...   \n",
       "...                                                 ...   \n",
       "9088                      Ipad everywhere. #SXSW {link}   \n",
       "9089  Wave, buzz... RT @mention We interrupt your re...   \n",
       "9090  Google's Zeiger, a physician never reported po...   \n",
       "9091  Some Verizon iPhone customers complained their...   \n",
       "9092  Ï¡Ïàü_ÊÎÒ£Áââ_£â_ÛâRT @...   \n",
       "\n",
       "     emotion_in_tweet_is_directed_at  \\\n",
       "0                             iPhone   \n",
       "1                 iPad or iPhone App   \n",
       "2                               iPad   \n",
       "3                 iPad or iPhone App   \n",
       "4                             Google   \n",
       "...                              ...   \n",
       "9088                            iPad   \n",
       "9089                      No product   \n",
       "9090                      No product   \n",
       "9091                      No product   \n",
       "9092                      No product   \n",
       "\n",
       "     is_there_an_emotion_directed_at_a_brand_or_product  \n",
       "0                                      Negative emotion  \n",
       "1                                      Positive emotion  \n",
       "2                                      Positive emotion  \n",
       "3                                      Negative emotion  \n",
       "4                                      Positive emotion  \n",
       "...                                                 ...  \n",
       "9088                                   Positive emotion  \n",
       "9089                 No emotion toward brand or product  \n",
       "9090                 No emotion toward brand or product  \n",
       "9091                 No emotion toward brand or product  \n",
       "9092                 No emotion toward brand or product  \n",
       "\n",
       "[9092 rows x 3 columns]"
      ]
     },
     "execution_count": 10,
     "metadata": {},
     "output_type": "execute_result"
    }
   ],
   "source": [
    "# drop NaN value on a column.\n",
    "tweets.dropna()"
   ]
  },
  {
   "cell_type": "markdown",
   "metadata": {},
   "source": [
    "Now we dont have any missing value in our dataset."
   ]
  },
  {
   "cell_type": "markdown",
   "metadata": {},
   "source": [
    "Renaming the columns in a Pandas Dataframe is by using the rename() function."
   ]
  },
  {
   "cell_type": "code",
   "execution_count": 11,
   "metadata": {
    "scrolled": false
   },
   "outputs": [
    {
     "data": {
      "text/html": [
       "<div>\n",
       "<style scoped>\n",
       "    .dataframe tbody tr th:only-of-type {\n",
       "        vertical-align: middle;\n",
       "    }\n",
       "\n",
       "    .dataframe tbody tr th {\n",
       "        vertical-align: top;\n",
       "    }\n",
       "\n",
       "    .dataframe thead th {\n",
       "        text-align: right;\n",
       "    }\n",
       "</style>\n",
       "<table border=\"1\" class=\"dataframe\">\n",
       "  <thead>\n",
       "    <tr style=\"text-align: right;\">\n",
       "      <th></th>\n",
       "      <th>tweet_text</th>\n",
       "      <th>product</th>\n",
       "      <th>catogory</th>\n",
       "    </tr>\n",
       "  </thead>\n",
       "  <tbody>\n",
       "    <tr>\n",
       "      <th>0</th>\n",
       "      <td>.@wesley83 I have a 3G iPhone. After 3 hrs twe...</td>\n",
       "      <td>iPhone</td>\n",
       "      <td>Negative emotion</td>\n",
       "    </tr>\n",
       "    <tr>\n",
       "      <th>1</th>\n",
       "      <td>@jessedee Know about @fludapp ? Awesome iPad/i...</td>\n",
       "      <td>iPad or iPhone App</td>\n",
       "      <td>Positive emotion</td>\n",
       "    </tr>\n",
       "    <tr>\n",
       "      <th>2</th>\n",
       "      <td>@swonderlin Can not wait for #iPad 2 also. The...</td>\n",
       "      <td>iPad</td>\n",
       "      <td>Positive emotion</td>\n",
       "    </tr>\n",
       "    <tr>\n",
       "      <th>3</th>\n",
       "      <td>@sxsw I hope this year's festival isn't as cra...</td>\n",
       "      <td>iPad or iPhone App</td>\n",
       "      <td>Negative emotion</td>\n",
       "    </tr>\n",
       "    <tr>\n",
       "      <th>4</th>\n",
       "      <td>@sxtxstate great stuff on Fri #SXSW: Marissa M...</td>\n",
       "      <td>Google</td>\n",
       "      <td>Positive emotion</td>\n",
       "    </tr>\n",
       "    <tr>\n",
       "      <th>...</th>\n",
       "      <td>...</td>\n",
       "      <td>...</td>\n",
       "      <td>...</td>\n",
       "    </tr>\n",
       "    <tr>\n",
       "      <th>9088</th>\n",
       "      <td>Ipad everywhere. #SXSW {link}</td>\n",
       "      <td>iPad</td>\n",
       "      <td>Positive emotion</td>\n",
       "    </tr>\n",
       "    <tr>\n",
       "      <th>9089</th>\n",
       "      <td>Wave, buzz... RT @mention We interrupt your re...</td>\n",
       "      <td>No product</td>\n",
       "      <td>No emotion toward brand or product</td>\n",
       "    </tr>\n",
       "    <tr>\n",
       "      <th>9090</th>\n",
       "      <td>Google's Zeiger, a physician never reported po...</td>\n",
       "      <td>No product</td>\n",
       "      <td>No emotion toward brand or product</td>\n",
       "    </tr>\n",
       "    <tr>\n",
       "      <th>9091</th>\n",
       "      <td>Some Verizon iPhone customers complained their...</td>\n",
       "      <td>No product</td>\n",
       "      <td>No emotion toward brand or product</td>\n",
       "    </tr>\n",
       "    <tr>\n",
       "      <th>9092</th>\n",
       "      <td>Ï¡Ïàü_ÊÎÒ£Áââ_£â_ÛâRT @...</td>\n",
       "      <td>No product</td>\n",
       "      <td>No emotion toward brand or product</td>\n",
       "    </tr>\n",
       "  </tbody>\n",
       "</table>\n",
       "<p>9093 rows × 3 columns</p>\n",
       "</div>"
      ],
      "text/plain": [
       "                                             tweet_text             product  \\\n",
       "0     .@wesley83 I have a 3G iPhone. After 3 hrs twe...              iPhone   \n",
       "1     @jessedee Know about @fludapp ? Awesome iPad/i...  iPad or iPhone App   \n",
       "2     @swonderlin Can not wait for #iPad 2 also. The...                iPad   \n",
       "3     @sxsw I hope this year's festival isn't as cra...  iPad or iPhone App   \n",
       "4     @sxtxstate great stuff on Fri #SXSW: Marissa M...              Google   \n",
       "...                                                 ...                 ...   \n",
       "9088                      Ipad everywhere. #SXSW {link}                iPad   \n",
       "9089  Wave, buzz... RT @mention We interrupt your re...          No product   \n",
       "9090  Google's Zeiger, a physician never reported po...          No product   \n",
       "9091  Some Verizon iPhone customers complained their...          No product   \n",
       "9092  Ï¡Ïàü_ÊÎÒ£Áââ_£â_ÛâRT @...          No product   \n",
       "\n",
       "                                catogory  \n",
       "0                       Negative emotion  \n",
       "1                       Positive emotion  \n",
       "2                       Positive emotion  \n",
       "3                       Negative emotion  \n",
       "4                       Positive emotion  \n",
       "...                                  ...  \n",
       "9088                    Positive emotion  \n",
       "9089  No emotion toward brand or product  \n",
       "9090  No emotion toward brand or product  \n",
       "9091  No emotion toward brand or product  \n",
       "9092  No emotion toward brand or product  \n",
       "\n",
       "[9093 rows x 3 columns]"
      ]
     },
     "execution_count": 11,
     "metadata": {},
     "output_type": "execute_result"
    }
   ],
   "source": [
    "#Rename the columns\n",
    "tweets.rename(columns = {'emotion_in_tweet_is_directed_at':'product', 'is_there_an_emotion_directed_at_a_brand_or_product':'catogory'}, inplace = True)\n",
    "tweets"
   ]
  },
  {
   "cell_type": "markdown",
   "metadata": {},
   "source": [
    "Pandas has an options API configure and customize global behavior related to DataFrame display, data behavior.\n"
   ]
  },
  {
   "cell_type": "markdown",
   "metadata": {},
   "source": [
    "Now we can take a look at the tweets with \"I can't tell\" emotion values to see if we can notice any patterns or tell easily whether the tweet has a negative, neutral or positive emotion."
   ]
  },
  {
   "cell_type": "code",
   "execution_count": 12,
   "metadata": {
    "scrolled": true
   },
   "outputs": [
    {
     "data": {
      "text/html": [
       "<div>\n",
       "<style scoped>\n",
       "    .dataframe tbody tr th:only-of-type {\n",
       "        vertical-align: middle;\n",
       "    }\n",
       "\n",
       "    .dataframe tbody tr th {\n",
       "        vertical-align: top;\n",
       "    }\n",
       "\n",
       "    .dataframe thead th {\n",
       "        text-align: right;\n",
       "    }\n",
       "</style>\n",
       "<table border=\"1\" class=\"dataframe\">\n",
       "  <thead>\n",
       "    <tr style=\"text-align: right;\">\n",
       "      <th></th>\n",
       "      <th>tweet_text</th>\n",
       "      <th>product</th>\n",
       "      <th>catogory</th>\n",
       "    </tr>\n",
       "  </thead>\n",
       "  <tbody>\n",
       "    <tr>\n",
       "      <th>90</th>\n",
       "      <td>Thanks to @mention for publishing the news of @mention new medical Apps at the #sxswi conf. blog {link} #sxsw #sxswh</td>\n",
       "      <td>No product</td>\n",
       "      <td>I can't tell</td>\n",
       "    </tr>\n",
       "    <tr>\n",
       "      <th>102</th>\n",
       "      <td>ÛÏ@mention &amp;quot;Apple has opened a pop-up store in Austin so the nerds in town for #SXSW can get their new iPads. {link} #wow</td>\n",
       "      <td>No product</td>\n",
       "      <td>I can't tell</td>\n",
       "    </tr>\n",
       "    <tr>\n",
       "      <th>237</th>\n",
       "      <td>Just what America needs. RT @mention Google to Launch Major New Social Network Called Circles, Possibly Today {link} #sxsw</td>\n",
       "      <td>No product</td>\n",
       "      <td>I can't tell</td>\n",
       "    </tr>\n",
       "    <tr>\n",
       "      <th>341</th>\n",
       "      <td>The queue at the Apple Store in Austin is FOUR blocks long. Crazy stuff! #sxsw</td>\n",
       "      <td>No product</td>\n",
       "      <td>I can't tell</td>\n",
       "    </tr>\n",
       "    <tr>\n",
       "      <th>368</th>\n",
       "      <td>Hope it's better than wave RT @mention Buzz is: Google's previewing a social networking platform at #SXSW: {link}</td>\n",
       "      <td>No product</td>\n",
       "      <td>I can't tell</td>\n",
       "    </tr>\n",
       "    <tr>\n",
       "      <th>...</th>\n",
       "      <td>...</td>\n",
       "      <td>...</td>\n",
       "      <td>...</td>\n",
       "    </tr>\n",
       "    <tr>\n",
       "      <th>9020</th>\n",
       "      <td>It's funny watching a room full of people hold their iPad in the air to take a photo. Like a room full of tablets staring you down. #SXSW</td>\n",
       "      <td>No product</td>\n",
       "      <td>I can't tell</td>\n",
       "    </tr>\n",
       "    <tr>\n",
       "      <th>9032</th>\n",
       "      <td>@mention yeah, we have @mention , Google has nothing on us :) #SXSW</td>\n",
       "      <td>No product</td>\n",
       "      <td>I can't tell</td>\n",
       "    </tr>\n",
       "    <tr>\n",
       "      <th>9037</th>\n",
       "      <td>@mention Yes, the Google presentation was not exactly what I was expecting. #sxsw</td>\n",
       "      <td>No product</td>\n",
       "      <td>I can't tell</td>\n",
       "    </tr>\n",
       "    <tr>\n",
       "      <th>9058</th>\n",
       "      <td>&amp;quot;Do you know what Apple is really good at? Making you feel bad about your Xmas present!&amp;quot; - Seth Meyers on iPad2 #sxsw #doyoureallyneedthat?</td>\n",
       "      <td>No product</td>\n",
       "      <td>I can't tell</td>\n",
       "    </tr>\n",
       "    <tr>\n",
       "      <th>9066</th>\n",
       "      <td>How much you want to bet Apple is disproportionately stocking the #SXSW pop-up store with iPad 2? The influencer/hipsters thank you</td>\n",
       "      <td>Apple</td>\n",
       "      <td>I can't tell</td>\n",
       "    </tr>\n",
       "  </tbody>\n",
       "</table>\n",
       "<p>156 rows × 3 columns</p>\n",
       "</div>"
      ],
      "text/plain": [
       "                                                                                                                                                 tweet_text  \\\n",
       "90                                     Thanks to @mention for publishing the news of @mention new medical Apps at the #sxswi conf. blog {link} #sxsw #sxswh   \n",
       "102                         ÛÏ@mention &quot;Apple has opened a pop-up store in Austin so the nerds in town for #SXSW can get their new iPads. {link} #wow   \n",
       "237                              Just what America needs. RT @mention Google to Launch Major New Social Network Called Circles, Possibly Today {link} #sxsw   \n",
       "341                                                                          The queue at the Apple Store in Austin is FOUR blocks long. Crazy stuff! #sxsw   \n",
       "368                                       Hope it's better than wave RT @mention Buzz is: Google's previewing a social networking platform at #SXSW: {link}   \n",
       "...                                                                                                                                                     ...   \n",
       "9020              It's funny watching a room full of people hold their iPad in the air to take a photo. Like a room full of tablets staring you down. #SXSW   \n",
       "9032                                                                                    @mention yeah, we have @mention , Google has nothing on us :) #SXSW   \n",
       "9037                                                                      @mention Yes, the Google presentation was not exactly what I was expecting. #sxsw   \n",
       "9058  &quot;Do you know what Apple is really good at? Making you feel bad about your Xmas present!&quot; - Seth Meyers on iPad2 #sxsw #doyoureallyneedthat?   \n",
       "9066                    How much you want to bet Apple is disproportionately stocking the #SXSW pop-up store with iPad 2? The influencer/hipsters thank you   \n",
       "\n",
       "         product      catogory  \n",
       "90    No product  I can't tell  \n",
       "102   No product  I can't tell  \n",
       "237   No product  I can't tell  \n",
       "341   No product  I can't tell  \n",
       "368   No product  I can't tell  \n",
       "...          ...           ...  \n",
       "9020  No product  I can't tell  \n",
       "9032  No product  I can't tell  \n",
       "9037  No product  I can't tell  \n",
       "9058  No product  I can't tell  \n",
       "9066       Apple  I can't tell  \n",
       "\n",
       "[156 rows x 3 columns]"
      ]
     },
     "execution_count": 12,
     "metadata": {},
     "output_type": "execute_result"
    }
   ],
   "source": [
    "# changing the max_rows value\n",
    "pd.set_option(\"display.max_colwidth\", 300)\n",
    "tweets[tweets['catogory']==\"I can't tell\"]"
   ]
  },
  {
   "cell_type": "markdown",
   "metadata": {},
   "source": [
    "Since we need to have labels for our models, these tweets will not be useful in developing our model.So we can go ahead and drop these rows."
   ]
  },
  {
   "cell_type": "code",
   "execution_count": 13,
   "metadata": {
    "scrolled": true
   },
   "outputs": [
    {
     "data": {
      "text/plain": [
       "No emotion toward brand or product    5389\n",
       "Positive emotion                      2978\n",
       "Negative emotion                       570\n",
       "Name: catogory, dtype: int64"
      ]
     },
     "execution_count": 13,
     "metadata": {},
     "output_type": "execute_result"
    }
   ],
   "source": [
    "# filter the data frame\n",
    "# find the count of unique values in the column.\n",
    "tweets = tweets[tweets['catogory']!=\"I can't tell\"]\n",
    "tweets['catogory'].value_counts()"
   ]
  },
  {
   "cell_type": "markdown",
   "metadata": {},
   "source": [
    "Checking for Duplicates to make sure if we have the same tweets represented multiple times.\n",
    "Pandas duplicated() method helps in analyzing duplicate values only."
   ]
  },
  {
   "cell_type": "code",
   "execution_count": 14,
   "metadata": {
    "scrolled": true
   },
   "outputs": [
    {
     "data": {
      "text/plain": [
       "22"
      ]
     },
     "execution_count": 14,
     "metadata": {},
     "output_type": "execute_result"
    }
   ],
   "source": [
    "#Checking for duplicate values\n",
    "len(tweets[tweets.duplicated()])"
   ]
  },
  {
   "cell_type": "markdown",
   "metadata": {},
   "source": [
    "We have 22 row duplicated on our data frame lets drop them."
   ]
  },
  {
   "cell_type": "code",
   "execution_count": 15,
   "metadata": {
    "scrolled": true
   },
   "outputs": [
    {
     "data": {
      "text/html": [
       "<div>\n",
       "<style scoped>\n",
       "    .dataframe tbody tr th:only-of-type {\n",
       "        vertical-align: middle;\n",
       "    }\n",
       "\n",
       "    .dataframe tbody tr th {\n",
       "        vertical-align: top;\n",
       "    }\n",
       "\n",
       "    .dataframe thead th {\n",
       "        text-align: right;\n",
       "    }\n",
       "</style>\n",
       "<table border=\"1\" class=\"dataframe\">\n",
       "  <thead>\n",
       "    <tr style=\"text-align: right;\">\n",
       "      <th></th>\n",
       "      <th>tweet_text</th>\n",
       "      <th>product</th>\n",
       "      <th>catogory</th>\n",
       "    </tr>\n",
       "  </thead>\n",
       "  <tbody>\n",
       "    <tr>\n",
       "      <th>468</th>\n",
       "      <td>Before It Even Begins, Apple Wins #SXSW {link}</td>\n",
       "      <td>Apple</td>\n",
       "      <td>Positive emotion</td>\n",
       "    </tr>\n",
       "    <tr>\n",
       "      <th>776</th>\n",
       "      <td>Google to Launch Major New Social Network Called Circles, Possibly Today {link} #sxsw</td>\n",
       "      <td>No product</td>\n",
       "      <td>No emotion toward brand or product</td>\n",
       "    </tr>\n",
       "    <tr>\n",
       "      <th>2232</th>\n",
       "      <td>Marissa Mayer: Google Will Connect the Digital &amp;amp; Physical Worlds Through Mobile - {link} #sxsw</td>\n",
       "      <td>No product</td>\n",
       "      <td>No emotion toward brand or product</td>\n",
       "    </tr>\n",
       "    <tr>\n",
       "      <th>2559</th>\n",
       "      <td>Counting down the days to #sxsw plus strong Canadian dollar means stock up on Apple gear</td>\n",
       "      <td>Apple</td>\n",
       "      <td>Positive emotion</td>\n",
       "    </tr>\n",
       "    <tr>\n",
       "      <th>3950</th>\n",
       "      <td>Really enjoying the changes in Gowalla 3.0 for Android! Looking forward to seeing what else they &amp;amp; Foursquare have up their sleeves at #SXSW</td>\n",
       "      <td>Android App</td>\n",
       "      <td>Positive emotion</td>\n",
       "    </tr>\n",
       "    <tr>\n",
       "      <th>3962</th>\n",
       "      <td>#SXSW is just starting, #CTIA is around the corner and #googleio is only a hop skip and a jump from there, good time to be an #android fan</td>\n",
       "      <td>Android</td>\n",
       "      <td>Positive emotion</td>\n",
       "    </tr>\n",
       "    <tr>\n",
       "      <th>4897</th>\n",
       "      <td>Oh. My. God. The #SXSW app for iPad is pure, unadulterated awesome. It's easier to browse events on iPad than on the website!!!</td>\n",
       "      <td>iPad or iPhone App</td>\n",
       "      <td>Positive emotion</td>\n",
       "    </tr>\n",
       "    <tr>\n",
       "      <th>5338</th>\n",
       "      <td>RT @mention ÷¼ GO BEYOND BORDERS! ÷_ {link} ã_ #edchat #musedchat #sxsw #sxswi #classical #newTwitter</td>\n",
       "      <td>No product</td>\n",
       "      <td>No emotion toward brand or product</td>\n",
       "    </tr>\n",
       "    <tr>\n",
       "      <th>5341</th>\n",
       "      <td>RT @mention ÷¼ Happy Woman's Day! Make love, not fuss! ÷_ {link} ã_ #edchat #musedchat #sxsw #sxswi #classical #newTwitter</td>\n",
       "      <td>No product</td>\n",
       "      <td>No emotion toward brand or product</td>\n",
       "    </tr>\n",
       "    <tr>\n",
       "      <th>5881</th>\n",
       "      <td>RT @mention Google to Launch Major New Social Network Called Circles, Possibly Today {link} #sxsw</td>\n",
       "      <td>No product</td>\n",
       "      <td>No emotion toward brand or product</td>\n",
       "    </tr>\n",
       "    <tr>\n",
       "      <th>5882</th>\n",
       "      <td>RT @mention Google to Launch Major New Social Network Called Circles, Possibly Today {link} #SXSW</td>\n",
       "      <td>No product</td>\n",
       "      <td>No emotion toward brand or product</td>\n",
       "    </tr>\n",
       "    <tr>\n",
       "      <th>5883</th>\n",
       "      <td>RT @mention Google to Launch Major New Social Network Called Circles, Possibly Today {link} #sxsw</td>\n",
       "      <td>No product</td>\n",
       "      <td>No emotion toward brand or product</td>\n",
       "    </tr>\n",
       "    <tr>\n",
       "      <th>5884</th>\n",
       "      <td>RT @mention Google to Launch Major New Social Network Called Circles, Possibly Today {link} #SXSW</td>\n",
       "      <td>No product</td>\n",
       "      <td>No emotion toward brand or product</td>\n",
       "    </tr>\n",
       "    <tr>\n",
       "      <th>5885</th>\n",
       "      <td>RT @mention Google to Launch Major New Social Network Called Circles, Possibly Today {link} #sxsw</td>\n",
       "      <td>No product</td>\n",
       "      <td>No emotion toward brand or product</td>\n",
       "    </tr>\n",
       "    <tr>\n",
       "      <th>6296</th>\n",
       "      <td>RT @mention Marissa Mayer: Google Will Connect the Digital &amp;amp; Physical Worlds Through Mobile - {link} #sxsw</td>\n",
       "      <td>Google</td>\n",
       "      <td>Positive emotion</td>\n",
       "    </tr>\n",
       "    <tr>\n",
       "      <th>6297</th>\n",
       "      <td>RT @mention Marissa Mayer: Google Will Connect the Digital &amp;amp; Physical Worlds Through Mobile - {link} #SXSW</td>\n",
       "      <td>No product</td>\n",
       "      <td>No emotion toward brand or product</td>\n",
       "    </tr>\n",
       "    <tr>\n",
       "      <th>6298</th>\n",
       "      <td>RT @mention Marissa Mayer: Google Will Connect the Digital &amp;amp; Physical Worlds Through Mobile - {link} #sxsw</td>\n",
       "      <td>Google</td>\n",
       "      <td>Positive emotion</td>\n",
       "    </tr>\n",
       "    <tr>\n",
       "      <th>6299</th>\n",
       "      <td>RT @mention Marissa Mayer: Google Will Connect the Digital &amp;amp; Physical Worlds Through Mobile - {link} #SXSW</td>\n",
       "      <td>No product</td>\n",
       "      <td>No emotion toward brand or product</td>\n",
       "    </tr>\n",
       "    <tr>\n",
       "      <th>6300</th>\n",
       "      <td>RT @mention Marissa Mayer: Google Will Connect the Digital &amp;amp; Physical Worlds Through Mobile - {link} #sxsw</td>\n",
       "      <td>No product</td>\n",
       "      <td>No emotion toward brand or product</td>\n",
       "    </tr>\n",
       "    <tr>\n",
       "      <th>6546</th>\n",
       "      <td>RT @mention RT @mention Google to Launch Major New Social Network Called Circles, Possibly Today {link} #sxsw</td>\n",
       "      <td>No product</td>\n",
       "      <td>No emotion toward brand or product</td>\n",
       "    </tr>\n",
       "    <tr>\n",
       "      <th>8483</th>\n",
       "      <td>I just noticed DST is coming this weekend. How many iPhone users will be an hour late at SXSW come Sunday morning? #SXSW #iPhone</td>\n",
       "      <td>iPhone</td>\n",
       "      <td>Negative emotion</td>\n",
       "    </tr>\n",
       "    <tr>\n",
       "      <th>8747</th>\n",
       "      <td>Need to buy an iPad2 while I'm in Austin at #sxsw. Not sure if I'll need to Q up at an Austin Apple store?</td>\n",
       "      <td>iPad</td>\n",
       "      <td>Positive emotion</td>\n",
       "    </tr>\n",
       "  </tbody>\n",
       "</table>\n",
       "</div>"
      ],
      "text/plain": [
       "                                                                                                                                            tweet_text  \\\n",
       "468                                                                                                     Before It Even Begins, Apple Wins #SXSW {link}   \n",
       "776                                                              Google to Launch Major New Social Network Called Circles, Possibly Today {link} #sxsw   \n",
       "2232                                                Marissa Mayer: Google Will Connect the Digital &amp; Physical Worlds Through Mobile - {link} #sxsw   \n",
       "2559                                                          Counting down the days to #sxsw plus strong Canadian dollar means stock up on Apple gear   \n",
       "3950  Really enjoying the changes in Gowalla 3.0 for Android! Looking forward to seeing what else they &amp; Foursquare have up their sleeves at #SXSW   \n",
       "3962        #SXSW is just starting, #CTIA is around the corner and #googleio is only a hop skip and a jump from there, good time to be an #android fan   \n",
       "4897                   Oh. My. God. The #SXSW app for iPad is pure, unadulterated awesome. It's easier to browse events on iPad than on the website!!!   \n",
       "5338                                          RT @mention ÷¼ GO BEYOND BORDERS! ÷_ {link} ã_ #edchat #musedchat #sxsw #sxswi #classical #newTwitter   \n",
       "5341                     RT @mention ÷¼ Happy Woman's Day! Make love, not fuss! ÷_ {link} ã_ #edchat #musedchat #sxsw #sxswi #classical #newTwitter   \n",
       "5881                                                 RT @mention Google to Launch Major New Social Network Called Circles, Possibly Today {link} #sxsw   \n",
       "5882                                                 RT @mention Google to Launch Major New Social Network Called Circles, Possibly Today {link} #SXSW   \n",
       "5883                                                 RT @mention Google to Launch Major New Social Network Called Circles, Possibly Today {link} #sxsw   \n",
       "5884                                                 RT @mention Google to Launch Major New Social Network Called Circles, Possibly Today {link} #SXSW   \n",
       "5885                                                 RT @mention Google to Launch Major New Social Network Called Circles, Possibly Today {link} #sxsw   \n",
       "6296                                    RT @mention Marissa Mayer: Google Will Connect the Digital &amp; Physical Worlds Through Mobile - {link} #sxsw   \n",
       "6297                                    RT @mention Marissa Mayer: Google Will Connect the Digital &amp; Physical Worlds Through Mobile - {link} #SXSW   \n",
       "6298                                    RT @mention Marissa Mayer: Google Will Connect the Digital &amp; Physical Worlds Through Mobile - {link} #sxsw   \n",
       "6299                                    RT @mention Marissa Mayer: Google Will Connect the Digital &amp; Physical Worlds Through Mobile - {link} #SXSW   \n",
       "6300                                    RT @mention Marissa Mayer: Google Will Connect the Digital &amp; Physical Worlds Through Mobile - {link} #sxsw   \n",
       "6546                                     RT @mention RT @mention Google to Launch Major New Social Network Called Circles, Possibly Today {link} #sxsw   \n",
       "8483                  I just noticed DST is coming this weekend. How many iPhone users will be an hour late at SXSW come Sunday morning? #SXSW #iPhone   \n",
       "8747                                        Need to buy an iPad2 while I'm in Austin at #sxsw. Not sure if I'll need to Q up at an Austin Apple store?   \n",
       "\n",
       "                 product                            catogory  \n",
       "468                Apple                    Positive emotion  \n",
       "776           No product  No emotion toward brand or product  \n",
       "2232          No product  No emotion toward brand or product  \n",
       "2559               Apple                    Positive emotion  \n",
       "3950         Android App                    Positive emotion  \n",
       "3962             Android                    Positive emotion  \n",
       "4897  iPad or iPhone App                    Positive emotion  \n",
       "5338          No product  No emotion toward brand or product  \n",
       "5341          No product  No emotion toward brand or product  \n",
       "5881          No product  No emotion toward brand or product  \n",
       "5882          No product  No emotion toward brand or product  \n",
       "5883          No product  No emotion toward brand or product  \n",
       "5884          No product  No emotion toward brand or product  \n",
       "5885          No product  No emotion toward brand or product  \n",
       "6296              Google                    Positive emotion  \n",
       "6297          No product  No emotion toward brand or product  \n",
       "6298              Google                    Positive emotion  \n",
       "6299          No product  No emotion toward brand or product  \n",
       "6300          No product  No emotion toward brand or product  \n",
       "6546          No product  No emotion toward brand or product  \n",
       "8483              iPhone                    Negative emotion  \n",
       "8747                iPad                    Positive emotion  "
      ]
     },
     "execution_count": 15,
     "metadata": {},
     "output_type": "execute_result"
    }
   ],
   "source": [
    "#Let's take a look at the duplicates\n",
    "tweets[tweets.duplicated()]"
   ]
  },
  {
   "cell_type": "code",
   "execution_count": 16,
   "metadata": {
    "scrolled": true
   },
   "outputs": [
    {
     "name": "stderr",
     "output_type": "stream",
     "text": [
      "<ipython-input-16-670b2505256b>:2: SettingWithCopyWarning: \n",
      "A value is trying to be set on a copy of a slice from a DataFrame\n",
      "\n",
      "See the caveats in the documentation: https://pandas.pydata.org/pandas-docs/stable/user_guide/indexing.html#returning-a-view-versus-a-copy\n",
      "  tweets.drop_duplicates(keep='first', inplace=True)\n"
     ]
    },
    {
     "data": {
      "text/html": [
       "<div>\n",
       "<style scoped>\n",
       "    .dataframe tbody tr th:only-of-type {\n",
       "        vertical-align: middle;\n",
       "    }\n",
       "\n",
       "    .dataframe tbody tr th {\n",
       "        vertical-align: top;\n",
       "    }\n",
       "\n",
       "    .dataframe thead th {\n",
       "        text-align: right;\n",
       "    }\n",
       "</style>\n",
       "<table border=\"1\" class=\"dataframe\">\n",
       "  <thead>\n",
       "    <tr style=\"text-align: right;\">\n",
       "      <th></th>\n",
       "      <th>tweet_text</th>\n",
       "      <th>product</th>\n",
       "      <th>catogory</th>\n",
       "    </tr>\n",
       "  </thead>\n",
       "  <tbody>\n",
       "    <tr>\n",
       "      <th>0</th>\n",
       "      <td>.@wesley83 I have a 3G iPhone. After 3 hrs tweeting at #RISE_Austin, it was dead!  I need to upgrade. Plugin stations at #SXSW.</td>\n",
       "      <td>iPhone</td>\n",
       "      <td>Negative emotion</td>\n",
       "    </tr>\n",
       "    <tr>\n",
       "      <th>1</th>\n",
       "      <td>@jessedee Know about @fludapp ? Awesome iPad/iPhone app that you'll likely appreciate for its design. Also, they're giving free Ts at #SXSW</td>\n",
       "      <td>iPad or iPhone App</td>\n",
       "      <td>Positive emotion</td>\n",
       "    </tr>\n",
       "    <tr>\n",
       "      <th>2</th>\n",
       "      <td>@swonderlin Can not wait for #iPad 2 also. They should sale them down at #SXSW.</td>\n",
       "      <td>iPad</td>\n",
       "      <td>Positive emotion</td>\n",
       "    </tr>\n",
       "    <tr>\n",
       "      <th>3</th>\n",
       "      <td>@sxsw I hope this year's festival isn't as crashy as this year's iPhone app. #sxsw</td>\n",
       "      <td>iPad or iPhone App</td>\n",
       "      <td>Negative emotion</td>\n",
       "    </tr>\n",
       "    <tr>\n",
       "      <th>4</th>\n",
       "      <td>@sxtxstate great stuff on Fri #SXSW: Marissa Mayer (Google), Tim O'Reilly (tech books/conferences) &amp;amp; Matt Mullenweg (Wordpress)</td>\n",
       "      <td>Google</td>\n",
       "      <td>Positive emotion</td>\n",
       "    </tr>\n",
       "    <tr>\n",
       "      <th>...</th>\n",
       "      <td>...</td>\n",
       "      <td>...</td>\n",
       "      <td>...</td>\n",
       "    </tr>\n",
       "    <tr>\n",
       "      <th>9088</th>\n",
       "      <td>Ipad everywhere. #SXSW {link}</td>\n",
       "      <td>iPad</td>\n",
       "      <td>Positive emotion</td>\n",
       "    </tr>\n",
       "    <tr>\n",
       "      <th>9089</th>\n",
       "      <td>Wave, buzz... RT @mention We interrupt your regularly scheduled #sxsw geek programming with big news {link}  #google #circles</td>\n",
       "      <td>No product</td>\n",
       "      <td>No emotion toward brand or product</td>\n",
       "    </tr>\n",
       "    <tr>\n",
       "      <th>9090</th>\n",
       "      <td>Google's Zeiger, a physician never reported potential AE. Yet FDA relies on physicians. &amp;quot;We're operating w/out data.&amp;quot; #sxsw #health2dev</td>\n",
       "      <td>No product</td>\n",
       "      <td>No emotion toward brand or product</td>\n",
       "    </tr>\n",
       "    <tr>\n",
       "      <th>9091</th>\n",
       "      <td>Some Verizon iPhone customers complained their time fell back an hour this weekend.  Of course they were the New Yorkers who attended #SXSW.</td>\n",
       "      <td>No product</td>\n",
       "      <td>No emotion toward brand or product</td>\n",
       "    </tr>\n",
       "    <tr>\n",
       "      <th>9092</th>\n",
       "      <td>Ï¡Ïàü_ÊÎÒ£Áââ_£â_ÛâRT @mention Google Tests ÛÏCheck-in OffersÛ At #SXSW {link}</td>\n",
       "      <td>No product</td>\n",
       "      <td>No emotion toward brand or product</td>\n",
       "    </tr>\n",
       "  </tbody>\n",
       "</table>\n",
       "<p>8915 rows × 3 columns</p>\n",
       "</div>"
      ],
      "text/plain": [
       "                                                                                                                                             tweet_text  \\\n",
       "0                       .@wesley83 I have a 3G iPhone. After 3 hrs tweeting at #RISE_Austin, it was dead!  I need to upgrade. Plugin stations at #SXSW.   \n",
       "1           @jessedee Know about @fludapp ? Awesome iPad/iPhone app that you'll likely appreciate for its design. Also, they're giving free Ts at #SXSW   \n",
       "2                                                                       @swonderlin Can not wait for #iPad 2 also. They should sale them down at #SXSW.   \n",
       "3                                                                    @sxsw I hope this year's festival isn't as crashy as this year's iPhone app. #sxsw   \n",
       "4                   @sxtxstate great stuff on Fri #SXSW: Marissa Mayer (Google), Tim O'Reilly (tech books/conferences) &amp; Matt Mullenweg (Wordpress)   \n",
       "...                                                                                                                                                 ...   \n",
       "9088                                                                                                                      Ipad everywhere. #SXSW {link}   \n",
       "9089                      Wave, buzz... RT @mention We interrupt your regularly scheduled #sxsw geek programming with big news {link}  #google #circles   \n",
       "9090  Google's Zeiger, a physician never reported potential AE. Yet FDA relies on physicians. &quot;We're operating w/out data.&quot; #sxsw #health2dev   \n",
       "9091       Some Verizon iPhone customers complained their time fell back an hour this weekend.  Of course they were the New Yorkers who attended #SXSW.   \n",
       "9092                                           Ï¡Ïàü_ÊÎÒ£Áââ_£â_ÛâRT @mention Google Tests ÛÏCheck-in OffersÛ At #SXSW {link}   \n",
       "\n",
       "                 product                            catogory  \n",
       "0                 iPhone                    Negative emotion  \n",
       "1     iPad or iPhone App                    Positive emotion  \n",
       "2                   iPad                    Positive emotion  \n",
       "3     iPad or iPhone App                    Negative emotion  \n",
       "4                 Google                    Positive emotion  \n",
       "...                  ...                                 ...  \n",
       "9088                iPad                    Positive emotion  \n",
       "9089          No product  No emotion toward brand or product  \n",
       "9090          No product  No emotion toward brand or product  \n",
       "9091          No product  No emotion toward brand or product  \n",
       "9092          No product  No emotion toward brand or product  \n",
       "\n",
       "[8915 rows x 3 columns]"
      ]
     },
     "execution_count": 16,
     "metadata": {},
     "output_type": "execute_result"
    }
   ],
   "source": [
    "# Drop the duplicates rows\n",
    "tweets.drop_duplicates(keep='first', inplace=True)\n",
    "tweets"
   ]
  },
  {
   "cell_type": "markdown",
   "metadata": {},
   "source": [
    "Let's take a look on our target"
   ]
  },
  {
   "cell_type": "markdown",
   "metadata": {},
   "source": [
    "#### Check for Imbalance\n",
    "Class imbalance is generally normal in classification problems. Sometimes when the records of a certain class are much more than the other class, our classifier may get biased towards the prediction."
   ]
  },
  {
   "cell_type": "code",
   "execution_count": 17,
   "metadata": {},
   "outputs": [
    {
     "data": {
      "text/plain": [
       "No emotion toward brand or product    0.603029\n",
       "Positive emotion                      0.333146\n",
       "Negative emotion                      0.063825\n",
       "Name: catogory, dtype: float64"
      ]
     },
     "execution_count": 17,
     "metadata": {},
     "output_type": "execute_result"
    }
   ],
   "source": [
    "tweets['catogory'].value_counts(normalize=True)"
   ]
  },
  {
   "cell_type": "code",
   "execution_count": 18,
   "metadata": {
    "scrolled": true
   },
   "outputs": [
    {
     "data": {
      "image/png": "[encoded data removed]",
      "text/plain": [
       "<Figure size 432x288 with 1 Axes>"
      ]
     },
     "metadata": {
      "needs_background": "light"
     },
     "output_type": "display_data"
    }
   ],
   "source": [
    "# visualize the target values\n",
    "tweets[\"catogory\"].value_counts().plot(kind='bar')\n",
    "plt.title('Emotion on products')\n",
    "plt.xlabel('Emotion')\n",
    "plt.ylabel('Number of tweets')\n",
    "plt.show()"
   ]
  },
  {
   "cell_type": "markdown",
   "metadata": {},
   "source": [
    "In machine learning, we usually deal with datasets that contain multiple labels in one or more than one columns. These labels can be in the form of words or numbers. To make the data understandable or in human-readable form, the training data is often labelled in words."
   ]
  },
  {
   "cell_type": "markdown",
   "metadata": {},
   "source": [
    "We will use Label Encoding refers to converting the labels into a numeric form so as to convert them into the machine-readable form."
   ]
  },
  {
   "cell_type": "code",
   "execution_count": 19,
   "metadata": {},
   "outputs": [
    {
     "name": "stderr",
     "output_type": "stream",
     "text": [
      "<ipython-input-19-b53b58ba2405>:4: SettingWithCopyWarning: \n",
      "A value is trying to be set on a copy of a slice from a DataFrame.\n",
      "Try using .loc[row_indexer,col_indexer] = value instead\n",
      "\n",
      "See the caveats in the documentation: https://pandas.pydata.org/pandas-docs/stable/user_guide/indexing.html#returning-a-view-versus-a-copy\n",
      "  tweets[\"catogory\"] = labelencoder.fit_transform(tweets[\"catogory\"])\n"
     ]
    }
   ],
   "source": [
    "from sklearn.preprocessing import LabelEncoder\n",
    "# creating instance of labelencoder\n",
    "labelencoder = LabelEncoder()\n",
    "tweets[\"catogory\"] = labelencoder.fit_transform(tweets[\"catogory\"])"
   ]
  },
  {
   "cell_type": "code",
   "execution_count": 20,
   "metadata": {
    "scrolled": false
   },
   "outputs": [
    {
     "data": {
      "text/html": [
       "<div>\n",
       "<style scoped>\n",
       "    .dataframe tbody tr th:only-of-type {\n",
       "        vertical-align: middle;\n",
       "    }\n",
       "\n",
       "    .dataframe tbody tr th {\n",
       "        vertical-align: top;\n",
       "    }\n",
       "\n",
       "    .dataframe thead th {\n",
       "        text-align: right;\n",
       "    }\n",
       "</style>\n",
       "<table border=\"1\" class=\"dataframe\">\n",
       "  <thead>\n",
       "    <tr style=\"text-align: right;\">\n",
       "      <th></th>\n",
       "      <th>tweet_text</th>\n",
       "      <th>product</th>\n",
       "      <th>catogory</th>\n",
       "    </tr>\n",
       "  </thead>\n",
       "  <tbody>\n",
       "    <tr>\n",
       "      <th>0</th>\n",
       "      <td>.@wesley83 I have a 3G iPhone. After 3 hrs tweeting at #RISE_Austin, it was dead!  I need to upgrade. Plugin stations at #SXSW.</td>\n",
       "      <td>iPhone</td>\n",
       "      <td>0</td>\n",
       "    </tr>\n",
       "    <tr>\n",
       "      <th>1</th>\n",
       "      <td>@jessedee Know about @fludapp ? Awesome iPad/iPhone app that you'll likely appreciate for its design. Also, they're giving free Ts at #SXSW</td>\n",
       "      <td>iPad or iPhone App</td>\n",
       "      <td>2</td>\n",
       "    </tr>\n",
       "    <tr>\n",
       "      <th>2</th>\n",
       "      <td>@swonderlin Can not wait for #iPad 2 also. They should sale them down at #SXSW.</td>\n",
       "      <td>iPad</td>\n",
       "      <td>2</td>\n",
       "    </tr>\n",
       "    <tr>\n",
       "      <th>3</th>\n",
       "      <td>@sxsw I hope this year's festival isn't as crashy as this year's iPhone app. #sxsw</td>\n",
       "      <td>iPad or iPhone App</td>\n",
       "      <td>0</td>\n",
       "    </tr>\n",
       "    <tr>\n",
       "      <th>4</th>\n",
       "      <td>@sxtxstate great stuff on Fri #SXSW: Marissa Mayer (Google), Tim O'Reilly (tech books/conferences) &amp;amp; Matt Mullenweg (Wordpress)</td>\n",
       "      <td>Google</td>\n",
       "      <td>2</td>\n",
       "    </tr>\n",
       "  </tbody>\n",
       "</table>\n",
       "</div>"
      ],
      "text/plain": [
       "                                                                                                                                    tweet_text  \\\n",
       "0              .@wesley83 I have a 3G iPhone. After 3 hrs tweeting at #RISE_Austin, it was dead!  I need to upgrade. Plugin stations at #SXSW.   \n",
       "1  @jessedee Know about @fludapp ? Awesome iPad/iPhone app that you'll likely appreciate for its design. Also, they're giving free Ts at #SXSW   \n",
       "2                                                              @swonderlin Can not wait for #iPad 2 also. They should sale them down at #SXSW.   \n",
       "3                                                           @sxsw I hope this year's festival isn't as crashy as this year's iPhone app. #sxsw   \n",
       "4          @sxtxstate great stuff on Fri #SXSW: Marissa Mayer (Google), Tim O'Reilly (tech books/conferences) &amp; Matt Mullenweg (Wordpress)   \n",
       "\n",
       "              product  catogory  \n",
       "0              iPhone         0  \n",
       "1  iPad or iPhone App         2  \n",
       "2                iPad         2  \n",
       "3  iPad or iPhone App         0  \n",
       "4              Google         2  "
      ]
     },
     "execution_count": 20,
     "metadata": {},
     "output_type": "execute_result"
    }
   ],
   "source": [
    "# Display the top five rows of the data frame by using .head() method\n",
    "tweets.head()"
   ]
  },
  {
   "cell_type": "markdown",
   "metadata": {},
   "source": [
    "###### Create features,target"
   ]
  },
  {
   "cell_type": "markdown",
   "metadata": {},
   "source": [
    "Now we need to create our features set X and target y:\n",
    "\n",
    "Create X and y by selecting the appropriate columns from the dataset."
   ]
  },
  {
   "cell_type": "markdown",
   "metadata": {},
   "source": [
    "Features :Every row in the dataset only contains one feature: a string containing the full text.\n",
    "\n",
    "target :tweets sentiment either if it was negative,positive,or neutral\n"
   ]
  },
  {
   "cell_type": "code",
   "execution_count": 21,
   "metadata": {},
   "outputs": [],
   "source": [
    "# Split the data into target and Features\n",
    "X=tweets[\"tweet_text\"]\n",
    "y=tweets[\"catogory\"]"
   ]
  },
  {
   "cell_type": "markdown",
   "metadata": {},
   "source": [
    "###### Perform a Train-Test Split\n",
    "Use train_test_split with 75/25 split on the dataset for training/test. \n",
    "\n",
    "Use random_state=42.At the end we should have X_train, X_test, y_train, and y_test variables,where y represents churn and X represents all other features."
   ]
  },
  {
   "cell_type": "code",
   "execution_count": 22,
   "metadata": {},
   "outputs": [],
   "source": [
    "# split the data into train and test sets\n",
    "X_train,X_test,y_train,y_test = train_test_split(X,y,test_size=0.25,random_state =42)"
   ]
  },
  {
   "cell_type": "code",
   "execution_count": 23,
   "metadata": {
    "scrolled": true
   },
   "outputs": [
    {
     "data": {
      "text/html": [
       "<div>\n",
       "<style scoped>\n",
       "    .dataframe tbody tr th:only-of-type {\n",
       "        vertical-align: middle;\n",
       "    }\n",
       "\n",
       "    .dataframe tbody tr th {\n",
       "        vertical-align: top;\n",
       "    }\n",
       "\n",
       "    .dataframe thead th {\n",
       "        text-align: right;\n",
       "    }\n",
       "</style>\n",
       "<table border=\"1\" class=\"dataframe\">\n",
       "  <thead>\n",
       "    <tr style=\"text-align: right;\">\n",
       "      <th></th>\n",
       "      <th>tweet_text</th>\n",
       "    </tr>\n",
       "  </thead>\n",
       "  <tbody>\n",
       "    <tr>\n",
       "      <th>9055</th>\n",
       "      <td>@mention you give away that iPad yet.... ? #sxsw</td>\n",
       "    </tr>\n",
       "    <tr>\n",
       "      <th>4203</th>\n",
       "      <td>{link} Killer shot I got last night of @mention at the #nokiaconnects concert for #SXSW</td>\n",
       "    </tr>\n",
       "    <tr>\n",
       "      <th>1277</th>\n",
       "      <td>Please if u were able to [...] attend #sxsw or buy an iPad today, consider saving a few $$ for Japan earthquake relief (via @mention</td>\n",
       "    </tr>\n",
       "    <tr>\n",
       "      <th>6334</th>\n",
       "      <td>RT @mention My informal unscientific observation is that #Apple is by far the computer of choice at #SXSW. Hands ... {link}</td>\n",
       "    </tr>\n",
       "    <tr>\n",
       "      <th>5515</th>\n",
       "      <td>RT @mention At #SXSW? Get the SoundCloud iPhone app {link} and start recording. Use 4sq geotagging to be on the map: {link}</td>\n",
       "    </tr>\n",
       "  </tbody>\n",
       "</table>\n",
       "</div>"
      ],
      "text/plain": [
       "                                                                                                                                tweet_text\n",
       "9055                                                                                      @mention you give away that iPad yet.... ? #sxsw\n",
       "4203                                               {link} Killer shot I got last night of @mention at the #nokiaconnects concert for #SXSW\n",
       "1277  Please if u were able to [...] attend #sxsw or buy an iPad today, consider saving a few $$ for Japan earthquake relief (via @mention\n",
       "6334           RT @mention My informal unscientific observation is that #Apple is by far the computer of choice at #SXSW. Hands ... {link}\n",
       "5515           RT @mention At #SXSW? Get the SoundCloud iPhone app {link} and start recording. Use 4sq geotagging to be on the map: {link}"
      ]
     },
     "execution_count": 23,
     "metadata": {},
     "output_type": "execute_result"
    }
   ],
   "source": [
    "# Display the top five rows of the X_train data frame\n",
    "X_train = pd.DataFrame(X_train)\n",
    "X_train.head()"
   ]
  },
  {
   "cell_type": "code",
   "execution_count": 24,
   "metadata": {
    "scrolled": true
   },
   "outputs": [
    {
     "data": {
      "text/html": [
       "<div>\n",
       "<style scoped>\n",
       "    .dataframe tbody tr th:only-of-type {\n",
       "        vertical-align: middle;\n",
       "    }\n",
       "\n",
       "    .dataframe tbody tr th {\n",
       "        vertical-align: top;\n",
       "    }\n",
       "\n",
       "    .dataframe thead th {\n",
       "        text-align: right;\n",
       "    }\n",
       "</style>\n",
       "<table border=\"1\" class=\"dataframe\">\n",
       "  <thead>\n",
       "    <tr style=\"text-align: right;\">\n",
       "      <th></th>\n",
       "      <th>catogory</th>\n",
       "    </tr>\n",
       "  </thead>\n",
       "  <tbody>\n",
       "    <tr>\n",
       "      <th>9055</th>\n",
       "      <td>1</td>\n",
       "    </tr>\n",
       "    <tr>\n",
       "      <th>4203</th>\n",
       "      <td>1</td>\n",
       "    </tr>\n",
       "    <tr>\n",
       "      <th>1277</th>\n",
       "      <td>1</td>\n",
       "    </tr>\n",
       "    <tr>\n",
       "      <th>6334</th>\n",
       "      <td>2</td>\n",
       "    </tr>\n",
       "    <tr>\n",
       "      <th>5515</th>\n",
       "      <td>1</td>\n",
       "    </tr>\n",
       "  </tbody>\n",
       "</table>\n",
       "</div>"
      ],
      "text/plain": [
       "      catogory\n",
       "9055         1\n",
       "4203         1\n",
       "1277         1\n",
       "6334         2\n",
       "5515         1"
      ]
     },
     "execution_count": 24,
     "metadata": {},
     "output_type": "execute_result"
    }
   ],
   "source": [
    "# Display the top five rows of the y_train data frame\n",
    "y_train = pd.DataFrame(y_train)\n",
    "y_train.head()"
   ]
  },
  {
   "cell_type": "code",
   "execution_count": 25,
   "metadata": {
    "scrolled": true
   },
   "outputs": [
    {
     "data": {
      "text/html": [
       "<div>\n",
       "<style scoped>\n",
       "    .dataframe tbody tr th:only-of-type {\n",
       "        vertical-align: middle;\n",
       "    }\n",
       "\n",
       "    .dataframe tbody tr th {\n",
       "        vertical-align: top;\n",
       "    }\n",
       "\n",
       "    .dataframe thead th {\n",
       "        text-align: right;\n",
       "    }\n",
       "</style>\n",
       "<table border=\"1\" class=\"dataframe\">\n",
       "  <thead>\n",
       "    <tr style=\"text-align: right;\">\n",
       "      <th></th>\n",
       "      <th>tweet_text</th>\n",
       "    </tr>\n",
       "  </thead>\n",
       "  <tbody>\n",
       "    <tr>\n",
       "      <th>1715</th>\n",
       "      <td>All this #sxsw gadget lust is rubbing off on me, I think I want an iPad 2... must escape soon!</td>\n",
       "    </tr>\n",
       "    <tr>\n",
       "      <th>8922</th>\n",
       "      <td>Walkin down the street @mention is navigating via Google, I'm tweeting and random guy is yelping!! Welcome to #SXSW!!</td>\n",
       "    </tr>\n",
       "    <tr>\n",
       "      <th>4672</th>\n",
       "      <td>I'm listening to 'Get By' by Talib Kweli via the Discovr app on my iPhone while I'm on a plane to #sxsw. Love Gogo.  {link}</td>\n",
       "    </tr>\n",
       "    <tr>\n",
       "      <th>7371</th>\n",
       "      <td>Awesome iPhone cases for @mention here at #sxsw!</td>\n",
       "    </tr>\n",
       "    <tr>\n",
       "      <th>8069</th>\n",
       "      <td>A Google Spreadsheet of over 270 parties at #SXSW this year O_O {link}</td>\n",
       "    </tr>\n",
       "  </tbody>\n",
       "</table>\n",
       "</div>"
      ],
      "text/plain": [
       "                                                                                                                       tweet_text\n",
       "1715                               All this #sxsw gadget lust is rubbing off on me, I think I want an iPad 2... must escape soon!\n",
       "8922        Walkin down the street @mention is navigating via Google, I'm tweeting and random guy is yelping!! Welcome to #SXSW!!\n",
       "4672  I'm listening to 'Get By' by Talib Kweli via the Discovr app on my iPhone while I'm on a plane to #sxsw. Love Gogo.  {link}\n",
       "7371                                                                             Awesome iPhone cases for @mention here at #sxsw!\n",
       "8069                                                       A Google Spreadsheet of over 270 parties at #SXSW this year O_O {link}"
      ]
     },
     "execution_count": 25,
     "metadata": {},
     "output_type": "execute_result"
    }
   ],
   "source": [
    "# Display the top five rows of the X_test data frame\n",
    "X_test = pd.DataFrame(X_test)\n",
    "X_test.head()"
   ]
  },
  {
   "cell_type": "code",
   "execution_count": 26,
   "metadata": {
    "scrolled": true
   },
   "outputs": [
    {
     "data": {
      "text/html": [
       "<div>\n",
       "<style scoped>\n",
       "    .dataframe tbody tr th:only-of-type {\n",
       "        vertical-align: middle;\n",
       "    }\n",
       "\n",
       "    .dataframe tbody tr th {\n",
       "        vertical-align: top;\n",
       "    }\n",
       "\n",
       "    .dataframe thead th {\n",
       "        text-align: right;\n",
       "    }\n",
       "</style>\n",
       "<table border=\"1\" class=\"dataframe\">\n",
       "  <thead>\n",
       "    <tr style=\"text-align: right;\">\n",
       "      <th></th>\n",
       "      <th>catogory</th>\n",
       "    </tr>\n",
       "  </thead>\n",
       "  <tbody>\n",
       "    <tr>\n",
       "      <th>1715</th>\n",
       "      <td>2</td>\n",
       "    </tr>\n",
       "    <tr>\n",
       "      <th>8922</th>\n",
       "      <td>2</td>\n",
       "    </tr>\n",
       "    <tr>\n",
       "      <th>4672</th>\n",
       "      <td>2</td>\n",
       "    </tr>\n",
       "    <tr>\n",
       "      <th>7371</th>\n",
       "      <td>2</td>\n",
       "    </tr>\n",
       "    <tr>\n",
       "      <th>8069</th>\n",
       "      <td>1</td>\n",
       "    </tr>\n",
       "  </tbody>\n",
       "</table>\n",
       "</div>"
      ],
      "text/plain": [
       "      catogory\n",
       "1715         2\n",
       "8922         2\n",
       "4672         2\n",
       "7371         2\n",
       "8069         1"
      ]
     },
     "execution_count": 26,
     "metadata": {},
     "output_type": "execute_result"
    }
   ],
   "source": [
    "# Display the top five rows of the y_train data frame\n",
    "y_test = pd.DataFrame(y_test)\n",
    "y_test.head()"
   ]
  },
  {
   "cell_type": "code",
   "execution_count": 27,
   "metadata": {},
   "outputs": [],
   "source": [
    "# Import the oversampling techniques\n",
    "from imblearn.over_sampling import SMOTE"
   ]
  },
  {
   "cell_type": "markdown",
   "metadata": {},
   "source": [
    "Let's take a look on our tweets on X_train."
   ]
  },
  {
   "cell_type": "code",
   "execution_count": 28,
   "metadata": {},
   "outputs": [
    {
     "data": {
      "text/plain": [
       "'RT @mention Google will launch major new social network called Circles. #SXSW'"
      ]
     },
     "execution_count": 28,
     "metadata": {},
     "output_type": "execute_result"
    }
   ],
   "source": [
    "# Sample of tweets\n",
    "X_train.iloc[150][\"tweet_text\"]"
   ]
  },
  {
   "cell_type": "code",
   "execution_count": 29,
   "metadata": {},
   "outputs": [
    {
     "data": {
      "text/plain": [
       "\"\\x89ÛÏ@mention Buying 2 new iPad's with @mention #geekdate #apple #sxsw #ipad2\\x89Û\\x9d :)\""
      ]
     },
     "execution_count": 29,
     "metadata": {},
     "output_type": "execute_result"
    }
   ],
   "source": [
    "# Sample of tweets\n",
    "X_train.iloc[500][\"tweet_text\"]"
   ]
  },
  {
   "cell_type": "markdown",
   "metadata": {},
   "source": [
    "### Data Cleaning and Exploratory Data Analysis with nltk"
   ]
  },
  {
   "cell_type": "markdown",
   "metadata": {},
   "source": [
    "Natural Language Toolkit\n",
    "NLTK is a leading platform for building Python programs to work with human language data (https://www.nltk.org/)"
   ]
  },
  {
   "cell_type": "markdown",
   "metadata": {},
   "source": [
    "#### Steps to clean the data"
   ]
  },
  {
   "cell_type": "markdown",
   "metadata": {},
   "source": [
    "##### Standardizing Case:\n",
    "In an NLP modeling process, we need to remove capitalize letters,by using .str.lower() method."
   ]
  },
  {
   "cell_type": "code",
   "execution_count": 30,
   "metadata": {
    "scrolled": false
   },
   "outputs": [
    {
     "data": {
      "text/html": [
       "<div>\n",
       "<style scoped>\n",
       "    .dataframe tbody tr th:only-of-type {\n",
       "        vertical-align: middle;\n",
       "    }\n",
       "\n",
       "    .dataframe tbody tr th {\n",
       "        vertical-align: top;\n",
       "    }\n",
       "\n",
       "    .dataframe thead th {\n",
       "        text-align: right;\n",
       "    }\n",
       "</style>\n",
       "<table border=\"1\" class=\"dataframe\">\n",
       "  <thead>\n",
       "    <tr style=\"text-align: right;\">\n",
       "      <th></th>\n",
       "      <th>tweet_text</th>\n",
       "    </tr>\n",
       "  </thead>\n",
       "  <tbody>\n",
       "    <tr>\n",
       "      <th>9055</th>\n",
       "      <td>@mention you give away that ipad yet.... ? #sxsw</td>\n",
       "    </tr>\n",
       "    <tr>\n",
       "      <th>4203</th>\n",
       "      <td>{link} killer shot i got last night of @mention at the #nokiaconnects concert for #sxsw</td>\n",
       "    </tr>\n",
       "    <tr>\n",
       "      <th>1277</th>\n",
       "      <td>please if u were able to [...] attend #sxsw or buy an ipad today, consider saving a few $$ for japan earthquake relief (via @mention</td>\n",
       "    </tr>\n",
       "    <tr>\n",
       "      <th>6334</th>\n",
       "      <td>rt @mention my informal unscientific observation is that #apple is by far the computer of choice at #sxsw. hands ... {link}</td>\n",
       "    </tr>\n",
       "    <tr>\n",
       "      <th>5515</th>\n",
       "      <td>rt @mention at #sxsw? get the soundcloud iphone app {link} and start recording. use 4sq geotagging to be on the map: {link}</td>\n",
       "    </tr>\n",
       "  </tbody>\n",
       "</table>\n",
       "</div>"
      ],
      "text/plain": [
       "                                                                                                                                tweet_text\n",
       "9055                                                                                      @mention you give away that ipad yet.... ? #sxsw\n",
       "4203                                               {link} killer shot i got last night of @mention at the #nokiaconnects concert for #sxsw\n",
       "1277  please if u were able to [...] attend #sxsw or buy an ipad today, consider saving a few $$ for japan earthquake relief (via @mention\n",
       "6334           rt @mention my informal unscientific observation is that #apple is by far the computer of choice at #sxsw. hands ... {link}\n",
       "5515           rt @mention at #sxsw? get the soundcloud iphone app {link} and start recording. use 4sq geotagging to be on the map: {link}"
      ]
     },
     "execution_count": 30,
     "metadata": {},
     "output_type": "execute_result"
    }
   ],
   "source": [
    "# Transform text in X_train to lowercase\n",
    "# Display the top five rows of the X_train\n",
    "X_train[\"tweet_text\"]=X_train['tweet_text'].str.lower()\n",
    "X_train.head()"
   ]
  },
  {
   "cell_type": "markdown",
   "metadata": {},
   "source": [
    "All the text of tweet text column are converted into lower case ."
   ]
  },
  {
   "cell_type": "markdown",
   "metadata": {},
   "source": [
    "Double-check by looking at an example and making sure the text is lowercase:"
   ]
  },
  {
   "cell_type": "code",
   "execution_count": 31,
   "metadata": {
    "scrolled": true
   },
   "outputs": [
    {
     "data": {
      "text/plain": [
       "\"by the way, we're looking for a spanish-speaking trend scout based in austin -&gt; {link} #sxsw\""
      ]
     },
     "execution_count": 31,
     "metadata": {},
     "output_type": "execute_result"
    }
   ],
   "source": [
    "# Sample of tweets\n",
    "X_train.iloc[22][\"tweet_text\"]"
   ]
  },
  {
   "cell_type": "markdown",
   "metadata": {},
   "source": [
    "We can notice that all letters are in lower case."
   ]
  },
  {
   "cell_type": "markdown",
   "metadata": {},
   "source": [
    "We will use Regular Expressions to quickly match patterns and filter through text documents. Regular Expressions cheat sheets help us to generate these patterns by using re library."
   ]
  },
  {
   "cell_type": "markdown",
   "metadata": {},
   "source": [
    "##### Remove URL links :"
   ]
  },
  {
   "cell_type": "markdown",
   "metadata": {},
   "source": [
    "Create a function to remove the URL links from our tweets."
   ]
  },
  {
   "cell_type": "code",
   "execution_count": 32,
   "metadata": {},
   "outputs": [],
   "source": [
    "# Create a function to remove  url from the text\n",
    "import re\n",
    "def remove_url(text):\n",
    "    \"\"\"Given a text, return a text where the url have been removed\"\"\"\n",
    "    p = re.sub('http[^\\s]+','',str(text))\n",
    "    return p"
   ]
  },
  {
   "cell_type": "markdown",
   "metadata": {},
   "source": [
    "Now Let's apply the function on our text,by using the .apply method."
   ]
  },
  {
   "cell_type": "code",
   "execution_count": 33,
   "metadata": {},
   "outputs": [],
   "source": [
    "# Apply the function on the data frame\n",
    "X_train[\"tweet_text\"] = X_train[\"tweet_text\"].apply(remove_url)"
   ]
  },
  {
   "cell_type": "markdown",
   "metadata": {},
   "source": [
    "###### Remove web links :\n",
    "Create a function to remove the web links from our tweets.\n"
   ]
  },
  {
   "cell_type": "code",
   "execution_count": 34,
   "metadata": {},
   "outputs": [],
   "source": [
    "# Create a function to remove  web from the text\n",
    "\n",
    "def remove_web(text):\n",
    "    \"\"\"Given a text, return a text where the web's signs have been\n",
    "    removed\"\"\"\n",
    "    p = re.sub(\"www\\.[a-z]?\\.?(com)+|[a-z]+\\.(com)\",'',str(text))\n",
    "    return p"
   ]
  },
  {
   "cell_type": "markdown",
   "metadata": {},
   "source": [
    "Now Let's apply the function on our text,by using the .apply method."
   ]
  },
  {
   "cell_type": "code",
   "execution_count": 35,
   "metadata": {},
   "outputs": [],
   "source": [
    "# Apply the function on the data frame\n",
    "X_train[\"tweet_text\"] = X_train[\"tweet_text\"].apply(remove_web)"
   ]
  },
  {
   "cell_type": "markdown",
   "metadata": {},
   "source": [
    "###### Remove html links :\n",
    "Create a function to remove the html links from our tweets."
   ]
  },
  {
   "cell_type": "code",
   "execution_count": 36,
   "metadata": {},
   "outputs": [],
   "source": [
    "# Create a function to remove html from the text\n",
    "\n",
    "def remove_html(text):\n",
    "    \"\"\"Given a text, return a text where the html have been\n",
    "    removed\"\"\"\n",
    "    p = re.sub(r'&[a-z]+;','',str(text))\n",
    "    return p"
   ]
  },
  {
   "cell_type": "markdown",
   "metadata": {},
   "source": [
    "Now Let's apply the function on our text,by using the .apply method."
   ]
  },
  {
   "cell_type": "code",
   "execution_count": 37,
   "metadata": {},
   "outputs": [],
   "source": [
    "# Apply the function on the data frame\n",
    "X_train[\"tweet_text\"] = X_train[\"tweet_text\"].apply(remove_html)"
   ]
  },
  {
   "cell_type": "markdown",
   "metadata": {},
   "source": [
    "#### Tokenizing"
   ]
  },
  {
   "cell_type": "markdown",
   "metadata": {},
   "source": [
    "Tokenization: is the process of splitting a text into a list of tokens.\n",
    "We will use ``RegexpTokenizer`` which splits a string into substrings using a regular expression."
   ]
  },
  {
   "cell_type": "code",
   "execution_count": 38,
   "metadata": {},
   "outputs": [],
   "source": [
    "# Import the Tokenizer\n",
    "from nltk.tokenize import RegexpTokenizer\n",
    "# Create a pattern \n",
    "pattern = r\"([a-zA-Z]+(?:'[a-z]+)?)\"\n",
    "# Instantiate the model\n",
    "tokenizer = RegexpTokenizer(pattern)\n",
    "token=tokenizer.tokenize(\"text\")"
   ]
  },
  {
   "cell_type": "markdown",
   "metadata": {},
   "source": [
    "Lets explain the patren\n",
    "\n",
    "(?u): use full unicode string matching\n",
    "\n",
    "\\b: find a word boundary (a word boundary has length 0, and represents the location between non-word characters and word characters)\n",
    "\n",
    "\\w\\w+: find 2 or more word characters (all letters, numbers, and underscores are word characters)\n",
    "\n",
    "\\b: find another word boundary"
   ]
  },
  {
   "cell_type": "markdown",
   "metadata": {},
   "source": [
    "##### Tokenizing the Full Dataset\n",
    "Tokenizing the Full Dataset by using .apply and pass in tokenizer.tokenize."
   ]
  },
  {
   "cell_type": "code",
   "execution_count": 39,
   "metadata": {
    "scrolled": true
   },
   "outputs": [
    {
     "data": {
      "text/html": [
       "<div>\n",
       "<style scoped>\n",
       "    .dataframe tbody tr th:only-of-type {\n",
       "        vertical-align: middle;\n",
       "    }\n",
       "\n",
       "    .dataframe tbody tr th {\n",
       "        vertical-align: top;\n",
       "    }\n",
       "\n",
       "    .dataframe thead th {\n",
       "        text-align: right;\n",
       "    }\n",
       "</style>\n",
       "<table border=\"1\" class=\"dataframe\">\n",
       "  <thead>\n",
       "    <tr style=\"text-align: right;\">\n",
       "      <th></th>\n",
       "      <th>tweet_text</th>\n",
       "      <th>text_tokenized</th>\n",
       "    </tr>\n",
       "  </thead>\n",
       "  <tbody>\n",
       "    <tr>\n",
       "      <th>9055</th>\n",
       "      <td>@mention you give away that ipad yet.... ? #sxsw</td>\n",
       "      <td>[mention, you, give, away, that, ipad, yet, sxsw]</td>\n",
       "    </tr>\n",
       "    <tr>\n",
       "      <th>4203</th>\n",
       "      <td>{link} killer shot i got last night of @mention at the #nokiaconnects concert for #sxsw</td>\n",
       "      <td>[link, killer, shot, i, got, last, night, of, mention, at, the, nokiaconnects, concert, for, sxsw]</td>\n",
       "    </tr>\n",
       "    <tr>\n",
       "      <th>1277</th>\n",
       "      <td>please if u were able to [...] attend #sxsw or buy an ipad today, consider saving a few $$ for japan earthquake relief (via @mention</td>\n",
       "      <td>[please, if, u, were, able, to, attend, sxsw, or, buy, an, ipad, today, consider, saving, a, few, for, japan, earthquake, relief, via, mention]</td>\n",
       "    </tr>\n",
       "    <tr>\n",
       "      <th>6334</th>\n",
       "      <td>rt @mention my informal unscientific observation is that #apple is by far the computer of choice at #sxsw. hands ... {link}</td>\n",
       "      <td>[rt, mention, my, informal, unscientific, observation, is, that, apple, is, by, far, the, computer, of, choice, at, sxsw, hands, link]</td>\n",
       "    </tr>\n",
       "    <tr>\n",
       "      <th>5515</th>\n",
       "      <td>rt @mention at #sxsw? get the soundcloud iphone app {link} and start recording. use 4sq geotagging to be on the map: {link}</td>\n",
       "      <td>[rt, mention, at, sxsw, get, the, soundcloud, iphone, app, link, and, start, recording, use, sq, geotagging, to, be, on, the, map, link]</td>\n",
       "    </tr>\n",
       "    <tr>\n",
       "      <th>...</th>\n",
       "      <td>...</td>\n",
       "      <td>...</td>\n",
       "    </tr>\n",
       "    <tr>\n",
       "      <th>5845</th>\n",
       "      <td>rt @mention google maps for mobile 5.2 looks awesome.#sxsw</td>\n",
       "      <td>[rt, mention, google, maps, for, mobile, looks, awesome, sxsw]</td>\n",
       "    </tr>\n",
       "    <tr>\n",
       "      <th>5291</th>\n",
       "      <td>rt @mention #sxsw go 1.1 for android is live in the android marketplace! new features, including sd card storage and more.  {link} via @mention</td>\n",
       "      <td>[rt, mention, sxsw, go, for, android, is, live, in, the, android, marketplace, new, features, including, sd, card, storage, and, more, link, via, mention]</td>\n",
       "    </tr>\n",
       "    <tr>\n",
       "      <th>5496</th>\n",
       "      <td>rt @mention at #sxsw  want to drink free? get the ask around iphone app to find out where we are  join us for drinks in #austin.</td>\n",
       "      <td>[rt, mention, at, sxsw, want, to, drink, free, get, the, ask, around, iphone, app, to, find, out, where, we, are, join, us, for, drinks, in, austin]</td>\n",
       "    </tr>\n",
       "    <tr>\n",
       "      <th>874</th>\n",
       "      <td>it amazes me how many people don't tuck the flap in on their apple ipad case #sxsw</td>\n",
       "      <td>[it, amazes, me, how, many, people, don't, tuck, the, flap, in, on, their, apple, ipad, case, sxsw]</td>\n",
       "    </tr>\n",
       "    <tr>\n",
       "      <th>7415</th>\n",
       "      <td>pop-up apple store for #sxsw. (@mention apple store, sxsw w/ 86 others) [pic]: {link}</td>\n",
       "      <td>[pop, up, apple, store, for, sxsw, mention, apple, store, sxsw, w, others, pic, link]</td>\n",
       "    </tr>\n",
       "  </tbody>\n",
       "</table>\n",
       "<p>6686 rows × 2 columns</p>\n",
       "</div>"
      ],
      "text/plain": [
       "                                                                                                                                           tweet_text  \\\n",
       "9055                                                                                                 @mention you give away that ipad yet.... ? #sxsw   \n",
       "4203                                                          {link} killer shot i got last night of @mention at the #nokiaconnects concert for #sxsw   \n",
       "1277             please if u were able to [...] attend #sxsw or buy an ipad today, consider saving a few $$ for japan earthquake relief (via @mention   \n",
       "6334                      rt @mention my informal unscientific observation is that #apple is by far the computer of choice at #sxsw. hands ... {link}   \n",
       "5515                      rt @mention at #sxsw? get the soundcloud iphone app {link} and start recording. use 4sq geotagging to be on the map: {link}   \n",
       "...                                                                                                                                               ...   \n",
       "5845                                                                                       rt @mention google maps for mobile 5.2 looks awesome.#sxsw   \n",
       "5291  rt @mention #sxsw go 1.1 for android is live in the android marketplace! new features, including sd card storage and more.  {link} via @mention   \n",
       "5496                 rt @mention at #sxsw  want to drink free? get the ask around iphone app to find out where we are  join us for drinks in #austin.   \n",
       "874                                                                it amazes me how many people don't tuck the flap in on their apple ipad case #sxsw   \n",
       "7415                                                            pop-up apple store for #sxsw. (@mention apple store, sxsw w/ 86 others) [pic]: {link}   \n",
       "\n",
       "                                                                                                                                                  text_tokenized  \n",
       "9055                                                                                                           [mention, you, give, away, that, ipad, yet, sxsw]  \n",
       "4203                                                          [link, killer, shot, i, got, last, night, of, mention, at, the, nokiaconnects, concert, for, sxsw]  \n",
       "1277             [please, if, u, were, able, to, attend, sxsw, or, buy, an, ipad, today, consider, saving, a, few, for, japan, earthquake, relief, via, mention]  \n",
       "6334                      [rt, mention, my, informal, unscientific, observation, is, that, apple, is, by, far, the, computer, of, choice, at, sxsw, hands, link]  \n",
       "5515                    [rt, mention, at, sxsw, get, the, soundcloud, iphone, app, link, and, start, recording, use, sq, geotagging, to, be, on, the, map, link]  \n",
       "...                                                                                                                                                          ...  \n",
       "5845                                                                                              [rt, mention, google, maps, for, mobile, looks, awesome, sxsw]  \n",
       "5291  [rt, mention, sxsw, go, for, android, is, live, in, the, android, marketplace, new, features, including, sd, card, storage, and, more, link, via, mention]  \n",
       "5496        [rt, mention, at, sxsw, want, to, drink, free, get, the, ask, around, iphone, app, to, find, out, where, we, are, join, us, for, drinks, in, austin]  \n",
       "874                                                          [it, amazes, me, how, many, people, don't, tuck, the, flap, in, on, their, apple, ipad, case, sxsw]  \n",
       "7415                                                                       [pop, up, apple, store, for, sxsw, mention, apple, store, sxsw, w, others, pic, link]  \n",
       "\n",
       "[6686 rows x 2 columns]"
      ]
     },
     "execution_count": 39,
     "metadata": {},
     "output_type": "execute_result"
    }
   ],
   "source": [
    "# Create a new column for tokinized words\n",
    "X_train[\"text_tokenized\"]=[(tokenizer.tokenize(str(text)))for text in X_train[\"tweet_text\"]]\n",
    "\n",
    "X_train"
   ]
  },
  {
   "cell_type": "markdown",
   "metadata": {},
   "source": [
    "We can notice that the text is breaking into individual words."
   ]
  },
  {
   "cell_type": "markdown",
   "metadata": {},
   "source": [
    "### Featured Engineering\n",
    "Feature Engineering means converting text data to numerical data. but why it is required to convert text data to numerical data?. because our machine learning model doesn’t understand text data then we have to do feature engineering. This step is also called Feature extraction from text."
   ]
  },
  {
   "cell_type": "markdown",
   "metadata": {},
   "source": [
    "we use multiple techniques to convert text to numerical vectors\n",
    "1. frequency distribution\n",
    "2. Tf-Idf"
   ]
  },
  {
   "cell_type": "markdown",
   "metadata": {},
   "source": [
    "#### Exploratory Data Analysis: Frequency Distributions"
   ]
  },
  {
   "cell_type": "markdown",
   "metadata": {},
   "source": [
    "A frequency distribution records the number of times each outcome of an word has occured."
   ]
  },
  {
   "cell_type": "code",
   "execution_count": 40,
   "metadata": {
    "scrolled": true
   },
   "outputs": [
    {
     "data": {
      "text/plain": [
       "FreqDist({'sxsw': 7086, 'mention': 5209, 'the': 3283, 'link': 3152, 'to': 2652, 'at': 2283, 'ipad': 2190, 'rt': 2142, 'for': 1898, 'google': 1837, ...})"
      ]
     },
     "execution_count": 40,
     "metadata": {},
     "output_type": "execute_result"
    }
   ],
   "source": [
    "# Import FreqDist\n",
    "from  nltk import FreqDist\n",
    "X_train_freqdist = FreqDist(X_train[\"text_tokenized\"].explode())\n",
    "X_train_freqdist"
   ]
  },
  {
   "cell_type": "markdown",
   "metadata": {},
   "source": [
    "We got a dictionary, the keys represented words, and the values are the number of times that the word appears in the text. "
   ]
  },
  {
   "cell_type": "markdown",
   "metadata": {},
   "source": [
    "###### Frequency Distributions Visualization\n",
    "We will create a function to visualize the most frequent words in the text."
   ]
  },
  {
   "cell_type": "code",
   "execution_count": 41,
   "metadata": {
    "scrolled": false
   },
   "outputs": [
    {
     "data": {
      "image/png": "[encoded data removed]",
      "text/plain": [
       "<Figure size 432x288 with 1 Axes>"
      ]
     },
     "metadata": {
      "needs_background": "light"
     },
     "output_type": "display_data"
    }
   ],
   "source": [
    "import matplotlib.pyplot as plt\n",
    "from matplotlib.ticker import MaxNLocator\n",
    "\n",
    "def visualize_top_25(freq_dist, title):\n",
    "\n",
    "    # Extract data for plotting\n",
    "    top_25 = list(zip(*freq_dist.most_common(25)))\n",
    "    stop_words = top_25[0]\n",
    "    counts = top_25[1]\n",
    "\n",
    "    # Set up plot and plot data\n",
    "    fig, ax = plt.subplots()\n",
    "    ax.bar(stop_words, counts)\n",
    "\n",
    "    # Customize plot appearance\n",
    "    ax.set_title(title)\n",
    "    ax.set_ylabel(\"Count\")\n",
    "    ax.yaxis.set_major_locator(MaxNLocator(integer=True))\n",
    "    ax.tick_params(axis=\"x\", rotation=90)\n",
    "    \n",
    "visualize_top_25(X_train_freqdist, \"Top 25 Word Frequency for xtrain dataframe\")"
   ]
  },
  {
   "cell_type": "markdown",
   "metadata": {},
   "source": [
    "These are the most frequented words on the X train data frame."
   ]
  },
  {
   "cell_type": "markdown",
   "metadata": {},
   "source": [
    "###### EXPLORE\n",
    "Based on our business problem, it is important to isolate and analyze positive, negative, and nutral tweets as a whole as well as on a company and product basis. "
   ]
  },
  {
   "cell_type": "markdown",
   "metadata": {},
   "source": [
    "We will create the train set data frame by using the .concat() method to merge x train and y train data frames"
   ]
  },
  {
   "cell_type": "code",
   "execution_count": 42,
   "metadata": {
    "scrolled": true
   },
   "outputs": [
    {
     "data": {
      "text/html": [
       "<div>\n",
       "<style scoped>\n",
       "    .dataframe tbody tr th:only-of-type {\n",
       "        vertical-align: middle;\n",
       "    }\n",
       "\n",
       "    .dataframe tbody tr th {\n",
       "        vertical-align: top;\n",
       "    }\n",
       "\n",
       "    .dataframe thead th {\n",
       "        text-align: right;\n",
       "    }\n",
       "</style>\n",
       "<table border=\"1\" class=\"dataframe\">\n",
       "  <thead>\n",
       "    <tr style=\"text-align: right;\">\n",
       "      <th></th>\n",
       "      <th>tweet_text</th>\n",
       "      <th>text_tokenized</th>\n",
       "      <th>catogory</th>\n",
       "    </tr>\n",
       "  </thead>\n",
       "  <tbody>\n",
       "    <tr>\n",
       "      <th>9055</th>\n",
       "      <td>@mention you give away that ipad yet.... ? #sxsw</td>\n",
       "      <td>[mention, you, give, away, that, ipad, yet, sxsw]</td>\n",
       "      <td>1</td>\n",
       "    </tr>\n",
       "    <tr>\n",
       "      <th>4203</th>\n",
       "      <td>{link} killer shot i got last night of @mention at the #nokiaconnects concert for #sxsw</td>\n",
       "      <td>[link, killer, shot, i, got, last, night, of, mention, at, the, nokiaconnects, concert, for, sxsw]</td>\n",
       "      <td>1</td>\n",
       "    </tr>\n",
       "    <tr>\n",
       "      <th>1277</th>\n",
       "      <td>please if u were able to [...] attend #sxsw or buy an ipad today, consider saving a few $$ for japan earthquake relief (via @mention</td>\n",
       "      <td>[please, if, u, were, able, to, attend, sxsw, or, buy, an, ipad, today, consider, saving, a, few, for, japan, earthquake, relief, via, mention]</td>\n",
       "      <td>1</td>\n",
       "    </tr>\n",
       "    <tr>\n",
       "      <th>6334</th>\n",
       "      <td>rt @mention my informal unscientific observation is that #apple is by far the computer of choice at #sxsw. hands ... {link}</td>\n",
       "      <td>[rt, mention, my, informal, unscientific, observation, is, that, apple, is, by, far, the, computer, of, choice, at, sxsw, hands, link]</td>\n",
       "      <td>2</td>\n",
       "    </tr>\n",
       "    <tr>\n",
       "      <th>5515</th>\n",
       "      <td>rt @mention at #sxsw? get the soundcloud iphone app {link} and start recording. use 4sq geotagging to be on the map: {link}</td>\n",
       "      <td>[rt, mention, at, sxsw, get, the, soundcloud, iphone, app, link, and, start, recording, use, sq, geotagging, to, be, on, the, map, link]</td>\n",
       "      <td>1</td>\n",
       "    </tr>\n",
       "    <tr>\n",
       "      <th>...</th>\n",
       "      <td>...</td>\n",
       "      <td>...</td>\n",
       "      <td>...</td>\n",
       "    </tr>\n",
       "    <tr>\n",
       "      <th>5845</th>\n",
       "      <td>rt @mention google maps for mobile 5.2 looks awesome.#sxsw</td>\n",
       "      <td>[rt, mention, google, maps, for, mobile, looks, awesome, sxsw]</td>\n",
       "      <td>2</td>\n",
       "    </tr>\n",
       "    <tr>\n",
       "      <th>5291</th>\n",
       "      <td>rt @mention #sxsw go 1.1 for android is live in the android marketplace! new features, including sd card storage and more.  {link} via @mention</td>\n",
       "      <td>[rt, mention, sxsw, go, for, android, is, live, in, the, android, marketplace, new, features, including, sd, card, storage, and, more, link, via, mention]</td>\n",
       "      <td>2</td>\n",
       "    </tr>\n",
       "    <tr>\n",
       "      <th>5496</th>\n",
       "      <td>rt @mention at #sxsw  want to drink free? get the ask around iphone app to find out where we are  join us for drinks in #austin.</td>\n",
       "      <td>[rt, mention, at, sxsw, want, to, drink, free, get, the, ask, around, iphone, app, to, find, out, where, we, are, join, us, for, drinks, in, austin]</td>\n",
       "      <td>2</td>\n",
       "    </tr>\n",
       "    <tr>\n",
       "      <th>874</th>\n",
       "      <td>it amazes me how many people don't tuck the flap in on their apple ipad case #sxsw</td>\n",
       "      <td>[it, amazes, me, how, many, people, don't, tuck, the, flap, in, on, their, apple, ipad, case, sxsw]</td>\n",
       "      <td>1</td>\n",
       "    </tr>\n",
       "    <tr>\n",
       "      <th>7415</th>\n",
       "      <td>pop-up apple store for #sxsw. (@mention apple store, sxsw w/ 86 others) [pic]: {link}</td>\n",
       "      <td>[pop, up, apple, store, for, sxsw, mention, apple, store, sxsw, w, others, pic, link]</td>\n",
       "      <td>1</td>\n",
       "    </tr>\n",
       "  </tbody>\n",
       "</table>\n",
       "<p>6686 rows × 3 columns</p>\n",
       "</div>"
      ],
      "text/plain": [
       "                                                                                                                                           tweet_text  \\\n",
       "9055                                                                                                 @mention you give away that ipad yet.... ? #sxsw   \n",
       "4203                                                          {link} killer shot i got last night of @mention at the #nokiaconnects concert for #sxsw   \n",
       "1277             please if u were able to [...] attend #sxsw or buy an ipad today, consider saving a few $$ for japan earthquake relief (via @mention   \n",
       "6334                      rt @mention my informal unscientific observation is that #apple is by far the computer of choice at #sxsw. hands ... {link}   \n",
       "5515                      rt @mention at #sxsw? get the soundcloud iphone app {link} and start recording. use 4sq geotagging to be on the map: {link}   \n",
       "...                                                                                                                                               ...   \n",
       "5845                                                                                       rt @mention google maps for mobile 5.2 looks awesome.#sxsw   \n",
       "5291  rt @mention #sxsw go 1.1 for android is live in the android marketplace! new features, including sd card storage and more.  {link} via @mention   \n",
       "5496                 rt @mention at #sxsw  want to drink free? get the ask around iphone app to find out where we are  join us for drinks in #austin.   \n",
       "874                                                                it amazes me how many people don't tuck the flap in on their apple ipad case #sxsw   \n",
       "7415                                                            pop-up apple store for #sxsw. (@mention apple store, sxsw w/ 86 others) [pic]: {link}   \n",
       "\n",
       "                                                                                                                                                  text_tokenized  \\\n",
       "9055                                                                                                           [mention, you, give, away, that, ipad, yet, sxsw]   \n",
       "4203                                                          [link, killer, shot, i, got, last, night, of, mention, at, the, nokiaconnects, concert, for, sxsw]   \n",
       "1277             [please, if, u, were, able, to, attend, sxsw, or, buy, an, ipad, today, consider, saving, a, few, for, japan, earthquake, relief, via, mention]   \n",
       "6334                      [rt, mention, my, informal, unscientific, observation, is, that, apple, is, by, far, the, computer, of, choice, at, sxsw, hands, link]   \n",
       "5515                    [rt, mention, at, sxsw, get, the, soundcloud, iphone, app, link, and, start, recording, use, sq, geotagging, to, be, on, the, map, link]   \n",
       "...                                                                                                                                                          ...   \n",
       "5845                                                                                              [rt, mention, google, maps, for, mobile, looks, awesome, sxsw]   \n",
       "5291  [rt, mention, sxsw, go, for, android, is, live, in, the, android, marketplace, new, features, including, sd, card, storage, and, more, link, via, mention]   \n",
       "5496        [rt, mention, at, sxsw, want, to, drink, free, get, the, ask, around, iphone, app, to, find, out, where, we, are, join, us, for, drinks, in, austin]   \n",
       "874                                                          [it, amazes, me, how, many, people, don't, tuck, the, flap, in, on, their, apple, ipad, case, sxsw]   \n",
       "7415                                                                       [pop, up, apple, store, for, sxsw, mention, apple, store, sxsw, w, others, pic, link]   \n",
       "\n",
       "      catogory  \n",
       "9055         1  \n",
       "4203         1  \n",
       "1277         1  \n",
       "6334         2  \n",
       "5515         1  \n",
       "...        ...  \n",
       "5845         2  \n",
       "5291         2  \n",
       "5496         2  \n",
       "874          1  \n",
       "7415         1  \n",
       "\n",
       "[6686 rows x 3 columns]"
      ]
     },
     "execution_count": 42,
     "metadata": {},
     "output_type": "execute_result"
    }
   ],
   "source": [
    "# create the train set data frame \n",
    "train_set = pd.concat([X_train,y_train],axis =1)\n",
    "train_set"
   ]
  },
  {
   "cell_type": "markdown",
   "metadata": {},
   "source": [
    "###### Tweets with Positive Sentiment\n",
    "Let's filter the positive tweets from the train set data frame"
   ]
  },
  {
   "cell_type": "code",
   "execution_count": 43,
   "metadata": {
    "scrolled": true
   },
   "outputs": [
    {
     "data": {
      "text/html": [
       "<div>\n",
       "<style scoped>\n",
       "    .dataframe tbody tr th:only-of-type {\n",
       "        vertical-align: middle;\n",
       "    }\n",
       "\n",
       "    .dataframe tbody tr th {\n",
       "        vertical-align: top;\n",
       "    }\n",
       "\n",
       "    .dataframe thead th {\n",
       "        text-align: right;\n",
       "    }\n",
       "</style>\n",
       "<table border=\"1\" class=\"dataframe\">\n",
       "  <thead>\n",
       "    <tr style=\"text-align: right;\">\n",
       "      <th></th>\n",
       "      <th>tweet_text</th>\n",
       "      <th>text_tokenized</th>\n",
       "      <th>catogory</th>\n",
       "    </tr>\n",
       "  </thead>\n",
       "  <tbody>\n",
       "    <tr>\n",
       "      <th>6334</th>\n",
       "      <td>rt @mention my informal unscientific observation is that #apple is by far the computer of choice at #sxsw. hands ... {link}</td>\n",
       "      <td>[rt, mention, my, informal, unscientific, observation, is, that, apple, is, by, far, the, computer, of, choice, at, sxsw, hands, link]</td>\n",
       "      <td>2</td>\n",
       "    </tr>\n",
       "    <tr>\n",
       "      <th>1533</th>\n",
       "      <td>get (down)loaded hoot! - rt #hootsuite mobile for #sxsw ~ updates for iphone, blackberry  android {link}</td>\n",
       "      <td>[get, down, loaded, hoot, rt, hootsuite, mobile, for, sxsw, updates, for, iphone, blackberry, android, link]</td>\n",
       "      <td>2</td>\n",
       "    </tr>\n",
       "    <tr>\n",
       "      <th>3610</th>\n",
       "      <td>google tries to give doodles a whimsical, fun spirit. #sxsw #googledoodles</td>\n",
       "      <td>[google, tries, to, give, doodles, a, whimsical, fun, spirit, sxsw, googledoodles]</td>\n",
       "      <td>2</td>\n",
       "    </tr>\n",
       "    <tr>\n",
       "      <th>712</th>\n",
       "      <td>flipboard is developing an iphone version, not android, says @mention #sxsw</td>\n",
       "      <td>[flipboard, is, developing, an, iphone, version, not, android, says, mention, sxsw]</td>\n",
       "      <td>2</td>\n",
       "    </tr>\n",
       "    <tr>\n",
       "      <th>420</th>\n",
       "      <td>four more days! #ipad #sxsw #weekend #battlela</td>\n",
       "      <td>[four, more, days, ipad, sxsw, weekend, battlela]</td>\n",
       "      <td>2</td>\n",
       "    </tr>\n",
       "    <tr>\n",
       "      <th>...</th>\n",
       "      <td>...</td>\n",
       "      <td>...</td>\n",
       "      <td>...</td>\n",
       "    </tr>\n",
       "    <tr>\n",
       "      <th>4512</th>\n",
       "      <td>google handing out free pi for pi day! #sxsw #win</td>\n",
       "      <td>[google, handing, out, free, pi, for, pi, day, sxsw, win]</td>\n",
       "      <td>2</td>\n",
       "    </tr>\n",
       "    <tr>\n",
       "      <th>474</th>\n",
       "      <td>before it even begins, apple wins sxsw - techcrunch {link} #sxsw</td>\n",
       "      <td>[before, it, even, begins, apple, wins, sxsw, techcrunch, link, sxsw]</td>\n",
       "      <td>2</td>\n",
       "    </tr>\n",
       "    <tr>\n",
       "      <th>5845</th>\n",
       "      <td>rt @mention google maps for mobile 5.2 looks awesome.#sxsw</td>\n",
       "      <td>[rt, mention, google, maps, for, mobile, looks, awesome, sxsw]</td>\n",
       "      <td>2</td>\n",
       "    </tr>\n",
       "    <tr>\n",
       "      <th>5291</th>\n",
       "      <td>rt @mention #sxsw go 1.1 for android is live in the android marketplace! new features, including sd card storage and more.  {link} via @mention</td>\n",
       "      <td>[rt, mention, sxsw, go, for, android, is, live, in, the, android, marketplace, new, features, including, sd, card, storage, and, more, link, via, mention]</td>\n",
       "      <td>2</td>\n",
       "    </tr>\n",
       "    <tr>\n",
       "      <th>5496</th>\n",
       "      <td>rt @mention at #sxsw  want to drink free? get the ask around iphone app to find out where we are  join us for drinks in #austin.</td>\n",
       "      <td>[rt, mention, at, sxsw, want, to, drink, free, get, the, ask, around, iphone, app, to, find, out, where, we, are, join, us, for, drinks, in, austin]</td>\n",
       "      <td>2</td>\n",
       "    </tr>\n",
       "  </tbody>\n",
       "</table>\n",
       "<p>2229 rows × 3 columns</p>\n",
       "</div>"
      ],
      "text/plain": [
       "                                                                                                                                           tweet_text  \\\n",
       "6334                      rt @mention my informal unscientific observation is that #apple is by far the computer of choice at #sxsw. hands ... {link}   \n",
       "1533                                         get (down)loaded hoot! - rt #hootsuite mobile for #sxsw ~ updates for iphone, blackberry  android {link}   \n",
       "3610                                                                       google tries to give doodles a whimsical, fun spirit. #sxsw #googledoodles   \n",
       "712                                                                       flipboard is developing an iphone version, not android, says @mention #sxsw   \n",
       "420                                                                                                    four more days! #ipad #sxsw #weekend #battlela   \n",
       "...                                                                                                                                               ...   \n",
       "4512                                                                                                google handing out free pi for pi day! #sxsw #win   \n",
       "474                                                                                  before it even begins, apple wins sxsw - techcrunch {link} #sxsw   \n",
       "5845                                                                                       rt @mention google maps for mobile 5.2 looks awesome.#sxsw   \n",
       "5291  rt @mention #sxsw go 1.1 for android is live in the android marketplace! new features, including sd card storage and more.  {link} via @mention   \n",
       "5496                 rt @mention at #sxsw  want to drink free? get the ask around iphone app to find out where we are  join us for drinks in #austin.   \n",
       "\n",
       "                                                                                                                                                  text_tokenized  \\\n",
       "6334                      [rt, mention, my, informal, unscientific, observation, is, that, apple, is, by, far, the, computer, of, choice, at, sxsw, hands, link]   \n",
       "1533                                                [get, down, loaded, hoot, rt, hootsuite, mobile, for, sxsw, updates, for, iphone, blackberry, android, link]   \n",
       "3610                                                                          [google, tries, to, give, doodles, a, whimsical, fun, spirit, sxsw, googledoodles]   \n",
       "712                                                                          [flipboard, is, developing, an, iphone, version, not, android, says, mention, sxsw]   \n",
       "420                                                                                                            [four, more, days, ipad, sxsw, weekend, battlela]   \n",
       "...                                                                                                                                                          ...   \n",
       "4512                                                                                                   [google, handing, out, free, pi, for, pi, day, sxsw, win]   \n",
       "474                                                                                        [before, it, even, begins, apple, wins, sxsw, techcrunch, link, sxsw]   \n",
       "5845                                                                                              [rt, mention, google, maps, for, mobile, looks, awesome, sxsw]   \n",
       "5291  [rt, mention, sxsw, go, for, android, is, live, in, the, android, marketplace, new, features, including, sd, card, storage, and, more, link, via, mention]   \n",
       "5496        [rt, mention, at, sxsw, want, to, drink, free, get, the, ask, around, iphone, app, to, find, out, where, we, are, join, us, for, drinks, in, austin]   \n",
       "\n",
       "      catogory  \n",
       "6334         2  \n",
       "1533         2  \n",
       "3610         2  \n",
       "712          2  \n",
       "420          2  \n",
       "...        ...  \n",
       "4512         2  \n",
       "474          2  \n",
       "5845         2  \n",
       "5291         2  \n",
       "5496         2  \n",
       "\n",
       "[2229 rows x 3 columns]"
      ]
     },
     "execution_count": 43,
     "metadata": {},
     "output_type": "execute_result"
    }
   ],
   "source": [
    "#positive tweets data frame\n",
    "train_set_posative=train_set[train_set[\"catogory\"]==2]\n",
    "train_set_posative"
   ]
  },
  {
   "cell_type": "markdown",
   "metadata": {},
   "source": [
    "A frequency distribution records the number of times each outcome of an word has occured in positive data frame "
   ]
  },
  {
   "cell_type": "code",
   "execution_count": 44,
   "metadata": {
    "scrolled": false
   },
   "outputs": [
    {
     "data": {
      "text/plain": [
       "FreqDist({'sxsw': 2352, 'mention': 1610, 'the': 1223, 'ipad': 926, 'link': 918, 'to': 848, 'at': 760, 'for': 700, 'rt': 675, 'apple': 670, ...})"
      ]
     },
     "execution_count": 44,
     "metadata": {},
     "output_type": "execute_result"
    }
   ],
   "source": [
    "# create FreqDist for posative data frame\n",
    "train_set_posative_freqdist =FreqDist(train_set_posative[\"text_tokenized\"].explode())\n",
    "train_set_posative_freqdist"
   ]
  },
  {
   "cell_type": "markdown",
   "metadata": {},
   "source": [
    "A frequency distribution  produces a dictionary-like output of those words and their frequencies."
   ]
  },
  {
   "cell_type": "code",
   "execution_count": 45,
   "metadata": {
    "scrolled": true
   },
   "outputs": [
    {
     "data": {
      "image/png": "[encoded data removed]",
      "text/plain": [
       "<Figure size 432x288 with 1 Axes>"
      ]
     },
     "metadata": {
      "needs_background": "light"
     },
     "output_type": "display_data"
    }
   ],
   "source": [
    "# plot posative_freqdist\n",
    "visualize_top_25(train_set_posative_freqdist, \"Top 25 Word Frequency for posative subset\")"
   ]
  },
  {
   "cell_type": "markdown",
   "metadata": {},
   "source": [
    "We can notice that the most repeated words here are (sxsw,mention,link) these\n",
    "words cant provide us with any information."
   ]
  },
  {
   "cell_type": "markdown",
   "metadata": {},
   "source": [
    "We will create WordCloud.\n",
    "WordCloud which represents the frequency or the importance word appears in different sizes."
   ]
  },
  {
   "cell_type": "code",
   "execution_count": 46,
   "metadata": {},
   "outputs": [],
   "source": [
    "import matplotlib.pyplot as plt\n",
    "from wordcloud import WordCloud"
   ]
  },
  {
   "cell_type": "code",
   "execution_count": 47,
   "metadata": {
    "scrolled": false
   },
   "outputs": [
    {
     "data": {
      "text/plain": [
       "<matplotlib.image.AxesImage at 0x24cdae4e1f0>"
      ]
     },
     "execution_count": 47,
     "metadata": {},
     "output_type": "execute_result"
    },
    {
     "data": {
      "image/png": "[encoded data removed]",
      "text/plain": [
       "<Figure size 432x288 with 1 Axes>"
      ]
     },
     "metadata": {
      "needs_background": "light"
     },
     "output_type": "display_data"
    }
   ],
   "source": [
    "wordcloud = WordCloud(max_font_size=50, max_words=100).generate_from_frequencies(train_set_posative_freqdist)\n",
    "plt.imshow(wordcloud,interpolation=\"bilinear\")"
   ]
  },
  {
   "cell_type": "markdown",
   "metadata": {},
   "source": [
    "###### Tweets with Negative Sentiment\n",
    "let's filter the Negative tweets from the train set data frame"
   ]
  },
  {
   "cell_type": "code",
   "execution_count": 48,
   "metadata": {
    "scrolled": true
   },
   "outputs": [
    {
     "data": {
      "text/html": [
       "<div>\n",
       "<style scoped>\n",
       "    .dataframe tbody tr th:only-of-type {\n",
       "        vertical-align: middle;\n",
       "    }\n",
       "\n",
       "    .dataframe tbody tr th {\n",
       "        vertical-align: top;\n",
       "    }\n",
       "\n",
       "    .dataframe thead th {\n",
       "        text-align: right;\n",
       "    }\n",
       "</style>\n",
       "<table border=\"1\" class=\"dataframe\">\n",
       "  <thead>\n",
       "    <tr style=\"text-align: right;\">\n",
       "      <th></th>\n",
       "      <th>tweet_text</th>\n",
       "      <th>text_tokenized</th>\n",
       "      <th>catogory</th>\n",
       "    </tr>\n",
       "  </thead>\n",
       "  <tbody>\n",
       "    <tr>\n",
       "      <th>1062</th>\n",
       "      <td>new #sxsw rule: no more ooing and ahing over your new ipad. we get it. its not a big deal. everybody has one now... :-)</td>\n",
       "      <td>[new, sxsw, rule, no, more, ooing, and, ahing, over, your, new, ipad, we, get, it, its, not, a, big, deal, everybody, has, one, now]</td>\n",
       "      <td>0</td>\n",
       "    </tr>\n",
       "    <tr>\n",
       "      <th>3448</th>\n",
       "      <td>data is the new oil. (companies like google and facebook have monopoly and terms of service to be wary of) - @mention #sxsw</td>\n",
       "      <td>[data, is, the, new, oil, companies, like, google, and, facebook, have, monopoly, and, terms, of, service, to, be, wary, of, mention, sxsw]</td>\n",
       "      <td>0</td>\n",
       "    </tr>\n",
       "    <tr>\n",
       "      <th>7809</th>\n",
       "      <td>will i survive #sxsw will only 1.6 gigs of space left on my iphone? we shall see.</td>\n",
       "      <td>[will, i, survive, sxsw, will, only, gigs, of, space, left, on, my, iphone, we, shall, see]</td>\n",
       "      <td>0</td>\n",
       "    </tr>\n",
       "    <tr>\n",
       "      <th>913</th>\n",
       "      <td>hm? do we need another 1? rt @mention google to launch major new social network called circles, possibly today {link} #sxsw</td>\n",
       "      <td>[hm, do, we, need, another, rt, mention, google, to, launch, major, new, social, network, called, circles, possibly, today, link, sxsw]</td>\n",
       "      <td>0</td>\n",
       "    </tr>\n",
       "    <tr>\n",
       "      <th>233</th>\n",
       "      <td>if iphone alarms botch the timechange, how many #sxsw'ers freak? late to flights, missed panels, behind on bloody marys...</td>\n",
       "      <td>[if, iphone, alarms, botch, the, timechange, how, many, sxsw'ers, freak, late, to, flights, missed, panels, behind, on, bloody, marys]</td>\n",
       "      <td>0</td>\n",
       "    </tr>\n",
       "    <tr>\n",
       "      <th>...</th>\n",
       "      <td>...</td>\n",
       "      <td>...</td>\n",
       "      <td>...</td>\n",
       "    </tr>\n",
       "    <tr>\n",
       "      <th>3214</th>\n",
       "      <td>navigating a crowded party sucks. but its way worse when everyone walks around with their face in their iphone. #sxsw #adpeopleproblems</td>\n",
       "      <td>[navigating, a, crowded, party, sucks, but, its, way, worse, when, everyone, walks, around, with, their, face, in, their, iphone, sxsw, adpeopleproblems]</td>\n",
       "      <td>0</td>\n",
       "    </tr>\n",
       "    <tr>\n",
       "      <th>6360</th>\n",
       "      <td>rt @mention new iphone autocorrect already tried to change coworkers to visigoths. its going to be a long five days of #sxsw</td>\n",
       "      <td>[rt, mention, new, iphone, autocorrect, already, tried, to, change, coworkers, to, visigoths, its, going, to, be, a, long, five, days, of, sxsw]</td>\n",
       "      <td>0</td>\n",
       "    </tr>\n",
       "    <tr>\n",
       "      <th>1285</th>\n",
       "      <td>def could use an ipad for  #sxsw today. tweeting via iphone sorta pretty much sux.</td>\n",
       "      <td>[def, could, use, an, ipad, for, sxsw, today, tweeting, via, iphone, sorta, pretty, much, sux]</td>\n",
       "      <td>0</td>\n",
       "    </tr>\n",
       "    <tr>\n",
       "      <th>4749</th>\n",
       "      <td>i fully anticipate that every geek-douche will be toting an ipad 2 at #sxsw. these people are also why it's not worth going.</td>\n",
       "      <td>[i, fully, anticipate, that, every, geek, douche, will, be, toting, an, ipad, at, sxsw, these, people, are, also, why, it's, not, worth, going]</td>\n",
       "      <td>0</td>\n",
       "    </tr>\n",
       "    <tr>\n",
       "      <th>5416</th>\n",
       "      <td>rt @mention apple autocorrect is so weird. ogilvy autocorrects to idiocy. #ogilvynotes #sxsw :)</td>\n",
       "      <td>[rt, mention, apple, autocorrect, is, so, weird, ogilvy, autocorrects, to, idiocy, ogilvynotes, sxsw]</td>\n",
       "      <td>0</td>\n",
       "    </tr>\n",
       "  </tbody>\n",
       "</table>\n",
       "<p>407 rows × 3 columns</p>\n",
       "</div>"
      ],
      "text/plain": [
       "                                                                                                                                   tweet_text  \\\n",
       "1062                  new #sxsw rule: no more ooing and ahing over your new ipad. we get it. its not a big deal. everybody has one now... :-)   \n",
       "3448              data is the new oil. (companies like google and facebook have monopoly and terms of service to be wary of) - @mention #sxsw   \n",
       "7809                                                        will i survive #sxsw will only 1.6 gigs of space left on my iphone? we shall see.   \n",
       "913               hm? do we need another 1? rt @mention google to launch major new social network called circles, possibly today {link} #sxsw   \n",
       "233                if iphone alarms botch the timechange, how many #sxsw'ers freak? late to flights, missed panels, behind on bloody marys...   \n",
       "...                                                                                                                                       ...   \n",
       "3214  navigating a crowded party sucks. but its way worse when everyone walks around with their face in their iphone. #sxsw #adpeopleproblems   \n",
       "6360             rt @mention new iphone autocorrect already tried to change coworkers to visigoths. its going to be a long five days of #sxsw   \n",
       "1285                                                       def could use an ipad for  #sxsw today. tweeting via iphone sorta pretty much sux.   \n",
       "4749             i fully anticipate that every geek-douche will be toting an ipad 2 at #sxsw. these people are also why it's not worth going.   \n",
       "5416                                          rt @mention apple autocorrect is so weird. ogilvy autocorrects to idiocy. #ogilvynotes #sxsw :)   \n",
       "\n",
       "                                                                                                                                                 text_tokenized  \\\n",
       "1062                       [new, sxsw, rule, no, more, ooing, and, ahing, over, your, new, ipad, we, get, it, its, not, a, big, deal, everybody, has, one, now]   \n",
       "3448                [data, is, the, new, oil, companies, like, google, and, facebook, have, monopoly, and, terms, of, service, to, be, wary, of, mention, sxsw]   \n",
       "7809                                                                [will, i, survive, sxsw, will, only, gigs, of, space, left, on, my, iphone, we, shall, see]   \n",
       "913                     [hm, do, we, need, another, rt, mention, google, to, launch, major, new, social, network, called, circles, possibly, today, link, sxsw]   \n",
       "233                      [if, iphone, alarms, botch, the, timechange, how, many, sxsw'ers, freak, late, to, flights, missed, panels, behind, on, bloody, marys]   \n",
       "...                                                                                                                                                         ...   \n",
       "3214  [navigating, a, crowded, party, sucks, but, its, way, worse, when, everyone, walks, around, with, their, face, in, their, iphone, sxsw, adpeopleproblems]   \n",
       "6360           [rt, mention, new, iphone, autocorrect, already, tried, to, change, coworkers, to, visigoths, its, going, to, be, a, long, five, days, of, sxsw]   \n",
       "1285                                                             [def, could, use, an, ipad, for, sxsw, today, tweeting, via, iphone, sorta, pretty, much, sux]   \n",
       "4749            [i, fully, anticipate, that, every, geek, douche, will, be, toting, an, ipad, at, sxsw, these, people, are, also, why, it's, not, worth, going]   \n",
       "5416                                                      [rt, mention, apple, autocorrect, is, so, weird, ogilvy, autocorrects, to, idiocy, ogilvynotes, sxsw]   \n",
       "\n",
       "      catogory  \n",
       "1062         0  \n",
       "3448         0  \n",
       "7809         0  \n",
       "913          0  \n",
       "233          0  \n",
       "...        ...  \n",
       "3214         0  \n",
       "6360         0  \n",
       "1285         0  \n",
       "4749         0  \n",
       "5416         0  \n",
       "\n",
       "[407 rows x 3 columns]"
      ]
     },
     "execution_count": 48,
     "metadata": {},
     "output_type": "execute_result"
    }
   ],
   "source": [
    "# Negative tweets data frame\n",
    "train_set_Negative=train_set[train_set[\"catogory\"]==0]\n",
    "train_set_Negative"
   ]
  },
  {
   "cell_type": "code",
   "execution_count": 49,
   "metadata": {
    "scrolled": true
   },
   "outputs": [
    {
     "data": {
      "text/plain": [
       "FreqDist({'sxsw': 418, 'the': 222, 'mention': 209, 'to': 199, 'ipad': 141, 'google': 119, 'a': 113, 'is': 113, 'iphone': 113, 'at': 98, ...})"
      ]
     },
     "execution_count": 49,
     "metadata": {},
     "output_type": "execute_result"
    }
   ],
   "source": [
    "# create FreqDist for Negative data frame\n",
    "train_set_Negative_freqdist =FreqDist(train_set_Negative[\"text_tokenized\"].explode())\n",
    "train_set_Negative_freqdist"
   ]
  },
  {
   "cell_type": "code",
   "execution_count": 50,
   "metadata": {
    "scrolled": false
   },
   "outputs": [
    {
     "data": {
      "image/png": "[encoded data removed]",
      "text/plain": [
       "<Figure size 432x288 with 1 Axes>"
      ]
     },
     "metadata": {
      "needs_background": "light"
     },
     "output_type": "display_data"
    }
   ],
   "source": [
    "# plot Negative_freqdist\n",
    "visualize_top_25(train_set_Negative_freqdist, \"Top 25 Word Frequency for negative subset\")"
   ]
  },
  {
   "cell_type": "code",
   "execution_count": 51,
   "metadata": {},
   "outputs": [
    {
     "data": {
      "text/plain": [
       "<matplotlib.image.AxesImage at 0x24cdaf74370>"
      ]
     },
     "execution_count": 51,
     "metadata": {},
     "output_type": "execute_result"
    },
    {
     "data": {
      "image/png": "[encoded data removed]",
      "text/plain": [
       "<Figure size 432x288 with 1 Axes>"
      ]
     },
     "metadata": {
      "needs_background": "light"
     },
     "output_type": "display_data"
    }
   ],
   "source": [
    "wordcloud = WordCloud(max_font_size=50, max_words=100).generate_from_frequencies(train_set_Negative_freqdist)\n",
    "plt.imshow(wordcloud,interpolation=\"bilinear\")"
   ]
  },
  {
   "cell_type": "markdown",
   "metadata": {},
   "source": [
    "###### Tweets with  nutral  Sentiment\n",
    "let's filter the nutral tweets from the train set data frame"
   ]
  },
  {
   "cell_type": "code",
   "execution_count": 52,
   "metadata": {
    "scrolled": true
   },
   "outputs": [
    {
     "data": {
      "text/html": [
       "<div>\n",
       "<style scoped>\n",
       "    .dataframe tbody tr th:only-of-type {\n",
       "        vertical-align: middle;\n",
       "    }\n",
       "\n",
       "    .dataframe tbody tr th {\n",
       "        vertical-align: top;\n",
       "    }\n",
       "\n",
       "    .dataframe thead th {\n",
       "        text-align: right;\n",
       "    }\n",
       "</style>\n",
       "<table border=\"1\" class=\"dataframe\">\n",
       "  <thead>\n",
       "    <tr style=\"text-align: right;\">\n",
       "      <th></th>\n",
       "      <th>tweet_text</th>\n",
       "      <th>text_tokenized</th>\n",
       "      <th>catogory</th>\n",
       "    </tr>\n",
       "  </thead>\n",
       "  <tbody>\n",
       "    <tr>\n",
       "      <th>9055</th>\n",
       "      <td>@mention you give away that ipad yet.... ? #sxsw</td>\n",
       "      <td>[mention, you, give, away, that, ipad, yet, sxsw]</td>\n",
       "      <td>1</td>\n",
       "    </tr>\n",
       "    <tr>\n",
       "      <th>4203</th>\n",
       "      <td>{link} killer shot i got last night of @mention at the #nokiaconnects concert for #sxsw</td>\n",
       "      <td>[link, killer, shot, i, got, last, night, of, mention, at, the, nokiaconnects, concert, for, sxsw]</td>\n",
       "      <td>1</td>\n",
       "    </tr>\n",
       "    <tr>\n",
       "      <th>1277</th>\n",
       "      <td>please if u were able to [...] attend #sxsw or buy an ipad today, consider saving a few $$ for japan earthquake relief (via @mention</td>\n",
       "      <td>[please, if, u, were, able, to, attend, sxsw, or, buy, an, ipad, today, consider, saving, a, few, for, japan, earthquake, relief, via, mention]</td>\n",
       "      <td>1</td>\n",
       "    </tr>\n",
       "    <tr>\n",
       "      <th>5515</th>\n",
       "      <td>rt @mention at #sxsw? get the soundcloud iphone app {link} and start recording. use 4sq geotagging to be on the map: {link}</td>\n",
       "      <td>[rt, mention, at, sxsw, get, the, soundcloud, iphone, app, link, and, start, recording, use, sq, geotagging, to, be, on, the, map, link]</td>\n",
       "      <td>1</td>\n",
       "    </tr>\n",
       "    <tr>\n",
       "      <th>6369</th>\n",
       "      <td>rt @mention next #sxsw we're heading to is about designing ipad apps for baby boomers. what do you wish apps did that they don't yet? ^tg</td>\n",
       "      <td>[rt, mention, next, sxsw, we're, heading, to, is, about, designing, ipad, apps, for, baby, boomers, what, do, you, wish, apps, did, that, they, don't, yet, tg]</td>\n",
       "      <td>1</td>\n",
       "    </tr>\n",
       "    <tr>\n",
       "      <th>...</th>\n",
       "      <td>...</td>\n",
       "      <td>...</td>\n",
       "      <td>...</td>\n",
       "    </tr>\n",
       "    <tr>\n",
       "      <th>2477</th>\n",
       "      <td>don't need to charge at #sxsw if you're talking in the sun with your iphone: {link} boom!</td>\n",
       "      <td>[don't, need, to, charge, at, sxsw, if, you're, talking, in, the, sun, with, your, iphone, link, boom]</td>\n",
       "      <td>1</td>\n",
       "    </tr>\n",
       "    <tr>\n",
       "      <th>7086</th>\n",
       "      <td>apple is opening a new store in downtown austin friday to make sure everyone at #sxsw can buy a new ipad 2: {link}</td>\n",
       "      <td>[apple, is, opening, a, new, store, in, downtown, austin, friday, to, make, sure, everyone, at, sxsw, can, buy, a, new, ipad, link]</td>\n",
       "      <td>1</td>\n",
       "    </tr>\n",
       "    <tr>\n",
       "      <th>6390</th>\n",
       "      <td>rt @mention now discussing pubsubhubbub: {link} #fsw #sxsw</td>\n",
       "      <td>[rt, mention, now, discussing, pubsubhubbub, link, fsw, sxsw]</td>\n",
       "      <td>1</td>\n",
       "    </tr>\n",
       "    <tr>\n",
       "      <th>874</th>\n",
       "      <td>it amazes me how many people don't tuck the flap in on their apple ipad case #sxsw</td>\n",
       "      <td>[it, amazes, me, how, many, people, don't, tuck, the, flap, in, on, their, apple, ipad, case, sxsw]</td>\n",
       "      <td>1</td>\n",
       "    </tr>\n",
       "    <tr>\n",
       "      <th>7415</th>\n",
       "      <td>pop-up apple store for #sxsw. (@mention apple store, sxsw w/ 86 others) [pic]: {link}</td>\n",
       "      <td>[pop, up, apple, store, for, sxsw, mention, apple, store, sxsw, w, others, pic, link]</td>\n",
       "      <td>1</td>\n",
       "    </tr>\n",
       "  </tbody>\n",
       "</table>\n",
       "<p>4050 rows × 3 columns</p>\n",
       "</div>"
      ],
      "text/plain": [
       "                                                                                                                                     tweet_text  \\\n",
       "9055                                                                                           @mention you give away that ipad yet.... ? #sxsw   \n",
       "4203                                                    {link} killer shot i got last night of @mention at the #nokiaconnects concert for #sxsw   \n",
       "1277       please if u were able to [...] attend #sxsw or buy an ipad today, consider saving a few $$ for japan earthquake relief (via @mention   \n",
       "5515                rt @mention at #sxsw? get the soundcloud iphone app {link} and start recording. use 4sq geotagging to be on the map: {link}   \n",
       "6369  rt @mention next #sxsw we're heading to is about designing ipad apps for baby boomers. what do you wish apps did that they don't yet? ^tg   \n",
       "...                                                                                                                                         ...   \n",
       "2477                                                  don't need to charge at #sxsw if you're talking in the sun with your iphone: {link} boom!   \n",
       "7086                         apple is opening a new store in downtown austin friday to make sure everyone at #sxsw can buy a new ipad 2: {link}   \n",
       "6390                                                                                 rt @mention now discussing pubsubhubbub: {link} #fsw #sxsw   \n",
       "874                                                          it amazes me how many people don't tuck the flap in on their apple ipad case #sxsw   \n",
       "7415                                                      pop-up apple store for #sxsw. (@mention apple store, sxsw w/ 86 others) [pic]: {link}   \n",
       "\n",
       "                                                                                                                                                       text_tokenized  \\\n",
       "9055                                                                                                                [mention, you, give, away, that, ipad, yet, sxsw]   \n",
       "4203                                                               [link, killer, shot, i, got, last, night, of, mention, at, the, nokiaconnects, concert, for, sxsw]   \n",
       "1277                  [please, if, u, were, able, to, attend, sxsw, or, buy, an, ipad, today, consider, saving, a, few, for, japan, earthquake, relief, via, mention]   \n",
       "5515                         [rt, mention, at, sxsw, get, the, soundcloud, iphone, app, link, and, start, recording, use, sq, geotagging, to, be, on, the, map, link]   \n",
       "6369  [rt, mention, next, sxsw, we're, heading, to, is, about, designing, ipad, apps, for, baby, boomers, what, do, you, wish, apps, did, that, they, don't, yet, tg]   \n",
       "...                                                                                                                                                               ...   \n",
       "2477                                                           [don't, need, to, charge, at, sxsw, if, you're, talking, in, the, sun, with, your, iphone, link, boom]   \n",
       "7086                              [apple, is, opening, a, new, store, in, downtown, austin, friday, to, make, sure, everyone, at, sxsw, can, buy, a, new, ipad, link]   \n",
       "6390                                                                                                    [rt, mention, now, discussing, pubsubhubbub, link, fsw, sxsw]   \n",
       "874                                                               [it, amazes, me, how, many, people, don't, tuck, the, flap, in, on, their, apple, ipad, case, sxsw]   \n",
       "7415                                                                            [pop, up, apple, store, for, sxsw, mention, apple, store, sxsw, w, others, pic, link]   \n",
       "\n",
       "      catogory  \n",
       "9055         1  \n",
       "4203         1  \n",
       "1277         1  \n",
       "5515         1  \n",
       "6369         1  \n",
       "...        ...  \n",
       "2477         1  \n",
       "7086         1  \n",
       "6390         1  \n",
       "874          1  \n",
       "7415         1  \n",
       "\n",
       "[4050 rows x 3 columns]"
      ]
     },
     "execution_count": 52,
     "metadata": {},
     "output_type": "execute_result"
    }
   ],
   "source": [
    "# Nutral tweets data frame\n",
    "train_set_No_emotion=train_set[train_set[\"catogory\"]==1]\n",
    "train_set_No_emotion"
   ]
  },
  {
   "cell_type": "code",
   "execution_count": 53,
   "metadata": {
    "scrolled": true
   },
   "outputs": [
    {
     "data": {
      "text/plain": [
       "FreqDist({'sxsw': 4316, 'mention': 3390, 'link': 2164, 'the': 1838, 'to': 1605, 'at': 1425, 'rt': 1384, 'google': 1205, 'ipad': 1123, 'for': 1109, ...})"
      ]
     },
     "execution_count": 53,
     "metadata": {},
     "output_type": "execute_result"
    }
   ],
   "source": [
    "# create FreqDist for Nutral data frame\n",
    "train_set_No_emotion_freqdist =FreqDist(train_set_No_emotion[\"text_tokenized\"].explode())\n",
    "train_set_No_emotion_freqdist"
   ]
  },
  {
   "cell_type": "code",
   "execution_count": 54,
   "metadata": {
    "scrolled": false
   },
   "outputs": [
    {
     "data": {
      "image/png": "[encoded data removed]",
      "text/plain": [
       "<Figure size 432x288 with 1 Axes>"
      ]
     },
     "metadata": {
      "needs_background": "light"
     },
     "output_type": "display_data"
    }
   ],
   "source": [
    "# plot Nutral_freqdist\n",
    "visualize_top_25(train_set_No_emotion_freqdist, \"Top 25 Word Frequency for Nutral\")"
   ]
  },
  {
   "cell_type": "code",
   "execution_count": 55,
   "metadata": {},
   "outputs": [
    {
     "data": {
      "text/plain": [
       "<matplotlib.image.AxesImage at 0x24cdb0d3dc0>"
      ]
     },
     "execution_count": 55,
     "metadata": {},
     "output_type": "execute_result"
    },
    {
     "data": {
      "image/png": "[encoded data removed]",
      "text/plain": [
       "<Figure size 432x288 with 1 Axes>"
      ]
     },
     "metadata": {
      "needs_background": "light"
     },
     "output_type": "display_data"
    }
   ],
   "source": [
    "wordcloud = WordCloud(max_font_size=50, max_words=100).generate_from_frequencies(train_set_No_emotion_freqdist)\n",
    "plt.imshow(wordcloud,interpolation=\"bilinear\")"
   ]
  },
  {
   "cell_type": "markdown",
   "metadata": {},
   "source": [
    "# Modeling\n",
    "\n",
    "We will apply Multinomial Naive Bayes to NLP Problems.\n",
    "Naive Bayes Classifier Algorithm is a family of probabilistic algorithms based on applying Bayes’ theorem with the “naive” assumption of conditional independence between every pair of a feature. \n",
    "Bayes theorem calculates probability P(c|x) where c is the class of the possible outcomes and x is the given instance which has to be classified, representing some certain features.\n",
    "\n",
    "P(c|x) = P(x|c) * P(c) / P(x).\n",
    "\n",
    "Naive Bayes are mostly used in natural language processing (NLP) problems. Naive Bayes predict the tag of a text. They calculate the probability of each tag for a given text and then output the tag with the highest one. \n"
   ]
  },
  {
   "cell_type": "markdown",
   "metadata": {},
   "source": [
    "### Baseline Model \n",
    "Build and Evaluate a Baseline Model with TfidfVectorizer and MultinomialNB."
   ]
  },
  {
   "cell_type": "markdown",
   "metadata": {},
   "source": [
    "###### Vectorization : \n",
    "Vectorization is jargon for a classic approach of converting input data from its raw format (i.e. text ) into vectors of real numbers which is the format that ML models support. This approach has been there ever since computers were first built, it has worked wonderfully across various domains, and it’s now used in NLP.\n",
    "We will use  TF-IDF vectorizer."
   ]
  },
  {
   "cell_type": "markdown",
   "metadata": {},
   "source": [
    "The goal of using tf-idf is to convert text into numbers that we can do calculations on."
   ]
  },
  {
   "cell_type": "code",
   "execution_count": 56,
   "metadata": {},
   "outputs": [],
   "source": [
    "# Import the relevant vectorizer class\n",
    "from sklearn.feature_extraction.text import TfidfVectorizer\n",
    "\n",
    "# Instantiate a vectorizer with max_features=10\n",
    "\n",
    "tfidf = TfidfVectorizer(max_features=10)\n",
    "\n",
    "# Fit the vectorizer on X_train[\"text\"] and transform it\n",
    "X_train_vectorized = tfidf.fit_transform(X_train[\"tweet_text\"].values.astype('U'))"
   ]
  },
  {
   "cell_type": "code",
   "execution_count": 57,
   "metadata": {
    "scrolled": true
   },
   "outputs": [
    {
     "data": {
      "text/html": [
       "<div>\n",
       "<style scoped>\n",
       "    .dataframe tbody tr th:only-of-type {\n",
       "        vertical-align: middle;\n",
       "    }\n",
       "\n",
       "    .dataframe tbody tr th {\n",
       "        vertical-align: top;\n",
       "    }\n",
       "\n",
       "    .dataframe thead th {\n",
       "        text-align: right;\n",
       "    }\n",
       "</style>\n",
       "<table border=\"1\" class=\"dataframe\">\n",
       "  <thead>\n",
       "    <tr style=\"text-align: right;\">\n",
       "      <th></th>\n",
       "      <th>at</th>\n",
       "      <th>for</th>\n",
       "      <th>google</th>\n",
       "      <th>ipad</th>\n",
       "      <th>link</th>\n",
       "      <th>mention</th>\n",
       "      <th>rt</th>\n",
       "      <th>sxsw</th>\n",
       "      <th>the</th>\n",
       "      <th>to</th>\n",
       "    </tr>\n",
       "  </thead>\n",
       "  <tbody>\n",
       "    <tr>\n",
       "      <th>0</th>\n",
       "      <td>0.000000</td>\n",
       "      <td>0.000000</td>\n",
       "      <td>0.000000</td>\n",
       "      <td>0.774764</td>\n",
       "      <td>0.000000</td>\n",
       "      <td>0.538018</td>\n",
       "      <td>0.000000</td>\n",
       "      <td>0.332080</td>\n",
       "      <td>0.000000</td>\n",
       "      <td>0.000000</td>\n",
       "    </tr>\n",
       "    <tr>\n",
       "      <th>1</th>\n",
       "      <td>0.474929</td>\n",
       "      <td>0.520142</td>\n",
       "      <td>0.000000</td>\n",
       "      <td>0.000000</td>\n",
       "      <td>0.389023</td>\n",
       "      <td>0.354138</td>\n",
       "      <td>0.000000</td>\n",
       "      <td>0.218584</td>\n",
       "      <td>0.423514</td>\n",
       "      <td>0.000000</td>\n",
       "    </tr>\n",
       "    <tr>\n",
       "      <th>2</th>\n",
       "      <td>0.000000</td>\n",
       "      <td>0.543911</td>\n",
       "      <td>0.000000</td>\n",
       "      <td>0.533275</td>\n",
       "      <td>0.000000</td>\n",
       "      <td>0.370321</td>\n",
       "      <td>0.000000</td>\n",
       "      <td>0.228573</td>\n",
       "      <td>0.000000</td>\n",
       "      <td>0.479995</td>\n",
       "    </tr>\n",
       "    <tr>\n",
       "      <th>3</th>\n",
       "      <td>0.482180</td>\n",
       "      <td>0.000000</td>\n",
       "      <td>0.000000</td>\n",
       "      <td>0.000000</td>\n",
       "      <td>0.394963</td>\n",
       "      <td>0.359545</td>\n",
       "      <td>0.498098</td>\n",
       "      <td>0.221921</td>\n",
       "      <td>0.429980</td>\n",
       "      <td>0.000000</td>\n",
       "    </tr>\n",
       "    <tr>\n",
       "      <th>4</th>\n",
       "      <td>0.322184</td>\n",
       "      <td>0.000000</td>\n",
       "      <td>0.000000</td>\n",
       "      <td>0.000000</td>\n",
       "      <td>0.527813</td>\n",
       "      <td>0.240241</td>\n",
       "      <td>0.332820</td>\n",
       "      <td>0.148284</td>\n",
       "      <td>0.574608</td>\n",
       "      <td>0.311390</td>\n",
       "    </tr>\n",
       "    <tr>\n",
       "      <th>...</th>\n",
       "      <td>...</td>\n",
       "      <td>...</td>\n",
       "      <td>...</td>\n",
       "      <td>...</td>\n",
       "      <td>...</td>\n",
       "      <td>...</td>\n",
       "      <td>...</td>\n",
       "      <td>...</td>\n",
       "      <td>...</td>\n",
       "      <td>...</td>\n",
       "    </tr>\n",
       "    <tr>\n",
       "      <th>6681</th>\n",
       "      <td>0.000000</td>\n",
       "      <td>0.537250</td>\n",
       "      <td>0.519423</td>\n",
       "      <td>0.000000</td>\n",
       "      <td>0.000000</td>\n",
       "      <td>0.365786</td>\n",
       "      <td>0.506744</td>\n",
       "      <td>0.225773</td>\n",
       "      <td>0.000000</td>\n",
       "      <td>0.000000</td>\n",
       "    </tr>\n",
       "    <tr>\n",
       "      <th>6682</th>\n",
       "      <td>0.000000</td>\n",
       "      <td>0.440960</td>\n",
       "      <td>0.000000</td>\n",
       "      <td>0.000000</td>\n",
       "      <td>0.329801</td>\n",
       "      <td>0.600454</td>\n",
       "      <td>0.415922</td>\n",
       "      <td>0.185309</td>\n",
       "      <td>0.359041</td>\n",
       "      <td>0.000000</td>\n",
       "    </tr>\n",
       "    <tr>\n",
       "      <th>6683</th>\n",
       "      <td>0.341671</td>\n",
       "      <td>0.374198</td>\n",
       "      <td>0.000000</td>\n",
       "      <td>0.000000</td>\n",
       "      <td>0.000000</td>\n",
       "      <td>0.254772</td>\n",
       "      <td>0.352950</td>\n",
       "      <td>0.157253</td>\n",
       "      <td>0.304682</td>\n",
       "      <td>0.660450</td>\n",
       "    </tr>\n",
       "    <tr>\n",
       "      <th>6684</th>\n",
       "      <td>0.000000</td>\n",
       "      <td>0.000000</td>\n",
       "      <td>0.000000</td>\n",
       "      <td>0.730611</td>\n",
       "      <td>0.000000</td>\n",
       "      <td>0.000000</td>\n",
       "      <td>0.000000</td>\n",
       "      <td>0.313155</td>\n",
       "      <td>0.606747</td>\n",
       "      <td>0.000000</td>\n",
       "    </tr>\n",
       "    <tr>\n",
       "      <th>6685</th>\n",
       "      <td>0.000000</td>\n",
       "      <td>0.605301</td>\n",
       "      <td>0.000000</td>\n",
       "      <td>0.000000</td>\n",
       "      <td>0.452715</td>\n",
       "      <td>0.412118</td>\n",
       "      <td>0.000000</td>\n",
       "      <td>0.508742</td>\n",
       "      <td>0.000000</td>\n",
       "      <td>0.000000</td>\n",
       "    </tr>\n",
       "  </tbody>\n",
       "</table>\n",
       "<p>6686 rows × 10 columns</p>\n",
       "</div>"
      ],
      "text/plain": [
       "            at       for    google      ipad      link   mention        rt  \\\n",
       "0     0.000000  0.000000  0.000000  0.774764  0.000000  0.538018  0.000000   \n",
       "1     0.474929  0.520142  0.000000  0.000000  0.389023  0.354138  0.000000   \n",
       "2     0.000000  0.543911  0.000000  0.533275  0.000000  0.370321  0.000000   \n",
       "3     0.482180  0.000000  0.000000  0.000000  0.394963  0.359545  0.498098   \n",
       "4     0.322184  0.000000  0.000000  0.000000  0.527813  0.240241  0.332820   \n",
       "...        ...       ...       ...       ...       ...       ...       ...   \n",
       "6681  0.000000  0.537250  0.519423  0.000000  0.000000  0.365786  0.506744   \n",
       "6682  0.000000  0.440960  0.000000  0.000000  0.329801  0.600454  0.415922   \n",
       "6683  0.341671  0.374198  0.000000  0.000000  0.000000  0.254772  0.352950   \n",
       "6684  0.000000  0.000000  0.000000  0.730611  0.000000  0.000000  0.000000   \n",
       "6685  0.000000  0.605301  0.000000  0.000000  0.452715  0.412118  0.000000   \n",
       "\n",
       "          sxsw       the        to  \n",
       "0     0.332080  0.000000  0.000000  \n",
       "1     0.218584  0.423514  0.000000  \n",
       "2     0.228573  0.000000  0.479995  \n",
       "3     0.221921  0.429980  0.000000  \n",
       "4     0.148284  0.574608  0.311390  \n",
       "...        ...       ...       ...  \n",
       "6681  0.225773  0.000000  0.000000  \n",
       "6682  0.185309  0.359041  0.000000  \n",
       "6683  0.157253  0.304682  0.660450  \n",
       "6684  0.313155  0.606747  0.000000  \n",
       "6685  0.508742  0.000000  0.000000  \n",
       "\n",
       "[6686 rows x 10 columns]"
      ]
     },
     "execution_count": 57,
     "metadata": {},
     "output_type": "execute_result"
    }
   ],
   "source": [
    "# Visually inspect the vectorized data\n",
    "pd.DataFrame.sparse.from_spmatrix(X_train_vectorized, columns=tfidf.get_feature_names())"
   ]
  },
  {
   "cell_type": "code",
   "execution_count": null,
   "metadata": {},
   "outputs": [],
   "source": []
  },
  {
   "cell_type": "code",
   "execution_count": 58,
   "metadata": {},
   "outputs": [],
   "source": [
    "# transform the vectorizer on X_text[\"tweet_text\"] and transform it\n",
    "X_test_vectorized = tfidf.transform(X_test[\"tweet_text\"].values.astype('U'))"
   ]
  },
  {
   "cell_type": "code",
   "execution_count": 59,
   "metadata": {
    "scrolled": true
   },
   "outputs": [
    {
     "data": {
      "text/html": [
       "<div>\n",
       "<style scoped>\n",
       "    .dataframe tbody tr th:only-of-type {\n",
       "        vertical-align: middle;\n",
       "    }\n",
       "\n",
       "    .dataframe tbody tr th {\n",
       "        vertical-align: top;\n",
       "    }\n",
       "\n",
       "    .dataframe thead th {\n",
       "        text-align: right;\n",
       "    }\n",
       "</style>\n",
       "<table border=\"1\" class=\"dataframe\">\n",
       "  <thead>\n",
       "    <tr style=\"text-align: right;\">\n",
       "      <th></th>\n",
       "      <th>at</th>\n",
       "      <th>for</th>\n",
       "      <th>google</th>\n",
       "      <th>ipad</th>\n",
       "      <th>link</th>\n",
       "      <th>mention</th>\n",
       "      <th>rt</th>\n",
       "      <th>sxsw</th>\n",
       "      <th>the</th>\n",
       "      <th>to</th>\n",
       "    </tr>\n",
       "  </thead>\n",
       "  <tbody>\n",
       "    <tr>\n",
       "      <th>0</th>\n",
       "      <td>0.000000</td>\n",
       "      <td>0.000000</td>\n",
       "      <td>0.000000</td>\n",
       "      <td>0.919129</td>\n",
       "      <td>0.000000</td>\n",
       "      <td>0.000000</td>\n",
       "      <td>0.0</td>\n",
       "      <td>0.393957</td>\n",
       "      <td>0.000000</td>\n",
       "      <td>0.000000</td>\n",
       "    </tr>\n",
       "    <tr>\n",
       "      <th>1</th>\n",
       "      <td>0.000000</td>\n",
       "      <td>0.000000</td>\n",
       "      <td>0.556651</td>\n",
       "      <td>0.000000</td>\n",
       "      <td>0.000000</td>\n",
       "      <td>0.392002</td>\n",
       "      <td>0.0</td>\n",
       "      <td>0.241955</td>\n",
       "      <td>0.468796</td>\n",
       "      <td>0.508097</td>\n",
       "    </tr>\n",
       "    <tr>\n",
       "      <th>2</th>\n",
       "      <td>0.000000</td>\n",
       "      <td>0.000000</td>\n",
       "      <td>0.000000</td>\n",
       "      <td>0.000000</td>\n",
       "      <td>0.352021</td>\n",
       "      <td>0.000000</td>\n",
       "      <td>0.0</td>\n",
       "      <td>0.197793</td>\n",
       "      <td>0.383231</td>\n",
       "      <td>0.830718</td>\n",
       "    </tr>\n",
       "    <tr>\n",
       "      <th>3</th>\n",
       "      <td>0.580522</td>\n",
       "      <td>0.635788</td>\n",
       "      <td>0.000000</td>\n",
       "      <td>0.000000</td>\n",
       "      <td>0.000000</td>\n",
       "      <td>0.432875</td>\n",
       "      <td>0.0</td>\n",
       "      <td>0.267183</td>\n",
       "      <td>0.000000</td>\n",
       "      <td>0.000000</td>\n",
       "    </tr>\n",
       "    <tr>\n",
       "      <th>4</th>\n",
       "      <td>0.576969</td>\n",
       "      <td>0.000000</td>\n",
       "      <td>0.610929</td>\n",
       "      <td>0.000000</td>\n",
       "      <td>0.472606</td>\n",
       "      <td>0.000000</td>\n",
       "      <td>0.0</td>\n",
       "      <td>0.265548</td>\n",
       "      <td>0.000000</td>\n",
       "      <td>0.000000</td>\n",
       "    </tr>\n",
       "    <tr>\n",
       "      <th>...</th>\n",
       "      <td>...</td>\n",
       "      <td>...</td>\n",
       "      <td>...</td>\n",
       "      <td>...</td>\n",
       "      <td>...</td>\n",
       "      <td>...</td>\n",
       "      <td>...</td>\n",
       "      <td>...</td>\n",
       "      <td>...</td>\n",
       "      <td>...</td>\n",
       "    </tr>\n",
       "    <tr>\n",
       "      <th>2224</th>\n",
       "      <td>0.000000</td>\n",
       "      <td>0.000000</td>\n",
       "      <td>0.917110</td>\n",
       "      <td>0.000000</td>\n",
       "      <td>0.000000</td>\n",
       "      <td>0.000000</td>\n",
       "      <td>0.0</td>\n",
       "      <td>0.398633</td>\n",
       "      <td>0.000000</td>\n",
       "      <td>0.000000</td>\n",
       "    </tr>\n",
       "    <tr>\n",
       "      <th>2225</th>\n",
       "      <td>0.000000</td>\n",
       "      <td>0.000000</td>\n",
       "      <td>0.632883</td>\n",
       "      <td>0.000000</td>\n",
       "      <td>0.489590</td>\n",
       "      <td>0.000000</td>\n",
       "      <td>0.0</td>\n",
       "      <td>0.275091</td>\n",
       "      <td>0.532997</td>\n",
       "      <td>0.000000</td>\n",
       "    </tr>\n",
       "    <tr>\n",
       "      <th>2226</th>\n",
       "      <td>0.000000</td>\n",
       "      <td>0.642965</td>\n",
       "      <td>0.000000</td>\n",
       "      <td>0.000000</td>\n",
       "      <td>0.000000</td>\n",
       "      <td>0.437762</td>\n",
       "      <td>0.0</td>\n",
       "      <td>0.270199</td>\n",
       "      <td>0.000000</td>\n",
       "      <td>0.567409</td>\n",
       "    </tr>\n",
       "    <tr>\n",
       "      <th>2227</th>\n",
       "      <td>0.000000</td>\n",
       "      <td>0.000000</td>\n",
       "      <td>0.000000</td>\n",
       "      <td>0.000000</td>\n",
       "      <td>0.000000</td>\n",
       "      <td>0.000000</td>\n",
       "      <td>0.0</td>\n",
       "      <td>0.429939</td>\n",
       "      <td>0.000000</td>\n",
       "      <td>0.902858</td>\n",
       "    </tr>\n",
       "    <tr>\n",
       "      <th>2228</th>\n",
       "      <td>0.000000</td>\n",
       "      <td>0.000000</td>\n",
       "      <td>0.917110</td>\n",
       "      <td>0.000000</td>\n",
       "      <td>0.000000</td>\n",
       "      <td>0.000000</td>\n",
       "      <td>0.0</td>\n",
       "      <td>0.398633</td>\n",
       "      <td>0.000000</td>\n",
       "      <td>0.000000</td>\n",
       "    </tr>\n",
       "  </tbody>\n",
       "</table>\n",
       "<p>2229 rows × 10 columns</p>\n",
       "</div>"
      ],
      "text/plain": [
       "            at       for    google      ipad      link   mention   rt  \\\n",
       "0     0.000000  0.000000  0.000000  0.919129  0.000000  0.000000  0.0   \n",
       "1     0.000000  0.000000  0.556651  0.000000  0.000000  0.392002  0.0   \n",
       "2     0.000000  0.000000  0.000000  0.000000  0.352021  0.000000  0.0   \n",
       "3     0.580522  0.635788  0.000000  0.000000  0.000000  0.432875  0.0   \n",
       "4     0.576969  0.000000  0.610929  0.000000  0.472606  0.000000  0.0   \n",
       "...        ...       ...       ...       ...       ...       ...  ...   \n",
       "2224  0.000000  0.000000  0.917110  0.000000  0.000000  0.000000  0.0   \n",
       "2225  0.000000  0.000000  0.632883  0.000000  0.489590  0.000000  0.0   \n",
       "2226  0.000000  0.642965  0.000000  0.000000  0.000000  0.437762  0.0   \n",
       "2227  0.000000  0.000000  0.000000  0.000000  0.000000  0.000000  0.0   \n",
       "2228  0.000000  0.000000  0.917110  0.000000  0.000000  0.000000  0.0   \n",
       "\n",
       "          sxsw       the        to  \n",
       "0     0.393957  0.000000  0.000000  \n",
       "1     0.241955  0.468796  0.508097  \n",
       "2     0.197793  0.383231  0.830718  \n",
       "3     0.267183  0.000000  0.000000  \n",
       "4     0.265548  0.000000  0.000000  \n",
       "...        ...       ...       ...  \n",
       "2224  0.398633  0.000000  0.000000  \n",
       "2225  0.275091  0.532997  0.000000  \n",
       "2226  0.270199  0.000000  0.567409  \n",
       "2227  0.429939  0.000000  0.902858  \n",
       "2228  0.398633  0.000000  0.000000  \n",
       "\n",
       "[2229 rows x 10 columns]"
      ]
     },
     "execution_count": 59,
     "metadata": {},
     "output_type": "execute_result"
    }
   ],
   "source": [
    "# Visually inspect the vectorized data\n",
    "pd.DataFrame.sparse.from_spmatrix(X_test_vectorized, columns=tfidf.get_feature_names())"
   ]
  },
  {
   "cell_type": "markdown",
   "metadata": {},
   "source": [
    "######  Build Baseline model using MultinomialNB"
   ]
  },
  {
   "cell_type": "markdown",
   "metadata": {},
   "source": [
    "Naive Bayes is used for classification tasks (scoring, text & for imbalanced dataset) and it provides a good baseline for model comparison.\n",
    "This is a pretty popular algorithm used in text classification,"
   ]
  },
  {
   "cell_type": "markdown",
   "metadata": {},
   "source": [
    "We can build a simple TF-IDF preprocessor and Naive Bayes classifier wrapped in a Pipeline"
   ]
  },
  {
   "cell_type": "code",
   "execution_count": 60,
   "metadata": {},
   "outputs": [],
   "source": [
    "# import Pipeline model\n",
    "from sklearn.pipeline import Pipeline\n",
    "# import MultinomialNB classifier\n",
    "from sklearn.naive_bayes import MultinomialNB"
   ]
  },
  {
   "cell_type": "code",
   "execution_count": 61,
   "metadata": {},
   "outputs": [],
   "source": [
    "baseline_model = Pipeline([\n",
    "        \n",
    "        ('tfidf', tfidf),\n",
    "        ('clf', MultinomialNB()),\n",
    "    ])"
   ]
  },
  {
   "cell_type": "code",
   "execution_count": 62,
   "metadata": {},
   "outputs": [
    {
     "data": {
      "text/plain": [
       "Pipeline(steps=[('tfidf', TfidfVectorizer(max_features=10)),\n",
       "                ('clf', MultinomialNB())])"
      ]
     },
     "execution_count": 62,
     "metadata": {},
     "output_type": "execute_result"
    }
   ],
   "source": [
    "# fit the model on X_train and y_train\n",
    "baseline_model.fit(X_train[\"tweet_text\"].values.astype('U'),np.ravel(y_train))"
   ]
  },
  {
   "cell_type": "markdown",
   "metadata": {},
   "source": [
    "###### Evaluate a multinomial Naive Bayes classifier and using cross_val_score.\n",
    "Cross-validation (CV) is a technique used to assess a machine learning model and test its performance (or accuracy).Cross-validation is used to protect a model from overfitting."
   ]
  },
  {
   "cell_type": "code",
   "execution_count": 63,
   "metadata": {
    "scrolled": true
   },
   "outputs": [
    {
     "data": {
      "text/plain": [
       "array([0.60538117, 0.60583396, 0.60583396, 0.60583396, 0.60583396])"
      ]
     },
     "execution_count": 63,
     "metadata": {},
     "output_type": "execute_result"
    }
   ],
   "source": [
    "# Import relevant class and function\n",
    "#from sklearn.naive_bayes import MultinomialNB\n",
    "#from sklearn.model_selection import cross_val_score\n",
    "\n",
    "# Instantiate a MultinomialNB classifier\n",
    "#baseline_model = MultinomialNB()\n",
    "\n",
    "# Evaluate the classifier on X_train_vectorized and y_train\n",
    "baseline_cv = cross_val_score(baseline_model, X_train[\"tweet_text\"].values.astype('U'),np.ravel (y_train))\n",
    "baseline_cv"
   ]
  },
  {
   "cell_type": "code",
   "execution_count": 64,
   "metadata": {
    "scrolled": true
   },
   "outputs": [
    {
     "name": "stdout",
     "output_type": "stream",
     "text": [
      "Baseline performance:          0.605743398479294\n"
     ]
    }
   ],
   "source": [
    "print(\"Baseline performance:         \", baseline_cv.mean())"
   ]
  },
  {
   "cell_type": "markdown",
   "metadata": {},
   "source": [
    "We would expect about 60.57% accuracy"
   ]
  },
  {
   "cell_type": "code",
   "execution_count": 65,
   "metadata": {},
   "outputs": [
    {
     "data": {
      "text/plain": [
       "catogory\n",
       "1           0.605743\n",
       "2           0.333383\n",
       "0           0.060873\n",
       "dtype: float64"
      ]
     },
     "execution_count": 65,
     "metadata": {},
     "output_type": "execute_result"
    }
   ],
   "source": [
    "y_train.value_counts(normalize=True)"
   ]
  },
  {
   "cell_type": "markdown",
   "metadata": {},
   "source": [
    "(class 1 = Nutral), we would expect about 60% accuracy\n",
    "\n",
    "(class 2 = Posative), we would expect about 33% accuracy\n",
    "\n",
    "(class 0 = Negative), we would expect about 6% accuracy"
   ]
  },
  {
   "cell_type": "markdown",
   "metadata": {},
   "source": [
    "We can improve the performance with more preprocessing."
   ]
  },
  {
   "cell_type": "markdown",
   "metadata": {},
   "source": [
    "###### 2.Model2"
   ]
  },
  {
   "cell_type": "markdown",
   "metadata": {},
   "source": [
    "##### Perform and Evaluate Preprocessing and Feature Engineering Techniques"
   ]
  },
  {
   "cell_type": "markdown",
   "metadata": {},
   "source": [
    "We will practice to clean our text more by removeing stop words,punctuations,numbers and  whitespaces.  "
   ]
  },
  {
   "cell_type": "markdown",
   "metadata": {},
   "source": [
    "##### Removing Stopwords\n",
    "Stop words are a set of words which helps in sentence construction and don't have any real information.\n",
    "\n",
    "NLTK library consists of a list of words that are considered stopwords for the English language. "
   ]
  },
  {
   "cell_type": "markdown",
   "metadata": {},
   "source": [
    "String library of Python contains some pre-defined list of punctuations such as ‘!”#$%&'()*+,-./:;?@[\\]^_`{|}~’"
   ]
  },
  {
   "cell_type": "code",
   "execution_count": 66,
   "metadata": {},
   "outputs": [],
   "source": [
    "#Importing stopwords from nltk\n",
    "#Importing String library\n",
    "from nltk.corpus import stopwords\n",
    "import string"
   ]
  },
  {
   "cell_type": "code",
   "execution_count": 67,
   "metadata": {},
   "outputs": [],
   "source": [
    "#Stop words present in the library\n",
    "s_w = stopwords.words('english')\n",
    "# add punctuation to stopwords\n",
    "s_w += list(string.punctuation)\n",
    "# add numbers to stopwords\n",
    "s_w += ['0', '1', '2', '3', '4', '5', '6', '7', '8', '9']\n",
    "# add some fequent words to stopwords\n",
    "s_w += ['sxsw','mention',\"link\",\"rt\"]\n",
    "# add some punctuation and whitespace to stopword\n",
    "s_w += ['“','”','...',\"''\",'’','``','',\"  \"]\n"
   ]
  },
  {
   "cell_type": "markdown",
   "metadata": {},
   "source": [
    "Extract the stopwords from the text"
   ]
  },
  {
   "cell_type": "code",
   "execution_count": 68,
   "metadata": {},
   "outputs": [
    {
     "data": {
      "text/plain": [
       "['mention',\n",
       " 'you',\n",
       " 'that',\n",
       " 'sxsw',\n",
       " 'link',\n",
       " 'i',\n",
       " 'of',\n",
       " 'mention',\n",
       " 'at',\n",
       " 'the',\n",
       " 'for',\n",
       " 'sxsw',\n",
       " 'if',\n",
       " 'were',\n",
       " 'to',\n",
       " 'sxsw',\n",
       " 'or',\n",
       " 'an',\n",
       " 'a',\n",
       " 'few',\n",
       " 'for',\n",
       " 'mention',\n",
       " 'rt',\n",
       " 'mention',\n",
       " 'my',\n",
       " 'is',\n",
       " 'that',\n",
       " 'is',\n",
       " 'by',\n",
       " 'the',\n",
       " 'of',\n",
       " 'at',\n",
       " 'sxsw',\n",
       " 'link',\n",
       " 'rt',\n",
       " 'mention',\n",
       " 'at',\n",
       " 'sxsw',\n",
       " 'the',\n",
       " 'link',\n",
       " 'and',\n",
       " 'to',\n",
       " 'be',\n",
       " 'on',\n",
       " 'the',\n",
       " 'link',\n",
       " 'rt',\n",
       " 'mention',\n",
       " 'sxsw',\n",
       " 'to',\n",
       " 'is',\n",
       " 'about',\n",
       " 'for',\n",
       " 'what',\n",
       " 'do',\n",
       " 'you',\n",
       " 'did',\n",
       " 'that',\n",
       " 'they',\n",
       " \"don't\",\n",
       " 'of',\n",
       " 'up',\n",
       " 'in',\n",
       " 'the',\n",
       " 'sxsw',\n",
       " 'to',\n",
       " 'link',\n",
       " 'sxsw',\n",
       " 'mention',\n",
       " \"don't\",\n",
       " 'your',\n",
       " 'about',\n",
       " 'at',\n",
       " 'during',\n",
       " 'sxsw',\n",
       " 'link',\n",
       " 'rt',\n",
       " 'mention',\n",
       " 'link',\n",
       " 'sxsw',\n",
       " 'again',\n",
       " 'mention',\n",
       " 'and',\n",
       " 'mention',\n",
       " 'up',\n",
       " 'a',\n",
       " 'and',\n",
       " 'mention',\n",
       " 'link',\n",
       " 'mention',\n",
       " 'sxsw',\n",
       " 'i',\n",
       " 'was',\n",
       " 'a',\n",
       " 'when',\n",
       " 'this',\n",
       " 'a',\n",
       " 'of',\n",
       " 'but',\n",
       " 'what',\n",
       " 'is',\n",
       " 'doing',\n",
       " 'to',\n",
       " 'sxsw',\n",
       " 'to',\n",
       " 'd',\n",
       " 'to',\n",
       " 'mention',\n",
       " 'sxsw',\n",
       " 'down',\n",
       " 'rt',\n",
       " 'for',\n",
       " 'sxsw',\n",
       " 'for',\n",
       " 'link',\n",
       " 'to',\n",
       " 'a',\n",
       " 'sxsw',\n",
       " 'up',\n",
       " 'at',\n",
       " 'at',\n",
       " 'they',\n",
       " 'were',\n",
       " 'at',\n",
       " 'sxsw',\n",
       " 'link',\n",
       " 'rt',\n",
       " 'mention',\n",
       " 'sxsw',\n",
       " 'to',\n",
       " 'mention',\n",
       " 'mention',\n",
       " 'is',\n",
       " 'an',\n",
       " 'not',\n",
       " 'mention',\n",
       " 'sxsw',\n",
       " 'for',\n",
       " 'to',\n",
       " 'the',\n",
       " 'of',\n",
       " 'sxsw',\n",
       " 'mention',\n",
       " 'to',\n",
       " 'did',\n",
       " 'it',\n",
       " 'sxsw',\n",
       " 'link',\n",
       " 'at',\n",
       " 'sxsw',\n",
       " 'your',\n",
       " 'to',\n",
       " 'link',\n",
       " 'sxsw',\n",
       " 'through',\n",
       " 'the',\n",
       " 'at',\n",
       " 'sxsw',\n",
       " 'is',\n",
       " 'for',\n",
       " 'to',\n",
       " 's',\n",
       " 'by',\n",
       " 'the',\n",
       " 'for',\n",
       " 'a',\n",
       " 'in',\n",
       " 'link',\n",
       " 'sxsw',\n",
       " 'mention',\n",
       " 'for',\n",
       " 'you',\n",
       " 'mention',\n",
       " 'sxsw',\n",
       " 'link',\n",
       " 'sxsw',\n",
       " 'rt',\n",
       " 'mention',\n",
       " 'mention',\n",
       " 'in',\n",
       " 'and',\n",
       " 'now',\n",
       " 'link',\n",
       " 'link',\n",
       " 'sxsw',\n",
       " 'sxsw',\n",
       " 'no',\n",
       " 'more',\n",
       " 'and',\n",
       " 'over',\n",
       " 'your',\n",
       " 'we',\n",
       " 'it',\n",
       " 'its',\n",
       " 'not',\n",
       " 'a',\n",
       " 'has',\n",
       " 'now',\n",
       " 'i',\n",
       " 'how',\n",
       " 'and',\n",
       " 'will',\n",
       " 'the',\n",
       " 'of',\n",
       " 'sxsw',\n",
       " 'more',\n",
       " 'sxsw',\n",
       " 'is',\n",
       " 'the',\n",
       " 'and',\n",
       " 'have',\n",
       " 'and',\n",
       " 'of',\n",
       " 'to',\n",
       " 'be',\n",
       " 'of',\n",
       " 'mention',\n",
       " 'sxsw',\n",
       " 'to',\n",
       " 'at',\n",
       " 'sxsw',\n",
       " 'link',\n",
       " 'the',\n",
       " 'at',\n",
       " 'the',\n",
       " 'in',\n",
       " 'sxsw',\n",
       " 'link',\n",
       " 'rt',\n",
       " 'rt',\n",
       " 'mention',\n",
       " 'the',\n",
       " 'over',\n",
       " 'sxsw',\n",
       " 'link',\n",
       " 'rt',\n",
       " 'mention',\n",
       " 'the',\n",
       " 'link',\n",
       " 'rt',\n",
       " 'mention',\n",
       " 'is',\n",
       " 'it',\n",
       " 'on',\n",
       " 'sxsw',\n",
       " 'link',\n",
       " 'rt',\n",
       " 'mention',\n",
       " 'mention',\n",
       " \"it's\",\n",
       " 'for',\n",
       " 'just',\n",
       " 'sxsw',\n",
       " 'to',\n",
       " 'for',\n",
       " 'the',\n",
       " 'at',\n",
       " 'the',\n",
       " 'sxsw',\n",
       " 'be',\n",
       " 'in',\n",
       " 'the',\n",
       " 'link',\n",
       " 'and',\n",
       " 'a',\n",
       " 'sxsw',\n",
       " 'we',\n",
       " 'our',\n",
       " 'to',\n",
       " 'ourselves',\n",
       " 'up',\n",
       " 'you',\n",
       " 'a',\n",
       " 'more',\n",
       " 'link',\n",
       " 'sxsw',\n",
       " 'rt',\n",
       " 'mention',\n",
       " 'in',\n",
       " 'at',\n",
       " 'sxsw',\n",
       " 'by',\n",
       " 'mention',\n",
       " 'mention',\n",
       " 'link',\n",
       " 'sxsw',\n",
       " 'the',\n",
       " 'and',\n",
       " 'in',\n",
       " 'all',\n",
       " 'its',\n",
       " 'link',\n",
       " 'sxsw',\n",
       " 'rt',\n",
       " 'mention',\n",
       " 's',\n",
       " 'up',\n",
       " 'at',\n",
       " 'the',\n",
       " 'sxsw',\n",
       " 'link',\n",
       " 'from',\n",
       " 'sxsw',\n",
       " 'rt',\n",
       " 'mention',\n",
       " 'about',\n",
       " 'about',\n",
       " 'and',\n",
       " 'but',\n",
       " 'what',\n",
       " 'about',\n",
       " 'the',\n",
       " 'other',\n",
       " 'of',\n",
       " 'sxsw',\n",
       " 'how',\n",
       " 'i',\n",
       " 'm',\n",
       " 'my',\n",
       " 'at',\n",
       " 'sxsw',\n",
       " 'with',\n",
       " 'my',\n",
       " 'over',\n",
       " 'on',\n",
       " 'my',\n",
       " 'at',\n",
       " 'a',\n",
       " 'link',\n",
       " 'to',\n",
       " 'the',\n",
       " 'who',\n",
       " 'up',\n",
       " 'to',\n",
       " 'me',\n",
       " 'at',\n",
       " 'sxsw',\n",
       " 'and',\n",
       " 'me',\n",
       " 'how',\n",
       " 'is',\n",
       " 'for',\n",
       " 'me',\n",
       " 'mention',\n",
       " 'or',\n",
       " 'who',\n",
       " 'mention',\n",
       " 'your',\n",
       " 'the',\n",
       " 'me',\n",
       " 'so',\n",
       " 'i',\n",
       " 'can',\n",
       " 'you',\n",
       " 'with',\n",
       " 'it',\n",
       " 'sxsw',\n",
       " 'the',\n",
       " 'is',\n",
       " 'on',\n",
       " 'for',\n",
       " 'for',\n",
       " 'sxsw',\n",
       " 'just',\n",
       " 'your',\n",
       " 'link',\n",
       " 'at',\n",
       " 'sxsw',\n",
       " 'can',\n",
       " 'you',\n",
       " 'some',\n",
       " 'with',\n",
       " 'link',\n",
       " 'so',\n",
       " 'i',\n",
       " 'there',\n",
       " 'you',\n",
       " 'the',\n",
       " 'and',\n",
       " 'mention',\n",
       " 'rt',\n",
       " 'mention',\n",
       " 'are',\n",
       " 'sxsw',\n",
       " 'link',\n",
       " 'if',\n",
       " 'an',\n",
       " 'in',\n",
       " 'the',\n",
       " 'of',\n",
       " 'a',\n",
       " 'in',\n",
       " 'me',\n",
       " 'up',\n",
       " 'sxsw',\n",
       " 'i',\n",
       " 'am',\n",
       " 'the',\n",
       " 'link',\n",
       " 'sxsw',\n",
       " 'the',\n",
       " 'up',\n",
       " 'at',\n",
       " 'sxsw',\n",
       " 'with',\n",
       " 'a',\n",
       " 'for',\n",
       " 'the',\n",
       " 'to',\n",
       " 'link',\n",
       " 'mention',\n",
       " 'in',\n",
       " 'to',\n",
       " 'what',\n",
       " 'are',\n",
       " 'as',\n",
       " 'it',\n",
       " 'with',\n",
       " 'for',\n",
       " 'at',\n",
       " 'sxsw',\n",
       " 'before',\n",
       " 'it',\n",
       " 'sxsw',\n",
       " 'link',\n",
       " 'on',\n",
       " 'mention',\n",
       " 'this',\n",
       " 'it',\n",
       " 'to',\n",
       " 'the',\n",
       " 'with',\n",
       " 'mention',\n",
       " 'on',\n",
       " 'sxsw',\n",
       " 'mention',\n",
       " 'sxsw',\n",
       " 'on',\n",
       " 'link',\n",
       " 'for',\n",
       " 'for',\n",
       " 'and',\n",
       " 'at',\n",
       " 'sxsw',\n",
       " 'mention',\n",
       " 'to',\n",
       " 'and',\n",
       " 'who',\n",
       " 'will',\n",
       " 't',\n",
       " 'link',\n",
       " 'sxsw',\n",
       " 'will',\n",
       " 'i',\n",
       " 'sxsw',\n",
       " 'will',\n",
       " 'only',\n",
       " 'of',\n",
       " 'on',\n",
       " 'my',\n",
       " 'we',\n",
       " 'the',\n",
       " 'sxsw',\n",
       " 'on',\n",
       " 'your',\n",
       " 'and',\n",
       " 'do',\n",
       " 'this',\n",
       " 'link',\n",
       " 'by',\n",
       " 'mention',\n",
       " 'link',\n",
       " 'sxsw',\n",
       " 'rt',\n",
       " 'mention',\n",
       " 'rt',\n",
       " 'mention',\n",
       " 'the',\n",
       " 'over',\n",
       " 'sxsw',\n",
       " 'link',\n",
       " 'mention',\n",
       " 'its',\n",
       " 'you',\n",
       " 'i',\n",
       " 'for',\n",
       " 'a',\n",
       " 'sxsw',\n",
       " 'to',\n",
       " 'in',\n",
       " 'of',\n",
       " 'sxsw',\n",
       " 'link',\n",
       " 'sxsw',\n",
       " 'link',\n",
       " 'for',\n",
       " 'with',\n",
       " 'd',\n",
       " 'and',\n",
       " 'over',\n",
       " 'sxsw',\n",
       " 'sxsw',\n",
       " 'of',\n",
       " 'mention',\n",
       " 'just',\n",
       " 'me',\n",
       " 'an',\n",
       " 'from',\n",
       " 'sxsw',\n",
       " 'you',\n",
       " 'so',\n",
       " 'all',\n",
       " 'the',\n",
       " 'out',\n",
       " 'at',\n",
       " 'sxsw',\n",
       " 'are',\n",
       " 'me',\n",
       " 'my',\n",
       " 'in',\n",
       " 'a',\n",
       " \"it's\",\n",
       " 'not',\n",
       " 'a',\n",
       " 'is',\n",
       " 'up',\n",
       " 'a',\n",
       " 'in',\n",
       " 'for',\n",
       " 'sxsw',\n",
       " 'and',\n",
       " 'the',\n",
       " 'it',\n",
       " 'link',\n",
       " 'sxsw',\n",
       " 'to',\n",
       " 'up',\n",
       " 'link',\n",
       " 'sxsw',\n",
       " 'rt',\n",
       " 'mention',\n",
       " 'into',\n",
       " 'the',\n",
       " 'up',\n",
       " 'is',\n",
       " 'into',\n",
       " 'a',\n",
       " 'where',\n",
       " 'the',\n",
       " 'is',\n",
       " 'the',\n",
       " 'only',\n",
       " 'of',\n",
       " 'sxsw',\n",
       " 'mention',\n",
       " 'to',\n",
       " 'the',\n",
       " 'sxsw',\n",
       " 'link',\n",
       " 'about',\n",
       " 'the',\n",
       " 'of',\n",
       " 'and',\n",
       " 'sxsw',\n",
       " 'rt',\n",
       " 'mention',\n",
       " 'the',\n",
       " 'over',\n",
       " 'sxsw',\n",
       " 'of',\n",
       " 'the',\n",
       " 'of',\n",
       " 'sxsw',\n",
       " 'wasn',\n",
       " 't',\n",
       " 'an',\n",
       " 'link',\n",
       " 'mention',\n",
       " 'that',\n",
       " 'is',\n",
       " 'being',\n",
       " 'a',\n",
       " 'to',\n",
       " 'with',\n",
       " 'and',\n",
       " 'sxsw',\n",
       " 'the',\n",
       " 'rt',\n",
       " 'mention',\n",
       " 'we',\n",
       " 'your',\n",
       " 'sxsw',\n",
       " 'with',\n",
       " 'link',\n",
       " 'is',\n",
       " 'up',\n",
       " 'a',\n",
       " 'in',\n",
       " 'for',\n",
       " 'sxsw',\n",
       " 'and',\n",
       " 'the',\n",
       " 'link',\n",
       " 'rt',\n",
       " 'mention',\n",
       " 'i',\n",
       " 'not',\n",
       " 'have',\n",
       " 'to',\n",
       " 'all',\n",
       " 'the',\n",
       " 'sxsw',\n",
       " 'but',\n",
       " 'i',\n",
       " 'do',\n",
       " 'have',\n",
       " 'in',\n",
       " 'my',\n",
       " 'so',\n",
       " \"you'll\",\n",
       " 'be',\n",
       " 'to',\n",
       " 'me',\n",
       " 'rt',\n",
       " 'mention',\n",
       " 'is',\n",
       " 'to',\n",
       " 'sxsw',\n",
       " 'and',\n",
       " 'to',\n",
       " 'we',\n",
       " 'are',\n",
       " 'an',\n",
       " 'out',\n",
       " 'how',\n",
       " 'to',\n",
       " 'here',\n",
       " 'link',\n",
       " 'over',\n",
       " 'to',\n",
       " 'link',\n",
       " 'by',\n",
       " 'to',\n",
       " 'to',\n",
       " 'my',\n",
       " 'at',\n",
       " 'sxsw',\n",
       " 'with',\n",
       " 'mention',\n",
       " 'you',\n",
       " 'are',\n",
       " 'my',\n",
       " 'for',\n",
       " 'to',\n",
       " 'mention',\n",
       " 'when',\n",
       " 'you',\n",
       " 'an',\n",
       " 'again',\n",
       " 'sxsw',\n",
       " 'do',\n",
       " 'we',\n",
       " 'rt',\n",
       " 'mention',\n",
       " 'to',\n",
       " 'link',\n",
       " 'sxsw',\n",
       " 'to',\n",
       " 'and',\n",
       " 'mention',\n",
       " 'on',\n",
       " 'the',\n",
       " 'of',\n",
       " 'the',\n",
       " 'of',\n",
       " 'sxsw',\n",
       " 'link',\n",
       " 'i',\n",
       " 'am',\n",
       " 'at',\n",
       " 'the',\n",
       " 'up',\n",
       " 'at',\n",
       " 'sxsw',\n",
       " 'this',\n",
       " 'just',\n",
       " 'd',\n",
       " 'link',\n",
       " 'just',\n",
       " 'my',\n",
       " 'sxsw',\n",
       " 'to',\n",
       " 'mention',\n",
       " 'on',\n",
       " 'the',\n",
       " 'mention',\n",
       " 'any',\n",
       " 'here',\n",
       " 'for',\n",
       " 'am',\n",
       " 'not',\n",
       " 'sxsw',\n",
       " 'rt',\n",
       " 'mention',\n",
       " 'for',\n",
       " 'sxsw',\n",
       " 'for',\n",
       " 'link',\n",
       " 's',\n",
       " 'out',\n",
       " 'at',\n",
       " 'on',\n",
       " 'sxsw',\n",
       " 'rt',\n",
       " 'mention',\n",
       " 'up',\n",
       " 'for',\n",
       " 'sxsw',\n",
       " 'why',\n",
       " 'not',\n",
       " 'up',\n",
       " 'rt',\n",
       " 'mention',\n",
       " 'just',\n",
       " 'out',\n",
       " 'has',\n",
       " 'by',\n",
       " 'for',\n",
       " 'to',\n",
       " 'it',\n",
       " 'out',\n",
       " 'and',\n",
       " 'with',\n",
       " 'sxsw',\n",
       " 'mention',\n",
       " 'rt',\n",
       " 'mention',\n",
       " 'to',\n",
       " 'link',\n",
       " 'sxsw',\n",
       " 'on',\n",
       " 'to',\n",
       " 'at',\n",
       " 'sxsw',\n",
       " 'link',\n",
       " 'mention',\n",
       " 'this',\n",
       " 'mention',\n",
       " 'to',\n",
       " 'the',\n",
       " 'now',\n",
       " 'link',\n",
       " 'sxsw',\n",
       " 'a',\n",
       " 'link',\n",
       " 'so',\n",
       " 'this',\n",
       " 'is',\n",
       " 'the',\n",
       " 'sxsw',\n",
       " 'mention',\n",
       " 'we',\n",
       " 'are',\n",
       " 'in',\n",
       " 'at',\n",
       " 'the',\n",
       " 'up',\n",
       " 'at',\n",
       " 'sxsw',\n",
       " 'than',\n",
       " 'in',\n",
       " 'at',\n",
       " 'the',\n",
       " 'sxsw',\n",
       " 'link',\n",
       " 'mention',\n",
       " 'you',\n",
       " 'can',\n",
       " 'my',\n",
       " 'and',\n",
       " 'up',\n",
       " 'sxsw',\n",
       " 'if',\n",
       " 'the',\n",
       " 'how',\n",
       " 'to',\n",
       " 'on',\n",
       " 'where',\n",
       " 'the',\n",
       " 'is',\n",
       " 'at',\n",
       " 'sxsw',\n",
       " 'for',\n",
       " 'for',\n",
       " 'link',\n",
       " 'mention',\n",
       " 'they',\n",
       " 'did',\n",
       " 'you',\n",
       " 'are',\n",
       " 'so',\n",
       " 'sxsw',\n",
       " 'as',\n",
       " 'a',\n",
       " 'in',\n",
       " 'if',\n",
       " \"you're\",\n",
       " 'in',\n",
       " 'link',\n",
       " 'sxsw',\n",
       " 'for',\n",
       " 'all',\n",
       " 'the',\n",
       " 'on',\n",
       " 'the',\n",
       " 'there',\n",
       " 'after',\n",
       " 'this',\n",
       " 'sxsw',\n",
       " \"don't\",\n",
       " 'be',\n",
       " 'on',\n",
       " 'your',\n",
       " 'up',\n",
       " 'to',\n",
       " 'to',\n",
       " 'for',\n",
       " 'for',\n",
       " 'before',\n",
       " 'sxsw',\n",
       " 'at',\n",
       " 'sxsw',\n",
       " 'so',\n",
       " 'my',\n",
       " 'was',\n",
       " 'out',\n",
       " 'of',\n",
       " 'and',\n",
       " 'me',\n",
       " 'a',\n",
       " 'link',\n",
       " 'both',\n",
       " 'and',\n",
       " 'are',\n",
       " 'off',\n",
       " 'too',\n",
       " 'link',\n",
       " 'mention',\n",
       " 'a',\n",
       " 'sxsw',\n",
       " 'link',\n",
       " 'mention',\n",
       " 'mention',\n",
       " 'will',\n",
       " 'be',\n",
       " 'their',\n",
       " 'sxsw',\n",
       " 'with',\n",
       " 'a',\n",
       " 'link',\n",
       " 'sxsw',\n",
       " 'the',\n",
       " 'by',\n",
       " 'was',\n",
       " 'but',\n",
       " 'are',\n",
       " 'not',\n",
       " 'to',\n",
       " 'be',\n",
       " 'sxsw',\n",
       " 'being',\n",
       " 'to',\n",
       " 'just',\n",
       " 'the',\n",
       " 'with',\n",
       " 'out',\n",
       " 'to',\n",
       " 'more',\n",
       " 'to',\n",
       " 'my',\n",
       " 'sxsw',\n",
       " 'me',\n",
       " 'rt',\n",
       " 'mention',\n",
       " 'just',\n",
       " 'up',\n",
       " 'in',\n",
       " 'to',\n",
       " 'the',\n",
       " 'sxsw',\n",
       " 'for',\n",
       " 'the',\n",
       " 'and',\n",
       " 'in',\n",
       " 'it',\n",
       " 'should',\n",
       " 'have',\n",
       " 'been',\n",
       " 'in',\n",
       " 'of',\n",
       " 'the',\n",
       " 'sxsw',\n",
       " 'from',\n",
       " 'my',\n",
       " 'rt',\n",
       " 'mention',\n",
       " 'on',\n",
       " 's',\n",
       " 'of',\n",
       " 'them',\n",
       " 'all',\n",
       " 'sxsw',\n",
       " 'rt',\n",
       " 'mention',\n",
       " 'mention',\n",
       " 'just',\n",
       " 'you',\n",
       " 'at',\n",
       " 'to',\n",
       " 'sxsw',\n",
       " 'if',\n",
       " 'you',\n",
       " 'or',\n",
       " 'your',\n",
       " 'have',\n",
       " 'an',\n",
       " 'or',\n",
       " 'my',\n",
       " 'mention',\n",
       " 'did',\n",
       " 'you',\n",
       " 'sxsw',\n",
       " 'link',\n",
       " 'will',\n",
       " 'itself',\n",
       " 'sxsw',\n",
       " 'mention',\n",
       " 'link',\n",
       " 'than',\n",
       " 'a',\n",
       " 'just',\n",
       " 'in',\n",
       " 'for',\n",
       " 'sxsw',\n",
       " 'for',\n",
       " 'those',\n",
       " 'at',\n",
       " 'sxsw',\n",
       " 'up',\n",
       " 'at',\n",
       " 'sxsw',\n",
       " 'to',\n",
       " 'link',\n",
       " 'to',\n",
       " 'in',\n",
       " 'at',\n",
       " 'sxsw',\n",
       " 'link',\n",
       " 'rt',\n",
       " 'mention',\n",
       " 'mention',\n",
       " 'to',\n",
       " 'for',\n",
       " 'mention',\n",
       " 'o',\n",
       " 'sxsw',\n",
       " 'rt',\n",
       " 'mention',\n",
       " 'to',\n",
       " 'link',\n",
       " 'sxsw',\n",
       " 'the',\n",
       " 'that',\n",
       " 'from',\n",
       " 'sxsw',\n",
       " \"isn't\",\n",
       " 'the',\n",
       " 'to',\n",
       " 'to',\n",
       " 'up',\n",
       " 'an',\n",
       " 'mention',\n",
       " 'what',\n",
       " 'did',\n",
       " 'you',\n",
       " 'did',\n",
       " 'you',\n",
       " 'the',\n",
       " 'they',\n",
       " 'up',\n",
       " 'at',\n",
       " 'sxsw',\n",
       " 'here',\n",
       " 'has',\n",
       " 'is',\n",
       " 'not',\n",
       " 'when',\n",
       " 'you',\n",
       " 'your',\n",
       " 'or',\n",
       " ...]"
      ]
     },
     "execution_count": 68,
     "metadata": {},
     "output_type": "execute_result"
    }
   ],
   "source": [
    "# Extract the stopwords from the text\n",
    "stop_words =[token for token in X_train[\"text_tokenized\"].explode() if token in s_w]\n",
    "stop_words"
   ]
  },
  {
   "cell_type": "markdown",
   "metadata": {},
   "source": [
    "All of these words are stop words dont provide us with any information."
   ]
  },
  {
   "cell_type": "markdown",
   "metadata": {},
   "source": [
    "Create a function to remove the stopwords from the text from the data frame."
   ]
  },
  {
   "cell_type": "code",
   "execution_count": 69,
   "metadata": {},
   "outputs": [],
   "source": [
    "def remove_stopwords(text):\n",
    "    \"\"\"\n",
    "    Given a list of tokens, return a list where the tokens\n",
    "    that are also present in stopwords_list have been\n",
    "    removed\n",
    "    \"\"\"\n",
    "    stopwords_removed = [token for token in text if token not in s_w]\n",
    "    return stopwords_removed"
   ]
  },
  {
   "cell_type": "markdown",
   "metadata": {},
   "source": [
    "Apply the function of remove stopwords to the data frame"
   ]
  },
  {
   "cell_type": "code",
   "execution_count": 70,
   "metadata": {
    "scrolled": false
   },
   "outputs": [
    {
     "data": {
      "text/html": [
       "<div>\n",
       "<style scoped>\n",
       "    .dataframe tbody tr th:only-of-type {\n",
       "        vertical-align: middle;\n",
       "    }\n",
       "\n",
       "    .dataframe tbody tr th {\n",
       "        vertical-align: top;\n",
       "    }\n",
       "\n",
       "    .dataframe thead th {\n",
       "        text-align: right;\n",
       "    }\n",
       "</style>\n",
       "<table border=\"1\" class=\"dataframe\">\n",
       "  <thead>\n",
       "    <tr style=\"text-align: right;\">\n",
       "      <th></th>\n",
       "      <th>tweet_text</th>\n",
       "      <th>text_tokenized</th>\n",
       "      <th>text_without_stopwords</th>\n",
       "    </tr>\n",
       "  </thead>\n",
       "  <tbody>\n",
       "    <tr>\n",
       "      <th>9055</th>\n",
       "      <td>@mention you give away that ipad yet.... ? #sxsw</td>\n",
       "      <td>[mention, you, give, away, that, ipad, yet, sxsw]</td>\n",
       "      <td>[give, away, ipad, yet]</td>\n",
       "    </tr>\n",
       "    <tr>\n",
       "      <th>4203</th>\n",
       "      <td>{link} killer shot i got last night of @mention at the #nokiaconnects concert for #sxsw</td>\n",
       "      <td>[link, killer, shot, i, got, last, night, of, mention, at, the, nokiaconnects, concert, for, sxsw]</td>\n",
       "      <td>[killer, shot, got, last, night, nokiaconnects, concert]</td>\n",
       "    </tr>\n",
       "    <tr>\n",
       "      <th>1277</th>\n",
       "      <td>please if u were able to [...] attend #sxsw or buy an ipad today, consider saving a few $$ for japan earthquake relief (via @mention</td>\n",
       "      <td>[please, if, u, were, able, to, attend, sxsw, or, buy, an, ipad, today, consider, saving, a, few, for, japan, earthquake, relief, via, mention]</td>\n",
       "      <td>[please, u, able, attend, buy, ipad, today, consider, saving, japan, earthquake, relief, via]</td>\n",
       "    </tr>\n",
       "    <tr>\n",
       "      <th>6334</th>\n",
       "      <td>rt @mention my informal unscientific observation is that #apple is by far the computer of choice at #sxsw. hands ... {link}</td>\n",
       "      <td>[rt, mention, my, informal, unscientific, observation, is, that, apple, is, by, far, the, computer, of, choice, at, sxsw, hands, link]</td>\n",
       "      <td>[informal, unscientific, observation, apple, far, computer, choice, hands]</td>\n",
       "    </tr>\n",
       "    <tr>\n",
       "      <th>5515</th>\n",
       "      <td>rt @mention at #sxsw? get the soundcloud iphone app {link} and start recording. use 4sq geotagging to be on the map: {link}</td>\n",
       "      <td>[rt, mention, at, sxsw, get, the, soundcloud, iphone, app, link, and, start, recording, use, sq, geotagging, to, be, on, the, map, link]</td>\n",
       "      <td>[get, soundcloud, iphone, app, start, recording, use, sq, geotagging, map]</td>\n",
       "    </tr>\n",
       "    <tr>\n",
       "      <th>...</th>\n",
       "      <td>...</td>\n",
       "      <td>...</td>\n",
       "      <td>...</td>\n",
       "    </tr>\n",
       "    <tr>\n",
       "      <th>5845</th>\n",
       "      <td>rt @mention google maps for mobile 5.2 looks awesome.#sxsw</td>\n",
       "      <td>[rt, mention, google, maps, for, mobile, looks, awesome, sxsw]</td>\n",
       "      <td>[google, maps, mobile, looks, awesome]</td>\n",
       "    </tr>\n",
       "    <tr>\n",
       "      <th>5291</th>\n",
       "      <td>rt @mention #sxsw go 1.1 for android is live in the android marketplace! new features, including sd card storage and more.  {link} via @mention</td>\n",
       "      <td>[rt, mention, sxsw, go, for, android, is, live, in, the, android, marketplace, new, features, including, sd, card, storage, and, more, link, via, mention]</td>\n",
       "      <td>[go, android, live, android, marketplace, new, features, including, sd, card, storage, via]</td>\n",
       "    </tr>\n",
       "    <tr>\n",
       "      <th>5496</th>\n",
       "      <td>rt @mention at #sxsw  want to drink free? get the ask around iphone app to find out where we are  join us for drinks in #austin.</td>\n",
       "      <td>[rt, mention, at, sxsw, want, to, drink, free, get, the, ask, around, iphone, app, to, find, out, where, we, are, join, us, for, drinks, in, austin]</td>\n",
       "      <td>[want, drink, free, get, ask, around, iphone, app, find, join, us, drinks, austin]</td>\n",
       "    </tr>\n",
       "    <tr>\n",
       "      <th>874</th>\n",
       "      <td>it amazes me how many people don't tuck the flap in on their apple ipad case #sxsw</td>\n",
       "      <td>[it, amazes, me, how, many, people, don't, tuck, the, flap, in, on, their, apple, ipad, case, sxsw]</td>\n",
       "      <td>[amazes, many, people, tuck, flap, apple, ipad, case]</td>\n",
       "    </tr>\n",
       "    <tr>\n",
       "      <th>7415</th>\n",
       "      <td>pop-up apple store for #sxsw. (@mention apple store, sxsw w/ 86 others) [pic]: {link}</td>\n",
       "      <td>[pop, up, apple, store, for, sxsw, mention, apple, store, sxsw, w, others, pic, link]</td>\n",
       "      <td>[pop, apple, store, apple, store, w, others, pic]</td>\n",
       "    </tr>\n",
       "  </tbody>\n",
       "</table>\n",
       "<p>6686 rows × 3 columns</p>\n",
       "</div>"
      ],
      "text/plain": [
       "                                                                                                                                           tweet_text  \\\n",
       "9055                                                                                                 @mention you give away that ipad yet.... ? #sxsw   \n",
       "4203                                                          {link} killer shot i got last night of @mention at the #nokiaconnects concert for #sxsw   \n",
       "1277             please if u were able to [...] attend #sxsw or buy an ipad today, consider saving a few $$ for japan earthquake relief (via @mention   \n",
       "6334                      rt @mention my informal unscientific observation is that #apple is by far the computer of choice at #sxsw. hands ... {link}   \n",
       "5515                      rt @mention at #sxsw? get the soundcloud iphone app {link} and start recording. use 4sq geotagging to be on the map: {link}   \n",
       "...                                                                                                                                               ...   \n",
       "5845                                                                                       rt @mention google maps for mobile 5.2 looks awesome.#sxsw   \n",
       "5291  rt @mention #sxsw go 1.1 for android is live in the android marketplace! new features, including sd card storage and more.  {link} via @mention   \n",
       "5496                 rt @mention at #sxsw  want to drink free? get the ask around iphone app to find out where we are  join us for drinks in #austin.   \n",
       "874                                                                it amazes me how many people don't tuck the flap in on their apple ipad case #sxsw   \n",
       "7415                                                            pop-up apple store for #sxsw. (@mention apple store, sxsw w/ 86 others) [pic]: {link}   \n",
       "\n",
       "                                                                                                                                                  text_tokenized  \\\n",
       "9055                                                                                                           [mention, you, give, away, that, ipad, yet, sxsw]   \n",
       "4203                                                          [link, killer, shot, i, got, last, night, of, mention, at, the, nokiaconnects, concert, for, sxsw]   \n",
       "1277             [please, if, u, were, able, to, attend, sxsw, or, buy, an, ipad, today, consider, saving, a, few, for, japan, earthquake, relief, via, mention]   \n",
       "6334                      [rt, mention, my, informal, unscientific, observation, is, that, apple, is, by, far, the, computer, of, choice, at, sxsw, hands, link]   \n",
       "5515                    [rt, mention, at, sxsw, get, the, soundcloud, iphone, app, link, and, start, recording, use, sq, geotagging, to, be, on, the, map, link]   \n",
       "...                                                                                                                                                          ...   \n",
       "5845                                                                                              [rt, mention, google, maps, for, mobile, looks, awesome, sxsw]   \n",
       "5291  [rt, mention, sxsw, go, for, android, is, live, in, the, android, marketplace, new, features, including, sd, card, storage, and, more, link, via, mention]   \n",
       "5496        [rt, mention, at, sxsw, want, to, drink, free, get, the, ask, around, iphone, app, to, find, out, where, we, are, join, us, for, drinks, in, austin]   \n",
       "874                                                          [it, amazes, me, how, many, people, don't, tuck, the, flap, in, on, their, apple, ipad, case, sxsw]   \n",
       "7415                                                                       [pop, up, apple, store, for, sxsw, mention, apple, store, sxsw, w, others, pic, link]   \n",
       "\n",
       "                                                                             text_without_stopwords  \n",
       "9055                                                                        [give, away, ipad, yet]  \n",
       "4203                                       [killer, shot, got, last, night, nokiaconnects, concert]  \n",
       "1277  [please, u, able, attend, buy, ipad, today, consider, saving, japan, earthquake, relief, via]  \n",
       "6334                     [informal, unscientific, observation, apple, far, computer, choice, hands]  \n",
       "5515                     [get, soundcloud, iphone, app, start, recording, use, sq, geotagging, map]  \n",
       "...                                                                                             ...  \n",
       "5845                                                         [google, maps, mobile, looks, awesome]  \n",
       "5291    [go, android, live, android, marketplace, new, features, including, sd, card, storage, via]  \n",
       "5496             [want, drink, free, get, ask, around, iphone, app, find, join, us, drinks, austin]  \n",
       "874                                           [amazes, many, people, tuck, flap, apple, ipad, case]  \n",
       "7415                                              [pop, apple, store, apple, store, w, others, pic]  \n",
       "\n",
       "[6686 rows x 3 columns]"
      ]
     },
     "execution_count": 70,
     "metadata": {},
     "output_type": "execute_result"
    }
   ],
   "source": [
    "# Apply the function to the data frame\n",
    "X_train[\"text_without_stopwords\"] = X_train[\"text_tokenized\"].apply(remove_stopwords)\n",
    "X_train"
   ]
  },
  {
   "cell_type": "markdown",
   "metadata": {},
   "source": [
    "We can notice that the text after removing stopwords apears in the (text_without_stopwords) column."
   ]
  },
  {
   "cell_type": "markdown",
   "metadata": {},
   "source": [
    "Creating a Bag of Words after removing stopwords from the text.\n",
    "Count how many times each unique word is used in a given corpus."
   ]
  },
  {
   "cell_type": "code",
   "execution_count": 71,
   "metadata": {},
   "outputs": [
    {
     "data": {
      "text/plain": [
       "FreqDist({'ipad': 2190, 'google': 1837, 'apple': 1639, 'iphone': 1169, 'store': 1107, 'new': 800, 'austin': 697, 'app': 619, 'circles': 494, 'social': 489, ...})"
      ]
     },
     "execution_count": 71,
     "metadata": {},
     "output_type": "execute_result"
    }
   ],
   "source": [
    "# Create FreqDist for the data frame after removing stopwords\n",
    "X_train_nostopwords_freqdist =FreqDist(X_train[\"text_without_stopwords\"].explode())\n",
    "X_train_nostopwords_freqdist"
   ]
  },
  {
   "cell_type": "code",
   "execution_count": 72,
   "metadata": {
    "scrolled": true
   },
   "outputs": [
    {
     "data": {
      "image/png": "[encoded data removed]",
      "text/plain": [
       "<Figure size 432x288 with 1 Axes>"
      ]
     },
     "metadata": {
      "needs_background": "light"
     },
     "output_type": "display_data"
    }
   ],
   "source": [
    "# plot FreqDist for the data frame after removing stopwords\n",
    "visualize_top_25(X_train_nostopwords_freqdist, \"Top 25 Word Frequency for Xtrain after stop words removed\")"
   ]
  },
  {
   "cell_type": "markdown",
   "metadata": {},
   "source": [
    "From the figure above we can notice that the stopwods are removed."
   ]
  },
  {
   "cell_type": "markdown",
   "metadata": {},
   "source": [
    "We have to convert the words into vectors after removing the stopwords to create the second model."
   ]
  },
  {
   "cell_type": "code",
   "execution_count": 73,
   "metadata": {},
   "outputs": [],
   "source": [
    "# Instantiate the vectorizer\n",
    "tfidf = TfidfVectorizer(\n",
    "    max_features=10,\n",
    "    stop_words=s_w,\n",
    "    \n",
    ")\n",
    "\n",
    "# Fit the vectorizer on X_train[\"text\"] and transform it\n",
    "X_train_vectorized = tfidf.fit_transform(X_train[\"tweet_text\"].values.astype('U'))"
   ]
  },
  {
   "cell_type": "code",
   "execution_count": 74,
   "metadata": {
    "scrolled": true
   },
   "outputs": [
    {
     "data": {
      "text/html": [
       "<div>\n",
       "<style scoped>\n",
       "    .dataframe tbody tr th:only-of-type {\n",
       "        vertical-align: middle;\n",
       "    }\n",
       "\n",
       "    .dataframe tbody tr th {\n",
       "        vertical-align: top;\n",
       "    }\n",
       "\n",
       "    .dataframe thead th {\n",
       "        text-align: right;\n",
       "    }\n",
       "</style>\n",
       "<table border=\"1\" class=\"dataframe\">\n",
       "  <thead>\n",
       "    <tr style=\"text-align: right;\">\n",
       "      <th></th>\n",
       "      <th>app</th>\n",
       "      <th>apple</th>\n",
       "      <th>austin</th>\n",
       "      <th>circles</th>\n",
       "      <th>google</th>\n",
       "      <th>ipad</th>\n",
       "      <th>iphone</th>\n",
       "      <th>new</th>\n",
       "      <th>social</th>\n",
       "      <th>store</th>\n",
       "    </tr>\n",
       "  </thead>\n",
       "  <tbody>\n",
       "    <tr>\n",
       "      <th>0</th>\n",
       "      <td>0.000000</td>\n",
       "      <td>0.000000</td>\n",
       "      <td>0.000000</td>\n",
       "      <td>0.0</td>\n",
       "      <td>0.0</td>\n",
       "      <td>1.000000</td>\n",
       "      <td>0.000000</td>\n",
       "      <td>0.0</td>\n",
       "      <td>0.0</td>\n",
       "      <td>0.000000</td>\n",
       "    </tr>\n",
       "    <tr>\n",
       "      <th>1</th>\n",
       "      <td>0.000000</td>\n",
       "      <td>0.000000</td>\n",
       "      <td>0.000000</td>\n",
       "      <td>0.0</td>\n",
       "      <td>0.0</td>\n",
       "      <td>0.000000</td>\n",
       "      <td>0.000000</td>\n",
       "      <td>0.0</td>\n",
       "      <td>0.0</td>\n",
       "      <td>0.000000</td>\n",
       "    </tr>\n",
       "    <tr>\n",
       "      <th>2</th>\n",
       "      <td>0.000000</td>\n",
       "      <td>0.000000</td>\n",
       "      <td>0.000000</td>\n",
       "      <td>0.0</td>\n",
       "      <td>0.0</td>\n",
       "      <td>1.000000</td>\n",
       "      <td>0.000000</td>\n",
       "      <td>0.0</td>\n",
       "      <td>0.0</td>\n",
       "      <td>0.000000</td>\n",
       "    </tr>\n",
       "    <tr>\n",
       "      <th>3</th>\n",
       "      <td>0.000000</td>\n",
       "      <td>1.000000</td>\n",
       "      <td>0.000000</td>\n",
       "      <td>0.0</td>\n",
       "      <td>0.0</td>\n",
       "      <td>0.000000</td>\n",
       "      <td>0.000000</td>\n",
       "      <td>0.0</td>\n",
       "      <td>0.0</td>\n",
       "      <td>0.000000</td>\n",
       "    </tr>\n",
       "    <tr>\n",
       "      <th>4</th>\n",
       "      <td>0.780395</td>\n",
       "      <td>0.000000</td>\n",
       "      <td>0.000000</td>\n",
       "      <td>0.0</td>\n",
       "      <td>0.0</td>\n",
       "      <td>0.000000</td>\n",
       "      <td>0.625287</td>\n",
       "      <td>0.0</td>\n",
       "      <td>0.0</td>\n",
       "      <td>0.000000</td>\n",
       "    </tr>\n",
       "    <tr>\n",
       "      <th>...</th>\n",
       "      <td>...</td>\n",
       "      <td>...</td>\n",
       "      <td>...</td>\n",
       "      <td>...</td>\n",
       "      <td>...</td>\n",
       "      <td>...</td>\n",
       "      <td>...</td>\n",
       "      <td>...</td>\n",
       "      <td>...</td>\n",
       "      <td>...</td>\n",
       "    </tr>\n",
       "    <tr>\n",
       "      <th>6681</th>\n",
       "      <td>0.000000</td>\n",
       "      <td>0.000000</td>\n",
       "      <td>0.000000</td>\n",
       "      <td>0.0</td>\n",
       "      <td>1.0</td>\n",
       "      <td>0.000000</td>\n",
       "      <td>0.000000</td>\n",
       "      <td>0.0</td>\n",
       "      <td>0.0</td>\n",
       "      <td>0.000000</td>\n",
       "    </tr>\n",
       "    <tr>\n",
       "      <th>6682</th>\n",
       "      <td>0.000000</td>\n",
       "      <td>0.000000</td>\n",
       "      <td>0.000000</td>\n",
       "      <td>0.0</td>\n",
       "      <td>0.0</td>\n",
       "      <td>0.000000</td>\n",
       "      <td>0.000000</td>\n",
       "      <td>1.0</td>\n",
       "      <td>0.0</td>\n",
       "      <td>0.000000</td>\n",
       "    </tr>\n",
       "    <tr>\n",
       "      <th>6683</th>\n",
       "      <td>0.625672</td>\n",
       "      <td>0.000000</td>\n",
       "      <td>0.597677</td>\n",
       "      <td>0.0</td>\n",
       "      <td>0.0</td>\n",
       "      <td>0.000000</td>\n",
       "      <td>0.501316</td>\n",
       "      <td>0.0</td>\n",
       "      <td>0.0</td>\n",
       "      <td>0.000000</td>\n",
       "    </tr>\n",
       "    <tr>\n",
       "      <th>6684</th>\n",
       "      <td>0.000000</td>\n",
       "      <td>0.724701</td>\n",
       "      <td>0.000000</td>\n",
       "      <td>0.0</td>\n",
       "      <td>0.0</td>\n",
       "      <td>0.689063</td>\n",
       "      <td>0.000000</td>\n",
       "      <td>0.0</td>\n",
       "      <td>0.0</td>\n",
       "      <td>0.000000</td>\n",
       "    </tr>\n",
       "    <tr>\n",
       "      <th>6685</th>\n",
       "      <td>0.000000</td>\n",
       "      <td>0.656060</td>\n",
       "      <td>0.000000</td>\n",
       "      <td>0.0</td>\n",
       "      <td>0.0</td>\n",
       "      <td>0.000000</td>\n",
       "      <td>0.000000</td>\n",
       "      <td>0.0</td>\n",
       "      <td>0.0</td>\n",
       "      <td>0.754709</td>\n",
       "    </tr>\n",
       "  </tbody>\n",
       "</table>\n",
       "<p>6686 rows × 10 columns</p>\n",
       "</div>"
      ],
      "text/plain": [
       "           app     apple    austin  circles  google      ipad    iphone  new  \\\n",
       "0     0.000000  0.000000  0.000000      0.0     0.0  1.000000  0.000000  0.0   \n",
       "1     0.000000  0.000000  0.000000      0.0     0.0  0.000000  0.000000  0.0   \n",
       "2     0.000000  0.000000  0.000000      0.0     0.0  1.000000  0.000000  0.0   \n",
       "3     0.000000  1.000000  0.000000      0.0     0.0  0.000000  0.000000  0.0   \n",
       "4     0.780395  0.000000  0.000000      0.0     0.0  0.000000  0.625287  0.0   \n",
       "...        ...       ...       ...      ...     ...       ...       ...  ...   \n",
       "6681  0.000000  0.000000  0.000000      0.0     1.0  0.000000  0.000000  0.0   \n",
       "6682  0.000000  0.000000  0.000000      0.0     0.0  0.000000  0.000000  1.0   \n",
       "6683  0.625672  0.000000  0.597677      0.0     0.0  0.000000  0.501316  0.0   \n",
       "6684  0.000000  0.724701  0.000000      0.0     0.0  0.689063  0.000000  0.0   \n",
       "6685  0.000000  0.656060  0.000000      0.0     0.0  0.000000  0.000000  0.0   \n",
       "\n",
       "      social     store  \n",
       "0        0.0  0.000000  \n",
       "1        0.0  0.000000  \n",
       "2        0.0  0.000000  \n",
       "3        0.0  0.000000  \n",
       "4        0.0  0.000000  \n",
       "...      ...       ...  \n",
       "6681     0.0  0.000000  \n",
       "6682     0.0  0.000000  \n",
       "6683     0.0  0.000000  \n",
       "6684     0.0  0.000000  \n",
       "6685     0.0  0.754709  \n",
       "\n",
       "[6686 rows x 10 columns]"
      ]
     },
     "execution_count": 74,
     "metadata": {},
     "output_type": "execute_result"
    }
   ],
   "source": [
    "# Visually inspect the vectorized data\n",
    "pd.DataFrame.sparse.from_spmatrix(X_train_vectorized, columns=tfidf.get_feature_names())"
   ]
  },
  {
   "cell_type": "code",
   "execution_count": 75,
   "metadata": {},
   "outputs": [],
   "source": [
    "# create Pipeline for second model\n",
    "stopwords_removed_model = Pipeline([\n",
    "        \n",
    "        ('tfidf', tfidf),\n",
    "        ('clf', MultinomialNB()),\n",
    "    ])"
   ]
  },
  {
   "cell_type": "code",
   "execution_count": 76,
   "metadata": {
    "scrolled": true
   },
   "outputs": [
    {
     "data": {
      "text/plain": [
       "Pipeline(steps=[('tfidf',\n",
       "                 TfidfVectorizer(max_features=10,\n",
       "                                 stop_words=['i', 'me', 'my', 'myself', 'we',\n",
       "                                             'our', 'ours', 'ourselves', 'you',\n",
       "                                             \"you're\", \"you've\", \"you'll\",\n",
       "                                             \"you'd\", 'your', 'yours',\n",
       "                                             'yourself', 'yourselves', 'he',\n",
       "                                             'him', 'his', 'himself', 'she',\n",
       "                                             \"she's\", 'her', 'hers', 'herself',\n",
       "                                             'it', \"it's\", 'its', 'itself', ...])),\n",
       "                ('clf', MultinomialNB())])"
      ]
     },
     "execution_count": 76,
     "metadata": {},
     "output_type": "execute_result"
    }
   ],
   "source": [
    "# fit the second model on X_train and y_train\n",
    "stopwords_removed_model.fit(X_train[\"tweet_text\"].values.astype('U'),np.ravel(y_train ))"
   ]
  },
  {
   "cell_type": "markdown",
   "metadata": {},
   "source": [
    "Evaluate the second model by using cross validation class(https://scikit-learn.org/stable/modules/cross_validation.html)"
   ]
  },
  {
   "cell_type": "code",
   "execution_count": 77,
   "metadata": {
    "scrolled": true
   },
   "outputs": [
    {
     "data": {
      "text/plain": [
       "array([0.60911809, 0.61032162, 0.60209424, 0.6118175 , 0.6065819 ])"
      ]
     },
     "execution_count": 77,
     "metadata": {},
     "output_type": "execute_result"
    }
   ],
   "source": [
    "# Evaluate the classifier on X_train_vectorized and y_train\n",
    "stopwords_removed_cv = cross_val_score(stopwords_removed_model, X_train[\"tweet_text\"].values.astype('U'),np.ravel(y_train))\n",
    "stopwords_removed_cv"
   ]
  },
  {
   "cell_type": "code",
   "execution_count": 78,
   "metadata": {
    "scrolled": true
   },
   "outputs": [
    {
     "name": "stdout",
     "output_type": "stream",
     "text": [
      "Baseline:          0.605743398479294\n",
      "Stopwords removed: 0.6079866689473901\n"
     ]
    }
   ],
   "source": [
    "print(\"Baseline:         \", baseline_cv.mean())\n",
    "print(\"Stopwords removed:\", stopwords_removed_cv.mean())"
   ]
  },
  {
   "cell_type": "markdown",
   "metadata": {},
   "source": [
    "There is a little improvment after removing the stopwords.\n",
    "The performance increased from 60.57% to 60.79%."
   ]
  },
  {
   "cell_type": "markdown",
   "metadata": {},
   "source": [
    "## Model3"
   ]
  },
  {
   "cell_type": "markdown",
   "metadata": {},
   "source": [
    "We will create a new model after stemming the text.\n",
    "\n",
    "Stemming is known as the text standardization step where the words are stemmed or diminished to their root/base form.  For example, words like ‘programmer’, ‘programming, ‘program’ will be stemmed to ‘program’."
   ]
  },
  {
   "cell_type": "markdown",
   "metadata": {},
   "source": [
    "SnowballStemmer :It is an advance stemming algorithm "
   ]
  },
  {
   "cell_type": "code",
   "execution_count": 79,
   "metadata": {},
   "outputs": [],
   "source": [
    "#importing the Stemming function from nltk library\n",
    "from nltk.stem.snowball import SnowballStemmer\n",
    "\n",
    "#the stemmer requires a language parameter\n",
    "stemmer = SnowballStemmer(language=\"english\")\n"
   ]
  },
  {
   "cell_type": "markdown",
   "metadata": {},
   "source": [
    "Create a function to stem the text ."
   ]
  },
  {
   "cell_type": "code",
   "execution_count": 80,
   "metadata": {},
   "outputs": [],
   "source": [
    "def stemer_tokenizer(document):\n",
    "    \"\"\"\n",
    "    Given a text and return a tokenized and stemmed words \"\"\"\n",
    "     \n",
    "    tokens = tokenizer.tokenize(str(document))\n",
    "    return[stemmer.stem(token) for token in tokens]\n",
    "    "
   ]
  },
  {
   "cell_type": "code",
   "execution_count": 81,
   "metadata": {
    "scrolled": true
   },
   "outputs": [
    {
     "data": {
      "text/plain": [
       "['thank',\n",
       " 'for',\n",
       " 'all',\n",
       " 'the',\n",
       " 'info',\n",
       " 'on',\n",
       " 'the',\n",
       " 'appl',\n",
       " 'store',\n",
       " 'close',\n",
       " 'time',\n",
       " 'head',\n",
       " 'there',\n",
       " 'after',\n",
       " 'finish',\n",
       " 'this',\n",
       " 'iron',\n",
       " 'work',\n",
       " 'bbq',\n",
       " 'sxsw',\n",
       " 'sxtxstate']"
      ]
     },
     "execution_count": 81,
     "metadata": {},
     "output_type": "execute_result"
    }
   ],
   "source": [
    "# example of adding the function to a row\n",
    "stemer_tokenizer(X_train.iloc[100][\"tweet_text\"])"
   ]
  },
  {
   "cell_type": "markdown",
   "metadata": {},
   "source": [
    "Stem the each word in stopwords list."
   ]
  },
  {
   "cell_type": "code",
   "execution_count": 82,
   "metadata": {},
   "outputs": [],
   "source": [
    "# apply the stemmer for each word in stopword list\n",
    "stemmed_stopwords = [stemmer.stem(word) for word in s_w]"
   ]
  },
  {
   "cell_type": "code",
   "execution_count": 83,
   "metadata": {},
   "outputs": [
    {
     "data": {
      "text/html": [
       "<div>\n",
       "<style scoped>\n",
       "    .dataframe tbody tr th:only-of-type {\n",
       "        vertical-align: middle;\n",
       "    }\n",
       "\n",
       "    .dataframe tbody tr th {\n",
       "        vertical-align: top;\n",
       "    }\n",
       "\n",
       "    .dataframe thead th {\n",
       "        text-align: right;\n",
       "    }\n",
       "</style>\n",
       "<table border=\"1\" class=\"dataframe\">\n",
       "  <thead>\n",
       "    <tr style=\"text-align: right;\">\n",
       "      <th></th>\n",
       "      <th>tweet_text</th>\n",
       "      <th>text_tokenized</th>\n",
       "      <th>text_without_stopwords</th>\n",
       "      <th>text_steemed</th>\n",
       "    </tr>\n",
       "  </thead>\n",
       "  <tbody>\n",
       "    <tr>\n",
       "      <th>9055</th>\n",
       "      <td>@mention you give away that ipad yet.... ? #sxsw</td>\n",
       "      <td>[mention, you, give, away, that, ipad, yet, sxsw]</td>\n",
       "      <td>[give, away, ipad, yet]</td>\n",
       "      <td>[give, away, ipad, yet]</td>\n",
       "    </tr>\n",
       "    <tr>\n",
       "      <th>4203</th>\n",
       "      <td>{link} killer shot i got last night of @mention at the #nokiaconnects concert for #sxsw</td>\n",
       "      <td>[link, killer, shot, i, got, last, night, of, mention, at, the, nokiaconnects, concert, for, sxsw]</td>\n",
       "      <td>[killer, shot, got, last, night, nokiaconnects, concert]</td>\n",
       "      <td>[killer, shot, got, last, night, nokiaconnect, concert]</td>\n",
       "    </tr>\n",
       "    <tr>\n",
       "      <th>1277</th>\n",
       "      <td>please if u were able to [...] attend #sxsw or buy an ipad today, consider saving a few $$ for japan earthquake relief (via @mention</td>\n",
       "      <td>[please, if, u, were, able, to, attend, sxsw, or, buy, an, ipad, today, consider, saving, a, few, for, japan, earthquake, relief, via, mention]</td>\n",
       "      <td>[please, u, able, attend, buy, ipad, today, consider, saving, japan, earthquake, relief, via]</td>\n",
       "      <td>[pleas, u, abl, attend, buy, ipad, today, consid, save, japan, earthquak, relief, via]</td>\n",
       "    </tr>\n",
       "    <tr>\n",
       "      <th>6334</th>\n",
       "      <td>rt @mention my informal unscientific observation is that #apple is by far the computer of choice at #sxsw. hands ... {link}</td>\n",
       "      <td>[rt, mention, my, informal, unscientific, observation, is, that, apple, is, by, far, the, computer, of, choice, at, sxsw, hands, link]</td>\n",
       "      <td>[informal, unscientific, observation, apple, far, computer, choice, hands]</td>\n",
       "      <td>[inform, unscientif, observ, appl, far, comput, choic, hand]</td>\n",
       "    </tr>\n",
       "    <tr>\n",
       "      <th>5515</th>\n",
       "      <td>rt @mention at #sxsw? get the soundcloud iphone app {link} and start recording. use 4sq geotagging to be on the map: {link}</td>\n",
       "      <td>[rt, mention, at, sxsw, get, the, soundcloud, iphone, app, link, and, start, recording, use, sq, geotagging, to, be, on, the, map, link]</td>\n",
       "      <td>[get, soundcloud, iphone, app, start, recording, use, sq, geotagging, map]</td>\n",
       "      <td>[get, soundcloud, iphon, app, start, record, use, sq, geotag, map]</td>\n",
       "    </tr>\n",
       "    <tr>\n",
       "      <th>...</th>\n",
       "      <td>...</td>\n",
       "      <td>...</td>\n",
       "      <td>...</td>\n",
       "      <td>...</td>\n",
       "    </tr>\n",
       "    <tr>\n",
       "      <th>5845</th>\n",
       "      <td>rt @mention google maps for mobile 5.2 looks awesome.#sxsw</td>\n",
       "      <td>[rt, mention, google, maps, for, mobile, looks, awesome, sxsw]</td>\n",
       "      <td>[google, maps, mobile, looks, awesome]</td>\n",
       "      <td>[googl, map, mobil, look, awesom]</td>\n",
       "    </tr>\n",
       "    <tr>\n",
       "      <th>5291</th>\n",
       "      <td>rt @mention #sxsw go 1.1 for android is live in the android marketplace! new features, including sd card storage and more.  {link} via @mention</td>\n",
       "      <td>[rt, mention, sxsw, go, for, android, is, live, in, the, android, marketplace, new, features, including, sd, card, storage, and, more, link, via, mention]</td>\n",
       "      <td>[go, android, live, android, marketplace, new, features, including, sd, card, storage, via]</td>\n",
       "      <td>[go, android, live, android, marketplac, new, featur, includ, sd, card, storag, via]</td>\n",
       "    </tr>\n",
       "    <tr>\n",
       "      <th>5496</th>\n",
       "      <td>rt @mention at #sxsw  want to drink free? get the ask around iphone app to find out where we are  join us for drinks in #austin.</td>\n",
       "      <td>[rt, mention, at, sxsw, want, to, drink, free, get, the, ask, around, iphone, app, to, find, out, where, we, are, join, us, for, drinks, in, austin]</td>\n",
       "      <td>[want, drink, free, get, ask, around, iphone, app, find, join, us, drinks, austin]</td>\n",
       "      <td>[want, drink, free, get, ask, around, iphon, app, find, join, us, drink, austin]</td>\n",
       "    </tr>\n",
       "    <tr>\n",
       "      <th>874</th>\n",
       "      <td>it amazes me how many people don't tuck the flap in on their apple ipad case #sxsw</td>\n",
       "      <td>[it, amazes, me, how, many, people, don't, tuck, the, flap, in, on, their, apple, ipad, case, sxsw]</td>\n",
       "      <td>[amazes, many, people, tuck, flap, apple, ipad, case]</td>\n",
       "      <td>[amaz, mani, peopl, tuck, flap, appl, ipad, case]</td>\n",
       "    </tr>\n",
       "    <tr>\n",
       "      <th>7415</th>\n",
       "      <td>pop-up apple store for #sxsw. (@mention apple store, sxsw w/ 86 others) [pic]: {link}</td>\n",
       "      <td>[pop, up, apple, store, for, sxsw, mention, apple, store, sxsw, w, others, pic, link]</td>\n",
       "      <td>[pop, apple, store, apple, store, w, others, pic]</td>\n",
       "      <td>[pop, appl, store, appl, store, w, other, pic]</td>\n",
       "    </tr>\n",
       "  </tbody>\n",
       "</table>\n",
       "<p>6686 rows × 4 columns</p>\n",
       "</div>"
      ],
      "text/plain": [
       "                                                                                                                                           tweet_text  \\\n",
       "9055                                                                                                 @mention you give away that ipad yet.... ? #sxsw   \n",
       "4203                                                          {link} killer shot i got last night of @mention at the #nokiaconnects concert for #sxsw   \n",
       "1277             please if u were able to [...] attend #sxsw or buy an ipad today, consider saving a few $$ for japan earthquake relief (via @mention   \n",
       "6334                      rt @mention my informal unscientific observation is that #apple is by far the computer of choice at #sxsw. hands ... {link}   \n",
       "5515                      rt @mention at #sxsw? get the soundcloud iphone app {link} and start recording. use 4sq geotagging to be on the map: {link}   \n",
       "...                                                                                                                                               ...   \n",
       "5845                                                                                       rt @mention google maps for mobile 5.2 looks awesome.#sxsw   \n",
       "5291  rt @mention #sxsw go 1.1 for android is live in the android marketplace! new features, including sd card storage and more.  {link} via @mention   \n",
       "5496                 rt @mention at #sxsw  want to drink free? get the ask around iphone app to find out where we are  join us for drinks in #austin.   \n",
       "874                                                                it amazes me how many people don't tuck the flap in on their apple ipad case #sxsw   \n",
       "7415                                                            pop-up apple store for #sxsw. (@mention apple store, sxsw w/ 86 others) [pic]: {link}   \n",
       "\n",
       "                                                                                                                                                  text_tokenized  \\\n",
       "9055                                                                                                           [mention, you, give, away, that, ipad, yet, sxsw]   \n",
       "4203                                                          [link, killer, shot, i, got, last, night, of, mention, at, the, nokiaconnects, concert, for, sxsw]   \n",
       "1277             [please, if, u, were, able, to, attend, sxsw, or, buy, an, ipad, today, consider, saving, a, few, for, japan, earthquake, relief, via, mention]   \n",
       "6334                      [rt, mention, my, informal, unscientific, observation, is, that, apple, is, by, far, the, computer, of, choice, at, sxsw, hands, link]   \n",
       "5515                    [rt, mention, at, sxsw, get, the, soundcloud, iphone, app, link, and, start, recording, use, sq, geotagging, to, be, on, the, map, link]   \n",
       "...                                                                                                                                                          ...   \n",
       "5845                                                                                              [rt, mention, google, maps, for, mobile, looks, awesome, sxsw]   \n",
       "5291  [rt, mention, sxsw, go, for, android, is, live, in, the, android, marketplace, new, features, including, sd, card, storage, and, more, link, via, mention]   \n",
       "5496        [rt, mention, at, sxsw, want, to, drink, free, get, the, ask, around, iphone, app, to, find, out, where, we, are, join, us, for, drinks, in, austin]   \n",
       "874                                                          [it, amazes, me, how, many, people, don't, tuck, the, flap, in, on, their, apple, ipad, case, sxsw]   \n",
       "7415                                                                       [pop, up, apple, store, for, sxsw, mention, apple, store, sxsw, w, others, pic, link]   \n",
       "\n",
       "                                                                             text_without_stopwords  \\\n",
       "9055                                                                        [give, away, ipad, yet]   \n",
       "4203                                       [killer, shot, got, last, night, nokiaconnects, concert]   \n",
       "1277  [please, u, able, attend, buy, ipad, today, consider, saving, japan, earthquake, relief, via]   \n",
       "6334                     [informal, unscientific, observation, apple, far, computer, choice, hands]   \n",
       "5515                     [get, soundcloud, iphone, app, start, recording, use, sq, geotagging, map]   \n",
       "...                                                                                             ...   \n",
       "5845                                                         [google, maps, mobile, looks, awesome]   \n",
       "5291    [go, android, live, android, marketplace, new, features, including, sd, card, storage, via]   \n",
       "5496             [want, drink, free, get, ask, around, iphone, app, find, join, us, drinks, austin]   \n",
       "874                                           [amazes, many, people, tuck, flap, apple, ipad, case]   \n",
       "7415                                              [pop, apple, store, apple, store, w, others, pic]   \n",
       "\n",
       "                                                                                text_steemed  \n",
       "9055                                                                 [give, away, ipad, yet]  \n",
       "4203                                 [killer, shot, got, last, night, nokiaconnect, concert]  \n",
       "1277  [pleas, u, abl, attend, buy, ipad, today, consid, save, japan, earthquak, relief, via]  \n",
       "6334                            [inform, unscientif, observ, appl, far, comput, choic, hand]  \n",
       "5515                      [get, soundcloud, iphon, app, start, record, use, sq, geotag, map]  \n",
       "...                                                                                      ...  \n",
       "5845                                                       [googl, map, mobil, look, awesom]  \n",
       "5291    [go, android, live, android, marketplac, new, featur, includ, sd, card, storag, via]  \n",
       "5496        [want, drink, free, get, ask, around, iphon, app, find, join, us, drink, austin]  \n",
       "874                                        [amaz, mani, peopl, tuck, flap, appl, ipad, case]  \n",
       "7415                                          [pop, appl, store, appl, store, w, other, pic]  \n",
       "\n",
       "[6686 rows x 4 columns]"
      ]
     },
     "execution_count": 83,
     "metadata": {},
     "output_type": "execute_result"
    }
   ],
   "source": [
    "# apply the stemmer_tokenizer to the text on data frame\n",
    "X_train[\"text_steemed\"] = X_train[\"text_without_stopwords\"].apply(stemer_tokenizer)\n",
    "X_train"
   ]
  },
  {
   "cell_type": "markdown",
   "metadata": {},
   "source": [
    "We have to convert the words into vectors after removing the stopwords and stemming words  to create the third model."
   ]
  },
  {
   "cell_type": "code",
   "execution_count": 84,
   "metadata": {},
   "outputs": [],
   "source": [
    "# Instantiate the vectorizer\n",
    "tfidf = TfidfVectorizer(\n",
    "    max_features=10,\n",
    "    stop_words=stemmed_stopwords,\n",
    "    tokenizer=stemer_tokenizer\n",
    ")\n",
    "\n",
    "# Fit the vectorizer on X_train[\"text\"] and transform it\n",
    "X_train_vectorized = tfidf.fit_transform(X_train[\"tweet_text\"].values.astype('U'))"
   ]
  },
  {
   "cell_type": "code",
   "execution_count": 85,
   "metadata": {
    "scrolled": true
   },
   "outputs": [
    {
     "data": {
      "text/html": [
       "<div>\n",
       "<style scoped>\n",
       "    .dataframe tbody tr th:only-of-type {\n",
       "        vertical-align: middle;\n",
       "    }\n",
       "\n",
       "    .dataframe tbody tr th {\n",
       "        vertical-align: top;\n",
       "    }\n",
       "\n",
       "    .dataframe thead th {\n",
       "        text-align: right;\n",
       "    }\n",
       "</style>\n",
       "<table border=\"1\" class=\"dataframe\">\n",
       "  <thead>\n",
       "    <tr style=\"text-align: right;\">\n",
       "      <th></th>\n",
       "      <th>app</th>\n",
       "      <th>appl</th>\n",
       "      <th>austin</th>\n",
       "      <th>circl</th>\n",
       "      <th>googl</th>\n",
       "      <th>ipad</th>\n",
       "      <th>iphon</th>\n",
       "      <th>launch</th>\n",
       "      <th>new</th>\n",
       "      <th>store</th>\n",
       "    </tr>\n",
       "  </thead>\n",
       "  <tbody>\n",
       "    <tr>\n",
       "      <th>0</th>\n",
       "      <td>0.000000</td>\n",
       "      <td>0.000000</td>\n",
       "      <td>0.000000</td>\n",
       "      <td>0.0</td>\n",
       "      <td>0.0</td>\n",
       "      <td>1.000000</td>\n",
       "      <td>0.000000</td>\n",
       "      <td>0.0</td>\n",
       "      <td>0.0</td>\n",
       "      <td>0.000000</td>\n",
       "    </tr>\n",
       "    <tr>\n",
       "      <th>1</th>\n",
       "      <td>0.000000</td>\n",
       "      <td>0.000000</td>\n",
       "      <td>0.000000</td>\n",
       "      <td>0.0</td>\n",
       "      <td>0.0</td>\n",
       "      <td>0.000000</td>\n",
       "      <td>0.000000</td>\n",
       "      <td>0.0</td>\n",
       "      <td>0.0</td>\n",
       "      <td>0.000000</td>\n",
       "    </tr>\n",
       "    <tr>\n",
       "      <th>2</th>\n",
       "      <td>0.000000</td>\n",
       "      <td>0.000000</td>\n",
       "      <td>0.000000</td>\n",
       "      <td>0.0</td>\n",
       "      <td>0.0</td>\n",
       "      <td>1.000000</td>\n",
       "      <td>0.000000</td>\n",
       "      <td>0.0</td>\n",
       "      <td>0.0</td>\n",
       "      <td>0.000000</td>\n",
       "    </tr>\n",
       "    <tr>\n",
       "      <th>3</th>\n",
       "      <td>0.000000</td>\n",
       "      <td>1.000000</td>\n",
       "      <td>0.000000</td>\n",
       "      <td>0.0</td>\n",
       "      <td>0.0</td>\n",
       "      <td>0.000000</td>\n",
       "      <td>0.000000</td>\n",
       "      <td>0.0</td>\n",
       "      <td>0.0</td>\n",
       "      <td>0.000000</td>\n",
       "    </tr>\n",
       "    <tr>\n",
       "      <th>4</th>\n",
       "      <td>0.759297</td>\n",
       "      <td>0.000000</td>\n",
       "      <td>0.000000</td>\n",
       "      <td>0.0</td>\n",
       "      <td>0.0</td>\n",
       "      <td>0.000000</td>\n",
       "      <td>0.650744</td>\n",
       "      <td>0.0</td>\n",
       "      <td>0.0</td>\n",
       "      <td>0.000000</td>\n",
       "    </tr>\n",
       "    <tr>\n",
       "      <th>...</th>\n",
       "      <td>...</td>\n",
       "      <td>...</td>\n",
       "      <td>...</td>\n",
       "      <td>...</td>\n",
       "      <td>...</td>\n",
       "      <td>...</td>\n",
       "      <td>...</td>\n",
       "      <td>...</td>\n",
       "      <td>...</td>\n",
       "      <td>...</td>\n",
       "    </tr>\n",
       "    <tr>\n",
       "      <th>6681</th>\n",
       "      <td>0.000000</td>\n",
       "      <td>0.000000</td>\n",
       "      <td>0.000000</td>\n",
       "      <td>0.0</td>\n",
       "      <td>1.0</td>\n",
       "      <td>0.000000</td>\n",
       "      <td>0.000000</td>\n",
       "      <td>0.0</td>\n",
       "      <td>0.0</td>\n",
       "      <td>0.000000</td>\n",
       "    </tr>\n",
       "    <tr>\n",
       "      <th>6682</th>\n",
       "      <td>0.000000</td>\n",
       "      <td>0.000000</td>\n",
       "      <td>0.000000</td>\n",
       "      <td>0.0</td>\n",
       "      <td>0.0</td>\n",
       "      <td>0.000000</td>\n",
       "      <td>0.000000</td>\n",
       "      <td>0.0</td>\n",
       "      <td>1.0</td>\n",
       "      <td>0.000000</td>\n",
       "    </tr>\n",
       "    <tr>\n",
       "      <th>6683</th>\n",
       "      <td>0.599666</td>\n",
       "      <td>0.000000</td>\n",
       "      <td>0.613409</td>\n",
       "      <td>0.0</td>\n",
       "      <td>0.0</td>\n",
       "      <td>0.000000</td>\n",
       "      <td>0.513935</td>\n",
       "      <td>0.0</td>\n",
       "      <td>0.0</td>\n",
       "      <td>0.000000</td>\n",
       "    </tr>\n",
       "    <tr>\n",
       "      <th>6684</th>\n",
       "      <td>0.000000</td>\n",
       "      <td>0.751021</td>\n",
       "      <td>0.000000</td>\n",
       "      <td>0.0</td>\n",
       "      <td>0.0</td>\n",
       "      <td>0.660278</td>\n",
       "      <td>0.000000</td>\n",
       "      <td>0.0</td>\n",
       "      <td>0.0</td>\n",
       "      <td>0.000000</td>\n",
       "    </tr>\n",
       "    <tr>\n",
       "      <th>6685</th>\n",
       "      <td>0.000000</td>\n",
       "      <td>0.658473</td>\n",
       "      <td>0.000000</td>\n",
       "      <td>0.0</td>\n",
       "      <td>0.0</td>\n",
       "      <td>0.000000</td>\n",
       "      <td>0.000000</td>\n",
       "      <td>0.0</td>\n",
       "      <td>0.0</td>\n",
       "      <td>0.752604</td>\n",
       "    </tr>\n",
       "  </tbody>\n",
       "</table>\n",
       "<p>6686 rows × 10 columns</p>\n",
       "</div>"
      ],
      "text/plain": [
       "           app      appl    austin  circl  googl      ipad     iphon  launch  \\\n",
       "0     0.000000  0.000000  0.000000    0.0    0.0  1.000000  0.000000     0.0   \n",
       "1     0.000000  0.000000  0.000000    0.0    0.0  0.000000  0.000000     0.0   \n",
       "2     0.000000  0.000000  0.000000    0.0    0.0  1.000000  0.000000     0.0   \n",
       "3     0.000000  1.000000  0.000000    0.0    0.0  0.000000  0.000000     0.0   \n",
       "4     0.759297  0.000000  0.000000    0.0    0.0  0.000000  0.650744     0.0   \n",
       "...        ...       ...       ...    ...    ...       ...       ...     ...   \n",
       "6681  0.000000  0.000000  0.000000    0.0    1.0  0.000000  0.000000     0.0   \n",
       "6682  0.000000  0.000000  0.000000    0.0    0.0  0.000000  0.000000     0.0   \n",
       "6683  0.599666  0.000000  0.613409    0.0    0.0  0.000000  0.513935     0.0   \n",
       "6684  0.000000  0.751021  0.000000    0.0    0.0  0.660278  0.000000     0.0   \n",
       "6685  0.000000  0.658473  0.000000    0.0    0.0  0.000000  0.000000     0.0   \n",
       "\n",
       "      new     store  \n",
       "0     0.0  0.000000  \n",
       "1     0.0  0.000000  \n",
       "2     0.0  0.000000  \n",
       "3     0.0  0.000000  \n",
       "4     0.0  0.000000  \n",
       "...   ...       ...  \n",
       "6681  0.0  0.000000  \n",
       "6682  1.0  0.000000  \n",
       "6683  0.0  0.000000  \n",
       "6684  0.0  0.000000  \n",
       "6685  0.0  0.752604  \n",
       "\n",
       "[6686 rows x 10 columns]"
      ]
     },
     "execution_count": 85,
     "metadata": {},
     "output_type": "execute_result"
    }
   ],
   "source": [
    "# Visually inspect the vectorized data\n",
    "pd.DataFrame.sparse.from_spmatrix(X_train_vectorized, columns=tfidf.get_feature_names())"
   ]
  },
  {
   "cell_type": "markdown",
   "metadata": {},
   "source": [
    "###### Build the stemmed model"
   ]
  },
  {
   "cell_type": "code",
   "execution_count": 86,
   "metadata": {},
   "outputs": [],
   "source": [
    "# create Pipeline for third model\n",
    "stemmed_model = Pipeline([\n",
    "        \n",
    "        ('tfidf', tfidf),\n",
    "        ('clf', MultinomialNB()),\n",
    "    ])"
   ]
  },
  {
   "cell_type": "code",
   "execution_count": 87,
   "metadata": {},
   "outputs": [
    {
     "data": {
      "text/plain": [
       "Pipeline(steps=[('tfidf',\n",
       "                 TfidfVectorizer(max_features=10,\n",
       "                                 stop_words=['i', 'me', 'my', 'myself', 'we',\n",
       "                                             'our', 'our', 'ourselv', 'you',\n",
       "                                             \"you'r\", \"you'v\", \"you'll\",\n",
       "                                             \"you'd\", 'your', 'your',\n",
       "                                             'yourself', 'yourselv', 'he',\n",
       "                                             'him', 'his', 'himself', 'she',\n",
       "                                             'she', 'her', 'her', 'herself',\n",
       "                                             'it', 'it', 'it', 'itself', ...],\n",
       "                                 tokenizer=<function stemer_tokenizer at 0x0000024CD9CEAD30>)),\n",
       "                ('clf', MultinomialNB())])"
      ]
     },
     "execution_count": 87,
     "metadata": {},
     "output_type": "execute_result"
    }
   ],
   "source": [
    "# fit the third model on X_train and y_train\n",
    "stemmed_model.fit(X_train[\"tweet_text\"].values.astype('U'),np.ravel(y_train ))"
   ]
  },
  {
   "cell_type": "markdown",
   "metadata": {},
   "source": [
    "Evaluate the third model by using cross validation class"
   ]
  },
  {
   "cell_type": "code",
   "execution_count": 88,
   "metadata": {
    "scrolled": true
   },
   "outputs": [
    {
     "data": {
      "text/plain": [
       "array([0.60538117, 0.6065819 , 0.6013463 , 0.60583396, 0.60583396])"
      ]
     },
     "execution_count": 88,
     "metadata": {},
     "output_type": "execute_result"
    }
   ],
   "source": [
    "# Evaluate the classifier on X_train and y_train\n",
    "stemmed_model_cv = cross_val_score(stemmed_model, X_train[\"tweet_text\"].values.astype('U'),np.ravel (y_train))\n",
    "stemmed_model_cv"
   ]
  },
  {
   "cell_type": "code",
   "execution_count": 89,
   "metadata": {
    "scrolled": true
   },
   "outputs": [
    {
     "name": "stdout",
     "output_type": "stream",
     "text": [
      "Stopwords removed: 0.6079866689473901\n",
      "Stopwords stemed: 0.604995455322974\n"
     ]
    }
   ],
   "source": [
    "print(\"Stopwords removed:\", stopwords_removed_cv.mean())\n",
    "print(\"Stopwords stemed:\", stemmed_model_cv.mean())\n"
   ]
  },
  {
   "cell_type": "markdown",
   "metadata": {},
   "source": [
    "We can notice that the third model's performance is getting worst."
   ]
  },
  {
   "cell_type": "markdown",
   "metadata": {},
   "source": [
    "## Model4"
   ]
  },
  {
   "cell_type": "markdown",
   "metadata": {},
   "source": [
    "We will create a new model after Lemmanize the words in the tweet text."
   ]
  },
  {
   "cell_type": "markdown",
   "metadata": {},
   "source": [
    "Lemmatization:It stems the word but makes sure that it does not lose its meaning.  Lemmatization has a pre-defined dictionary that stores the context of words and checks the word in the dictionary while diminishing."
   ]
  },
  {
   "cell_type": "code",
   "execution_count": 90,
   "metadata": {},
   "outputs": [],
   "source": [
    "# Import WordNetLemmatizer class\n",
    "from nltk.stem import WordNetLemmatizer\n",
    "# Instantiate a lemmatizer\n",
    "lemmatizer = WordNetLemmatizer()"
   ]
  },
  {
   "cell_type": "markdown",
   "metadata": {},
   "source": [
    "Create a function to lemmatize the text ."
   ]
  },
  {
   "cell_type": "code",
   "execution_count": 91,
   "metadata": {},
   "outputs": [],
   "source": [
    "def token_lemmatizer(document):\n",
    "    \"\"\"\n",
    "    Given a text and return a tokenized and lemmatize words \"\"\"\n",
    " \n",
    "    tokens = tokenizer.tokenize(str(document))\n",
    "    return[lemmatizer.lemmatize(token) for token in tokens]\n",
    "    \n",
    "   "
   ]
  },
  {
   "cell_type": "code",
   "execution_count": 92,
   "metadata": {
    "scrolled": true
   },
   "outputs": [
    {
     "data": {
      "text/plain": [
       "['thanks',\n",
       " 'for',\n",
       " 'all',\n",
       " 'the',\n",
       " 'info',\n",
       " 'on',\n",
       " 'the',\n",
       " 'apple',\n",
       " 'store',\n",
       " 'closing',\n",
       " 'time',\n",
       " 'heading',\n",
       " 'there',\n",
       " 'after',\n",
       " 'finishing',\n",
       " 'this',\n",
       " 'iron',\n",
       " 'work',\n",
       " 'bbq',\n",
       " 'sxsw',\n",
       " 'sxtxstate']"
      ]
     },
     "execution_count": 92,
     "metadata": {},
     "output_type": "execute_result"
    }
   ],
   "source": [
    "# sample\n",
    "token_lemmatizer(X_train.iloc[100][\"tweet_text\"])"
   ]
  },
  {
   "cell_type": "markdown",
   "metadata": {},
   "source": [
    "Lemmatize the stopwords list"
   ]
  },
  {
   "cell_type": "code",
   "execution_count": 93,
   "metadata": {},
   "outputs": [
    {
     "data": {
      "text/plain": [
       "['i',\n",
       " 'me',\n",
       " 'my',\n",
       " 'myself',\n",
       " 'we',\n",
       " 'our',\n",
       " 'ours',\n",
       " 'ourselves',\n",
       " 'you',\n",
       " \"you're\",\n",
       " \"you've\",\n",
       " \"you'll\",\n",
       " \"you'd\",\n",
       " 'your',\n",
       " 'yours',\n",
       " 'yourself',\n",
       " 'yourselves',\n",
       " 'he',\n",
       " 'him',\n",
       " 'his',\n",
       " 'himself',\n",
       " 'she',\n",
       " \"she's\",\n",
       " 'her',\n",
       " 'hers',\n",
       " 'herself',\n",
       " 'it',\n",
       " \"it's\",\n",
       " 'it',\n",
       " 'itself',\n",
       " 'they',\n",
       " 'them',\n",
       " 'their',\n",
       " 'theirs',\n",
       " 'themselves',\n",
       " 'what',\n",
       " 'which',\n",
       " 'who',\n",
       " 'whom',\n",
       " 'this',\n",
       " 'that',\n",
       " \"that'll\",\n",
       " 'these',\n",
       " 'those',\n",
       " 'am',\n",
       " 'is',\n",
       " 'are',\n",
       " 'wa',\n",
       " 'were',\n",
       " 'be',\n",
       " 'been',\n",
       " 'being',\n",
       " 'have',\n",
       " 'ha',\n",
       " 'had',\n",
       " 'having',\n",
       " 'do',\n",
       " 'doe',\n",
       " 'did',\n",
       " 'doing',\n",
       " 'a',\n",
       " 'an',\n",
       " 'the',\n",
       " 'and',\n",
       " 'but',\n",
       " 'if',\n",
       " 'or',\n",
       " 'because',\n",
       " 'a',\n",
       " 'until',\n",
       " 'while',\n",
       " 'of',\n",
       " 'at',\n",
       " 'by',\n",
       " 'for',\n",
       " 'with',\n",
       " 'about',\n",
       " 'against',\n",
       " 'between',\n",
       " 'into',\n",
       " 'through',\n",
       " 'during',\n",
       " 'before',\n",
       " 'after',\n",
       " 'above',\n",
       " 'below',\n",
       " 'to',\n",
       " 'from',\n",
       " 'up',\n",
       " 'down',\n",
       " 'in',\n",
       " 'out',\n",
       " 'on',\n",
       " 'off',\n",
       " 'over',\n",
       " 'under',\n",
       " 'again',\n",
       " 'further',\n",
       " 'then',\n",
       " 'once',\n",
       " 'here',\n",
       " 'there',\n",
       " 'when',\n",
       " 'where',\n",
       " 'why',\n",
       " 'how',\n",
       " 'all',\n",
       " 'any',\n",
       " 'both',\n",
       " 'each',\n",
       " 'few',\n",
       " 'more',\n",
       " 'most',\n",
       " 'other',\n",
       " 'some',\n",
       " 'such',\n",
       " 'no',\n",
       " 'nor',\n",
       " 'not',\n",
       " 'only',\n",
       " 'own',\n",
       " 'same',\n",
       " 'so',\n",
       " 'than',\n",
       " 'too',\n",
       " 'very',\n",
       " 's',\n",
       " 't',\n",
       " 'can',\n",
       " 'will',\n",
       " 'just',\n",
       " 'don',\n",
       " \"don't\",\n",
       " 'should',\n",
       " \"should've\",\n",
       " 'now',\n",
       " 'd',\n",
       " 'll',\n",
       " 'm',\n",
       " 'o',\n",
       " 're',\n",
       " 've',\n",
       " 'y',\n",
       " 'ain',\n",
       " 'aren',\n",
       " \"aren't\",\n",
       " 'couldn',\n",
       " \"couldn't\",\n",
       " 'didn',\n",
       " \"didn't\",\n",
       " 'doesn',\n",
       " \"doesn't\",\n",
       " 'hadn',\n",
       " \"hadn't\",\n",
       " 'hasn',\n",
       " \"hasn't\",\n",
       " 'haven',\n",
       " \"haven't\",\n",
       " 'isn',\n",
       " \"isn't\",\n",
       " 'ma',\n",
       " 'mightn',\n",
       " \"mightn't\",\n",
       " 'mustn',\n",
       " \"mustn't\",\n",
       " 'needn',\n",
       " \"needn't\",\n",
       " 'shan',\n",
       " \"shan't\",\n",
       " 'shouldn',\n",
       " \"shouldn't\",\n",
       " 'wasn',\n",
       " \"wasn't\",\n",
       " 'weren',\n",
       " \"weren't\",\n",
       " 'won',\n",
       " \"won't\",\n",
       " 'wouldn',\n",
       " \"wouldn't\",\n",
       " '!',\n",
       " '\"',\n",
       " '#',\n",
       " '$',\n",
       " '%',\n",
       " '&',\n",
       " \"'\",\n",
       " '(',\n",
       " ')',\n",
       " '*',\n",
       " '+',\n",
       " ',',\n",
       " '-',\n",
       " '.',\n",
       " '/',\n",
       " ':',\n",
       " ';',\n",
       " '<',\n",
       " '=',\n",
       " '>',\n",
       " '?',\n",
       " '@',\n",
       " '[',\n",
       " '\\\\',\n",
       " ']',\n",
       " '^',\n",
       " '_',\n",
       " '`',\n",
       " '{',\n",
       " '|',\n",
       " '}',\n",
       " '~',\n",
       " '0',\n",
       " '1',\n",
       " '2',\n",
       " '3',\n",
       " '4',\n",
       " '5',\n",
       " '6',\n",
       " '7',\n",
       " '8',\n",
       " '9',\n",
       " 'sxsw',\n",
       " 'mention',\n",
       " 'link',\n",
       " 'rt',\n",
       " '“',\n",
       " '”',\n",
       " '...',\n",
       " \"''\",\n",
       " '’',\n",
       " '``',\n",
       " '',\n",
       " '  ']"
      ]
     },
     "execution_count": 93,
     "metadata": {},
     "output_type": "execute_result"
    }
   ],
   "source": [
    "# Apply the lemmatizer for each word in stopword list\n",
    "lemmatized_stopwords = [lemmatizer.lemmatize(word) for word in s_w]\n",
    "lemmatized_stopwords"
   ]
  },
  {
   "cell_type": "markdown",
   "metadata": {},
   "source": [
    "Apply the lemmatizer for text  in the data frame."
   ]
  },
  {
   "cell_type": "code",
   "execution_count": 94,
   "metadata": {},
   "outputs": [
    {
     "data": {
      "text/html": [
       "<div>\n",
       "<style scoped>\n",
       "    .dataframe tbody tr th:only-of-type {\n",
       "        vertical-align: middle;\n",
       "    }\n",
       "\n",
       "    .dataframe tbody tr th {\n",
       "        vertical-align: top;\n",
       "    }\n",
       "\n",
       "    .dataframe thead th {\n",
       "        text-align: right;\n",
       "    }\n",
       "</style>\n",
       "<table border=\"1\" class=\"dataframe\">\n",
       "  <thead>\n",
       "    <tr style=\"text-align: right;\">\n",
       "      <th></th>\n",
       "      <th>tweet_text</th>\n",
       "      <th>text_tokenized</th>\n",
       "      <th>text_without_stopwords</th>\n",
       "      <th>text_steemed</th>\n",
       "      <th>text_lemmatized</th>\n",
       "    </tr>\n",
       "  </thead>\n",
       "  <tbody>\n",
       "    <tr>\n",
       "      <th>9055</th>\n",
       "      <td>@mention you give away that ipad yet.... ? #sxsw</td>\n",
       "      <td>[mention, you, give, away, that, ipad, yet, sxsw]</td>\n",
       "      <td>[give, away, ipad, yet]</td>\n",
       "      <td>[give, away, ipad, yet]</td>\n",
       "      <td>[give, away, ipad, yet]</td>\n",
       "    </tr>\n",
       "    <tr>\n",
       "      <th>4203</th>\n",
       "      <td>{link} killer shot i got last night of @mention at the #nokiaconnects concert for #sxsw</td>\n",
       "      <td>[link, killer, shot, i, got, last, night, of, mention, at, the, nokiaconnects, concert, for, sxsw]</td>\n",
       "      <td>[killer, shot, got, last, night, nokiaconnects, concert]</td>\n",
       "      <td>[killer, shot, got, last, night, nokiaconnect, concert]</td>\n",
       "      <td>[killer, shot, got, last, night, nokiaconnects, concert]</td>\n",
       "    </tr>\n",
       "    <tr>\n",
       "      <th>1277</th>\n",
       "      <td>please if u were able to [...] attend #sxsw or buy an ipad today, consider saving a few $$ for japan earthquake relief (via @mention</td>\n",
       "      <td>[please, if, u, were, able, to, attend, sxsw, or, buy, an, ipad, today, consider, saving, a, few, for, japan, earthquake, relief, via, mention]</td>\n",
       "      <td>[please, u, able, attend, buy, ipad, today, consider, saving, japan, earthquake, relief, via]</td>\n",
       "      <td>[pleas, u, abl, attend, buy, ipad, today, consid, save, japan, earthquak, relief, via]</td>\n",
       "      <td>[please, u, able, attend, buy, ipad, today, consider, saving, japan, earthquake, relief, via]</td>\n",
       "    </tr>\n",
       "    <tr>\n",
       "      <th>6334</th>\n",
       "      <td>rt @mention my informal unscientific observation is that #apple is by far the computer of choice at #sxsw. hands ... {link}</td>\n",
       "      <td>[rt, mention, my, informal, unscientific, observation, is, that, apple, is, by, far, the, computer, of, choice, at, sxsw, hands, link]</td>\n",
       "      <td>[informal, unscientific, observation, apple, far, computer, choice, hands]</td>\n",
       "      <td>[inform, unscientif, observ, appl, far, comput, choic, hand]</td>\n",
       "      <td>[informal, unscientific, observation, apple, far, computer, choice, hand]</td>\n",
       "    </tr>\n",
       "    <tr>\n",
       "      <th>5515</th>\n",
       "      <td>rt @mention at #sxsw? get the soundcloud iphone app {link} and start recording. use 4sq geotagging to be on the map: {link}</td>\n",
       "      <td>[rt, mention, at, sxsw, get, the, soundcloud, iphone, app, link, and, start, recording, use, sq, geotagging, to, be, on, the, map, link]</td>\n",
       "      <td>[get, soundcloud, iphone, app, start, recording, use, sq, geotagging, map]</td>\n",
       "      <td>[get, soundcloud, iphon, app, start, record, use, sq, geotag, map]</td>\n",
       "      <td>[get, soundcloud, iphone, app, start, recording, use, sq, geotagging, map]</td>\n",
       "    </tr>\n",
       "    <tr>\n",
       "      <th>...</th>\n",
       "      <td>...</td>\n",
       "      <td>...</td>\n",
       "      <td>...</td>\n",
       "      <td>...</td>\n",
       "      <td>...</td>\n",
       "    </tr>\n",
       "    <tr>\n",
       "      <th>5845</th>\n",
       "      <td>rt @mention google maps for mobile 5.2 looks awesome.#sxsw</td>\n",
       "      <td>[rt, mention, google, maps, for, mobile, looks, awesome, sxsw]</td>\n",
       "      <td>[google, maps, mobile, looks, awesome]</td>\n",
       "      <td>[googl, map, mobil, look, awesom]</td>\n",
       "      <td>[google, map, mobile, look, awesome]</td>\n",
       "    </tr>\n",
       "    <tr>\n",
       "      <th>5291</th>\n",
       "      <td>rt @mention #sxsw go 1.1 for android is live in the android marketplace! new features, including sd card storage and more.  {link} via @mention</td>\n",
       "      <td>[rt, mention, sxsw, go, for, android, is, live, in, the, android, marketplace, new, features, including, sd, card, storage, and, more, link, via, mention]</td>\n",
       "      <td>[go, android, live, android, marketplace, new, features, including, sd, card, storage, via]</td>\n",
       "      <td>[go, android, live, android, marketplac, new, featur, includ, sd, card, storag, via]</td>\n",
       "      <td>[go, android, live, android, marketplace, new, feature, including, sd, card, storage, via]</td>\n",
       "    </tr>\n",
       "    <tr>\n",
       "      <th>5496</th>\n",
       "      <td>rt @mention at #sxsw  want to drink free? get the ask around iphone app to find out where we are  join us for drinks in #austin.</td>\n",
       "      <td>[rt, mention, at, sxsw, want, to, drink, free, get, the, ask, around, iphone, app, to, find, out, where, we, are, join, us, for, drinks, in, austin]</td>\n",
       "      <td>[want, drink, free, get, ask, around, iphone, app, find, join, us, drinks, austin]</td>\n",
       "      <td>[want, drink, free, get, ask, around, iphon, app, find, join, us, drink, austin]</td>\n",
       "      <td>[want, drink, free, get, ask, around, iphone, app, find, join, u, drink, austin]</td>\n",
       "    </tr>\n",
       "    <tr>\n",
       "      <th>874</th>\n",
       "      <td>it amazes me how many people don't tuck the flap in on their apple ipad case #sxsw</td>\n",
       "      <td>[it, amazes, me, how, many, people, don't, tuck, the, flap, in, on, their, apple, ipad, case, sxsw]</td>\n",
       "      <td>[amazes, many, people, tuck, flap, apple, ipad, case]</td>\n",
       "      <td>[amaz, mani, peopl, tuck, flap, appl, ipad, case]</td>\n",
       "      <td>[amazes, many, people, tuck, flap, apple, ipad, case]</td>\n",
       "    </tr>\n",
       "    <tr>\n",
       "      <th>7415</th>\n",
       "      <td>pop-up apple store for #sxsw. (@mention apple store, sxsw w/ 86 others) [pic]: {link}</td>\n",
       "      <td>[pop, up, apple, store, for, sxsw, mention, apple, store, sxsw, w, others, pic, link]</td>\n",
       "      <td>[pop, apple, store, apple, store, w, others, pic]</td>\n",
       "      <td>[pop, appl, store, appl, store, w, other, pic]</td>\n",
       "      <td>[pop, apple, store, apple, store, w, others, pic]</td>\n",
       "    </tr>\n",
       "  </tbody>\n",
       "</table>\n",
       "<p>6686 rows × 5 columns</p>\n",
       "</div>"
      ],
      "text/plain": [
       "                                                                                                                                           tweet_text  \\\n",
       "9055                                                                                                 @mention you give away that ipad yet.... ? #sxsw   \n",
       "4203                                                          {link} killer shot i got last night of @mention at the #nokiaconnects concert for #sxsw   \n",
       "1277             please if u were able to [...] attend #sxsw or buy an ipad today, consider saving a few $$ for japan earthquake relief (via @mention   \n",
       "6334                      rt @mention my informal unscientific observation is that #apple is by far the computer of choice at #sxsw. hands ... {link}   \n",
       "5515                      rt @mention at #sxsw? get the soundcloud iphone app {link} and start recording. use 4sq geotagging to be on the map: {link}   \n",
       "...                                                                                                                                               ...   \n",
       "5845                                                                                       rt @mention google maps for mobile 5.2 looks awesome.#sxsw   \n",
       "5291  rt @mention #sxsw go 1.1 for android is live in the android marketplace! new features, including sd card storage and more.  {link} via @mention   \n",
       "5496                 rt @mention at #sxsw  want to drink free? get the ask around iphone app to find out where we are  join us for drinks in #austin.   \n",
       "874                                                                it amazes me how many people don't tuck the flap in on their apple ipad case #sxsw   \n",
       "7415                                                            pop-up apple store for #sxsw. (@mention apple store, sxsw w/ 86 others) [pic]: {link}   \n",
       "\n",
       "                                                                                                                                                  text_tokenized  \\\n",
       "9055                                                                                                           [mention, you, give, away, that, ipad, yet, sxsw]   \n",
       "4203                                                          [link, killer, shot, i, got, last, night, of, mention, at, the, nokiaconnects, concert, for, sxsw]   \n",
       "1277             [please, if, u, were, able, to, attend, sxsw, or, buy, an, ipad, today, consider, saving, a, few, for, japan, earthquake, relief, via, mention]   \n",
       "6334                      [rt, mention, my, informal, unscientific, observation, is, that, apple, is, by, far, the, computer, of, choice, at, sxsw, hands, link]   \n",
       "5515                    [rt, mention, at, sxsw, get, the, soundcloud, iphone, app, link, and, start, recording, use, sq, geotagging, to, be, on, the, map, link]   \n",
       "...                                                                                                                                                          ...   \n",
       "5845                                                                                              [rt, mention, google, maps, for, mobile, looks, awesome, sxsw]   \n",
       "5291  [rt, mention, sxsw, go, for, android, is, live, in, the, android, marketplace, new, features, including, sd, card, storage, and, more, link, via, mention]   \n",
       "5496        [rt, mention, at, sxsw, want, to, drink, free, get, the, ask, around, iphone, app, to, find, out, where, we, are, join, us, for, drinks, in, austin]   \n",
       "874                                                          [it, amazes, me, how, many, people, don't, tuck, the, flap, in, on, their, apple, ipad, case, sxsw]   \n",
       "7415                                                                       [pop, up, apple, store, for, sxsw, mention, apple, store, sxsw, w, others, pic, link]   \n",
       "\n",
       "                                                                             text_without_stopwords  \\\n",
       "9055                                                                        [give, away, ipad, yet]   \n",
       "4203                                       [killer, shot, got, last, night, nokiaconnects, concert]   \n",
       "1277  [please, u, able, attend, buy, ipad, today, consider, saving, japan, earthquake, relief, via]   \n",
       "6334                     [informal, unscientific, observation, apple, far, computer, choice, hands]   \n",
       "5515                     [get, soundcloud, iphone, app, start, recording, use, sq, geotagging, map]   \n",
       "...                                                                                             ...   \n",
       "5845                                                         [google, maps, mobile, looks, awesome]   \n",
       "5291    [go, android, live, android, marketplace, new, features, including, sd, card, storage, via]   \n",
       "5496             [want, drink, free, get, ask, around, iphone, app, find, join, us, drinks, austin]   \n",
       "874                                           [amazes, many, people, tuck, flap, apple, ipad, case]   \n",
       "7415                                              [pop, apple, store, apple, store, w, others, pic]   \n",
       "\n",
       "                                                                                text_steemed  \\\n",
       "9055                                                                 [give, away, ipad, yet]   \n",
       "4203                                 [killer, shot, got, last, night, nokiaconnect, concert]   \n",
       "1277  [pleas, u, abl, attend, buy, ipad, today, consid, save, japan, earthquak, relief, via]   \n",
       "6334                            [inform, unscientif, observ, appl, far, comput, choic, hand]   \n",
       "5515                      [get, soundcloud, iphon, app, start, record, use, sq, geotag, map]   \n",
       "...                                                                                      ...   \n",
       "5845                                                       [googl, map, mobil, look, awesom]   \n",
       "5291    [go, android, live, android, marketplac, new, featur, includ, sd, card, storag, via]   \n",
       "5496        [want, drink, free, get, ask, around, iphon, app, find, join, us, drink, austin]   \n",
       "874                                        [amaz, mani, peopl, tuck, flap, appl, ipad, case]   \n",
       "7415                                          [pop, appl, store, appl, store, w, other, pic]   \n",
       "\n",
       "                                                                                    text_lemmatized  \n",
       "9055                                                                        [give, away, ipad, yet]  \n",
       "4203                                       [killer, shot, got, last, night, nokiaconnects, concert]  \n",
       "1277  [please, u, able, attend, buy, ipad, today, consider, saving, japan, earthquake, relief, via]  \n",
       "6334                      [informal, unscientific, observation, apple, far, computer, choice, hand]  \n",
       "5515                     [get, soundcloud, iphone, app, start, recording, use, sq, geotagging, map]  \n",
       "...                                                                                             ...  \n",
       "5845                                                           [google, map, mobile, look, awesome]  \n",
       "5291     [go, android, live, android, marketplace, new, feature, including, sd, card, storage, via]  \n",
       "5496               [want, drink, free, get, ask, around, iphone, app, find, join, u, drink, austin]  \n",
       "874                                           [amazes, many, people, tuck, flap, apple, ipad, case]  \n",
       "7415                                              [pop, apple, store, apple, store, w, others, pic]  \n",
       "\n",
       "[6686 rows x 5 columns]"
      ]
     },
     "execution_count": 94,
     "metadata": {},
     "output_type": "execute_result"
    }
   ],
   "source": [
    "# Apply the lemmatizer for text  in the data frame\n",
    "X_train[\"text_lemmatized\"] = X_train[\"text_without_stopwords\"].apply(token_lemmatizer)\n",
    "\n",
    "X_train"
   ]
  },
  {
   "cell_type": "markdown",
   "metadata": {},
   "source": [
    "We have to convert the words into vectors after removing the stopwords and lemmatizing the words to create the foorth model."
   ]
  },
  {
   "cell_type": "code",
   "execution_count": 95,
   "metadata": {},
   "outputs": [],
   "source": [
    "# Instantiate the vectorizer\n",
    "tfidf = TfidfVectorizer(\n",
    "    max_features=10,\n",
    "    stop_words=lemmatized_stopwords,\n",
    "    tokenizer=token_lemmatizer\n",
    ")\n",
    "\n",
    "# Fit the vectorizer on X_train[\"text\"] and transform it\n",
    "X_train_vectorized = tfidf.fit_transform(X_train[\"tweet_text\"].values.astype('U'))\n",
    "\n",
    "X_test_vectorized = tfidf.transform(X_test[\"tweet_text\"].values.astype('U'))\n"
   ]
  },
  {
   "cell_type": "code",
   "execution_count": 96,
   "metadata": {
    "scrolled": true
   },
   "outputs": [
    {
     "data": {
      "text/html": [
       "<div>\n",
       "<style scoped>\n",
       "    .dataframe tbody tr th:only-of-type {\n",
       "        vertical-align: middle;\n",
       "    }\n",
       "\n",
       "    .dataframe tbody tr th {\n",
       "        vertical-align: top;\n",
       "    }\n",
       "\n",
       "    .dataframe thead th {\n",
       "        text-align: right;\n",
       "    }\n",
       "</style>\n",
       "<table border=\"1\" class=\"dataframe\">\n",
       "  <thead>\n",
       "    <tr style=\"text-align: right;\">\n",
       "      <th></th>\n",
       "      <th>app</th>\n",
       "      <th>apple</th>\n",
       "      <th>austin</th>\n",
       "      <th>circle</th>\n",
       "      <th>google</th>\n",
       "      <th>ipad</th>\n",
       "      <th>iphone</th>\n",
       "      <th>launch</th>\n",
       "      <th>new</th>\n",
       "      <th>store</th>\n",
       "    </tr>\n",
       "  </thead>\n",
       "  <tbody>\n",
       "    <tr>\n",
       "      <th>0</th>\n",
       "      <td>0.000000</td>\n",
       "      <td>0.000000</td>\n",
       "      <td>0.000000</td>\n",
       "      <td>0.0</td>\n",
       "      <td>0.0</td>\n",
       "      <td>1.000000</td>\n",
       "      <td>0.000000</td>\n",
       "      <td>0.0</td>\n",
       "      <td>0.0</td>\n",
       "      <td>0.000000</td>\n",
       "    </tr>\n",
       "    <tr>\n",
       "      <th>1</th>\n",
       "      <td>0.000000</td>\n",
       "      <td>0.000000</td>\n",
       "      <td>0.000000</td>\n",
       "      <td>0.0</td>\n",
       "      <td>0.0</td>\n",
       "      <td>0.000000</td>\n",
       "      <td>0.000000</td>\n",
       "      <td>0.0</td>\n",
       "      <td>0.0</td>\n",
       "      <td>0.000000</td>\n",
       "    </tr>\n",
       "    <tr>\n",
       "      <th>2</th>\n",
       "      <td>0.000000</td>\n",
       "      <td>0.000000</td>\n",
       "      <td>0.000000</td>\n",
       "      <td>0.0</td>\n",
       "      <td>0.0</td>\n",
       "      <td>1.000000</td>\n",
       "      <td>0.000000</td>\n",
       "      <td>0.0</td>\n",
       "      <td>0.0</td>\n",
       "      <td>0.000000</td>\n",
       "    </tr>\n",
       "    <tr>\n",
       "      <th>3</th>\n",
       "      <td>0.000000</td>\n",
       "      <td>1.000000</td>\n",
       "      <td>0.000000</td>\n",
       "      <td>0.0</td>\n",
       "      <td>0.0</td>\n",
       "      <td>0.000000</td>\n",
       "      <td>0.000000</td>\n",
       "      <td>0.0</td>\n",
       "      <td>0.0</td>\n",
       "      <td>0.000000</td>\n",
       "    </tr>\n",
       "    <tr>\n",
       "      <th>4</th>\n",
       "      <td>0.780316</td>\n",
       "      <td>0.000000</td>\n",
       "      <td>0.000000</td>\n",
       "      <td>0.0</td>\n",
       "      <td>0.0</td>\n",
       "      <td>0.000000</td>\n",
       "      <td>0.625386</td>\n",
       "      <td>0.0</td>\n",
       "      <td>0.0</td>\n",
       "      <td>0.000000</td>\n",
       "    </tr>\n",
       "    <tr>\n",
       "      <th>...</th>\n",
       "      <td>...</td>\n",
       "      <td>...</td>\n",
       "      <td>...</td>\n",
       "      <td>...</td>\n",
       "      <td>...</td>\n",
       "      <td>...</td>\n",
       "      <td>...</td>\n",
       "      <td>...</td>\n",
       "      <td>...</td>\n",
       "      <td>...</td>\n",
       "    </tr>\n",
       "    <tr>\n",
       "      <th>6681</th>\n",
       "      <td>0.000000</td>\n",
       "      <td>0.000000</td>\n",
       "      <td>0.000000</td>\n",
       "      <td>0.0</td>\n",
       "      <td>1.0</td>\n",
       "      <td>0.000000</td>\n",
       "      <td>0.000000</td>\n",
       "      <td>0.0</td>\n",
       "      <td>0.0</td>\n",
       "      <td>0.000000</td>\n",
       "    </tr>\n",
       "    <tr>\n",
       "      <th>6682</th>\n",
       "      <td>0.000000</td>\n",
       "      <td>0.000000</td>\n",
       "      <td>0.000000</td>\n",
       "      <td>0.0</td>\n",
       "      <td>0.0</td>\n",
       "      <td>0.000000</td>\n",
       "      <td>0.000000</td>\n",
       "      <td>0.0</td>\n",
       "      <td>1.0</td>\n",
       "      <td>0.000000</td>\n",
       "    </tr>\n",
       "    <tr>\n",
       "      <th>6683</th>\n",
       "      <td>0.625453</td>\n",
       "      <td>0.000000</td>\n",
       "      <td>0.597944</td>\n",
       "      <td>0.0</td>\n",
       "      <td>0.0</td>\n",
       "      <td>0.000000</td>\n",
       "      <td>0.501270</td>\n",
       "      <td>0.0</td>\n",
       "      <td>0.0</td>\n",
       "      <td>0.000000</td>\n",
       "    </tr>\n",
       "    <tr>\n",
       "      <th>6684</th>\n",
       "      <td>0.000000</td>\n",
       "      <td>0.752772</td>\n",
       "      <td>0.000000</td>\n",
       "      <td>0.0</td>\n",
       "      <td>0.0</td>\n",
       "      <td>0.658282</td>\n",
       "      <td>0.000000</td>\n",
       "      <td>0.0</td>\n",
       "      <td>0.0</td>\n",
       "      <td>0.000000</td>\n",
       "    </tr>\n",
       "    <tr>\n",
       "      <th>6685</th>\n",
       "      <td>0.000000</td>\n",
       "      <td>0.665260</td>\n",
       "      <td>0.000000</td>\n",
       "      <td>0.0</td>\n",
       "      <td>0.0</td>\n",
       "      <td>0.000000</td>\n",
       "      <td>0.000000</td>\n",
       "      <td>0.0</td>\n",
       "      <td>0.0</td>\n",
       "      <td>0.746611</td>\n",
       "    </tr>\n",
       "  </tbody>\n",
       "</table>\n",
       "<p>6686 rows × 10 columns</p>\n",
       "</div>"
      ],
      "text/plain": [
       "           app     apple    austin  circle  google      ipad    iphone  \\\n",
       "0     0.000000  0.000000  0.000000     0.0     0.0  1.000000  0.000000   \n",
       "1     0.000000  0.000000  0.000000     0.0     0.0  0.000000  0.000000   \n",
       "2     0.000000  0.000000  0.000000     0.0     0.0  1.000000  0.000000   \n",
       "3     0.000000  1.000000  0.000000     0.0     0.0  0.000000  0.000000   \n",
       "4     0.780316  0.000000  0.000000     0.0     0.0  0.000000  0.625386   \n",
       "...        ...       ...       ...     ...     ...       ...       ...   \n",
       "6681  0.000000  0.000000  0.000000     0.0     1.0  0.000000  0.000000   \n",
       "6682  0.000000  0.000000  0.000000     0.0     0.0  0.000000  0.000000   \n",
       "6683  0.625453  0.000000  0.597944     0.0     0.0  0.000000  0.501270   \n",
       "6684  0.000000  0.752772  0.000000     0.0     0.0  0.658282  0.000000   \n",
       "6685  0.000000  0.665260  0.000000     0.0     0.0  0.000000  0.000000   \n",
       "\n",
       "      launch  new     store  \n",
       "0        0.0  0.0  0.000000  \n",
       "1        0.0  0.0  0.000000  \n",
       "2        0.0  0.0  0.000000  \n",
       "3        0.0  0.0  0.000000  \n",
       "4        0.0  0.0  0.000000  \n",
       "...      ...  ...       ...  \n",
       "6681     0.0  0.0  0.000000  \n",
       "6682     0.0  1.0  0.000000  \n",
       "6683     0.0  0.0  0.000000  \n",
       "6684     0.0  0.0  0.000000  \n",
       "6685     0.0  0.0  0.746611  \n",
       "\n",
       "[6686 rows x 10 columns]"
      ]
     },
     "execution_count": 96,
     "metadata": {},
     "output_type": "execute_result"
    }
   ],
   "source": [
    "# Visually inspect the vectorized data\n",
    "pd.DataFrame.sparse.from_spmatrix(X_train_vectorized, columns=tfidf.get_feature_names())"
   ]
  },
  {
   "cell_type": "markdown",
   "metadata": {},
   "source": [
    "###### Build the lemmatized model"
   ]
  },
  {
   "cell_type": "code",
   "execution_count": 97,
   "metadata": {},
   "outputs": [],
   "source": [
    "# create Pipeline for forth model\n",
    "lemmatized_model = Pipeline([\n",
    "        \n",
    "        ('tfidf', tfidf),\n",
    "        ('clf', MultinomialNB()),\n",
    "    ])"
   ]
  },
  {
   "cell_type": "code",
   "execution_count": 98,
   "metadata": {},
   "outputs": [
    {
     "data": {
      "text/plain": [
       "Pipeline(steps=[('tfidf',\n",
       "                 TfidfVectorizer(max_features=10,\n",
       "                                 stop_words=['i', 'me', 'my', 'myself', 'we',\n",
       "                                             'our', 'ours', 'ourselves', 'you',\n",
       "                                             \"you're\", \"you've\", \"you'll\",\n",
       "                                             \"you'd\", 'your', 'yours',\n",
       "                                             'yourself', 'yourselves', 'he',\n",
       "                                             'him', 'his', 'himself', 'she',\n",
       "                                             \"she's\", 'her', 'hers', 'herself',\n",
       "                                             'it', \"it's\", 'it', 'itself', ...],\n",
       "                                 tokenizer=<function token_lemmatizer at 0x0000024CD93BE550>)),\n",
       "                ('clf', MultinomialNB())])"
      ]
     },
     "execution_count": 98,
     "metadata": {},
     "output_type": "execute_result"
    }
   ],
   "source": [
    "# fit the forth model on X_train and y_train\n",
    "lemmatized_model.fit(X_train[\"tweet_text\"].values.astype('U'),np.ravel(y_train ))"
   ]
  },
  {
   "cell_type": "markdown",
   "metadata": {},
   "source": [
    "Evaluate the forth model by using cross validation class"
   ]
  },
  {
   "cell_type": "code",
   "execution_count": 99,
   "metadata": {},
   "outputs": [
    {
     "data": {
      "text/plain": [
       "array([0.60762332, 0.61106956, 0.60583396, 0.61256545, 0.60807779])"
      ]
     },
     "execution_count": 99,
     "metadata": {},
     "output_type": "execute_result"
    }
   ],
   "source": [
    "# Evaluate the classifier on X_train and y_train\n",
    "lemmatized_model_cv = cross_val_score(lemmatized_model,X_train[\"tweet_text\"].values.astype('U'),np.ravel (y_train))\n",
    "lemmatized_model_cv"
   ]
  },
  {
   "cell_type": "code",
   "execution_count": 100,
   "metadata": {
    "scrolled": true
   },
   "outputs": [
    {
     "name": "stdout",
     "output_type": "stream",
     "text": [
      "Stopwords removed:          0.6079866689473901\n",
      "lemmatized: 0.609034012966584\n"
     ]
    }
   ],
   "source": [
    "print(\"Stopwords removed:         \",stopwords_removed_cv.mean())\n",
    "print(\"lemmatized:\",lemmatized_model_cv.mean())"
   ]
  },
  {
   "cell_type": "code",
   "execution_count": 101,
   "metadata": {},
   "outputs": [
    {
     "data": {
      "text/plain": [
       "array([0.61210762, 0.61434978, 0.60089686, 0.60089686, 0.59325843])"
      ]
     },
     "execution_count": 101,
     "metadata": {},
     "output_type": "execute_result"
    }
   ],
   "source": [
    "# Evaluate the classifier on X_train_vectorized and y_train\n",
    "lemmatized_test_cv = cross_val_score(lemmatized_model, X_test[\"tweet_text\"].values.astype('U'),np.ravel(y_test))\n",
    "lemmatized_test_cv"
   ]
  },
  {
   "cell_type": "code",
   "execution_count": 102,
   "metadata": {},
   "outputs": [
    {
     "name": "stdout",
     "output_type": "stream",
     "text": [
      "lemmatized_test 0.604301909608505\n"
     ]
    }
   ],
   "source": [
    "print( \"lemmatized_test\",lemmatized_test_cv.mean())"
   ]
  },
  {
   "cell_type": "markdown",
   "metadata": {},
   "source": [
    "The model improved after applying the lemmatizer the performance is 60.88%."
   ]
  },
  {
   "cell_type": "markdown",
   "metadata": {},
   "source": [
    "## Model5"
   ]
  },
  {
   "cell_type": "markdown",
   "metadata": {},
   "source": [
    "We will build a model which uses part of the speech tagging technique (pos) to clean our text more."
   ]
  },
  {
   "cell_type": "markdown",
   "metadata": {},
   "source": [
    "POS Tagging in NLTK is a process of converting a sentence to forms – list of words, list of tuples (where each tuple is having a form (word,tag)). The tag in case of is a part-of-speech tag,and signifies whether the word is a noun, adjective, verb, and so on."
   ]
  },
  {
   "cell_type": "markdown",
   "metadata": {},
   "source": [
    "POS Tagging simply means labeling words with their appropriate Part-Of-Speech."
   ]
  },
  {
   "cell_type": "code",
   "execution_count": 103,
   "metadata": {
    "scrolled": true
   },
   "outputs": [
    {
     "name": "stdout",
     "output_type": "stream",
     "text": [
      "showing info https://raw.githubusercontent.com/nltk/nltk_data/gh-pages/index.xml\n"
     ]
    }
   ],
   "source": [
    "# import pos_tag class from nltk library\n",
    "import nltk\n",
    "nltk.download()\n",
    "from nltk import pos_tag"
   ]
  },
  {
   "cell_type": "markdown",
   "metadata": {},
   "source": [
    "In order to identify pos,we need to perform four steps:\n",
    "\n",
    "1-Tokenize the text into sentences.\n",
    "\n",
    "2-Tokenize each sentence into words.\n",
    "\n",
    "3-Tag the words in each sentence for POS.\n",
    "\n"
   ]
  },
  {
   "cell_type": "markdown",
   "metadata": {},
   "source": [
    "We will create a function to do those steps."
   ]
  },
  {
   "cell_type": "code",
   "execution_count": 104,
   "metadata": {},
   "outputs": [],
   "source": [
    "# Import sentence and word tokenizer\n",
    "\n",
    "from nltk.tokenize import word_tokenize\n",
    "from nltk.corpus import wordnet "
   ]
  },
  {
   "cell_type": "code",
   "execution_count": 105,
   "metadata": {},
   "outputs": [],
   "source": [
    "#def pos_text(text):\n",
    "    #\"\"\"\n",
    "    #Given a text and return a tokenized and lemmatize words for each word in pos \"\"\"\n",
    "    # tokenize the sentence \n",
    "    #sentences = [nltk.sent_tokenize(text)]\n",
    "    # tokenize the word in the sentence \n",
    "    #tokens = [nltk.word_tokenize(sent) for sent in sentences]\n",
    "    # use pos for each sentence \n",
    "    #tokens_pos = [nltk.pos_tag(token) for token in tokens]\n",
    "    #return tokens_pos\n",
    "    "
   ]
  },
  {
   "cell_type": "code",
   "execution_count": 106,
   "metadata": {},
   "outputs": [],
   "source": [
    "# apply Lemmatizer\n",
    "    #lmtzr = WordNetLemmatizer()\n",
    "    #lem_token=[lmtzr.lemmatize(token) for token in tokens_pos]\n",
    "\n",
    "    #return lem_token"
   ]
  },
  {
   "cell_type": "code",
   "execution_count": 107,
   "metadata": {},
   "outputs": [],
   "source": [
    "#apply RegexpTokenizer for each sentence \n",
    "   # sentences = [tokenizer.parse(sent) for sent in sentences]\n",
    "    #return sentences"
   ]
  },
  {
   "cell_type": "code",
   "execution_count": 108,
   "metadata": {},
   "outputs": [],
   "source": [
    "\n",
    "#nltk.download('tagsets')\n",
    "#nltk.help.upenn_tagset()"
   ]
  },
  {
   "cell_type": "code",
   "execution_count": 109,
   "metadata": {
    "scrolled": true
   },
   "outputs": [],
   "source": [
    "#example\n",
    "#sentence = \"Sorry, I don't know how to fix this error.\"\n",
    "#tokens = word_tokenize(sentence)\n",
    "#print(tokens)"
   ]
  },
  {
   "cell_type": "code",
   "execution_count": 110,
   "metadata": {
    "scrolled": true
   },
   "outputs": [],
   "source": [
    " #tokens_pos = pos_tag(tokens) \n",
    " #tokens_pos   \n",
    " "
   ]
  },
  {
   "cell_type": "markdown",
   "metadata": {},
   "source": [
    "We notice that each word in the sentence is classified based on the part of speech it belongs to."
   ]
  },
  {
   "cell_type": "markdown",
   "metadata": {},
   "source": [
    "We will lemmatize each word(token) in the list of pos,by using WordNetLemmatizer."
   ]
  },
  {
   "cell_type": "code",
   "execution_count": 111,
   "metadata": {},
   "outputs": [],
   "source": [
    "lmtzr = WordNetLemmatizer()"
   ]
  },
  {
   "cell_type": "code",
   "execution_count": 112,
   "metadata": {
    "scrolled": true
   },
   "outputs": [],
   "source": [
    "#lem_token=[lmtzr.lemmatize(token) for token in tokens_pos]\n",
    "#lem_token"
   ]
  },
  {
   "cell_type": "markdown",
   "metadata": {},
   "source": [
    "Create a function to lemmatize each word in pos list."
   ]
  },
  {
   "cell_type": "code",
   "execution_count": 114,
   "metadata": {},
   "outputs": [],
   "source": [
    "def token_lemmatize(document):\n",
    "    \"\"\"\n",
    "    Given a text and return a tokenized and lemmatize words for each word in pos \"\"\"\n",
    " \n",
    "    tokens =word_tokenize(document)\n",
    "    tokens =[token for token in tokens if token not in s_w ]\n",
    "    lem=[lmtzr.lemmatize(token) for token in tokens]\n",
    "    tokens_pos =[pos_tag(lem)]\n",
    "    return[token for token in tokens_pos[0]]\n",
    "    \n",
    "   "
   ]
  },
  {
   "cell_type": "markdown",
   "metadata": {},
   "source": [
    "We have to convert the words into vectors after removing the stopwords and lemmatizing the words in pos list to create the fifth model."
   ]
  },
  {
   "cell_type": "code",
   "execution_count": 115,
   "metadata": {
    "scrolled": true
   },
   "outputs": [
    {
     "data": {
      "text/plain": [
       "[('thanks', 'NNS'),\n",
       " ('info', 'VBP'),\n",
       " ('apple', 'NN'),\n",
       " ('store', 'NN'),\n",
       " ('closing', 'NN'),\n",
       " ('time', 'NN'),\n",
       " ('heading', 'VBG'),\n",
       " ('finishing', 'VBG'),\n",
       " ('iron', 'NN'),\n",
       " ('work', 'NN'),\n",
       " ('bbq', 'NN'),\n",
       " ('sxtxstate', 'NN')]"
      ]
     },
     "execution_count": 115,
     "metadata": {},
     "output_type": "execute_result"
    }
   ],
   "source": [
    "token_lemmatize(X_train.iloc[100][\"tweet_text\"])"
   ]
  },
  {
   "cell_type": "code",
   "execution_count": 116,
   "metadata": {},
   "outputs": [
    {
     "data": {
      "text/plain": [
       "[[('i', 'NN')],\n",
       " [('m', 'NN'), ('e', 'NN')],\n",
       " [('m', 'NN'), ('y', 'NN')],\n",
       " [('m', 'NN'),\n",
       "  ('y', 'NN'),\n",
       "  ('s', 'NN'),\n",
       "  ('e', 'NN'),\n",
       "  ('l', 'NN'),\n",
       "  ('f', 'NN')],\n",
       " [('w', 'NN'), ('e', 'NN')],\n",
       " [('o', 'NN'), ('u', 'JJ'), ('r', 'NN')],\n",
       " [('o', 'NN'), ('u', 'JJ'), ('r', 'NN'), ('s', 'NN')],\n",
       " [('o', 'NN'),\n",
       "  ('u', 'JJ'),\n",
       "  ('r', 'NN'),\n",
       "  ('s', 'NN'),\n",
       "  ('e', 'NN'),\n",
       "  ('l', 'NN'),\n",
       "  ('v', 'NN'),\n",
       "  ('e', 'NN'),\n",
       "  ('s', 'NN')],\n",
       " [('y', 'NN'), ('o', 'NN'), ('u', 'NN')],\n",
       " [('y', 'NN'),\n",
       "  ('o', 'MD'),\n",
       "  ('u', 'VB'),\n",
       "  (\"'\", 'POS'),\n",
       "  ('r', 'NN'),\n",
       "  ('e', 'NN')],\n",
       " [('y', 'NN'),\n",
       "  ('o', 'MD'),\n",
       "  ('u', 'VB'),\n",
       "  (\"'\", 'POS'),\n",
       "  ('v', 'NNS'),\n",
       "  ('e', 'VBP')],\n",
       " [('y', 'NN'),\n",
       "  ('o', 'MD'),\n",
       "  ('u', 'VB'),\n",
       "  (\"'\", 'POS'),\n",
       "  ('l', 'NN'),\n",
       "  ('l', 'NN')],\n",
       " [('y', 'NN'), ('o', 'MD'), ('u', 'VB'), (\"'\", 'POS'), ('d', 'NN')],\n",
       " [('y', 'NN'), ('o', 'NN'), ('u', 'JJ'), ('r', 'NN')],\n",
       " [('y', 'NN'), ('o', 'NN'), ('u', 'JJ'), ('r', 'NN'), ('s', 'NN')],\n",
       " [('y', 'NN'),\n",
       "  ('o', 'NN'),\n",
       "  ('u', 'JJ'),\n",
       "  ('r', 'NN'),\n",
       "  ('s', 'NN'),\n",
       "  ('e', 'NN'),\n",
       "  ('l', 'NN'),\n",
       "  ('f', 'NN')],\n",
       " [('y', 'NN'),\n",
       "  ('o', 'NN'),\n",
       "  ('u', 'JJ'),\n",
       "  ('r', 'NN'),\n",
       "  ('s', 'NN'),\n",
       "  ('e', 'NN'),\n",
       "  ('l', 'NN'),\n",
       "  ('v', 'NN'),\n",
       "  ('e', 'NN'),\n",
       "  ('s', 'NN')],\n",
       " [('h', 'NN'), ('e', 'NN')],\n",
       " [('h', 'NN'), ('i', 'NN'), ('m', 'VBP')],\n",
       " [('h', 'NN'), ('i', 'NN'), ('s', 'VBP')],\n",
       " [('h', 'NN'),\n",
       "  ('i', 'JJ'),\n",
       "  ('m', 'VBP'),\n",
       "  ('s', 'JJ'),\n",
       "  ('e', 'NN'),\n",
       "  ('l', 'NN'),\n",
       "  ('f', 'NN')],\n",
       " [('s', 'NN'), ('h', 'NN'), ('e', 'NN')],\n",
       " [('s', 'NN'), ('h', 'NN'), ('e', 'NN'), (\"'\", 'POS'), ('s', 'NN')],\n",
       " [('h', 'NN'), ('e', 'NN'), ('r', 'NN')],\n",
       " [('h', 'NN'), ('e', 'NN'), ('r', 'NN'), ('s', 'NN')],\n",
       " [('h', 'NN'),\n",
       "  ('e', 'NN'),\n",
       "  ('r', 'NN'),\n",
       "  ('s', 'NN'),\n",
       "  ('e', 'NN'),\n",
       "  ('l', 'NN'),\n",
       "  ('f', 'NN')],\n",
       " [('i', 'NN'), ('t', 'NN')],\n",
       " [('i', 'JJ'), ('t', 'NN'), (\"'\", 'POS'), ('s', 'NN')],\n",
       " [('i', 'NN'), ('t', 'VBP'), ('s', 'NN')],\n",
       " [('i', 'NN'),\n",
       "  ('t', 'VBP'),\n",
       "  ('s', 'NN'),\n",
       "  ('e', 'NN'),\n",
       "  ('l', 'NN'),\n",
       "  ('f', 'NN')],\n",
       " [('t', 'NN'), ('h', 'NN'), ('e', 'NN'), ('y', 'NN')],\n",
       " [('t', 'NN'), ('h', 'NN'), ('e', 'NN'), ('m', 'NN')],\n",
       " [('t', 'NN'), ('h', 'NN'), ('e', 'NN'), ('i', 'NN'), ('r', 'NN')],\n",
       " [('t', 'NN'),\n",
       "  ('h', 'NN'),\n",
       "  ('e', 'NN'),\n",
       "  ('i', 'NN'),\n",
       "  ('r', 'VBP'),\n",
       "  ('s', 'NN')],\n",
       " [('t', 'NN'),\n",
       "  ('h', 'NN'),\n",
       "  ('e', 'NN'),\n",
       "  ('m', 'NN'),\n",
       "  ('s', 'NN'),\n",
       "  ('e', 'NN'),\n",
       "  ('l', 'NN'),\n",
       "  ('v', 'NN'),\n",
       "  ('e', 'NN'),\n",
       "  ('s', 'NN')],\n",
       " [('w', 'NN'), ('h', 'VBZ'), ('a', 'DT'), ('t', 'NN')],\n",
       " [('w', 'NN'), ('h', 'NN'), ('i', 'JJ'), ('c', 'VBP'), ('h', 'NN')],\n",
       " [('w', 'NN'), ('h', 'NN'), ('o', 'NN')],\n",
       " [('w', 'NN'), ('h', 'NN'), ('o', 'NN'), ('m', 'NN')],\n",
       " [('t', 'NN'), ('h', 'NN'), ('i', 'NN'), ('s', 'VBP')],\n",
       " [('t', 'NN'), ('h', 'VBZ'), ('a', 'DT'), ('t', 'NN')],\n",
       " [('t', 'NN'),\n",
       "  ('h', 'VBZ'),\n",
       "  ('a', 'DT'),\n",
       "  ('t', 'NN'),\n",
       "  (\"'\", 'POS'),\n",
       "  ('l', 'NN'),\n",
       "  ('l', 'NN')],\n",
       " [('t', 'NN'), ('h', 'NN'), ('e', 'NN'), ('s', 'NN'), ('e', 'NN')],\n",
       " [('t', 'NN'), ('h', 'NN'), ('o', 'JJ'), ('s', 'NN'), ('e', 'NN')],\n",
       " [('a', 'DT'), ('m', 'NN')],\n",
       " [('i', 'NN'), ('s', 'VBP')],\n",
       " [('a', 'DT'), ('r', 'NN'), ('e', 'NN')],\n",
       " [('w', 'VB'), ('a', 'DT'), ('s', 'NN')],\n",
       " [('w', 'NN'), ('e', 'NN'), ('r', 'NN'), ('e', 'NN')],\n",
       " [('b', 'NN'), ('e', 'NN')],\n",
       " [('b', 'NN'), ('e', 'NN'), ('e', 'NN'), ('n', 'NN')],\n",
       " [('b', 'NN'), ('e', 'NN'), ('i', 'NN'), ('n', 'VBP'), ('g', 'NN')],\n",
       " [('h', 'VB'), ('a', 'DT'), ('v', 'NN'), ('e', 'NN')],\n",
       " [('h', 'VB'), ('a', 'DT'), ('s', 'NN')],\n",
       " [('h', 'VB'), ('a', 'DT'), ('d', 'NN')],\n",
       " [('h', 'VB'),\n",
       "  ('a', 'DT'),\n",
       "  ('v', 'NN'),\n",
       "  ('i', 'NN'),\n",
       "  ('n', 'VBP'),\n",
       "  ('g', 'NN')],\n",
       " [('d', 'NN'), ('o', 'NN')],\n",
       " [('d', 'NN'), ('o', 'MD'), ('e', 'VB'), ('s', 'NN')],\n",
       " [('d', 'NN'), ('i', 'NN'), ('d', 'VBP')],\n",
       " [('d', 'NN'), ('o', 'NN'), ('i', 'NN'), ('n', 'VBP'), ('g', 'NN')],\n",
       " [('a', 'DT')],\n",
       " [('a', 'DT'), ('n', 'NN')],\n",
       " [('t', 'NN'), ('h', 'NN'), ('e', 'NN')],\n",
       " [('a', 'DT'), ('n', 'JJ'), ('d', 'NN')],\n",
       " [('b', 'NN'), ('u', 'NN'), ('t', 'NN')],\n",
       " [('i', 'NN'), ('f', 'VBP')],\n",
       " [('o', 'NN'), ('r', 'NN')],\n",
       " [('b', 'NN'),\n",
       "  ('e', 'NN'),\n",
       "  ('c', 'VBZ'),\n",
       "  ('a', 'DT'),\n",
       "  ('u', 'JJ'),\n",
       "  ('s', 'NN'),\n",
       "  ('e', 'NN')],\n",
       " [('a', 'DT'), ('s', 'NN')],\n",
       " [('u', 'JJ'), ('n', 'JJ'), ('t', 'NN'), ('i', 'NN'), ('l', 'NN')],\n",
       " [('w', 'NN'), ('h', 'NN'), ('i', 'JJ'), ('l', 'NN'), ('e', 'NN')],\n",
       " [('o', 'NN'), ('f', 'NN')],\n",
       " [('a', 'DT'), ('t', 'NN')],\n",
       " [('b', 'NN'), ('y', 'NN')],\n",
       " [('f', 'NN'), ('o', 'NN'), ('r', 'NN')],\n",
       " [('w', 'NN'), ('i', 'NN'), ('t', 'VBP'), ('h', 'NN')],\n",
       " [('a', 'DT'), ('b', 'NN'), ('o', 'NN'), ('u', 'JJ'), ('t', 'NN')],\n",
       " [('a', 'DT'),\n",
       "  ('g', 'NN'),\n",
       "  ('a', 'DT'),\n",
       "  ('i', 'NN'),\n",
       "  ('n', 'MD'),\n",
       "  ('s', 'VB'),\n",
       "  ('t', 'NN')],\n",
       " [('b', 'NN'),\n",
       "  ('e', 'NN'),\n",
       "  ('t', 'NN'),\n",
       "  ('w', 'NN'),\n",
       "  ('e', 'NN'),\n",
       "  ('e', 'NN'),\n",
       "  ('n', 'NN')],\n",
       " [('i', 'NN'), ('n', 'VBP'), ('t', 'NN'), ('o', 'NN')],\n",
       " [('t', 'NN'),\n",
       "  ('h', 'NN'),\n",
       "  ('r', 'NN'),\n",
       "  ('o', 'NN'),\n",
       "  ('u', 'JJ'),\n",
       "  ('g', 'NN'),\n",
       "  ('h', 'NN')],\n",
       " [('d', 'NN'),\n",
       "  ('u', 'JJ'),\n",
       "  ('r', 'NN'),\n",
       "  ('i', 'NN'),\n",
       "  ('n', 'VBP'),\n",
       "  ('g', 'NN')],\n",
       " [('b', 'NN'),\n",
       "  ('e', 'NN'),\n",
       "  ('f', 'NN'),\n",
       "  ('o', 'NN'),\n",
       "  ('r', 'NN'),\n",
       "  ('e', 'NN')],\n",
       " [('a', 'DT'), ('f', 'JJ'), ('t', 'NN'), ('e', 'NN'), ('r', 'NN')],\n",
       " [('a', 'DT'), ('b', 'NN'), ('o', 'NN'), ('v', 'NN'), ('e', 'NN')],\n",
       " [('b', 'NN'), ('e', 'NN'), ('l', 'NN'), ('o', 'NN'), ('w', 'NN')],\n",
       " [('t', 'NN'), ('o', 'NN')],\n",
       " [('f', 'JJ'), ('r', 'NN'), ('o', 'NN'), ('m', 'NN')],\n",
       " [('u', 'JJ'), ('p', 'NN')],\n",
       " [('d', 'NN'), ('o', 'MD'), ('w', 'VB'), ('n', 'NN')],\n",
       " [('i', 'NN'), ('n', 'VBP')],\n",
       " [('o', 'JJ'), ('u', 'JJ'), ('t', 'NN')],\n",
       " [('o', 'NN'), ('n', 'NN')],\n",
       " [('o', 'JJ'), ('f', 'NN'), ('f', 'NN')],\n",
       " [('o', 'JJ'), ('v', 'NN'), ('e', 'NN'), ('r', 'NN')],\n",
       " [('u', 'JJ'), ('n', 'JJ'), ('d', 'NN'), ('e', 'NN'), ('r', 'NN')],\n",
       " [('a', 'DT'), ('g', 'NN'), ('a', 'DT'), ('i', 'NN'), ('n', 'NN')],\n",
       " [('f', 'NN'),\n",
       "  ('u', 'JJ'),\n",
       "  ('r', 'NN'),\n",
       "  ('t', 'NN'),\n",
       "  ('h', 'NN'),\n",
       "  ('e', 'NN'),\n",
       "  ('r', 'NN')],\n",
       " [('t', 'NN'), ('h', 'NN'), ('e', 'NN'), ('n', 'NN')],\n",
       " [('o', 'JJ'), ('n', 'JJ'), ('c', 'NN'), ('e', 'NN')],\n",
       " [('h', 'NN'), ('e', 'NN'), ('r', 'NN'), ('e', 'NN')],\n",
       " [('t', 'NN'), ('h', 'NN'), ('e', 'NN'), ('r', 'NN'), ('e', 'NN')],\n",
       " [('w', 'NN'), ('h', 'NN'), ('e', 'NN'), ('n', 'NN')],\n",
       " [('w', 'NN'), ('h', 'NN'), ('e', 'NN'), ('r', 'NN'), ('e', 'NN')],\n",
       " [('w', 'NN'), ('h', 'NN'), ('y', 'NN')],\n",
       " [('h', 'NN'), ('o', 'NN'), ('w', 'NN')],\n",
       " [('a', 'DT'), ('l', 'NN'), ('l', 'NN')],\n",
       " [('a', 'DT'), ('n', 'JJ'), ('y', 'NN')],\n",
       " [('b', 'NN'), ('o', 'NN'), ('t', 'NN'), ('h', 'NN')],\n",
       " [('e', 'VB'), ('a', 'DT'), ('c', 'NN'), ('h', 'NN')],\n",
       " [('f', 'JJ'), ('e', 'NN'), ('w', 'NN')],\n",
       " [('m', 'NN'), ('o', 'MD'), ('r', 'VB'), ('e', 'NN')],\n",
       " [('m', 'NN'), ('o', 'MD'), ('s', 'VB'), ('t', 'NN')],\n",
       " [('o', 'JJ'), ('t', 'NN'), ('h', 'NN'), ('e', 'NN'), ('r', 'NN')],\n",
       " [('s', 'NN'), ('o', 'MD'), ('m', 'VB'), ('e', 'NN')],\n",
       " [('s', 'NN'), ('u', 'JJ'), ('c', 'NN'), ('h', 'NN')],\n",
       " [('n', 'NNS'), ('o', 'VBP')],\n",
       " [('n', 'RB'), ('o', 'JJ'), ('r', 'NN')],\n",
       " [('n', 'JJ'), ('o', 'NN'), ('t', 'NN')],\n",
       " [('o', 'JJ'), ('n', 'JJ'), ('l', 'NN'), ('y', 'NN')],\n",
       " [('o', 'JJ'), ('w', 'NN'), ('n', 'NN')],\n",
       " [('s', 'VB'), ('a', 'DT'), ('m', 'NN'), ('e', 'NN')],\n",
       " [('s', 'NN'), ('o', 'NN')],\n",
       " [('t', 'NN'), ('h', 'VBZ'), ('a', 'DT'), ('n', 'NN')],\n",
       " [('t', 'NN'), ('o', 'NN'), ('o', 'NN')],\n",
       " [('v', 'NN'), ('e', 'NN'), ('r', 'NN'), ('y', 'NN')],\n",
       " [('s', 'NN')],\n",
       " [('t', 'NN')],\n",
       " [('c', 'VB'), ('a', 'DT'), ('n', 'NN')],\n",
       " [('w', 'NN'), ('i', 'NN'), ('l', 'VBP'), ('l', 'NN')],\n",
       " [('j', 'NN'), ('u', 'JJ'), ('s', 'NN'), ('t', 'NN')],\n",
       " [('d', 'NN'), ('o', 'NN'), ('n', 'NN')],\n",
       " [('d', 'NN'), ('o', 'MD'), ('n', 'VB'), (\"'\", 'POS'), ('t', 'NN')],\n",
       " [('s', 'NN'),\n",
       "  ('h', 'NN'),\n",
       "  ('o', 'JJ'),\n",
       "  ('u', 'JJ'),\n",
       "  ('l', 'NN'),\n",
       "  ('d', 'NN')],\n",
       " [('s', 'NN'),\n",
       "  ('h', 'NN'),\n",
       "  ('o', 'JJ'),\n",
       "  ('u', 'JJ'),\n",
       "  ('l', 'NN'),\n",
       "  ('d', 'NN'),\n",
       "  (\"'\", \"''\"),\n",
       "  ('v', 'NNS'),\n",
       "  ('e', 'VBP')],\n",
       " [('n', 'JJ'), ('o', 'NN'), ('w', 'NN')],\n",
       " [('d', 'NN')],\n",
       " [('l', 'NN'), ('l', 'NN')],\n",
       " [('m', 'NN')],\n",
       " [('o', 'NN')],\n",
       " [('r', 'NN'), ('e', 'NN')],\n",
       " [('v', 'NN'), ('e', 'NN')],\n",
       " [('y', 'NN')],\n",
       " [('a', 'DT'), ('i', 'NN'), ('n', 'NN')],\n",
       " [('a', 'DT'), ('r', 'NN'), ('e', 'NN'), ('n', 'NN')],\n",
       " [('a', 'DT'),\n",
       "  ('r', 'NN'),\n",
       "  ('e', 'NN'),\n",
       "  ('n', 'NN'),\n",
       "  (\"'\", 'POS'),\n",
       "  ('t', 'NN')],\n",
       " [('c', 'NNS'),\n",
       "  ('o', 'VBP'),\n",
       "  ('u', 'JJ'),\n",
       "  ('l', 'NN'),\n",
       "  ('d', 'NN'),\n",
       "  ('n', 'NN')],\n",
       " [('c', 'NNS'),\n",
       "  ('o', 'VBP'),\n",
       "  ('u', 'JJ'),\n",
       "  ('l', 'NN'),\n",
       "  ('d', 'NN'),\n",
       "  ('n', 'NN'),\n",
       "  (\"'\", 'POS'),\n",
       "  ('t', 'NN')],\n",
       " [('d', 'NN'), ('i', 'NN'), ('d', 'VBP'), ('n', 'NN')],\n",
       " [('d', 'NN'),\n",
       "  ('i', 'NN'),\n",
       "  ('d', 'VBP'),\n",
       "  ('n', 'NN'),\n",
       "  (\"'\", \"''\"),\n",
       "  ('t', 'NN')],\n",
       " [('d', 'NN'), ('o', 'MD'), ('e', 'VB'), ('s', 'JJ'), ('n', 'NN')],\n",
       " [('d', 'NN'),\n",
       "  ('o', 'MD'),\n",
       "  ('e', 'VB'),\n",
       "  ('s', 'JJ'),\n",
       "  ('n', 'NN'),\n",
       "  (\"'\", 'POS'),\n",
       "  ('t', 'NN')],\n",
       " [('h', 'VB'), ('a', 'DT'), ('d', 'NN'), ('n', 'NN')],\n",
       " [('h', 'VB'),\n",
       "  ('a', 'DT'),\n",
       "  ('d', 'NN'),\n",
       "  ('n', 'NN'),\n",
       "  (\"'\", 'POS'),\n",
       "  ('t', 'NN')],\n",
       " [('h', 'VB'), ('a', 'DT'), ('s', 'NN'), ('n', 'NN')],\n",
       " [('h', 'VB'),\n",
       "  ('a', 'DT'),\n",
       "  ('s', 'JJ'),\n",
       "  ('n', 'NN'),\n",
       "  (\"'\", 'POS'),\n",
       "  ('t', 'NN')],\n",
       " [('h', 'VB'), ('a', 'DT'), ('v', 'NN'), ('e', 'NN'), ('n', 'NN')],\n",
       " [('h', 'VB'),\n",
       "  ('a', 'DT'),\n",
       "  ('v', 'NN'),\n",
       "  ('e', 'NN'),\n",
       "  ('n', 'NN'),\n",
       "  (\"'\", 'POS'),\n",
       "  ('t', 'NN')],\n",
       " [('i', 'NN'), ('s', 'VBP'), ('n', 'NN')],\n",
       " [('i', 'NN'), ('s', 'VBP'), ('n', 'NN'), (\"'\", \"''\"), ('t', 'NN')],\n",
       " [('m', 'NN'), ('a', 'DT')],\n",
       " [('m', 'NN'),\n",
       "  ('i', 'NN'),\n",
       "  ('g', 'VBP'),\n",
       "  ('h', 'NN'),\n",
       "  ('t', 'NN'),\n",
       "  ('n', 'NN')],\n",
       " [('m', 'NN'),\n",
       "  ('i', 'NN'),\n",
       "  ('g', 'VBP'),\n",
       "  ('h', 'NN'),\n",
       "  ('t', 'NN'),\n",
       "  ('n', 'NN'),\n",
       "  (\"'\", 'POS'),\n",
       "  ('t', 'NN')],\n",
       " [('m', 'NN'), ('u', 'JJ'), ('s', 'NN'), ('t', 'NN'), ('n', 'NN')],\n",
       " [('m', 'NN'),\n",
       "  ('u', 'JJ'),\n",
       "  ('s', 'NN'),\n",
       "  ('t', 'NN'),\n",
       "  ('n', 'NN'),\n",
       "  (\"'\", 'POS'),\n",
       "  ('t', 'NN')],\n",
       " [('n', 'JJ'), ('e', 'NN'), ('e', 'NN'), ('d', 'NN'), ('n', 'NN')],\n",
       " [('n', 'JJ'),\n",
       "  ('e', 'NN'),\n",
       "  ('e', 'NN'),\n",
       "  ('d', 'NN'),\n",
       "  ('n', 'NN'),\n",
       "  (\"'\", 'POS'),\n",
       "  ('t', 'NN')],\n",
       " [('s', 'NN'), ('h', 'VBZ'), ('a', 'DT'), ('n', 'NN')],\n",
       " [('s', 'NN'),\n",
       "  ('h', 'VBZ'),\n",
       "  ('a', 'DT'),\n",
       "  ('n', 'NN'),\n",
       "  (\"'\", 'POS'),\n",
       "  ('t', 'NN')],\n",
       " [('s', 'NN'),\n",
       "  ('h', 'NN'),\n",
       "  ('o', 'JJ'),\n",
       "  ('u', 'JJ'),\n",
       "  ('l', 'NN'),\n",
       "  ('d', 'NN'),\n",
       "  ('n', 'NN')],\n",
       " [('s', 'NN'),\n",
       "  ('h', 'NN'),\n",
       "  ('o', 'JJ'),\n",
       "  ('u', 'JJ'),\n",
       "  ('l', 'NN'),\n",
       "  ('d', 'NN'),\n",
       "  ('n', 'NN'),\n",
       "  (\"'\", 'POS'),\n",
       "  ('t', 'NN')],\n",
       " [('w', 'VB'), ('a', 'DT'), ('s', 'NN'), ('n', 'NN')],\n",
       " [('w', 'VB'),\n",
       "  ('a', 'DT'),\n",
       "  ('s', 'JJ'),\n",
       "  ('n', 'NN'),\n",
       "  (\"'\", 'POS'),\n",
       "  ('t', 'NN')],\n",
       " [('w', 'NN'), ('e', 'NN'), ('r', 'NN'), ('e', 'NN'), ('n', 'NN')],\n",
       " [('w', 'NN'),\n",
       "  ('e', 'NN'),\n",
       "  ('r', 'NN'),\n",
       "  ('e', 'NN'),\n",
       "  ('n', 'NN'),\n",
       "  (\"'\", 'POS'),\n",
       "  ('t', 'NN')],\n",
       " [('w', 'NN'), ('o', 'NN'), ('n', 'NN')],\n",
       " [('w', 'NN'), ('o', 'MD'), ('n', 'VB'), (\"'\", 'POS'), ('t', 'NN')],\n",
       " [('w', 'NN'),\n",
       "  ('o', 'MD'),\n",
       "  ('u', 'VB'),\n",
       "  ('l', 'NN'),\n",
       "  ('d', 'NN'),\n",
       "  ('n', 'NN')],\n",
       " [('w', 'NN'),\n",
       "  ('o', 'MD'),\n",
       "  ('u', 'VB'),\n",
       "  ('l', 'NN'),\n",
       "  ('d', 'NN'),\n",
       "  ('n', 'NN'),\n",
       "  (\"'\", 'POS'),\n",
       "  ('t', 'NN')],\n",
       " [('!', '.')],\n",
       " [('\"', 'NN')],\n",
       " [('#', '#')],\n",
       " [('$', '$')],\n",
       " [('%', 'NN')],\n",
       " [('&', 'CC')],\n",
       " [(\"'\", \"''\")],\n",
       " [('(', '(')],\n",
       " [(')', ')')],\n",
       " [('*', 'NN')],\n",
       " [('+', 'NN')],\n",
       " [(',', ',')],\n",
       " [('-', ':')],\n",
       " [('.', '.')],\n",
       " [('/', 'NN')],\n",
       " [(':', ':')],\n",
       " [(';', ':')],\n",
       " [('<', 'NN')],\n",
       " [('=', 'NN')],\n",
       " [('>', 'NN')],\n",
       " [('?', '.')],\n",
       " [('@', 'NN')],\n",
       " [('[', 'NN')],\n",
       " [('\\\\', 'NN')],\n",
       " [(']', 'NN')],\n",
       " [('^', 'NN')],\n",
       " [('_', 'NN')],\n",
       " [('`', '``')],\n",
       " [('{', '(')],\n",
       " [('|', 'NN')],\n",
       " [('}', ')')],\n",
       " [('~', 'NN')],\n",
       " [('0', 'CD')],\n",
       " [('1', 'CD')],\n",
       " [('2', 'CD')],\n",
       " [('3', 'CD')],\n",
       " [('4', 'CD')],\n",
       " [('5', 'CD')],\n",
       " [('6', 'CD')],\n",
       " [('7', 'CD')],\n",
       " [('8', 'CD')],\n",
       " [('9', 'CD')],\n",
       " [('s', 'NN'), ('x', 'NNP'), ('s', 'NN'), ('w', 'NN')],\n",
       " [('m', 'NN'),\n",
       "  ('e', 'NN'),\n",
       "  ('n', 'IN'),\n",
       "  ('t', 'NN'),\n",
       "  ('i', 'NN'),\n",
       "  ('o', 'VBP'),\n",
       "  ('n', 'NN')],\n",
       " [('l', 'NN'), ('i', 'NN'), ('n', 'VBP'), ('k', 'NN')],\n",
       " [('r', 'NN'), ('t', 'NN')],\n",
       " [('“', 'NN')],\n",
       " [('”', 'NN')],\n",
       " [('.', '.'), ('.', '.'), ('.', '.')],\n",
       " [(\"'\", 'POS'), (\"'\", \"''\")],\n",
       " [('’', 'NN')],\n",
       " [('`', '``'), ('`', '``')],\n",
       " [],\n",
       " [(' ', 'NN'), (' ', 'NN')]]"
      ]
     },
     "execution_count": 116,
     "metadata": {},
     "output_type": "execute_result"
    }
   ],
   "source": [
    "pos_stopwords = [pos_tag(word) for word in s_w]\n",
    "pos_stopwords"
   ]
  },
  {
   "cell_type": "code",
   "execution_count": 117,
   "metadata": {},
   "outputs": [
    {
     "data": {
      "text/html": [
       "<div>\n",
       "<style scoped>\n",
       "    .dataframe tbody tr th:only-of-type {\n",
       "        vertical-align: middle;\n",
       "    }\n",
       "\n",
       "    .dataframe tbody tr th {\n",
       "        vertical-align: top;\n",
       "    }\n",
       "\n",
       "    .dataframe thead th {\n",
       "        text-align: right;\n",
       "    }\n",
       "</style>\n",
       "<table border=\"1\" class=\"dataframe\">\n",
       "  <thead>\n",
       "    <tr style=\"text-align: right;\">\n",
       "      <th></th>\n",
       "      <th>tweet_text</th>\n",
       "      <th>text_tokenized</th>\n",
       "      <th>text_without_stopwords</th>\n",
       "      <th>text_steemed</th>\n",
       "      <th>text_lemmatized</th>\n",
       "      <th>text_pos</th>\n",
       "    </tr>\n",
       "  </thead>\n",
       "  <tbody>\n",
       "    <tr>\n",
       "      <th>9055</th>\n",
       "      <td>@mention you give away that ipad yet.... ? #sxsw</td>\n",
       "      <td>[mention, you, give, away, that, ipad, yet, sxsw]</td>\n",
       "      <td>[give, away, ipad, yet]</td>\n",
       "      <td>[give, away, ipad, yet]</td>\n",
       "      <td>[give, away, ipad, yet]</td>\n",
       "      <td>[(give, VB), (away, RP), (ipad, JJ), (yet, RB), (...., VBP)]</td>\n",
       "    </tr>\n",
       "    <tr>\n",
       "      <th>4203</th>\n",
       "      <td>{link} killer shot i got last night of @mention at the #nokiaconnects concert for #sxsw</td>\n",
       "      <td>[link, killer, shot, i, got, last, night, of, mention, at, the, nokiaconnects, concert, for, sxsw]</td>\n",
       "      <td>[killer, shot, got, last, night, nokiaconnects, concert]</td>\n",
       "      <td>[killer, shot, got, last, night, nokiaconnect, concert]</td>\n",
       "      <td>[killer, shot, got, last, night, nokiaconnects, concert]</td>\n",
       "      <td>[(killer, NN), (shot, NN), (got, VBD), (last, JJ), (night, NN), (nokiaconnects, NNS), (concert, VBP)]</td>\n",
       "    </tr>\n",
       "    <tr>\n",
       "      <th>1277</th>\n",
       "      <td>please if u were able to [...] attend #sxsw or buy an ipad today, consider saving a few $$ for japan earthquake relief (via @mention</td>\n",
       "      <td>[please, if, u, were, able, to, attend, sxsw, or, buy, an, ipad, today, consider, saving, a, few, for, japan, earthquake, relief, via, mention]</td>\n",
       "      <td>[please, u, able, attend, buy, ipad, today, consider, saving, japan, earthquake, relief, via]</td>\n",
       "      <td>[pleas, u, abl, attend, buy, ipad, today, consid, save, japan, earthquak, relief, via]</td>\n",
       "      <td>[please, u, able, attend, buy, ipad, today, consider, saving, japan, earthquake, relief, via]</td>\n",
       "      <td>[(please, VB), (u, JJ), (able, JJ), (attend, NN), (buy, VB), (ipad, JJ), (today, NN), (consider, VB), (saving, VBG), (japan, NNS), (earthquake, NN), (relief, NN), (via, IN)]</td>\n",
       "    </tr>\n",
       "    <tr>\n",
       "      <th>6334</th>\n",
       "      <td>rt @mention my informal unscientific observation is that #apple is by far the computer of choice at #sxsw. hands ... {link}</td>\n",
       "      <td>[rt, mention, my, informal, unscientific, observation, is, that, apple, is, by, far, the, computer, of, choice, at, sxsw, hands, link]</td>\n",
       "      <td>[informal, unscientific, observation, apple, far, computer, choice, hands]</td>\n",
       "      <td>[inform, unscientif, observ, appl, far, comput, choic, hand]</td>\n",
       "      <td>[informal, unscientific, observation, apple, far, computer, choice, hand]</td>\n",
       "      <td>[(informal, JJ), (unscientific, JJ), (observation, NN), (apple, NN), (far, RB), (computer, NN), (choice, NN), (hand, NN)]</td>\n",
       "    </tr>\n",
       "    <tr>\n",
       "      <th>5515</th>\n",
       "      <td>rt @mention at #sxsw? get the soundcloud iphone app {link} and start recording. use 4sq geotagging to be on the map: {link}</td>\n",
       "      <td>[rt, mention, at, sxsw, get, the, soundcloud, iphone, app, link, and, start, recording, use, sq, geotagging, to, be, on, the, map, link]</td>\n",
       "      <td>[get, soundcloud, iphone, app, start, recording, use, sq, geotagging, map]</td>\n",
       "      <td>[get, soundcloud, iphon, app, start, record, use, sq, geotag, map]</td>\n",
       "      <td>[get, soundcloud, iphone, app, start, recording, use, sq, geotagging, map]</td>\n",
       "      <td>[(get, VB), (soundcloud, JJ), (iphone, NN), (app, JJ), (start, NN), (recording, VBG), (use, NN), (4sq, CD), (geotagging, NN), (map, NN)]</td>\n",
       "    </tr>\n",
       "    <tr>\n",
       "      <th>...</th>\n",
       "      <td>...</td>\n",
       "      <td>...</td>\n",
       "      <td>...</td>\n",
       "      <td>...</td>\n",
       "      <td>...</td>\n",
       "      <td>...</td>\n",
       "    </tr>\n",
       "    <tr>\n",
       "      <th>5845</th>\n",
       "      <td>rt @mention google maps for mobile 5.2 looks awesome.#sxsw</td>\n",
       "      <td>[rt, mention, google, maps, for, mobile, looks, awesome, sxsw]</td>\n",
       "      <td>[google, maps, mobile, looks, awesome]</td>\n",
       "      <td>[googl, map, mobil, look, awesom]</td>\n",
       "      <td>[google, map, mobile, look, awesome]</td>\n",
       "      <td>[(google, NN), (map, NN), (mobile, JJ), (5.2, CD), (look, NN), (awesome., NN)]</td>\n",
       "    </tr>\n",
       "    <tr>\n",
       "      <th>5291</th>\n",
       "      <td>rt @mention #sxsw go 1.1 for android is live in the android marketplace! new features, including sd card storage and more.  {link} via @mention</td>\n",
       "      <td>[rt, mention, sxsw, go, for, android, is, live, in, the, android, marketplace, new, features, including, sd, card, storage, and, more, link, via, mention]</td>\n",
       "      <td>[go, android, live, android, marketplace, new, features, including, sd, card, storage, via]</td>\n",
       "      <td>[go, android, live, android, marketplac, new, featur, includ, sd, card, storag, via]</td>\n",
       "      <td>[go, android, live, android, marketplace, new, feature, including, sd, card, storage, via]</td>\n",
       "      <td>[(go, VB), (1.1, CD), (android, JJ), (live, JJ), (android, NN), (marketplace, NN), (new, JJ), (feature, NN), (including, VBG), (sd, JJ), (card, NN), (storage, NN), (via, IN)]</td>\n",
       "    </tr>\n",
       "    <tr>\n",
       "      <th>5496</th>\n",
       "      <td>rt @mention at #sxsw  want to drink free? get the ask around iphone app to find out where we are  join us for drinks in #austin.</td>\n",
       "      <td>[rt, mention, at, sxsw, want, to, drink, free, get, the, ask, around, iphone, app, to, find, out, where, we, are, join, us, for, drinks, in, austin]</td>\n",
       "      <td>[want, drink, free, get, ask, around, iphone, app, find, join, us, drinks, austin]</td>\n",
       "      <td>[want, drink, free, get, ask, around, iphon, app, find, join, us, drink, austin]</td>\n",
       "      <td>[want, drink, free, get, ask, around, iphone, app, find, join, u, drink, austin]</td>\n",
       "      <td>[(want, JJ), (drink, NN), (free, JJ), (get, NN), (ask, VB), (around, IN), (iphone, NN), (app, NN), (find, VBP), (join, NN), (u, JJ), (drink, NN), (austin, NN)]</td>\n",
       "    </tr>\n",
       "    <tr>\n",
       "      <th>874</th>\n",
       "      <td>it amazes me how many people don't tuck the flap in on their apple ipad case #sxsw</td>\n",
       "      <td>[it, amazes, me, how, many, people, don't, tuck, the, flap, in, on, their, apple, ipad, case, sxsw]</td>\n",
       "      <td>[amazes, many, people, tuck, flap, apple, ipad, case]</td>\n",
       "      <td>[amaz, mani, peopl, tuck, flap, appl, ipad, case]</td>\n",
       "      <td>[amazes, many, people, tuck, flap, apple, ipad, case]</td>\n",
       "      <td>[(amazes, RB), (many, JJ), (people, NNS), (n't, RB), (tuck, VBD), (flap, JJ), (apple, NN), (ipad, NN), (case, NN)]</td>\n",
       "    </tr>\n",
       "    <tr>\n",
       "      <th>7415</th>\n",
       "      <td>pop-up apple store for #sxsw. (@mention apple store, sxsw w/ 86 others) [pic]: {link}</td>\n",
       "      <td>[pop, up, apple, store, for, sxsw, mention, apple, store, sxsw, w, others, pic, link]</td>\n",
       "      <td>[pop, apple, store, apple, store, w, others, pic]</td>\n",
       "      <td>[pop, appl, store, appl, store, w, other, pic]</td>\n",
       "      <td>[pop, apple, store, apple, store, w, others, pic]</td>\n",
       "      <td>[(pop-up, JJ), (apple, NN), (store, NN), (apple, NN), (store, NN), (w/, VBD), (86, CD), (others, NNS), (pic, VBP)]</td>\n",
       "    </tr>\n",
       "  </tbody>\n",
       "</table>\n",
       "<p>6686 rows × 6 columns</p>\n",
       "</div>"
      ],
      "text/plain": [
       "                                                                                                                                           tweet_text  \\\n",
       "9055                                                                                                 @mention you give away that ipad yet.... ? #sxsw   \n",
       "4203                                                          {link} killer shot i got last night of @mention at the #nokiaconnects concert for #sxsw   \n",
       "1277             please if u were able to [...] attend #sxsw or buy an ipad today, consider saving a few $$ for japan earthquake relief (via @mention   \n",
       "6334                      rt @mention my informal unscientific observation is that #apple is by far the computer of choice at #sxsw. hands ... {link}   \n",
       "5515                      rt @mention at #sxsw? get the soundcloud iphone app {link} and start recording. use 4sq geotagging to be on the map: {link}   \n",
       "...                                                                                                                                               ...   \n",
       "5845                                                                                       rt @mention google maps for mobile 5.2 looks awesome.#sxsw   \n",
       "5291  rt @mention #sxsw go 1.1 for android is live in the android marketplace! new features, including sd card storage and more.  {link} via @mention   \n",
       "5496                 rt @mention at #sxsw  want to drink free? get the ask around iphone app to find out where we are  join us for drinks in #austin.   \n",
       "874                                                                it amazes me how many people don't tuck the flap in on their apple ipad case #sxsw   \n",
       "7415                                                            pop-up apple store for #sxsw. (@mention apple store, sxsw w/ 86 others) [pic]: {link}   \n",
       "\n",
       "                                                                                                                                                  text_tokenized  \\\n",
       "9055                                                                                                           [mention, you, give, away, that, ipad, yet, sxsw]   \n",
       "4203                                                          [link, killer, shot, i, got, last, night, of, mention, at, the, nokiaconnects, concert, for, sxsw]   \n",
       "1277             [please, if, u, were, able, to, attend, sxsw, or, buy, an, ipad, today, consider, saving, a, few, for, japan, earthquake, relief, via, mention]   \n",
       "6334                      [rt, mention, my, informal, unscientific, observation, is, that, apple, is, by, far, the, computer, of, choice, at, sxsw, hands, link]   \n",
       "5515                    [rt, mention, at, sxsw, get, the, soundcloud, iphone, app, link, and, start, recording, use, sq, geotagging, to, be, on, the, map, link]   \n",
       "...                                                                                                                                                          ...   \n",
       "5845                                                                                              [rt, mention, google, maps, for, mobile, looks, awesome, sxsw]   \n",
       "5291  [rt, mention, sxsw, go, for, android, is, live, in, the, android, marketplace, new, features, including, sd, card, storage, and, more, link, via, mention]   \n",
       "5496        [rt, mention, at, sxsw, want, to, drink, free, get, the, ask, around, iphone, app, to, find, out, where, we, are, join, us, for, drinks, in, austin]   \n",
       "874                                                          [it, amazes, me, how, many, people, don't, tuck, the, flap, in, on, their, apple, ipad, case, sxsw]   \n",
       "7415                                                                       [pop, up, apple, store, for, sxsw, mention, apple, store, sxsw, w, others, pic, link]   \n",
       "\n",
       "                                                                             text_without_stopwords  \\\n",
       "9055                                                                        [give, away, ipad, yet]   \n",
       "4203                                       [killer, shot, got, last, night, nokiaconnects, concert]   \n",
       "1277  [please, u, able, attend, buy, ipad, today, consider, saving, japan, earthquake, relief, via]   \n",
       "6334                     [informal, unscientific, observation, apple, far, computer, choice, hands]   \n",
       "5515                     [get, soundcloud, iphone, app, start, recording, use, sq, geotagging, map]   \n",
       "...                                                                                             ...   \n",
       "5845                                                         [google, maps, mobile, looks, awesome]   \n",
       "5291    [go, android, live, android, marketplace, new, features, including, sd, card, storage, via]   \n",
       "5496             [want, drink, free, get, ask, around, iphone, app, find, join, us, drinks, austin]   \n",
       "874                                           [amazes, many, people, tuck, flap, apple, ipad, case]   \n",
       "7415                                              [pop, apple, store, apple, store, w, others, pic]   \n",
       "\n",
       "                                                                                text_steemed  \\\n",
       "9055                                                                 [give, away, ipad, yet]   \n",
       "4203                                 [killer, shot, got, last, night, nokiaconnect, concert]   \n",
       "1277  [pleas, u, abl, attend, buy, ipad, today, consid, save, japan, earthquak, relief, via]   \n",
       "6334                            [inform, unscientif, observ, appl, far, comput, choic, hand]   \n",
       "5515                      [get, soundcloud, iphon, app, start, record, use, sq, geotag, map]   \n",
       "...                                                                                      ...   \n",
       "5845                                                       [googl, map, mobil, look, awesom]   \n",
       "5291    [go, android, live, android, marketplac, new, featur, includ, sd, card, storag, via]   \n",
       "5496        [want, drink, free, get, ask, around, iphon, app, find, join, us, drink, austin]   \n",
       "874                                        [amaz, mani, peopl, tuck, flap, appl, ipad, case]   \n",
       "7415                                          [pop, appl, store, appl, store, w, other, pic]   \n",
       "\n",
       "                                                                                    text_lemmatized  \\\n",
       "9055                                                                        [give, away, ipad, yet]   \n",
       "4203                                       [killer, shot, got, last, night, nokiaconnects, concert]   \n",
       "1277  [please, u, able, attend, buy, ipad, today, consider, saving, japan, earthquake, relief, via]   \n",
       "6334                      [informal, unscientific, observation, apple, far, computer, choice, hand]   \n",
       "5515                     [get, soundcloud, iphone, app, start, recording, use, sq, geotagging, map]   \n",
       "...                                                                                             ...   \n",
       "5845                                                           [google, map, mobile, look, awesome]   \n",
       "5291     [go, android, live, android, marketplace, new, feature, including, sd, card, storage, via]   \n",
       "5496               [want, drink, free, get, ask, around, iphone, app, find, join, u, drink, austin]   \n",
       "874                                           [amazes, many, people, tuck, flap, apple, ipad, case]   \n",
       "7415                                              [pop, apple, store, apple, store, w, others, pic]   \n",
       "\n",
       "                                                                                                                                                                            text_pos  \n",
       "9055                                                                                                                    [(give, VB), (away, RP), (ipad, JJ), (yet, RB), (...., VBP)]  \n",
       "4203                                                                           [(killer, NN), (shot, NN), (got, VBD), (last, JJ), (night, NN), (nokiaconnects, NNS), (concert, VBP)]  \n",
       "1277   [(please, VB), (u, JJ), (able, JJ), (attend, NN), (buy, VB), (ipad, JJ), (today, NN), (consider, VB), (saving, VBG), (japan, NNS), (earthquake, NN), (relief, NN), (via, IN)]  \n",
       "6334                                                       [(informal, JJ), (unscientific, JJ), (observation, NN), (apple, NN), (far, RB), (computer, NN), (choice, NN), (hand, NN)]  \n",
       "5515                                        [(get, VB), (soundcloud, JJ), (iphone, NN), (app, JJ), (start, NN), (recording, VBG), (use, NN), (4sq, CD), (geotagging, NN), (map, NN)]  \n",
       "...                                                                                                                                                                              ...  \n",
       "5845                                                                                                  [(google, NN), (map, NN), (mobile, JJ), (5.2, CD), (look, NN), (awesome., NN)]  \n",
       "5291  [(go, VB), (1.1, CD), (android, JJ), (live, JJ), (android, NN), (marketplace, NN), (new, JJ), (feature, NN), (including, VBG), (sd, JJ), (card, NN), (storage, NN), (via, IN)]  \n",
       "5496                 [(want, JJ), (drink, NN), (free, JJ), (get, NN), (ask, VB), (around, IN), (iphone, NN), (app, NN), (find, VBP), (join, NN), (u, JJ), (drink, NN), (austin, NN)]  \n",
       "874                                                               [(amazes, RB), (many, JJ), (people, NNS), (n't, RB), (tuck, VBD), (flap, JJ), (apple, NN), (ipad, NN), (case, NN)]  \n",
       "7415                                                              [(pop-up, JJ), (apple, NN), (store, NN), (apple, NN), (store, NN), (w/, VBD), (86, CD), (others, NNS), (pic, VBP)]  \n",
       "\n",
       "[6686 rows x 6 columns]"
      ]
     },
     "execution_count": 117,
     "metadata": {},
     "output_type": "execute_result"
    }
   ],
   "source": [
    "# Apply the lemmatizer for text  in the data frame\n",
    "X_train[\"text_pos\"] = X_train[\"tweet_text\"].apply(token_lemmatize)\n",
    "\n",
    "X_train"
   ]
  },
  {
   "cell_type": "code",
   "execution_count": 118,
   "metadata": {},
   "outputs": [],
   "source": [
    "# Instantiate the vectorizer\n",
    "mtfidf = TfidfVectorizer(\n",
    "        max_features=10,\n",
    "        stop_words=pos_stopwords,\n",
    "        tokenizer=token_lemmatize,\n",
    "    \n",
    ")\n",
    "\n",
    "# Fit the vectorizer on X_train[\"text\"] and transform it\n",
    "X_train_vectorized = tfidf.fit_transform(X_train[\"tweet_text\"].values.astype(\"U\"))\n",
    "# transform vectorizer on X_test[\"tweet_text\"] \n",
    "X_test_vectorized = tfidf.transform(X_test[\"tweet_text\"].values.astype('U'))\n",
    "\n"
   ]
  },
  {
   "cell_type": "code",
   "execution_count": 119,
   "metadata": {
    "scrolled": false
   },
   "outputs": [],
   "source": [
    "# Visually inspect the vectorized data\n",
    "X_train_pos=pd.DataFrame.sparse.from_spmatrix(X_train_vectorized, columns=tfidf.get_feature_names())"
   ]
  },
  {
   "cell_type": "code",
   "execution_count": 120,
   "metadata": {},
   "outputs": [],
   "source": [
    "X_test_pos=pd.DataFrame.sparse.from_spmatrix(X_test_vectorized, columns=tfidf.get_feature_names())"
   ]
  },
  {
   "cell_type": "markdown",
   "metadata": {},
   "source": [
    "###### Build the pos model"
   ]
  },
  {
   "cell_type": "code",
   "execution_count": 121,
   "metadata": {},
   "outputs": [],
   "source": [
    "# create Pipeline for forth model\n",
    "pos_model = Pipeline([\n",
    "        \n",
    "        ('tfidf', tfidf),\n",
    "        ('clf', MultinomialNB()),\n",
    "    ])"
   ]
  },
  {
   "cell_type": "code",
   "execution_count": 122,
   "metadata": {},
   "outputs": [
    {
     "data": {
      "text/plain": [
       "Pipeline(steps=[('tfidf',\n",
       "                 TfidfVectorizer(max_features=10,\n",
       "                                 stop_words=['i', 'me', 'my', 'myself', 'we',\n",
       "                                             'our', 'ours', 'ourselves', 'you',\n",
       "                                             \"you're\", \"you've\", \"you'll\",\n",
       "                                             \"you'd\", 'your', 'yours',\n",
       "                                             'yourself', 'yourselves', 'he',\n",
       "                                             'him', 'his', 'himself', 'she',\n",
       "                                             \"she's\", 'her', 'hers', 'herself',\n",
       "                                             'it', \"it's\", 'it', 'itself', ...],\n",
       "                                 tokenizer=<function token_lemmatizer at 0x0000024CD93BE550>)),\n",
       "                ('clf', MultinomialNB())])"
      ]
     },
     "execution_count": 122,
     "metadata": {},
     "output_type": "execute_result"
    }
   ],
   "source": [
    "# fit the forth model on X_train and y_train\n",
    "pos_model.fit(X_train[\"tweet_text\"].values.astype('U'),np.ravel(y_train ))"
   ]
  },
  {
   "cell_type": "markdown",
   "metadata": {},
   "source": [
    "Evaluate the fifth model."
   ]
  },
  {
   "cell_type": "code",
   "execution_count": 123,
   "metadata": {
    "scrolled": false
   },
   "outputs": [
    {
     "data": {
      "text/plain": [
       "array([0.60762332, 0.61106956, 0.60583396, 0.61256545, 0.60807779])"
      ]
     },
     "execution_count": 123,
     "metadata": {},
     "output_type": "execute_result"
    }
   ],
   "source": [
    "# Evaluate the classifier on X_train_vectorized and y_train\n",
    "pos_train_cv = cross_val_score(pos_model, X_train[\"tweet_text\"].values.astype('U'),np.ravel(y_train))\n",
    "pos_train_cv"
   ]
  },
  {
   "cell_type": "code",
   "execution_count": 124,
   "metadata": {},
   "outputs": [
    {
     "name": "stdout",
     "output_type": "stream",
     "text": [
      "pos: 0.609034012966584\n"
     ]
    }
   ],
   "source": [
    "\n",
    "print(\"pos:\",pos_train_cv.mean())"
   ]
  },
  {
   "cell_type": "code",
   "execution_count": 125,
   "metadata": {
    "scrolled": true
   },
   "outputs": [
    {
     "data": {
      "text/plain": [
       "array([0.61210762, 0.61434978, 0.60089686, 0.60089686, 0.59325843])"
      ]
     },
     "execution_count": 125,
     "metadata": {},
     "output_type": "execute_result"
    }
   ],
   "source": [
    "# Evaluate the classifier on X_train_vectorized and y_train\n",
    "pos_test_cv = cross_val_score(pos_model, X_test[\"tweet_text\"].values.astype('U'),np.ravel(y_test))\n",
    "pos_test_cv"
   ]
  },
  {
   "cell_type": "code",
   "execution_count": 126,
   "metadata": {},
   "outputs": [
    {
     "name": "stdout",
     "output_type": "stream",
     "text": [
      "pos: 0.604301909608505\n"
     ]
    }
   ],
   "source": [
    "print(\"pos:\",pos_test_cv.mean())"
   ]
  },
  {
   "cell_type": "markdown",
   "metadata": {},
   "source": [
    "We did not gain any improvment on this model."
   ]
  },
  {
   "cell_type": "code",
   "execution_count": 127,
   "metadata": {},
   "outputs": [],
   "source": [
    "#predictions\n",
    "y_train_pred = pos_model.predict(X_train[\"tweet_text\"].values.astype('U'))\n",
    "y_test_pred  = pos_model.predict(X_test[\"tweet_text\"].values.astype('U'))"
   ]
  },
  {
   "cell_type": "code",
   "execution_count": 128,
   "metadata": {
    "scrolled": true
   },
   "outputs": [
    {
     "name": "stdout",
     "output_type": "stream",
     "text": [
      "              precision    recall  f1-score   support\n",
      "\n",
      "           0       0.00      0.00      0.00       162\n",
      "           1       0.60      1.00      0.75      1326\n",
      "           2       0.77      0.03      0.06       741\n",
      "\n",
      "    accuracy                           0.60      2229\n",
      "   macro avg       0.46      0.34      0.27      2229\n",
      "weighted avg       0.61      0.60      0.47      2229\n",
      "\n"
     ]
    },
    {
     "name": "stderr",
     "output_type": "stream",
     "text": [
      "C:\\Users\\mays8\\anaconda3\\envs\\learn-env\\lib\\site-packages\\sklearn\\metrics\\_classification.py:1221: UndefinedMetricWarning: Precision and F-score are ill-defined and being set to 0.0 in labels with no predicted samples. Use `zero_division` parameter to control this behavior.\n",
      "  _warn_prf(average, modifier, msg_start, len(result))\n"
     ]
    }
   ],
   "source": [
    "# calculate metrics by using classfication report\n",
    "c_r = classification_report(y_test,y_test_pred)\n",
    "print(c_r)"
   ]
  },
  {
   "cell_type": "code",
   "execution_count": 129,
   "metadata": {},
   "outputs": [
    {
     "name": "stdout",
     "output_type": "stream",
     "text": [
      "              precision    recall  f1-score   support\n",
      "\n",
      "           0       0.00      0.00      0.00       407\n",
      "           1       0.61      0.99      0.75      4050\n",
      "           2       0.57      0.02      0.04      2229\n",
      "\n",
      "    accuracy                           0.61      6686\n",
      "   macro avg       0.39      0.34      0.27      6686\n",
      "weighted avg       0.56      0.61      0.47      6686\n",
      "\n"
     ]
    }
   ],
   "source": [
    "# calculate metrics by using classfication report\n",
    "c_r = classification_report(y_train,y_train_pred)\n",
    "print(c_r)"
   ]
  },
  {
   "cell_type": "markdown",
   "metadata": {},
   "source": [
    "### Final model"
   ]
  },
  {
   "cell_type": "markdown",
   "metadata": {},
   "source": [
    "The best model based on the performance would be model4.we are trying to increase the performance by increase the number of features."
   ]
  },
  {
   "cell_type": "markdown",
   "metadata": {},
   "source": [
    "We have to convert the words into vectors by using fidf Vectorizer."
   ]
  },
  {
   "cell_type": "code",
   "execution_count": 130,
   "metadata": {},
   "outputs": [],
   "source": [
    "# Instantiate the vectorizer\n",
    "tfidf = TfidfVectorizer(\n",
    "    max_features=1000,\n",
    "    stop_words=lemmatized_stopwords,\n",
    "    tokenizer=token_lemmatizer\n",
    ")\n",
    "\n",
    "# Fit the vectorizer on X_train[\"tweet_text\"] and transform it\n",
    "X_train_vectorized = tfidf.fit_transform(X_train[\"tweet_text\"].values.astype('U'))\n",
    "# transform vectorizer on X_test[\"tweet_text\"] \n",
    "X_test_vectorized = tfidf.transform(X_test[\"tweet_text\"].values.astype('U'))\n"
   ]
  },
  {
   "cell_type": "code",
   "execution_count": 131,
   "metadata": {
    "scrolled": false
   },
   "outputs": [
    {
     "data": {
      "text/html": [
       "<div>\n",
       "<style scoped>\n",
       "    .dataframe tbody tr th:only-of-type {\n",
       "        vertical-align: middle;\n",
       "    }\n",
       "\n",
       "    .dataframe tbody tr th {\n",
       "        vertical-align: top;\n",
       "    }\n",
       "\n",
       "    .dataframe thead th {\n",
       "        text-align: right;\n",
       "    }\n",
       "</style>\n",
       "<table border=\"1\" class=\"dataframe\">\n",
       "  <thead>\n",
       "    <tr style=\"text-align: right;\">\n",
       "      <th></th>\n",
       "      <th>able</th>\n",
       "      <th>abt</th>\n",
       "      <th>acc</th>\n",
       "      <th>access</th>\n",
       "      <th>accessibility</th>\n",
       "      <th>aclu</th>\n",
       "      <th>across</th>\n",
       "      <th>action</th>\n",
       "      <th>actually</th>\n",
       "      <th>ad</th>\n",
       "      <th>...</th>\n",
       "      <th>yes</th>\n",
       "      <th>yesterday</th>\n",
       "      <th>yet</th>\n",
       "      <th>yourmom</th>\n",
       "      <th>youtube</th>\n",
       "      <th>yr</th>\n",
       "      <th>z</th>\n",
       "      <th>zazzlesxsw</th>\n",
       "      <th>zlf</th>\n",
       "      <th>zomb</th>\n",
       "    </tr>\n",
       "  </thead>\n",
       "  <tbody>\n",
       "    <tr>\n",
       "      <th>0</th>\n",
       "      <td>0.000000</td>\n",
       "      <td>0.0</td>\n",
       "      <td>0.0</td>\n",
       "      <td>0.0</td>\n",
       "      <td>0.0</td>\n",
       "      <td>0.0</td>\n",
       "      <td>0.0</td>\n",
       "      <td>0.0</td>\n",
       "      <td>0.0</td>\n",
       "      <td>0.0</td>\n",
       "      <td>...</td>\n",
       "      <td>0.0</td>\n",
       "      <td>0.0</td>\n",
       "      <td>0.573118</td>\n",
       "      <td>0.0</td>\n",
       "      <td>0.0</td>\n",
       "      <td>0.0</td>\n",
       "      <td>0.0</td>\n",
       "      <td>0.0</td>\n",
       "      <td>0.0</td>\n",
       "      <td>0.0</td>\n",
       "    </tr>\n",
       "    <tr>\n",
       "      <th>1</th>\n",
       "      <td>0.000000</td>\n",
       "      <td>0.0</td>\n",
       "      <td>0.0</td>\n",
       "      <td>0.0</td>\n",
       "      <td>0.0</td>\n",
       "      <td>0.0</td>\n",
       "      <td>0.0</td>\n",
       "      <td>0.0</td>\n",
       "      <td>0.0</td>\n",
       "      <td>0.0</td>\n",
       "      <td>...</td>\n",
       "      <td>0.0</td>\n",
       "      <td>0.0</td>\n",
       "      <td>0.000000</td>\n",
       "      <td>0.0</td>\n",
       "      <td>0.0</td>\n",
       "      <td>0.0</td>\n",
       "      <td>0.0</td>\n",
       "      <td>0.0</td>\n",
       "      <td>0.0</td>\n",
       "      <td>0.0</td>\n",
       "    </tr>\n",
       "    <tr>\n",
       "      <th>2</th>\n",
       "      <td>0.324058</td>\n",
       "      <td>0.0</td>\n",
       "      <td>0.0</td>\n",
       "      <td>0.0</td>\n",
       "      <td>0.0</td>\n",
       "      <td>0.0</td>\n",
       "      <td>0.0</td>\n",
       "      <td>0.0</td>\n",
       "      <td>0.0</td>\n",
       "      <td>0.0</td>\n",
       "      <td>...</td>\n",
       "      <td>0.0</td>\n",
       "      <td>0.0</td>\n",
       "      <td>0.000000</td>\n",
       "      <td>0.0</td>\n",
       "      <td>0.0</td>\n",
       "      <td>0.0</td>\n",
       "      <td>0.0</td>\n",
       "      <td>0.0</td>\n",
       "      <td>0.0</td>\n",
       "      <td>0.0</td>\n",
       "    </tr>\n",
       "    <tr>\n",
       "      <th>3</th>\n",
       "      <td>0.000000</td>\n",
       "      <td>0.0</td>\n",
       "      <td>0.0</td>\n",
       "      <td>0.0</td>\n",
       "      <td>0.0</td>\n",
       "      <td>0.0</td>\n",
       "      <td>0.0</td>\n",
       "      <td>0.0</td>\n",
       "      <td>0.0</td>\n",
       "      <td>0.0</td>\n",
       "      <td>...</td>\n",
       "      <td>0.0</td>\n",
       "      <td>0.0</td>\n",
       "      <td>0.000000</td>\n",
       "      <td>0.0</td>\n",
       "      <td>0.0</td>\n",
       "      <td>0.0</td>\n",
       "      <td>0.0</td>\n",
       "      <td>0.0</td>\n",
       "      <td>0.0</td>\n",
       "      <td>0.0</td>\n",
       "    </tr>\n",
       "    <tr>\n",
       "      <th>4</th>\n",
       "      <td>0.000000</td>\n",
       "      <td>0.0</td>\n",
       "      <td>0.0</td>\n",
       "      <td>0.0</td>\n",
       "      <td>0.0</td>\n",
       "      <td>0.0</td>\n",
       "      <td>0.0</td>\n",
       "      <td>0.0</td>\n",
       "      <td>0.0</td>\n",
       "      <td>0.0</td>\n",
       "      <td>...</td>\n",
       "      <td>0.0</td>\n",
       "      <td>0.0</td>\n",
       "      <td>0.000000</td>\n",
       "      <td>0.0</td>\n",
       "      <td>0.0</td>\n",
       "      <td>0.0</td>\n",
       "      <td>0.0</td>\n",
       "      <td>0.0</td>\n",
       "      <td>0.0</td>\n",
       "      <td>0.0</td>\n",
       "    </tr>\n",
       "    <tr>\n",
       "      <th>...</th>\n",
       "      <td>...</td>\n",
       "      <td>...</td>\n",
       "      <td>...</td>\n",
       "      <td>...</td>\n",
       "      <td>...</td>\n",
       "      <td>...</td>\n",
       "      <td>...</td>\n",
       "      <td>...</td>\n",
       "      <td>...</td>\n",
       "      <td>...</td>\n",
       "      <td>...</td>\n",
       "      <td>...</td>\n",
       "      <td>...</td>\n",
       "      <td>...</td>\n",
       "      <td>...</td>\n",
       "      <td>...</td>\n",
       "      <td>...</td>\n",
       "      <td>...</td>\n",
       "      <td>...</td>\n",
       "      <td>...</td>\n",
       "      <td>...</td>\n",
       "    </tr>\n",
       "    <tr>\n",
       "      <th>6681</th>\n",
       "      <td>0.000000</td>\n",
       "      <td>0.0</td>\n",
       "      <td>0.0</td>\n",
       "      <td>0.0</td>\n",
       "      <td>0.0</td>\n",
       "      <td>0.0</td>\n",
       "      <td>0.0</td>\n",
       "      <td>0.0</td>\n",
       "      <td>0.0</td>\n",
       "      <td>0.0</td>\n",
       "      <td>...</td>\n",
       "      <td>0.0</td>\n",
       "      <td>0.0</td>\n",
       "      <td>0.000000</td>\n",
       "      <td>0.0</td>\n",
       "      <td>0.0</td>\n",
       "      <td>0.0</td>\n",
       "      <td>0.0</td>\n",
       "      <td>0.0</td>\n",
       "      <td>0.0</td>\n",
       "      <td>0.0</td>\n",
       "    </tr>\n",
       "    <tr>\n",
       "      <th>6682</th>\n",
       "      <td>0.000000</td>\n",
       "      <td>0.0</td>\n",
       "      <td>0.0</td>\n",
       "      <td>0.0</td>\n",
       "      <td>0.0</td>\n",
       "      <td>0.0</td>\n",
       "      <td>0.0</td>\n",
       "      <td>0.0</td>\n",
       "      <td>0.0</td>\n",
       "      <td>0.0</td>\n",
       "      <td>...</td>\n",
       "      <td>0.0</td>\n",
       "      <td>0.0</td>\n",
       "      <td>0.000000</td>\n",
       "      <td>0.0</td>\n",
       "      <td>0.0</td>\n",
       "      <td>0.0</td>\n",
       "      <td>0.0</td>\n",
       "      <td>0.0</td>\n",
       "      <td>0.0</td>\n",
       "      <td>0.0</td>\n",
       "    </tr>\n",
       "    <tr>\n",
       "      <th>6683</th>\n",
       "      <td>0.000000</td>\n",
       "      <td>0.0</td>\n",
       "      <td>0.0</td>\n",
       "      <td>0.0</td>\n",
       "      <td>0.0</td>\n",
       "      <td>0.0</td>\n",
       "      <td>0.0</td>\n",
       "      <td>0.0</td>\n",
       "      <td>0.0</td>\n",
       "      <td>0.0</td>\n",
       "      <td>...</td>\n",
       "      <td>0.0</td>\n",
       "      <td>0.0</td>\n",
       "      <td>0.000000</td>\n",
       "      <td>0.0</td>\n",
       "      <td>0.0</td>\n",
       "      <td>0.0</td>\n",
       "      <td>0.0</td>\n",
       "      <td>0.0</td>\n",
       "      <td>0.0</td>\n",
       "      <td>0.0</td>\n",
       "    </tr>\n",
       "    <tr>\n",
       "      <th>6684</th>\n",
       "      <td>0.000000</td>\n",
       "      <td>0.0</td>\n",
       "      <td>0.0</td>\n",
       "      <td>0.0</td>\n",
       "      <td>0.0</td>\n",
       "      <td>0.0</td>\n",
       "      <td>0.0</td>\n",
       "      <td>0.0</td>\n",
       "      <td>0.0</td>\n",
       "      <td>0.0</td>\n",
       "      <td>...</td>\n",
       "      <td>0.0</td>\n",
       "      <td>0.0</td>\n",
       "      <td>0.000000</td>\n",
       "      <td>0.0</td>\n",
       "      <td>0.0</td>\n",
       "      <td>0.0</td>\n",
       "      <td>0.0</td>\n",
       "      <td>0.0</td>\n",
       "      <td>0.0</td>\n",
       "      <td>0.0</td>\n",
       "    </tr>\n",
       "    <tr>\n",
       "      <th>6685</th>\n",
       "      <td>0.000000</td>\n",
       "      <td>0.0</td>\n",
       "      <td>0.0</td>\n",
       "      <td>0.0</td>\n",
       "      <td>0.0</td>\n",
       "      <td>0.0</td>\n",
       "      <td>0.0</td>\n",
       "      <td>0.0</td>\n",
       "      <td>0.0</td>\n",
       "      <td>0.0</td>\n",
       "      <td>...</td>\n",
       "      <td>0.0</td>\n",
       "      <td>0.0</td>\n",
       "      <td>0.000000</td>\n",
       "      <td>0.0</td>\n",
       "      <td>0.0</td>\n",
       "      <td>0.0</td>\n",
       "      <td>0.0</td>\n",
       "      <td>0.0</td>\n",
       "      <td>0.0</td>\n",
       "      <td>0.0</td>\n",
       "    </tr>\n",
       "  </tbody>\n",
       "</table>\n",
       "<p>6686 rows × 1000 columns</p>\n",
       "</div>"
      ],
      "text/plain": [
       "          able  abt  acc  access  accessibility  aclu  across  action  \\\n",
       "0     0.000000  0.0  0.0     0.0            0.0   0.0     0.0     0.0   \n",
       "1     0.000000  0.0  0.0     0.0            0.0   0.0     0.0     0.0   \n",
       "2     0.324058  0.0  0.0     0.0            0.0   0.0     0.0     0.0   \n",
       "3     0.000000  0.0  0.0     0.0            0.0   0.0     0.0     0.0   \n",
       "4     0.000000  0.0  0.0     0.0            0.0   0.0     0.0     0.0   \n",
       "...        ...  ...  ...     ...            ...   ...     ...     ...   \n",
       "6681  0.000000  0.0  0.0     0.0            0.0   0.0     0.0     0.0   \n",
       "6682  0.000000  0.0  0.0     0.0            0.0   0.0     0.0     0.0   \n",
       "6683  0.000000  0.0  0.0     0.0            0.0   0.0     0.0     0.0   \n",
       "6684  0.000000  0.0  0.0     0.0            0.0   0.0     0.0     0.0   \n",
       "6685  0.000000  0.0  0.0     0.0            0.0   0.0     0.0     0.0   \n",
       "\n",
       "      actually   ad  ...  yes  yesterday       yet  yourmom  youtube   yr  \\\n",
       "0          0.0  0.0  ...  0.0        0.0  0.573118      0.0      0.0  0.0   \n",
       "1          0.0  0.0  ...  0.0        0.0  0.000000      0.0      0.0  0.0   \n",
       "2          0.0  0.0  ...  0.0        0.0  0.000000      0.0      0.0  0.0   \n",
       "3          0.0  0.0  ...  0.0        0.0  0.000000      0.0      0.0  0.0   \n",
       "4          0.0  0.0  ...  0.0        0.0  0.000000      0.0      0.0  0.0   \n",
       "...        ...  ...  ...  ...        ...       ...      ...      ...  ...   \n",
       "6681       0.0  0.0  ...  0.0        0.0  0.000000      0.0      0.0  0.0   \n",
       "6682       0.0  0.0  ...  0.0        0.0  0.000000      0.0      0.0  0.0   \n",
       "6683       0.0  0.0  ...  0.0        0.0  0.000000      0.0      0.0  0.0   \n",
       "6684       0.0  0.0  ...  0.0        0.0  0.000000      0.0      0.0  0.0   \n",
       "6685       0.0  0.0  ...  0.0        0.0  0.000000      0.0      0.0  0.0   \n",
       "\n",
       "        z  zazzlesxsw  zlf  zomb  \n",
       "0     0.0         0.0  0.0   0.0  \n",
       "1     0.0         0.0  0.0   0.0  \n",
       "2     0.0         0.0  0.0   0.0  \n",
       "3     0.0         0.0  0.0   0.0  \n",
       "4     0.0         0.0  0.0   0.0  \n",
       "...   ...         ...  ...   ...  \n",
       "6681  0.0         0.0  0.0   0.0  \n",
       "6682  0.0         0.0  0.0   0.0  \n",
       "6683  0.0         0.0  0.0   0.0  \n",
       "6684  0.0         0.0  0.0   0.0  \n",
       "6685  0.0         0.0  0.0   0.0  \n",
       "\n",
       "[6686 rows x 1000 columns]"
      ]
     },
     "execution_count": 131,
     "metadata": {},
     "output_type": "execute_result"
    }
   ],
   "source": [
    "# Visually inspect the vectorized data\n",
    "X_train_final=pd.DataFrame.sparse.from_spmatrix(X_train_vectorized, columns=tfidf.get_feature_names())\n",
    "X_train_final"
   ]
  },
  {
   "cell_type": "code",
   "execution_count": 132,
   "metadata": {
    "scrolled": false
   },
   "outputs": [
    {
     "data": {
      "text/html": [
       "<div>\n",
       "<style scoped>\n",
       "    .dataframe tbody tr th:only-of-type {\n",
       "        vertical-align: middle;\n",
       "    }\n",
       "\n",
       "    .dataframe tbody tr th {\n",
       "        vertical-align: top;\n",
       "    }\n",
       "\n",
       "    .dataframe thead th {\n",
       "        text-align: right;\n",
       "    }\n",
       "</style>\n",
       "<table border=\"1\" class=\"dataframe\">\n",
       "  <thead>\n",
       "    <tr style=\"text-align: right;\">\n",
       "      <th></th>\n",
       "      <th>able</th>\n",
       "      <th>abt</th>\n",
       "      <th>acc</th>\n",
       "      <th>access</th>\n",
       "      <th>accessibility</th>\n",
       "      <th>aclu</th>\n",
       "      <th>across</th>\n",
       "      <th>action</th>\n",
       "      <th>actually</th>\n",
       "      <th>ad</th>\n",
       "      <th>...</th>\n",
       "      <th>yes</th>\n",
       "      <th>yesterday</th>\n",
       "      <th>yet</th>\n",
       "      <th>yourmom</th>\n",
       "      <th>youtube</th>\n",
       "      <th>yr</th>\n",
       "      <th>z</th>\n",
       "      <th>zazzlesxsw</th>\n",
       "      <th>zlf</th>\n",
       "      <th>zomb</th>\n",
       "    </tr>\n",
       "  </thead>\n",
       "  <tbody>\n",
       "    <tr>\n",
       "      <th>0</th>\n",
       "      <td>0.0</td>\n",
       "      <td>0.0</td>\n",
       "      <td>0.0</td>\n",
       "      <td>0.0</td>\n",
       "      <td>0.0</td>\n",
       "      <td>0.0</td>\n",
       "      <td>0.0</td>\n",
       "      <td>0.0</td>\n",
       "      <td>0.0</td>\n",
       "      <td>0.0</td>\n",
       "      <td>...</td>\n",
       "      <td>0.0</td>\n",
       "      <td>0.0</td>\n",
       "      <td>0.0</td>\n",
       "      <td>0.0</td>\n",
       "      <td>0.0</td>\n",
       "      <td>0.0</td>\n",
       "      <td>0.0</td>\n",
       "      <td>0.0</td>\n",
       "      <td>0.0</td>\n",
       "      <td>0.0</td>\n",
       "    </tr>\n",
       "    <tr>\n",
       "      <th>1</th>\n",
       "      <td>0.0</td>\n",
       "      <td>0.0</td>\n",
       "      <td>0.0</td>\n",
       "      <td>0.0</td>\n",
       "      <td>0.0</td>\n",
       "      <td>0.0</td>\n",
       "      <td>0.0</td>\n",
       "      <td>0.0</td>\n",
       "      <td>0.0</td>\n",
       "      <td>0.0</td>\n",
       "      <td>...</td>\n",
       "      <td>0.0</td>\n",
       "      <td>0.0</td>\n",
       "      <td>0.0</td>\n",
       "      <td>0.0</td>\n",
       "      <td>0.0</td>\n",
       "      <td>0.0</td>\n",
       "      <td>0.0</td>\n",
       "      <td>0.0</td>\n",
       "      <td>0.0</td>\n",
       "      <td>0.0</td>\n",
       "    </tr>\n",
       "    <tr>\n",
       "      <th>2</th>\n",
       "      <td>0.0</td>\n",
       "      <td>0.0</td>\n",
       "      <td>0.0</td>\n",
       "      <td>0.0</td>\n",
       "      <td>0.0</td>\n",
       "      <td>0.0</td>\n",
       "      <td>0.0</td>\n",
       "      <td>0.0</td>\n",
       "      <td>0.0</td>\n",
       "      <td>0.0</td>\n",
       "      <td>...</td>\n",
       "      <td>0.0</td>\n",
       "      <td>0.0</td>\n",
       "      <td>0.0</td>\n",
       "      <td>0.0</td>\n",
       "      <td>0.0</td>\n",
       "      <td>0.0</td>\n",
       "      <td>0.0</td>\n",
       "      <td>0.0</td>\n",
       "      <td>0.0</td>\n",
       "      <td>0.0</td>\n",
       "    </tr>\n",
       "    <tr>\n",
       "      <th>3</th>\n",
       "      <td>0.0</td>\n",
       "      <td>0.0</td>\n",
       "      <td>0.0</td>\n",
       "      <td>0.0</td>\n",
       "      <td>0.0</td>\n",
       "      <td>0.0</td>\n",
       "      <td>0.0</td>\n",
       "      <td>0.0</td>\n",
       "      <td>0.0</td>\n",
       "      <td>0.0</td>\n",
       "      <td>...</td>\n",
       "      <td>0.0</td>\n",
       "      <td>0.0</td>\n",
       "      <td>0.0</td>\n",
       "      <td>0.0</td>\n",
       "      <td>0.0</td>\n",
       "      <td>0.0</td>\n",
       "      <td>0.0</td>\n",
       "      <td>0.0</td>\n",
       "      <td>0.0</td>\n",
       "      <td>0.0</td>\n",
       "    </tr>\n",
       "    <tr>\n",
       "      <th>4</th>\n",
       "      <td>0.0</td>\n",
       "      <td>0.0</td>\n",
       "      <td>0.0</td>\n",
       "      <td>0.0</td>\n",
       "      <td>0.0</td>\n",
       "      <td>0.0</td>\n",
       "      <td>0.0</td>\n",
       "      <td>0.0</td>\n",
       "      <td>0.0</td>\n",
       "      <td>0.0</td>\n",
       "      <td>...</td>\n",
       "      <td>0.0</td>\n",
       "      <td>0.0</td>\n",
       "      <td>0.0</td>\n",
       "      <td>0.0</td>\n",
       "      <td>0.0</td>\n",
       "      <td>0.0</td>\n",
       "      <td>0.0</td>\n",
       "      <td>0.0</td>\n",
       "      <td>0.0</td>\n",
       "      <td>0.0</td>\n",
       "    </tr>\n",
       "    <tr>\n",
       "      <th>...</th>\n",
       "      <td>...</td>\n",
       "      <td>...</td>\n",
       "      <td>...</td>\n",
       "      <td>...</td>\n",
       "      <td>...</td>\n",
       "      <td>...</td>\n",
       "      <td>...</td>\n",
       "      <td>...</td>\n",
       "      <td>...</td>\n",
       "      <td>...</td>\n",
       "      <td>...</td>\n",
       "      <td>...</td>\n",
       "      <td>...</td>\n",
       "      <td>...</td>\n",
       "      <td>...</td>\n",
       "      <td>...</td>\n",
       "      <td>...</td>\n",
       "      <td>...</td>\n",
       "      <td>...</td>\n",
       "      <td>...</td>\n",
       "      <td>...</td>\n",
       "    </tr>\n",
       "    <tr>\n",
       "      <th>2224</th>\n",
       "      <td>0.0</td>\n",
       "      <td>0.0</td>\n",
       "      <td>0.0</td>\n",
       "      <td>0.0</td>\n",
       "      <td>0.0</td>\n",
       "      <td>0.0</td>\n",
       "      <td>0.0</td>\n",
       "      <td>0.0</td>\n",
       "      <td>0.0</td>\n",
       "      <td>0.0</td>\n",
       "      <td>...</td>\n",
       "      <td>0.0</td>\n",
       "      <td>0.0</td>\n",
       "      <td>0.0</td>\n",
       "      <td>0.0</td>\n",
       "      <td>0.0</td>\n",
       "      <td>0.0</td>\n",
       "      <td>0.0</td>\n",
       "      <td>0.0</td>\n",
       "      <td>0.0</td>\n",
       "      <td>0.0</td>\n",
       "    </tr>\n",
       "    <tr>\n",
       "      <th>2225</th>\n",
       "      <td>0.0</td>\n",
       "      <td>0.0</td>\n",
       "      <td>0.0</td>\n",
       "      <td>0.0</td>\n",
       "      <td>0.0</td>\n",
       "      <td>0.0</td>\n",
       "      <td>0.0</td>\n",
       "      <td>0.0</td>\n",
       "      <td>0.0</td>\n",
       "      <td>0.0</td>\n",
       "      <td>...</td>\n",
       "      <td>0.0</td>\n",
       "      <td>0.0</td>\n",
       "      <td>0.0</td>\n",
       "      <td>0.0</td>\n",
       "      <td>0.0</td>\n",
       "      <td>0.0</td>\n",
       "      <td>0.0</td>\n",
       "      <td>0.0</td>\n",
       "      <td>0.0</td>\n",
       "      <td>0.0</td>\n",
       "    </tr>\n",
       "    <tr>\n",
       "      <th>2226</th>\n",
       "      <td>0.0</td>\n",
       "      <td>0.0</td>\n",
       "      <td>0.0</td>\n",
       "      <td>0.0</td>\n",
       "      <td>0.0</td>\n",
       "      <td>0.0</td>\n",
       "      <td>0.0</td>\n",
       "      <td>0.0</td>\n",
       "      <td>0.0</td>\n",
       "      <td>0.0</td>\n",
       "      <td>...</td>\n",
       "      <td>0.0</td>\n",
       "      <td>0.0</td>\n",
       "      <td>0.0</td>\n",
       "      <td>0.0</td>\n",
       "      <td>0.0</td>\n",
       "      <td>0.0</td>\n",
       "      <td>0.0</td>\n",
       "      <td>0.0</td>\n",
       "      <td>0.0</td>\n",
       "      <td>0.0</td>\n",
       "    </tr>\n",
       "    <tr>\n",
       "      <th>2227</th>\n",
       "      <td>0.0</td>\n",
       "      <td>0.0</td>\n",
       "      <td>0.0</td>\n",
       "      <td>0.0</td>\n",
       "      <td>0.0</td>\n",
       "      <td>0.0</td>\n",
       "      <td>0.0</td>\n",
       "      <td>0.0</td>\n",
       "      <td>0.0</td>\n",
       "      <td>0.0</td>\n",
       "      <td>...</td>\n",
       "      <td>0.0</td>\n",
       "      <td>0.0</td>\n",
       "      <td>0.0</td>\n",
       "      <td>0.0</td>\n",
       "      <td>0.0</td>\n",
       "      <td>0.0</td>\n",
       "      <td>0.0</td>\n",
       "      <td>0.0</td>\n",
       "      <td>0.0</td>\n",
       "      <td>0.0</td>\n",
       "    </tr>\n",
       "    <tr>\n",
       "      <th>2228</th>\n",
       "      <td>0.0</td>\n",
       "      <td>0.0</td>\n",
       "      <td>0.0</td>\n",
       "      <td>0.0</td>\n",
       "      <td>0.0</td>\n",
       "      <td>0.0</td>\n",
       "      <td>0.0</td>\n",
       "      <td>0.0</td>\n",
       "      <td>0.0</td>\n",
       "      <td>0.0</td>\n",
       "      <td>...</td>\n",
       "      <td>0.0</td>\n",
       "      <td>0.0</td>\n",
       "      <td>0.0</td>\n",
       "      <td>0.0</td>\n",
       "      <td>0.0</td>\n",
       "      <td>0.0</td>\n",
       "      <td>0.0</td>\n",
       "      <td>0.0</td>\n",
       "      <td>0.0</td>\n",
       "      <td>0.0</td>\n",
       "    </tr>\n",
       "  </tbody>\n",
       "</table>\n",
       "<p>2229 rows × 1000 columns</p>\n",
       "</div>"
      ],
      "text/plain": [
       "      able  abt  acc  access  accessibility  aclu  across  action  actually  \\\n",
       "0      0.0  0.0  0.0     0.0            0.0   0.0     0.0     0.0       0.0   \n",
       "1      0.0  0.0  0.0     0.0            0.0   0.0     0.0     0.0       0.0   \n",
       "2      0.0  0.0  0.0     0.0            0.0   0.0     0.0     0.0       0.0   \n",
       "3      0.0  0.0  0.0     0.0            0.0   0.0     0.0     0.0       0.0   \n",
       "4      0.0  0.0  0.0     0.0            0.0   0.0     0.0     0.0       0.0   \n",
       "...    ...  ...  ...     ...            ...   ...     ...     ...       ...   \n",
       "2224   0.0  0.0  0.0     0.0            0.0   0.0     0.0     0.0       0.0   \n",
       "2225   0.0  0.0  0.0     0.0            0.0   0.0     0.0     0.0       0.0   \n",
       "2226   0.0  0.0  0.0     0.0            0.0   0.0     0.0     0.0       0.0   \n",
       "2227   0.0  0.0  0.0     0.0            0.0   0.0     0.0     0.0       0.0   \n",
       "2228   0.0  0.0  0.0     0.0            0.0   0.0     0.0     0.0       0.0   \n",
       "\n",
       "       ad  ...  yes  yesterday  yet  yourmom  youtube   yr    z  zazzlesxsw  \\\n",
       "0     0.0  ...  0.0        0.0  0.0      0.0      0.0  0.0  0.0         0.0   \n",
       "1     0.0  ...  0.0        0.0  0.0      0.0      0.0  0.0  0.0         0.0   \n",
       "2     0.0  ...  0.0        0.0  0.0      0.0      0.0  0.0  0.0         0.0   \n",
       "3     0.0  ...  0.0        0.0  0.0      0.0      0.0  0.0  0.0         0.0   \n",
       "4     0.0  ...  0.0        0.0  0.0      0.0      0.0  0.0  0.0         0.0   \n",
       "...   ...  ...  ...        ...  ...      ...      ...  ...  ...         ...   \n",
       "2224  0.0  ...  0.0        0.0  0.0      0.0      0.0  0.0  0.0         0.0   \n",
       "2225  0.0  ...  0.0        0.0  0.0      0.0      0.0  0.0  0.0         0.0   \n",
       "2226  0.0  ...  0.0        0.0  0.0      0.0      0.0  0.0  0.0         0.0   \n",
       "2227  0.0  ...  0.0        0.0  0.0      0.0      0.0  0.0  0.0         0.0   \n",
       "2228  0.0  ...  0.0        0.0  0.0      0.0      0.0  0.0  0.0         0.0   \n",
       "\n",
       "      zlf  zomb  \n",
       "0     0.0   0.0  \n",
       "1     0.0   0.0  \n",
       "2     0.0   0.0  \n",
       "3     0.0   0.0  \n",
       "4     0.0   0.0  \n",
       "...   ...   ...  \n",
       "2224  0.0   0.0  \n",
       "2225  0.0   0.0  \n",
       "2226  0.0   0.0  \n",
       "2227  0.0   0.0  \n",
       "2228  0.0   0.0  \n",
       "\n",
       "[2229 rows x 1000 columns]"
      ]
     },
     "execution_count": 132,
     "metadata": {},
     "output_type": "execute_result"
    }
   ],
   "source": [
    "X_test_final=pd.DataFrame.sparse.from_spmatrix(X_test_vectorized, columns=tfidf.get_feature_names())\n",
    "X_test_final"
   ]
  },
  {
   "cell_type": "code",
   "execution_count": null,
   "metadata": {},
   "outputs": [],
   "source": [
    "#from imblearn.over_sampling import SMOTE"
   ]
  },
  {
   "cell_type": "code",
   "execution_count": null,
   "metadata": {},
   "outputs": [],
   "source": [
    "#sm = SMOTE(random_state=42)"
   ]
  },
  {
   "cell_type": "code",
   "execution_count": 133,
   "metadata": {},
   "outputs": [],
   "source": [
    "# create Pipeline for forth model\n",
    "final_model = Pipeline([\n",
    "        \n",
    "        ('tfidf', tfidf),\n",
    "        ('clf', MultinomialNB()),\n",
    "        \n",
    "    ])"
   ]
  },
  {
   "cell_type": "code",
   "execution_count": 134,
   "metadata": {
    "scrolled": true
   },
   "outputs": [
    {
     "data": {
      "text/plain": [
       "Pipeline(steps=[('tfidf',\n",
       "                 TfidfVectorizer(max_features=1000,\n",
       "                                 stop_words=['i', 'me', 'my', 'myself', 'we',\n",
       "                                             'our', 'ours', 'ourselves', 'you',\n",
       "                                             \"you're\", \"you've\", \"you'll\",\n",
       "                                             \"you'd\", 'your', 'yours',\n",
       "                                             'yourself', 'yourselves', 'he',\n",
       "                                             'him', 'his', 'himself', 'she',\n",
       "                                             \"she's\", 'her', 'hers', 'herself',\n",
       "                                             'it', \"it's\", 'it', 'itself', ...],\n",
       "                                 tokenizer=<function token_lemmatizer at 0x0000024CD93BE550>)),\n",
       "                ('clf', MultinomialNB())])"
      ]
     },
     "execution_count": 134,
     "metadata": {},
     "output_type": "execute_result"
    }
   ],
   "source": [
    "# fit the forth model on X_train and y_train\n",
    "final_model.fit(X_train[\"tweet_text\"].values.astype('U'),np.ravel(y_train ))"
   ]
  },
  {
   "cell_type": "code",
   "execution_count": 135,
   "metadata": {
    "scrolled": true
   },
   "outputs": [
    {
     "data": {
      "text/plain": [
       "array([0.66816143, 0.65445026, 0.65968586, 0.66192969, 0.66192969])"
      ]
     },
     "execution_count": 135,
     "metadata": {},
     "output_type": "execute_result"
    }
   ],
   "source": [
    "# Evaluate the classifier on X_train_vectorized and y_train\n",
    "final_train_cv = cross_val_score(final_model, X_train[\"tweet_text\"].values.astype('U'),np.ravel( y_train))\n",
    "final_train_cv"
   ]
  },
  {
   "cell_type": "code",
   "execution_count": 136,
   "metadata": {
    "scrolled": true
   },
   "outputs": [
    {
     "name": "stdout",
     "output_type": "stream",
     "text": [
      "final_train 0.6612313894637282\n"
     ]
    }
   ],
   "source": [
    "print( \"final_train\",final_train_cv.mean())"
   ]
  },
  {
   "cell_type": "code",
   "execution_count": 137,
   "metadata": {
    "scrolled": false
   },
   "outputs": [
    {
     "data": {
      "text/plain": [
       "array([0.64125561, 0.64125561, 0.63901345, 0.60538117, 0.64494382])"
      ]
     },
     "execution_count": 137,
     "metadata": {},
     "output_type": "execute_result"
    }
   ],
   "source": [
    "# Evaluate the classifier on X_train_vectorized and y_train\n",
    "final_test_cv = cross_val_score(final_model, X_test[\"tweet_text\"].values.astype('U'),np.ravel(y_test))\n",
    "final_test_cv"
   ]
  },
  {
   "cell_type": "code",
   "execution_count": 138,
   "metadata": {
    "scrolled": true
   },
   "outputs": [
    {
     "name": "stdout",
     "output_type": "stream",
     "text": [
      "final_test 0.6343699299642263\n"
     ]
    }
   ],
   "source": [
    "print( \"final_test\",final_test_cv.mean())"
   ]
  },
  {
   "cell_type": "markdown",
   "metadata": {},
   "source": [
    "Lets check for class imbalance."
   ]
  },
  {
   "cell_type": "code",
   "execution_count": null,
   "metadata": {
    "scrolled": false
   },
   "outputs": [],
   "source": [
    "#tweets[\"catogory\"].value_counts()"
   ]
  },
  {
   "cell_type": "markdown",
   "metadata": {},
   "source": [
    "What is Class Imbalance?\n",
    "Class imbalance is a problem that occurs in machine learning classification problems. It merely tells that the target class’s frequency is highly imbalanced"
   ]
  },
  {
   "cell_type": "markdown",
   "metadata": {},
   "source": [
    "Improve Class Imbalance using Class Weights in Machine Learning"
   ]
  },
  {
   "cell_type": "markdown",
   "metadata": {},
   "source": [
    "we can modify the current training algorithm to take into account the skewed distribution of the classes. This can be achieved by giving different weights to both the majority and minority classes. The difference in weights will influence the classification of the classes during the training phase. "
   ]
  },
  {
   "cell_type": "code",
   "execution_count": null,
   "metadata": {
    "scrolled": true
   },
   "outputs": [],
   "source": [
    "# Evaluate the classifier on X_train_vectorized and y_train\n",
    "#final_cv = cross_val_score(baseline_model,X_train_final,y_train)\n",
    "#final_cv"
   ]
  },
  {
   "cell_type": "markdown",
   "metadata": {},
   "source": [
    "# 5. Evaluate a Final Model on the Test Set"
   ]
  },
  {
   "cell_type": "code",
   "execution_count": null,
   "metadata": {
    "scrolled": false
   },
   "outputs": [],
   "source": [
    "# Instantiate the final model \n",
    "#final_model = MultinomialNB()\n",
    "# Fit the model on train data set\n",
    "#final_model.fit(X_train_final,y_train)\n"
   ]
  },
  {
   "cell_type": "markdown",
   "metadata": {},
   "source": [
    "The performance increased when we use more features.\n",
    "We got 71% of accuracy."
   ]
  },
  {
   "cell_type": "code",
   "execution_count": 139,
   "metadata": {},
   "outputs": [],
   "source": [
    "#predictions\n",
    "y_train_pred = final_model.predict(X_train[\"tweet_text\"].values.astype('U'))\n",
    "y_test_pred  = final_model.predict(X_test[\"tweet_text\"].values.astype('U'))"
   ]
  },
  {
   "cell_type": "code",
   "execution_count": null,
   "metadata": {},
   "outputs": [],
   "source": [
    "# evaluate the final model\n",
    "#final_model.score(X_train_final,y_train)"
   ]
  },
  {
   "cell_type": "code",
   "execution_count": 140,
   "metadata": {
    "scrolled": true
   },
   "outputs": [
    {
     "name": "stdout",
     "output_type": "stream",
     "text": [
      "              precision    recall  f1-score   support\n",
      "\n",
      "           0       0.90      0.05      0.09       407\n",
      "           1       0.71      0.92      0.80      4050\n",
      "           2       0.72      0.44      0.55      2229\n",
      "\n",
      "    accuracy                           0.71      6686\n",
      "   macro avg       0.78      0.47      0.48      6686\n",
      "weighted avg       0.72      0.71      0.67      6686\n",
      "\n"
     ]
    }
   ],
   "source": [
    "# calculate metrics by using classfication report\n",
    "c_r = classification_report(y_train,y_train_pred)\n",
    "print(c_r)"
   ]
  },
  {
   "cell_type": "markdown",
   "metadata": {},
   "source": [
    "Lets evaluate the final model on test set."
   ]
  },
  {
   "cell_type": "code",
   "execution_count": 141,
   "metadata": {
    "scrolled": false
   },
   "outputs": [
    {
     "name": "stdout",
     "output_type": "stream",
     "text": [
      "              precision    recall  f1-score   support\n",
      "\n",
      "           0       0.86      0.04      0.07       162\n",
      "           1       0.67      0.90      0.77      1326\n",
      "           2       0.64      0.37      0.47       741\n",
      "\n",
      "    accuracy                           0.66      2229\n",
      "   macro avg       0.72      0.44      0.44      2229\n",
      "weighted avg       0.67      0.66      0.62      2229\n",
      "\n"
     ]
    }
   ],
   "source": [
    "# calculate metrics by using classfication report\n",
    "c_r = classification_report(y_test,y_test_pred)\n",
    "print(c_r)"
   ]
  },
  {
   "cell_type": "markdown",
   "metadata": {},
   "source": [
    "Precision, Recall, F-score, Accuracy. These are ways to measure the quality of a software which returns information about an analyzed document."
   ]
  },
  {
   "cell_type": "markdown",
   "metadata": {},
   "source": [
    "Precision:What percent of the predictions were correct?\n",
    "Precision = TP/(TP + FP)"
   ]
  },
  {
   "cell_type": "markdown",
   "metadata": {},
   "source": [
    "Recall:What percent of the positive cases did you catch?\n",
    "Recall = TP/(TP+FN) "
   ]
  },
  {
   "cell_type": "markdown",
   "metadata": {},
   "source": [
    "F-score (F-measure, F1 measure):F1What percent of positive predictions were correct?\n",
    "F1 Score = 2(Recall Precision) / (Recall + Precision)"
   ]
  },
  {
   "cell_type": "markdown",
   "metadata": {},
   "source": [
    "Create the Confusion Matrix\n",
    "\n",
    "Confusion Matrix for multiclass classification is used to calculate the performance of a Machine learning classification. It is represented in a matrix form.\n",
    "\n",
    "Confusion Matrix gives a comparison between Actual and predicted values.\n",
    "\n",
    "Use of the confusion_matrix() function found in sklearn.metrics"
   ]
  },
  {
   "cell_type": "markdown",
   "metadata": {},
   "source": [
    "How to calculate FN, FP, TN, TP :"
   ]
  },
  {
   "cell_type": "markdown",
   "metadata": {},
   "source": [
    "TP: The True positive value is where the actual value and predicted value are the same.\n",
    "\n",
    "FN: The False-negative value for a class will be the sum of values of corresponding rows except for the TP value.\n",
    "\n",
    "FP: The False-positive value for a class will be the sum of values of the corresponding column except for the TP value.\n",
    "\n",
    "TN: The True Negative value for a class will be the sum of values of all columns and rows except the values of that class that we are calculating the values for.\n",
    "\n",
    "Confusion Matrix allows us to measure Recall, Precision,\n",
    "Accuracy of the model."
   ]
  },
  {
   "cell_type": "markdown",
   "metadata": {},
   "source": [
    "###### Visualization for the confusion matrix\n",
    "Use of the plot_confusion_matrix function from sklearn.metrics"
   ]
  },
  {
   "cell_type": "code",
   "execution_count": 142,
   "metadata": {
    "scrolled": false
   },
   "outputs": [
    {
     "data": {
      "image/png": "[encoded data removed]",
      "text/plain": [
       "<Figure size 432x288 with 2 Axes>"
      ]
     },
     "metadata": {
      "needs_background": "light"
     },
     "output_type": "display_data"
    }
   ],
   "source": [
    "# Visualize the confusion matrix\n",
    "from sklearn.metrics import plot_confusion_matrix\n",
    "plot_confusion_matrix(final_model,X_test[\"tweet_text\"].values.astype('U'),y_test);\n"
   ]
  },
  {
   "cell_type": "markdown",
   "metadata": {},
   "source": [
    "# Evaluation:"
   ]
  },
  {
   "cell_type": "markdown",
   "metadata": {},
   "source": [
    "# Findings and Recommendations:"
   ]
  },
  {
   "cell_type": "code",
   "execution_count": null,
   "metadata": {},
   "outputs": [],
   "source": []
  }
 ],
 "metadata": {
  "kernelspec": {
   "display_name": "Python (learn-env)",
   "language": "python",
   "name": "learn-env"
  },
  "language_info": {
   "codemirror_mode": {
    "name": "ipython",
    "version": 3
   },
   "file_extension": ".py",
   "mimetype": "text/x-python",
   "name": "python",
   "nbconvert_exporter": "python",
   "pygments_lexer": "ipython3",
   "version": "3.8.5"
  }
 },
 "nbformat": 4,
 "nbformat_minor": 4
}
